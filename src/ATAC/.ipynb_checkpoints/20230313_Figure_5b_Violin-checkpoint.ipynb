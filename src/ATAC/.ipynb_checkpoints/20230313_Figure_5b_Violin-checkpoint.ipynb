{
 "cells": [
  {
   "cell_type": "code",
   "execution_count": 1,
   "id": "45ecc450",
   "metadata": {},
   "outputs": [],
   "source": [
    "import numpy as np\n",
    "import pandas as pd\n",
    "import matplotlib.pyplot as plt\n",
    "import matplotlib.colors as colors\n",
    "import matplotlib.cbook as cbook\n",
    "from matplotlib import cm\n",
    "import matplotlib.patches as mpatches\n",
    "import seaborn as sns\n",
    "chrom_list = ['chr'+str(i) for i in range(1,23)]\n",
    "chrom_list.append('chrX')\n",
    "\n",
    "from ATAC_plotting import *"
   ]
  },
  {
   "cell_type": "code",
   "execution_count": 3,
   "id": "190688d3",
   "metadata": {},
   "outputs": [
    {
     "data": {
      "text/plain": [
       "<matplotlib.collections.PathCollection at 0x2aaaef921f90>"
      ]
     },
     "execution_count": 3,
     "metadata": {},
     "output_type": "execute_result"
    },
    {
     "data": {
      "image/png": "[encoded data removed]",
      "text/plain": [
       "<Figure size 144x216 with 1 Axes>"
      ]
     },
     "metadata": {
      "needs_background": "light"
     },
     "output_type": "display_data"
    }
   ],
   "source": [
    "plt.rcParams[\"figure.figsize\"] = (2,3)\n",
    "fc_dict_bridge, m_bridge, i = getFC_dict(bridge_clones, int(10e6), 100)\n",
    "fc_dict_par, m_par, i = getFC_dict(par_list, int(10e6), 100)\n",
    "df = pd.DataFrame()\n",
    "df['z'] = pd.DataFrame(fc_dict_bridge).mean(axis=1)\n",
    "df['sample'] = 'Bridge'\n",
    "df\n",
    "\n",
    "df2 = pd.DataFrame()\n",
    "df2['z'] = pd.DataFrame(fc_dict_par).mean(axis=1)\n",
    "df2['sample'] = 'Parent'\n",
    "\n",
    "df_both = df.append(df2)\n",
    "df_both = df_both.reset_index(drop=True)\n",
    "\n",
    "fig, ax = plt.subplots()\n",
    "sns.violinplot(data=df_both, x=df_both['sample'], y=df_both['z'],\n",
    "               ax=ax, color='skyblue', order=['Parent','Bridge'])\n",
    "ax.set_ylabel('Normalized ATAC signal', fontsize=14)\n",
    "plt.scatter([0,1], [pd.DataFrame(m_par).mean(axis=1), pd.DataFrame(m_bridge).mean(axis=1)], c='red')\n",
    "# plt.savefig('fc_10Mb_rolling_100peak_cutoff.pdf', transparent=True, format='pdf')"
   ]
  },
  {
   "cell_type": "code",
   "execution_count": null,
   "id": "a0392fd1",
   "metadata": {},
   "outputs": [],
   "source": [
    "for window_size in [int(1e6), int(5e6), int(1e7)]:\n",
    "    plotSignal(window_size)"
   ]
  }
 ],
 "metadata": {
  "kernelspec": {
   "display_name": "Python 3 (ipykernel)",
   "language": "python",
   "name": "python3"
  },
  "language_info": {
   "codemirror_mode": {
    "name": "ipython",
    "version": 3
   },
   "file_extension": ".py",
   "mimetype": "text/x-python",
   "name": "python",
   "nbconvert_exporter": "python",
   "pygments_lexer": "ipython3",
   "version": "3.7.11"
  }
 },
 "nbformat": 4,
 "nbformat_minor": 5
}

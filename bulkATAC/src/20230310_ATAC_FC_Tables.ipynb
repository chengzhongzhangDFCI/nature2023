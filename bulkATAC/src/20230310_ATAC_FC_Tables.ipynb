{
 "cells": [
  {
   "cell_type": "code",
   "execution_count": 1,
   "id": "e07e3c16",
   "metadata": {},
   "outputs": [],
   "source": [
    "import numpy as np\n",
    "import pandas as pd\n",
    "import matplotlib.pyplot as plt\n",
    "import pickle as pkl\n",
    "import os\n",
    "chrom_list = ['chr'+str(i) for i in range(1,23)]\n",
    "chrom_list.append('chrX')"
   ]
  },
  {
   "cell_type": "code",
   "execution_count": 2,
   "id": "dcd984b1",
   "metadata": {},
   "outputs": [],
   "source": [
    "cn_fragments = pd.read_csv('../data/ATAC_frag_counts_CN_masked.txt', sep=' ', index_col=0).dropna()\n",
    "\n",
    "#Mask regions with DNA copy-number < 0.5\n",
    "cn_old = pd.read_csv('../data/ATAC_frag_counts_CN.txt', sep=' ', index_col=0).dropna()\n",
    "cn_old = cn_old[cn_old.min(axis=1)>0]\n",
    "\n",
    "mask = cn_old.index.isin(cn_fragments.index)\n",
    "cn_fragments = cn_fragments[cn_fragments.min(axis=1)>0]\n",
    "peaks = cn_fragments.index\n",
    "cn_fragments = cn_fragments.reset_index(drop=True)\n",
    "parse_ranges = lambda x: [i.split('-')[x] for i in peaks]\n",
    "chroms = pd.Series(parse_ranges(0))\n",
    "starts = pd.Series(parse_ranges(1)).astype('int')"
   ]
  },
  {
   "cell_type": "code",
   "execution_count": 3,
   "id": "c2ecce1a",
   "metadata": {},
   "outputs": [
    {
     "name": "stdout",
     "output_type": "stream",
     "text": [
      "B4\n",
      "E5\n",
      "E8\n",
      "F2\n",
      "F3\n",
      "F9\n",
      "K11\n",
      "N6\n",
      "N11\n",
      "O16\n",
      "F11\n",
      "K2\n",
      "par_avg\n"
     ]
    }
   ],
   "source": [
    "par_samples = ['par_'+str(i) for i in range(1,11)]\n",
    "cn_fragments['par_avg'] = cn_fragments[par_samples].mean(axis=1)\n",
    "sample_list = ['B4', 'E5', 'E8', 'F2', 'F3', 'F9', 'K11', 'N6', 'N11', 'O16', 'F11', 'K2', 'par_avg']\n",
    "\n",
    "for sample in sample_list:\n",
    "    print(sample)\n",
    "    sample_df = pd.DataFrame()\n",
    "    scaled_fname = sample+'_perm-scaled.txt'\n",
    "    if sample == 'par_avg':\n",
    "        scaled_fname = 'par_1_perm-scaled.txt'\n",
    "    scaled_fc = pd.read_csv(scaled_fname, sep='\\t', header=None)[mask]\n",
    "    scaled_fc = scaled_fc.reset_index(drop=True)[1]\n",
    "    for chrom in chrom_list:\n",
    "        chrom_fragments = cn_fragments.copy()[chroms==chrom]\n",
    "        chrom_starts  = starts.copy()[chroms==chrom]\n",
    "        chrom_bins = pd.Series(range(0, max(chrom_starts), int(1e6)))\n",
    "        bin_ids = np.digitize(chrom_starts, chrom_bins)\n",
    "        \n",
    "        chrom_fc = chrom_fragments.copy()[sample]/chrom_fragments.copy()['parent']\n",
    "        chrom_scaled = pd.DataFrame(scaled_fc)[chroms==chrom]\n",
    "        \n",
    "        fc_counts = chrom_fc.groupby(bin_ids).count()\n",
    "        fc_avg = chrom_fc.groupby(bin_ids).mean()\n",
    "        signal_avg = chrom_fragments[sample].groupby(bin_ids).sum()/chrom_fragments['parent'].groupby(bin_ids).sum()\n",
    "        avg_height = chrom_fragments.copy()['parent'].groupby(bin_ids).mean()\n",
    "        avg_scaled = chrom_scaled.copy().groupby(bin_ids).mean()\n",
    "        \n",
    "        in_bins = pd.Series([chrom_bins[i-1] for i in np.unique(bin_ids)])\n",
    "        \n",
    "        chrom_index = pd.Series([chrom+'-'+str(i) for i in in_bins])\n",
    "        \n",
    "        chrom_df = pd.DataFrame({'Peak-level_FC':fc_avg.values, \n",
    "                                 'Interval-level_FC':signal_avg.values, \n",
    "                                 'Perm-scaled_FC': avg_scaled[1].values,\n",
    "                                 'Average_Height_Parent':avg_height.values, \n",
    "                                 'Peak_count':fc_counts.values}, index=chrom_index)\n",
    "        \n",
    "        sample_df = sample_df.append(chrom_df)\n",
    "    sample_df['FC_centered'] = sample_df['Perm-scaled_FC']/np.median(sample_df['Perm-scaled_FC'])\n",
    "    #sample_df.to_csv(sample+'_FC_table_1Mb.txt', sep='\\t')"
   ]
  }
 ],
 "metadata": {
  "kernelspec": {
   "display_name": "Python 3 (ipykernel)",
   "language": "python",
   "name": "python3"
  },
  "language_info": {
   "codemirror_mode": {
    "name": "ipython",
    "version": 3
   },
   "file_extension": ".py",
   "mimetype": "text/x-python",
   "name": "python",
   "nbconvert_exporter": "python",
   "pygments_lexer": "ipython3",
   "version": "3.7.11"
  }
 },
 "nbformat": 4,
 "nbformat_minor": 5
}

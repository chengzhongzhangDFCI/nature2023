{
 "cells": [
  {
   "cell_type": "code",
   "execution_count": 1,
   "metadata": {},
   "outputs": [],
   "source": [
    "# import modules\n",
    "import pandas as pd\n",
    "import numpy as np\n",
    "import os \n",
    "import glob\n",
    "import matplotlib.pyplot as plt\n",
    "import csv"
   ]
  },
  {
   "cell_type": "code",
   "execution_count": 89,
   "metadata": {},
   "outputs": [],
   "source": [
    "data_folder = r'D:\\Analyzed_CellBio\\Stam\\210921IF_210710exp_Pom121'\n",
    "\n",
    "df = pd.read_excel(data_folder + os.sep + 'cov2_DNA_Pom121_NLS_H3K27.xlsx' )"
   ]
  },
  {
   "cell_type": "code",
   "execution_count": 92,
   "metadata": {},
   "outputs": [
    {
     "name": "stdout",
     "output_type": "stream",
     "text": [
      "110 110 110\n"
     ]
    }
   ],
   "source": [
    "CH_to_measure = 'CH2'\n",
    "\n",
    "\n",
    "df_CH = df[df['Label'].str.contains(CH_to_measure)]\n",
    "\n",
    "df_CH_MN = np.array(df_CH[df_CH['Label'].str.contains('MN')]['Mean'].to_list())\n",
    "df_CH_PN = np.array(df_CH[df_CH['Label'].str.contains('PN')]['Mean'].to_list())\n",
    "df_CH_BG = np.array(df_CH[df_CH['Label'].str.contains('BG')]['Mean'].to_list())\n",
    "\n",
    "df_normal_CH = (df_CH_MN - df_CH_BG)/(df_CH_PN - df_CH_BG)\n",
    "\n",
    "print(len(df_CH_MN),len(df_CH_PN),len(df_CH_BG))"
   ]
  },
  {
   "cell_type": "code",
   "execution_count": 93,
   "metadata": {},
   "outputs": [
    {
     "data": {
      "image/png": "[encoded data removed]",
      "text/plain": [
       "<Figure size 432x288 with 1 Axes>"
      ]
     },
     "metadata": {
      "needs_background": "light"
     },
     "output_type": "display_data"
    }
   ],
   "source": [
    "dist = plt.boxplot(df_normal_CH)"
   ]
  },
  {
   "cell_type": "code",
   "execution_count": 94,
   "metadata": {},
   "outputs": [],
   "source": [
    "data_folder = r'D:\\Analyzed_CellBio\\Stam\\211107IF_210709exp_Pom121'\n",
    "\n",
    "df2 = pd.read_excel(data_folder + os.sep + 'cov1_DNA_Pom121_NLS_PolS5.xlsx' )"
   ]
  },
  {
   "cell_type": "code",
   "execution_count": 86,
   "metadata": {},
   "outputs": [
    {
     "data": {
      "text/html": [
       "<div>\n",
       "<style scoped>\n",
       "    .dataframe tbody tr th:only-of-type {\n",
       "        vertical-align: middle;\n",
       "    }\n",
       "\n",
       "    .dataframe tbody tr th {\n",
       "        vertical-align: top;\n",
       "    }\n",
       "\n",
       "    .dataframe thead th {\n",
       "        text-align: right;\n",
       "    }\n",
       "</style>\n",
       "<table border=\"1\" class=\"dataframe\">\n",
       "  <thead>\n",
       "    <tr style=\"text-align: right;\">\n",
       "      <th></th>\n",
       "      <th>Index</th>\n",
       "      <th>Label</th>\n",
       "      <th>Area</th>\n",
       "      <th>Mean</th>\n",
       "      <th>Std</th>\n",
       "      <th>Min</th>\n",
       "      <th>Max</th>\n",
       "      <th>X</th>\n",
       "      <th>Y</th>\n",
       "      <th>Median</th>\n",
       "    </tr>\n",
       "  </thead>\n",
       "  <tbody>\n",
       "    <tr>\n",
       "      <th>0</th>\n",
       "      <td>1</td>\n",
       "      <td>CH1:MN:c:1/4 z:4/7 - RPE1 NLS-RFP mps1iRO 2h  ...</td>\n",
       "      <td>5.070</td>\n",
       "      <td>1684.275</td>\n",
       "      <td>766.023</td>\n",
       "      <td>376</td>\n",
       "      <td>3034</td>\n",
       "      <td>107.517</td>\n",
       "      <td>112.250</td>\n",
       "      <td>1744</td>\n",
       "    </tr>\n",
       "    <tr>\n",
       "      <th>1</th>\n",
       "      <td>2</td>\n",
       "      <td>CH1:PN:c:1/4 z:4/7 - RPE1 NLS-RFP mps1iRO 2h  ...</td>\n",
       "      <td>183.870</td>\n",
       "      <td>1228.627</td>\n",
       "      <td>365.945</td>\n",
       "      <td>371</td>\n",
       "      <td>3159</td>\n",
       "      <td>123.122</td>\n",
       "      <td>101.359</td>\n",
       "      <td>1200</td>\n",
       "    </tr>\n",
       "    <tr>\n",
       "      <th>2</th>\n",
       "      <td>3</td>\n",
       "      <td>CH1:BG:c:1/4 z:4/7 - RPE1 NLS-RFP mps1iRO 2h  ...</td>\n",
       "      <td>35.819</td>\n",
       "      <td>136.484</td>\n",
       "      <td>12.997</td>\n",
       "      <td>89</td>\n",
       "      <td>193</td>\n",
       "      <td>108.875</td>\n",
       "      <td>104.975</td>\n",
       "      <td>136</td>\n",
       "    </tr>\n",
       "    <tr>\n",
       "      <th>12</th>\n",
       "      <td>13</td>\n",
       "      <td>CH1:MN:c:1/4 z:5/7 - RPE1 NLS-RFP mps1iRO 2h  ...</td>\n",
       "      <td>4.730</td>\n",
       "      <td>537.749</td>\n",
       "      <td>139.655</td>\n",
       "      <td>316</td>\n",
       "      <td>933</td>\n",
       "      <td>180.749</td>\n",
       "      <td>49.279</td>\n",
       "      <td>533</td>\n",
       "    </tr>\n",
       "    <tr>\n",
       "      <th>13</th>\n",
       "      <td>14</td>\n",
       "      <td>CH1:PN:c:1/4 z:5/7 - RPE1 NLS-RFP mps1iRO 2h  ...</td>\n",
       "      <td>172.861</td>\n",
       "      <td>692.791</td>\n",
       "      <td>216.494</td>\n",
       "      <td>109</td>\n",
       "      <td>1552</td>\n",
       "      <td>176.212</td>\n",
       "      <td>39.639</td>\n",
       "      <td>684</td>\n",
       "    </tr>\n",
       "    <tr>\n",
       "      <th>...</th>\n",
       "      <td>...</td>\n",
       "      <td>...</td>\n",
       "      <td>...</td>\n",
       "      <td>...</td>\n",
       "      <td>...</td>\n",
       "      <td>...</td>\n",
       "      <td>...</td>\n",
       "      <td>...</td>\n",
       "      <td>...</td>\n",
       "      <td>...</td>\n",
       "    </tr>\n",
       "    <tr>\n",
       "      <th>649</th>\n",
       "      <td>658</td>\n",
       "      <td>CH1:PN:c:1/4 z:2/7 - RPE1 NLS-RFP mps1iRO 2h  ...</td>\n",
       "      <td>125.917</td>\n",
       "      <td>1641.274</td>\n",
       "      <td>540.280</td>\n",
       "      <td>392</td>\n",
       "      <td>3832</td>\n",
       "      <td>113.101</td>\n",
       "      <td>115.681</td>\n",
       "      <td>1593</td>\n",
       "    </tr>\n",
       "    <tr>\n",
       "      <th>650</th>\n",
       "      <td>659</td>\n",
       "      <td>CH1:BG:c:1/4 z:2/7 - RPE1 NLS-RFP mps1iRO 2h  ...</td>\n",
       "      <td>10.433</td>\n",
       "      <td>144.300</td>\n",
       "      <td>14.182</td>\n",
       "      <td>108</td>\n",
       "      <td>197</td>\n",
       "      <td>123.338</td>\n",
       "      <td>111.963</td>\n",
       "      <td>143</td>\n",
       "    </tr>\n",
       "    <tr>\n",
       "      <th>660</th>\n",
       "      <td>669</td>\n",
       "      <td>CH1:MN:c:1/4 z:2/7 - RPE1 NLS-RFP mps1iRO 2h  ...</td>\n",
       "      <td>5.892</td>\n",
       "      <td>1097.137</td>\n",
       "      <td>372.785</td>\n",
       "      <td>390</td>\n",
       "      <td>1943</td>\n",
       "      <td>93.192</td>\n",
       "      <td>135.703</td>\n",
       "      <td>1112</td>\n",
       "    </tr>\n",
       "    <tr>\n",
       "      <th>661</th>\n",
       "      <td>670</td>\n",
       "      <td>CH1:PN:c:1/4 z:2/7 - RPE1 NLS-RFP mps1iRO 2h  ...</td>\n",
       "      <td>153.039</td>\n",
       "      <td>1399.750</td>\n",
       "      <td>430.036</td>\n",
       "      <td>389</td>\n",
       "      <td>3363</td>\n",
       "      <td>90.012</td>\n",
       "      <td>128.851</td>\n",
       "      <td>1356</td>\n",
       "    </tr>\n",
       "    <tr>\n",
       "      <th>662</th>\n",
       "      <td>671</td>\n",
       "      <td>CH1:BG:c:1/4 z:2/7 - RPE1 NLS-RFP mps1iRO 2h  ...</td>\n",
       "      <td>19.235</td>\n",
       "      <td>136.215</td>\n",
       "      <td>12.575</td>\n",
       "      <td>87</td>\n",
       "      <td>180</td>\n",
       "      <td>98.963</td>\n",
       "      <td>132.438</td>\n",
       "      <td>136</td>\n",
       "    </tr>\n",
       "  </tbody>\n",
       "</table>\n",
       "<p>168 rows × 10 columns</p>\n",
       "</div>"
      ],
      "text/plain": [
       "     Index                                              Label     Area  \\\n",
       "0        1  CH1:MN:c:1/4 z:4/7 - RPE1 NLS-RFP mps1iRO 2h  ...    5.070   \n",
       "1        2  CH1:PN:c:1/4 z:4/7 - RPE1 NLS-RFP mps1iRO 2h  ...  183.870   \n",
       "2        3  CH1:BG:c:1/4 z:4/7 - RPE1 NLS-RFP mps1iRO 2h  ...   35.819   \n",
       "12      13  CH1:MN:c:1/4 z:5/7 - RPE1 NLS-RFP mps1iRO 2h  ...    4.730   \n",
       "13      14  CH1:PN:c:1/4 z:5/7 - RPE1 NLS-RFP mps1iRO 2h  ...  172.861   \n",
       "..     ...                                                ...      ...   \n",
       "649    658  CH1:PN:c:1/4 z:2/7 - RPE1 NLS-RFP mps1iRO 2h  ...  125.917   \n",
       "650    659  CH1:BG:c:1/4 z:2/7 - RPE1 NLS-RFP mps1iRO 2h  ...   10.433   \n",
       "660    669  CH1:MN:c:1/4 z:2/7 - RPE1 NLS-RFP mps1iRO 2h  ...    5.892   \n",
       "661    670  CH1:PN:c:1/4 z:2/7 - RPE1 NLS-RFP mps1iRO 2h  ...  153.039   \n",
       "662    671  CH1:BG:c:1/4 z:2/7 - RPE1 NLS-RFP mps1iRO 2h  ...   19.235   \n",
       "\n",
       "         Mean      Std  Min   Max        X        Y  Median  \n",
       "0    1684.275  766.023  376  3034  107.517  112.250    1744  \n",
       "1    1228.627  365.945  371  3159  123.122  101.359    1200  \n",
       "2     136.484   12.997   89   193  108.875  104.975     136  \n",
       "12    537.749  139.655  316   933  180.749   49.279     533  \n",
       "13    692.791  216.494  109  1552  176.212   39.639     684  \n",
       "..        ...      ...  ...   ...      ...      ...     ...  \n",
       "649  1641.274  540.280  392  3832  113.101  115.681    1593  \n",
       "650   144.300   14.182  108   197  123.338  111.963     143  \n",
       "660  1097.137  372.785  390  1943   93.192  135.703    1112  \n",
       "661  1399.750  430.036  389  3363   90.012  128.851    1356  \n",
       "662   136.215   12.575   87   180   98.963  132.438     136  \n",
       "\n",
       "[168 rows x 10 columns]"
      ]
     },
     "execution_count": 86,
     "metadata": {},
     "output_type": "execute_result"
    }
   ],
   "source": [
    "df_CH"
   ]
  },
  {
   "cell_type": "code",
   "execution_count": 95,
   "metadata": {},
   "outputs": [
    {
     "name": "stdout",
     "output_type": "stream",
     "text": [
      "56 56 56\n"
     ]
    }
   ],
   "source": [
    "CH_to_measure = 'CH2'\n",
    "\n",
    "\n",
    "df_CH = df2[df2['Label'].str.contains(CH_to_measure)]\n",
    "\n",
    "df_CH_MN = np.array(df_CH[df_CH['Label'].str.contains('MN')]['Mean'].to_list())\n",
    "df_CH_PN = np.array(df_CH[df_CH['Label'].str.contains('PN')]['Mean'].to_list())\n",
    "df_CH_BG = np.array(df_CH[df_CH['Label'].str.contains('BG')]['Mean'].to_list())\n",
    "\n",
    "#df_normal_CH = (df_CH_MN - df_CH_BG)/(df_CH_PN - df_CH_BG)\n",
    "\n",
    "print(len(df_CH_MN),len(df_CH_PN),len(df_CH_BG))"
   ]
  },
  {
   "cell_type": "code",
   "execution_count": 96,
   "metadata": {},
   "outputs": [
    {
     "data": {
      "image/png": "[encoded data removed]",
      "text/plain": [
       "<Figure size 432x288 with 1 Axes>"
      ]
     },
     "metadata": {
      "needs_background": "light"
     },
     "output_type": "display_data"
    }
   ],
   "source": [
    "dist = plt.boxplot(df_normal_CH)"
   ]
  }
 ],
 "metadata": {
  "kernelspec": {
   "display_name": "Python 3",
   "language": "python",
   "name": "python3"
  },
  "language_info": {
   "codemirror_mode": {
    "name": "ipython",
    "version": 3
   },
   "file_extension": ".py",
   "mimetype": "text/x-python",
   "name": "python",
   "nbconvert_exporter": "python",
   "pygments_lexer": "ipython3",
   "version": "3.7.6"
  }
 },
 "nbformat": 4,
 "nbformat_minor": 4
}

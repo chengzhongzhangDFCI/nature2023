{
 "cells": [
  {
   "cell_type": "markdown",
   "metadata": {},
   "source": [
    "# 1. Import packages"
   ]
  },
  {
   "cell_type": "code",
   "execution_count": 1,
   "metadata": {},
   "outputs": [],
   "source": [
    "import numpy as np\n",
    "import matplotlib.pyplot as plt\n",
    "from skimage import io\n",
    "from skimage import data\n",
    "import skimage\n",
    "from skimage.filters.thresholding import threshold_li,threshold_local,threshold_otsu\n",
    "from skimage.morphology import erosion, dilation, opening, closing, white_tophat, remove_small_objects, ball\n",
    "from skimage.morphology import disk\n",
    "from scipy import ndimage as ndi\n",
    "import sys,os, glob\n",
    "\n",
    "#import skimage.filters.median\n",
    "\n",
    "#import skimage.segmentation as seg\n",
    "#import skimage.filters as filters\n",
    "#import skimage.draw as draw\n",
    "#import skimage.color as color\n",
    "\n",
    "#from skimage.filters.thresholding import _cross_entropy\n",
    "#from skimage.morphology import black_tophat, skeletonize, convex_hull_image\n",
    "\n",
    "\n",
    "#pip install nd2reader_required for nd2 file reading\n",
    "from nd2reader import ND2Reader\n",
    "\n",
    "import pandas as pd"
   ]
  },
  {
   "cell_type": "code",
   "execution_count": 2,
   "metadata": {},
   "outputs": [],
   "source": [
    "import cellpose\n",
    "from cellpose import models"
   ]
  },
  {
   "cell_type": "code",
   "execution_count": 3,
   "metadata": {},
   "outputs": [],
   "source": [
    "from tqdm import tqdm"
   ]
  },
  {
   "cell_type": "markdown",
   "metadata": {},
   "source": [
    "# 2. Define data parameters"
   ]
  },
  {
   "cell_type": "code",
   "execution_count": 4,
   "metadata": {},
   "outputs": [
    {
     "data": {
      "text/plain": [
       "['D:\\\\Analyzed_CellBio\\\\Stam\\\\40x_MNbody_analysis\\\\220609IF_210502exp_p53ko_fixed_40x\\\\220502_p53ko_16days\\\\220502 RPE1 p53ko noco 16d aMDC1rb-488 H3K27ac-561_007.nd2']"
      ]
     },
     "execution_count": 4,
     "metadata": {},
     "output_type": "execute_result"
    }
   ],
   "source": [
    "# Common parameters for loading the image files of interest\n",
    "\n",
    "# for 4 channels nd2 images: channel index order is 1-2-3-4, which is the order as ch405-ch488-ch560-ch647\n",
    "\n",
    "\n",
    "# analysis done\n",
    "num_of_ch = 3\n",
    "\n",
    "# Replace protein/dna label name in the \"xxx\" below for the indicated channel index (make sure the order is correct)\n",
    "# For example: ch_dict = {\"dna\":1,\"rpa/rpa2\":2,\"mdc1\":3,\"pol2S5\":4} if rpa/rpa2 was used for ch488\n",
    "# Make sure the label name is the same as the factor/dna key used in the line below\n",
    "ch_dict = {\"dna\":1,\"Mdc1\":2,\"other\":3}\n",
    "\n",
    "# If use mdc1 as the factor for region segementation\n",
    "# If use dna/dapi as the key channel for nucleus segmentation\n",
    "mdc1_key =  \"Mdc1\"\n",
    "dna_key = 'dna'  # temporary fix since DNA is not good\n",
    "other_key=\"other\"\n",
    "\n",
    "# Whether to analyze the sub-area masks defined by the second marker within the first marker (e.g., h2ax within the mdc) \n",
    "analyze_ch_for_2nd_marker_dict = {1:True,2:True,3:False}\n",
    "\n",
    "# Replace the data directory in the \"\"; * is the final path level where images are located\n",
    "# For example: data_save_folder = r\"F:\\XXX\\AAA\\BBB\\*\"\n",
    "\n",
    "# define well here\n",
    "# candidate wells: 3, 4, 5, 6, 7\n",
    "#well_name = 'well3' # done\n",
    "#well_name = 'well4' #done\n",
    "#well_name = 'well5' #done\n",
    "#well_name = 'well6' #done\n",
    "#well_name = 'well7' #done\n",
    "\n",
    "\n",
    "############################# CHANGE WELL FOR DATA OF INTEREST ABVOE!##########################################\n",
    "\n",
    "############################# CHANGE WELL FOR DATA OF INTEREST BELOW!##########################################\n",
    "data_output_folder = r\"D:\\Analyzed_CellBio\\Stam\\40x_MNbody_analysis\\220609IF_210502exp_p53ko_fixed_40x\\220502_p53ko_16days\"\n",
    "data_main_folder =os.path.join(data_output_folder, '*')\n",
    "############################# CHANGE WELL FOR DATA OF INTEREST HERE!##########################################\n",
    "\n",
    "\n",
    "\n",
    "data_input_folder = data_main_folder\n",
    "data_files = [file for file in glob.glob(data_input_folder) if file[-3:]==\"nd2\"]\n",
    "\n",
    "data_files"
   ]
  },
  {
   "cell_type": "code",
   "execution_count": 5,
   "metadata": {},
   "outputs": [],
   "source": [
    "# analyze all ND file or not\n",
    "# also used as bool setting for adjusting code indendation between different pipelines\n",
    "_analyze_all_nd = True\n",
    "#_analyze_all_nd = True\n",
    "\n",
    "# print progress\n",
    "_verbose = True\n",
    "\n",
    "# bad fovs to exclude (e.g., out of focus nd file) if analyze all nd file\n",
    "# {nd_file_index : [fov_indexes]}\n",
    "if _analyze_all_nd:\n",
    "    #fov_to_exclude_dict = {1:[4,5],5:[2,3]}\n",
    "    fov_to_exclude_dict = {1:[16]}\n",
    "    \n",
    "\n",
    "# The pixel size for excluding small 53BP_body;\n",
    "# Replace *300* with other number desired or *0* if do not want to perform 53BP1 body foci exclusion durng analysis\n",
    "# Desired foci exclusion can still be performed post-hoc in the resulting dataframe after analysis\n",
    "# use 200 for 40x images\n",
    "small_53BP_size = 200\n",
    "\n",
    "# Other parameteres for image analysis\n",
    "# border pixel removal for h2ax (or other markers within sub-mdc1 area) positive or less-positive area\n",
    "h2ax_border_size_filter = 1\n",
    "\n",
    "# aproximate size for each cell (nuclei)\n",
    "nuclei_filter = 1000\n",
    "\n",
    "# for removing tiny nucleoli areas\n",
    "small_nucleoli_dirt = 10\n",
    "\n",
    "# erosion factor for dna segmenation\n",
    "erosion_factor_dna = 5\n",
    "\n",
    "\n",
    "# std ratio for positive mdc or h2ax, etc calling\n",
    "h2ax_std_ratio = 3\n",
    "mdc_std_ratio = 2\n",
    "\n",
    "# if analyze cell of interest based on annotation:\n",
    "# the approx distance radius range between the given center and the segmenated center\n",
    "coord_dist = 100\n",
    "# if if perform image cropping covering the cell of interest or not\n",
    "crop_image =  True\n",
    "raw_image_size = [2048,2048]\n",
    "\n",
    "# if adjust the focal plane using a smaller crop range than the range used for actual analysis (aka cell size)\n",
    "narrow_adjust = True\n",
    "# define the narrowed ratio of the initial crop\n",
    "narrow_ratio = 0.1\n",
    "\n",
    "\n",
    "# if re-adjust the focal plane based on cell of interest\n",
    "adjust_z_for_cell = False\n",
    "\n",
    "\n",
    "# the cropped image size if performing image cropping covering the cell of interest\n",
    "cell_size =400\n",
    "\n",
    "# the percentile for Pol2 to segment the nucleoli area\n",
    "po2_neg_percentile = 10\n",
    "\n",
    "# use DAPI channel to do nuclei segmentation or not\n",
    "use_dna_nuclei = True # shall be good since local dapi in the center is okay\n",
    "\n",
    "# the alternative channel key if using other channel for nuclei segmentation\n",
    "if not use_dna_nuclei:\n",
    "    dna_key = pol2_key\n",
    "    \n",
    "    \n",
    "# specify the region from the whole fov where analysis would be performed\n",
    "search_xylim = [0,2048]  # Note that DNA channel from the data often is not evenly illuminated\n",
    "\n",
    "\n",
    "# if save the cropped raw images or not\n",
    "save_crop_raw_image = True\n",
    "\n"
   ]
  },
  {
   "cell_type": "markdown",
   "metadata": {},
   "source": [
    "# 3. Analyze data"
   ]
  },
  {
   "cell_type": "code",
   "execution_count": 6,
   "metadata": {},
   "outputs": [
    {
     "name": "stderr",
     "output_type": "stream",
     "text": [
      "\r",
      "  0%|                                                                                           | 0/75 [00:00<?, ?it/s]"
     ]
    },
    {
     "name": "stdout",
     "output_type": "stream",
     "text": [
      "-- Generate 3D nuclei segmentation to find cells.\n"
     ]
    },
    {
     "name": "stderr",
     "output_type": "stream",
     "text": [
      "C:\\Users\\Shiwei\\AppData\\Roaming\\Python\\Python37\\site-packages\\skimage\\util\\dtype.py:541: UserWarning: Downcasting int32 to uint8 without scaling because max value 7 fits in uint8\n",
      "  return _convert(image, np.uint8, force_copy)\n"
     ]
    },
    {
     "name": "stdout",
     "output_type": "stream",
     "text": [
      "-- Processing Cell#1 from the image\n",
      "-- Analyzing the plane 5 in fov 1.\n",
      "-- Processing Cell#2 from the image\n"
     ]
    },
    {
     "name": "stderr",
     "output_type": "stream",
     "text": [
      "c:\\programdata\\anaconda3\\lib\\site-packages\\numpy\\core\\fromnumeric.py:3441: RuntimeWarning: Mean of empty slice.\n",
      "  out=out, **kwargs)\n",
      "c:\\programdata\\anaconda3\\lib\\site-packages\\numpy\\core\\_methods.py:189: RuntimeWarning: invalid value encountered in double_scalars\n",
      "  ret = ret.dtype.type(ret / rcount)\n"
     ]
    },
    {
     "name": "stdout",
     "output_type": "stream",
     "text": [
      "-- Analyzing the plane 5 in fov 1.\n",
      "-- Processing Cell#3 from the image\n",
      "-- Analyzing the plane 5 in fov 1.\n",
      "-- Processing Cell#4 from the image\n",
      "-- Analyzing the plane 5 in fov 1.\n",
      "-- Processing Cell#5 from the image\n",
      "-- Analyzing the plane 5 in fov 1.\n",
      "-- Processing Cell#6 from the image\n",
      "-- Analyzing the plane 5 in fov 1.\n",
      "-- Processing Cell#7 from the image\n"
     ]
    },
    {
     "name": "stderr",
     "output_type": "stream",
     "text": [
      "\r",
      "  1%|█                                                                                  | 1/75 [00:29<35:58, 29.17s/it]"
     ]
    },
    {
     "name": "stdout",
     "output_type": "stream",
     "text": [
      "-- Analyzing the plane 5 in fov 1.\n",
      "-- Generate 3D nuclei segmentation to find cells.\n"
     ]
    },
    {
     "name": "stderr",
     "output_type": "stream",
     "text": [
      "C:\\Users\\Shiwei\\AppData\\Roaming\\Python\\Python37\\site-packages\\skimage\\util\\dtype.py:541: UserWarning: Downcasting int32 to uint8 without scaling because max value 19 fits in uint8\n",
      "  return _convert(image, np.uint8, force_copy)\n"
     ]
    },
    {
     "name": "stdout",
     "output_type": "stream",
     "text": [
      "-- Processing Cell#1 from the image\n",
      "-- Analyzing the plane 6 in fov 2.\n",
      "-- Processing Cell#2 from the image\n",
      "-- Analyzing the plane 6 in fov 2.\n",
      "-- Processing Cell#3 from the image\n",
      "-- Analyzing the plane 6 in fov 2.\n",
      "-- Processing Cell#4 from the image\n",
      "-- Analyzing the plane 5 in fov 2.\n",
      "-- Processing Cell#5 from the image\n",
      "-- Analyzing the plane 6 in fov 2.\n",
      "-- Processing Cell#6 from the image\n",
      "-- Analyzing the plane 6 in fov 2.\n",
      "-- Processing Cell#7 from the image\n",
      "-- Analyzing the plane 5 in fov 2.\n",
      "-- Processing Cell#8 from the image\n",
      "-- Analyzing the plane 5 in fov 2.\n",
      "-- Processing Cell#9 from the image\n",
      "-- Analyzing the plane 6 in fov 2.\n",
      "-- Processing Cell#10 from the image\n",
      "-- Analyzing the plane 5 in fov 2.\n",
      "-- Processing Cell#11 from the image\n",
      "-- Analyzing the plane 5 in fov 2.\n",
      "-- Processing Cell#12 from the image\n",
      "-- Analyzing the plane 5 in fov 2.\n",
      "-- Processing Cell#13 from the image\n",
      "-- Analyzing the plane 5 in fov 2.\n",
      "-- Processing Cell#14 from the image\n",
      "-- Analyzing the plane 5 in fov 2.\n",
      "-- Processing Cell#15 from the image\n",
      "-- Analyzing the plane 5 in fov 2.\n",
      "-- Processing Cell#16 from the image\n",
      "-- Analyzing the plane 5 in fov 2.\n",
      "-- Processing Cell#17 from the image\n",
      "-- Analyzing the plane 5 in fov 2.\n",
      "-- Processing Cell#18 from the image\n",
      "-- Analyzing the plane 5 in fov 2.\n",
      "-- Processing Cell#19 from the image\n"
     ]
    },
    {
     "name": "stderr",
     "output_type": "stream",
     "text": [
      "\r",
      "  3%|██▏                                                                                | 2/75 [01:08<42:34, 35.00s/it]"
     ]
    },
    {
     "name": "stdout",
     "output_type": "stream",
     "text": [
      "-- Analyzing the plane 5 in fov 2.\n",
      "-- Generate 3D nuclei segmentation to find cells.\n"
     ]
    },
    {
     "name": "stderr",
     "output_type": "stream",
     "text": [
      "C:\\Users\\Shiwei\\AppData\\Roaming\\Python\\Python37\\site-packages\\skimage\\util\\dtype.py:541: UserWarning: Downcasting int32 to uint8 without scaling because max value 13 fits in uint8\n",
      "  return _convert(image, np.uint8, force_copy)\n"
     ]
    },
    {
     "name": "stdout",
     "output_type": "stream",
     "text": [
      "-- Processing Cell#1 from the image\n",
      "-- Analyzing the plane 6 in fov 3.\n",
      "-- Processing Cell#2 from the image\n",
      "-- Analyzing the plane 6 in fov 3.\n",
      "-- Processing Cell#3 from the image\n",
      "-- Analyzing the plane 6 in fov 3.\n",
      "-- Processing Cell#4 from the image\n",
      "-- Analyzing the plane 5 in fov 3.\n",
      "-- Processing Cell#5 from the image\n",
      "-- Analyzing the plane 6 in fov 3.\n",
      "-- Processing Cell#6 from the image\n",
      "-- Analyzing the plane 6 in fov 3.\n",
      "-- Processing Cell#7 from the image\n",
      "-- Analyzing the plane 6 in fov 3.\n",
      "-- Processing Cell#8 from the image\n",
      "-- Analyzing the plane 6 in fov 3.\n",
      "-- Processing Cell#9 from the image\n",
      "-- Analyzing the plane 6 in fov 3.\n",
      "-- Processing Cell#10 from the image\n",
      "-- Analyzing the plane 6 in fov 3.\n",
      "-- Processing Cell#11 from the image\n",
      "-- Analyzing the plane 6 in fov 3.\n",
      "-- Processing Cell#12 from the image\n",
      "-- Analyzing the plane 5 in fov 3.\n",
      "-- Processing Cell#13 from the image\n",
      "-- Analyzing the plane 5 in fov 3.\n"
     ]
    },
    {
     "name": "stderr",
     "output_type": "stream",
     "text": [
      "\r",
      "  4%|███▎                                                                               | 3/75 [01:43<42:03, 35.06s/it]"
     ]
    },
    {
     "name": "stdout",
     "output_type": "stream",
     "text": [
      "-- Generate 3D nuclei segmentation to find cells.\n"
     ]
    },
    {
     "name": "stderr",
     "output_type": "stream",
     "text": [
      "C:\\Users\\Shiwei\\AppData\\Roaming\\Python\\Python37\\site-packages\\skimage\\util\\dtype.py:541: UserWarning: Downcasting int32 to uint8 without scaling because max value 14 fits in uint8\n",
      "  return _convert(image, np.uint8, force_copy)\n"
     ]
    },
    {
     "name": "stdout",
     "output_type": "stream",
     "text": [
      "-- Processing Cell#1 from the image\n",
      "-- Analyzing the plane 6 in fov 4.\n",
      "-- Processing Cell#2 from the image\n",
      "-- Analyzing the plane 6 in fov 4.\n",
      "-- Processing Cell#3 from the image\n",
      "-- Analyzing the plane 6 in fov 4.\n",
      "-- Processing Cell#4 from the image\n",
      "-- Analyzing the plane 5 in fov 4.\n",
      "-- Processing Cell#5 from the image\n",
      "-- Analyzing the plane 6 in fov 4.\n",
      "-- Processing Cell#6 from the image\n",
      "-- Analyzing the plane 6 in fov 4.\n",
      "-- Processing Cell#7 from the image\n",
      "-- Analyzing the plane 6 in fov 4.\n",
      "-- Processing Cell#8 from the image\n",
      "-- Analyzing the plane 6 in fov 4.\n",
      "-- Processing Cell#9 from the image\n",
      "-- Analyzing the plane 5 in fov 4.\n",
      "-- Processing Cell#10 from the image\n",
      "-- Analyzing the plane 5 in fov 4.\n",
      "-- Processing Cell#11 from the image\n",
      "-- Analyzing the plane 5 in fov 4.\n",
      "-- Processing Cell#12 from the image\n",
      "-- Analyzing the plane 5 in fov 4.\n",
      "-- Processing Cell#13 from the image\n",
      "-- Analyzing the plane 5 in fov 4.\n",
      "-- Processing Cell#14 from the image\n"
     ]
    },
    {
     "name": "stderr",
     "output_type": "stream",
     "text": [
      "\r",
      "  5%|████▍                                                                              | 4/75 [02:22<43:36, 36.86s/it]"
     ]
    },
    {
     "name": "stdout",
     "output_type": "stream",
     "text": [
      "-- Analyzing the plane 5 in fov 4.\n",
      "-- Generate 3D nuclei segmentation to find cells.\n"
     ]
    },
    {
     "name": "stderr",
     "output_type": "stream",
     "text": [
      "C:\\Users\\Shiwei\\AppData\\Roaming\\Python\\Python37\\site-packages\\skimage\\util\\dtype.py:541: UserWarning: Downcasting int32 to uint8 without scaling because max value 21 fits in uint8\n",
      "  return _convert(image, np.uint8, force_copy)\n"
     ]
    },
    {
     "name": "stdout",
     "output_type": "stream",
     "text": [
      "-- Processing Cell#1 from the image\n",
      "-- Analyzing the plane 7 in fov 5.\n",
      "-- Processing Cell#2 from the image\n",
      "-- Analyzing the plane 7 in fov 5.\n",
      "-- Processing Cell#3 from the image\n",
      "-- Analyzing the plane 7 in fov 5.\n",
      "-- Processing Cell#4 from the image\n",
      "-- Analyzing the plane 7 in fov 5.\n",
      "-- Processing Cell#5 from the image\n",
      "-- Analyzing the plane 7 in fov 5.\n",
      "-- Processing Cell#6 from the image\n",
      "-- Analyzing the plane 7 in fov 5.\n",
      "-- Processing Cell#7 from the image\n",
      "-- Analyzing the plane 7 in fov 5.\n",
      "-- Processing Cell#8 from the image\n",
      "-- Analyzing the plane 7 in fov 5.\n",
      "-- Processing Cell#9 from the image\n",
      "-- Analyzing the plane 7 in fov 5.\n",
      "-- Processing Cell#10 from the image\n",
      "-- Analyzing the plane 7 in fov 5.\n",
      "-- Processing Cell#11 from the image\n",
      "-- Analyzing the plane 7 in fov 5.\n",
      "-- Processing Cell#12 from the image\n",
      "-- Analyzing the plane 7 in fov 5.\n",
      "-- Processing Cell#13 from the image\n",
      "-- Analyzing the plane 7 in fov 5.\n",
      "-- Processing Cell#14 from the image\n",
      "-- Analyzing the plane 7 in fov 5.\n",
      "-- Processing Cell#15 from the image\n",
      "-- Analyzing the plane 7 in fov 5.\n",
      "-- Processing Cell#16 from the image\n",
      "-- Analyzing the plane 7 in fov 5.\n",
      "-- Processing Cell#17 from the image\n",
      "-- Analyzing the plane 7 in fov 5.\n",
      "-- Processing Cell#18 from the image\n",
      "-- Analyzing the plane 7 in fov 5.\n",
      "-- Processing Cell#19 from the image\n",
      "-- Analyzing the plane 7 in fov 5.\n",
      "-- Processing Cell#20 from the image\n",
      "-- Analyzing the plane 7 in fov 5.\n",
      "-- Processing Cell#21 from the image\n"
     ]
    },
    {
     "name": "stderr",
     "output_type": "stream",
     "text": [
      "\r",
      "  7%|█████▌                                                                             | 5/75 [03:11<48:00, 41.15s/it]"
     ]
    },
    {
     "name": "stdout",
     "output_type": "stream",
     "text": [
      "-- Analyzing the plane 6 in fov 5.\n",
      "-- Generate 3D nuclei segmentation to find cells.\n",
      "-- Processing Cell#1 from the image\n",
      "-- Analyzing the plane 6 in fov 6.\n",
      "-- Processing Cell#2 from the image\n",
      "-- Analyzing the plane 6 in fov 6.\n",
      "-- Processing Cell#3 from the image\n",
      "-- Analyzing the plane 6 in fov 6.\n",
      "-- Processing Cell#4 from the image\n",
      "-- Analyzing the plane 6 in fov 6.\n",
      "-- Processing Cell#5 from the image\n",
      "-- Analyzing the plane 6 in fov 6.\n",
      "-- Processing Cell#6 from the image\n",
      "-- Analyzing the plane 6 in fov 6.\n",
      "-- Processing Cell#7 from the image\n",
      "-- Analyzing the plane 6 in fov 6.\n",
      "-- Processing Cell#8 from the image\n",
      "-- Analyzing the plane 5 in fov 6.\n",
      "-- Processing Cell#9 from the image\n",
      "-- Analyzing the plane 6 in fov 6.\n",
      "-- Processing Cell#10 from the image\n",
      "-- Analyzing the plane 6 in fov 6.\n",
      "-- Processing Cell#11 from the image\n",
      "-- Analyzing the plane 5 in fov 6.\n",
      "-- Processing Cell#12 from the image\n",
      "-- Analyzing the plane 6 in fov 6.\n",
      "-- Processing Cell#13 from the image\n"
     ]
    },
    {
     "name": "stderr",
     "output_type": "stream",
     "text": [
      "\r",
      "  8%|██████▋                                                                            | 6/75 [03:51<46:53, 40.78s/it]"
     ]
    },
    {
     "name": "stdout",
     "output_type": "stream",
     "text": [
      "-- Analyzing the plane 5 in fov 6.\n",
      "-- Generate 3D nuclei segmentation to find cells.\n",
      "-- Processing Cell#1 from the image\n",
      "-- Analyzing the plane 6 in fov 7.\n",
      "-- Processing Cell#2 from the image\n",
      "-- Analyzing the plane 5 in fov 7.\n",
      "-- Processing Cell#3 from the image\n",
      "-- Analyzing the plane 5 in fov 7.\n",
      "-- Processing Cell#4 from the image\n",
      "-- Analyzing the plane 5 in fov 7.\n",
      "-- Processing Cell#5 from the image\n",
      "-- Analyzing the plane 5 in fov 7.\n",
      "-- Processing Cell#6 from the image\n",
      "-- Analyzing the plane 5 in fov 7.\n",
      "-- Processing Cell#7 from the image\n",
      "-- Analyzing the plane 5 in fov 7.\n",
      "-- Processing Cell#8 from the image\n",
      "-- Analyzing the plane 4 in fov 7.\n",
      "-- Processing Cell#9 from the image\n",
      "-- Analyzing the plane 4 in fov 7.\n",
      "-- Processing Cell#10 from the image\n",
      "-- Analyzing the plane 4 in fov 7.\n",
      "-- Processing Cell#11 from the image\n",
      "-- Analyzing the plane 4 in fov 7.\n",
      "-- Processing Cell#12 from the image\n",
      "-- Analyzing the plane 4 in fov 7.\n",
      "-- Processing Cell#13 from the image\n",
      "-- Analyzing the plane 5 in fov 7.\n",
      "-- Processing Cell#14 from the image\n"
     ]
    },
    {
     "name": "stderr",
     "output_type": "stream",
     "text": [
      "\r",
      "  9%|███████▋                                                                           | 7/75 [04:30<45:15, 39.94s/it]"
     ]
    },
    {
     "name": "stdout",
     "output_type": "stream",
     "text": [
      "-- Analyzing the plane 4 in fov 7.\n",
      "-- Generate 3D nuclei segmentation to find cells.\n"
     ]
    },
    {
     "name": "stderr",
     "output_type": "stream",
     "text": [
      "C:\\Users\\Shiwei\\AppData\\Roaming\\Python\\Python37\\site-packages\\skimage\\util\\dtype.py:541: UserWarning: Downcasting int32 to uint8 without scaling because max value 11 fits in uint8\n",
      "  return _convert(image, np.uint8, force_copy)\n"
     ]
    },
    {
     "name": "stdout",
     "output_type": "stream",
     "text": [
      "-- Processing Cell#1 from the image\n",
      "-- Analyzing the plane 6 in fov 8.\n",
      "-- Processing Cell#2 from the image\n",
      "-- Analyzing the plane 6 in fov 8.\n",
      "-- Processing Cell#3 from the image\n",
      "-- Analyzing the plane 6 in fov 8.\n",
      "-- Processing Cell#4 from the image\n",
      "-- Analyzing the plane 6 in fov 8.\n",
      "-- Processing Cell#5 from the image\n",
      "-- Analyzing the plane 6 in fov 8.\n",
      "-- Processing Cell#6 from the image\n",
      "-- Analyzing the plane 6 in fov 8.\n",
      "-- Processing Cell#7 from the image\n",
      "-- Analyzing the plane 6 in fov 8.\n",
      "-- Processing Cell#8 from the image\n",
      "-- Analyzing the plane 6 in fov 8.\n",
      "-- Processing Cell#9 from the image\n",
      "-- Analyzing the plane 5 in fov 8.\n",
      "-- Processing Cell#10 from the image\n",
      "-- Analyzing the plane 5 in fov 8.\n",
      "-- Processing Cell#11 from the image\n"
     ]
    },
    {
     "name": "stderr",
     "output_type": "stream",
     "text": [
      "\r",
      " 11%|████████▊                                                                          | 8/75 [05:07<43:51, 39.28s/it]"
     ]
    },
    {
     "name": "stdout",
     "output_type": "stream",
     "text": [
      "-- Analyzing the plane 5 in fov 8.\n",
      "-- Generate 3D nuclei segmentation to find cells.\n"
     ]
    },
    {
     "name": "stderr",
     "output_type": "stream",
     "text": [
      "C:\\Users\\Shiwei\\AppData\\Roaming\\Python\\Python37\\site-packages\\skimage\\util\\dtype.py:541: UserWarning: Downcasting int32 to uint8 without scaling because max value 26 fits in uint8\n",
      "  return _convert(image, np.uint8, force_copy)\n"
     ]
    },
    {
     "name": "stdout",
     "output_type": "stream",
     "text": [
      "-- Processing Cell#1 from the image\n",
      "-- Analyzing the plane 6 in fov 9.\n",
      "-- Processing Cell#2 from the image\n",
      "-- Analyzing the plane 6 in fov 9.\n",
      "-- Processing Cell#3 from the image\n",
      "-- Analyzing the plane 6 in fov 9.\n",
      "-- Processing Cell#4 from the image\n",
      "-- Analyzing the plane 6 in fov 9.\n",
      "-- Processing Cell#5 from the image\n",
      "-- Analyzing the plane 6 in fov 9.\n",
      "-- Processing Cell#6 from the image\n",
      "-- Analyzing the plane 5 in fov 9.\n",
      "-- Processing Cell#7 from the image\n",
      "-- Analyzing the plane 5 in fov 9.\n",
      "-- Processing Cell#8 from the image\n",
      "-- Analyzing the plane 5 in fov 9.\n",
      "-- Processing Cell#9 from the image\n",
      "-- Analyzing the plane 5 in fov 9.\n",
      "-- Processing Cell#10 from the image\n",
      "-- Analyzing the plane 5 in fov 9.\n",
      "-- Processing Cell#11 from the image\n",
      "-- Analyzing the plane 5 in fov 9.\n",
      "-- Processing Cell#12 from the image\n",
      "-- Analyzing the plane 5 in fov 9.\n",
      "-- Processing Cell#13 from the image\n",
      "-- Analyzing the plane 5 in fov 9.\n",
      "-- Processing Cell#14 from the image\n",
      "-- Analyzing the plane 5 in fov 9.\n",
      "-- Processing Cell#15 from the image\n",
      "-- Analyzing the plane 5 in fov 9.\n",
      "-- Processing Cell#16 from the image\n",
      "-- Analyzing the plane 5 in fov 9.\n",
      "-- Processing Cell#17 from the image\n",
      "-- Analyzing the plane 5 in fov 9.\n",
      "-- Processing Cell#18 from the image\n",
      "-- Analyzing the plane 5 in fov 9.\n",
      "-- Processing Cell#19 from the image\n",
      "-- Analyzing the plane 5 in fov 9.\n",
      "-- Processing Cell#20 from the image\n",
      "-- Analyzing the plane 5 in fov 9.\n",
      "-- Processing Cell#21 from the image\n",
      "-- Analyzing the plane 5 in fov 9.\n",
      "-- Processing Cell#22 from the image\n",
      "-- Analyzing the plane 5 in fov 9.\n",
      "-- Processing Cell#23 from the image\n",
      "-- Analyzing the plane 5 in fov 9.\n",
      "-- Processing Cell#24 from the image\n",
      "-- Analyzing the plane 5 in fov 9.\n",
      "-- Processing Cell#25 from the image\n",
      "-- Analyzing the plane 5 in fov 9.\n",
      "-- Processing Cell#26 from the image\n"
     ]
    },
    {
     "name": "stderr",
     "output_type": "stream",
     "text": [
      "\r",
      " 12%|█████████▉                                                                         | 9/75 [06:00<47:57, 43.60s/it]"
     ]
    },
    {
     "name": "stdout",
     "output_type": "stream",
     "text": [
      "-- Analyzing the plane 5 in fov 9.\n",
      "-- Generate 3D nuclei segmentation to find cells.\n"
     ]
    },
    {
     "name": "stderr",
     "output_type": "stream",
     "text": [
      "C:\\Users\\Shiwei\\AppData\\Roaming\\Python\\Python37\\site-packages\\skimage\\util\\dtype.py:541: UserWarning: Downcasting int32 to uint8 without scaling because max value 24 fits in uint8\n",
      "  return _convert(image, np.uint8, force_copy)\n"
     ]
    },
    {
     "name": "stdout",
     "output_type": "stream",
     "text": [
      "-- Processing Cell#1 from the image\n",
      "-- Analyzing the plane 6 in fov 10.\n",
      "-- Processing Cell#2 from the image\n",
      "-- Analyzing the plane 6 in fov 10.\n",
      "-- Processing Cell#3 from the image\n",
      "-- Analyzing the plane 5 in fov 10.\n",
      "-- Processing Cell#4 from the image\n",
      "-- Analyzing the plane 6 in fov 10.\n",
      "-- Processing Cell#5 from the image\n",
      "-- Analyzing the plane 6 in fov 10.\n",
      "-- Processing Cell#6 from the image\n",
      "-- Analyzing the plane 5 in fov 10.\n",
      "-- Processing Cell#7 from the image\n",
      "-- Analyzing the plane 6 in fov 10.\n",
      "-- Processing Cell#8 from the image\n",
      "-- Analyzing the plane 5 in fov 10.\n",
      "-- Processing Cell#9 from the image\n",
      "-- Analyzing the plane 6 in fov 10.\n",
      "-- Processing Cell#10 from the image\n",
      "-- Analyzing the plane 6 in fov 10.\n",
      "-- Processing Cell#11 from the image\n",
      "-- Analyzing the plane 6 in fov 10.\n",
      "-- Processing Cell#12 from the image\n",
      "-- Analyzing the plane 5 in fov 10.\n",
      "-- Processing Cell#13 from the image\n",
      "-- Analyzing the plane 5 in fov 10.\n",
      "-- Processing Cell#14 from the image\n",
      "-- Analyzing the plane 5 in fov 10.\n",
      "-- Processing Cell#15 from the image\n",
      "-- Analyzing the plane 5 in fov 10.\n",
      "-- Processing Cell#16 from the image\n",
      "-- Analyzing the plane 5 in fov 10.\n",
      "-- Processing Cell#17 from the image\n",
      "-- Analyzing the plane 5 in fov 10.\n",
      "-- Processing Cell#18 from the image\n",
      "-- Analyzing the plane 5 in fov 10.\n",
      "-- Processing Cell#19 from the image\n",
      "-- Analyzing the plane 5 in fov 10.\n",
      "-- Processing Cell#20 from the image\n",
      "-- Analyzing the plane 5 in fov 10.\n",
      "-- Processing Cell#21 from the image\n",
      "-- Analyzing the plane 5 in fov 10.\n",
      "-- Processing Cell#22 from the image\n",
      "-- Analyzing the plane 5 in fov 10.\n",
      "-- Processing Cell#23 from the image\n",
      "-- Analyzing the plane 5 in fov 10.\n",
      "-- Processing Cell#24 from the image\n"
     ]
    },
    {
     "name": "stderr",
     "output_type": "stream",
     "text": [
      "\r",
      " 13%|██████████▉                                                                       | 10/75 [06:52<49:58, 46.12s/it]"
     ]
    },
    {
     "name": "stdout",
     "output_type": "stream",
     "text": [
      "-- Analyzing the plane 5 in fov 10.\n",
      "-- Generate 3D nuclei segmentation to find cells.\n",
      "-- Processing Cell#1 from the image\n",
      "-- Analyzing the plane 6 in fov 11.\n",
      "-- Processing Cell#2 from the image\n",
      "-- Analyzing the plane 6 in fov 11.\n",
      "-- Processing Cell#3 from the image\n",
      "-- Analyzing the plane 6 in fov 11.\n",
      "-- Processing Cell#4 from the image\n",
      "-- Analyzing the plane 6 in fov 11.\n",
      "-- Processing Cell#5 from the image\n",
      "-- Analyzing the plane 6 in fov 11.\n",
      "-- Processing Cell#6 from the image\n",
      "-- Analyzing the plane 7 in fov 11.\n",
      "-- Processing Cell#7 from the image\n",
      "-- Analyzing the plane 6 in fov 11.\n",
      "-- Processing Cell#8 from the image\n",
      "-- Analyzing the plane 6 in fov 11.\n",
      "-- Processing Cell#9 from the image\n",
      "-- Analyzing the plane 6 in fov 11.\n",
      "-- Processing Cell#10 from the image\n",
      "-- Analyzing the plane 5 in fov 11.\n",
      "-- Processing Cell#11 from the image\n"
     ]
    },
    {
     "name": "stderr",
     "output_type": "stream",
     "text": [
      "\r",
      " 15%|████████████                                                                      | 11/75 [07:30<46:32, 43.63s/it]"
     ]
    },
    {
     "name": "stdout",
     "output_type": "stream",
     "text": [
      "-- Analyzing the plane 5 in fov 11.\n",
      "-- Generate 3D nuclei segmentation to find cells.\n"
     ]
    },
    {
     "name": "stderr",
     "output_type": "stream",
     "text": [
      "C:\\Users\\Shiwei\\AppData\\Roaming\\Python\\Python37\\site-packages\\skimage\\util\\dtype.py:541: UserWarning: Downcasting int32 to uint8 without scaling because max value 12 fits in uint8\n",
      "  return _convert(image, np.uint8, force_copy)\n"
     ]
    },
    {
     "name": "stdout",
     "output_type": "stream",
     "text": [
      "-- Processing Cell#1 from the image\n",
      "-- Analyzing the plane 7 in fov 12.\n",
      "-- Processing Cell#2 from the image\n",
      "-- Analyzing the plane 7 in fov 12.\n",
      "-- Processing Cell#3 from the image\n",
      "-- Analyzing the plane 7 in fov 12.\n",
      "-- Processing Cell#4 from the image\n",
      "-- Analyzing the plane 7 in fov 12.\n",
      "-- Processing Cell#5 from the image\n",
      "-- Analyzing the plane 7 in fov 12.\n",
      "-- Processing Cell#6 from the image\n",
      "-- Analyzing the plane 7 in fov 12.\n",
      "-- Processing Cell#7 from the image\n",
      "-- Analyzing the plane 7 in fov 12.\n",
      "-- Processing Cell#8 from the image\n",
      "-- Analyzing the plane 7 in fov 12.\n",
      "-- Processing Cell#9 from the image\n",
      "-- Analyzing the plane 6 in fov 12.\n",
      "-- Processing Cell#10 from the image\n",
      "-- Analyzing the plane 6 in fov 12.\n",
      "-- Processing Cell#11 from the image\n",
      "-- Analyzing the plane 7 in fov 12.\n",
      "-- Processing Cell#12 from the image\n"
     ]
    },
    {
     "name": "stderr",
     "output_type": "stream",
     "text": [
      "\r",
      " 16%|█████████████                                                                     | 12/75 [08:10<44:33, 42.44s/it]"
     ]
    },
    {
     "name": "stdout",
     "output_type": "stream",
     "text": [
      "-- Analyzing the plane 7 in fov 12.\n",
      "-- Generate 3D nuclei segmentation to find cells.\n",
      "-- Processing Cell#1 from the image\n",
      "-- Analyzing the plane 5 in fov 13.\n",
      "-- Processing Cell#2 from the image\n",
      "-- Analyzing the plane 6 in fov 13.\n",
      "-- Processing Cell#3 from the image\n",
      "-- Analyzing the plane 5 in fov 13.\n",
      "-- Processing Cell#4 from the image\n",
      "-- Analyzing the plane 6 in fov 13.\n",
      "-- Processing Cell#5 from the image\n",
      "-- Analyzing the plane 5 in fov 13.\n",
      "-- Processing Cell#6 from the image\n",
      "-- Analyzing the plane 5 in fov 13.\n",
      "-- Processing Cell#7 from the image\n",
      "-- Analyzing the plane 6 in fov 13.\n",
      "-- Processing Cell#8 from the image\n",
      "-- Analyzing the plane 5 in fov 13.\n",
      "-- Processing Cell#9 from the image\n",
      "-- Analyzing the plane 5 in fov 13.\n",
      "-- Processing Cell#10 from the image\n",
      "-- Analyzing the plane 5 in fov 13.\n",
      "-- Processing Cell#11 from the image\n",
      "-- Analyzing the plane 5 in fov 13.\n",
      "-- Processing Cell#12 from the image\n",
      "-- Analyzing the plane 5 in fov 13.\n",
      "-- Processing Cell#13 from the image\n",
      "-- Analyzing the plane 5 in fov 13.\n",
      "-- Processing Cell#14 from the image\n",
      "-- Analyzing the plane 5 in fov 13.\n",
      "-- Processing Cell#15 from the image\n",
      "-- Analyzing the plane 5 in fov 13.\n",
      "-- Processing Cell#16 from the image\n",
      "-- Analyzing the plane 5 in fov 13.\n",
      "-- Processing Cell#17 from the image\n",
      "-- Analyzing the plane 5 in fov 13.\n",
      "-- Processing Cell#18 from the image\n",
      "-- Analyzing the plane 5 in fov 13.\n",
      "-- Processing Cell#19 from the image\n"
     ]
    },
    {
     "name": "stderr",
     "output_type": "stream",
     "text": [
      "\r",
      " 17%|██████████████▏                                                                   | 13/75 [08:55<44:48, 43.36s/it]"
     ]
    },
    {
     "name": "stdout",
     "output_type": "stream",
     "text": [
      "-- Analyzing the plane 5 in fov 13.\n",
      "-- Generate 3D nuclei segmentation to find cells.\n"
     ]
    },
    {
     "name": "stderr",
     "output_type": "stream",
     "text": [
      "C:\\Users\\Shiwei\\AppData\\Roaming\\Python\\Python37\\site-packages\\skimage\\util\\dtype.py:541: UserWarning: Downcasting int32 to uint8 without scaling because max value 5 fits in uint8\n",
      "  return _convert(image, np.uint8, force_copy)\n"
     ]
    },
    {
     "name": "stdout",
     "output_type": "stream",
     "text": [
      "-- Processing Cell#1 from the image\n",
      "-- Analyzing the plane 6 in fov 14.\n",
      "-- Processing Cell#2 from the image\n",
      "-- Analyzing the plane 6 in fov 14.\n",
      "-- Processing Cell#3 from the image\n",
      "-- Analyzing the plane 6 in fov 14.\n",
      "-- Processing Cell#4 from the image\n",
      "-- Analyzing the plane 5 in fov 14.\n",
      "-- Processing Cell#5 from the image\n"
     ]
    },
    {
     "name": "stderr",
     "output_type": "stream",
     "text": [
      "\r",
      " 19%|███████████████▎                                                                  | 14/75 [09:29<41:00, 40.34s/it]"
     ]
    },
    {
     "name": "stdout",
     "output_type": "stream",
     "text": [
      "-- Analyzing the plane 5 in fov 14.\n",
      "-- Generate 3D nuclei segmentation to find cells.\n",
      "-- Processing Cell#1 from the image\n",
      "-- Analyzing the plane 5 in fov 15.\n",
      "-- Processing Cell#2 from the image\n",
      "-- Analyzing the plane 6 in fov 15.\n",
      "-- Processing Cell#3 from the image\n",
      "-- Analyzing the plane 4 in fov 15.\n",
      "-- Processing Cell#4 from the image\n",
      "-- Analyzing the plane 4 in fov 15.\n",
      "-- Processing Cell#5 from the image\n",
      "-- Analyzing the plane 4 in fov 15.\n",
      "-- Processing Cell#6 from the image\n",
      "-- Analyzing the plane 4 in fov 15.\n",
      "-- Processing Cell#7 from the image\n",
      "-- Analyzing the plane 4 in fov 15.\n",
      "-- Processing Cell#8 from the image\n",
      "-- Analyzing the plane 4 in fov 15.\n",
      "-- Processing Cell#9 from the image\n",
      "-- Analyzing the plane 4 in fov 15.\n",
      "-- Processing Cell#10 from the image\n",
      "-- Analyzing the plane 4 in fov 15.\n",
      "-- Processing Cell#11 from the image\n",
      "-- Analyzing the plane 4 in fov 15.\n",
      "-- Processing Cell#12 from the image\n",
      "-- Analyzing the plane 4 in fov 15.\n",
      "-- Processing Cell#13 from the image\n"
     ]
    },
    {
     "name": "stderr",
     "output_type": "stream",
     "text": [
      "\r",
      " 20%|████████████████▍                                                                 | 15/75 [10:09<40:22, 40.38s/it]"
     ]
    },
    {
     "name": "stdout",
     "output_type": "stream",
     "text": [
      "-- Analyzing the plane 4 in fov 15.\n",
      "-- Generate 3D nuclei segmentation to find cells.\n"
     ]
    },
    {
     "name": "stderr",
     "output_type": "stream",
     "text": [
      "C:\\Users\\Shiwei\\AppData\\Roaming\\Python\\Python37\\site-packages\\skimage\\util\\dtype.py:541: UserWarning: Downcasting int32 to uint8 without scaling because max value 10 fits in uint8\n",
      "  return _convert(image, np.uint8, force_copy)\n"
     ]
    },
    {
     "name": "stdout",
     "output_type": "stream",
     "text": [
      "-- Processing Cell#1 from the image\n",
      "-- Analyzing the plane 7 in fov 16.\n",
      "-- Processing Cell#2 from the image\n",
      "-- Analyzing the plane 6 in fov 16.\n",
      "-- Processing Cell#3 from the image\n",
      "-- Analyzing the plane 7 in fov 16.\n",
      "-- Processing Cell#4 from the image\n",
      "-- Analyzing the plane 5 in fov 16.\n",
      "-- Processing Cell#5 from the image\n",
      "-- Analyzing the plane 5 in fov 16.\n",
      "-- Processing Cell#6 from the image\n",
      "-- Analyzing the plane 5 in fov 16.\n",
      "-- Processing Cell#7 from the image\n",
      "-- Analyzing the plane 5 in fov 16.\n",
      "-- Processing Cell#8 from the image\n",
      "-- Analyzing the plane 5 in fov 16.\n",
      "-- Processing Cell#9 from the image\n",
      "-- Analyzing the plane 6 in fov 16.\n",
      "-- Processing Cell#10 from the image\n"
     ]
    },
    {
     "name": "stderr",
     "output_type": "stream",
     "text": [
      "\r",
      " 21%|█████████████████▍                                                                | 16/75 [10:45<38:22, 39.03s/it]"
     ]
    },
    {
     "name": "stdout",
     "output_type": "stream",
     "text": [
      "-- Analyzing the plane 5 in fov 16.\n",
      "-- Generate 3D nuclei segmentation to find cells.\n",
      "-- Processing Cell#1 from the image\n",
      "-- Analyzing the plane 7 in fov 17.\n",
      "-- Processing Cell#2 from the image\n",
      "-- Analyzing the plane 6 in fov 17.\n",
      "-- Processing Cell#3 from the image\n",
      "-- Analyzing the plane 7 in fov 17.\n",
      "-- Processing Cell#4 from the image\n",
      "-- Analyzing the plane 7 in fov 17.\n",
      "-- Processing Cell#5 from the image\n",
      "-- Analyzing the plane 6 in fov 17.\n",
      "-- Processing Cell#6 from the image\n",
      "-- Analyzing the plane 7 in fov 17.\n",
      "-- Processing Cell#7 from the image\n",
      "-- Analyzing the plane 5 in fov 17.\n",
      "-- Processing Cell#8 from the image\n",
      "-- Analyzing the plane 5 in fov 17.\n",
      "-- Processing Cell#9 from the image\n",
      "-- Analyzing the plane 5 in fov 17.\n",
      "-- Processing Cell#10 from the image\n",
      "-- Analyzing the plane 5 in fov 17.\n",
      "-- Processing Cell#11 from the image\n",
      "-- Analyzing the plane 5 in fov 17.\n",
      "-- Processing Cell#12 from the image\n",
      "-- Analyzing the plane 5 in fov 17.\n",
      "-- Processing Cell#13 from the image\n",
      "-- Analyzing the plane 5 in fov 17.\n",
      "-- Processing Cell#14 from the image\n"
     ]
    },
    {
     "name": "stderr",
     "output_type": "stream",
     "text": [
      "\r",
      " 23%|██████████████████▌                                                               | 17/75 [11:25<37:54, 39.22s/it]"
     ]
    },
    {
     "name": "stdout",
     "output_type": "stream",
     "text": [
      "-- Analyzing the plane 5 in fov 17.\n",
      "-- Generate 3D nuclei segmentation to find cells.\n",
      "-- Processing Cell#1 from the image\n",
      "-- Analyzing the plane 5 in fov 18.\n",
      "-- Processing Cell#2 from the image\n",
      "-- Analyzing the plane 5 in fov 18.\n",
      "-- Processing Cell#3 from the image\n",
      "-- Analyzing the plane 5 in fov 18.\n",
      "-- Processing Cell#4 from the image\n",
      "-- Analyzing the plane 5 in fov 18.\n",
      "-- Processing Cell#5 from the image\n",
      "-- Analyzing the plane 5 in fov 18.\n",
      "-- Processing Cell#6 from the image\n",
      "-- Analyzing the plane 5 in fov 18.\n",
      "-- Processing Cell#7 from the image\n",
      "-- Analyzing the plane 5 in fov 18.\n",
      "-- Processing Cell#8 from the image\n",
      "-- Analyzing the plane 5 in fov 18.\n",
      "-- Processing Cell#9 from the image\n",
      "-- Analyzing the plane 5 in fov 18.\n",
      "-- Processing Cell#10 from the image\n",
      "-- Analyzing the plane 5 in fov 18.\n",
      "-- Processing Cell#11 from the image\n"
     ]
    },
    {
     "name": "stderr",
     "output_type": "stream",
     "text": [
      "\r",
      " 24%|███████████████████▋                                                              | 18/75 [12:02<36:40, 38.60s/it]"
     ]
    },
    {
     "name": "stdout",
     "output_type": "stream",
     "text": [
      "-- Analyzing the plane 5 in fov 18.\n",
      "-- Generate 3D nuclei segmentation to find cells.\n"
     ]
    },
    {
     "name": "stderr",
     "output_type": "stream",
     "text": [
      "C:\\Users\\Shiwei\\AppData\\Roaming\\Python\\Python37\\site-packages\\skimage\\util\\dtype.py:541: UserWarning: Downcasting int32 to uint8 without scaling because max value 3 fits in uint8\n",
      "  return _convert(image, np.uint8, force_copy)\n"
     ]
    },
    {
     "name": "stdout",
     "output_type": "stream",
     "text": [
      "-- Processing Cell#1 from the image\n",
      "-- Analyzing the plane 5 in fov 19.\n",
      "-- Processing Cell#2 from the image\n",
      "-- Analyzing the plane 4 in fov 19.\n",
      "-- Processing Cell#3 from the image\n"
     ]
    },
    {
     "name": "stderr",
     "output_type": "stream",
     "text": [
      "\r",
      " 25%|████████████████████▊                                                             | 19/75 [12:31<33:20, 35.73s/it]"
     ]
    },
    {
     "name": "stdout",
     "output_type": "stream",
     "text": [
      "-- Analyzing the plane 4 in fov 19.\n",
      "-- Generate 3D nuclei segmentation to find cells.\n",
      "-- Processing Cell#1 from the image\n",
      "-- Analyzing the plane 6 in fov 20.\n",
      "-- Processing Cell#2 from the image\n",
      "-- Analyzing the plane 6 in fov 20.\n",
      "-- Processing Cell#3 from the image\n",
      "-- Analyzing the plane 6 in fov 20.\n",
      "-- Processing Cell#4 from the image\n",
      "-- Analyzing the plane 6 in fov 20.\n",
      "-- Processing Cell#5 from the image\n",
      "-- Analyzing the plane 6 in fov 20.\n",
      "-- Processing Cell#6 from the image\n",
      "-- Analyzing the plane 6 in fov 20.\n",
      "-- Processing Cell#7 from the image\n"
     ]
    },
    {
     "name": "stderr",
     "output_type": "stream",
     "text": [
      "\r",
      " 27%|█████████████████████▊                                                            | 20/75 [13:04<31:58, 34.88s/it]"
     ]
    },
    {
     "name": "stdout",
     "output_type": "stream",
     "text": [
      "-- Analyzing the plane 5 in fov 20.\n",
      "-- Generate 3D nuclei segmentation to find cells.\n"
     ]
    },
    {
     "name": "stderr",
     "output_type": "stream",
     "text": [
      "C:\\Users\\Shiwei\\AppData\\Roaming\\Python\\Python37\\site-packages\\skimage\\util\\dtype.py:541: UserWarning: Downcasting int32 to uint8 without scaling because max value 9 fits in uint8\n",
      "  return _convert(image, np.uint8, force_copy)\n"
     ]
    },
    {
     "name": "stdout",
     "output_type": "stream",
     "text": [
      "-- Processing Cell#1 from the image\n",
      "-- Analyzing the plane 7 in fov 21.\n",
      "-- Processing Cell#2 from the image\n",
      "-- Analyzing the plane 6 in fov 21.\n",
      "-- Processing Cell#3 from the image\n",
      "-- Analyzing the plane 5 in fov 21.\n",
      "-- Processing Cell#4 from the image\n",
      "-- Analyzing the plane 5 in fov 21.\n",
      "-- Processing Cell#5 from the image\n",
      "-- Analyzing the plane 5 in fov 21.\n",
      "-- Processing Cell#6 from the image\n",
      "-- Analyzing the plane 5 in fov 21.\n",
      "-- Processing Cell#7 from the image\n",
      "-- Analyzing the plane 5 in fov 21.\n",
      "-- Processing Cell#8 from the image\n",
      "-- Analyzing the plane 5 in fov 21.\n",
      "-- Processing Cell#9 from the image\n"
     ]
    },
    {
     "name": "stderr",
     "output_type": "stream",
     "text": [
      "\r",
      " 28%|██████████████████████▉                                                           | 21/75 [13:39<31:19, 34.81s/it]"
     ]
    },
    {
     "name": "stdout",
     "output_type": "stream",
     "text": [
      "-- Analyzing the plane 4 in fov 21.\n",
      "-- Generate 3D nuclei segmentation to find cells.\n"
     ]
    },
    {
     "name": "stderr",
     "output_type": "stream",
     "text": [
      "C:\\Users\\Shiwei\\AppData\\Roaming\\Python\\Python37\\site-packages\\skimage\\util\\dtype.py:541: UserWarning: Downcasting int32 to uint8 without scaling because max value 15 fits in uint8\n",
      "  return _convert(image, np.uint8, force_copy)\n"
     ]
    },
    {
     "name": "stdout",
     "output_type": "stream",
     "text": [
      "-- Processing Cell#1 from the image\n",
      "-- Analyzing the plane 7 in fov 22.\n",
      "-- Processing Cell#2 from the image\n",
      "-- Analyzing the plane 7 in fov 22.\n",
      "-- Processing Cell#3 from the image\n",
      "-- Analyzing the plane 7 in fov 22.\n",
      "-- Processing Cell#4 from the image\n",
      "-- Analyzing the plane 7 in fov 22.\n",
      "-- Processing Cell#5 from the image\n",
      "-- Analyzing the plane 6 in fov 22.\n",
      "-- Processing Cell#6 from the image\n",
      "-- Analyzing the plane 6 in fov 22.\n",
      "-- Processing Cell#7 from the image\n",
      "-- Analyzing the plane 6 in fov 22.\n",
      "-- Processing Cell#8 from the image\n",
      "-- Analyzing the plane 7 in fov 22.\n",
      "-- Processing Cell#9 from the image\n",
      "-- Analyzing the plane 7 in fov 22.\n",
      "-- Processing Cell#10 from the image\n",
      "-- Analyzing the plane 6 in fov 22.\n",
      "-- Processing Cell#11 from the image\n",
      "-- Analyzing the plane 6 in fov 22.\n",
      "-- Processing Cell#12 from the image\n",
      "-- Analyzing the plane 6 in fov 22.\n",
      "-- Processing Cell#13 from the image\n",
      "-- Analyzing the plane 6 in fov 22.\n",
      "-- Processing Cell#14 from the image\n",
      "-- Analyzing the plane 6 in fov 22.\n",
      "-- Processing Cell#15 from the image\n"
     ]
    },
    {
     "name": "stderr",
     "output_type": "stream",
     "text": [
      "\r",
      " 29%|████████████████████████                                                          | 22/75 [14:20<32:37, 36.93s/it]"
     ]
    },
    {
     "name": "stdout",
     "output_type": "stream",
     "text": [
      "-- Analyzing the plane 6 in fov 22.\n",
      "-- Generate 3D nuclei segmentation to find cells.\n",
      "-- Processing Cell#1 from the image\n",
      "-- Analyzing the plane 7 in fov 23.\n",
      "-- Processing Cell#2 from the image\n",
      "-- Analyzing the plane 7 in fov 23.\n",
      "-- Processing Cell#3 from the image\n",
      "-- Analyzing the plane 7 in fov 23.\n",
      "-- Processing Cell#4 from the image\n",
      "-- Analyzing the plane 7 in fov 23.\n",
      "-- Processing Cell#5 from the image\n",
      "-- Analyzing the plane 7 in fov 23.\n",
      "-- Processing Cell#6 from the image\n",
      "-- Analyzing the plane 7 in fov 23.\n",
      "-- Processing Cell#7 from the image\n",
      "-- Analyzing the plane 7 in fov 23.\n",
      "-- Processing Cell#8 from the image\n",
      "-- Analyzing the plane 7 in fov 23.\n",
      "-- Processing Cell#9 from the image\n",
      "-- Analyzing the plane 7 in fov 23.\n",
      "-- Processing Cell#10 from the image\n",
      "-- Analyzing the plane 6 in fov 23.\n",
      "-- Processing Cell#11 from the image\n",
      "-- Analyzing the plane 6 in fov 23.\n",
      "-- Processing Cell#12 from the image\n",
      "-- Analyzing the plane 7 in fov 23.\n",
      "-- Processing Cell#13 from the image\n",
      "-- Analyzing the plane 6 in fov 23.\n",
      "-- Processing Cell#14 from the image\n",
      "-- Analyzing the plane 6 in fov 23.\n",
      "-- Processing Cell#15 from the image\n",
      "-- Analyzing the plane 7 in fov 23.\n",
      "-- Processing Cell#16 from the image\n",
      "-- Analyzing the plane 7 in fov 23.\n",
      "-- Processing Cell#17 from the image\n",
      "-- Analyzing the plane 6 in fov 23.\n",
      "-- Processing Cell#18 from the image\n",
      "-- Analyzing the plane 6 in fov 23.\n",
      "-- Processing Cell#19 from the image\n",
      "-- Analyzing the plane 6 in fov 23.\n",
      "-- Processing Cell#20 from the image\n",
      "-- Analyzing the plane 7 in fov 23.\n",
      "-- Processing Cell#21 from the image\n"
     ]
    },
    {
     "name": "stderr",
     "output_type": "stream",
     "text": [
      "\r",
      " 31%|█████████████████████████▏                                                        | 23/75 [15:08<34:49, 40.18s/it]"
     ]
    },
    {
     "name": "stdout",
     "output_type": "stream",
     "text": [
      "-- Analyzing the plane 6 in fov 23.\n",
      "-- Generate 3D nuclei segmentation to find cells.\n",
      "-- Processing Cell#1 from the image\n",
      "-- Analyzing the plane 6 in fov 24.\n",
      "-- Processing Cell#2 from the image\n",
      "-- Analyzing the plane 6 in fov 24.\n",
      "-- Processing Cell#3 from the image\n",
      "-- Analyzing the plane 7 in fov 24.\n",
      "-- Processing Cell#4 from the image\n",
      "-- Analyzing the plane 7 in fov 24.\n",
      "-- Processing Cell#5 from the image\n",
      "-- Analyzing the plane 7 in fov 24.\n",
      "-- Processing Cell#6 from the image\n",
      "-- Analyzing the plane 7 in fov 24.\n",
      "-- Processing Cell#7 from the image\n",
      "-- Analyzing the plane 7 in fov 24.\n",
      "-- Processing Cell#8 from the image\n",
      "-- Analyzing the plane 5 in fov 24.\n",
      "-- Processing Cell#9 from the image\n",
      "-- Analyzing the plane 5 in fov 24.\n",
      "-- Processing Cell#10 from the image\n",
      "-- Analyzing the plane 4 in fov 24.\n",
      "-- Processing Cell#11 from the image\n",
      "-- Analyzing the plane 4 in fov 24.\n",
      "-- Processing Cell#12 from the image\n",
      "-- Analyzing the plane 4 in fov 24.\n",
      "-- Processing Cell#13 from the image\n"
     ]
    },
    {
     "name": "stderr",
     "output_type": "stream",
     "text": [
      "\r",
      " 32%|██████████████████████████▏                                                       | 24/75 [15:50<34:38, 40.76s/it]"
     ]
    },
    {
     "name": "stdout",
     "output_type": "stream",
     "text": [
      "-- Analyzing the plane 6 in fov 24.\n",
      "-- Generate 3D nuclei segmentation to find cells.\n",
      "-- Processing Cell#1 from the image\n",
      "-- Analyzing the plane 6 in fov 25.\n",
      "-- Processing Cell#2 from the image\n",
      "-- Analyzing the plane 6 in fov 25.\n",
      "-- Processing Cell#3 from the image\n",
      "-- Analyzing the plane 7 in fov 25.\n",
      "-- Processing Cell#4 from the image\n",
      "-- Analyzing the plane 6 in fov 25.\n",
      "-- Processing Cell#5 from the image\n",
      "-- Analyzing the plane 6 in fov 25.\n",
      "-- Processing Cell#6 from the image\n",
      "-- Analyzing the plane 6 in fov 25.\n",
      "-- Processing Cell#7 from the image\n",
      "-- Analyzing the plane 6 in fov 25.\n",
      "-- Processing Cell#8 from the image\n",
      "-- Analyzing the plane 6 in fov 25.\n",
      "-- Processing Cell#9 from the image\n",
      "-- Analyzing the plane 6 in fov 25.\n",
      "-- Processing Cell#10 from the image\n",
      "-- Analyzing the plane 6 in fov 25.\n",
      "-- Processing Cell#11 from the image\n",
      "-- Analyzing the plane 6 in fov 25.\n",
      "-- Processing Cell#12 from the image\n",
      "-- Analyzing the plane 6 in fov 25.\n",
      "-- Processing Cell#13 from the image\n"
     ]
    },
    {
     "name": "stderr",
     "output_type": "stream",
     "text": [
      "\r",
      " 33%|███████████████████████████▎                                                      | 25/75 [16:31<33:55, 40.72s/it]"
     ]
    },
    {
     "name": "stdout",
     "output_type": "stream",
     "text": [
      "-- Analyzing the plane 5 in fov 25.\n",
      "-- Generate 3D nuclei segmentation to find cells.\n",
      "-- Processing Cell#1 from the image\n",
      "-- Analyzing the plane 7 in fov 26.\n",
      "-- Processing Cell#2 from the image\n",
      "-- Analyzing the plane 6 in fov 26.\n",
      "-- Processing Cell#3 from the image\n",
      "-- Analyzing the plane 6 in fov 26.\n",
      "-- Processing Cell#4 from the image\n",
      "-- Analyzing the plane 6 in fov 26.\n",
      "-- Processing Cell#5 from the image\n",
      "-- Analyzing the plane 6 in fov 26.\n",
      "-- Processing Cell#6 from the image\n",
      "-- Analyzing the plane 6 in fov 26.\n",
      "-- Processing Cell#7 from the image\n",
      "-- Analyzing the plane 6 in fov 26.\n",
      "-- Processing Cell#8 from the image\n",
      "-- Analyzing the plane 6 in fov 26.\n",
      "-- Processing Cell#9 from the image\n",
      "-- Analyzing the plane 6 in fov 26.\n",
      "-- Processing Cell#10 from the image\n",
      "-- Analyzing the plane 6 in fov 26.\n",
      "-- Processing Cell#11 from the image\n",
      "-- Analyzing the plane 6 in fov 26.\n",
      "-- Processing Cell#12 from the image\n",
      "-- Analyzing the plane 6 in fov 26.\n",
      "-- Processing Cell#13 from the image\n",
      "-- Analyzing the plane 6 in fov 26.\n",
      "-- Processing Cell#14 from the image\n",
      "-- Analyzing the plane 6 in fov 26.\n",
      "-- Processing Cell#15 from the image\n",
      "-- Analyzing the plane 5 in fov 26.\n",
      "-- Processing Cell#16 from the image\n",
      "-- Analyzing the plane 6 in fov 26.\n",
      "-- Processing Cell#17 from the image\n",
      "-- Analyzing the plane 6 in fov 26.\n",
      "-- Processing Cell#18 from the image\n",
      "-- Analyzing the plane 5 in fov 26.\n",
      "-- Processing Cell#19 from the image\n",
      "-- Analyzing the plane 5 in fov 26.\n",
      "-- Processing Cell#20 from the image\n",
      "-- Analyzing the plane 5 in fov 26.\n",
      "-- Processing Cell#21 from the image\n"
     ]
    },
    {
     "name": "stderr",
     "output_type": "stream",
     "text": [
      "\r",
      " 35%|████████████████████████████▍                                                     | 26/75 [17:20<35:14, 43.15s/it]"
     ]
    },
    {
     "name": "stdout",
     "output_type": "stream",
     "text": [
      "-- Analyzing the plane 5 in fov 26.\n",
      "-- Generate 3D nuclei segmentation to find cells.\n",
      "-- Processing Cell#1 from the image\n",
      "-- Analyzing the plane 6 in fov 27.\n",
      "-- Processing Cell#2 from the image\n",
      "-- Analyzing the plane 5 in fov 27.\n",
      "-- Processing Cell#3 from the image\n",
      "-- Analyzing the plane 6 in fov 27.\n",
      "-- Processing Cell#4 from the image\n",
      "-- Analyzing the plane 6 in fov 27.\n",
      "-- Processing Cell#5 from the image\n",
      "-- Analyzing the plane 7 in fov 27.\n",
      "-- Processing Cell#6 from the image\n",
      "-- Analyzing the plane 7 in fov 27.\n",
      "-- Processing Cell#7 from the image\n",
      "-- Analyzing the plane 6 in fov 27.\n",
      "-- Processing Cell#8 from the image\n",
      "-- Analyzing the plane 5 in fov 27.\n",
      "-- Processing Cell#9 from the image\n",
      "-- Analyzing the plane 6 in fov 27.\n",
      "-- Processing Cell#10 from the image\n",
      "-- Analyzing the plane 6 in fov 27.\n",
      "-- Processing Cell#11 from the image\n",
      "-- Analyzing the plane 6 in fov 27.\n",
      "-- Processing Cell#12 from the image\n",
      "-- Analyzing the plane 5 in fov 27.\n",
      "-- Processing Cell#13 from the image\n",
      "-- Analyzing the plane 6 in fov 27.\n",
      "-- Processing Cell#14 from the image\n",
      "-- Analyzing the plane 4 in fov 27.\n",
      "-- Processing Cell#15 from the image\n",
      "-- Analyzing the plane 4 in fov 27.\n",
      "-- Processing Cell#16 from the image\n",
      "-- Analyzing the plane 5 in fov 27.\n",
      "-- Processing Cell#17 from the image\n",
      "-- Analyzing the plane 4 in fov 27.\n",
      "-- Processing Cell#18 from the image\n",
      "-- Analyzing the plane 5 in fov 27.\n",
      "-- Processing Cell#19 from the image\n"
     ]
    },
    {
     "name": "stderr",
     "output_type": "stream",
     "text": [
      "\r",
      " 36%|█████████████████████████████▌                                                    | 27/75 [18:05<35:04, 43.83s/it]"
     ]
    },
    {
     "name": "stdout",
     "output_type": "stream",
     "text": [
      "-- Analyzing the plane 4 in fov 27.\n",
      "-- Generate 3D nuclei segmentation to find cells.\n",
      "-- Processing Cell#1 from the image\n",
      "-- Analyzing the plane 5 in fov 28.\n",
      "-- Processing Cell#2 from the image\n",
      "-- Analyzing the plane 5 in fov 28.\n",
      "-- Processing Cell#3 from the image\n",
      "-- Analyzing the plane 5 in fov 28.\n",
      "-- Processing Cell#4 from the image\n",
      "-- Analyzing the plane 5 in fov 28.\n",
      "-- Processing Cell#5 from the image\n",
      "-- Analyzing the plane 6 in fov 28.\n",
      "-- Processing Cell#6 from the image\n",
      "-- Analyzing the plane 5 in fov 28.\n",
      "-- Processing Cell#7 from the image\n",
      "-- Analyzing the plane 5 in fov 28.\n",
      "-- Processing Cell#8 from the image\n",
      "-- Analyzing the plane 5 in fov 28.\n",
      "-- Processing Cell#9 from the image\n",
      "-- Analyzing the plane 5 in fov 28.\n",
      "-- Processing Cell#10 from the image\n",
      "-- Analyzing the plane 5 in fov 28.\n",
      "-- Processing Cell#11 from the image\n"
     ]
    },
    {
     "name": "stderr",
     "output_type": "stream",
     "text": [
      "\r",
      " 37%|██████████████████████████████▌                                                   | 28/75 [18:43<32:53, 41.99s/it]"
     ]
    },
    {
     "name": "stdout",
     "output_type": "stream",
     "text": [
      "-- Analyzing the plane 6 in fov 28.\n",
      "-- Generate 3D nuclei segmentation to find cells.\n",
      "-- Processing Cell#1 from the image\n",
      "-- Analyzing the plane 5 in fov 29.\n",
      "-- Processing Cell#2 from the image\n",
      "-- Analyzing the plane 6 in fov 29.\n",
      "-- Processing Cell#3 from the image\n",
      "-- Analyzing the plane 6 in fov 29.\n",
      "-- Processing Cell#4 from the image\n",
      "-- Analyzing the plane 5 in fov 29.\n",
      "-- Processing Cell#5 from the image\n",
      "-- Analyzing the plane 5 in fov 29.\n",
      "-- Processing Cell#6 from the image\n",
      "-- Analyzing the plane 5 in fov 29.\n",
      "-- Processing Cell#7 from the image\n",
      "-- Analyzing the plane 5 in fov 29.\n",
      "-- Processing Cell#8 from the image\n",
      "-- Analyzing the plane 5 in fov 29.\n",
      "-- Processing Cell#9 from the image\n"
     ]
    },
    {
     "name": "stderr",
     "output_type": "stream",
     "text": [
      "\r",
      " 39%|███████████████████████████████▋                                                  | 29/75 [19:19<30:50, 40.22s/it]"
     ]
    },
    {
     "name": "stdout",
     "output_type": "stream",
     "text": [
      "-- Analyzing the plane 5 in fov 29.\n",
      "-- Generate 3D nuclei segmentation to find cells.\n"
     ]
    },
    {
     "name": "stderr",
     "output_type": "stream",
     "text": [
      "C:\\Users\\Shiwei\\AppData\\Roaming\\Python\\Python37\\site-packages\\skimage\\util\\dtype.py:541: UserWarning: Downcasting int32 to uint8 without scaling because max value 4 fits in uint8\n",
      "  return _convert(image, np.uint8, force_copy)\n"
     ]
    },
    {
     "name": "stdout",
     "output_type": "stream",
     "text": [
      "-- Processing Cell#1 from the image\n",
      "-- Analyzing the plane 7 in fov 30.\n",
      "-- Processing Cell#2 from the image\n",
      "-- Analyzing the plane 6 in fov 30.\n",
      "-- Processing Cell#3 from the image\n",
      "-- Analyzing the plane 6 in fov 30.\n",
      "-- Processing Cell#4 from the image\n"
     ]
    },
    {
     "name": "stderr",
     "output_type": "stream",
     "text": [
      "\r",
      " 40%|████████████████████████████████▊                                                 | 30/75 [19:49<27:49, 37.09s/it]"
     ]
    },
    {
     "name": "stdout",
     "output_type": "stream",
     "text": [
      "-- Analyzing the plane 6 in fov 30.\n",
      "-- Generate 3D nuclei segmentation to find cells.\n",
      "-- Processing Cell#1 from the image\n",
      "-- Analyzing the plane 7 in fov 31.\n",
      "-- Processing Cell#2 from the image\n",
      "-- Analyzing the plane 7 in fov 31.\n",
      "-- Processing Cell#3 from the image\n",
      "-- Analyzing the plane 7 in fov 31.\n",
      "-- Processing Cell#4 from the image\n",
      "-- Analyzing the plane 6 in fov 31.\n",
      "-- Processing Cell#5 from the image\n",
      "-- Analyzing the plane 6 in fov 31.\n",
      "-- Processing Cell#6 from the image\n",
      "-- Analyzing the plane 7 in fov 31.\n",
      "-- Processing Cell#7 from the image\n",
      "-- Analyzing the plane 7 in fov 31.\n",
      "-- Processing Cell#8 from the image\n",
      "-- Analyzing the plane 6 in fov 31.\n",
      "-- Processing Cell#9 from the image\n",
      "-- Analyzing the plane 6 in fov 31.\n",
      "-- Processing Cell#10 from the image\n",
      "-- Analyzing the plane 6 in fov 31.\n",
      "-- Processing Cell#11 from the image\n",
      "-- Analyzing the plane 6 in fov 31.\n",
      "-- Processing Cell#12 from the image\n"
     ]
    },
    {
     "name": "stderr",
     "output_type": "stream",
     "text": [
      "\r",
      " 41%|█████████████████████████████████▉                                                | 31/75 [20:27<27:20, 37.29s/it]"
     ]
    },
    {
     "name": "stdout",
     "output_type": "stream",
     "text": [
      "-- Analyzing the plane 6 in fov 31.\n",
      "-- Generate 3D nuclei segmentation to find cells.\n"
     ]
    },
    {
     "name": "stderr",
     "output_type": "stream",
     "text": [
      "C:\\Users\\Shiwei\\AppData\\Roaming\\Python\\Python37\\site-packages\\skimage\\util\\dtype.py:541: UserWarning: Downcasting int32 to uint8 without scaling because max value 8 fits in uint8\n",
      "  return _convert(image, np.uint8, force_copy)\n"
     ]
    },
    {
     "name": "stdout",
     "output_type": "stream",
     "text": [
      "-- Processing Cell#1 from the image\n",
      "-- Analyzing the plane 6 in fov 32.\n",
      "-- Processing Cell#2 from the image\n",
      "-- Analyzing the plane 6 in fov 32.\n",
      "-- Processing Cell#3 from the image\n",
      "-- Analyzing the plane 6 in fov 32.\n",
      "-- Processing Cell#4 from the image\n",
      "-- Analyzing the plane 6 in fov 32.\n",
      "-- Processing Cell#5 from the image\n",
      "-- Analyzing the plane 6 in fov 32.\n",
      "-- Processing Cell#6 from the image\n",
      "-- Analyzing the plane 6 in fov 32.\n",
      "-- Processing Cell#7 from the image\n",
      "-- Analyzing the plane 6 in fov 32.\n",
      "-- Processing Cell#8 from the image\n"
     ]
    },
    {
     "name": "stderr",
     "output_type": "stream",
     "text": [
      "\r",
      " 43%|██████████████████████████████████▉                                               | 32/75 [21:01<26:13, 36.58s/it]"
     ]
    },
    {
     "name": "stdout",
     "output_type": "stream",
     "text": [
      "-- Analyzing the plane 6 in fov 32.\n",
      "-- Generate 3D nuclei segmentation to find cells.\n",
      "-- Processing Cell#1 from the image\n",
      "-- Analyzing the plane 6 in fov 33.\n",
      "-- Processing Cell#2 from the image\n",
      "-- Analyzing the plane 6 in fov 33.\n",
      "-- Processing Cell#3 from the image\n",
      "-- Analyzing the plane 6 in fov 33.\n",
      "-- Processing Cell#4 from the image\n",
      "-- Analyzing the plane 6 in fov 33.\n",
      "-- Processing Cell#5 from the image\n",
      "-- Analyzing the plane 6 in fov 33.\n",
      "-- Processing Cell#6 from the image\n",
      "-- Analyzing the plane 6 in fov 33.\n",
      "-- Processing Cell#7 from the image\n",
      "-- Analyzing the plane 6 in fov 33.\n",
      "-- Processing Cell#8 from the image\n",
      "-- Analyzing the plane 6 in fov 33.\n",
      "-- Processing Cell#9 from the image\n",
      "-- Analyzing the plane 5 in fov 33.\n",
      "-- Processing Cell#10 from the image\n"
     ]
    },
    {
     "name": "stderr",
     "output_type": "stream",
     "text": [
      "\r",
      " 44%|████████████████████████████████████                                              | 33/75 [21:38<25:41, 36.71s/it]"
     ]
    },
    {
     "name": "stdout",
     "output_type": "stream",
     "text": [
      "-- Analyzing the plane 5 in fov 33.\n",
      "-- Generate 3D nuclei segmentation to find cells.\n",
      "-- Processing Cell#1 from the image\n",
      "-- Analyzing the plane 7 in fov 34.\n",
      "-- Processing Cell#2 from the image\n",
      "-- Analyzing the plane 7 in fov 34.\n",
      "-- Processing Cell#3 from the image\n",
      "-- Analyzing the plane 7 in fov 34.\n",
      "-- Processing Cell#4 from the image\n",
      "-- Analyzing the plane 6 in fov 34.\n",
      "-- Processing Cell#5 from the image\n",
      "-- Analyzing the plane 6 in fov 34.\n",
      "-- Processing Cell#6 from the image\n",
      "-- Analyzing the plane 6 in fov 34.\n",
      "-- Processing Cell#7 from the image\n",
      "-- Analyzing the plane 6 in fov 34.\n",
      "-- Processing Cell#8 from the image\n",
      "-- Analyzing the plane 6 in fov 34.\n",
      "-- Processing Cell#9 from the image\n"
     ]
    },
    {
     "name": "stderr",
     "output_type": "stream",
     "text": [
      "\r",
      " 45%|█████████████████████████████████████▏                                            | 34/75 [22:13<24:41, 36.14s/it]"
     ]
    },
    {
     "name": "stdout",
     "output_type": "stream",
     "text": [
      "-- Analyzing the plane 6 in fov 34.\n",
      "-- Generate 3D nuclei segmentation to find cells.\n"
     ]
    },
    {
     "name": "stderr",
     "output_type": "stream",
     "text": [
      "C:\\Users\\Shiwei\\AppData\\Roaming\\Python\\Python37\\site-packages\\skimage\\util\\dtype.py:541: UserWarning: Downcasting int32 to uint8 without scaling because max value 2 fits in uint8\n",
      "  return _convert(image, np.uint8, force_copy)\n"
     ]
    },
    {
     "name": "stdout",
     "output_type": "stream",
     "text": [
      "-- Processing Cell#1 from the image\n",
      "-- Analyzing the plane 7 in fov 35.\n",
      "-- Processing Cell#2 from the image\n"
     ]
    },
    {
     "name": "stderr",
     "output_type": "stream",
     "text": [
      "\r",
      " 47%|██████████████████████████████████████▎                                           | 35/75 [22:42<22:34, 33.87s/it]"
     ]
    },
    {
     "name": "stdout",
     "output_type": "stream",
     "text": [
      "-- Analyzing the plane 7 in fov 35.\n",
      "-- Generate 3D nuclei segmentation to find cells.\n",
      "-- Processing Cell#1 from the image\n",
      "-- Analyzing the plane 7 in fov 36.\n",
      "-- Processing Cell#2 from the image\n",
      "-- Analyzing the plane 6 in fov 36.\n",
      "-- Processing Cell#3 from the image\n"
     ]
    },
    {
     "name": "stderr",
     "output_type": "stream",
     "text": [
      "\r",
      " 48%|███████████████████████████████████████▎                                          | 36/75 [23:09<20:44, 31.91s/it]"
     ]
    },
    {
     "name": "stdout",
     "output_type": "stream",
     "text": [
      "-- Analyzing the plane 6 in fov 36.\n",
      "-- Generate 3D nuclei segmentation to find cells.\n",
      "-- Processing Cell#1 from the image\n",
      "-- Analyzing the plane 7 in fov 37.\n",
      "-- Processing Cell#2 from the image\n"
     ]
    },
    {
     "name": "stderr",
     "output_type": "stream",
     "text": [
      "\r",
      " 49%|████████████████████████████████████████▍                                         | 37/75 [23:37<19:28, 30.76s/it]"
     ]
    },
    {
     "name": "stdout",
     "output_type": "stream",
     "text": [
      "-- Analyzing the plane 6 in fov 37.\n",
      "-- Generate 3D nuclei segmentation to find cells.\n",
      "-- Processing Cell#1 from the image\n",
      "-- Analyzing the plane 5 in fov 38.\n",
      "-- Processing Cell#2 from the image\n",
      "-- Analyzing the plane 4 in fov 38.\n",
      "-- Processing Cell#3 from the image\n"
     ]
    },
    {
     "name": "stderr",
     "output_type": "stream",
     "text": [
      "\r",
      " 51%|█████████████████████████████████████████▌                                        | 38/75 [24:06<18:34, 30.13s/it]"
     ]
    },
    {
     "name": "stdout",
     "output_type": "stream",
     "text": [
      "-- Analyzing the plane 4 in fov 38.\n",
      "-- Generate 3D nuclei segmentation to find cells.\n",
      "-- Processing Cell#1 from the image\n",
      "-- Analyzing the plane 7 in fov 39.\n",
      "-- Processing Cell#2 from the image\n",
      "-- Analyzing the plane 7 in fov 39.\n",
      "-- Processing Cell#3 from the image\n",
      "-- Analyzing the plane 7 in fov 39.\n",
      "-- Processing Cell#4 from the image\n",
      "-- Analyzing the plane 7 in fov 39.\n",
      "-- Processing Cell#5 from the image\n",
      "-- Analyzing the plane 7 in fov 39.\n",
      "-- Processing Cell#6 from the image\n",
      "-- Analyzing the plane 7 in fov 39.\n",
      "-- Processing Cell#7 from the image\n",
      "-- Analyzing the plane 7 in fov 39.\n",
      "-- Processing Cell#8 from the image\n",
      "-- Analyzing the plane 7 in fov 39.\n",
      "-- Processing Cell#9 from the image\n",
      "-- Analyzing the plane 7 in fov 39.\n",
      "-- Processing Cell#10 from the image\n",
      "-- Analyzing the plane 7 in fov 39.\n",
      "-- Processing Cell#11 from the image\n",
      "-- Analyzing the plane 7 in fov 39.\n",
      "-- Processing Cell#12 from the image\n"
     ]
    },
    {
     "name": "stderr",
     "output_type": "stream",
     "text": [
      "\r",
      " 52%|██████████████████████████████████████████▋                                       | 39/75 [24:44<19:34, 32.63s/it]"
     ]
    },
    {
     "name": "stdout",
     "output_type": "stream",
     "text": [
      "-- Analyzing the plane 7 in fov 39.\n",
      "-- Generate 3D nuclei segmentation to find cells.\n",
      "-- Processing Cell#1 from the image\n",
      "-- Analyzing the plane 7 in fov 40.\n",
      "-- Processing Cell#2 from the image\n",
      "-- Analyzing the plane 7 in fov 40.\n",
      "-- Processing Cell#3 from the image\n",
      "-- Analyzing the plane 7 in fov 40.\n",
      "-- Processing Cell#4 from the image\n",
      "-- Analyzing the plane 7 in fov 40.\n",
      "-- Processing Cell#5 from the image\n",
      "-- Analyzing the plane 7 in fov 40.\n",
      "-- Processing Cell#6 from the image\n",
      "-- Analyzing the plane 7 in fov 40.\n",
      "-- Processing Cell#7 from the image\n",
      "-- Analyzing the plane 7 in fov 40.\n",
      "-- Processing Cell#8 from the image\n",
      "-- Analyzing the plane 7 in fov 40.\n",
      "-- Processing Cell#9 from the image\n",
      "-- Analyzing the plane 7 in fov 40.\n",
      "-- Processing Cell#10 from the image\n"
     ]
    },
    {
     "name": "stderr",
     "output_type": "stream",
     "text": [
      "\r",
      " 53%|███████████████████████████████████████████▋                                      | 40/75 [25:21<19:45, 33.86s/it]"
     ]
    },
    {
     "name": "stdout",
     "output_type": "stream",
     "text": [
      "-- Analyzing the plane 7 in fov 40.\n",
      "-- Generate 3D nuclei segmentation to find cells.\n",
      "-- Processing Cell#1 from the image\n",
      "-- Analyzing the plane 7 in fov 41.\n",
      "-- Processing Cell#2 from the image\n",
      "-- Analyzing the plane 6 in fov 41.\n",
      "-- Processing Cell#3 from the image\n",
      "-- Analyzing the plane 6 in fov 41.\n",
      "-- Processing Cell#4 from the image\n",
      "-- Analyzing the plane 7 in fov 41.\n",
      "-- Processing Cell#5 from the image\n",
      "-- Analyzing the plane 7 in fov 41.\n",
      "-- Processing Cell#6 from the image\n",
      "-- Analyzing the plane 7 in fov 41.\n",
      "-- Processing Cell#7 from the image\n",
      "-- Analyzing the plane 7 in fov 41.\n",
      "-- Processing Cell#8 from the image\n",
      "-- Analyzing the plane 7 in fov 41.\n",
      "-- Processing Cell#9 from the image\n",
      "-- Analyzing the plane 7 in fov 41.\n",
      "-- Processing Cell#10 from the image\n",
      "-- Analyzing the plane 7 in fov 41.\n",
      "-- Processing Cell#11 from the image\n",
      "-- Analyzing the plane 7 in fov 41.\n",
      "-- Processing Cell#12 from the image\n",
      "-- Analyzing the plane 7 in fov 41.\n",
      "-- Processing Cell#13 from the image\n",
      "-- Analyzing the plane 7 in fov 41.\n",
      "-- Processing Cell#14 from the image\n",
      "-- Analyzing the plane 7 in fov 41.\n",
      "-- Processing Cell#15 from the image\n"
     ]
    },
    {
     "name": "stderr",
     "output_type": "stream",
     "text": [
      "\r",
      " 55%|████████████████████████████████████████████▊                                     | 41/75 [26:03<20:29, 36.17s/it]"
     ]
    },
    {
     "name": "stdout",
     "output_type": "stream",
     "text": [
      "-- Analyzing the plane 7 in fov 41.\n",
      "-- Generate 3D nuclei segmentation to find cells.\n",
      "-- Processing Cell#1 from the image\n",
      "-- Analyzing the plane 7 in fov 42.\n",
      "-- Processing Cell#2 from the image\n",
      "-- Analyzing the plane 6 in fov 42.\n",
      "-- Processing Cell#3 from the image\n",
      "-- Analyzing the plane 6 in fov 42.\n",
      "-- Processing Cell#4 from the image\n",
      "-- Analyzing the plane 7 in fov 42.\n",
      "-- Processing Cell#5 from the image\n",
      "-- Analyzing the plane 5 in fov 42.\n",
      "-- Processing Cell#6 from the image\n",
      "-- Analyzing the plane 5 in fov 42.\n",
      "-- Processing Cell#7 from the image\n",
      "-- Analyzing the plane 7 in fov 42.\n",
      "-- Processing Cell#8 from the image\n",
      "-- Analyzing the plane 6 in fov 42.\n",
      "-- Processing Cell#9 from the image\n"
     ]
    },
    {
     "name": "stderr",
     "output_type": "stream",
     "text": [
      "\r",
      " 56%|█████████████████████████████████████████████▉                                    | 42/75 [26:38<19:42, 35.83s/it]"
     ]
    },
    {
     "name": "stdout",
     "output_type": "stream",
     "text": [
      "-- Analyzing the plane 6 in fov 42.\n",
      "-- Generate 3D nuclei segmentation to find cells.\n",
      "-- Processing Cell#1 from the image\n",
      "-- Analyzing the plane 7 in fov 43.\n",
      "-- Processing Cell#2 from the image\n",
      "-- Analyzing the plane 7 in fov 43.\n",
      "-- Processing Cell#3 from the image\n",
      "-- Analyzing the plane 7 in fov 43.\n",
      "-- Processing Cell#4 from the image\n",
      "-- Analyzing the plane 6 in fov 43.\n",
      "-- Processing Cell#5 from the image\n",
      "-- Analyzing the plane 6 in fov 43.\n",
      "-- Processing Cell#6 from the image\n",
      "-- Analyzing the plane 6 in fov 43.\n",
      "-- Processing Cell#7 from the image\n",
      "-- Analyzing the plane 6 in fov 43.\n",
      "-- Processing Cell#8 from the image\n"
     ]
    },
    {
     "name": "stderr",
     "output_type": "stream",
     "text": [
      "\r",
      " 57%|███████████████████████████████████████████████                                   | 43/75 [27:13<18:57, 35.54s/it]"
     ]
    },
    {
     "name": "stdout",
     "output_type": "stream",
     "text": [
      "-- Analyzing the plane 6 in fov 43.\n",
      "-- Generate 3D nuclei segmentation to find cells.\n",
      "-- Processing Cell#1 from the image\n",
      "-- Analyzing the plane 5 in fov 44.\n",
      "-- Processing Cell#2 from the image\n",
      "-- Analyzing the plane 6 in fov 44.\n",
      "-- Processing Cell#3 from the image\n",
      "-- Analyzing the plane 5 in fov 44.\n",
      "-- Processing Cell#4 from the image\n",
      "-- Analyzing the plane 6 in fov 44.\n",
      "-- Processing Cell#5 from the image\n",
      "-- Analyzing the plane 5 in fov 44.\n",
      "-- Processing Cell#6 from the image\n",
      "-- Analyzing the plane 4 in fov 44.\n",
      "-- Processing Cell#7 from the image\n",
      "-- Analyzing the plane 4 in fov 44.\n",
      "-- Processing Cell#8 from the image\n"
     ]
    },
    {
     "name": "stderr",
     "output_type": "stream",
     "text": [
      "\r",
      " 59%|████████████████████████████████████████████████                                  | 44/75 [27:47<18:07, 35.08s/it]"
     ]
    },
    {
     "name": "stdout",
     "output_type": "stream",
     "text": [
      "-- Analyzing the plane 4 in fov 44.\n",
      "-- Generate 3D nuclei segmentation to find cells.\n",
      "-- Processing Cell#1 from the image\n",
      "-- Analyzing the plane 7 in fov 45.\n",
      "-- Processing Cell#2 from the image\n",
      "-- Analyzing the plane 7 in fov 45.\n",
      "-- Processing Cell#3 from the image\n",
      "-- Analyzing the plane 6 in fov 45.\n",
      "-- Processing Cell#4 from the image\n",
      "-- Analyzing the plane 6 in fov 45.\n",
      "-- Processing Cell#5 from the image\n",
      "-- Analyzing the plane 6 in fov 45.\n",
      "-- Processing Cell#6 from the image\n",
      "-- Analyzing the plane 6 in fov 45.\n",
      "-- Processing Cell#7 from the image\n",
      "-- Analyzing the plane 6 in fov 45.\n",
      "-- Processing Cell#8 from the image\n",
      "-- Analyzing the plane 6 in fov 45.\n",
      "-- Processing Cell#9 from the image\n"
     ]
    },
    {
     "name": "stderr",
     "output_type": "stream",
     "text": [
      "\r",
      " 60%|█████████████████████████████████████████████████▏                                | 45/75 [28:23<17:42, 35.42s/it]"
     ]
    },
    {
     "name": "stdout",
     "output_type": "stream",
     "text": [
      "-- Analyzing the plane 6 in fov 45.\n",
      "-- Generate 3D nuclei segmentation to find cells.\n"
     ]
    },
    {
     "name": "stderr",
     "output_type": "stream",
     "text": [
      "C:\\Users\\Shiwei\\AppData\\Roaming\\Python\\Python37\\site-packages\\skimage\\util\\dtype.py:541: UserWarning: Downcasting int32 to uint8 without scaling because max value 0 fits in uint8\n",
      "  return _convert(image, np.uint8, force_copy)\n",
      "\r",
      " 61%|██████████████████████████████████████████████████▎                               | 46/75 [28:49<15:47, 32.68s/it]"
     ]
    },
    {
     "name": "stdout",
     "output_type": "stream",
     "text": [
      "-- Generate 3D nuclei segmentation to find cells.\n"
     ]
    },
    {
     "name": "stderr",
     "output_type": "stream",
     "text": [
      "\r",
      " 63%|███████████████████████████████████████████████████▍                              | 47/75 [29:16<14:23, 30.85s/it]"
     ]
    },
    {
     "name": "stdout",
     "output_type": "stream",
     "text": [
      "-- Generate 3D nuclei segmentation to find cells.\n",
      "-- Processing Cell#1 from the image\n",
      "-- Analyzing the plane 6 in fov 48.\n",
      "-- Processing Cell#2 from the image\n",
      "-- Analyzing the plane 6 in fov 48.\n",
      "-- Processing Cell#3 from the image\n"
     ]
    },
    {
     "name": "stderr",
     "output_type": "stream",
     "text": [
      "\r",
      " 64%|████████████████████████████████████████████████████▍                             | 48/75 [29:45<13:43, 30.51s/it]"
     ]
    },
    {
     "name": "stdout",
     "output_type": "stream",
     "text": [
      "-- Analyzing the plane 6 in fov 48.\n",
      "-- Generate 3D nuclei segmentation to find cells.\n"
     ]
    },
    {
     "name": "stderr",
     "output_type": "stream",
     "text": [
      "C:\\Users\\Shiwei\\AppData\\Roaming\\Python\\Python37\\site-packages\\skimage\\util\\dtype.py:541: UserWarning: Downcasting int32 to uint8 without scaling because max value 1 fits in uint8\n",
      "  return _convert(image, np.uint8, force_copy)\n"
     ]
    },
    {
     "name": "stdout",
     "output_type": "stream",
     "text": [
      "-- Processing Cell#1 from the image\n"
     ]
    },
    {
     "name": "stderr",
     "output_type": "stream",
     "text": [
      "\r",
      " 65%|█████████████████████████████████████████████████████▌                            | 49/75 [30:12<12:42, 29.32s/it]"
     ]
    },
    {
     "name": "stdout",
     "output_type": "stream",
     "text": [
      "-- Analyzing the plane 5 in fov 49.\n",
      "-- Generate 3D nuclei segmentation to find cells.\n",
      "-- Processing Cell#1 from the image\n",
      "-- Analyzing the plane 5 in fov 50.\n",
      "-- Processing Cell#2 from the image\n",
      "-- Analyzing the plane 5 in fov 50.\n",
      "-- Processing Cell#3 from the image\n"
     ]
    },
    {
     "name": "stderr",
     "output_type": "stream",
     "text": [
      "\r",
      " 67%|██████████████████████████████████████████████████████▋                           | 50/75 [30:42<12:21, 29.66s/it]"
     ]
    },
    {
     "name": "stdout",
     "output_type": "stream",
     "text": [
      "-- Analyzing the plane 5 in fov 50.\n",
      "-- Generate 3D nuclei segmentation to find cells.\n"
     ]
    },
    {
     "name": "stderr",
     "output_type": "stream",
     "text": [
      "C:\\Users\\Shiwei\\AppData\\Roaming\\Python\\Python37\\site-packages\\skimage\\util\\dtype.py:541: UserWarning: Downcasting int32 to uint8 without scaling because max value 6 fits in uint8\n",
      "  return _convert(image, np.uint8, force_copy)\n"
     ]
    },
    {
     "name": "stdout",
     "output_type": "stream",
     "text": [
      "-- Processing Cell#1 from the image\n",
      "-- Analyzing the plane 6 in fov 51.\n",
      "-- Processing Cell#2 from the image\n",
      "-- Analyzing the plane 6 in fov 51.\n",
      "-- Processing Cell#3 from the image\n",
      "-- Analyzing the plane 6 in fov 51.\n",
      "-- Processing Cell#4 from the image\n",
      "-- Analyzing the plane 6 in fov 51.\n",
      "-- Processing Cell#5 from the image\n",
      "-- Analyzing the plane 5 in fov 51.\n",
      "-- Processing Cell#6 from the image\n"
     ]
    },
    {
     "name": "stderr",
     "output_type": "stream",
     "text": [
      "\r",
      " 68%|███████████████████████████████████████████████████████▊                          | 51/75 [31:15<12:12, 30.53s/it]"
     ]
    },
    {
     "name": "stdout",
     "output_type": "stream",
     "text": [
      "-- Analyzing the plane 5 in fov 51.\n",
      "-- Generate 3D nuclei segmentation to find cells.\n",
      "-- Processing Cell#1 from the image\n",
      "-- Analyzing the plane 6 in fov 52.\n",
      "-- Processing Cell#2 from the image\n"
     ]
    },
    {
     "name": "stderr",
     "output_type": "stream",
     "text": [
      "\r",
      " 69%|████████████████████████████████████████████████████████▊                         | 52/75 [31:43<11:24, 29.77s/it]"
     ]
    },
    {
     "name": "stdout",
     "output_type": "stream",
     "text": [
      "-- Analyzing the plane 6 in fov 52.\n",
      "-- Generate 3D nuclei segmentation to find cells.\n"
     ]
    },
    {
     "name": "stderr",
     "output_type": "stream",
     "text": [
      "\r",
      " 71%|█████████████████████████████████████████████████████████▉                        | 53/75 [32:08<10:21, 28.26s/it]"
     ]
    },
    {
     "name": "stdout",
     "output_type": "stream",
     "text": [
      "-- Generate 3D nuclei segmentation to find cells.\n"
     ]
    },
    {
     "name": "stderr",
     "output_type": "stream",
     "text": [
      "C:\\Users\\Shiwei\\AppData\\Roaming\\Python\\Python37\\site-packages\\skimage\\util\\dtype.py:541: UserWarning: Downcasting int32 to uint8 without scaling because max value 16 fits in uint8\n",
      "  return _convert(image, np.uint8, force_copy)\n"
     ]
    },
    {
     "name": "stdout",
     "output_type": "stream",
     "text": [
      "-- Processing Cell#1 from the image\n",
      "-- Analyzing the plane 6 in fov 54.\n",
      "-- Processing Cell#2 from the image\n",
      "-- Analyzing the plane 6 in fov 54.\n",
      "-- Processing Cell#3 from the image\n",
      "-- Analyzing the plane 6 in fov 54.\n",
      "-- Processing Cell#4 from the image\n",
      "-- Analyzing the plane 5 in fov 54.\n",
      "-- Processing Cell#5 from the image\n",
      "-- Analyzing the plane 6 in fov 54.\n",
      "-- Processing Cell#6 from the image\n",
      "-- Analyzing the plane 7 in fov 54.\n",
      "-- Processing Cell#7 from the image\n",
      "-- Analyzing the plane 5 in fov 54.\n",
      "-- Processing Cell#8 from the image\n",
      "-- Analyzing the plane 5 in fov 54.\n",
      "-- Processing Cell#9 from the image\n",
      "-- Analyzing the plane 5 in fov 54.\n",
      "-- Processing Cell#10 from the image\n",
      "-- Analyzing the plane 5 in fov 54.\n",
      "-- Processing Cell#11 from the image\n",
      "-- Analyzing the plane 5 in fov 54.\n",
      "-- Processing Cell#12 from the image\n",
      "-- Analyzing the plane 5 in fov 54.\n",
      "-- Processing Cell#13 from the image\n",
      "-- Analyzing the plane 5 in fov 54.\n",
      "-- Processing Cell#14 from the image\n",
      "-- Analyzing the plane 5 in fov 54.\n",
      "-- Processing Cell#15 from the image\n",
      "-- Analyzing the plane 5 in fov 54.\n",
      "-- Processing Cell#16 from the image\n"
     ]
    },
    {
     "name": "stderr",
     "output_type": "stream",
     "text": [
      "\r",
      " 72%|███████████████████████████████████████████████████████████                       | 54/75 [32:50<11:19, 32.34s/it]"
     ]
    },
    {
     "name": "stdout",
     "output_type": "stream",
     "text": [
      "-- Analyzing the plane 5 in fov 54.\n",
      "-- Generate 3D nuclei segmentation to find cells.\n",
      "-- Processing Cell#1 from the image\n",
      "-- Analyzing the plane 6 in fov 55.\n",
      "-- Processing Cell#2 from the image\n",
      "-- Analyzing the plane 6 in fov 55.\n"
     ]
    },
    {
     "name": "stderr",
     "output_type": "stream",
     "text": [
      "\r",
      " 73%|████████████████████████████████████████████████████████████▏                     | 55/75 [33:20<10:35, 31.78s/it]"
     ]
    },
    {
     "name": "stdout",
     "output_type": "stream",
     "text": [
      "-- Generate 3D nuclei segmentation to find cells.\n",
      "-- Processing Cell#1 from the image\n",
      "-- Analyzing the plane 7 in fov 56.\n",
      "-- Processing Cell#2 from the image\n",
      "-- Analyzing the plane 6 in fov 56.\n",
      "-- Processing Cell#3 from the image\n",
      "-- Analyzing the plane 5 in fov 56.\n",
      "-- Processing Cell#4 from the image\n",
      "-- Analyzing the plane 5 in fov 56.\n",
      "-- Processing Cell#5 from the image\n",
      "-- Analyzing the plane 5 in fov 56.\n",
      "-- Processing Cell#6 from the image\n",
      "-- Analyzing the plane 5 in fov 56.\n",
      "-- Processing Cell#7 from the image\n",
      "-- Analyzing the plane 5 in fov 56.\n",
      "-- Processing Cell#8 from the image\n",
      "-- Analyzing the plane 5 in fov 56.\n",
      "-- Processing Cell#9 from the image\n"
     ]
    },
    {
     "name": "stderr",
     "output_type": "stream",
     "text": [
      "\r",
      " 75%|█████████████████████████████████████████████████████████████▏                    | 56/75 [33:56<10:27, 33.02s/it]"
     ]
    },
    {
     "name": "stdout",
     "output_type": "stream",
     "text": [
      "-- Analyzing the plane 5 in fov 56.\n",
      "-- Generate 3D nuclei segmentation to find cells.\n"
     ]
    },
    {
     "name": "stderr",
     "output_type": "stream",
     "text": [
      "\r",
      " 76%|██████████████████████████████████████████████████████████████▎                   | 57/75 [34:22<09:18, 31.03s/it]"
     ]
    },
    {
     "name": "stdout",
     "output_type": "stream",
     "text": [
      "-- Generate 3D nuclei segmentation to find cells.\n"
     ]
    },
    {
     "name": "stderr",
     "output_type": "stream",
     "text": [
      "\r",
      " 77%|███████████████████████████████████████████████████████████████▍                  | 58/75 [34:48<08:19, 29.41s/it]"
     ]
    },
    {
     "name": "stdout",
     "output_type": "stream",
     "text": [
      "-- Generate 3D nuclei segmentation to find cells.\n"
     ]
    },
    {
     "name": "stderr",
     "output_type": "stream",
     "text": [
      "C:\\Users\\Shiwei\\AppData\\Roaming\\Python\\Python37\\site-packages\\skimage\\util\\dtype.py:541: UserWarning: Downcasting int32 to uint8 without scaling because max value 17 fits in uint8\n",
      "  return _convert(image, np.uint8, force_copy)\n"
     ]
    },
    {
     "name": "stdout",
     "output_type": "stream",
     "text": [
      "-- Processing Cell#1 from the image\n",
      "-- Analyzing the plane 5 in fov 59.\n",
      "-- Processing Cell#2 from the image\n",
      "-- Analyzing the plane 5 in fov 59.\n",
      "-- Processing Cell#3 from the image\n",
      "-- Analyzing the plane 5 in fov 59.\n",
      "-- Processing Cell#4 from the image\n",
      "-- Analyzing the plane 5 in fov 59.\n",
      "-- Processing Cell#5 from the image\n",
      "-- Analyzing the plane 4 in fov 59.\n",
      "-- Processing Cell#6 from the image\n",
      "-- Analyzing the plane 5 in fov 59.\n",
      "-- Processing Cell#7 from the image\n",
      "-- Analyzing the plane 5 in fov 59.\n",
      "-- Processing Cell#8 from the image\n",
      "-- Analyzing the plane 5 in fov 59.\n",
      "-- Processing Cell#9 from the image\n",
      "-- Analyzing the plane 4 in fov 59.\n",
      "-- Processing Cell#10 from the image\n",
      "-- Analyzing the plane 4 in fov 59.\n",
      "-- Processing Cell#11 from the image\n",
      "-- Analyzing the plane 4 in fov 59.\n",
      "-- Processing Cell#12 from the image\n",
      "-- Analyzing the plane 4 in fov 59.\n",
      "-- Processing Cell#13 from the image\n",
      "-- Analyzing the plane 4 in fov 59.\n",
      "-- Processing Cell#14 from the image\n",
      "-- Analyzing the plane 3 in fov 59.\n",
      "-- Processing Cell#15 from the image\n",
      "-- Analyzing the plane 3 in fov 59.\n",
      "-- Processing Cell#16 from the image\n",
      "-- Analyzing the plane 4 in fov 59.\n",
      "-- Processing Cell#17 from the image\n"
     ]
    },
    {
     "name": "stderr",
     "output_type": "stream",
     "text": [
      "\r",
      " 79%|████████████████████████████████████████████████████████████████▌                 | 59/75 [35:31<08:55, 33.45s/it]"
     ]
    },
    {
     "name": "stdout",
     "output_type": "stream",
     "text": [
      "-- Analyzing the plane 3 in fov 59.\n",
      "-- Generate 3D nuclei segmentation to find cells.\n",
      "-- Processing Cell#1 from the image\n",
      "-- Analyzing the plane 6 in fov 60.\n",
      "-- Processing Cell#2 from the image\n",
      "-- Analyzing the plane 7 in fov 60.\n",
      "-- Processing Cell#3 from the image\n",
      "-- Analyzing the plane 6 in fov 60.\n",
      "-- Processing Cell#4 from the image\n",
      "-- Analyzing the plane 6 in fov 60.\n",
      "-- Processing Cell#5 from the image\n",
      "-- Analyzing the plane 6 in fov 60.\n",
      "-- Processing Cell#6 from the image\n",
      "-- Analyzing the plane 6 in fov 60.\n",
      "-- Processing Cell#7 from the image\n",
      "-- Analyzing the plane 6 in fov 60.\n",
      "-- Processing Cell#8 from the image\n",
      "-- Analyzing the plane 6 in fov 60.\n",
      "-- Processing Cell#9 from the image\n",
      "-- Analyzing the plane 6 in fov 60.\n",
      "-- Processing Cell#10 from the image\n",
      "-- Analyzing the plane 6 in fov 60.\n",
      "-- Processing Cell#11 from the image\n",
      "-- Analyzing the plane 6 in fov 60.\n",
      "-- Processing Cell#12 from the image\n"
     ]
    },
    {
     "name": "stderr",
     "output_type": "stream",
     "text": [
      "\r",
      " 80%|█████████████████████████████████████████████████████████████████▌                | 60/75 [36:10<08:47, 35.15s/it]"
     ]
    },
    {
     "name": "stdout",
     "output_type": "stream",
     "text": [
      "-- Analyzing the plane 5 in fov 60.\n",
      "-- Generate 3D nuclei segmentation to find cells.\n",
      "-- Processing Cell#1 from the image\n",
      "-- Analyzing the plane 7 in fov 61.\n",
      "-- Processing Cell#2 from the image\n",
      "-- Analyzing the plane 7 in fov 61.\n",
      "-- Processing Cell#3 from the image\n",
      "-- Analyzing the plane 7 in fov 61.\n",
      "-- Processing Cell#4 from the image\n",
      "-- Analyzing the plane 6 in fov 61.\n",
      "-- Processing Cell#5 from the image\n",
      "-- Analyzing the plane 6 in fov 61.\n",
      "-- Processing Cell#6 from the image\n",
      "-- Analyzing the plane 6 in fov 61.\n",
      "-- Processing Cell#7 from the image\n",
      "-- Analyzing the plane 6 in fov 61.\n",
      "-- Processing Cell#8 from the image\n"
     ]
    },
    {
     "name": "stderr",
     "output_type": "stream",
     "text": [
      "\r",
      " 81%|██████████████████████████████████████████████████████████████████▋               | 61/75 [36:45<08:11, 35.13s/it]"
     ]
    },
    {
     "name": "stdout",
     "output_type": "stream",
     "text": [
      "-- Analyzing the plane 6 in fov 61.\n",
      "-- Generate 3D nuclei segmentation to find cells.\n",
      "-- Processing Cell#1 from the image\n",
      "-- Analyzing the plane 6 in fov 62.\n",
      "-- Processing Cell#2 from the image\n",
      "-- Analyzing the plane 6 in fov 62.\n",
      "-- Processing Cell#3 from the image\n",
      "-- Analyzing the plane 4 in fov 62.\n",
      "-- Processing Cell#4 from the image\n",
      "-- Analyzing the plane 4 in fov 62.\n",
      "-- Processing Cell#5 from the image\n",
      "-- Analyzing the plane 4 in fov 62.\n",
      "-- Processing Cell#6 from the image\n",
      "-- Analyzing the plane 4 in fov 62.\n",
      "-- Processing Cell#7 from the image\n",
      "-- Analyzing the plane 4 in fov 62.\n",
      "-- Processing Cell#8 from the image\n"
     ]
    },
    {
     "name": "stderr",
     "output_type": "stream",
     "text": [
      "\r",
      " 83%|███████████████████████████████████████████████████████████████████▊              | 62/75 [37:19<07:30, 34.64s/it]"
     ]
    },
    {
     "name": "stdout",
     "output_type": "stream",
     "text": [
      "-- Analyzing the plane 5 in fov 62.\n",
      "-- Generate 3D nuclei segmentation to find cells.\n"
     ]
    },
    {
     "name": "stderr",
     "output_type": "stream",
     "text": [
      "\r",
      " 84%|████████████████████████████████████████████████████████████████████▉             | 63/75 [37:44<06:23, 31.94s/it]"
     ]
    },
    {
     "name": "stdout",
     "output_type": "stream",
     "text": [
      "-- Generate 3D nuclei segmentation to find cells.\n",
      "-- Processing Cell#1 from the image\n",
      "-- Analyzing the plane 5 in fov 64.\n",
      "-- Processing Cell#2 from the image\n",
      "-- Analyzing the plane 5 in fov 64.\n",
      "-- Processing Cell#3 from the image\n",
      "-- Analyzing the plane 5 in fov 64.\n",
      "-- Processing Cell#4 from the image\n",
      "-- Analyzing the plane 5 in fov 64.\n",
      "-- Processing Cell#5 from the image\n",
      "-- Analyzing the plane 5 in fov 64.\n",
      "-- Processing Cell#6 from the image\n",
      "-- Analyzing the plane 5 in fov 64.\n",
      "-- Processing Cell#7 from the image\n",
      "-- Analyzing the plane 5 in fov 64.\n",
      "-- Processing Cell#8 from the image\n",
      "-- Analyzing the plane 4 in fov 64.\n",
      "-- Processing Cell#9 from the image\n"
     ]
    },
    {
     "name": "stderr",
     "output_type": "stream",
     "text": [
      "\r",
      " 85%|█████████████████████████████████████████████████████████████████████▉            | 64/75 [38:19<06:02, 32.95s/it]"
     ]
    },
    {
     "name": "stdout",
     "output_type": "stream",
     "text": [
      "-- Analyzing the plane 5 in fov 64.\n",
      "-- Generate 3D nuclei segmentation to find cells.\n",
      "-- Processing Cell#1 from the image\n"
     ]
    },
    {
     "name": "stderr",
     "output_type": "stream",
     "text": [
      "\r",
      " 87%|███████████████████████████████████████████████████████████████████████           | 65/75 [38:47<05:13, 31.39s/it]"
     ]
    },
    {
     "name": "stdout",
     "output_type": "stream",
     "text": [
      "-- Analyzing the plane 5 in fov 65.\n",
      "-- Generate 3D nuclei segmentation to find cells.\n",
      "-- Processing Cell#1 from the image\n",
      "-- Analyzing the plane 7 in fov 66.\n",
      "-- Processing Cell#2 from the image\n",
      "-- Analyzing the plane 7 in fov 66.\n",
      "-- Processing Cell#3 from the image\n"
     ]
    },
    {
     "name": "stderr",
     "output_type": "stream",
     "text": [
      "\r",
      " 88%|████████████████████████████████████████████████████████████████████████▏         | 66/75 [39:19<04:43, 31.55s/it]"
     ]
    },
    {
     "name": "stdout",
     "output_type": "stream",
     "text": [
      "-- Analyzing the plane 7 in fov 66.\n",
      "-- Generate 3D nuclei segmentation to find cells.\n",
      "-- Processing Cell#1 from the image\n",
      "-- Analyzing the plane 5 in fov 67.\n",
      "-- Processing Cell#2 from the image\n",
      "-- Analyzing the plane 5 in fov 67.\n",
      "-- Processing Cell#3 from the image\n",
      "-- Analyzing the plane 5 in fov 67.\n",
      "-- Processing Cell#4 from the image\n",
      "-- Analyzing the plane 5 in fov 67.\n",
      "-- Processing Cell#5 from the image\n",
      "-- Analyzing the plane 5 in fov 67.\n",
      "-- Processing Cell#6 from the image\n",
      "-- Analyzing the plane 6 in fov 67.\n",
      "-- Processing Cell#7 from the image\n",
      "-- Analyzing the plane 6 in fov 67.\n",
      "-- Processing Cell#8 from the image\n",
      "-- Analyzing the plane 5 in fov 67.\n",
      "-- Processing Cell#9 from the image\n"
     ]
    },
    {
     "name": "stderr",
     "output_type": "stream",
     "text": [
      "\r",
      " 89%|█████████████████████████████████████████████████████████████████████████▎        | 67/75 [39:54<04:19, 32.48s/it]"
     ]
    },
    {
     "name": "stdout",
     "output_type": "stream",
     "text": [
      "-- Analyzing the plane 5 in fov 67.\n",
      "-- Generate 3D nuclei segmentation to find cells.\n",
      "-- Processing Cell#1 from the image\n",
      "-- Analyzing the plane 4 in fov 68.\n",
      "-- Processing Cell#2 from the image\n",
      "-- Analyzing the plane 4 in fov 68.\n",
      "-- Processing Cell#3 from the image\n",
      "-- Analyzing the plane 5 in fov 68.\n",
      "-- Processing Cell#4 from the image\n"
     ]
    },
    {
     "name": "stderr",
     "output_type": "stream",
     "text": [
      "\r",
      " 91%|██████████████████████████████████████████████████████████████████████████▎       | 68/75 [40:25<03:45, 32.18s/it]"
     ]
    },
    {
     "name": "stdout",
     "output_type": "stream",
     "text": [
      "-- Analyzing the plane 5 in fov 68.\n",
      "-- Generate 3D nuclei segmentation to find cells.\n",
      "-- Processing Cell#1 from the image\n",
      "-- Analyzing the plane 6 in fov 69.\n",
      "-- Processing Cell#2 from the image\n",
      "-- Analyzing the plane 5 in fov 69.\n",
      "-- Processing Cell#3 from the image\n",
      "-- Analyzing the plane 6 in fov 69.\n",
      "-- Processing Cell#4 from the image\n",
      "-- Analyzing the plane 6 in fov 69.\n",
      "-- Processing Cell#5 from the image\n"
     ]
    },
    {
     "name": "stderr",
     "output_type": "stream",
     "text": [
      "\r",
      " 92%|███████████████████████████████████████████████████████████████████████████▍      | 69/75 [40:57<03:11, 31.99s/it]"
     ]
    },
    {
     "name": "stdout",
     "output_type": "stream",
     "text": [
      "-- Analyzing the plane 6 in fov 69.\n",
      "-- Generate 3D nuclei segmentation to find cells.\n",
      "-- Processing Cell#1 from the image\n",
      "-- Analyzing the plane 7 in fov 70.\n",
      "-- Processing Cell#2 from the image\n",
      "-- Analyzing the plane 7 in fov 70.\n",
      "-- Processing Cell#3 from the image\n",
      "-- Analyzing the plane 6 in fov 70.\n",
      "-- Processing Cell#4 from the image\n",
      "-- Analyzing the plane 6 in fov 70.\n",
      "-- Processing Cell#5 from the image\n",
      "-- Analyzing the plane 6 in fov 70.\n",
      "-- Processing Cell#6 from the image\n",
      "-- Analyzing the plane 7 in fov 70.\n",
      "-- Processing Cell#7 from the image\n",
      "-- Analyzing the plane 6 in fov 70.\n",
      "-- Processing Cell#8 from the image\n",
      "-- Analyzing the plane 6 in fov 70.\n",
      "-- Processing Cell#9 from the image\n",
      "-- Analyzing the plane 6 in fov 70.\n",
      "-- Processing Cell#10 from the image\n",
      "-- Analyzing the plane 6 in fov 70.\n",
      "-- Processing Cell#11 from the image\n",
      "-- Analyzing the plane 6 in fov 70.\n",
      "-- Processing Cell#12 from the image\n",
      "-- Analyzing the plane 6 in fov 70.\n",
      "-- Processing Cell#13 from the image\n",
      "-- Analyzing the plane 6 in fov 70.\n",
      "-- Processing Cell#14 from the image\n",
      "-- Analyzing the plane 6 in fov 70.\n",
      "-- Processing Cell#15 from the image\n",
      "-- Analyzing the plane 6 in fov 70.\n",
      "-- Processing Cell#16 from the image\n",
      "-- Analyzing the plane 6 in fov 70.\n",
      "-- Processing Cell#17 from the image\n",
      "-- Analyzing the plane 6 in fov 70.\n",
      "-- Processing Cell#18 from the image\n",
      "-- Analyzing the plane 6 in fov 70.\n",
      "-- Processing Cell#19 from the image\n"
     ]
    },
    {
     "name": "stderr",
     "output_type": "stream",
     "text": [
      "\r",
      " 93%|████████████████████████████████████████████████████████████████████████████▌     | 70/75 [41:45<03:03, 36.75s/it]"
     ]
    },
    {
     "name": "stdout",
     "output_type": "stream",
     "text": [
      "-- Analyzing the plane 6 in fov 70.\n",
      "-- Generate 3D nuclei segmentation to find cells.\n",
      "-- Processing Cell#1 from the image\n",
      "-- Analyzing the plane 6 in fov 71.\n",
      "-- Processing Cell#2 from the image\n",
      "-- Analyzing the plane 7 in fov 71.\n",
      "-- Processing Cell#3 from the image\n",
      "-- Analyzing the plane 7 in fov 71.\n",
      "-- Processing Cell#4 from the image\n",
      "-- Analyzing the plane 7 in fov 71.\n",
      "-- Processing Cell#5 from the image\n",
      "-- Analyzing the plane 7 in fov 71.\n",
      "-- Processing Cell#6 from the image\n",
      "-- Analyzing the plane 6 in fov 71.\n",
      "-- Processing Cell#7 from the image\n",
      "-- Analyzing the plane 7 in fov 71.\n",
      "-- Processing Cell#8 from the image\n",
      "-- Analyzing the plane 7 in fov 71.\n",
      "-- Processing Cell#9 from the image\n",
      "-- Analyzing the plane 5 in fov 71.\n",
      "-- Processing Cell#10 from the image\n"
     ]
    },
    {
     "name": "stderr",
     "output_type": "stream",
     "text": [
      "\r",
      " 95%|█████████████████████████████████████████████████████████████████████████████▋    | 71/75 [42:20<02:25, 36.30s/it]"
     ]
    },
    {
     "name": "stdout",
     "output_type": "stream",
     "text": [
      "-- Analyzing the plane 5 in fov 71.\n",
      "-- Generate 3D nuclei segmentation to find cells.\n"
     ]
    },
    {
     "name": "stderr",
     "output_type": "stream",
     "text": [
      "C:\\Users\\Shiwei\\AppData\\Roaming\\Python\\Python37\\site-packages\\skimage\\util\\dtype.py:541: UserWarning: Downcasting int32 to uint8 without scaling because max value 32 fits in uint8\n",
      "  return _convert(image, np.uint8, force_copy)\n"
     ]
    },
    {
     "name": "stdout",
     "output_type": "stream",
     "text": [
      "-- Processing Cell#1 from the image\n",
      "-- Analyzing the plane 6 in fov 72.\n",
      "-- Processing Cell#2 from the image\n",
      "-- Analyzing the plane 7 in fov 72.\n",
      "-- Processing Cell#3 from the image\n",
      "-- Analyzing the plane 7 in fov 72.\n",
      "-- Processing Cell#4 from the image\n",
      "-- Analyzing the plane 6 in fov 72.\n",
      "-- Processing Cell#5 from the image\n",
      "-- Analyzing the plane 6 in fov 72.\n",
      "-- Processing Cell#6 from the image\n",
      "-- Analyzing the plane 6 in fov 72.\n",
      "-- Processing Cell#7 from the image\n",
      "-- Analyzing the plane 6 in fov 72.\n",
      "-- Processing Cell#8 from the image\n",
      "-- Analyzing the plane 6 in fov 72.\n",
      "-- Processing Cell#9 from the image\n",
      "-- Analyzing the plane 6 in fov 72.\n",
      "-- Processing Cell#10 from the image\n",
      "-- Analyzing the plane 6 in fov 72.\n",
      "-- Processing Cell#11 from the image\n",
      "-- Analyzing the plane 6 in fov 72.\n",
      "-- Processing Cell#12 from the image\n",
      "-- Analyzing the plane 6 in fov 72.\n",
      "-- Processing Cell#13 from the image\n",
      "-- Analyzing the plane 6 in fov 72.\n",
      "-- Processing Cell#14 from the image\n",
      "-- Analyzing the plane 6 in fov 72.\n",
      "-- Processing Cell#15 from the image\n",
      "-- Analyzing the plane 6 in fov 72.\n",
      "-- Processing Cell#16 from the image\n",
      "-- Analyzing the plane 6 in fov 72.\n",
      "-- Processing Cell#17 from the image\n",
      "-- Analyzing the plane 6 in fov 72.\n",
      "-- Processing Cell#18 from the image\n",
      "-- Analyzing the plane 6 in fov 72.\n",
      "-- Processing Cell#19 from the image\n",
      "-- Analyzing the plane 6 in fov 72.\n",
      "-- Processing Cell#20 from the image\n",
      "-- Analyzing the plane 6 in fov 72.\n",
      "-- Processing Cell#21 from the image\n",
      "-- Analyzing the plane 6 in fov 72.\n",
      "-- Processing Cell#22 from the image\n",
      "-- Analyzing the plane 6 in fov 72.\n",
      "-- Processing Cell#23 from the image\n",
      "-- Analyzing the plane 6 in fov 72.\n",
      "-- Processing Cell#24 from the image\n",
      "-- Analyzing the plane 6 in fov 72.\n",
      "-- Processing Cell#25 from the image\n",
      "-- Analyzing the plane 6 in fov 72.\n",
      "-- Processing Cell#26 from the image\n",
      "-- Analyzing the plane 6 in fov 72.\n",
      "-- Processing Cell#27 from the image\n",
      "-- Analyzing the plane 5 in fov 72.\n",
      "-- Processing Cell#28 from the image\n",
      "-- Analyzing the plane 5 in fov 72.\n",
      "-- Processing Cell#29 from the image\n",
      "-- Analyzing the plane 6 in fov 72.\n",
      "-- Processing Cell#30 from the image\n",
      "-- Analyzing the plane 5 in fov 72.\n",
      "-- Processing Cell#31 from the image\n",
      "-- Analyzing the plane 6 in fov 72.\n",
      "-- Processing Cell#32 from the image\n"
     ]
    },
    {
     "name": "stderr",
     "output_type": "stream",
     "text": [
      "\r",
      " 96%|██████████████████████████████████████████████████████████████████████████████▋   | 72/75 [43:20<02:10, 43.53s/it]"
     ]
    },
    {
     "name": "stdout",
     "output_type": "stream",
     "text": [
      "-- Analyzing the plane 5 in fov 72.\n",
      "-- Generate 3D nuclei segmentation to find cells.\n",
      "-- Processing Cell#1 from the image\n",
      "-- Analyzing the plane 7 in fov 73.\n",
      "-- Processing Cell#2 from the image\n",
      "-- Analyzing the plane 7 in fov 73.\n",
      "-- Processing Cell#3 from the image\n",
      "-- Analyzing the plane 7 in fov 73.\n",
      "-- Processing Cell#4 from the image\n",
      "-- Analyzing the plane 7 in fov 73.\n",
      "-- Processing Cell#5 from the image\n",
      "-- Analyzing the plane 7 in fov 73.\n",
      "-- Processing Cell#6 from the image\n",
      "-- Analyzing the plane 7 in fov 73.\n",
      "-- Processing Cell#7 from the image\n",
      "-- Analyzing the plane 7 in fov 73.\n",
      "-- Processing Cell#8 from the image\n",
      "-- Analyzing the plane 7 in fov 73.\n",
      "-- Processing Cell#9 from the image\n",
      "-- Analyzing the plane 6 in fov 73.\n",
      "-- Processing Cell#10 from the image\n",
      "-- Analyzing the plane 6 in fov 73.\n",
      "-- Processing Cell#11 from the image\n",
      "-- Analyzing the plane 7 in fov 73.\n",
      "-- Processing Cell#12 from the image\n",
      "-- Analyzing the plane 7 in fov 73.\n",
      "-- Processing Cell#13 from the image\n"
     ]
    },
    {
     "name": "stderr",
     "output_type": "stream",
     "text": [
      "\r",
      " 97%|███████████████████████████████████████████████████████████████████████████████▊  | 73/75 [44:00<01:24, 42.31s/it]"
     ]
    },
    {
     "name": "stdout",
     "output_type": "stream",
     "text": [
      "-- Analyzing the plane 6 in fov 73.\n",
      "-- Generate 3D nuclei segmentation to find cells.\n",
      "-- Processing Cell#1 from the image\n",
      "-- Analyzing the plane 7 in fov 74.\n",
      "-- Processing Cell#2 from the image\n",
      "-- Analyzing the plane 7 in fov 74.\n",
      "-- Processing Cell#3 from the image\n",
      "-- Analyzing the plane 7 in fov 74.\n",
      "-- Processing Cell#4 from the image\n",
      "-- Analyzing the plane 6 in fov 74.\n",
      "-- Processing Cell#5 from the image\n",
      "-- Analyzing the plane 7 in fov 74.\n",
      "-- Processing Cell#6 from the image\n",
      "-- Analyzing the plane 7 in fov 74.\n",
      "-- Processing Cell#7 from the image\n",
      "-- Analyzing the plane 7 in fov 74.\n",
      "-- Processing Cell#8 from the image\n",
      "-- Analyzing the plane 7 in fov 74.\n",
      "-- Processing Cell#9 from the image\n",
      "-- Analyzing the plane 6 in fov 74.\n",
      "-- Processing Cell#10 from the image\n",
      "-- Analyzing the plane 6 in fov 74.\n",
      "-- Processing Cell#11 from the image\n",
      "-- Analyzing the plane 7 in fov 74.\n",
      "-- Processing Cell#12 from the image\n",
      "-- Analyzing the plane 6 in fov 74.\n",
      "-- Processing Cell#13 from the image\n",
      "-- Analyzing the plane 6 in fov 74.\n",
      "-- Processing Cell#14 from the image\n",
      "-- Analyzing the plane 6 in fov 74.\n",
      "-- Processing Cell#15 from the image\n",
      "-- Analyzing the plane 6 in fov 74.\n",
      "-- Processing Cell#16 from the image\n",
      "-- Analyzing the plane 6 in fov 74.\n",
      "-- Processing Cell#17 from the image\n",
      "-- Analyzing the plane 6 in fov 74.\n",
      "-- Processing Cell#18 from the image\n",
      "-- Analyzing the plane 6 in fov 74.\n",
      "-- Processing Cell#19 from the image\n",
      "-- Analyzing the plane 6 in fov 74.\n",
      "-- Processing Cell#20 from the image\n",
      "-- Analyzing the plane 6 in fov 74.\n",
      "-- Processing Cell#21 from the image\n"
     ]
    },
    {
     "name": "stderr",
     "output_type": "stream",
     "text": [
      "\r",
      " 99%|████████████████████████████████████████████████████████████████████████████████▉ | 74/75 [44:47<00:43, 43.81s/it]"
     ]
    },
    {
     "name": "stdout",
     "output_type": "stream",
     "text": [
      "-- Analyzing the plane 6 in fov 74.\n",
      "-- Generate 3D nuclei segmentation to find cells.\n"
     ]
    },
    {
     "name": "stderr",
     "output_type": "stream",
     "text": [
      "100%|██████████████████████████████████████████████████████████████████████████████████| 75/75 [45:13<00:00, 36.18s/it]\n"
     ]
    }
   ],
   "source": [
    "# Initiate result dataframe to store analysis measurement:\n",
    "measurement_for_all_fov_df = pd.DataFrame()\n",
    "\n",
    "\n",
    "# Initiate cellpose model\n",
    "model= models.Cellpose(gpu=False, model_type='nuclei',)\n",
    "####################################################################################\n",
    "# Loop through each ND data file\n",
    "for data_ind, data in enumerate(data_files[:]):\n",
    "\n",
    "    # data name: usually the experiment name \n",
    "    data_name = data.split('\\\\')[-1]\n",
    "\n",
    "    # if use annotation, then check if data/exp name is in the annotation dict\n",
    "    if not _analyze_all_nd:\n",
    "        if data_name in cell_info_dict.keys():\n",
    "            if _verbose:\n",
    "                print(f\"-----------------------------------------------------------\")    \n",
    "                print(f\"-- Start analyzing the dataset of {data_name}\")\n",
    "            # load data if ND data exists in the anntation\n",
    "            images = ND2Reader(data)\n",
    "            num_of_planes = images.sizes[\"z\"] # load 'z' info\n",
    "            # multi-fov image\n",
    "            if 'v' in images.sizes.keys():\n",
    "                num_of_fov = images.sizes[\"v\"] # load 'v' info\n",
    "            # set num_of_fov as 1 for single fov image\n",
    "            else:\n",
    "                num_of_fov = 1\n",
    "        \n",
    "            # load fov_of_interest from the preprocessed cell_info_dict\n",
    "            fov_of_interest_str = cell_info_dict[data_name].keys()\n",
    "            fov_of_interest = [(int(_fov_str)-1) for _fov_str in fov_of_interest_str]\n",
    "            #print(fov_of_interest)\n",
    "        else:\n",
    "            fov_of_interest = []\n",
    "                    \n",
    "    # load data without using annotation\n",
    "    else:\n",
    "        images = ND2Reader(data)\n",
    "        num_of_planes = images.sizes[\"z\"] # load 'z' info\n",
    "        # multi-fov image\n",
    "        if 'v' in images.sizes.keys():\n",
    "            num_of_fov = images.sizes[\"v\"] # load 'v' info\n",
    "        # set num_of_fov as 1 for single fov image\n",
    "        else:\n",
    "            num_of_fov = 1\n",
    "            \n",
    "        # if exclude bad focal plane that are not focused\n",
    "        fovs_all = list(range(num_of_fov))\n",
    "        if data_ind in fov_to_exclude_dict.keys():\n",
    "            fov_of_interest = [ind for ind in fovs_all if ind not in fov_to_exclude_dict[data_ind]]\n",
    "        else:\n",
    "            fov_of_interest = fovs_all\n",
    "            \n",
    "###########################################################################################\n",
    "# Loop through each FOV of interest\n",
    "    if _verbose:# for indentation purposes\n",
    "        \n",
    "        for _fov_id in tqdm(fov_of_interest[:]):                \n",
    "            \n",
    "            # use annotation dict to look for cell of interest\n",
    "            if not _analyze_all_nd:\n",
    "                if _verbose:\n",
    "                    print ('-- Use given annotation dict to find cells.')\n",
    "                cell_coord_list = cell_info_dict[data_name][str(_fov_id+1)] \n",
    "            \n",
    "            # use 3D nuclei signal to do segmenation by cellpose\n",
    "            else:\n",
    "                if _verbose:\n",
    "                    print ('-- Generate 3D nuclei segmentation to find cells.')\n",
    "                image_cell_3d = []\n",
    "                for _lyr in range(num_of_planes): # ch index starts from 0\n",
    "                    image_cell = np.array(images.get_frame_2D (v=_fov_id, c= ch_dict[dna_key]-1, z=_lyr))\n",
    "                    image_cell_3d.append(image_cell)\n",
    "                image_cell_3d = np.array(image_cell_3d)\n",
    "                #\n",
    "                nuclei_mask_3d,flows, styles, diams = model.eval(image_cell_3d, diameter=90, \n",
    "                                                    channels = [0,0],\n",
    "                                                   flow_threshold=1, do_3D=False)\n",
    "                \n",
    "                noncell_mask_all = nuclei_mask_3d==0\n",
    "                \n",
    "                # remove edge cell\n",
    "                nuclei_mask_3d=cellpose.utils.remove_edge_masks(nuclei_mask_3d, change_index=True)\n",
    "                nuclei_mask_3d=cellpose.utils.fill_holes_and_remove_small_masks(nuclei_mask_3d, min_size=nuclei_filter)\n",
    "                \n",
    "                mask_save_path = data_output_folder + os.sep + f'segmentations_{mdc_std_ratio}_{small_53BP_size}_crop_subset_controlled' +  os.sep + \\\n",
    "                        f'{data_name}' +os.sep + f'_Pos_{_fov_id+1}'\n",
    "                if not os.path.exists(mask_save_path):\n",
    "                    os.makedirs(mask_save_path)\n",
    "                mask_name = f'Nuclei_segmenations_exclude_edges_Pos_{_fov_id+1}.tif'\n",
    "                if os.path.exists(mask_save_path+os.sep+mask_name):\n",
    "                    os.remove(mask_save_path+os.sep+mask_name)\n",
    "                io.imsave(mask_save_path+os.sep+mask_name,(skimage.img_as_ubyte(nuclei_mask_3d)), check_contrast=False)\n",
    "                \n",
    "                #print(num_of_nuclei)\n",
    "                # if use the cell coord refined analysis\n",
    "                cell_coord_list  = []\n",
    "                for i in np.unique(nuclei_mask_3d)[:]:\n",
    "                    if i >0:\n",
    "                        # initate dict to store result\n",
    "                        measurement_each_dict = {}\n",
    "                        _cell_id=i\n",
    "                        cand_nucleus = nuclei_mask_3d == i\n",
    "                        cand_nucleus[cand_nucleus>0]=1\n",
    "                        cand_nucleus = np.array(cand_nucleus)\n",
    "                        # append the coord for the objects of interest\n",
    "                        region = skimage.measure.regionprops (skimage.measure.label(cand_nucleus))[0]\n",
    "                        # centroid coord as YX, select the cells within the predefined bound\n",
    "                        check_Y_pos = region.centroid[0] >= search_xylim[0] and region.centroid[0] <= search_xylim[1]\n",
    "                        check_X_pos = region.centroid[1] >= search_xylim[0] and region.centroid[1] <= search_xylim[1]\n",
    "                        if check_Y_pos and check_X_pos:\n",
    "                            cell_center = [int(region.centroid[1]),int(region.centroid[0])]\n",
    "                            cell_coord_list.append(cell_center)\n",
    "                            if _verbose:\n",
    "                                print (f'-- Processing Cell#{_cell_id} from the image')\n",
    "\n",
    "                            # define as nuclei mask\n",
    "                            nuclei_to_measure = cand_nucleus\n",
    "                            noncell_background = noncell_mask_all\n",
    "\n",
    "                            # Find the best focal plane using the m6T/mdc (the factor key) channel for the cell of interest  \n",
    "                            #image_fl = []\n",
    "                            image_std = []\n",
    "                            image_3d_for_label = []\n",
    "\n",
    "                            for _lyr in range(num_of_planes): # ch index starts from 0\n",
    "                                image_array_fl = np.array(images.get_frame_2D (v=_fov_id, c= ch_dict[mdc1_key]-1, z=_lyr))                  \n",
    "                                # do cropping if necessary; remember to inver XY\n",
    "                                if crop_image: # current crop size as rough cell size\n",
    "                                    crop_y1 = int(max(0,cell_center[1]-cell_size/2))\n",
    "                                    crop_y2 = int(min(raw_image_size[1],cell_center[1]+cell_size/2))\n",
    "                                    crop_x1 = int(max(0,cell_center[0]-cell_size/2))\n",
    "                                    crop_x2 = int(min(raw_image_size[0],cell_center[0]+cell_size/2))\n",
    "                                    image_array_fl = image_array_fl[crop_y1:crop_y2,crop_x1:crop_x2]\n",
    "\n",
    "\n",
    "                                 # use image signal STD distribution to find the best focal plane for the plane of interest\n",
    "                                _fl=image_array_fl.flatten()\n",
    "                                image_std.append(np.std(_fl))\n",
    "                                #also append the image for later potential usage (eg. re-adjust focal plane)\n",
    "                                #image_3d_for_label.append(image_array_fl)\n",
    "\n",
    "                            # find the initial best focal plane using std features          \n",
    "                            best_plane_index = np.argmax(np.array(image_std))\n",
    "                            if _verbose:\n",
    "                                print(f\"-- Analyzing the plane {best_plane_index+1} in fov {_fov_id+1}.\")\n",
    "                            sel_img = np.array(images.get_frame_2D (v=_fov_id, c= ch_dict[mdc1_key]-1, z=best_plane_index))                  \n",
    "\n",
    "                            if crop_image: # current crop size as rough cell size\n",
    "                                sel_img = sel_img[crop_y1:crop_y2,crop_x1:crop_x2]\n",
    "                                nuclei_to_measure = nuclei_to_measure[crop_y1:crop_y2,crop_x1:crop_x2]\n",
    "                                noncell_background = noncell_background[crop_y1:crop_y2,crop_x1:crop_x2]\n",
    "\n",
    "\n",
    "                            # Get cellular mdc mask \n",
    "                            mdc_intensity = sel_img*nuclei_to_measure\n",
    "                            mdc_intensity_filtered = mdc_intensity[mdc_intensity!=0]\n",
    "                            mdc_positive_th =np.mean(mdc_intensity_filtered) + np.std(mdc_intensity_filtered)*mdc_std_ratio\n",
    "                            mdc_mask = np.logical_and(sel_img>mdc_positive_th, nuclei_to_measure)\n",
    "                            mdc_chr_mask = remove_small_objects(mdc_mask, small_53BP_size,connectivity=1)\n",
    "                            mdc_chr_mask = ndi.binary_fill_holes(mdc_chr_mask)\n",
    "                            mdc_chr_mask = dilation(mdc_chr_mask,disk(1))\n",
    "                            mdc_chr_mask = erosion(mdc_chr_mask,disk(1))\n",
    "\n",
    "                            # Append info and results for cells of interest\n",
    "                            measurement_each_dict['exp_name']=data_input_folder.split('\\\\')[-2]\n",
    "                            measurement_each_dict['position_id']=f'{data_name}_Pos{_fov_id+1}'\n",
    "                            measurement_each_dict['cell_id']=int(_cell_id+1)\n",
    "                            measurement_each_dict['cell_xyz_coord']=[cell_center, best_plane_index+1]\n",
    "\n",
    "                            measurement_each_dict['mdc1_size']=np.sum(mdc_chr_mask)\n",
    "                            measurement_each_dict['nucleus_size']=np.sum(nuclei_to_measure)\n",
    "                            measurement_each_dict['mdc1_relative_size']=np.sum(mdc_chr_mask)/np.sum(nuclei_to_measure)\n",
    "                            measurement_each_dict['mdc1_mdc1_intensity']=np.mean((sel_img * mdc_chr_mask)[mdc_chr_mask!=0])\n",
    "                            measurement_each_dict['nucleus_mdc1_intensity']=np.mean((sel_img * nuclei_to_measure)[nuclei_to_measure!=0])\n",
    "                            measurement_each_dict['noncell_mdc1_intensity']=np.mean((sel_img * noncell_background)[noncell_background!=0])\n",
    "                            measurement_each_dict['mdc1_mdc1_norm_intensity']=((measurement_each_dict['mdc1_mdc1_intensity']-measurement_each_dict['noncell_mdc1_intensity'])\n",
    "                                                                               /(measurement_each_dict['nucleus_mdc1_intensity']-measurement_each_dict['noncell_mdc1_intensity']))\n",
    "\n",
    "\n",
    "                            measurement_for_each_cell_df=pd.DataFrame.from_dict(measurement_each_dict,orient='index').transpose()\n",
    "                            measurement_for_all_fov_df = pd.concat([measurement_for_all_fov_df,measurement_for_each_cell_df])\n",
    "\n",
    "                            # Save individual valid mask or image for each cell \n",
    "                            mask_file_list = [mdc_chr_mask,nuclei_to_measure,sel_img]\n",
    "                            mask_savename_list = [f'cell_{_cell_id+1}_cand_MN_body.tif',\n",
    "                                                  f'cell_{_cell_id+1}_nucleus.tif',\n",
    "                                                  f'cell_{_cell_id+1}_MDC1_image.tif',]\n",
    "\n",
    "                            for _name, _file in zip(mask_savename_list,mask_file_list):\n",
    "                                # remove old ones if exist\n",
    "                                if os.path.exists(mask_save_path+os.sep+_name):\n",
    "                                    os.remove(mask_save_path+os.sep+_name)\n",
    "                                if _name == f'cell_{_cell_id+1}_MDC1_image.tif':\n",
    "                                    if save_crop_raw_image:\n",
    "                                        io.imsave(mask_save_path+os.sep+_name,_file, check_contrast=False)\n",
    "                                    else:\n",
    "                                        pass\n",
    "                                else:\n",
    "                                    io.imsave(mask_save_path+os.sep+_name,(skimage.img_as_ubyte(_file)), check_contrast=False)\n",
    "\n",
    "\n",
    "\n",
    "                                \n",
    "# Save excel result\n",
    "_save_results = True\n",
    "\n",
    "if _save_results:\n",
    "    analysis_savename = f'measurement_for_all_fov_background_subtracted_{mdc_std_ratio}_{small_53BP_size}_crop.xlsx'\n",
    "    #analysis_save_path = data_save_folder[:-2] + os.sep + 'analysis' + os.sep + f'{data_name}' \n",
    "    analysis_save_path = data_output_folder + os.sep + 'analysis_subset_controlled' \n",
    "    if not os.path.exists(analysis_save_path):\n",
    "        os.makedirs(analysis_save_path)\n",
    "    measurement_for_all_fov_df.to_excel(analysis_save_path+os.sep+analysis_savename)\n",
    "                            \n",
    "                        "
   ]
  },
  {
   "cell_type": "code",
   "execution_count": 7,
   "metadata": {},
   "outputs": [
    {
     "data": {
      "text/html": [
       "<div>\n",
       "<style scoped>\n",
       "    .dataframe tbody tr th:only-of-type {\n",
       "        vertical-align: middle;\n",
       "    }\n",
       "\n",
       "    .dataframe tbody tr th {\n",
       "        vertical-align: top;\n",
       "    }\n",
       "\n",
       "    .dataframe thead th {\n",
       "        text-align: right;\n",
       "    }\n",
       "</style>\n",
       "<table border=\"1\" class=\"dataframe\">\n",
       "  <thead>\n",
       "    <tr style=\"text-align: right;\">\n",
       "      <th></th>\n",
       "      <th>exp_name</th>\n",
       "      <th>position_id</th>\n",
       "      <th>cell_id</th>\n",
       "      <th>cell_xyz_coord</th>\n",
       "      <th>mdc1_size</th>\n",
       "      <th>nucleus_size</th>\n",
       "      <th>mdc1_relative_size</th>\n",
       "      <th>mdc1_mdc1_intensity</th>\n",
       "      <th>nucleus_mdc1_intensity</th>\n",
       "      <th>noncell_mdc1_intensity</th>\n",
       "      <th>mdc1_mdc1_norm_intensity</th>\n",
       "    </tr>\n",
       "  </thead>\n",
       "  <tbody>\n",
       "    <tr>\n",
       "      <th>0</th>\n",
       "      <td>220502_p53ko_16days</td>\n",
       "      <td>220502 RPE1 p53ko noco 16d aMDC1rb-488 H3K27ac...</td>\n",
       "      <td>2</td>\n",
       "      <td>[[601, 392], 5]</td>\n",
       "      <td>0</td>\n",
       "      <td>1380</td>\n",
       "      <td>0.0</td>\n",
       "      <td>NaN</td>\n",
       "      <td>290.067391</td>\n",
       "      <td>123.972608</td>\n",
       "      <td>NaN</td>\n",
       "    </tr>\n",
       "    <tr>\n",
       "      <th>0</th>\n",
       "      <td>220502_p53ko_16days</td>\n",
       "      <td>220502 RPE1 p53ko noco 16d aMDC1rb-488 H3K27ac...</td>\n",
       "      <td>3</td>\n",
       "      <td>[[608, 493], 5]</td>\n",
       "      <td>0</td>\n",
       "      <td>1352</td>\n",
       "      <td>0.0</td>\n",
       "      <td>NaN</td>\n",
       "      <td>246.800296</td>\n",
       "      <td>124.470469</td>\n",
       "      <td>NaN</td>\n",
       "    </tr>\n",
       "    <tr>\n",
       "      <th>0</th>\n",
       "      <td>220502_p53ko_16days</td>\n",
       "      <td>220502 RPE1 p53ko noco 16d aMDC1rb-488 H3K27ac...</td>\n",
       "      <td>4</td>\n",
       "      <td>[[1107, 1054], 5]</td>\n",
       "      <td>0</td>\n",
       "      <td>4157</td>\n",
       "      <td>0.0</td>\n",
       "      <td>NaN</td>\n",
       "      <td>297.354342</td>\n",
       "      <td>124.414896</td>\n",
       "      <td>NaN</td>\n",
       "    </tr>\n",
       "    <tr>\n",
       "      <th>0</th>\n",
       "      <td>220502_p53ko_16days</td>\n",
       "      <td>220502 RPE1 p53ko noco 16d aMDC1rb-488 H3K27ac...</td>\n",
       "      <td>5</td>\n",
       "      <td>[[857, 1272], 5]</td>\n",
       "      <td>0</td>\n",
       "      <td>6799</td>\n",
       "      <td>0.0</td>\n",
       "      <td>NaN</td>\n",
       "      <td>218.295779</td>\n",
       "      <td>117.182427</td>\n",
       "      <td>NaN</td>\n",
       "    </tr>\n",
       "    <tr>\n",
       "      <th>0</th>\n",
       "      <td>220502_p53ko_16days</td>\n",
       "      <td>220502 RPE1 p53ko noco 16d aMDC1rb-488 H3K27ac...</td>\n",
       "      <td>6</td>\n",
       "      <td>[[1305, 1546], 5]</td>\n",
       "      <td>0</td>\n",
       "      <td>5533</td>\n",
       "      <td>0.0</td>\n",
       "      <td>NaN</td>\n",
       "      <td>250.255377</td>\n",
       "      <td>119.68726</td>\n",
       "      <td>NaN</td>\n",
       "    </tr>\n",
       "    <tr>\n",
       "      <th>...</th>\n",
       "      <td>...</td>\n",
       "      <td>...</td>\n",
       "      <td>...</td>\n",
       "      <td>...</td>\n",
       "      <td>...</td>\n",
       "      <td>...</td>\n",
       "      <td>...</td>\n",
       "      <td>...</td>\n",
       "      <td>...</td>\n",
       "      <td>...</td>\n",
       "      <td>...</td>\n",
       "    </tr>\n",
       "    <tr>\n",
       "      <th>0</th>\n",
       "      <td>220502_p53ko_16days</td>\n",
       "      <td>220502 RPE1 p53ko noco 16d aMDC1rb-488 H3K27ac...</td>\n",
       "      <td>18</td>\n",
       "      <td>[[1175, 1628], 6]</td>\n",
       "      <td>0</td>\n",
       "      <td>6371</td>\n",
       "      <td>0.0</td>\n",
       "      <td>NaN</td>\n",
       "      <td>481.724847</td>\n",
       "      <td>136.695492</td>\n",
       "      <td>NaN</td>\n",
       "    </tr>\n",
       "    <tr>\n",
       "      <th>0</th>\n",
       "      <td>220502_p53ko_16days</td>\n",
       "      <td>220502 RPE1 p53ko noco 16d aMDC1rb-488 H3K27ac...</td>\n",
       "      <td>19</td>\n",
       "      <td>[[981, 1653], 6]</td>\n",
       "      <td>0</td>\n",
       "      <td>6208</td>\n",
       "      <td>0.0</td>\n",
       "      <td>NaN</td>\n",
       "      <td>602.565399</td>\n",
       "      <td>142.650459</td>\n",
       "      <td>NaN</td>\n",
       "    </tr>\n",
       "    <tr>\n",
       "      <th>0</th>\n",
       "      <td>220502_p53ko_16days</td>\n",
       "      <td>220502 RPE1 p53ko noco 16d aMDC1rb-488 H3K27ac...</td>\n",
       "      <td>20</td>\n",
       "      <td>[[916, 1833], 6]</td>\n",
       "      <td>0</td>\n",
       "      <td>3516</td>\n",
       "      <td>0.0</td>\n",
       "      <td>NaN</td>\n",
       "      <td>957.306883</td>\n",
       "      <td>125.792875</td>\n",
       "      <td>NaN</td>\n",
       "    </tr>\n",
       "    <tr>\n",
       "      <th>0</th>\n",
       "      <td>220502_p53ko_16days</td>\n",
       "      <td>220502 RPE1 p53ko noco 16d aMDC1rb-488 H3K27ac...</td>\n",
       "      <td>21</td>\n",
       "      <td>[[480, 1872], 6]</td>\n",
       "      <td>0</td>\n",
       "      <td>3656</td>\n",
       "      <td>0.0</td>\n",
       "      <td>NaN</td>\n",
       "      <td>688.31209</td>\n",
       "      <td>125.461889</td>\n",
       "      <td>NaN</td>\n",
       "    </tr>\n",
       "    <tr>\n",
       "      <th>0</th>\n",
       "      <td>220502_p53ko_16days</td>\n",
       "      <td>220502 RPE1 p53ko noco 16d aMDC1rb-488 H3K27ac...</td>\n",
       "      <td>22</td>\n",
       "      <td>[[513, 1926], 6]</td>\n",
       "      <td>0</td>\n",
       "      <td>2677</td>\n",
       "      <td>0.0</td>\n",
       "      <td>NaN</td>\n",
       "      <td>773.4774</td>\n",
       "      <td>127.295084</td>\n",
       "      <td>NaN</td>\n",
       "    </tr>\n",
       "  </tbody>\n",
       "</table>\n",
       "<p>735 rows × 11 columns</p>\n",
       "</div>"
      ],
      "text/plain": [
       "               exp_name                                        position_id  \\\n",
       "0   220502_p53ko_16days  220502 RPE1 p53ko noco 16d aMDC1rb-488 H3K27ac...   \n",
       "0   220502_p53ko_16days  220502 RPE1 p53ko noco 16d aMDC1rb-488 H3K27ac...   \n",
       "0   220502_p53ko_16days  220502 RPE1 p53ko noco 16d aMDC1rb-488 H3K27ac...   \n",
       "0   220502_p53ko_16days  220502 RPE1 p53ko noco 16d aMDC1rb-488 H3K27ac...   \n",
       "0   220502_p53ko_16days  220502 RPE1 p53ko noco 16d aMDC1rb-488 H3K27ac...   \n",
       "..                  ...                                                ...   \n",
       "0   220502_p53ko_16days  220502 RPE1 p53ko noco 16d aMDC1rb-488 H3K27ac...   \n",
       "0   220502_p53ko_16days  220502 RPE1 p53ko noco 16d aMDC1rb-488 H3K27ac...   \n",
       "0   220502_p53ko_16days  220502 RPE1 p53ko noco 16d aMDC1rb-488 H3K27ac...   \n",
       "0   220502_p53ko_16days  220502 RPE1 p53ko noco 16d aMDC1rb-488 H3K27ac...   \n",
       "0   220502_p53ko_16days  220502 RPE1 p53ko noco 16d aMDC1rb-488 H3K27ac...   \n",
       "\n",
       "   cell_id     cell_xyz_coord mdc1_size nucleus_size mdc1_relative_size  \\\n",
       "0        2    [[601, 392], 5]         0         1380                0.0   \n",
       "0        3    [[608, 493], 5]         0         1352                0.0   \n",
       "0        4  [[1107, 1054], 5]         0         4157                0.0   \n",
       "0        5   [[857, 1272], 5]         0         6799                0.0   \n",
       "0        6  [[1305, 1546], 5]         0         5533                0.0   \n",
       "..     ...                ...       ...          ...                ...   \n",
       "0       18  [[1175, 1628], 6]         0         6371                0.0   \n",
       "0       19   [[981, 1653], 6]         0         6208                0.0   \n",
       "0       20   [[916, 1833], 6]         0         3516                0.0   \n",
       "0       21   [[480, 1872], 6]         0         3656                0.0   \n",
       "0       22   [[513, 1926], 6]         0         2677                0.0   \n",
       "\n",
       "   mdc1_mdc1_intensity nucleus_mdc1_intensity noncell_mdc1_intensity  \\\n",
       "0                  NaN             290.067391             123.972608   \n",
       "0                  NaN             246.800296             124.470469   \n",
       "0                  NaN             297.354342             124.414896   \n",
       "0                  NaN             218.295779             117.182427   \n",
       "0                  NaN             250.255377              119.68726   \n",
       "..                 ...                    ...                    ...   \n",
       "0                  NaN             481.724847             136.695492   \n",
       "0                  NaN             602.565399             142.650459   \n",
       "0                  NaN             957.306883             125.792875   \n",
       "0                  NaN              688.31209             125.461889   \n",
       "0                  NaN               773.4774             127.295084   \n",
       "\n",
       "   mdc1_mdc1_norm_intensity  \n",
       "0                       NaN  \n",
       "0                       NaN  \n",
       "0                       NaN  \n",
       "0                       NaN  \n",
       "0                       NaN  \n",
       "..                      ...  \n",
       "0                       NaN  \n",
       "0                       NaN  \n",
       "0                       NaN  \n",
       "0                       NaN  \n",
       "0                       NaN  \n",
       "\n",
       "[735 rows x 11 columns]"
      ]
     },
     "execution_count": 7,
     "metadata": {},
     "output_type": "execute_result"
    }
   ],
   "source": [
    "measurement_for_all_fov_df"
   ]
  },
  {
   "cell_type": "code",
   "execution_count": 8,
   "metadata": {},
   "outputs": [],
   "source": [
    "import seaborn as sns"
   ]
  },
  {
   "cell_type": "code",
   "execution_count": 9,
   "metadata": {},
   "outputs": [
    {
     "data": {
      "text/plain": [
       "<matplotlib.axes._subplots.AxesSubplot at 0x22b3e77d5c8>"
      ]
     },
     "execution_count": 9,
     "metadata": {},
     "output_type": "execute_result"
    },
    {
     "data": {
      "image/png": "[encoded data removed]",
      "text/plain": [
       "<Figure size 432x288 with 1 Axes>"
      ]
     },
     "metadata": {
      "needs_background": "light"
     },
     "output_type": "display_data"
    }
   ],
   "source": [
    "sns.swarmplot(measurement_for_all_fov_df['mdc1_mdc1_norm_intensity'],s=7)"
   ]
  },
  {
   "cell_type": "code",
   "execution_count": 10,
   "metadata": {},
   "outputs": [
    {
     "data": {
      "text/plain": [
       "<matplotlib.axes._subplots.AxesSubplot at 0x22b3eb02048>"
      ]
     },
     "execution_count": 10,
     "metadata": {},
     "output_type": "execute_result"
    },
    {
     "data": {
      "image/png": "[encoded data removed]",
      "text/plain": [
       "<Figure size 432x288 with 1 Axes>"
      ]
     },
     "metadata": {
      "needs_background": "light"
     },
     "output_type": "display_data"
    }
   ],
   "source": [
    "sns.scatterplot(measurement_for_all_fov_df['mdc1_mdc1_norm_intensity'],measurement_for_all_fov_df['mdc1_mdc1_intensity'],s=50)"
   ]
  },
  {
   "cell_type": "code",
   "execution_count": 11,
   "metadata": {},
   "outputs": [
    {
     "data": {
      "text/plain": [
       "<matplotlib.axes._subplots.AxesSubplot at 0x22b3ec47788>"
      ]
     },
     "execution_count": 11,
     "metadata": {},
     "output_type": "execute_result"
    },
    {
     "data": {
      "image/png": "[encoded data removed]",
      "text/plain": [
       "<Figure size 432x288 with 1 Axes>"
      ]
     },
     "metadata": {
      "needs_background": "light"
     },
     "output_type": "display_data"
    }
   ],
   "source": [
    "sel_mdc_df = measurement_for_all_fov_df[measurement_for_all_fov_df['mdc1_relative_size']>0]\n",
    "sns.swarmplot(sel_mdc_df['mdc1_relative_size'],s=7)"
   ]
  },
  {
   "cell_type": "code",
   "execution_count": 12,
   "metadata": {},
   "outputs": [
    {
     "data": {
      "text/plain": [
       "<matplotlib.axes._subplots.AxesSubplot at 0x22b3e924ac8>"
      ]
     },
     "execution_count": 12,
     "metadata": {},
     "output_type": "execute_result"
    },
    {
     "data": {
      "image/png": "[encoded data removed]",
      "text/plain": [
       "<Figure size 432x288 with 1 Axes>"
      ]
     },
     "metadata": {
      "needs_background": "light"
     },
     "output_type": "display_data"
    }
   ],
   "source": [
    "sel_mdc_df = measurement_for_all_fov_df[measurement_for_all_fov_df['mdc1_relative_size']>0]\n",
    "sns.swarmplot(sel_mdc_df['mdc1_size'],s=7)"
   ]
  },
  {
   "cell_type": "code",
   "execution_count": 13,
   "metadata": {},
   "outputs": [
    {
     "data": {
      "text/plain": [
       "<matplotlib.axes._subplots.AxesSubplot at 0x22b3e70b048>"
      ]
     },
     "execution_count": 13,
     "metadata": {},
     "output_type": "execute_result"
    },
    {
     "data": {
      "image/png": "[encoded data removed]",
      "text/plain": [
       "<Figure size 432x288 with 1 Axes>"
      ]
     },
     "metadata": {
      "needs_background": "light"
     },
     "output_type": "display_data"
    }
   ],
   "source": [
    "sns.scatterplot(sel_mdc_df['mdc1_mdc1_norm_intensity'],sel_mdc_df['mdc1_size'],s=50)"
   ]
  },
  {
   "cell_type": "code",
   "execution_count": 14,
   "metadata": {},
   "outputs": [
    {
     "data": {
      "text/plain": [
       "<matplotlib.axes._subplots.AxesSubplot at 0x22b3e836548>"
      ]
     },
     "execution_count": 14,
     "metadata": {},
     "output_type": "execute_result"
    },
    {
     "data": {
      "image/png": "[encoded data removed]",
      "text/plain": [
       "<Figure size 432x288 with 1 Axes>"
      ]
     },
     "metadata": {
      "needs_background": "light"
     },
     "output_type": "display_data"
    }
   ],
   "source": [
    "sns.scatterplot(sel_mdc_df['mdc1_mdc1_norm_intensity'],sel_mdc_df['mdc1_relative_size'],s=50)"
   ]
  },
  {
   "cell_type": "code",
   "execution_count": 15,
   "metadata": {},
   "outputs": [],
   "source": [
    "measurement_for_all_fov_df_filter=measurement_for_all_fov_df[measurement_for_all_fov_df['nucleus_size']>2000]"
   ]
  },
  {
   "cell_type": "code",
   "execution_count": 16,
   "metadata": {},
   "outputs": [
    {
     "data": {
      "text/plain": [
       "632"
      ]
     },
     "execution_count": 16,
     "metadata": {},
     "output_type": "execute_result"
    }
   ],
   "source": [
    "len(measurement_for_all_fov_df_filter)"
   ]
  },
  {
   "cell_type": "code",
   "execution_count": 17,
   "metadata": {},
   "outputs": [
    {
     "data": {
      "text/plain": [
       "735"
      ]
     },
     "execution_count": 17,
     "metadata": {},
     "output_type": "execute_result"
    }
   ],
   "source": [
    "len(measurement_for_all_fov_df)"
   ]
  },
  {
   "cell_type": "code",
   "execution_count": 18,
   "metadata": {},
   "outputs": [
    {
     "data": {
      "text/plain": [
       "4"
      ]
     },
     "execution_count": 18,
     "metadata": {},
     "output_type": "execute_result"
    }
   ],
   "source": [
    "len(sel_mdc_df)"
   ]
  },
  {
   "cell_type": "code",
   "execution_count": null,
   "metadata": {},
   "outputs": [],
   "source": []
  },
  {
   "cell_type": "code",
   "execution_count": 19,
   "metadata": {},
   "outputs": [
    {
     "data": {
      "text/plain": [
       "0.006329113924050633"
      ]
     },
     "execution_count": 19,
     "metadata": {},
     "output_type": "execute_result"
    }
   ],
   "source": [
    "len(sel_mdc_df)/len(measurement_for_all_fov_df_filter)"
   ]
  },
  {
   "cell_type": "code",
   "execution_count": 20,
   "metadata": {
    "scrolled": true
   },
   "outputs": [
    {
     "data": {
      "text/plain": [
       "0.005442176870748299"
      ]
     },
     "execution_count": 20,
     "metadata": {},
     "output_type": "execute_result"
    }
   ],
   "source": [
    "len(sel_mdc_df)/len(measurement_for_all_fov_df)"
   ]
  }
 ],
 "metadata": {
  "kernelspec": {
   "display_name": "Python 3",
   "language": "python",
   "name": "python3"
  },
  "language_info": {
   "codemirror_mode": {
    "name": "ipython",
    "version": 3
   },
   "file_extension": ".py",
   "mimetype": "text/x-python",
   "name": "python",
   "nbconvert_exporter": "python",
   "pygments_lexer": "ipython3",
   "version": "3.7.6"
  },
  "toc": {
   "base_numbering": 1,
   "nav_menu": {},
   "number_sections": false,
   "sideBar": true,
   "skip_h1_title": false,
   "title_cell": "Table of Contents",
   "title_sidebar": "Contents",
   "toc_cell": false,
   "toc_position": {},
   "toc_section_display": true,
   "toc_window_display": true
  },
  "varInspector": {
   "cols": {
    "lenName": 16,
    "lenType": 16,
    "lenVar": 40
   },
   "kernels_config": {
    "python": {
     "delete_cmd_postfix": "",
     "delete_cmd_prefix": "del ",
     "library": "var_list.py",
     "varRefreshCmd": "print(var_dic_list())"
    },
    "r": {
     "delete_cmd_postfix": ") ",
     "delete_cmd_prefix": "rm(",
     "library": "var_list.r",
     "varRefreshCmd": "cat(var_dic_list()) "
    }
   },
   "types_to_exclude": [
    "module",
    "function",
    "builtin_function_or_method",
    "instance",
    "_Feature"
   ],
   "window_display": false
  }
 },
 "nbformat": 4,
 "nbformat_minor": 4
}

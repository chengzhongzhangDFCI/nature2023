{
 "cells": [
  {
   "cell_type": "code",
   "execution_count": 1,
   "metadata": {},
   "outputs": [],
   "source": [
    "import numpy as np\n",
    "import matplotlib.pyplot as plt\n",
    "from skimage import io\n",
    "from skimage import data\n",
    "import skimage\n",
    "from skimage.filters.thresholding import threshold_li,threshold_local,threshold_otsu\n",
    "from skimage.morphology import erosion, dilation, opening, closing, white_tophat, remove_small_objects, ball\n",
    "from skimage.morphology import disk\n",
    "from scipy import ndimage as ndi\n",
    "import sys,os, glob\n",
    "\n",
    "#import skimage.filters.median\n",
    "\n",
    "#import skimage.segmentation as seg\n",
    "#import skimage.filters as filters\n",
    "#import skimage.draw as draw\n",
    "#import skimage.color as color\n",
    "\n",
    "#from skimage.filters.thresholding import _cross_entropy\n",
    "#from skimage.morphology import black_tophat, skeletonize, convex_hull_image\n",
    "\n",
    "\n",
    "#pip install nd2reader_required for nd2 file reading\n",
    "from nd2reader import ND2Reader\n",
    "\n",
    "import pandas as pd"
   ]
  },
  {
   "cell_type": "markdown",
   "metadata": {},
   "source": [
    "# 1. Merge all experiment results by type"
   ]
  },
  {
   "cell_type": "markdown",
   "metadata": {},
   "source": [
    "## 1.1. Process each exp condition"
   ]
  },
  {
   "cell_type": "code",
   "execution_count": 8,
   "metadata": {},
   "outputs": [
    {
     "data": {
      "text/plain": [
       "['D:\\\\Analyzed_CellBio\\\\Stam\\\\40x_MNbody_analysis\\\\220331IF_210217exp_p53ko_fixed\\\\p53ko_16days',\n",
       " 'D:\\\\Analyzed_CellBio\\\\Stam\\\\40x_MNbody_analysis\\\\220331IF_210217exp_p53ko_fixed\\\\p53ko_45h',\n",
       " 'D:\\\\Analyzed_CellBio\\\\Stam\\\\40x_MNbody_analysis\\\\220331IF_210217exp_p53ko_fixed\\\\p53ko_4days',\n",
       " 'D:\\\\Analyzed_CellBio\\\\Stam\\\\40x_MNbody_analysis\\\\220331IF_210217exp_p53ko_fixed\\\\p53ko_8days',\n",
       " 'D:\\\\Analyzed_CellBio\\\\Stam\\\\40x_MNbody_analysis\\\\220331IF_210302exp_p53ko_fixed\\\\p53ko_16days',\n",
       " 'D:\\\\Analyzed_CellBio\\\\Stam\\\\40x_MNbody_analysis\\\\220331IF_210302exp_p53ko_fixed\\\\p53ko_45h',\n",
       " 'D:\\\\Analyzed_CellBio\\\\Stam\\\\40x_MNbody_analysis\\\\220331IF_210302exp_p53ko_fixed\\\\p53ko_4days',\n",
       " 'D:\\\\Analyzed_CellBio\\\\Stam\\\\40x_MNbody_analysis\\\\220331IF_210302exp_p53ko_fixed\\\\p53ko_8days']"
      ]
     },
     "execution_count": 8,
     "metadata": {},
     "output_type": "execute_result"
    }
   ],
   "source": [
    "data_main_folder = r'D:\\Analyzed_CellBio\\Stam\\40x_MNbody_analysis'\n",
    "data_main_list = glob.glob(os.path.join(data_main_folder,'*'))\n",
    "data_main_list = [f for f in data_main_list if '220331IF_' in f]\n",
    "\n",
    "data_list = []\n",
    "for data_f in data_main_list:\n",
    "    data_list.extend(glob.glob(os.path.join(data_f,'*')))\n",
    "data_list\n"
   ]
  },
  {
   "cell_type": "code",
   "execution_count": 16,
   "metadata": {},
   "outputs": [
    {
     "name": "stderr",
     "output_type": "stream",
     "text": [
      "100%|████████████████████████████████████████████████████████████████████████████████████| 8/8 [00:01<00:00,  4.04it/s]\n"
     ]
    }
   ],
   "source": [
    "import tqdm\n",
    "mdc_std_ratio = 2\n",
    "small_53BP_size=200\n",
    "\n",
    "exp_df_list = []\n",
    "\n",
    "for _data in tqdm.tqdm(data_list):\n",
    "    \n",
    "    exp_key = _data.split('\\\\')[-1].split('_')[-1]\n",
    "    exp_annotation = _data.split('\\\\')[-2].split('_p53ko')[0]\n",
    "    \n",
    "    df_fname = os.path.join(_data,\n",
    "                            '40x',\n",
    "                            'analysis_subset_controlled',\n",
    "                            f'measurement_for_all_fov_background_subtracted_{mdc_std_ratio}_{small_53BP_size}_crop.xlsx')\n",
    "    \n",
    "    _df = pd.read_excel(df_fname, index_col=None)\n",
    "    _df['exp_annotation']=exp_annotation\n",
    "    _df['exp_key']=exp_key\n",
    "    _df['mdc_Ab']='mouse'\n",
    "    _df.drop(columns='Unnamed: 0', inplace=True)\n",
    "    exp_df_list.append(_df)\n",
    "    "
   ]
  },
  {
   "cell_type": "markdown",
   "metadata": {},
   "source": [
    "## 1.2. Process each control condition"
   ]
  },
  {
   "cell_type": "code",
   "execution_count": 17,
   "metadata": {},
   "outputs": [
    {
     "name": "stderr",
     "output_type": "stream",
     "text": [
      "100%|████████████████████████████████████████████████████████████████████████████████████| 2/2 [00:01<00:00,  1.22it/s]\n"
     ]
    }
   ],
   "source": [
    "control_list = [r'D:\\Analyzed_CellBio\\Stam\\40x_MNbody_analysis\\220623IF_220601exp_p53_control_fixed\\220621exp_cov1',\n",
    "                r'D:\\Analyzed_CellBio\\Stam\\40x_MNbody_analysis\\220623IF_220602exp_p53_control_fixed']\n",
    "\n",
    "import tqdm\n",
    "mdc_std_ratio = 2\n",
    "small_53BP_size=200\n",
    "\n",
    "\n",
    "for _data in tqdm.tqdm(control_list):\n",
    "    \n",
    "    exp_key = 'control'\n",
    "    exp_annotation = _data.split('\\\\')[4].split('_p53_control_fixed')[0]\n",
    "    \n",
    "    df_fname = os.path.join(_data,\n",
    "                            'analysis_subset_controlled',\n",
    "                            f'measurement_for_all_fov_background_subtracted_{mdc_std_ratio}_{small_53BP_size}_crop.xlsx')\n",
    "    \n",
    "    _df = pd.read_excel(df_fname, index_col=None)\n",
    "    _df['exp_annotation']=exp_annotation\n",
    "    _df['exp_key']=exp_key\n",
    "    _df['mdc_Ab']='mouse'\n",
    "    _df.drop(columns='Unnamed: 0', inplace=True)\n",
    "    exp_df_list.append(_df)"
   ]
  },
  {
   "cell_type": "markdown",
   "metadata": {},
   "source": [
    "## 1.3. Process each mouse Ab exps"
   ]
  },
  {
   "cell_type": "markdown",
   "metadata": {},
   "source": [
    "## 1.4. Merge all dfs."
   ]
  },
  {
   "cell_type": "code",
   "execution_count": 18,
   "metadata": {},
   "outputs": [
    {
     "name": "stdout",
     "output_type": "stream",
     "text": [
      "10\n"
     ]
    }
   ],
   "source": [
    "print (len(exp_df_list))\n",
    "merged_df =  pd.concat(exp_df_list)"
   ]
  },
  {
   "cell_type": "code",
   "execution_count": 19,
   "metadata": {},
   "outputs": [
    {
     "data": {
      "text/html": [
       "<div>\n",
       "<style scoped>\n",
       "    .dataframe tbody tr th:only-of-type {\n",
       "        vertical-align: middle;\n",
       "    }\n",
       "\n",
       "    .dataframe tbody tr th {\n",
       "        vertical-align: top;\n",
       "    }\n",
       "\n",
       "    .dataframe thead th {\n",
       "        text-align: right;\n",
       "    }\n",
       "</style>\n",
       "<table border=\"1\" class=\"dataframe\">\n",
       "  <thead>\n",
       "    <tr style=\"text-align: right;\">\n",
       "      <th></th>\n",
       "      <th>exp_name</th>\n",
       "      <th>position_id</th>\n",
       "      <th>cell_id</th>\n",
       "      <th>cell_xyz_coord</th>\n",
       "      <th>mdc1_size</th>\n",
       "      <th>nucleus_size</th>\n",
       "      <th>mdc1_relative_size</th>\n",
       "      <th>mdc1_mdc1_intensity</th>\n",
       "      <th>nucleus_mdc1_intensity</th>\n",
       "      <th>noncell_mdc1_intensity</th>\n",
       "      <th>mdc1_mdc1_norm_intensity</th>\n",
       "      <th>exp_annotation</th>\n",
       "      <th>exp_key</th>\n",
       "      <th>mdc_Ab</th>\n",
       "    </tr>\n",
       "  </thead>\n",
       "  <tbody>\n",
       "    <tr>\n",
       "      <th>0</th>\n",
       "      <td>40x</td>\n",
       "      <td>RPE1 p53ko noco 16d aMDC1-488 lamB1-561 PolS5-...</td>\n",
       "      <td>2</td>\n",
       "      <td>[[1359, 418], 7]</td>\n",
       "      <td>0</td>\n",
       "      <td>6065</td>\n",
       "      <td>0.0</td>\n",
       "      <td>NaN</td>\n",
       "      <td>409.639571</td>\n",
       "      <td>135.230537</td>\n",
       "      <td>NaN</td>\n",
       "      <td>220331IF_210217exp</td>\n",
       "      <td>16days</td>\n",
       "      <td>mouse</td>\n",
       "    </tr>\n",
       "    <tr>\n",
       "      <th>1</th>\n",
       "      <td>40x</td>\n",
       "      <td>RPE1 p53ko noco 16d aMDC1-488 lamB1-561 PolS5-...</td>\n",
       "      <td>3</td>\n",
       "      <td>[[1381, 552], 7]</td>\n",
       "      <td>0</td>\n",
       "      <td>2811</td>\n",
       "      <td>0.0</td>\n",
       "      <td>NaN</td>\n",
       "      <td>270.744219</td>\n",
       "      <td>149.338545</td>\n",
       "      <td>NaN</td>\n",
       "      <td>220331IF_210217exp</td>\n",
       "      <td>16days</td>\n",
       "      <td>mouse</td>\n",
       "    </tr>\n",
       "    <tr>\n",
       "      <th>2</th>\n",
       "      <td>40x</td>\n",
       "      <td>RPE1 p53ko noco 16d aMDC1-488 lamB1-561 PolS5-...</td>\n",
       "      <td>4</td>\n",
       "      <td>[[1477, 610], 7]</td>\n",
       "      <td>0</td>\n",
       "      <td>6151</td>\n",
       "      <td>0.0</td>\n",
       "      <td>NaN</td>\n",
       "      <td>318.648350</td>\n",
       "      <td>136.902114</td>\n",
       "      <td>NaN</td>\n",
       "      <td>220331IF_210217exp</td>\n",
       "      <td>16days</td>\n",
       "      <td>mouse</td>\n",
       "    </tr>\n",
       "    <tr>\n",
       "      <th>3</th>\n",
       "      <td>40x</td>\n",
       "      <td>RPE1 p53ko noco 16d aMDC1-488 lamB1-561 PolS5-...</td>\n",
       "      <td>5</td>\n",
       "      <td>[[1412, 607], 7]</td>\n",
       "      <td>0</td>\n",
       "      <td>2993</td>\n",
       "      <td>0.0</td>\n",
       "      <td>NaN</td>\n",
       "      <td>297.534247</td>\n",
       "      <td>145.350568</td>\n",
       "      <td>NaN</td>\n",
       "      <td>220331IF_210217exp</td>\n",
       "      <td>16days</td>\n",
       "      <td>mouse</td>\n",
       "    </tr>\n",
       "    <tr>\n",
       "      <th>4</th>\n",
       "      <td>40x</td>\n",
       "      <td>RPE1 p53ko noco 16d aMDC1-488 lamB1-561 PolS5-...</td>\n",
       "      <td>6</td>\n",
       "      <td>[[1920, 671], 7]</td>\n",
       "      <td>0</td>\n",
       "      <td>6428</td>\n",
       "      <td>0.0</td>\n",
       "      <td>NaN</td>\n",
       "      <td>379.207530</td>\n",
       "      <td>118.406558</td>\n",
       "      <td>NaN</td>\n",
       "      <td>220331IF_210217exp</td>\n",
       "      <td>16days</td>\n",
       "      <td>mouse</td>\n",
       "    </tr>\n",
       "  </tbody>\n",
       "</table>\n",
       "</div>"
      ],
      "text/plain": [
       "  exp_name                                        position_id  cell_id  \\\n",
       "0      40x  RPE1 p53ko noco 16d aMDC1-488 lamB1-561 PolS5-...        2   \n",
       "1      40x  RPE1 p53ko noco 16d aMDC1-488 lamB1-561 PolS5-...        3   \n",
       "2      40x  RPE1 p53ko noco 16d aMDC1-488 lamB1-561 PolS5-...        4   \n",
       "3      40x  RPE1 p53ko noco 16d aMDC1-488 lamB1-561 PolS5-...        5   \n",
       "4      40x  RPE1 p53ko noco 16d aMDC1-488 lamB1-561 PolS5-...        6   \n",
       "\n",
       "     cell_xyz_coord  mdc1_size  nucleus_size  mdc1_relative_size  \\\n",
       "0  [[1359, 418], 7]          0          6065                 0.0   \n",
       "1  [[1381, 552], 7]          0          2811                 0.0   \n",
       "2  [[1477, 610], 7]          0          6151                 0.0   \n",
       "3  [[1412, 607], 7]          0          2993                 0.0   \n",
       "4  [[1920, 671], 7]          0          6428                 0.0   \n",
       "\n",
       "   mdc1_mdc1_intensity  nucleus_mdc1_intensity  noncell_mdc1_intensity  \\\n",
       "0                  NaN              409.639571              135.230537   \n",
       "1                  NaN              270.744219              149.338545   \n",
       "2                  NaN              318.648350              136.902114   \n",
       "3                  NaN              297.534247              145.350568   \n",
       "4                  NaN              379.207530              118.406558   \n",
       "\n",
       "   mdc1_mdc1_norm_intensity      exp_annotation exp_key mdc_Ab  \n",
       "0                       NaN  220331IF_210217exp  16days  mouse  \n",
       "1                       NaN  220331IF_210217exp  16days  mouse  \n",
       "2                       NaN  220331IF_210217exp  16days  mouse  \n",
       "3                       NaN  220331IF_210217exp  16days  mouse  \n",
       "4                       NaN  220331IF_210217exp  16days  mouse  "
      ]
     },
     "execution_count": 19,
     "metadata": {},
     "output_type": "execute_result"
    }
   ],
   "source": [
    "merged_df.head()"
   ]
  },
  {
   "cell_type": "markdown",
   "metadata": {},
   "source": [
    "# 2. Estimate MN-body frequency"
   ]
  },
  {
   "cell_type": "code",
   "execution_count": 20,
   "metadata": {},
   "outputs": [
    {
     "data": {
      "text/plain": [
       "array(['16days', '45h', '4days', '8days', 'control'], dtype=object)"
      ]
     },
     "execution_count": 20,
     "metadata": {},
     "output_type": "execute_result"
    }
   ],
   "source": [
    "exp_key_list = np.unique(merged_df['exp_key'])\n",
    "exp_key_list "
   ]
  },
  {
   "cell_type": "code",
   "execution_count": 21,
   "metadata": {},
   "outputs": [],
   "source": [
    "sorted_exp_key_list  = ['45h', '4days', '8days', '16days','control']"
   ]
  },
  {
   "cell_type": "code",
   "execution_count": 22,
   "metadata": {},
   "outputs": [],
   "source": [
    "mdc_size_th = 200"
   ]
  },
  {
   "cell_type": "markdown",
   "metadata": {},
   "source": [
    "## 2.1 no filtering "
   ]
  },
  {
   "cell_type": "code",
   "execution_count": 30,
   "metadata": {},
   "outputs": [
    {
     "name": "stdout",
     "output_type": "stream",
     "text": [
      "45h: 1.303\n",
      "4days: 1.517\n",
      "8days: 0.248\n",
      "16days: 1.074\n",
      "control: 0.449\n"
     ]
    },
    {
     "data": {
      "text/plain": [
       "(0, 2.5)"
      ]
     },
     "execution_count": 30,
     "metadata": {},
     "output_type": "execute_result"
    },
    {
     "data": {
      "image/png": "[encoded data removed]",
      "text/plain": [
       "<Figure size 432x288 with 1 Axes>"
      ]
     },
     "metadata": {
      "needs_background": "light"
     },
     "output_type": "display_data"
    }
   ],
   "source": [
    "res_df = pd.DataFrame(columns=sorted_exp_key_list)\n",
    "\n",
    "for exp_key in sorted_exp_key_list:\n",
    "    sel_merged_df  = merged_df[merged_df['exp_key']==exp_key]\n",
    "    \n",
    "    num_mdc = np.sum(sel_merged_df['mdc1_size']>mdc_size_th)\n",
    "    num_nuc = len(sel_merged_df)\n",
    "    mdc_ratio = np.round(num_mdc/num_nuc*100,3)\n",
    "    print(exp_key+':', mdc_ratio)\n",
    "    \n",
    "    res_df[exp_key]=[mdc_ratio]\n",
    "\n",
    "sns.barplot(data=res_df)\n",
    "plt.ylim([0,2.5])"
   ]
  },
  {
   "cell_type": "code",
   "execution_count": 31,
   "metadata": {},
   "outputs": [
    {
     "name": "stdout",
     "output_type": "stream",
     "text": [
      "45h: 1.303\n",
      "4days: 1.517\n",
      "8days: 0.248\n",
      "16days: 1.074\n",
      "control: 0.449\n"
     ]
    },
    {
     "data": {
      "text/plain": [
       "<matplotlib.axes._subplots.AxesSubplot at 0x274b17afdc8>"
      ]
     },
     "execution_count": 31,
     "metadata": {},
     "output_type": "execute_result"
    },
    {
     "data": {
      "image/png": "[encoded data removed]",
      "text/plain": [
       "<Figure size 432x288 with 1 Axes>"
      ]
     },
     "metadata": {
      "needs_background": "light"
     },
     "output_type": "display_data"
    }
   ],
   "source": [
    "res_df = pd.DataFrame(columns=sorted_exp_key_list)\n",
    "\n",
    "for exp_key in sorted_exp_key_list:\n",
    "    sel_merged_df  = merged_df[merged_df['exp_key']==exp_key]\n",
    "    \n",
    "    num_mdc = np.sum(sel_merged_df['mdc1_size']>mdc_size_th)\n",
    "    num_nuc = len(sel_merged_df)\n",
    "    mdc_ratio = np.round(num_mdc/num_nuc*100,3)\n",
    "    print(exp_key+':', mdc_ratio)\n",
    "    \n",
    "    res_df[exp_key]=[num_nuc]\n",
    "\n",
    "sns.barplot(data=res_df)\n",
    "#plt.ylim([0,2.5])"
   ]
  },
  {
   "cell_type": "markdown",
   "metadata": {},
   "source": [
    "## 2.2 size filtering for nuclei"
   ]
  },
  {
   "cell_type": "code",
   "execution_count": 24,
   "metadata": {},
   "outputs": [
    {
     "name": "stdout",
     "output_type": "stream",
     "text": [
      "3875.0\n"
     ]
    },
    {
     "data": {
      "image/png": "[encoded data removed]",
      "text/plain": [
       "<Figure size 432x288 with 1 Axes>"
      ]
     },
     "metadata": {
      "needs_background": "light"
     },
     "output_type": "display_data"
    }
   ],
   "source": [
    "import seaborn as sns\n",
    "\n",
    "sns.violinplot(merged_df['nucleus_size'])\n",
    "plt.vlines(2500, -0.5, 0.5)\n",
    "plt.vlines(25000, -0.5, 0.5)\n",
    "print(np.percentile(merged_df['nucleus_size'], 10))"
   ]
  },
  {
   "cell_type": "code",
   "execution_count": 25,
   "metadata": {},
   "outputs": [
    {
     "name": "stdout",
     "output_type": "stream",
     "text": [
      "-- There are 94.0% data-points were kept after filtering.\n",
      "45h: 1.384\n",
      "-- There are 98.0% data-points were kept after filtering.\n",
      "4days: 1.508\n",
      "-- There are 95.0% data-points were kept after filtering.\n",
      "8days: 0.261\n",
      "-- There are 97.0% data-points were kept after filtering.\n",
      "16days: 1.103\n",
      "-- There are 98.0% data-points were kept after filtering.\n",
      "control: 0.456\n"
     ]
    }
   ],
   "source": [
    "size_th_low =2000\n",
    "size_th_high =25000\n",
    "\n",
    "for exp_key in sorted_exp_key_list:\n",
    "    sel_merged_df  = merged_df[merged_df['exp_key']==exp_key]\n",
    "    ori_cell_num = len(sel_merged_df)\n",
    "    \n",
    "    sel_merged_df=sel_merged_df[sel_merged_df['nucleus_size']>size_th_low]\n",
    "    sel_merged_df=sel_merged_df[sel_merged_df['nucleus_size']<size_th_high]\n",
    "    print (f'-- There are {round(len(sel_merged_df)/ori_cell_num*100,0)}% data-points were kept after filtering.')\n",
    "    \n",
    "    num_mdc = np.sum(sel_merged_df['mdc1_size']>mdc_size_th)\n",
    "    num_nuc = len(sel_merged_df)\n",
    "    mdc_ratio = np.round(num_mdc/num_nuc*100,3)\n",
    "    print(exp_key+':', mdc_ratio)"
   ]
  },
  {
   "cell_type": "markdown",
   "metadata": {},
   "source": [
    "## 2.3 size and coord filtering for nuclei"
   ]
  },
  {
   "cell_type": "code",
   "execution_count": 26,
   "metadata": {},
   "outputs": [],
   "source": [
    "def filter_cell_by_coord (xyz_coord_str, bound1=2048, bound2=0, dist_tp_bound = 600):\n",
    "    \n",
    "    xy_coord_str = xyz_coord_str.split('],')[0].split('[[')[-1]\n",
    "    # note here xy is symetric; otherwise need to check which is x and which is y\n",
    "    x=int(xy_coord_str.split(',')[0])\n",
    "    y=int(xy_coord_str.split(',')[1])\n",
    "    \n",
    "    if abs(x-bound1)>=dist_tp_bound and abs(y-bound1)>=dist_tp_bound:\n",
    "        if abs(x-bound2)>=dist_tp_bound and abs(y-bound2)>=dist_tp_bound:\n",
    "            result= 1\n",
    "        else:\n",
    "            result= 0\n",
    "    else:\n",
    "        result= 0\n",
    "    return result\n",
    "\n"
   ]
  },
  {
   "cell_type": "code",
   "execution_count": 29,
   "metadata": {},
   "outputs": [
    {
     "name": "stdout",
     "output_type": "stream",
     "text": [
      "-- There are 69.0% data-points were kept after filtering.\n",
      "45h: 1.484 in 1752 cells\n",
      "-- There are 72.0% data-points were kept after filtering.\n",
      "4days: 1.547 in 3684 cells\n",
      "-- There are 72.0% data-points were kept after filtering.\n",
      "8days: 0.295 in 2036 cells\n",
      "-- There are 72.0% data-points were kept after filtering.\n",
      "16days: 1.146 in 2355 cells\n",
      "-- There are 73.0% data-points were kept after filtering.\n",
      "control: 0.467 in 8778 cells\n"
     ]
    },
    {
     "data": {
      "text/plain": [
       "(0, 2.5)"
      ]
     },
     "execution_count": 29,
     "metadata": {},
     "output_type": "execute_result"
    },
    {
     "data": {
      "image/png": "[encoded data removed]",
      "text/plain": [
       "<Figure size 432x288 with 1 Axes>"
      ]
     },
     "metadata": {
      "needs_background": "light"
     },
     "output_type": "display_data"
    }
   ],
   "source": [
    "res_df = pd.DataFrame(columns=sorted_exp_key_list)\n",
    "\n",
    "\n",
    "for exp_key in sorted_exp_key_list:\n",
    "    sel_merged_df  = merged_df[merged_df['exp_key']==exp_key]\n",
    "    ori_cell_num = len(sel_merged_df)\n",
    "    \n",
    "    sel_merged_df=sel_merged_df[sel_merged_df['nucleus_size']>size_th_low]\n",
    "    sel_merged_df=sel_merged_df[sel_merged_df['nucleus_size']<size_th_high]\n",
    "    \n",
    "    sel_merged_df['pos_kept']=sel_merged_df['cell_xyz_coord'].map(lambda x: filter_cell_by_coord(x,dist_tp_bound = 200))\n",
    "    sel_merged_df=sel_merged_df[sel_merged_df['pos_kept']==1]\n",
    "    print (f'-- There are {round(len(sel_merged_df)/ori_cell_num*100,0)}% data-points were kept after filtering.')\n",
    "    \n",
    "    num_mdc = np.sum(sel_merged_df['mdc1_size']>mdc_size_th)\n",
    "    num_mdc = np.sum(sel_merged_df['mdc1_mdc1_norm_intensity']>=1)\n",
    "    \n",
    "    num_nuc = len(sel_merged_df)\n",
    "    mdc_ratio = np.round(num_mdc/num_nuc*100,3)\n",
    "    print(exp_key+':', mdc_ratio, f'in {num_nuc} cells')\n",
    "    \n",
    "    \n",
    "    res_df[exp_key]=[mdc_ratio]\n",
    "\n",
    "sns.barplot(data=res_df)\n",
    "plt.ylim([0,2.5])"
   ]
  },
  {
   "cell_type": "code",
   "execution_count": 28,
   "metadata": {},
   "outputs": [
    {
     "data": {
      "text/plain": [
       "200"
      ]
     },
     "execution_count": 28,
     "metadata": {},
     "output_type": "execute_result"
    }
   ],
   "source": [
    "mdc_size_th"
   ]
  }
 ],
 "metadata": {
  "kernelspec": {
   "display_name": "Python 3",
   "language": "python",
   "name": "python3"
  },
  "language_info": {
   "codemirror_mode": {
    "name": "ipython",
    "version": 3
   },
   "file_extension": ".py",
   "mimetype": "text/x-python",
   "name": "python",
   "nbconvert_exporter": "python",
   "pygments_lexer": "ipython3",
   "version": "3.7.6"
  },
  "toc": {
   "base_numbering": 1,
   "nav_menu": {},
   "number_sections": false,
   "sideBar": true,
   "skip_h1_title": false,
   "title_cell": "Table of Contents",
   "title_sidebar": "Contents",
   "toc_cell": false,
   "toc_position": {},
   "toc_section_display": true,
   "toc_window_display": true
  },
  "varInspector": {
   "cols": {
    "lenName": 16,
    "lenType": 16,
    "lenVar": 40
   },
   "kernels_config": {
    "python": {
     "delete_cmd_postfix": "",
     "delete_cmd_prefix": "del ",
     "library": "var_list.py",
     "varRefreshCmd": "print(var_dic_list())"
    },
    "r": {
     "delete_cmd_postfix": ") ",
     "delete_cmd_prefix": "rm(",
     "library": "var_list.r",
     "varRefreshCmd": "cat(var_dic_list()) "
    }
   },
   "types_to_exclude": [
    "module",
    "function",
    "builtin_function_or_method",
    "instance",
    "_Feature"
   ],
   "window_display": false
  }
 },
 "nbformat": 4,
 "nbformat_minor": 4
}

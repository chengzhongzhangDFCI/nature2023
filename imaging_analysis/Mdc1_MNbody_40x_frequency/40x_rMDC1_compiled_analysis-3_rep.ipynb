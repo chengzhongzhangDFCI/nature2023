{
 "cells": [
  {
   "cell_type": "code",
   "execution_count": 1,
   "metadata": {},
   "outputs": [],
   "source": [
    "import numpy as np\n",
    "import matplotlib.pyplot as plt\n",
    "from skimage import io\n",
    "from skimage import data\n",
    "import skimage\n",
    "from skimage.filters.thresholding import threshold_li,threshold_local,threshold_otsu\n",
    "from skimage.morphology import erosion, dilation, opening, closing, white_tophat, remove_small_objects, ball\n",
    "from skimage.morphology import disk\n",
    "from scipy import ndimage as ndi\n",
    "import sys,os, glob\n",
    "\n",
    "import seaborn as sns\n",
    "#import skimage.filters.median\n",
    "\n",
    "#import skimage.segmentation as seg\n",
    "#import skimage.filters as filters\n",
    "#import skimage.draw as draw\n",
    "#import skimage.color as color\n",
    "\n",
    "#from skimage.filters.thresholding import _cross_entropy\n",
    "#from skimage.morphology import black_tophat, skeletonize, convex_hull_image\n",
    "\n",
    "\n",
    "#pip install nd2reader_required for nd2 file reading\n",
    "from nd2reader import ND2Reader\n",
    "\n",
    "import pandas as pd"
   ]
  },
  {
   "cell_type": "markdown",
   "metadata": {},
   "source": [
    "# 1. Merge all experiment results by type"
   ]
  },
  {
   "cell_type": "markdown",
   "metadata": {},
   "source": [
    "## 1.1. Process each exp condition"
   ]
  },
  {
   "cell_type": "code",
   "execution_count": 3,
   "metadata": {},
   "outputs": [
    {
     "data": {
      "text/plain": [
       "['D:\\\\Analyzed_CellBio\\\\Stam\\\\40x_MNbody_analysis\\\\220609IF_210502exp_p53ko_fixed_40x\\\\220502_p53ko_16days',\n",
       " 'D:\\\\Analyzed_CellBio\\\\Stam\\\\40x_MNbody_analysis\\\\220609IF_210502exp_p53ko_fixed_40x\\\\220502_p53ko_45h',\n",
       " 'D:\\\\Analyzed_CellBio\\\\Stam\\\\40x_MNbody_analysis\\\\220609IF_210502exp_p53ko_fixed_40x\\\\220502_p53ko_4days',\n",
       " 'D:\\\\Analyzed_CellBio\\\\Stam\\\\40x_MNbody_analysis\\\\220609IF_210502exp_p53ko_fixed_40x\\\\220502_p53ko_8days',\n",
       " 'D:\\\\Analyzed_CellBio\\\\Stam\\\\40x_MNbody_analysis\\\\220609IF_220302exp_p53ko_fixed_40x\\\\220302_p53ko_16days',\n",
       " 'D:\\\\Analyzed_CellBio\\\\Stam\\\\40x_MNbody_analysis\\\\220609IF_220302exp_p53ko_fixed_40x\\\\220302_p53ko_45h',\n",
       " 'D:\\\\Analyzed_CellBio\\\\Stam\\\\40x_MNbody_analysis\\\\220609IF_220302exp_p53ko_fixed_40x\\\\220302_p53ko_4days',\n",
       " 'D:\\\\Analyzed_CellBio\\\\Stam\\\\40x_MNbody_analysis\\\\220609IF_220302exp_p53ko_fixed_40x\\\\220302_p53ko_8days',\n",
       " 'D:\\\\Analyzed_CellBio\\\\Stam\\\\40x_MNbody_analysis\\\\230117IF_230114exp_p53ko_noco\\\\210114_40x_45h',\n",
       " 'D:\\\\Analyzed_CellBio\\\\Stam\\\\40x_MNbody_analysis\\\\230117IF_230114exp_p53ko_noco\\\\210114_40x_4days',\n",
       " 'D:\\\\Analyzed_CellBio\\\\Stam\\\\40x_MNbody_analysis\\\\230117IF_230114exp_p53ko_noco\\\\210114_40x_8days']"
      ]
     },
     "execution_count": 3,
     "metadata": {},
     "output_type": "execute_result"
    }
   ],
   "source": [
    "data_main_folder = r'D:\\Analyzed_CellBio\\Stam\\40x_MNbody_analysis'\n",
    "data_main_list = glob.glob(os.path.join(data_main_folder,'*'))\n",
    "data_main_list = [f for f in data_main_list if 'p53ko_fixed_40x' in f]\n",
    "data_main_list.append(r'D:\\Analyzed_CellBio\\Stam\\40x_MNbody_analysis\\230117IF_230114exp_p53ko_noco')\n",
    "data_list = []\n",
    "for data_f in data_main_list:\n",
    "    data_list.extend(glob.glob(os.path.join(data_f,'*')))\n",
    "    \n",
    "    \n",
    "    \n",
    "data_list\n"
   ]
  },
  {
   "cell_type": "code",
   "execution_count": 4,
   "metadata": {},
   "outputs": [
    {
     "name": "stderr",
     "output_type": "stream",
     "text": [
      "100%|██████████████████████████████████████████████████████████████████████████████████| 11/11 [00:03<00:00,  3.09it/s]\n"
     ]
    }
   ],
   "source": [
    "import tqdm\n",
    "mdc_std_ratio = 2\n",
    "small_53BP_size=200\n",
    "\n",
    "exp_df_list = []\n",
    "\n",
    "for _data in tqdm.tqdm(data_list):\n",
    "    \n",
    "    exp_key = _data.split('\\\\')[-1].split('_')[-1]\n",
    "    exp_annotation = _data.split('\\\\')[-2].split('_p53ko')[0]\n",
    "    \n",
    "    df_fname = os.path.join(_data,\n",
    "                            'analysis_subset_controlled',\n",
    "                            f'measurement_for_all_fov_background_subtracted_{mdc_std_ratio}_{small_53BP_size}_crop.xlsx')\n",
    "    \n",
    "    _df = pd.read_excel(df_fname, index_col=None)\n",
    "    _df['exp_annotation']=exp_annotation\n",
    "    _df['exp_key']=exp_key\n",
    "    _df['mdc_Ab']='rabbit'\n",
    "    _df.drop(columns='Unnamed: 0', inplace=True)\n",
    "    exp_df_list.append(_df)\n",
    "    "
   ]
  },
  {
   "cell_type": "markdown",
   "metadata": {},
   "source": [
    "## 1.2. Process each control condition"
   ]
  },
  {
   "cell_type": "code",
   "execution_count": 5,
   "metadata": {},
   "outputs": [
    {
     "name": "stderr",
     "output_type": "stream",
     "text": [
      "100%|████████████████████████████████████████████████████████████████████████████████████| 3/3 [00:02<00:00,  1.45it/s]\n"
     ]
    }
   ],
   "source": [
    "control_list = [r'D:\\Analyzed_CellBio\\Stam\\40x_MNbody_analysis\\220623IF_220601exp_p53_control_fixed\\220621exp_cov1',\n",
    "                r'D:\\Analyzed_CellBio\\Stam\\40x_MNbody_analysis\\220623IF_220602exp_p53_control_fixed',\n",
    "                r'D:\\Analyzed_CellBio\\Stam\\40x_MNbody_analysis\\210126IF_230118exp_p53ko_control\\230118_comtrol_40x']\n",
    "\n",
    "import tqdm\n",
    "mdc_std_ratio = 2\n",
    "small_53BP_size=200\n",
    "\n",
    "\n",
    "for _data in tqdm.tqdm(control_list):\n",
    "    \n",
    "    exp_key = 'control'\n",
    "    exp_annotation = _data.split('\\\\')[4].split('_p53_control_fixed')[0]\n",
    "    \n",
    "    df_fname = os.path.join(_data,\n",
    "                            'analysis_subset_controlled',\n",
    "                            f'measurement_for_all_fov_background_subtracted_{mdc_std_ratio}_{small_53BP_size}_crop.xlsx')\n",
    "    \n",
    "    _df = pd.read_excel(df_fname, index_col=None)\n",
    "    _df['exp_annotation']=exp_annotation\n",
    "    _df['exp_key']=exp_key\n",
    "    _df['mdc_Ab']='rabbit'\n",
    "    _df.drop(columns='Unnamed: 0', inplace=True)\n",
    "    exp_df_list.append(_df)"
   ]
  },
  {
   "cell_type": "markdown",
   "metadata": {},
   "source": [
    "## 1.3. Process each mouse Ab exps"
   ]
  },
  {
   "cell_type": "markdown",
   "metadata": {},
   "source": [
    "## 1.4. Merge all dfs."
   ]
  },
  {
   "cell_type": "code",
   "execution_count": 6,
   "metadata": {},
   "outputs": [
    {
     "name": "stdout",
     "output_type": "stream",
     "text": [
      "14\n"
     ]
    }
   ],
   "source": [
    "print (len(exp_df_list))\n",
    "merged_df =  pd.concat(exp_df_list)"
   ]
  },
  {
   "cell_type": "code",
   "execution_count": 10,
   "metadata": {},
   "outputs": [
    {
     "data": {
      "text/html": [
       "<div>\n",
       "<style scoped>\n",
       "    .dataframe tbody tr th:only-of-type {\n",
       "        vertical-align: middle;\n",
       "    }\n",
       "\n",
       "    .dataframe tbody tr th {\n",
       "        vertical-align: top;\n",
       "    }\n",
       "\n",
       "    .dataframe thead th {\n",
       "        text-align: right;\n",
       "    }\n",
       "</style>\n",
       "<table border=\"1\" class=\"dataframe\">\n",
       "  <thead>\n",
       "    <tr style=\"text-align: right;\">\n",
       "      <th></th>\n",
       "      <th>exp_name</th>\n",
       "      <th>position_id</th>\n",
       "      <th>cell_id</th>\n",
       "      <th>cell_xyz_coord</th>\n",
       "      <th>mdc1_size</th>\n",
       "      <th>nucleus_size</th>\n",
       "      <th>mdc1_relative_size</th>\n",
       "      <th>mdc1_mdc1_intensity</th>\n",
       "      <th>nucleus_mdc1_intensity</th>\n",
       "      <th>noncell_mdc1_intensity</th>\n",
       "      <th>mdc1_mdc1_norm_intensity</th>\n",
       "      <th>exp_annotation</th>\n",
       "      <th>exp_key</th>\n",
       "      <th>mdc_Ab</th>\n",
       "    </tr>\n",
       "  </thead>\n",
       "  <tbody>\n",
       "    <tr>\n",
       "      <th>0</th>\n",
       "      <td>220502_p53ko_16days</td>\n",
       "      <td>220502 RPE1 p53ko noco 16d aMDC1rb-488 H3K27ac...</td>\n",
       "      <td>2</td>\n",
       "      <td>[[601, 392], 5]</td>\n",
       "      <td>0</td>\n",
       "      <td>1380</td>\n",
       "      <td>0.0</td>\n",
       "      <td>NaN</td>\n",
       "      <td>290.067391</td>\n",
       "      <td>123.972608</td>\n",
       "      <td>NaN</td>\n",
       "      <td>220609IF_210502exp</td>\n",
       "      <td>16days</td>\n",
       "      <td>rabbit</td>\n",
       "    </tr>\n",
       "    <tr>\n",
       "      <th>1</th>\n",
       "      <td>220502_p53ko_16days</td>\n",
       "      <td>220502 RPE1 p53ko noco 16d aMDC1rb-488 H3K27ac...</td>\n",
       "      <td>3</td>\n",
       "      <td>[[608, 493], 5]</td>\n",
       "      <td>0</td>\n",
       "      <td>1352</td>\n",
       "      <td>0.0</td>\n",
       "      <td>NaN</td>\n",
       "      <td>246.800296</td>\n",
       "      <td>124.470469</td>\n",
       "      <td>NaN</td>\n",
       "      <td>220609IF_210502exp</td>\n",
       "      <td>16days</td>\n",
       "      <td>rabbit</td>\n",
       "    </tr>\n",
       "    <tr>\n",
       "      <th>2</th>\n",
       "      <td>220502_p53ko_16days</td>\n",
       "      <td>220502 RPE1 p53ko noco 16d aMDC1rb-488 H3K27ac...</td>\n",
       "      <td>4</td>\n",
       "      <td>[[1107, 1054], 5]</td>\n",
       "      <td>0</td>\n",
       "      <td>4157</td>\n",
       "      <td>0.0</td>\n",
       "      <td>NaN</td>\n",
       "      <td>297.354342</td>\n",
       "      <td>124.414896</td>\n",
       "      <td>NaN</td>\n",
       "      <td>220609IF_210502exp</td>\n",
       "      <td>16days</td>\n",
       "      <td>rabbit</td>\n",
       "    </tr>\n",
       "    <tr>\n",
       "      <th>3</th>\n",
       "      <td>220502_p53ko_16days</td>\n",
       "      <td>220502 RPE1 p53ko noco 16d aMDC1rb-488 H3K27ac...</td>\n",
       "      <td>5</td>\n",
       "      <td>[[857, 1272], 5]</td>\n",
       "      <td>0</td>\n",
       "      <td>6799</td>\n",
       "      <td>0.0</td>\n",
       "      <td>NaN</td>\n",
       "      <td>218.295779</td>\n",
       "      <td>117.182427</td>\n",
       "      <td>NaN</td>\n",
       "      <td>220609IF_210502exp</td>\n",
       "      <td>16days</td>\n",
       "      <td>rabbit</td>\n",
       "    </tr>\n",
       "    <tr>\n",
       "      <th>4</th>\n",
       "      <td>220502_p53ko_16days</td>\n",
       "      <td>220502 RPE1 p53ko noco 16d aMDC1rb-488 H3K27ac...</td>\n",
       "      <td>6</td>\n",
       "      <td>[[1305, 1546], 5]</td>\n",
       "      <td>0</td>\n",
       "      <td>5533</td>\n",
       "      <td>0.0</td>\n",
       "      <td>NaN</td>\n",
       "      <td>250.255377</td>\n",
       "      <td>119.687260</td>\n",
       "      <td>NaN</td>\n",
       "      <td>220609IF_210502exp</td>\n",
       "      <td>16days</td>\n",
       "      <td>rabbit</td>\n",
       "    </tr>\n",
       "  </tbody>\n",
       "</table>\n",
       "</div>"
      ],
      "text/plain": [
       "              exp_name                                        position_id  \\\n",
       "0  220502_p53ko_16days  220502 RPE1 p53ko noco 16d aMDC1rb-488 H3K27ac...   \n",
       "1  220502_p53ko_16days  220502 RPE1 p53ko noco 16d aMDC1rb-488 H3K27ac...   \n",
       "2  220502_p53ko_16days  220502 RPE1 p53ko noco 16d aMDC1rb-488 H3K27ac...   \n",
       "3  220502_p53ko_16days  220502 RPE1 p53ko noco 16d aMDC1rb-488 H3K27ac...   \n",
       "4  220502_p53ko_16days  220502 RPE1 p53ko noco 16d aMDC1rb-488 H3K27ac...   \n",
       "\n",
       "   cell_id     cell_xyz_coord  mdc1_size  nucleus_size  mdc1_relative_size  \\\n",
       "0        2    [[601, 392], 5]          0          1380                 0.0   \n",
       "1        3    [[608, 493], 5]          0          1352                 0.0   \n",
       "2        4  [[1107, 1054], 5]          0          4157                 0.0   \n",
       "3        5   [[857, 1272], 5]          0          6799                 0.0   \n",
       "4        6  [[1305, 1546], 5]          0          5533                 0.0   \n",
       "\n",
       "   mdc1_mdc1_intensity  nucleus_mdc1_intensity  noncell_mdc1_intensity  \\\n",
       "0                  NaN              290.067391              123.972608   \n",
       "1                  NaN              246.800296              124.470469   \n",
       "2                  NaN              297.354342              124.414896   \n",
       "3                  NaN              218.295779              117.182427   \n",
       "4                  NaN              250.255377              119.687260   \n",
       "\n",
       "   mdc1_mdc1_norm_intensity      exp_annotation exp_key  mdc_Ab  \n",
       "0                       NaN  220609IF_210502exp  16days  rabbit  \n",
       "1                       NaN  220609IF_210502exp  16days  rabbit  \n",
       "2                       NaN  220609IF_210502exp  16days  rabbit  \n",
       "3                       NaN  220609IF_210502exp  16days  rabbit  \n",
       "4                       NaN  220609IF_210502exp  16days  rabbit  "
      ]
     },
     "execution_count": 10,
     "metadata": {},
     "output_type": "execute_result"
    }
   ],
   "source": [
    "merged_df.head()"
   ]
  },
  {
   "cell_type": "markdown",
   "metadata": {},
   "source": [
    "# 2. Estimate MN-body frequency"
   ]
  },
  {
   "cell_type": "code",
   "execution_count": 7,
   "metadata": {},
   "outputs": [
    {
     "data": {
      "text/plain": [
       "array(['16days', '45h', '4days', '8days', 'control'], dtype=object)"
      ]
     },
     "execution_count": 7,
     "metadata": {},
     "output_type": "execute_result"
    }
   ],
   "source": [
    "exp_key_list = np.unique(merged_df['exp_key'])\n",
    "exp_key_list "
   ]
  },
  {
   "cell_type": "code",
   "execution_count": 8,
   "metadata": {},
   "outputs": [],
   "source": [
    "sorted_exp_key_list  = ['45h', '4days', '8days', '16days','control']"
   ]
  },
  {
   "cell_type": "code",
   "execution_count": 9,
   "metadata": {},
   "outputs": [],
   "source": [
    "mdc_size_th = 200"
   ]
  },
  {
   "cell_type": "markdown",
   "metadata": {},
   "source": [
    "## 2.1 no filtering "
   ]
  },
  {
   "cell_type": "code",
   "execution_count": 11,
   "metadata": {},
   "outputs": [
    {
     "name": "stdout",
     "output_type": "stream",
     "text": [
      "45h: 2.33\n",
      "4days: 2.172\n",
      "8days: 1.102\n",
      "16days: 0.552\n",
      "control: 0.647\n"
     ]
    },
    {
     "data": {
      "text/plain": [
       "(0, 2.5)"
      ]
     },
     "execution_count": 11,
     "metadata": {},
     "output_type": "execute_result"
    },
    {
     "data": {
      "image/png": "[encoded data removed]",
      "text/plain": [
       "<Figure size 432x288 with 1 Axes>"
      ]
     },
     "metadata": {
      "needs_background": "light"
     },
     "output_type": "display_data"
    }
   ],
   "source": [
    "res_df = pd.DataFrame(columns=sorted_exp_key_list)\n",
    "\n",
    "for exp_key in sorted_exp_key_list:\n",
    "    sel_merged_df  = merged_df[merged_df['exp_key']==exp_key]\n",
    "    \n",
    "    num_mdc = np.sum(sel_merged_df['mdc1_size']>mdc_size_th)\n",
    "    num_nuc = len(sel_merged_df)\n",
    "    mdc_ratio = np.round(num_mdc/num_nuc*100,3)\n",
    "    print(exp_key+':', mdc_ratio)\n",
    "    \n",
    "    res_df[exp_key]=[mdc_ratio]\n",
    "\n",
    "sns.barplot(data=res_df)\n",
    "plt.ylim([0,2.5])"
   ]
  },
  {
   "cell_type": "code",
   "execution_count": 12,
   "metadata": {},
   "outputs": [
    {
     "name": "stdout",
     "output_type": "stream",
     "text": [
      "45h: 2.33\n",
      "4days: 2.172\n",
      "8days: 1.102\n",
      "16days: 0.552\n",
      "control: 0.647\n"
     ]
    },
    {
     "data": {
      "text/plain": [
       "<matplotlib.axes._subplots.AxesSubplot at 0x16b48555908>"
      ]
     },
     "execution_count": 12,
     "metadata": {},
     "output_type": "execute_result"
    },
    {
     "data": {
      "image/png": "[encoded data removed]",
      "text/plain": [
       "<Figure size 432x288 with 1 Axes>"
      ]
     },
     "metadata": {
      "needs_background": "light"
     },
     "output_type": "display_data"
    }
   ],
   "source": [
    "res_df = pd.DataFrame(columns=sorted_exp_key_list)\n",
    "\n",
    "for exp_key in sorted_exp_key_list:\n",
    "    sel_merged_df  = merged_df[merged_df['exp_key']==exp_key]\n",
    "    \n",
    "    num_mdc = np.sum(sel_merged_df['mdc1_size']>mdc_size_th)\n",
    "    num_nuc = len(sel_merged_df)\n",
    "    mdc_ratio = np.round(num_mdc/num_nuc*100,3)\n",
    "    print(exp_key+':', mdc_ratio)\n",
    "    \n",
    "    res_df[exp_key]=[num_nuc]\n",
    "\n",
    "sns.barplot(data=res_df)\n",
    "#plt.ylim([0,2.5])"
   ]
  },
  {
   "cell_type": "markdown",
   "metadata": {},
   "source": [
    "## 2.2 size filtering for nuclei"
   ]
  },
  {
   "cell_type": "code",
   "execution_count": 13,
   "metadata": {},
   "outputs": [
    {
     "name": "stdout",
     "output_type": "stream",
     "text": [
      "2898.0\n"
     ]
    },
    {
     "data": {
      "image/png": "[encoded data removed]",
      "text/plain": [
       "<Figure size 432x288 with 1 Axes>"
      ]
     },
     "metadata": {
      "needs_background": "light"
     },
     "output_type": "display_data"
    }
   ],
   "source": [
    "import seaborn as sns\n",
    "\n",
    "sns.violinplot(merged_df['nucleus_size'])\n",
    "plt.vlines(2500, -0.5, 0.5)\n",
    "plt.vlines(25000, -0.5, 0.5)\n",
    "print(np.percentile(merged_df['nucleus_size'], 10))"
   ]
  },
  {
   "cell_type": "code",
   "execution_count": 14,
   "metadata": {},
   "outputs": [
    {
     "name": "stdout",
     "output_type": "stream",
     "text": [
      "-- There are 89.0% data-points were kept after filtering.\n",
      "45h: 2.607\n",
      "-- There are 95.0% data-points were kept after filtering.\n",
      "4days: 2.293\n",
      "-- There are 93.0% data-points were kept after filtering.\n",
      "8days: 1.18\n",
      "-- There are 92.0% data-points were kept after filtering.\n",
      "16days: 0.599\n",
      "-- There are 98.0% data-points were kept after filtering.\n",
      "control: 0.659\n"
     ]
    }
   ],
   "source": [
    "size_th_low =2000\n",
    "size_th_high =25000\n",
    "\n",
    "for exp_key in sorted_exp_key_list:\n",
    "    sel_merged_df  = merged_df[merged_df['exp_key']==exp_key]\n",
    "    ori_cell_num = len(sel_merged_df)\n",
    "    \n",
    "    sel_merged_df=sel_merged_df[sel_merged_df['nucleus_size']>size_th_low]\n",
    "    sel_merged_df=sel_merged_df[sel_merged_df['nucleus_size']<size_th_high]\n",
    "    print (f'-- There are {round(len(sel_merged_df)/ori_cell_num*100,0)}% data-points were kept after filtering.')\n",
    "    \n",
    "    num_mdc = np.sum(sel_merged_df['mdc1_size']>mdc_size_th)\n",
    "    num_nuc = len(sel_merged_df)\n",
    "    mdc_ratio = np.round(num_mdc/num_nuc*100,3)\n",
    "    print(exp_key+':', mdc_ratio)"
   ]
  },
  {
   "cell_type": "markdown",
   "metadata": {},
   "source": [
    "## 2.3 size and coord filtering for nuclei"
   ]
  },
  {
   "cell_type": "code",
   "execution_count": 15,
   "metadata": {},
   "outputs": [],
   "source": [
    "def filter_cell_by_coord (xyz_coord_str, bound1=2048, bound2=0, dist_tp_bound = 600):\n",
    "    \n",
    "    xy_coord_str = xyz_coord_str.split('],')[0].split('[[')[-1]\n",
    "    # note here xy is symetric; otherwise need to check which is x and which is y\n",
    "    x=int(xy_coord_str.split(',')[0])\n",
    "    y=int(xy_coord_str.split(',')[1])\n",
    "    \n",
    "    if abs(x-bound1)>=dist_tp_bound and abs(y-bound1)>=dist_tp_bound:\n",
    "        if abs(x-bound2)>=dist_tp_bound and abs(y-bound2)>=dist_tp_bound:\n",
    "            result= 1\n",
    "        else:\n",
    "            result= 0\n",
    "    else:\n",
    "        result= 0\n",
    "    return result\n",
    "\n"
   ]
  },
  {
   "cell_type": "code",
   "execution_count": 18,
   "metadata": {},
   "outputs": [
    {
     "name": "stdout",
     "output_type": "stream",
     "text": [
      "-- There are 69.0% data-points were kept after filtering.\n",
      "45h: 2.798 in 3360 cells\n",
      "-- There are 73.0% data-points were kept after filtering.\n",
      "4days: 2.349 in 4343 cells\n",
      "-- There are 72.0% data-points were kept after filtering.\n",
      "8days: 1.278 in 3443 cells\n",
      "-- There are 70.0% data-points were kept after filtering.\n",
      "16days: 0.543 in 1658 cells\n",
      "-- There are 73.0% data-points were kept after filtering.\n",
      "control: 0.697 in 9755 cells\n"
     ]
    },
    {
     "data": {
      "text/plain": [
       "(0, 3)"
      ]
     },
     "execution_count": 18,
     "metadata": {},
     "output_type": "execute_result"
    },
    {
     "data": {
      "image/png": "[encoded data removed]",
      "text/plain": [
       "<Figure size 432x288 with 1 Axes>"
      ]
     },
     "metadata": {
      "needs_background": "light"
     },
     "output_type": "display_data"
    }
   ],
   "source": [
    "res_df = pd.DataFrame(columns=sorted_exp_key_list)\n",
    "\n",
    "\n",
    "for exp_key in sorted_exp_key_list:\n",
    "    sel_merged_df  = merged_df[merged_df['exp_key']==exp_key]\n",
    "    ori_cell_num = len(sel_merged_df)\n",
    "    \n",
    "    sel_merged_df=sel_merged_df[sel_merged_df['nucleus_size']>size_th_low]\n",
    "    sel_merged_df=sel_merged_df[sel_merged_df['nucleus_size']<size_th_high]\n",
    "    \n",
    "    sel_merged_df['pos_kept']=sel_merged_df['cell_xyz_coord'].map(lambda x: filter_cell_by_coord(x,dist_tp_bound = 200))\n",
    "    sel_merged_df=sel_merged_df[sel_merged_df['pos_kept']==1]\n",
    "    print (f'-- There are {round(len(sel_merged_df)/ori_cell_num*100,0)}% data-points were kept after filtering.')\n",
    "    \n",
    "    num_mdc = np.sum(sel_merged_df['mdc1_size']>mdc_size_th)\n",
    "    num_mdc = np.sum(sel_merged_df['mdc1_mdc1_norm_intensity']>=1)\n",
    "    \n",
    "    num_nuc = len(sel_merged_df)\n",
    "    mdc_ratio = np.round(num_mdc/num_nuc*100,3)\n",
    "    print(exp_key+':', mdc_ratio, f'in {num_nuc} cells')\n",
    "    \n",
    "    \n",
    "    res_df[exp_key]=[mdc_ratio]\n",
    "\n",
    "sns.barplot(data=res_df)\n",
    "plt.ylim([0,3])"
   ]
  },
  {
   "cell_type": "code",
   "execution_count": 17,
   "metadata": {},
   "outputs": [
    {
     "data": {
      "text/plain": [
       "200"
      ]
     },
     "execution_count": 17,
     "metadata": {},
     "output_type": "execute_result"
    }
   ],
   "source": [
    "mdc_size_th"
   ]
  },
  {
   "cell_type": "code",
   "execution_count": 19,
   "metadata": {},
   "outputs": [
    {
     "data": {
      "text/html": [
       "<div>\n",
       "<style scoped>\n",
       "    .dataframe tbody tr th:only-of-type {\n",
       "        vertical-align: middle;\n",
       "    }\n",
       "\n",
       "    .dataframe tbody tr th {\n",
       "        vertical-align: top;\n",
       "    }\n",
       "\n",
       "    .dataframe thead th {\n",
       "        text-align: right;\n",
       "    }\n",
       "</style>\n",
       "<table border=\"1\" class=\"dataframe\">\n",
       "  <thead>\n",
       "    <tr style=\"text-align: right;\">\n",
       "      <th></th>\n",
       "      <th>45h</th>\n",
       "      <th>4days</th>\n",
       "      <th>8days</th>\n",
       "      <th>16days</th>\n",
       "      <th>control</th>\n",
       "    </tr>\n",
       "  </thead>\n",
       "  <tbody>\n",
       "    <tr>\n",
       "      <th>0</th>\n",
       "      <td>2.798</td>\n",
       "      <td>2.349</td>\n",
       "      <td>1.278</td>\n",
       "      <td>0.543</td>\n",
       "      <td>0.697</td>\n",
       "    </tr>\n",
       "  </tbody>\n",
       "</table>\n",
       "</div>"
      ],
      "text/plain": [
       "     45h  4days  8days  16days  control\n",
       "0  2.798  2.349  1.278   0.543    0.697"
      ]
     },
     "execution_count": 19,
     "metadata": {},
     "output_type": "execute_result"
    }
   ],
   "source": [
    "res_df"
   ]
  },
  {
   "cell_type": "code",
   "execution_count": 20,
   "metadata": {},
   "outputs": [
    {
     "data": {
      "text/html": [
       "<div>\n",
       "<style scoped>\n",
       "    .dataframe tbody tr th:only-of-type {\n",
       "        vertical-align: middle;\n",
       "    }\n",
       "\n",
       "    .dataframe tbody tr th {\n",
       "        vertical-align: top;\n",
       "    }\n",
       "\n",
       "    .dataframe thead th {\n",
       "        text-align: right;\n",
       "    }\n",
       "</style>\n",
       "<table border=\"1\" class=\"dataframe\">\n",
       "  <thead>\n",
       "    <tr style=\"text-align: right;\">\n",
       "      <th></th>\n",
       "      <th>exp_name</th>\n",
       "      <th>position_id</th>\n",
       "      <th>cell_id</th>\n",
       "      <th>cell_xyz_coord</th>\n",
       "      <th>mdc1_size</th>\n",
       "      <th>nucleus_size</th>\n",
       "      <th>mdc1_relative_size</th>\n",
       "      <th>mdc1_mdc1_intensity</th>\n",
       "      <th>nucleus_mdc1_intensity</th>\n",
       "      <th>noncell_mdc1_intensity</th>\n",
       "      <th>mdc1_mdc1_norm_intensity</th>\n",
       "      <th>exp_annotation</th>\n",
       "      <th>exp_key</th>\n",
       "      <th>mdc_Ab</th>\n",
       "      <th>pos_kept</th>\n",
       "    </tr>\n",
       "  </thead>\n",
       "  <tbody>\n",
       "    <tr>\n",
       "      <th>4</th>\n",
       "      <td>220621exp_cov1</td>\n",
       "      <td>220621 RPE1 p53ko control Mdc1-488 H2AX-568_.n...</td>\n",
       "      <td>6</td>\n",
       "      <td>[[1059, 304], 3]</td>\n",
       "      <td>0</td>\n",
       "      <td>13141</td>\n",
       "      <td>0.0</td>\n",
       "      <td>NaN</td>\n",
       "      <td>108.094818</td>\n",
       "      <td>106.096410</td>\n",
       "      <td>NaN</td>\n",
       "      <td>220623IF_220601exp</td>\n",
       "      <td>control</td>\n",
       "      <td>rabbit</td>\n",
       "      <td>1</td>\n",
       "    </tr>\n",
       "    <tr>\n",
       "      <th>5</th>\n",
       "      <td>220621exp_cov1</td>\n",
       "      <td>220621 RPE1 p53ko control Mdc1-488 H2AX-568_.n...</td>\n",
       "      <td>7</td>\n",
       "      <td>[[1421, 324], 2]</td>\n",
       "      <td>0</td>\n",
       "      <td>14436</td>\n",
       "      <td>0.0</td>\n",
       "      <td>NaN</td>\n",
       "      <td>107.990233</td>\n",
       "      <td>106.203520</td>\n",
       "      <td>NaN</td>\n",
       "      <td>220623IF_220601exp</td>\n",
       "      <td>control</td>\n",
       "      <td>rabbit</td>\n",
       "      <td>1</td>\n",
       "    </tr>\n",
       "    <tr>\n",
       "      <th>7</th>\n",
       "      <td>220621exp_cov1</td>\n",
       "      <td>220621 RPE1 p53ko control Mdc1-488 H2AX-568_.n...</td>\n",
       "      <td>9</td>\n",
       "      <td>[[713, 341], 2]</td>\n",
       "      <td>0</td>\n",
       "      <td>7881</td>\n",
       "      <td>0.0</td>\n",
       "      <td>NaN</td>\n",
       "      <td>107.169014</td>\n",
       "      <td>105.657201</td>\n",
       "      <td>NaN</td>\n",
       "      <td>220623IF_220601exp</td>\n",
       "      <td>control</td>\n",
       "      <td>rabbit</td>\n",
       "      <td>1</td>\n",
       "    </tr>\n",
       "    <tr>\n",
       "      <th>8</th>\n",
       "      <td>220621exp_cov1</td>\n",
       "      <td>220621 RPE1 p53ko control Mdc1-488 H2AX-568_.n...</td>\n",
       "      <td>10</td>\n",
       "      <td>[[1692, 424], 2]</td>\n",
       "      <td>0</td>\n",
       "      <td>6766</td>\n",
       "      <td>0.0</td>\n",
       "      <td>NaN</td>\n",
       "      <td>108.640851</td>\n",
       "      <td>106.026182</td>\n",
       "      <td>NaN</td>\n",
       "      <td>220623IF_220601exp</td>\n",
       "      <td>control</td>\n",
       "      <td>rabbit</td>\n",
       "      <td>1</td>\n",
       "    </tr>\n",
       "    <tr>\n",
       "      <th>10</th>\n",
       "      <td>220621exp_cov1</td>\n",
       "      <td>220621 RPE1 p53ko control Mdc1-488 H2AX-568_.n...</td>\n",
       "      <td>12</td>\n",
       "      <td>[[945, 518], 2]</td>\n",
       "      <td>0</td>\n",
       "      <td>7327</td>\n",
       "      <td>0.0</td>\n",
       "      <td>NaN</td>\n",
       "      <td>109.059506</td>\n",
       "      <td>106.019432</td>\n",
       "      <td>NaN</td>\n",
       "      <td>220623IF_220601exp</td>\n",
       "      <td>control</td>\n",
       "      <td>rabbit</td>\n",
       "      <td>1</td>\n",
       "    </tr>\n",
       "    <tr>\n",
       "      <th>...</th>\n",
       "      <td>...</td>\n",
       "      <td>...</td>\n",
       "      <td>...</td>\n",
       "      <td>...</td>\n",
       "      <td>...</td>\n",
       "      <td>...</td>\n",
       "      <td>...</td>\n",
       "      <td>...</td>\n",
       "      <td>...</td>\n",
       "      <td>...</td>\n",
       "      <td>...</td>\n",
       "      <td>...</td>\n",
       "      <td>...</td>\n",
       "      <td>...</td>\n",
       "      <td>...</td>\n",
       "    </tr>\n",
       "    <tr>\n",
       "      <th>1260</th>\n",
       "      <td>230118_comtrol_40x</td>\n",
       "      <td>230118 RPE1 p53ko control Mdc1rb-488 H2AX-561 ...</td>\n",
       "      <td>16</td>\n",
       "      <td>[[615, 919], 1]</td>\n",
       "      <td>0</td>\n",
       "      <td>5541</td>\n",
       "      <td>0.0</td>\n",
       "      <td>NaN</td>\n",
       "      <td>299.218914</td>\n",
       "      <td>126.637831</td>\n",
       "      <td>NaN</td>\n",
       "      <td>210126IF_230118exp_p53ko_control</td>\n",
       "      <td>control</td>\n",
       "      <td>rabbit</td>\n",
       "      <td>1</td>\n",
       "    </tr>\n",
       "    <tr>\n",
       "      <th>1261</th>\n",
       "      <td>230118_comtrol_40x</td>\n",
       "      <td>230118 RPE1 p53ko control Mdc1rb-488 H2AX-561 ...</td>\n",
       "      <td>17</td>\n",
       "      <td>[[649, 1107], 1]</td>\n",
       "      <td>0</td>\n",
       "      <td>5809</td>\n",
       "      <td>0.0</td>\n",
       "      <td>NaN</td>\n",
       "      <td>316.904975</td>\n",
       "      <td>116.170479</td>\n",
       "      <td>NaN</td>\n",
       "      <td>210126IF_230118exp_p53ko_control</td>\n",
       "      <td>control</td>\n",
       "      <td>rabbit</td>\n",
       "      <td>1</td>\n",
       "    </tr>\n",
       "    <tr>\n",
       "      <th>1262</th>\n",
       "      <td>230118_comtrol_40x</td>\n",
       "      <td>230118 RPE1 p53ko control Mdc1rb-488 H2AX-561 ...</td>\n",
       "      <td>18</td>\n",
       "      <td>[[1185, 1120], 1]</td>\n",
       "      <td>0</td>\n",
       "      <td>3125</td>\n",
       "      <td>0.0</td>\n",
       "      <td>NaN</td>\n",
       "      <td>598.290240</td>\n",
       "      <td>113.357499</td>\n",
       "      <td>NaN</td>\n",
       "      <td>210126IF_230118exp_p53ko_control</td>\n",
       "      <td>control</td>\n",
       "      <td>rabbit</td>\n",
       "      <td>1</td>\n",
       "    </tr>\n",
       "    <tr>\n",
       "      <th>1263</th>\n",
       "      <td>230118_comtrol_40x</td>\n",
       "      <td>230118 RPE1 p53ko control Mdc1rb-488 H2AX-561 ...</td>\n",
       "      <td>19</td>\n",
       "      <td>[[349, 1164], 1]</td>\n",
       "      <td>0</td>\n",
       "      <td>5357</td>\n",
       "      <td>0.0</td>\n",
       "      <td>NaN</td>\n",
       "      <td>198.777301</td>\n",
       "      <td>110.783100</td>\n",
       "      <td>NaN</td>\n",
       "      <td>210126IF_230118exp_p53ko_control</td>\n",
       "      <td>control</td>\n",
       "      <td>rabbit</td>\n",
       "      <td>1</td>\n",
       "    </tr>\n",
       "    <tr>\n",
       "      <th>1265</th>\n",
       "      <td>230118_comtrol_40x</td>\n",
       "      <td>230118 RPE1 p53ko control Mdc1rb-488 H2AX-561 ...</td>\n",
       "      <td>21</td>\n",
       "      <td>[[1793, 1499], 1]</td>\n",
       "      <td>0</td>\n",
       "      <td>6056</td>\n",
       "      <td>0.0</td>\n",
       "      <td>NaN</td>\n",
       "      <td>458.501321</td>\n",
       "      <td>112.670400</td>\n",
       "      <td>NaN</td>\n",
       "      <td>210126IF_230118exp_p53ko_control</td>\n",
       "      <td>control</td>\n",
       "      <td>rabbit</td>\n",
       "      <td>1</td>\n",
       "    </tr>\n",
       "  </tbody>\n",
       "</table>\n",
       "<p>9755 rows × 15 columns</p>\n",
       "</div>"
      ],
      "text/plain": [
       "                exp_name                                        position_id  \\\n",
       "4         220621exp_cov1  220621 RPE1 p53ko control Mdc1-488 H2AX-568_.n...   \n",
       "5         220621exp_cov1  220621 RPE1 p53ko control Mdc1-488 H2AX-568_.n...   \n",
       "7         220621exp_cov1  220621 RPE1 p53ko control Mdc1-488 H2AX-568_.n...   \n",
       "8         220621exp_cov1  220621 RPE1 p53ko control Mdc1-488 H2AX-568_.n...   \n",
       "10        220621exp_cov1  220621 RPE1 p53ko control Mdc1-488 H2AX-568_.n...   \n",
       "...                  ...                                                ...   \n",
       "1260  230118_comtrol_40x  230118 RPE1 p53ko control Mdc1rb-488 H2AX-561 ...   \n",
       "1261  230118_comtrol_40x  230118 RPE1 p53ko control Mdc1rb-488 H2AX-561 ...   \n",
       "1262  230118_comtrol_40x  230118 RPE1 p53ko control Mdc1rb-488 H2AX-561 ...   \n",
       "1263  230118_comtrol_40x  230118 RPE1 p53ko control Mdc1rb-488 H2AX-561 ...   \n",
       "1265  230118_comtrol_40x  230118 RPE1 p53ko control Mdc1rb-488 H2AX-561 ...   \n",
       "\n",
       "      cell_id     cell_xyz_coord  mdc1_size  nucleus_size  mdc1_relative_size  \\\n",
       "4           6   [[1059, 304], 3]          0         13141                 0.0   \n",
       "5           7   [[1421, 324], 2]          0         14436                 0.0   \n",
       "7           9    [[713, 341], 2]          0          7881                 0.0   \n",
       "8          10   [[1692, 424], 2]          0          6766                 0.0   \n",
       "10         12    [[945, 518], 2]          0          7327                 0.0   \n",
       "...       ...                ...        ...           ...                 ...   \n",
       "1260       16    [[615, 919], 1]          0          5541                 0.0   \n",
       "1261       17   [[649, 1107], 1]          0          5809                 0.0   \n",
       "1262       18  [[1185, 1120], 1]          0          3125                 0.0   \n",
       "1263       19   [[349, 1164], 1]          0          5357                 0.0   \n",
       "1265       21  [[1793, 1499], 1]          0          6056                 0.0   \n",
       "\n",
       "      mdc1_mdc1_intensity  nucleus_mdc1_intensity  noncell_mdc1_intensity  \\\n",
       "4                     NaN              108.094818              106.096410   \n",
       "5                     NaN              107.990233              106.203520   \n",
       "7                     NaN              107.169014              105.657201   \n",
       "8                     NaN              108.640851              106.026182   \n",
       "10                    NaN              109.059506              106.019432   \n",
       "...                   ...                     ...                     ...   \n",
       "1260                  NaN              299.218914              126.637831   \n",
       "1261                  NaN              316.904975              116.170479   \n",
       "1262                  NaN              598.290240              113.357499   \n",
       "1263                  NaN              198.777301              110.783100   \n",
       "1265                  NaN              458.501321              112.670400   \n",
       "\n",
       "      mdc1_mdc1_norm_intensity                    exp_annotation  exp_key  \\\n",
       "4                          NaN                220623IF_220601exp  control   \n",
       "5                          NaN                220623IF_220601exp  control   \n",
       "7                          NaN                220623IF_220601exp  control   \n",
       "8                          NaN                220623IF_220601exp  control   \n",
       "10                         NaN                220623IF_220601exp  control   \n",
       "...                        ...                               ...      ...   \n",
       "1260                       NaN  210126IF_230118exp_p53ko_control  control   \n",
       "1261                       NaN  210126IF_230118exp_p53ko_control  control   \n",
       "1262                       NaN  210126IF_230118exp_p53ko_control  control   \n",
       "1263                       NaN  210126IF_230118exp_p53ko_control  control   \n",
       "1265                       NaN  210126IF_230118exp_p53ko_control  control   \n",
       "\n",
       "      mdc_Ab  pos_kept  \n",
       "4     rabbit         1  \n",
       "5     rabbit         1  \n",
       "7     rabbit         1  \n",
       "8     rabbit         1  \n",
       "10    rabbit         1  \n",
       "...      ...       ...  \n",
       "1260  rabbit         1  \n",
       "1261  rabbit         1  \n",
       "1262  rabbit         1  \n",
       "1263  rabbit         1  \n",
       "1265  rabbit         1  \n",
       "\n",
       "[9755 rows x 15 columns]"
      ]
     },
     "execution_count": 20,
     "metadata": {},
     "output_type": "execute_result"
    }
   ],
   "source": [
    "sel_merged_df"
   ]
  },
  {
   "cell_type": "code",
   "execution_count": 21,
   "metadata": {},
   "outputs": [
    {
     "data": {
      "text/plain": [
       "array(['control'], dtype=object)"
      ]
     },
     "execution_count": 21,
     "metadata": {},
     "output_type": "execute_result"
    }
   ],
   "source": [
    "data_main_folder\n",
    "np.unique(sel_merged_df['exp_annotation'])\n",
    "np.unique(sel_merged_df['exp_key'])\n"
   ]
  },
  {
   "cell_type": "code",
   "execution_count": 22,
   "metadata": {},
   "outputs": [
    {
     "name": "stdout",
     "output_type": "stream",
     "text": [
      "-- There are 69.0% data-points were kept after filtering.\n",
      "45h: 2.798 in 3360 cells\n",
      "--Saving excel for 45h\n",
      "-- There are 73.0% data-points were kept after filtering.\n",
      "4days: 2.349 in 4343 cells\n",
      "--Saving excel for 4days\n",
      "-- There are 72.0% data-points were kept after filtering.\n",
      "8days: 1.278 in 3443 cells\n",
      "--Saving excel for 8days\n",
      "-- There are 70.0% data-points were kept after filtering.\n",
      "16days: 0.543 in 1658 cells\n",
      "--Saving excel for 16days\n",
      "-- There are 73.0% data-points were kept after filtering.\n",
      "control: 0.697 in 9755 cells\n",
      "--Saving excel for control\n"
     ]
    }
   ],
   "source": [
    "output_fname = os.path.join(data_main_folder,'40x_rabbit_MDC1_filtered_3_rep.xlsx')\n",
    "with pd.ExcelWriter(output_fname) as writer:  \n",
    "    \n",
    "    for exp_key in sorted_exp_key_list:\n",
    "        sel_merged_df  = merged_df[merged_df['exp_key']==exp_key]\n",
    "        ori_cell_num = len(sel_merged_df)\n",
    "\n",
    "        sel_merged_df=sel_merged_df[sel_merged_df['nucleus_size']>size_th_low]\n",
    "        sel_merged_df=sel_merged_df[sel_merged_df['nucleus_size']<size_th_high]\n",
    "\n",
    "        sel_merged_df['pos_kept']=sel_merged_df['cell_xyz_coord'].map(lambda x: filter_cell_by_coord(x,dist_tp_bound = 200))\n",
    "        sel_merged_df=sel_merged_df[sel_merged_df['pos_kept']==1]\n",
    "        print (f'-- There are {round(len(sel_merged_df)/ori_cell_num*100,0)}% data-points were kept after filtering.')\n",
    "\n",
    "        num_mdc = np.sum(sel_merged_df['mdc1_size']>mdc_size_th)\n",
    "        num_mdc = np.sum(sel_merged_df['mdc1_mdc1_norm_intensity']>=1)\n",
    "\n",
    "        num_nuc = len(sel_merged_df)\n",
    "        mdc_ratio = np.round(num_mdc/num_nuc*100,3)\n",
    "        print(exp_key+':', mdc_ratio, f'in {num_nuc} cells')\n",
    "\n",
    "\n",
    "        sel_merged_df.to_excel(writer,sheet_name=exp_key)\n",
    "        print(f'--Saving excel for {exp_key}')"
   ]
  },
  {
   "cell_type": "code",
   "execution_count": null,
   "metadata": {},
   "outputs": [],
   "source": []
  }
 ],
 "metadata": {
  "kernelspec": {
   "display_name": "Python 3",
   "language": "python",
   "name": "python3"
  },
  "language_info": {
   "codemirror_mode": {
    "name": "ipython",
    "version": 3
   },
   "file_extension": ".py",
   "mimetype": "text/x-python",
   "name": "python",
   "nbconvert_exporter": "python",
   "pygments_lexer": "ipython3",
   "version": "3.7.6"
  },
  "toc": {
   "base_numbering": 1,
   "nav_menu": {},
   "number_sections": false,
   "sideBar": true,
   "skip_h1_title": false,
   "title_cell": "Table of Contents",
   "title_sidebar": "Contents",
   "toc_cell": false,
   "toc_position": {},
   "toc_section_display": true,
   "toc_window_display": true
  },
  "varInspector": {
   "cols": {
    "lenName": 16,
    "lenType": 16,
    "lenVar": 40
   },
   "kernels_config": {
    "python": {
     "delete_cmd_postfix": "",
     "delete_cmd_prefix": "del ",
     "library": "var_list.py",
     "varRefreshCmd": "print(var_dic_list())"
    },
    "r": {
     "delete_cmd_postfix": ") ",
     "delete_cmd_prefix": "rm(",
     "library": "var_list.r",
     "varRefreshCmd": "cat(var_dic_list()) "
    }
   },
   "types_to_exclude": [
    "module",
    "function",
    "builtin_function_or_method",
    "instance",
    "_Feature"
   ],
   "window_display": false
  }
 },
 "nbformat": 4,
 "nbformat_minor": 4
}

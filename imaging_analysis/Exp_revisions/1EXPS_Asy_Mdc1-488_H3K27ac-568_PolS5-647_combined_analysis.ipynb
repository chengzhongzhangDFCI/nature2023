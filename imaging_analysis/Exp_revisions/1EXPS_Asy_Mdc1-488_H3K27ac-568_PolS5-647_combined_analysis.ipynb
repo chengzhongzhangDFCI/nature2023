{
 "cells": [
  {
   "cell_type": "markdown",
   "metadata": {},
   "source": [
    "# 1. Import required modules"
   ]
  },
  {
   "cell_type": "code",
   "execution_count": 2,
   "metadata": {},
   "outputs": [
    {
     "name": "stderr",
     "output_type": "stream",
     "text": [
      "c:\\programdata\\anaconda3\\lib\\site-packages\\skimage\\io\\manage_plugins.py:23: UserWarning: Your installed pillow version is < 7.1.0. Several security issues (CVE-2020-11538, CVE-2020-10379, CVE-2020-10994, CVE-2020-10177) have been fixed in pillow 7.1.0 or higher. We recommend to upgrade this library.\n",
      "  from .collection import imread_collection_wrapper\n"
     ]
    }
   ],
   "source": [
    "import numpy as np\n",
    "import matplotlib.pyplot as plt\n",
    "from skimage import io\n",
    "from skimage import data\n",
    "import skimage\n",
    "from skimage.filters.thresholding import threshold_li,threshold_local,threshold_otsu\n",
    "from skimage.morphology import erosion, dilation, opening, closing, white_tophat, remove_small_objects, ball\n",
    "from skimage.morphology import disk\n",
    "from scipy import ndimage as ndi\n",
    "import sys,os, glob\n",
    "\n",
    "#import skimage.filters.median\n",
    "\n",
    "#import skimage.segmentation as seg\n",
    "#import skimage.filters as filters\n",
    "#import skimage.draw as draw\n",
    "#import skimage.color as color\n",
    "\n",
    "#from skimage.filters.thresholding import _cross_entropy\n",
    "#from skimage.morphology import black_tophat, skeletonize, convex_hull_image\n",
    "\n",
    "\n",
    "#pip install nd2reader_required for nd2 file reading\n",
    "from nd2reader import ND2Reader\n",
    "\n",
    "import pandas as pd"
   ]
  },
  {
   "cell_type": "markdown",
   "metadata": {},
   "source": [
    "# 2. Define common parameters for measurement loading here:"
   ]
  },
  {
   "cell_type": "markdown",
   "metadata": {},
   "source": [
    "## Control exps"
   ]
  },
  {
   "cell_type": "code",
   "execution_count": 26,
   "metadata": {},
   "outputs": [],
   "source": [
    "# load experiment exp1\n",
    "\n",
    "analysis_fd = r'D:\\Analyzed_CellBio\\Stam\\Revision_exps\\220324IF_220218exp_asynchr_72h\\asynchr_60x\\analysis_subset_controlled'\n",
    "\n",
    "exp1_df = pd.read_excel(analysis_fd + os.sep + 'measurement_for_all_fov_background_subtracted_2_100_crop.xlsx')"
   ]
  },
  {
   "cell_type": "code",
   "execution_count": 27,
   "metadata": {},
   "outputs": [],
   "source": [
    "# load experiment exp2\n",
    "\n",
    "#analysis_fd = r'D:\\Analyzed_CellBio\\Stam\\Revision_exps\\2203087IF_220216exp_noco45h_Mdc1_H3T3_H3S10\\cov2_H3S10\\analysis_subset_controlled'\n",
    "\n",
    "#exp2_df = pd.read_excel(analysis_fd + os.sep + 'measurement_for_all_fov_background_subtracted_2_100_crop.xlsx')"
   ]
  },
  {
   "cell_type": "code",
   "execution_count": 28,
   "metadata": {},
   "outputs": [
    {
     "data": {
      "text/plain": [
       "160"
      ]
     },
     "execution_count": 28,
     "metadata": {},
     "output_type": "execute_result"
    }
   ],
   "source": [
    "#ctrl_combined_df = pd.concat([exp1_df,exp2_df])\n",
    "ctrl_combined_df =exp1_df\n",
    "\n",
    "len(ctrl_combined_df)\n",
    "\n",
    "\n",
    "#measurement_for_all_fov_df = ctrl_combined_df"
   ]
  },
  {
   "cell_type": "code",
   "execution_count": 29,
   "metadata": {},
   "outputs": [],
   "source": [
    "#ctrl_combined_df.columns"
   ]
  },
  {
   "cell_type": "code",
   "execution_count": 30,
   "metadata": {},
   "outputs": [
    {
     "data": {
      "text/plain": [
       "160"
      ]
     },
     "execution_count": 30,
     "metadata": {},
     "output_type": "execute_result"
    }
   ],
   "source": [
    "len(ctrl_combined_df)\n"
   ]
  },
  {
   "cell_type": "code",
   "execution_count": 31,
   "metadata": {},
   "outputs": [
    {
     "data": {
      "text/plain": [
       "36"
      ]
     },
     "execution_count": 31,
     "metadata": {},
     "output_type": "execute_result"
    }
   ],
   "source": [
    "ctrl_combined_df = (ctrl_combined_df[ctrl_combined_df['area_incorporated_chr']>=300])\n",
    "\n",
    "len(ctrl_combined_df)\n"
   ]
  },
  {
   "cell_type": "markdown",
   "metadata": {},
   "source": [
    "# 3. Post-hoc analysis examples"
   ]
  },
  {
   "cell_type": "code",
   "execution_count": 4,
   "metadata": {},
   "outputs": [],
   "source": [
    "#len(measurement_for_all_fov_df)\n",
    "\n",
    "\n",
    "analysis_save_path = r'D:\\Analyzed_CellBio\\Stam\\Revision_exps\\Asy_H3K27_analysis'\n",
    "\n",
    "analysis_savename = 'mdc-488_h3k27ac_pol2_analyzed.xlsx'"
   ]
  },
  {
   "cell_type": "code",
   "execution_count": 32,
   "metadata": {},
   "outputs": [],
   "source": [
    "# The labeled histone mark in the excel\n",
    "\n",
    "h2ax_key = 'H3K27ac'\n",
    "\n",
    "\n",
    "# the actual histone mark analyzed  (to correct the mis-labeling in the raw measurements)\n",
    "actual_h2ax_key = 'H3K27ac'"
   ]
  },
  {
   "cell_type": "code",
   "execution_count": 34,
   "metadata": {},
   "outputs": [
    {
     "name": "stdout",
     "output_type": "stream",
     "text": [
      "analyzing experiment group 0.\n",
      "-- There are 36 data-points after filtering.\n",
      "0.7209876017680172\n",
      "0.972913467952708\n",
      "0.7122558419692484\n",
      "0.9583241042292132\n",
      "3.8480404311914205\n",
      "0.9632459340960732\n",
      "1.0646766698983958\n",
      "1.006803442562164\n"
     ]
    }
   ],
   "source": [
    "# Process each datafram\n",
    "\n",
    "out_df_dict = {}\n",
    "exp_name_list = [\"Asy\"]\n",
    "\n",
    "for _df_index, _df in enumerate([ctrl_combined_df]):\n",
    "    print(f'analyzing experiment group {_df_index}.')\n",
    "    \n",
    "    # remove the bad cell that has no Pol2 signal\n",
    "    analysis_df = _df[_df['ave_intensity_control_chr_Pol2S5']>0].copy()\n",
    "    print (f'-- There are {len(analysis_df)} data-points after filtering.')\n",
    "\n",
    "    # for total incorporated chr\n",
    "    analysis_df['normalized_inc_Pol2S5']=analysis_df['ave_intensity_incorporated_chr_Pol2S5']/analysis_df['ave_intensity_nucleo-excluded_control_chr_Pol2S5']\n",
    "    print(analysis_df['normalized_inc_Pol2S5'].mean())\n",
    "\n",
    "    # for subset control\n",
    "    analysis_df['normalized_subset_control_Pol2S5']=analysis_df['ave_intensity_subset_control_chr_Pol2S5']/analysis_df['ave_intensity_nucleo-excluded_control_chr_Pol2S5']\n",
    "    print(analysis_df['normalized_subset_control_Pol2S5'].mean())\n",
    "\n",
    "    # get the h2ax-positive area vs h2ax-less (positive) area for the same cell\n",
    "    analysis_df[f'normalized_inc_{actual_h2ax_key}'] = analysis_df[f'ave_intensity_incorporated_chr_{h2ax_key}']/analysis_df[f'ave_intensity_nucleo-excluded_control_chr_{h2ax_key}']\n",
    "    print(analysis_df[f'normalized_inc_{actual_h2ax_key}'].mean())\n",
    "\n",
    "    # for subset control\n",
    "    analysis_df[f'normalized_subset_control_{actual_h2ax_key}']=analysis_df[f'ave_intensity_subset_control_chr_{h2ax_key}']/analysis_df[f'ave_intensity_nucleo-excluded_control_chr_{h2ax_key}']\n",
    "    print(analysis_df[f'normalized_subset_control_{actual_h2ax_key}'].mean())\n",
    "\n",
    "    # get the h2ax-positive area vs h2ax-less (positive) area for the same cell\n",
    "    analysis_df['normalized_inc_Mdc1'] = analysis_df['ave_intensity_incorporated_chr_Mdc1']/analysis_df['ave_intensity_nucleo-excluded_control_chr_Mdc1']\n",
    "    print(analysis_df['normalized_inc_Mdc1'].mean())\n",
    "\n",
    "    # for subset control\n",
    "    analysis_df['normalized_subset_control_Mdc1']=analysis_df['ave_intensity_subset_control_chr_Mdc1']/analysis_df['ave_intensity_nucleo-excluded_control_chr_Mdc1']\n",
    "    print(analysis_df['normalized_subset_control_Mdc1'].mean())\n",
    "\n",
    "    # get the h2ax-positive area vs h2ax-less (positive) area for the same cell\n",
    "    analysis_df['normalized_inc_dna'] = analysis_df['ave_intensity_incorporated_chr_dna']/analysis_df['ave_intensity_nucleo-excluded_control_chr_dna']\n",
    "    print(analysis_df['normalized_inc_dna'].mean())\n",
    "\n",
    "    # for subset control\n",
    "    analysis_df['normalized_subset_control_dna']=analysis_df['ave_intensity_subset_control_chr_dna']/analysis_df['ave_intensity_nucleo-excluded_control_chr_dna']\n",
    "    print(analysis_df['normalized_subset_control_dna'].mean())\n",
    "    \n",
    "    out_df_key = exp_name_list[_df_index]\n",
    "    out_df_dict[out_df_key]=analysis_df\n",
    "    "
   ]
  },
  {
   "cell_type": "code",
   "execution_count": 7,
   "metadata": {},
   "outputs": [],
   "source": [
    "#analysis_savename = 'rpe1_h3k27_pol2_analyzed.xlsx'\n",
    "for _exp_key, _exp_df in out_df_dict.items():\n",
    "    exp_analysis_savename = _exp_key+'_'+analysis_savename\n",
    "    _exp_df.to_excel(os.path.join(analysis_save_path,exp_analysis_savename), index=False)"
   ]
  },
  {
   "cell_type": "code",
   "execution_count": 35,
   "metadata": {},
   "outputs": [
    {
     "name": "stdout",
     "output_type": "stream",
     "text": [
      "MW comparision: 0.3869840393509165\n"
     ]
    },
    {
     "data": {
      "image/png": "[encoded data removed]",
      "text/plain": [
       "<Figure size 432x288 with 1 Axes>"
      ]
     },
     "metadata": {
      "needs_background": "light"
     },
     "output_type": "display_data"
    }
   ],
   "source": [
    "# for dna\n",
    "\n",
    "# \n",
    "g1 = out_df_dict['Asy']['normalized_inc_dna']\n",
    "g2 = out_df_dict['Asy']['normalized_subset_control_dna']\n",
    "#g3 = out_df_dict['HDACi']['normalized_inc_dna']\n",
    "#g4 = out_df_dict['HDACi']['normalized_subset_control_dna']\n",
    "\n",
    "#sp_low = min(len(g1),len(g2),len(g3))\n",
    "#sp_low = min(len(g1),len(g2), len(g3))\n",
    "\n",
    "#g1 = np.random.choice(g1, sp_low)\n",
    "#g2 = np.random.choice(g2, sp_low)\n",
    "#g3 = np.random.choice(g3, sp_low)\n",
    "#g4 = np.random.choice(g4, sp_low)\n",
    "#args = (g1,g2,g3,g4)\n",
    "args = (g1,g2)\n",
    "\n",
    "\n",
    "boxplot_pol2= plt.boxplot([*args], meanline = True)\n",
    "\n",
    "\n",
    "vals, xs = [], [] \n",
    "\n",
    "for i, subdf in enumerate([*args]):\n",
    "    #names.append(name)\n",
    "    vals.append(subdf.tolist())\n",
    "    xs.append(np.random.normal(i+1, 0.04, subdf.shape[0]))\n",
    "\n",
    "for x, val in zip(xs, vals):\n",
    "    plt.scatter(x, val,  s = 1, alpha=0.3)\n",
    "\n",
    "from scipy.stats import mannwhitneyu\n",
    "from scipy.stats import kruskal\n",
    "#p4 = kruskal(g1,g2,g3,g4)\n",
    "\n",
    "U1, p1 = mannwhitneyu(g1,g2)\n",
    "\n",
    "print(f\"MW comparision: {p1}\")\n",
    "\n",
    "\n",
    "\n",
    "#print(f\"three samples comparision: {p4}\")"
   ]
  },
  {
   "cell_type": "code",
   "execution_count": 36,
   "metadata": {},
   "outputs": [
    {
     "name": "stdout",
     "output_type": "stream",
     "text": [
      "MW comparision: 1.5231704914449503e-13\n"
     ]
    },
    {
     "data": {
      "image/png": "[encoded data removed]",
      "text/plain": [
       "<Figure size 432x288 with 1 Axes>"
      ]
     },
     "metadata": {
      "needs_background": "light"
     },
     "output_type": "display_data"
    }
   ],
   "source": [
    "# for mdc1\n",
    "\n",
    "g1 = out_df_dict['Asy']['normalized_inc_Mdc1']\n",
    "g2 = out_df_dict['Asy']['normalized_subset_control_Mdc1']\n",
    "#g3 = out_df_dict['HDACi']['normalized_inc_Mdc1']\n",
    "#g4 = out_df_dict['HDACi']['normalized_subset_control_Mdc1']\n",
    "\n",
    "#sp_low = min(len(g1),len(g2),len(g3))\n",
    "#sp_low = min(len(g1),len(g2), len(g3))\n",
    "\n",
    "#g1 = np.random.choice(g1, sp_low)\n",
    "#g2 = np.random.choice(g2, sp_low)\n",
    "#g3 = np.random.choice(g3, sp_low)\n",
    "#g4 = np.random.choice(g4, sp_low)\n",
    "#args = (g1,g2,g3,g4)\n",
    "args = (g1,g2)\n",
    "\n",
    "boxplot_pol2= plt.boxplot([*args], meanline = True)\n",
    "\n",
    "\n",
    "vals, xs = [], [] \n",
    "\n",
    "for i, subdf in enumerate([*args]):\n",
    "    #names.append(name)\n",
    "    vals.append(subdf.tolist())\n",
    "    xs.append(np.random.normal(i+1, 0.04, subdf.shape[0]))\n",
    "\n",
    "for x, val in zip(xs, vals):\n",
    "    plt.scatter(x, val,  s = 1, alpha=0.3)\n",
    "\n",
    "from scipy.stats import mannwhitneyu\n",
    "from scipy.stats import kruskal\n",
    "#p4 = kruskal(g1,g2,g3,g4)\n",
    "\n",
    "U1, p1 = mannwhitneyu(g1,g2)\n",
    "\n",
    "print(f\"MW comparision: {p1}\")\n",
    "\n",
    "\n",
    "\n",
    "#print(f\"three samples comparision: {p4}\")"
   ]
  },
  {
   "cell_type": "code",
   "execution_count": 37,
   "metadata": {},
   "outputs": [
    {
     "name": "stdout",
     "output_type": "stream",
     "text": [
      "MW comparision: 4.139612783816055e-05\n"
     ]
    },
    {
     "data": {
      "image/png": "[encoded data removed]",
      "text/plain": [
       "<Figure size 432x288 with 1 Axes>"
      ]
     },
     "metadata": {
      "needs_background": "light"
     },
     "output_type": "display_data"
    }
   ],
   "source": [
    "# For Pol2S5\n",
    "\n",
    "g1 = out_df_dict['Asy']['normalized_inc_Pol2S5']\n",
    "g2 = out_df_dict['Asy']['normalized_subset_control_Pol2S5']\n",
    "#g3 = out_df_dict['HDACi']['normalized_inc_Pol2S5']\n",
    "#g4 = out_df_dict['HDACi']['normalized_subset_control_Pol2S5']\n",
    "\n",
    "#sp_low = min(len(g1),len(g2),len(g3))\n",
    "#sp_low = min(len(g1),len(g2), len(g3))\n",
    "\n",
    "#g1 = np.random.choice(g1, sp_low)\n",
    "#g2 = np.random.choice(g2, sp_low)\n",
    "#g3 = np.random.choice(g3, sp_low)\n",
    "#g4 = np.random.choice(g4, sp_low)\n",
    "#args = (g1,g2,g3,g4)\n",
    "args = (g1,g2)\n",
    "boxplot_pol2= plt.boxplot([*args], meanline = True)\n",
    "\n",
    "\n",
    "vals, xs = [], [] \n",
    "\n",
    "for i, subdf in enumerate([*args]):\n",
    "    #names.append(name)\n",
    "    vals.append(subdf.tolist())\n",
    "    xs.append(np.random.normal(i+1, 0.04, subdf.shape[0]))\n",
    "\n",
    "for x, val in zip(xs, vals):\n",
    "    plt.scatter(x, val,  s = 1, alpha=0.3)\n",
    "\n",
    "from scipy.stats import mannwhitneyu\n",
    "from scipy.stats import kruskal\n",
    "#p4 = kruskal(g1,g2,g3,g4)\n",
    "\n",
    "U1, p1 = mannwhitneyu(g1,g2)\n",
    "\n",
    "print(f\"MW comparision: {p1}\")\n",
    "\n",
    "\n",
    "\n",
    "#print(f\"three samples comparision: {p4}\")"
   ]
  },
  {
   "cell_type": "code",
   "execution_count": 38,
   "metadata": {},
   "outputs": [
    {
     "name": "stdout",
     "output_type": "stream",
     "text": [
      "MW comparision: 2.8334483057298443e-05\n"
     ]
    },
    {
     "data": {
      "image/png": "[encoded data removed]",
      "text/plain": [
       "<Figure size 432x288 with 1 Axes>"
      ]
     },
     "metadata": {
      "needs_background": "light"
     },
     "output_type": "display_data"
    }
   ],
   "source": [
    "# For Pol2S5 norm to dna\n",
    "\n",
    "g1 = (out_df_dict['Asy']['normalized_inc_Pol2S5'])/(out_df_dict['Asy']['normalized_inc_dna'])\n",
    "g2 = (out_df_dict['Asy']['normalized_subset_control_Pol2S5'])/(out_df_dict['Asy']['normalized_subset_control_dna'])\n",
    "#g3 = out_df_dict['HDACi']['normalized_inc_Pol2S5']/(out_df_dict['HDACi']['normalized_inc_dna'])\n",
    "#g4 = out_df_dict['HDACi']['normalized_subset_control_Pol2S5']/(out_df_dict['HDACi']['normalized_subset_control_dna'])\n",
    "\n",
    "#sp_low = min(len(g1),len(g2),len(g3))\n",
    "#sp_low = min(len(g1),len(g2), len(g3))\n",
    "\n",
    "#g1 = np.random.choice(g1, sp_low)\n",
    "#g2 = np.random.choice(g2, sp_low)\n",
    "#g3 = np.random.choice(g3, sp_low)\n",
    "#g4 = np.random.choice(g4, sp_low)\n",
    "#args = (g1,g2,g3,g4)\n",
    "args = (g1,g2)\n",
    "\n",
    "boxplot_pol2= plt.boxplot([*args], meanline = True)\n",
    "\n",
    "\n",
    "vals, xs = [], [] \n",
    "\n",
    "for i, subdf in enumerate([*args]):\n",
    "    #names.append(name)\n",
    "    vals.append(subdf.tolist())\n",
    "    xs.append(np.random.normal(i+1, 0.04, subdf.shape[0]))\n",
    "\n",
    "for x, val in zip(xs, vals):\n",
    "    plt.scatter(x, val,  s = 1, alpha=0.3)\n",
    "\n",
    "from scipy.stats import mannwhitneyu\n",
    "from scipy.stats import kruskal\n",
    "#p4 = kruskal(g1,g2,g3,g4)\n",
    "\n",
    "U1, p1 = mannwhitneyu(g1,g2)\n",
    "\n",
    "print(f\"MW comparision: {p1}\")\n",
    "\n",
    "\n",
    "\n",
    "#print(f\"three samples comparision: {p4}\")"
   ]
  },
  {
   "cell_type": "code",
   "execution_count": 39,
   "metadata": {},
   "outputs": [
    {
     "name": "stdout",
     "output_type": "stream",
     "text": [
      "MW comparision: 4.924808729402235e-06\n"
     ]
    },
    {
     "data": {
      "image/png": "[encoded data removed]",
      "text/plain": [
       "<Figure size 432x288 with 1 Axes>"
      ]
     },
     "metadata": {
      "needs_background": "light"
     },
     "output_type": "display_data"
    }
   ],
   "source": [
    "# For H2ax-key relevant Ab\n",
    "\n",
    "\n",
    "g1 = (out_df_dict['Asy'][f'normalized_inc_{actual_h2ax_key}'])\n",
    "g2 = (out_df_dict['Asy'][f'normalized_subset_control_{actual_h2ax_key}'])\n",
    "#g3 = out_df_dict['HDACi'][f'normalized_inc_{actual_h2ax_key}']\n",
    "#g4 = out_df_dict['HDACi'][f'normalized_subset_control_{actual_h2ax_key}']\n",
    "\n",
    "#sp_low = min(len(g1),len(g2),len(g3))\n",
    "#sp_low = min(len(g1),len(g2), len(g3))\n",
    "\n",
    "#g1 = np.random.choice(g1, sp_low)\n",
    "#g2 = np.random.choice(g2, sp_low)\n",
    "#g3 = np.random.choice(g3, sp_low)\n",
    "#g4 = np.random.choice(g4, sp_low)\n",
    "#args = (g1,g2,g3,g4)\n",
    "args = (g1,g2)\n",
    "\n",
    "boxplot_pol2= plt.boxplot([*args], meanline = True)\n",
    "\n",
    "\n",
    "vals, xs = [], [] \n",
    "\n",
    "for i, subdf in enumerate([*args]):\n",
    "    #names.append(name)\n",
    "    vals.append(subdf.tolist())\n",
    "    xs.append(np.random.normal(i+1, 0.04, subdf.shape[0]))\n",
    "\n",
    "for x, val in zip(xs, vals):\n",
    "    plt.scatter(x, val,  s = 1, alpha=0.3)\n",
    "\n",
    "from scipy.stats import mannwhitneyu\n",
    "from scipy.stats import kruskal\n",
    "#p4 = kruskal(g1,g2,g3,g4)\n",
    "\n",
    "U1, p1 = mannwhitneyu(g1,g2)\n",
    "\n",
    "print(f\"MW comparision: {p1}\")\n",
    "\n",
    "\n",
    "\n",
    "#print(f\"three samples comparision: {p4}\")"
   ]
  },
  {
   "cell_type": "code",
   "execution_count": 40,
   "metadata": {},
   "outputs": [
    {
     "name": "stdout",
     "output_type": "stream",
     "text": [
      "MW comparision: 4.338145616680067e-05\n"
     ]
    },
    {
     "data": {
      "image/png": "[encoded data removed]",
      "text/plain": [
       "<Figure size 432x288 with 1 Axes>"
      ]
     },
     "metadata": {
      "needs_background": "light"
     },
     "output_type": "display_data"
    }
   ],
   "source": [
    "# For H2ax-key relevant Ab\n",
    "\n",
    "\n",
    "g1 = (out_df_dict['Asy'][f'normalized_inc_{actual_h2ax_key}'])/(out_df_dict['Asy']['normalized_inc_dna'])\n",
    "g2 = (out_df_dict['Asy'][f'normalized_subset_control_{actual_h2ax_key}'])/(out_df_dict['Asy']['normalized_subset_control_dna'])\n",
    "#g3 = out_df_dict['HDACi'][f'normalized_inc_{actual_h2ax_key}']/(out_df_dict['HDACi']['normalized_inc_dna'])\n",
    "#g4 = out_df_dict['HDACi'][f'normalized_subset_control_{actual_h2ax_key}']/(out_df_dict['HDACi']['normalized_subset_control_dna'])\n",
    "\n",
    "#sp_low = min(len(g1),len(g2),len(g3))\n",
    "#sp_low = min(len(g1),len(g2), len(g3))\n",
    "\n",
    "#g1 = np.random.choice(g1, sp_low)\n",
    "#g2 = np.random.choice(g2, sp_low)\n",
    "#g3 = np.random.choice(g3, sp_low)\n",
    "#g4 = np.random.choice(g4, sp_low)\n",
    "#args = (g1,g2,g3,g4)\n",
    "args = (g1,g2)\n",
    "\n",
    "boxplot_pol2= plt.boxplot([*args], meanline = True)\n",
    "\n",
    "\n",
    "vals, xs = [], [] \n",
    "\n",
    "for i, subdf in enumerate([*args]):\n",
    "    #names.append(name)\n",
    "    vals.append(subdf.tolist())\n",
    "    xs.append(np.random.normal(i+1, 0.04, subdf.shape[0]))\n",
    "\n",
    "for x, val in zip(xs, vals):\n",
    "    plt.scatter(x, val,  s = 1, alpha=0.3)\n",
    "\n",
    "from scipy.stats import mannwhitneyu\n",
    "from scipy.stats import kruskal\n",
    "#p4 = kruskal(g1,g2,g3,g4)\n",
    "\n",
    "U1, p1 = mannwhitneyu(g1,g2)\n",
    "\n",
    "print(f\"MW comparision: {p1}\")\n",
    "\n",
    "\n",
    "\n",
    "#print(f\"three samples comparision: {p4}\")"
   ]
  },
  {
   "cell_type": "code",
   "execution_count": 41,
   "metadata": {},
   "outputs": [
    {
     "data": {
      "text/plain": [
       "SpearmanrResult(correlation=0.8051480051480052, pvalue=3.2099914668048574e-09)"
      ]
     },
     "execution_count": 41,
     "metadata": {},
     "output_type": "execute_result"
    }
   ],
   "source": [
    "from scipy import stats\n",
    "stats.spearmanr(out_df_dict['Asy']['normalized_inc_Pol2S5'], out_df_dict['Asy'][f'normalized_inc_{actual_h2ax_key}'])"
   ]
  },
  {
   "cell_type": "code",
   "execution_count": 42,
   "metadata": {},
   "outputs": [
    {
     "data": {
      "text/plain": [
       "<matplotlib.collections.PathCollection at 0x244593f93c8>"
      ]
     },
     "execution_count": 42,
     "metadata": {},
     "output_type": "execute_result"
    },
    {
     "data": {
      "image/png": "[encoded data removed]",
      "text/plain": [
       "<Figure size 432x288 with 1 Axes>"
      ]
     },
     "metadata": {
      "needs_background": "light"
     },
     "output_type": "display_data"
    }
   ],
   "source": [
    "plt.scatter(x= out_df_dict['Asy']['normalized_inc_Pol2S5'], y =out_df_dict['Asy'][f'normalized_inc_{actual_h2ax_key}'])\n"
   ]
  },
  {
   "cell_type": "code",
   "execution_count": 43,
   "metadata": {},
   "outputs": [
    {
     "ename": "KeyError",
     "evalue": "'HDACi'",
     "output_type": "error",
     "traceback": [
      "\u001b[1;31m---------------------------------------------------------------------------\u001b[0m",
      "\u001b[1;31mKeyError\u001b[0m                                  Traceback (most recent call last)",
      "\u001b[1;32m~\\AppData\\Local\\Temp/ipykernel_36592/3637801474.py\u001b[0m in \u001b[0;36m<module>\u001b[1;34m\u001b[0m\n\u001b[1;32m----> 1\u001b[1;33m \u001b[0mplt\u001b[0m\u001b[1;33m.\u001b[0m\u001b[0mscatter\u001b[0m\u001b[1;33m(\u001b[0m\u001b[0mx\u001b[0m\u001b[1;33m=\u001b[0m \u001b[0mout_df_dict\u001b[0m\u001b[1;33m[\u001b[0m\u001b[1;34m'HDACi'\u001b[0m\u001b[1;33m]\u001b[0m\u001b[1;33m[\u001b[0m\u001b[1;34m'normalized_inc_Pol2S5'\u001b[0m\u001b[1;33m]\u001b[0m\u001b[1;33m,\u001b[0m \u001b[0my\u001b[0m \u001b[1;33m=\u001b[0m\u001b[0mout_df_dict\u001b[0m\u001b[1;33m[\u001b[0m\u001b[1;34m'HDACi'\u001b[0m\u001b[1;33m]\u001b[0m\u001b[1;33m[\u001b[0m\u001b[1;34mf'normalized_inc_{actual_h2ax_key}'\u001b[0m\u001b[1;33m]\u001b[0m\u001b[1;33m)\u001b[0m\u001b[1;33m\u001b[0m\u001b[1;33m\u001b[0m\u001b[0m\n\u001b[0m",
      "\u001b[1;31mKeyError\u001b[0m: 'HDACi'"
     ]
    }
   ],
   "source": [
    "plt.scatter(x= out_df_dict['HDACi']['normalized_inc_Pol2S5'], y =out_df_dict['HDACi'][f'normalized_inc_{actual_h2ax_key}'])\n"
   ]
  },
  {
   "cell_type": "code",
   "execution_count": null,
   "metadata": {},
   "outputs": [],
   "source": []
  }
 ],
 "metadata": {
  "kernelspec": {
   "display_name": "Python 3",
   "language": "python",
   "name": "python3"
  },
  "language_info": {
   "codemirror_mode": {
    "name": "ipython",
    "version": 3
   },
   "file_extension": ".py",
   "mimetype": "text/x-python",
   "name": "python",
   "nbconvert_exporter": "python",
   "pygments_lexer": "ipython3",
   "version": "3.7.6"
  },
  "toc": {
   "base_numbering": 1,
   "nav_menu": {},
   "number_sections": false,
   "sideBar": true,
   "skip_h1_title": false,
   "title_cell": "Table of Contents",
   "title_sidebar": "Contents",
   "toc_cell": false,
   "toc_position": {},
   "toc_section_display": true,
   "toc_window_display": true
  },
  "varInspector": {
   "cols": {
    "lenName": 16,
    "lenType": 16,
    "lenVar": 40
   },
   "kernels_config": {
    "python": {
     "delete_cmd_postfix": "",
     "delete_cmd_prefix": "del ",
     "library": "var_list.py",
     "varRefreshCmd": "print(var_dic_list())"
    },
    "r": {
     "delete_cmd_postfix": ") ",
     "delete_cmd_prefix": "rm(",
     "library": "var_list.r",
     "varRefreshCmd": "cat(var_dic_list()) "
    }
   },
   "types_to_exclude": [
    "module",
    "function",
    "builtin_function_or_method",
    "instance",
    "_Feature"
   ],
   "window_display": false
  }
 },
 "nbformat": 4,
 "nbformat_minor": 4
}

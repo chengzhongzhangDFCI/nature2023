{
 "cells": [
  {
   "cell_type": "markdown",
   "metadata": {},
   "source": [
    "# 1. Import required modules"
   ]
  },
  {
   "cell_type": "code",
   "execution_count": 1,
   "metadata": {},
   "outputs": [
    {
     "name": "stderr",
     "output_type": "stream",
     "text": [
      "c:\\programdata\\anaconda3\\lib\\site-packages\\skimage\\io\\manage_plugins.py:23: UserWarning: Your installed pillow version is < 7.1.0. Several security issues (CVE-2020-11538, CVE-2020-10379, CVE-2020-10994, CVE-2020-10177) have been fixed in pillow 7.1.0 or higher. We recommend to upgrade this library.\n",
      "  from .collection import imread_collection_wrapper\n"
     ]
    }
   ],
   "source": [
    "import numpy as np\n",
    "import matplotlib.pyplot as plt\n",
    "from skimage import io\n",
    "from skimage import data\n",
    "import skimage\n",
    "from skimage.filters.thresholding import threshold_li,threshold_local,threshold_otsu\n",
    "from skimage.morphology import erosion, dilation, opening, closing, white_tophat, remove_small_objects, ball\n",
    "from skimage.morphology import disk\n",
    "from scipy import ndimage as ndi\n",
    "import sys,os, glob\n",
    "\n",
    "#import skimage.filters.median\n",
    "\n",
    "#import skimage.segmentation as seg\n",
    "#import skimage.filters as filters\n",
    "#import skimage.draw as draw\n",
    "#import skimage.color as color\n",
    "\n",
    "#from skimage.filters.thresholding import _cross_entropy\n",
    "#from skimage.morphology import black_tophat, skeletonize, convex_hull_image\n",
    "\n",
    "\n",
    "#pip install nd2reader_required for nd2 file reading\n",
    "from nd2reader import ND2Reader\n",
    "\n",
    "import pandas as pd"
   ]
  },
  {
   "cell_type": "markdown",
   "metadata": {},
   "source": [
    "# 2. Define common parameters for measurement loading here:"
   ]
  },
  {
   "cell_type": "markdown",
   "metadata": {},
   "source": [
    "## Control exps"
   ]
  },
  {
   "cell_type": "code",
   "execution_count": 2,
   "metadata": {},
   "outputs": [],
   "source": [
    "# load experiment exp1\n",
    "\n",
    "analysis_fd = r'D:\\Analyzed_CellBio\\Stam\\Revision_exps\\220324IF_220218exp_asynchr_72h\\asynchr_60x\\analysis_subset_controlled'\n",
    "\n",
    "exp1_df = pd.read_excel(analysis_fd + os.sep + 'measurement_for_all_fov_background_subtracted_2_100_crop.xlsx')"
   ]
  },
  {
   "cell_type": "code",
   "execution_count": 6,
   "metadata": {},
   "outputs": [],
   "source": [
    "# load experiment exp2\n",
    "\n",
    "#analysis_fd = r'D:\\Analyzed_CellBio\\Stam\\Revision_exps\\2203087IF_220216exp_noco45h_Mdc1_H3T3_H3S10\\cov2_H3S10\\analysis_subset_controlled'\n",
    "\n",
    "#exp2_df = pd.read_excel(analysis_fd + os.sep + 'measurement_for_all_fov_background_subtracted_2_100_crop.xlsx')"
   ]
  },
  {
   "cell_type": "code",
   "execution_count": 3,
   "metadata": {},
   "outputs": [
    {
     "data": {
      "text/plain": [
       "160"
      ]
     },
     "execution_count": 3,
     "metadata": {},
     "output_type": "execute_result"
    }
   ],
   "source": [
    "#ctrl_combined_df = pd.concat([exp1_df,exp2_df])\n",
    "ctrl_combined_df =exp1_df\n",
    "\n",
    "len(ctrl_combined_df)\n",
    "\n",
    "\n",
    "#measurement_for_all_fov_df = ctrl_combined_df"
   ]
  },
  {
   "cell_type": "code",
   "execution_count": 21,
   "metadata": {},
   "outputs": [],
   "source": [
    "#ctrl_combined_df.columns"
   ]
  },
  {
   "cell_type": "markdown",
   "metadata": {},
   "source": [
    "# 3. Post-hoc analysis examples"
   ]
  },
  {
   "cell_type": "code",
   "execution_count": 4,
   "metadata": {},
   "outputs": [],
   "source": [
    "#len(measurement_for_all_fov_df)\n",
    "\n",
    "\n",
    "analysis_save_path = r'D:\\Analyzed_CellBio\\Stam\\Revision_exps\\Asy_H3K27_analysis'\n",
    "\n",
    "analysis_savename = 'mdc-488_h3k27ac_pol2_analyzed.xlsx'"
   ]
  },
  {
   "cell_type": "code",
   "execution_count": 5,
   "metadata": {},
   "outputs": [],
   "source": [
    "# The labeled histone mark in the excel\n",
    "\n",
    "h2ax_key = 'H3K27ac'\n",
    "\n",
    "\n",
    "# the actual histone mark analyzed  (to correct the mis-labeling in the raw measurements)\n",
    "actual_h2ax_key = 'H3K27ac'"
   ]
  },
  {
   "cell_type": "code",
   "execution_count": 6,
   "metadata": {},
   "outputs": [
    {
     "name": "stdout",
     "output_type": "stream",
     "text": [
      "analyzing experiment group 0.\n",
      "-- There are 160 data-points after filtering.\n",
      "0.8259645529192696\n",
      "1.0212422189249877\n",
      "0.7521761264585449\n",
      "0.9841379419875717\n",
      "3.1163397473827112\n",
      "1.0000118448372195\n",
      "1.163513297055311\n",
      "1.0170289507618535\n"
     ]
    }
   ],
   "source": [
    "# Process each datafram\n",
    "\n",
    "out_df_dict = {}\n",
    "exp_name_list = [\"Asy\"]\n",
    "\n",
    "for _df_index, _df in enumerate([ctrl_combined_df]):\n",
    "    print(f'analyzing experiment group {_df_index}.')\n",
    "    \n",
    "    # remove the bad cell that has no Pol2 signal\n",
    "    analysis_df = _df[_df['ave_intensity_control_chr_Pol2S5']>0].copy()\n",
    "    print (f'-- There are {len(analysis_df)} data-points after filtering.')\n",
    "\n",
    "    # for total incorporated chr\n",
    "    analysis_df['normalized_inc_Pol2S5']=analysis_df['ave_intensity_incorporated_chr_Pol2S5']/analysis_df['ave_intensity_nucleo-excluded_control_chr_Pol2S5']\n",
    "    print(analysis_df['normalized_inc_Pol2S5'].mean())\n",
    "\n",
    "    # for subset control\n",
    "    analysis_df['normalized_subset_control_Pol2S5']=analysis_df['ave_intensity_subset_control_chr_Pol2S5']/analysis_df['ave_intensity_nucleo-excluded_control_chr_Pol2S5']\n",
    "    print(analysis_df['normalized_subset_control_Pol2S5'].mean())\n",
    "\n",
    "    # get the h2ax-positive area vs h2ax-less (positive) area for the same cell\n",
    "    analysis_df[f'normalized_inc_{actual_h2ax_key}'] = analysis_df[f'ave_intensity_incorporated_chr_{h2ax_key}']/analysis_df[f'ave_intensity_nucleo-excluded_control_chr_{h2ax_key}']\n",
    "    print(analysis_df[f'normalized_inc_{actual_h2ax_key}'].mean())\n",
    "\n",
    "    # for subset control\n",
    "    analysis_df[f'normalized_subset_control_{actual_h2ax_key}']=analysis_df[f'ave_intensity_subset_control_chr_{h2ax_key}']/analysis_df[f'ave_intensity_nucleo-excluded_control_chr_{h2ax_key}']\n",
    "    print(analysis_df[f'normalized_subset_control_{actual_h2ax_key}'].mean())\n",
    "\n",
    "    # get the h2ax-positive area vs h2ax-less (positive) area for the same cell\n",
    "    analysis_df['normalized_inc_Mdc1'] = analysis_df['ave_intensity_incorporated_chr_Mdc1']/analysis_df['ave_intensity_nucleo-excluded_control_chr_Mdc1']\n",
    "    print(analysis_df['normalized_inc_Mdc1'].mean())\n",
    "\n",
    "    # for subset control\n",
    "    analysis_df['normalized_subset_control_Mdc1']=analysis_df['ave_intensity_subset_control_chr_Mdc1']/analysis_df['ave_intensity_nucleo-excluded_control_chr_Mdc1']\n",
    "    print(analysis_df['normalized_subset_control_Mdc1'].mean())\n",
    "\n",
    "    # get the h2ax-positive area vs h2ax-less (positive) area for the same cell\n",
    "    analysis_df['normalized_inc_dna'] = analysis_df['ave_intensity_incorporated_chr_dna']/analysis_df['ave_intensity_nucleo-excluded_control_chr_dna']\n",
    "    print(analysis_df['normalized_inc_dna'].mean())\n",
    "\n",
    "    # for subset control\n",
    "    analysis_df['normalized_subset_control_dna']=analysis_df['ave_intensity_subset_control_chr_dna']/analysis_df['ave_intensity_nucleo-excluded_control_chr_dna']\n",
    "    print(analysis_df['normalized_subset_control_dna'].mean())\n",
    "    \n",
    "    out_df_key = exp_name_list[_df_index]\n",
    "    out_df_dict[out_df_key]=analysis_df\n",
    "    "
   ]
  },
  {
   "cell_type": "code",
   "execution_count": 7,
   "metadata": {},
   "outputs": [],
   "source": [
    "#analysis_savename = 'rpe1_h3k27_pol2_analyzed.xlsx'\n",
    "for _exp_key, _exp_df in out_df_dict.items():\n",
    "    exp_analysis_savename = _exp_key+'_'+analysis_savename\n",
    "    _exp_df.to_excel(os.path.join(analysis_save_path,exp_analysis_savename), index=False)"
   ]
  },
  {
   "cell_type": "code",
   "execution_count": 9,
   "metadata": {},
   "outputs": [
    {
     "name": "stdout",
     "output_type": "stream",
     "text": [
      "MW comparision: 9.088813266451411e-05\n"
     ]
    },
    {
     "data": {
      "image/png": "[encoded data removed]",
      "text/plain": [
       "<Figure size 432x288 with 1 Axes>"
      ]
     },
     "metadata": {
      "needs_background": "light"
     },
     "output_type": "display_data"
    }
   ],
   "source": [
    "# for dna\n",
    "\n",
    "# \n",
    "g1 = out_df_dict['Asy']['normalized_inc_dna']\n",
    "g2 = out_df_dict['Asy']['normalized_subset_control_dna']\n",
    "#g3 = out_df_dict['HDACi']['normalized_inc_dna']\n",
    "#g4 = out_df_dict['HDACi']['normalized_subset_control_dna']\n",
    "\n",
    "#sp_low = min(len(g1),len(g2),len(g3))\n",
    "#sp_low = min(len(g1),len(g2), len(g3))\n",
    "\n",
    "#g1 = np.random.choice(g1, sp_low)\n",
    "#g2 = np.random.choice(g2, sp_low)\n",
    "#g3 = np.random.choice(g3, sp_low)\n",
    "#g4 = np.random.choice(g4, sp_low)\n",
    "#args = (g1,g2,g3,g4)\n",
    "args = (g1,g2)\n",
    "\n",
    "\n",
    "boxplot_pol2= plt.boxplot([*args], meanline = True)\n",
    "\n",
    "\n",
    "vals, xs = [], [] \n",
    "\n",
    "for i, subdf in enumerate([*args]):\n",
    "    #names.append(name)\n",
    "    vals.append(subdf.tolist())\n",
    "    xs.append(np.random.normal(i+1, 0.04, subdf.shape[0]))\n",
    "\n",
    "for x, val in zip(xs, vals):\n",
    "    plt.scatter(x, val,  s = 1, alpha=0.3)\n",
    "\n",
    "from scipy.stats import mannwhitneyu\n",
    "from scipy.stats import kruskal\n",
    "#p4 = kruskal(g1,g2,g3,g4)\n",
    "\n",
    "U1, p1 = mannwhitneyu(g1,g2)\n",
    "\n",
    "print(f\"MW comparision: {p1}\")\n",
    "\n",
    "\n",
    "\n",
    "#print(f\"three samples comparision: {p4}\")"
   ]
  },
  {
   "cell_type": "code",
   "execution_count": 10,
   "metadata": {},
   "outputs": [
    {
     "name": "stdout",
     "output_type": "stream",
     "text": [
      "MW comparision: 2.889190426684763e-54\n"
     ]
    },
    {
     "data": {
      "image/png": "[encoded data removed]",
      "text/plain": [
       "<Figure size 432x288 with 1 Axes>"
      ]
     },
     "metadata": {
      "needs_background": "light"
     },
     "output_type": "display_data"
    }
   ],
   "source": [
    "# for mdc1\n",
    "\n",
    "g1 = out_df_dict['Asy']['normalized_inc_Mdc1']\n",
    "g2 = out_df_dict['Asy']['normalized_subset_control_Mdc1']\n",
    "#g3 = out_df_dict['HDACi']['normalized_inc_Mdc1']\n",
    "#g4 = out_df_dict['HDACi']['normalized_subset_control_Mdc1']\n",
    "\n",
    "#sp_low = min(len(g1),len(g2),len(g3))\n",
    "#sp_low = min(len(g1),len(g2), len(g3))\n",
    "\n",
    "#g1 = np.random.choice(g1, sp_low)\n",
    "#g2 = np.random.choice(g2, sp_low)\n",
    "#g3 = np.random.choice(g3, sp_low)\n",
    "#g4 = np.random.choice(g4, sp_low)\n",
    "#args = (g1,g2,g3,g4)\n",
    "args = (g1,g2)\n",
    "\n",
    "boxplot_pol2= plt.boxplot([*args], meanline = True)\n",
    "\n",
    "\n",
    "vals, xs = [], [] \n",
    "\n",
    "for i, subdf in enumerate([*args]):\n",
    "    #names.append(name)\n",
    "    vals.append(subdf.tolist())\n",
    "    xs.append(np.random.normal(i+1, 0.04, subdf.shape[0]))\n",
    "\n",
    "for x, val in zip(xs, vals):\n",
    "    plt.scatter(x, val,  s = 1, alpha=0.3)\n",
    "\n",
    "from scipy.stats import mannwhitneyu\n",
    "from scipy.stats import kruskal\n",
    "#p4 = kruskal(g1,g2,g3,g4)\n",
    "\n",
    "U1, p1 = mannwhitneyu(g1,g2)\n",
    "\n",
    "print(f\"MW comparision: {p1}\")\n",
    "\n",
    "\n",
    "\n",
    "#print(f\"three samples comparision: {p4}\")"
   ]
  },
  {
   "cell_type": "code",
   "execution_count": 11,
   "metadata": {},
   "outputs": [
    {
     "name": "stdout",
     "output_type": "stream",
     "text": [
      "MW comparision: 4.088451014190398e-09\n"
     ]
    },
    {
     "data": {
      "image/png": "[encoded data removed]",
      "text/plain": [
       "<Figure size 432x288 with 1 Axes>"
      ]
     },
     "metadata": {
      "needs_background": "light"
     },
     "output_type": "display_data"
    }
   ],
   "source": [
    "# For Pol2S5\n",
    "\n",
    "g1 = out_df_dict['Asy']['normalized_inc_Pol2S5']\n",
    "g2 = out_df_dict['Asy']['normalized_subset_control_Pol2S5']\n",
    "#g3 = out_df_dict['HDACi']['normalized_inc_Pol2S5']\n",
    "#g4 = out_df_dict['HDACi']['normalized_subset_control_Pol2S5']\n",
    "\n",
    "#sp_low = min(len(g1),len(g2),len(g3))\n",
    "#sp_low = min(len(g1),len(g2), len(g3))\n",
    "\n",
    "#g1 = np.random.choice(g1, sp_low)\n",
    "#g2 = np.random.choice(g2, sp_low)\n",
    "#g3 = np.random.choice(g3, sp_low)\n",
    "#g4 = np.random.choice(g4, sp_low)\n",
    "#args = (g1,g2,g3,g4)\n",
    "args = (g1,g2)\n",
    "boxplot_pol2= plt.boxplot([*args], meanline = True)\n",
    "\n",
    "\n",
    "vals, xs = [], [] \n",
    "\n",
    "for i, subdf in enumerate([*args]):\n",
    "    #names.append(name)\n",
    "    vals.append(subdf.tolist())\n",
    "    xs.append(np.random.normal(i+1, 0.04, subdf.shape[0]))\n",
    "\n",
    "for x, val in zip(xs, vals):\n",
    "    plt.scatter(x, val,  s = 1, alpha=0.3)\n",
    "\n",
    "from scipy.stats import mannwhitneyu\n",
    "from scipy.stats import kruskal\n",
    "#p4 = kruskal(g1,g2,g3,g4)\n",
    "\n",
    "U1, p1 = mannwhitneyu(g1,g2)\n",
    "\n",
    "print(f\"MW comparision: {p1}\")\n",
    "\n",
    "\n",
    "\n",
    "#print(f\"three samples comparision: {p4}\")"
   ]
  },
  {
   "cell_type": "code",
   "execution_count": 13,
   "metadata": {},
   "outputs": [
    {
     "name": "stdout",
     "output_type": "stream",
     "text": [
      "MW comparision: 6.3247080885025725e-12\n"
     ]
    },
    {
     "data": {
      "image/png": "[encoded data removed]",
      "text/plain": [
       "<Figure size 432x288 with 1 Axes>"
      ]
     },
     "metadata": {
      "needs_background": "light"
     },
     "output_type": "display_data"
    }
   ],
   "source": [
    "# For Pol2S5 norm to dna\n",
    "\n",
    "g1 = (out_df_dict['Asy']['normalized_inc_Pol2S5'])/(out_df_dict['Asy']['normalized_inc_dna'])\n",
    "g2 = (out_df_dict['Asy']['normalized_subset_control_Pol2S5'])/(out_df_dict['Asy']['normalized_subset_control_dna'])\n",
    "#g3 = out_df_dict['HDACi']['normalized_inc_Pol2S5']/(out_df_dict['HDACi']['normalized_inc_dna'])\n",
    "#g4 = out_df_dict['HDACi']['normalized_subset_control_Pol2S5']/(out_df_dict['HDACi']['normalized_subset_control_dna'])\n",
    "\n",
    "#sp_low = min(len(g1),len(g2),len(g3))\n",
    "#sp_low = min(len(g1),len(g2), len(g3))\n",
    "\n",
    "#g1 = np.random.choice(g1, sp_low)\n",
    "#g2 = np.random.choice(g2, sp_low)\n",
    "#g3 = np.random.choice(g3, sp_low)\n",
    "#g4 = np.random.choice(g4, sp_low)\n",
    "#args = (g1,g2,g3,g4)\n",
    "args = (g1,g2)\n",
    "\n",
    "boxplot_pol2= plt.boxplot([*args], meanline = True)\n",
    "\n",
    "\n",
    "vals, xs = [], [] \n",
    "\n",
    "for i, subdf in enumerate([*args]):\n",
    "    #names.append(name)\n",
    "    vals.append(subdf.tolist())\n",
    "    xs.append(np.random.normal(i+1, 0.04, subdf.shape[0]))\n",
    "\n",
    "for x, val in zip(xs, vals):\n",
    "    plt.scatter(x, val,  s = 1, alpha=0.3)\n",
    "\n",
    "from scipy.stats import mannwhitneyu\n",
    "from scipy.stats import kruskal\n",
    "#p4 = kruskal(g1,g2,g3,g4)\n",
    "\n",
    "U1, p1 = mannwhitneyu(g1,g2)\n",
    "\n",
    "print(f\"MW comparision: {p1}\")\n",
    "\n",
    "\n",
    "\n",
    "#print(f\"three samples comparision: {p4}\")"
   ]
  },
  {
   "cell_type": "code",
   "execution_count": 14,
   "metadata": {},
   "outputs": [
    {
     "name": "stdout",
     "output_type": "stream",
     "text": [
      "MW comparision: 3.4787804181542706e-15\n"
     ]
    },
    {
     "data": {
      "image/png": "[encoded data removed]",
      "text/plain": [
       "<Figure size 432x288 with 1 Axes>"
      ]
     },
     "metadata": {
      "needs_background": "light"
     },
     "output_type": "display_data"
    }
   ],
   "source": [
    "# For H2ax-key relevant Ab\n",
    "\n",
    "\n",
    "g1 = (out_df_dict['Asy'][f'normalized_inc_{actual_h2ax_key}'])\n",
    "g2 = (out_df_dict['Asy'][f'normalized_subset_control_{actual_h2ax_key}'])\n",
    "#g3 = out_df_dict['HDACi'][f'normalized_inc_{actual_h2ax_key}']\n",
    "#g4 = out_df_dict['HDACi'][f'normalized_subset_control_{actual_h2ax_key}']\n",
    "\n",
    "#sp_low = min(len(g1),len(g2),len(g3))\n",
    "#sp_low = min(len(g1),len(g2), len(g3))\n",
    "\n",
    "#g1 = np.random.choice(g1, sp_low)\n",
    "#g2 = np.random.choice(g2, sp_low)\n",
    "#g3 = np.random.choice(g3, sp_low)\n",
    "#g4 = np.random.choice(g4, sp_low)\n",
    "#args = (g1,g2,g3,g4)\n",
    "args = (g1,g2)\n",
    "\n",
    "boxplot_pol2= plt.boxplot([*args], meanline = True)\n",
    "\n",
    "\n",
    "vals, xs = [], [] \n",
    "\n",
    "for i, subdf in enumerate([*args]):\n",
    "    #names.append(name)\n",
    "    vals.append(subdf.tolist())\n",
    "    xs.append(np.random.normal(i+1, 0.04, subdf.shape[0]))\n",
    "\n",
    "for x, val in zip(xs, vals):\n",
    "    plt.scatter(x, val,  s = 1, alpha=0.3)\n",
    "\n",
    "from scipy.stats import mannwhitneyu\n",
    "from scipy.stats import kruskal\n",
    "#p4 = kruskal(g1,g2,g3,g4)\n",
    "\n",
    "U1, p1 = mannwhitneyu(g1,g2)\n",
    "\n",
    "print(f\"MW comparision: {p1}\")\n",
    "\n",
    "\n",
    "\n",
    "#print(f\"three samples comparision: {p4}\")"
   ]
  },
  {
   "cell_type": "code",
   "execution_count": 15,
   "metadata": {},
   "outputs": [
    {
     "name": "stdout",
     "output_type": "stream",
     "text": [
      "MW comparision: 3.4456850124533605e-15\n"
     ]
    },
    {
     "data": {
      "image/png": "[encoded data removed]",
      "text/plain": [
       "<Figure size 432x288 with 1 Axes>"
      ]
     },
     "metadata": {
      "needs_background": "light"
     },
     "output_type": "display_data"
    }
   ],
   "source": [
    "# For H2ax-key relevant Ab\n",
    "\n",
    "\n",
    "g1 = (out_df_dict['Asy'][f'normalized_inc_{actual_h2ax_key}'])/(out_df_dict['Asy']['normalized_inc_dna'])\n",
    "g2 = (out_df_dict['Asy'][f'normalized_subset_control_{actual_h2ax_key}'])/(out_df_dict['Asy']['normalized_subset_control_dna'])\n",
    "#g3 = out_df_dict['HDACi'][f'normalized_inc_{actual_h2ax_key}']/(out_df_dict['HDACi']['normalized_inc_dna'])\n",
    "#g4 = out_df_dict['HDACi'][f'normalized_subset_control_{actual_h2ax_key}']/(out_df_dict['HDACi']['normalized_subset_control_dna'])\n",
    "\n",
    "#sp_low = min(len(g1),len(g2),len(g3))\n",
    "#sp_low = min(len(g1),len(g2), len(g3))\n",
    "\n",
    "#g1 = np.random.choice(g1, sp_low)\n",
    "#g2 = np.random.choice(g2, sp_low)\n",
    "#g3 = np.random.choice(g3, sp_low)\n",
    "#g4 = np.random.choice(g4, sp_low)\n",
    "#args = (g1,g2,g3,g4)\n",
    "args = (g1,g2)\n",
    "\n",
    "boxplot_pol2= plt.boxplot([*args], meanline = True)\n",
    "\n",
    "\n",
    "vals, xs = [], [] \n",
    "\n",
    "for i, subdf in enumerate([*args]):\n",
    "    #names.append(name)\n",
    "    vals.append(subdf.tolist())\n",
    "    xs.append(np.random.normal(i+1, 0.04, subdf.shape[0]))\n",
    "\n",
    "for x, val in zip(xs, vals):\n",
    "    plt.scatter(x, val,  s = 1, alpha=0.3)\n",
    "\n",
    "from scipy.stats import mannwhitneyu\n",
    "from scipy.stats import kruskal\n",
    "#p4 = kruskal(g1,g2,g3,g4)\n",
    "\n",
    "U1, p1 = mannwhitneyu(g1,g2)\n",
    "\n",
    "print(f\"MW comparision: {p1}\")\n",
    "\n",
    "\n",
    "\n",
    "#print(f\"three samples comparision: {p4}\")"
   ]
  },
  {
   "cell_type": "code",
   "execution_count": 16,
   "metadata": {},
   "outputs": [
    {
     "data": {
      "text/plain": [
       "SpearmanrResult(correlation=0.8091087542482128, pvalue=2.595979942575651e-38)"
      ]
     },
     "execution_count": 16,
     "metadata": {},
     "output_type": "execute_result"
    }
   ],
   "source": [
    "from scipy import stats\n",
    "stats.spearmanr(out_df_dict['Asy']['normalized_inc_Pol2S5'], out_df_dict['Asy'][f'normalized_inc_{actual_h2ax_key}'])"
   ]
  },
  {
   "cell_type": "code",
   "execution_count": 17,
   "metadata": {},
   "outputs": [
    {
     "data": {
      "text/plain": [
       "<matplotlib.collections.PathCollection at 0x281fd459688>"
      ]
     },
     "execution_count": 17,
     "metadata": {},
     "output_type": "execute_result"
    },
    {
     "data": {
      "image/png": "[encoded data removed]",
      "text/plain": [
       "<Figure size 432x288 with 1 Axes>"
      ]
     },
     "metadata": {
      "needs_background": "light"
     },
     "output_type": "display_data"
    }
   ],
   "source": [
    "plt.scatter(x= out_df_dict['Asy']['normalized_inc_Pol2S5'], y =out_df_dict['Asy'][f'normalized_inc_{actual_h2ax_key}'])\n"
   ]
  },
  {
   "cell_type": "code",
   "execution_count": 38,
   "metadata": {},
   "outputs": [
    {
     "data": {
      "text/plain": [
       "<matplotlib.collections.PathCollection at 0x1b8641b7448>"
      ]
     },
     "execution_count": 38,
     "metadata": {},
     "output_type": "execute_result"
    },
    {
     "data": {
      "image/png": "[encoded data removed]",
      "text/plain": [
       "<Figure size 432x288 with 1 Axes>"
      ]
     },
     "metadata": {
      "needs_background": "light"
     },
     "output_type": "display_data"
    }
   ],
   "source": [
    "plt.scatter(x= out_df_dict['HDACi']['normalized_inc_Pol2S5'], y =out_df_dict['HDACi'][f'normalized_inc_{actual_h2ax_key}'])\n"
   ]
  },
  {
   "cell_type": "code",
   "execution_count": null,
   "metadata": {},
   "outputs": [],
   "source": []
  }
 ],
 "metadata": {
  "kernelspec": {
   "display_name": "Python 3",
   "language": "python",
   "name": "python3"
  },
  "language_info": {
   "codemirror_mode": {
    "name": "ipython",
    "version": 3
   },
   "file_extension": ".py",
   "mimetype": "text/x-python",
   "name": "python",
   "nbconvert_exporter": "python",
   "pygments_lexer": "ipython3",
   "version": "3.7.6"
  },
  "toc": {
   "base_numbering": 1,
   "nav_menu": {},
   "number_sections": false,
   "sideBar": true,
   "skip_h1_title": false,
   "title_cell": "Table of Contents",
   "title_sidebar": "Contents",
   "toc_cell": false,
   "toc_position": {},
   "toc_section_display": true,
   "toc_window_display": true
  },
  "varInspector": {
   "cols": {
    "lenName": 16,
    "lenType": 16,
    "lenVar": 40
   },
   "kernels_config": {
    "python": {
     "delete_cmd_postfix": "",
     "delete_cmd_prefix": "del ",
     "library": "var_list.py",
     "varRefreshCmd": "print(var_dic_list())"
    },
    "r": {
     "delete_cmd_postfix": ") ",
     "delete_cmd_prefix": "rm(",
     "library": "var_list.r",
     "varRefreshCmd": "cat(var_dic_list()) "
    }
   },
   "types_to_exclude": [
    "module",
    "function",
    "builtin_function_or_method",
    "instance",
    "_Feature"
   ],
   "window_display": false
  }
 },
 "nbformat": 4,
 "nbformat_minor": 4
}

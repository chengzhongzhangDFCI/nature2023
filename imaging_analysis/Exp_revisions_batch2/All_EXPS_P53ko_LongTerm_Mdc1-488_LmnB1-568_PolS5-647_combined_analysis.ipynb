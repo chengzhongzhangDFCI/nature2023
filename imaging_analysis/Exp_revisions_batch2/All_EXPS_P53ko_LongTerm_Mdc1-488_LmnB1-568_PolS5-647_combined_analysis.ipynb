{
 "cells": [
  {
   "cell_type": "markdown",
   "metadata": {},
   "source": [
    "# 1. Import required modules"
   ]
  },
  {
   "cell_type": "code",
   "execution_count": 1,
   "metadata": {},
   "outputs": [
    {
     "name": "stderr",
     "output_type": "stream",
     "text": [
      "c:\\programdata\\anaconda3\\lib\\site-packages\\skimage\\io\\manage_plugins.py:23: UserWarning: Your installed pillow version is < 7.1.0. Several security issues (CVE-2020-11538, CVE-2020-10379, CVE-2020-10994, CVE-2020-10177) have been fixed in pillow 7.1.0 or higher. We recommend to upgrade this library.\n",
      "  from .collection import imread_collection_wrapper\n"
     ]
    }
   ],
   "source": [
    "import numpy as np\n",
    "import matplotlib.pyplot as plt\n",
    "from skimage import io\n",
    "from skimage import data\n",
    "import skimage\n",
    "from skimage.filters.thresholding import threshold_li,threshold_local,threshold_otsu\n",
    "from skimage.morphology import erosion, dilation, opening, closing, white_tophat, remove_small_objects, ball\n",
    "from skimage.morphology import disk\n",
    "from scipy import ndimage as ndi\n",
    "import sys,os, glob\n",
    "\n",
    "#import skimage.filters.median\n",
    "\n",
    "#import skimage.segmentation as seg\n",
    "#import skimage.filters as filters\n",
    "#import skimage.draw as draw\n",
    "#import skimage.color as color\n",
    "\n",
    "#from skimage.filters.thresholding import _cross_entropy\n",
    "#from skimage.morphology import black_tophat, skeletonize, convex_hull_image\n",
    "\n",
    "\n",
    "#pip install nd2reader_required for nd2 file reading\n",
    "from nd2reader import ND2Reader\n",
    "\n",
    "import pandas as pd"
   ]
  },
  {
   "cell_type": "markdown",
   "metadata": {},
   "source": [
    "# 2. Define common parameters for measurement loading here:"
   ]
  },
  {
   "cell_type": "code",
   "execution_count": 2,
   "metadata": {},
   "outputs": [],
   "source": [
    "## No naming error"
   ]
  },
  {
   "cell_type": "markdown",
   "metadata": {},
   "source": [
    "## 45h exps"
   ]
  },
  {
   "cell_type": "markdown",
   "metadata": {},
   "source": [
    "### Batch 1"
   ]
  },
  {
   "cell_type": "code",
   "execution_count": 3,
   "metadata": {},
   "outputs": [],
   "source": [
    "# load experiment exp1\n",
    "\n",
    "analysis_fd = r'D:\\Analyzed_CellBio\\Stam\\Revision_exps\\220331IF_210217exp_p53ko_fixed\\p53ko_45h\\analysis_subset_controlled'\n",
    "\n",
    "exp1_df = pd.read_excel(analysis_fd + os.sep + 'measurement_for_all_fov_background_subtracted_2_100_crop.xlsx')\n",
    "\n",
    "exp1_df['exp_annotation']='220331IF_210217exp'\n",
    "\n"
   ]
  },
  {
   "cell_type": "code",
   "execution_count": 4,
   "metadata": {},
   "outputs": [],
   "source": [
    "# load experiment exp2\n",
    "\n",
    "analysis_fd = r'D:\\Analyzed_CellBio\\Stam\\Revision_exps\\220331IF_210302exp_p53ko_fixed\\p53ko_45h\\analysis_subset_controlled'\n",
    "\n",
    "exp2_df = pd.read_excel(analysis_fd + os.sep + 'measurement_for_all_fov_background_subtracted_2_100_crop.xlsx')\n",
    "\n",
    "exp2_df['exp_annotation']='220331IF_210302exp'"
   ]
  },
  {
   "cell_type": "markdown",
   "metadata": {},
   "source": [
    "### Batch 2"
   ]
  },
  {
   "cell_type": "code",
   "execution_count": 5,
   "metadata": {},
   "outputs": [],
   "source": [
    "# load experiment exp3\n",
    "\n",
    "analysis_fd = r'D:\\Analyzed_CellBio\\Stam\\Revision_exps_p2\\220614IF_220502exp_p53_noco_fixed\\220502exp_45h\\analysis_subset_controlled'\n",
    "\n",
    "exp3_df = pd.read_excel(analysis_fd + os.sep + 'measurement_for_all_fov_background_subtracted_2_100_crop.xlsx')\n",
    "\n",
    "exp3_df['exp_annotation']='220614IF_220502exp'"
   ]
  },
  {
   "cell_type": "code",
   "execution_count": 6,
   "metadata": {},
   "outputs": [
    {
     "data": {
      "text/plain": [
       "249"
      ]
     },
     "execution_count": 6,
     "metadata": {},
     "output_type": "execute_result"
    }
   ],
   "source": [
    "d2_combined_df = pd.concat([exp1_df,exp2_df,exp3_df])\n",
    "\n",
    "len(d2_combined_df)\n",
    "\n",
    "\n",
    "#measurement_for_all_fov_df = ctrl_combined_df"
   ]
  },
  {
   "cell_type": "markdown",
   "metadata": {},
   "source": [
    "## 4d exps"
   ]
  },
  {
   "cell_type": "markdown",
   "metadata": {},
   "source": [
    "### Batch 1"
   ]
  },
  {
   "cell_type": "code",
   "execution_count": 7,
   "metadata": {},
   "outputs": [],
   "source": [
    "# load experiment exp1\n",
    "\n",
    "analysis_fd = r'D:\\Analyzed_CellBio\\Stam\\Revision_exps\\220331IF_210217exp_p53ko_fixed\\p53ko_4days\\analysis_subset_controlled'\n",
    "\n",
    "exp1_df = pd.read_excel(analysis_fd + os.sep + 'measurement_for_all_fov_background_subtracted_2_100_crop.xlsx')\n",
    "\n",
    "exp1_df['exp_annotation']='220331IF_210217exp'"
   ]
  },
  {
   "cell_type": "code",
   "execution_count": 8,
   "metadata": {},
   "outputs": [],
   "source": [
    "# load experiment exp2\n",
    "\n",
    "analysis_fd = r'D:\\Analyzed_CellBio\\Stam\\Revision_exps\\220331IF_210302exp_p53ko_fixed\\p53ko_4days\\analysis_subset_controlled'\n",
    "\n",
    "exp2_df = pd.read_excel(analysis_fd + os.sep + 'measurement_for_all_fov_background_subtracted_2_100_crop.xlsx')\n",
    "\n",
    "exp2_df['exp_annotation']='220331IF_210302exp'"
   ]
  },
  {
   "cell_type": "markdown",
   "metadata": {},
   "source": [
    "### Batch 2"
   ]
  },
  {
   "cell_type": "code",
   "execution_count": 9,
   "metadata": {},
   "outputs": [],
   "source": [
    "# load experiment exp3\n",
    "\n",
    "analysis_fd = r'D:\\Analyzed_CellBio\\Stam\\Revision_exps_p2\\220614IF_220502exp_p53_noco_fixed\\220502exp_4d\\analysis_subset_controlled'\n",
    "\n",
    "exp3_df = pd.read_excel(analysis_fd + os.sep + 'measurement_for_all_fov_background_subtracted_2_100_crop.xlsx')\n",
    "\n",
    "exp3_df['exp_annotation']='220614IF_220502exp'"
   ]
  },
  {
   "cell_type": "code",
   "execution_count": 10,
   "metadata": {},
   "outputs": [
    {
     "data": {
      "text/plain": [
       "469"
      ]
     },
     "execution_count": 10,
     "metadata": {},
     "output_type": "execute_result"
    }
   ],
   "source": [
    "d4_combined_df = pd.concat([exp1_df,exp2_df,exp3_df])\n",
    "\n",
    "len(d4_combined_df)\n",
    "\n",
    "\n",
    "#measurement_for_all_fov_df = ctrl_combined_df"
   ]
  },
  {
   "cell_type": "markdown",
   "metadata": {},
   "source": [
    "## 8d exps"
   ]
  },
  {
   "cell_type": "markdown",
   "metadata": {},
   "source": [
    "### Batch 1"
   ]
  },
  {
   "cell_type": "code",
   "execution_count": null,
   "metadata": {},
   "outputs": [],
   "source": []
  },
  {
   "cell_type": "code",
   "execution_count": 11,
   "metadata": {},
   "outputs": [],
   "source": [
    "# load experiment exp1\n",
    "\n",
    "analysis_fd = r'D:\\Analyzed_CellBio\\Stam\\Revision_exps\\220331IF_210217exp_p53ko_fixed\\p53ko_8days\\analysis_subset_controlled'\n",
    "\n",
    "exp1_df = pd.read_excel(analysis_fd + os.sep + 'measurement_for_all_fov_background_subtracted_2_100_crop.xlsx')\n",
    "\n",
    "exp1_df['exp_annotation']='220331IF_210217exp'"
   ]
  },
  {
   "cell_type": "code",
   "execution_count": 12,
   "metadata": {},
   "outputs": [],
   "source": [
    "# load experiment exp2\n",
    "\n",
    "analysis_fd = r'D:\\Analyzed_CellBio\\Stam\\Revision_exps\\220331IF_210302exp_p53ko_fixed\\p53ko_8days\\analysis_subset_controlled'\n",
    "\n",
    "exp2_df = pd.read_excel(analysis_fd + os.sep + 'measurement_for_all_fov_background_subtracted_2_100_crop.xlsx')\n",
    "\n",
    "exp2_df['exp_annotation']='220331IF_210302exp'"
   ]
  },
  {
   "cell_type": "markdown",
   "metadata": {},
   "source": [
    "### Batch 2"
   ]
  },
  {
   "cell_type": "code",
   "execution_count": 13,
   "metadata": {},
   "outputs": [],
   "source": [
    "# load experiment exp3\n",
    "\n",
    "analysis_fd = r'D:\\Analyzed_CellBio\\Stam\\Revision_exps_p2\\220614IF_220502exp_p53_noco_fixed\\220502exp_8d\\analysis_subset_controlled'\n",
    "\n",
    "exp3_df = pd.read_excel(analysis_fd + os.sep + 'measurement_for_all_fov_background_subtracted_2_100_crop.xlsx')\n",
    "\n",
    "exp3_df['exp_annotation']='220614IF_220502exp'"
   ]
  },
  {
   "cell_type": "code",
   "execution_count": 14,
   "metadata": {},
   "outputs": [
    {
     "data": {
      "text/plain": [
       "70"
      ]
     },
     "execution_count": 14,
     "metadata": {},
     "output_type": "execute_result"
    }
   ],
   "source": [
    "d8_combined_df = pd.concat([exp1_df,exp2_df,exp3_df])\n",
    "\n",
    "len(d8_combined_df)\n",
    "\n",
    "\n",
    "#measurement_for_all_fov_df = ctrl_combined_df"
   ]
  },
  {
   "cell_type": "markdown",
   "metadata": {},
   "source": [
    "## 16d exps"
   ]
  },
  {
   "cell_type": "markdown",
   "metadata": {},
   "source": [
    "### Batch 1"
   ]
  },
  {
   "cell_type": "code",
   "execution_count": 15,
   "metadata": {},
   "outputs": [],
   "source": [
    "# load experiment exp1\n",
    "\n",
    "analysis_fd = r'D:\\Analyzed_CellBio\\Stam\\Revision_exps\\220331IF_210217exp_p53ko_fixed\\p53ko_16days\\analysis_subset_controlled'\n",
    "\n",
    "exp1_df = pd.read_excel(analysis_fd + os.sep + 'measurement_for_all_fov_background_subtracted_2_100_crop.xlsx')\n",
    "\n",
    "exp1_df['exp_annotation']='220331IF_210217exp'"
   ]
  },
  {
   "cell_type": "code",
   "execution_count": 16,
   "metadata": {},
   "outputs": [],
   "source": [
    "# load experiment exp2\n",
    "\n",
    "analysis_fd = r'D:\\Analyzed_CellBio\\Stam\\Revision_exps\\220331IF_210302exp_p53ko_fixed\\p53ko_16days\\analysis_subset_controlled'\n",
    "\n",
    "exp2_df = pd.read_excel(analysis_fd + os.sep + 'measurement_for_all_fov_background_subtracted_2_100_crop.xlsx')\n",
    "\n",
    "exp2_df['exp_annotation']='220331IF_210302exp'"
   ]
  },
  {
   "cell_type": "markdown",
   "metadata": {},
   "source": [
    "### Batch 2"
   ]
  },
  {
   "cell_type": "code",
   "execution_count": 17,
   "metadata": {},
   "outputs": [],
   "source": [
    "# load experiment exp3\n",
    "\n",
    "analysis_fd = r'D:\\Analyzed_CellBio\\Stam\\Revision_exps_p2\\220614IF_220502exp_p53_noco_fixed\\220502exp_16d\\analysis_subset_controlled'\n",
    "\n",
    "exp3_df = pd.read_excel(analysis_fd + os.sep + 'measurement_for_all_fov_background_subtracted_2_100_crop.xlsx')\n",
    "\n",
    "exp3_df['exp_annotation']='220614IF_220502exp'"
   ]
  },
  {
   "cell_type": "code",
   "execution_count": 18,
   "metadata": {},
   "outputs": [
    {
     "data": {
      "text/plain": [
       "84"
      ]
     },
     "execution_count": 18,
     "metadata": {},
     "output_type": "execute_result"
    }
   ],
   "source": [
    "d16_combined_df = pd.concat([exp1_df,exp2_df,exp3_df])\n",
    "\n",
    "len(d16_combined_df)\n",
    "\n",
    "\n",
    "#measurement_for_all_fov_df = ctrl_combined_df"
   ]
  },
  {
   "cell_type": "code",
   "execution_count": 19,
   "metadata": {},
   "outputs": [
    {
     "data": {
      "text/plain": [
       "Index(['Unnamed: 0', 'exp_name', 'position_id', 'cell_id', 'cell_xyz_coord',\n",
       "       'area_incorporated_chr', 'area_h2ax_within_incorporated_chr',\n",
       "       'area_less_h2ax_within_incorporated_chr', 'area_control_chr',\n",
       "       'area_nucleo-excluded_control_chr', 'area_nucleolus',\n",
       "       'area_subset_control_ctrl', 'ave_intensity_incorporated_chr_dna',\n",
       "       'ave_intensity_control_chr_dna',\n",
       "       'ave_intensity_nucleo-excluded_control_chr_dna',\n",
       "       'ave_intensity_nucleolus_dna', 'ave_intensity_subset_control_chr_dna',\n",
       "       'ave_intensity_h2ax_pos_incorporated_chr_dna',\n",
       "       'ave_intensity_h2ax_less_incorporated_chr_dna',\n",
       "       'ave_intensity_incorporated_chr_Mdc1', 'ave_intensity_control_chr_Mdc1',\n",
       "       'ave_intensity_nucleo-excluded_control_chr_Mdc1',\n",
       "       'ave_intensity_nucleolus_Mdc1', 'ave_intensity_subset_control_chr_Mdc1',\n",
       "       'ave_intensity_h2ax_pos_incorporated_chr_Mdc1',\n",
       "       'ave_intensity_h2ax_less_incorporated_chr_Mdc1',\n",
       "       'ave_intensity_incorporated_chr_LmnB1',\n",
       "       'ave_intensity_control_chr_LmnB1',\n",
       "       'ave_intensity_nucleo-excluded_control_chr_LmnB1',\n",
       "       'ave_intensity_nucleolus_LmnB1',\n",
       "       'ave_intensity_subset_control_chr_LmnB1',\n",
       "       'ave_intensity_h2ax_pos_incorporated_chr_LmnB1',\n",
       "       'ave_intensity_h2ax_less_incorporated_chr_LmnB1',\n",
       "       'ave_intensity_incorporated_chr_Pol2S5',\n",
       "       'ave_intensity_control_chr_Pol2S5',\n",
       "       'ave_intensity_nucleo-excluded_control_chr_Pol2S5',\n",
       "       'ave_intensity_nucleolus_Pol2S5',\n",
       "       'ave_intensity_subset_control_chr_Pol2S5',\n",
       "       'ave_intensity_h2ax_pos_incorporated_chr_Pol2S5',\n",
       "       'ave_intensity_h2ax_less_incorporated_chr_Pol2S5', 'exp_annotation',\n",
       "       'ave_intensity_incorporated_chr_LaminB1',\n",
       "       'ave_intensity_control_chr_LaminB1',\n",
       "       'ave_intensity_nucleo-excluded_control_chr_LaminB1',\n",
       "       'ave_intensity_nucleolus_LaminB1',\n",
       "       'ave_intensity_subset_control_chr_LaminB1',\n",
       "       'ave_intensity_h2ax_pos_incorporated_chr_LaminB1',\n",
       "       'ave_intensity_h2ax_less_incorporated_chr_LaminB1'],\n",
       "      dtype='object')"
      ]
     },
     "execution_count": 19,
     "metadata": {},
     "output_type": "execute_result"
    }
   ],
   "source": [
    "d16_combined_df.columns\n",
    "\n",
    "#['exp_annotation']"
   ]
  },
  {
   "cell_type": "markdown",
   "metadata": {},
   "source": [
    "# 3. Post-hoc analysis examples"
   ]
  },
  {
   "cell_type": "code",
   "execution_count": 20,
   "metadata": {},
   "outputs": [],
   "source": [
    "#len(measurement_for_all_fov_df)\n",
    "\n",
    "\n",
    "analysis_save_path = r'D:\\Analyzed_CellBio\\Stam\\Revision_exps_p2\\P53ko_LongTerm_analysis'\n",
    "\n",
    "analysis_savename = 'mdc-488_Lmnb1_pol2_analyzed.xlsx'\n",
    "\n",
    "if not os.path.exists(analysis_save_path):\n",
    "    os.mkdir(analysis_save_path)"
   ]
  },
  {
   "cell_type": "code",
   "execution_count": 21,
   "metadata": {},
   "outputs": [],
   "source": [
    "# The labeled histone mark in the excel\n",
    "\n",
    "h2ax_key = 'LmnB1'\n",
    "\n",
    "\n",
    "# the actual histone mark analyzed  (to correct the mis-labeling in the raw measurements)\n",
    "actual_h2ax_key = 'LmnB1'"
   ]
  },
  {
   "cell_type": "code",
   "execution_count": null,
   "metadata": {},
   "outputs": [],
   "source": []
  },
  {
   "cell_type": "code",
   "execution_count": 22,
   "metadata": {},
   "outputs": [
    {
     "name": "stdout",
     "output_type": "stream",
     "text": [
      "analyzing experiment group 0.\n",
      "-- There are 249 data-points after filtering.\n",
      "0.7689979189552005\n",
      "1.029038953567553\n",
      "1.0277740573598149\n",
      "1.000607210884962\n",
      "3.8738572589095983\n",
      "1.0199656459454267\n",
      "1.0979608063158084\n",
      "0.9994211748230022\n",
      "-- There are 249 data-points after filtering the abnormal DNA cell.\n",
      "analyzing experiment group 1.\n",
      "-- There are 469 data-points after filtering.\n",
      "0.7905760718798768\n",
      "1.0185991996572576\n",
      "0.9962291978216268\n",
      "0.9887975006534332\n",
      "3.4260246499484777\n",
      "1.0191589211817327\n",
      "1.0950141623660408\n",
      "1.0200216214371738\n",
      "-- There are 468 data-points after filtering the abnormal DNA cell.\n",
      "analyzing experiment group 2.\n",
      "-- There are 70 data-points after filtering.\n",
      "0.8626888527138904\n",
      "1.02337045149306\n",
      "1.0290871299972117\n",
      "0.9933894867536107\n",
      "3.156417091979473\n",
      "0.9829116450772701\n",
      "1.0305952701820102\n",
      "1.0070042316049432\n",
      "-- There are 70 data-points after filtering the abnormal DNA cell.\n",
      "analyzing experiment group 3.\n",
      "-- There are 84 data-points after filtering.\n",
      "0.8689929793738713\n",
      "0.9622123763537902\n",
      "1.0832134874837749\n",
      "1.010672127667681\n",
      "3.203620329556858\n",
      "1.0113340622454539\n",
      "1.0782988740687647\n",
      "0.9985638501160332\n",
      "-- There are 84 data-points after filtering the abnormal DNA cell.\n"
     ]
    }
   ],
   "source": [
    "# Process each datafram\n",
    "\n",
    "out_df_dict = {}\n",
    "exp_name_list = [\"45h\",\"4days\",\"8days\",\"16days\"]\n",
    "\n",
    "for _df_index, _df in enumerate([d2_combined_df,d4_combined_df,d8_combined_df,d16_combined_df]):\n",
    "    print(f'analyzing experiment group {_df_index}.')\n",
    "    \n",
    "    # remove the bad cell that has no Pol2 signal\n",
    "    analysis_df = _df[_df['ave_intensity_control_chr_Pol2S5']>0].copy()\n",
    "    print (f'-- There are {len(analysis_df)} data-points after filtering.')\n",
    "\n",
    "    # for total incorporated chr\n",
    "    analysis_df['normalized_inc_Pol2S5']=analysis_df['ave_intensity_incorporated_chr_Pol2S5']/analysis_df['ave_intensity_nucleo-excluded_control_chr_Pol2S5']\n",
    "    print(analysis_df['normalized_inc_Pol2S5'].mean())\n",
    "\n",
    "    # for subset control\n",
    "    analysis_df['normalized_subset_control_Pol2S5']=analysis_df['ave_intensity_subset_control_chr_Pol2S5']/analysis_df['ave_intensity_nucleo-excluded_control_chr_Pol2S5']\n",
    "    print(analysis_df['normalized_subset_control_Pol2S5'].mean())\n",
    "\n",
    "    # get the h2ax-positive area vs h2ax-less (positive) area for the same cell\n",
    "    analysis_df[f'normalized_inc_{actual_h2ax_key}'] = analysis_df[f'ave_intensity_incorporated_chr_{h2ax_key}']/analysis_df[f'ave_intensity_nucleo-excluded_control_chr_{h2ax_key}']\n",
    "    print(analysis_df[f'normalized_inc_{actual_h2ax_key}'].mean())\n",
    "\n",
    "    # for subset control\n",
    "    analysis_df[f'normalized_subset_control_{actual_h2ax_key}']=analysis_df[f'ave_intensity_subset_control_chr_{h2ax_key}']/analysis_df[f'ave_intensity_nucleo-excluded_control_chr_{h2ax_key}']\n",
    "    print(analysis_df[f'normalized_subset_control_{actual_h2ax_key}'].mean())\n",
    "\n",
    "    # get the h2ax-positive area vs h2ax-less (positive) area for the same cell\n",
    "    analysis_df['normalized_inc_Mdc1'] = analysis_df['ave_intensity_incorporated_chr_Mdc1']/analysis_df['ave_intensity_nucleo-excluded_control_chr_Mdc1']\n",
    "    print(analysis_df['normalized_inc_Mdc1'].mean())\n",
    "\n",
    "    # for subset control\n",
    "    analysis_df['normalized_subset_control_Mdc1']=analysis_df['ave_intensity_subset_control_chr_Mdc1']/analysis_df['ave_intensity_nucleo-excluded_control_chr_Mdc1']\n",
    "    print(analysis_df['normalized_subset_control_Mdc1'].mean())\n",
    "\n",
    "    # get the h2ax-positive area vs h2ax-less (positive) area for the same cell\n",
    "    analysis_df['normalized_inc_dna'] = analysis_df['ave_intensity_incorporated_chr_dna']/analysis_df['ave_intensity_nucleo-excluded_control_chr_dna']\n",
    "    print(analysis_df['normalized_inc_dna'].mean())\n",
    "\n",
    "    # for subset control\n",
    "    analysis_df['normalized_subset_control_dna']=analysis_df['ave_intensity_subset_control_chr_dna']/analysis_df['ave_intensity_nucleo-excluded_control_chr_dna']\n",
    "    print(analysis_df['normalized_subset_control_dna'].mean())\n",
    "    \n",
    "    analysis_df = analysis_df[analysis_df['normalized_inc_dna']>0.2]\n",
    "    print (f'-- There are {len(analysis_df)} data-points after filtering the abnormal DNA cell.')\n",
    "    \n",
    "    # reorder some column\n",
    "    col = analysis_df.pop(\"exp_annotation\")\n",
    "    analysis_df.insert(0, \"exp_annotation\", col)\n",
    "    \n",
    "    out_df_key = exp_name_list[_df_index]\n",
    "    out_df_dict[out_df_key]=analysis_df\n",
    "    "
   ]
  },
  {
   "cell_type": "code",
   "execution_count": 23,
   "metadata": {},
   "outputs": [],
   "source": [
    "#analysis_df"
   ]
  },
  {
   "cell_type": "code",
   "execution_count": 24,
   "metadata": {},
   "outputs": [],
   "source": [
    "#analysis_savename = 'rpe1_h3k27_pol2_analyzed.xlsx'\n",
    "for _exp_key, _exp_df in out_df_dict.items():\n",
    "    exp_analysis_savename = _exp_key+'_'+analysis_savename\n",
    "    _exp_df.to_excel(os.path.join(analysis_save_path,exp_analysis_savename), index=False)"
   ]
  },
  {
   "cell_type": "markdown",
   "metadata": {},
   "source": [
    "## Size filtering"
   ]
  },
  {
   "cell_type": "code",
   "execution_count": 25,
   "metadata": {},
   "outputs": [
    {
     "name": "stdout",
     "output_type": "stream",
     "text": [
      "-- There are 144 data-points after filtering.\n",
      "-- There are 209 data-points after filtering.\n",
      "-- There are 37 data-points after filtering.\n",
      "-- There are 51 data-points after filtering.\n"
     ]
    }
   ],
   "source": [
    "size_th =300\n",
    "analysis_filtered_savename = analysis_savename.split('.xlsx')[0]+ f'_size{size_th}' + '.xlsx'\n",
    "\n",
    "\n",
    "for _exp_key, _exp_df in out_df_dict.items():\n",
    "    \n",
    "    _exp_df= _exp_df[_exp_df['area_incorporated_chr']>size_th].copy()\n",
    "    print (f'-- There are {len(_exp_df)} data-points after filtering.')\n",
    "    exp_analysis_savename = _exp_key+'_'+analysis_filtered_savename\n",
    "    _exp_df.to_excel(os.path.join(analysis_save_path,exp_analysis_savename), index=False)"
   ]
  },
  {
   "cell_type": "markdown",
   "metadata": {},
   "source": [
    "## Cooridnate filtering"
   ]
  },
  {
   "cell_type": "code",
   "execution_count": 26,
   "metadata": {},
   "outputs": [
    {
     "name": "stdout",
     "output_type": "stream",
     "text": [
      "-- There are 144 data-points after size filtering.\n",
      "-- There are 114 data-points after position filtering.\n",
      "-- There are 209 data-points after size filtering.\n",
      "-- There are 151 data-points after position filtering.\n",
      "-- There are 37 data-points after size filtering.\n",
      "-- There are 35 data-points after position filtering.\n",
      "-- There are 51 data-points after size filtering.\n",
      "-- There are 48 data-points after position filtering.\n"
     ]
    }
   ],
   "source": [
    "def filter_cell_by_coord (xyz_coord_str, bound1=2048, bound2=0, dist_tp_bound = 600):\n",
    "    \n",
    "    xy_coord_str = xyz_coord_str.split('],')[0].split('[[')[-1]\n",
    "    # note here xy is symetric; otherwise need to check which is x and which is y\n",
    "    x=int(xy_coord_str.split(',')[0])\n",
    "    y=int(xy_coord_str.split(',')[1])\n",
    "    \n",
    "    if abs(x-bound1)>=dist_tp_bound and abs(y-bound1)>=dist_tp_bound:\n",
    "        if abs(x-bound2)>=dist_tp_bound and abs(y-bound2)>=dist_tp_bound:\n",
    "            result= 1\n",
    "        else:\n",
    "            result= 0\n",
    "    else:\n",
    "        result= 0\n",
    "\n",
    "    return result\n",
    "    \n",
    "analysis_filtered_savename = analysis_savename.split('.xlsx')[0]+ f'_size{size_th}_pos_filtered' + '.xlsx'\n",
    "\n",
    "\n",
    "for _exp_key, _exp_df in out_df_dict.items():    \n",
    "    \n",
    "    # size filtering\n",
    "    _exp_df= _exp_df[_exp_df['area_incorporated_chr']>size_th].copy()\n",
    "    print (f'-- There are {len(_exp_df)} data-points after size filtering.')\n",
    "    # postion filtering\n",
    "    _exp_df['pos_kept']=_exp_df['cell_xyz_coord'].map(lambda x: filter_cell_by_coord(x))\n",
    "    _exp_df=_exp_df[_exp_df['pos_kept']==1].copy()\n",
    "    print (f'-- There are {len(_exp_df)} data-points after position filtering.')\n",
    "    exp_analysis_savename = _exp_key+'_'+analysis_filtered_savename\n",
    "    _exp_df.to_excel(os.path.join(analysis_save_path,exp_analysis_savename), index=False)\n"
   ]
  },
  {
   "cell_type": "code",
   "execution_count": 78,
   "metadata": {},
   "outputs": [],
   "source": [
    "#_exp_df"
   ]
  },
  {
   "cell_type": "code",
   "execution_count": 82,
   "metadata": {},
   "outputs": [
    {
     "name": "stderr",
     "output_type": "stream",
     "text": [
      "c:\\programdata\\anaconda3\\lib\\site-packages\\matplotlib\\cbook\\__init__.py:1449: VisibleDeprecationWarning: Creating an ndarray from ragged nested sequences (which is a list-or-tuple of lists-or-tuples-or ndarrays with different lengths or shapes) is deprecated. If you meant to do this, you must specify 'dtype=object' when creating the ndarray.\n",
      "  X = np.atleast_1d(X.T if isinstance(X, np.ndarray) else np.asarray(X))\n"
     ]
    },
    {
     "name": "stdout",
     "output_type": "stream",
     "text": [
      "MW comparision: KruskalResult(statistic=6.188542336763476, pvalue=0.10278899056859284)\n"
     ]
    },
    {
     "data": {
      "image/png": "[encoded data removed]",
      "text/plain": [
       "<Figure size 432x288 with 1 Axes>"
      ]
     },
     "metadata": {
      "needs_background": "light"
     },
     "output_type": "display_data"
    }
   ],
   "source": [
    "# for dna\n",
    "\n",
    "# \n",
    "args = []\n",
    "for _exp_key, _exp_df in out_df_dict.items():\n",
    "    g_inc = _exp_df['normalized_inc_dna']\n",
    "    g_ctrl = _exp_df['normalized_subset_control_dna']\n",
    "    args.append(g_inc)\n",
    "    args.append(g_ctrl)\n",
    "    \n",
    "#g1 = out_df_dict['Control']['normalized_inc_dna']\n",
    "#g2 = out_df_dict['Control']['normalized_subset_control_dna']\n",
    "#g3 = out_df_dict['HDACi']['normalized_inc_dna']\n",
    "#g4 = out_df_dict['HDACi']['normalized_subset_control_dna']\n",
    "\n",
    "#sp_low = min(len(g1),len(g2),len(g3))\n",
    "#sp_low = min(len(g1),len(g2), len(g3))\n",
    "\n",
    "#g1 = np.random.choice(g1, sp_low)\n",
    "#g2 = np.random.choice(g2, sp_low)\n",
    "#g3 = np.random.choice(g3, sp_low)\n",
    "#g4 = np.random.choice(g4, sp_low)\n",
    "#args = (g1,g2,g3,g4)\n",
    "boxplot_pol2= plt.boxplot([*args], meanline = True)\n",
    "\n",
    "\n",
    "vals, xs = [], [] \n",
    "\n",
    "for i, subdf in enumerate([*args]):\n",
    "    #names.append(name)\n",
    "    vals.append(subdf.tolist())\n",
    "    xs.append(np.random.normal(i+1, 0.04, subdf.shape[0]))\n",
    "\n",
    "for x, val in zip(xs, vals):\n",
    "    plt.scatter(x, val,  s = 1, alpha=0.3)\n",
    "\n",
    "from scipy.stats import mannwhitneyu\n",
    "from scipy.stats import kruskal\n",
    "\n",
    "p4 = kruskal(args[0],args[2],args[4],args[6])\n",
    "\n",
    "#U1, p1 = mannwhitneyu(g1,g3)\n",
    "\n",
    "print(f\"MW comparision: {p4}\")\n",
    "\n",
    "\n",
    "\n",
    "#print(f\"three samples comparision: {p4}\")"
   ]
  },
  {
   "cell_type": "code",
   "execution_count": 83,
   "metadata": {},
   "outputs": [
    {
     "name": "stderr",
     "output_type": "stream",
     "text": [
      "c:\\programdata\\anaconda3\\lib\\site-packages\\matplotlib\\cbook\\__init__.py:1449: VisibleDeprecationWarning: Creating an ndarray from ragged nested sequences (which is a list-or-tuple of lists-or-tuples-or ndarrays with different lengths or shapes) is deprecated. If you meant to do this, you must specify 'dtype=object' when creating the ndarray.\n",
      "  X = np.atleast_1d(X.T if isinstance(X, np.ndarray) else np.asarray(X))\n"
     ]
    },
    {
     "name": "stdout",
     "output_type": "stream",
     "text": [
      "MW comparision: KruskalResult(statistic=9.875487795685785, pvalue=0.019654733451859144)\n"
     ]
    },
    {
     "data": {
      "image/png": "[encoded data removed]",
      "text/plain": [
       "<Figure size 432x288 with 1 Axes>"
      ]
     },
     "metadata": {
      "needs_background": "light"
     },
     "output_type": "display_data"
    }
   ],
   "source": [
    "# for mdc1\n",
    "\n",
    "args = []\n",
    "for _exp_key, _exp_df in out_df_dict.items():\n",
    "    g_inc = _exp_df['normalized_inc_Mdc1']\n",
    "    g_ctrl = _exp_df['normalized_subset_control_Mdc1']\n",
    "    args.append(g_inc)\n",
    "    args.append(g_ctrl)\n",
    "    \n",
    "#g1 = out_df_dict['Control']['normalized_inc_dna']\n",
    "#g2 = out_df_dict['Control']['normalized_subset_control_dna']\n",
    "#g3 = out_df_dict['HDACi']['normalized_inc_dna']\n",
    "#g4 = out_df_dict['HDACi']['normalized_subset_control_dna']\n",
    "\n",
    "#sp_low = min(len(g1),len(g2),len(g3))\n",
    "#sp_low = min(len(g1),len(g2), len(g3))\n",
    "\n",
    "#g1 = np.random.choice(g1, sp_low)\n",
    "#g2 = np.random.choice(g2, sp_low)\n",
    "#g3 = np.random.choice(g3, sp_low)\n",
    "#g4 = np.random.choice(g4, sp_low)\n",
    "#args = (g1,g2,g3,g4)\n",
    "boxplot_pol2= plt.boxplot([*args], meanline = True)\n",
    "\n",
    "\n",
    "vals, xs = [], [] \n",
    "\n",
    "for i, subdf in enumerate([*args]):\n",
    "    #names.append(name)\n",
    "    vals.append(subdf.tolist())\n",
    "    xs.append(np.random.normal(i+1, 0.04, subdf.shape[0]))\n",
    "\n",
    "for x, val in zip(xs, vals):\n",
    "    plt.scatter(x, val,  s = 1, alpha=0.3)\n",
    "\n",
    "from scipy.stats import mannwhitneyu\n",
    "from scipy.stats import kruskal\n",
    "\n",
    "p4 = kruskal(args[0],args[2],args[4],args[6])\n",
    "\n",
    "#U1, p1 = mannwhitneyu(g1,g3)\n",
    "\n",
    "print(f\"MW comparision: {p4}\")\n",
    "\n",
    "\n",
    "\n",
    "#print(f\"three samples comparision: {p4}\")"
   ]
  },
  {
   "cell_type": "code",
   "execution_count": 84,
   "metadata": {},
   "outputs": [
    {
     "name": "stderr",
     "output_type": "stream",
     "text": [
      "c:\\programdata\\anaconda3\\lib\\site-packages\\matplotlib\\cbook\\__init__.py:1449: VisibleDeprecationWarning: Creating an ndarray from ragged nested sequences (which is a list-or-tuple of lists-or-tuples-or ndarrays with different lengths or shapes) is deprecated. If you meant to do this, you must specify 'dtype=object' when creating the ndarray.\n",
      "  X = np.atleast_1d(X.T if isinstance(X, np.ndarray) else np.asarray(X))\n"
     ]
    },
    {
     "name": "stdout",
     "output_type": "stream",
     "text": [
      "MW comparision: KruskalResult(statistic=5.848919876570108, pvalue=0.1191964742966257)\n"
     ]
    },
    {
     "data": {
      "image/png": "[encoded data removed]",
      "text/plain": [
       "<Figure size 432x288 with 1 Axes>"
      ]
     },
     "metadata": {
      "needs_background": "light"
     },
     "output_type": "display_data"
    }
   ],
   "source": [
    "# For Pol2S5\n",
    "\n",
    "args = []\n",
    "for _exp_key, _exp_df in out_df_dict.items():\n",
    "    g_inc = _exp_df['normalized_inc_Pol2S5']\n",
    "    g_ctrl = _exp_df['normalized_subset_control_Pol2S5']\n",
    "    args.append(g_inc)\n",
    "    args.append(g_ctrl)\n",
    "    \n",
    "#g1 = out_df_dict['Control']['normalized_inc_dna']\n",
    "#g2 = out_df_dict['Control']['normalized_subset_control_dna']\n",
    "#g3 = out_df_dict['HDACi']['normalized_inc_dna']\n",
    "#g4 = out_df_dict['HDACi']['normalized_subset_control_dna']\n",
    "\n",
    "#sp_low = min(len(g1),len(g2),len(g3))\n",
    "#sp_low = min(len(g1),len(g2), len(g3))\n",
    "\n",
    "#g1 = np.random.choice(g1, sp_low)\n",
    "#g2 = np.random.choice(g2, sp_low)\n",
    "#g3 = np.random.choice(g3, sp_low)\n",
    "#g4 = np.random.choice(g4, sp_low)\n",
    "#args = (g1,g2,g3,g4)\n",
    "boxplot_pol2= plt.boxplot([*args], meanline = True)\n",
    "\n",
    "\n",
    "vals, xs = [], [] \n",
    "\n",
    "for i, subdf in enumerate([*args]):\n",
    "    #names.append(name)\n",
    "    vals.append(subdf.tolist())\n",
    "    xs.append(np.random.normal(i+1, 0.04, subdf.shape[0]))\n",
    "\n",
    "for x, val in zip(xs, vals):\n",
    "    plt.scatter(x, val,  s = 1, alpha=0.3)\n",
    "\n",
    "from scipy.stats import mannwhitneyu\n",
    "from scipy.stats import kruskal\n",
    "\n",
    "p4 = kruskal(args[0],args[2],args[4],args[6])\n",
    "\n",
    "#U1, p1 = mannwhitneyu(g1,g3)\n",
    "\n",
    "print(f\"MW comparision: {p4}\")"
   ]
  },
  {
   "cell_type": "code",
   "execution_count": 85,
   "metadata": {},
   "outputs": [
    {
     "name": "stdout",
     "output_type": "stream",
     "text": [
      "MW comparision: KruskalResult(statistic=10.998815482955706, pvalue=0.011732282434861378)\n"
     ]
    },
    {
     "name": "stderr",
     "output_type": "stream",
     "text": [
      "c:\\programdata\\anaconda3\\lib\\site-packages\\matplotlib\\cbook\\__init__.py:1449: VisibleDeprecationWarning: Creating an ndarray from ragged nested sequences (which is a list-or-tuple of lists-or-tuples-or ndarrays with different lengths or shapes) is deprecated. If you meant to do this, you must specify 'dtype=object' when creating the ndarray.\n",
      "  X = np.atleast_1d(X.T if isinstance(X, np.ndarray) else np.asarray(X))\n"
     ]
    },
    {
     "data": {
      "image/png": "[encoded data removed]",
      "text/plain": [
       "<Figure size 432x288 with 1 Axes>"
      ]
     },
     "metadata": {
      "needs_background": "light"
     },
     "output_type": "display_data"
    }
   ],
   "source": [
    "# For Pol2S5 norm to dna\n",
    "\n",
    "args = []\n",
    "for _exp_key, _exp_df in out_df_dict.items():\n",
    "    g_inc = _exp_df['normalized_inc_Pol2S5']/_exp_df['normalized_inc_dna']\n",
    "    g_ctrl = _exp_df['normalized_subset_control_Pol2S5']/_exp_df['normalized_subset_control_dna']\n",
    "    args.append(g_inc)\n",
    "    args.append(g_ctrl)\n",
    "    \n",
    "#g1 = out_df_dict['Control']['normalized_inc_dna']\n",
    "#g2 = out_df_dict['Control']['normalized_subset_control_dna']\n",
    "#g3 = out_df_dict['HDACi']['normalized_inc_dna']\n",
    "#g4 = out_df_dict['HDACi']['normalized_subset_control_dna']\n",
    "\n",
    "#sp_low = min(len(g1),len(g2),len(g3))\n",
    "#sp_low = min(len(g1),len(g2), len(g3))\n",
    "\n",
    "#g1 = np.random.choice(g1, sp_low)\n",
    "#g2 = np.random.choice(g2, sp_low)\n",
    "#g3 = np.random.choice(g3, sp_low)\n",
    "#g4 = np.random.choice(g4, sp_low)\n",
    "#args = (g1,g2,g3,g4)\n",
    "boxplot_pol2= plt.boxplot([*args], meanline = True)\n",
    "\n",
    "\n",
    "vals, xs = [], [] \n",
    "\n",
    "for i, subdf in enumerate([*args]):\n",
    "    #names.append(name)\n",
    "    vals.append(subdf.tolist())\n",
    "    xs.append(np.random.normal(i+1, 0.04, subdf.shape[0]))\n",
    "\n",
    "for x, val in zip(xs, vals):\n",
    "    plt.scatter(x, val,  s = 1, alpha=0.3)\n",
    "\n",
    "from scipy.stats import mannwhitneyu\n",
    "from scipy.stats import kruskal\n",
    "\n",
    "p4 = kruskal(args[0],args[2],args[4],args[6])\n",
    "\n",
    "#U1, p1 = mannwhitneyu(g1,g3)\n",
    "\n",
    "print(f\"MW comparision: {p4}\")"
   ]
  },
  {
   "cell_type": "code",
   "execution_count": 86,
   "metadata": {},
   "outputs": [
    {
     "name": "stderr",
     "output_type": "stream",
     "text": [
      "c:\\programdata\\anaconda3\\lib\\site-packages\\matplotlib\\cbook\\__init__.py:1449: VisibleDeprecationWarning: Creating an ndarray from ragged nested sequences (which is a list-or-tuple of lists-or-tuples-or ndarrays with different lengths or shapes) is deprecated. If you meant to do this, you must specify 'dtype=object' when creating the ndarray.\n",
      "  X = np.atleast_1d(X.T if isinstance(X, np.ndarray) else np.asarray(X))\n"
     ]
    },
    {
     "name": "stdout",
     "output_type": "stream",
     "text": [
      "MW comparision: KruskalResult(statistic=nan, pvalue=nan)\n"
     ]
    },
    {
     "data": {
      "image/png": "[encoded data removed]",
      "text/plain": [
       "<Figure size 432x288 with 1 Axes>"
      ]
     },
     "metadata": {
      "needs_background": "light"
     },
     "output_type": "display_data"
    }
   ],
   "source": [
    "# For H2ax-key relevant Ab\n",
    "\n",
    "\n",
    "args = []\n",
    "for _exp_key, _exp_df in out_df_dict.items():\n",
    "    g_inc = _exp_df[f'normalized_inc_{actual_h2ax_key}']\n",
    "    g_ctrl = _exp_df[f'normalized_subset_control_{actual_h2ax_key}']\n",
    "    args.append(g_inc)\n",
    "    args.append(g_ctrl)\n",
    "    \n",
    "#g1 = out_df_dict['Control']['normalized_inc_dna']\n",
    "#g2 = out_df_dict['Control']['normalized_subset_control_dna']\n",
    "#g3 = out_df_dict['HDACi']['normalized_inc_dna']\n",
    "#g4 = out_df_dict['HDACi']['normalized_subset_control_dna']\n",
    "\n",
    "#sp_low = min(len(g1),len(g2),len(g3))\n",
    "#sp_low = min(len(g1),len(g2), len(g3))\n",
    "\n",
    "#g1 = np.random.choice(g1, sp_low)\n",
    "#g2 = np.random.choice(g2, sp_low)\n",
    "#g3 = np.random.choice(g3, sp_low)\n",
    "#g4 = np.random.choice(g4, sp_low)\n",
    "#args = (g1,g2,g3,g4)\n",
    "boxplot_pol2= plt.boxplot([*args], meanline = True)\n",
    "\n",
    "\n",
    "vals, xs = [], [] \n",
    "\n",
    "for i, subdf in enumerate([*args]):\n",
    "    #names.append(name)\n",
    "    vals.append(subdf.tolist())\n",
    "    xs.append(np.random.normal(i+1, 0.04, subdf.shape[0]))\n",
    "\n",
    "for x, val in zip(xs, vals):\n",
    "    plt.scatter(x, val,  s = 1, alpha=0.3)\n",
    "\n",
    "from scipy.stats import mannwhitneyu\n",
    "from scipy.stats import kruskal\n",
    "\n",
    "p4 = kruskal(args[0],args[2],args[4],args[6])\n",
    "\n",
    "#U1, p1 = mannwhitneyu(g1,g3)\n",
    "\n",
    "print(f\"MW comparision: {p4}\")"
   ]
  },
  {
   "cell_type": "code",
   "execution_count": 34,
   "metadata": {},
   "outputs": [
    {
     "name": "stderr",
     "output_type": "stream",
     "text": [
      "c:\\programdata\\anaconda3\\lib\\site-packages\\matplotlib\\cbook\\__init__.py:1449: VisibleDeprecationWarning: Creating an ndarray from ragged nested sequences (which is a list-or-tuple of lists-or-tuples-or ndarrays with different lengths or shapes) is deprecated. If you meant to do this, you must specify 'dtype=object' when creating the ndarray.\n",
      "  X = np.atleast_1d(X.T if isinstance(X, np.ndarray) else np.asarray(X))\n"
     ]
    },
    {
     "name": "stdout",
     "output_type": "stream",
     "text": [
      "MW comparision: KruskalResult(statistic=nan, pvalue=nan)\n"
     ]
    },
    {
     "data": {
      "image/png": "[encoded data removed]",
      "text/plain": [
       "<Figure size 432x288 with 1 Axes>"
      ]
     },
     "metadata": {
      "needs_background": "light"
     },
     "output_type": "display_data"
    }
   ],
   "source": [
    "# For H2ax-key relevant Ab\n",
    "\n",
    "\n",
    "args = []\n",
    "for _exp_key, _exp_df in out_df_dict.items():\n",
    "    g_inc = _exp_df[f'normalized_inc_{actual_h2ax_key}']/_exp_df['normalized_inc_dna']\n",
    "    g_ctrl = _exp_df[f'normalized_subset_control_{actual_h2ax_key}']/_exp_df['normalized_subset_control_dna']\n",
    "    args.append(g_inc)\n",
    "    args.append(g_ctrl)\n",
    "    \n",
    "#g1 = out_df_dict['Control']['normalized_inc_dna']\n",
    "#g2 = out_df_dict['Control']['normalized_subset_control_dna']\n",
    "#g3 = out_df_dict['HDACi']['normalized_inc_dna']\n",
    "#g4 = out_df_dict['HDACi']['normalized_subset_control_dna']\n",
    "\n",
    "#sp_low = min(len(g1),len(g2),len(g3))\n",
    "#sp_low = min(len(g1),len(g2), len(g3))\n",
    "\n",
    "#g1 = np.random.choice(g1, sp_low)\n",
    "#g2 = np.random.choice(g2, sp_low)\n",
    "#g3 = np.random.choice(g3, sp_low)\n",
    "#g4 = np.random.choice(g4, sp_low)\n",
    "#args = (g1,g2,g3,g4)\n",
    "boxplot_pol2= plt.boxplot([*args], meanline = True)\n",
    "\n",
    "\n",
    "vals, xs = [], [] \n",
    "\n",
    "for i, subdf in enumerate([*args]):\n",
    "    #names.append(name)\n",
    "    vals.append(subdf.tolist())\n",
    "    xs.append(np.random.normal(i+1, 0.04, subdf.shape[0]))\n",
    "\n",
    "for x, val in zip(xs, vals):\n",
    "    plt.scatter(x, val,  s = 1, alpha=0.3)\n",
    "\n",
    "from scipy.stats import mannwhitneyu\n",
    "from scipy.stats import kruskal\n",
    "\n",
    "p4 = kruskal(args[0],args[2],args[4],args[6])\n",
    "\n",
    "#U1, p1 = mannwhitneyu(g1,g3)\n",
    "\n",
    "print(f\"MW comparision: {p4}\")"
   ]
  },
  {
   "cell_type": "code",
   "execution_count": 35,
   "metadata": {},
   "outputs": [
    {
     "ename": "KeyError",
     "evalue": "'Control'",
     "output_type": "error",
     "traceback": [
      "\u001b[1;31m---------------------------------------------------------------------------\u001b[0m",
      "\u001b[1;31mKeyError\u001b[0m                                  Traceback (most recent call last)",
      "\u001b[1;32m~\\AppData\\Local\\Temp/ipykernel_70784/3827166525.py\u001b[0m in \u001b[0;36m<module>\u001b[1;34m\u001b[0m\n\u001b[0;32m      1\u001b[0m \u001b[1;32mfrom\u001b[0m \u001b[0mscipy\u001b[0m \u001b[1;32mimport\u001b[0m \u001b[0mstats\u001b[0m\u001b[1;33m\u001b[0m\u001b[1;33m\u001b[0m\u001b[0m\n\u001b[1;32m----> 2\u001b[1;33m \u001b[0mstats\u001b[0m\u001b[1;33m.\u001b[0m\u001b[0mspearmanr\u001b[0m\u001b[1;33m(\u001b[0m\u001b[0mout_df_dict\u001b[0m\u001b[1;33m[\u001b[0m\u001b[1;34m'Control'\u001b[0m\u001b[1;33m]\u001b[0m\u001b[1;33m[\u001b[0m\u001b[1;34m'normalized_inc_Pol2S5'\u001b[0m\u001b[1;33m]\u001b[0m\u001b[1;33m,\u001b[0m \u001b[0mout_df_dict\u001b[0m\u001b[1;33m[\u001b[0m\u001b[1;34m'Control'\u001b[0m\u001b[1;33m]\u001b[0m\u001b[1;33m[\u001b[0m\u001b[1;34mf'normalized_inc_{actual_h2ax_key}'\u001b[0m\u001b[1;33m]\u001b[0m\u001b[1;33m)\u001b[0m\u001b[1;33m\u001b[0m\u001b[1;33m\u001b[0m\u001b[0m\n\u001b[0m",
      "\u001b[1;31mKeyError\u001b[0m: 'Control'"
     ]
    }
   ],
   "source": [
    "from scipy import stats\n",
    "stats.spearmanr(out_df_dict['Control']['normalized_inc_Pol2S5'], out_df_dict['Control'][f'normalized_inc_{actual_h2ax_key}'])"
   ]
  },
  {
   "cell_type": "code",
   "execution_count": 32,
   "metadata": {},
   "outputs": [
    {
     "ename": "KeyError",
     "evalue": "'Control'",
     "output_type": "error",
     "traceback": [
      "\u001b[1;31m---------------------------------------------------------------------------\u001b[0m",
      "\u001b[1;31mKeyError\u001b[0m                                  Traceback (most recent call last)",
      "\u001b[1;32m~\\AppData\\Local\\Temp/ipykernel_70628/839641518.py\u001b[0m in \u001b[0;36m<module>\u001b[1;34m\u001b[0m\n\u001b[1;32m----> 1\u001b[1;33m \u001b[0mplt\u001b[0m\u001b[1;33m.\u001b[0m\u001b[0mscatter\u001b[0m\u001b[1;33m(\u001b[0m\u001b[0mx\u001b[0m\u001b[1;33m=\u001b[0m \u001b[0mout_df_dict\u001b[0m\u001b[1;33m[\u001b[0m\u001b[1;34m'Control'\u001b[0m\u001b[1;33m]\u001b[0m\u001b[1;33m[\u001b[0m\u001b[1;34m'normalized_inc_Pol2S5'\u001b[0m\u001b[1;33m]\u001b[0m\u001b[1;33m,\u001b[0m \u001b[0my\u001b[0m \u001b[1;33m=\u001b[0m\u001b[0mout_df_dict\u001b[0m\u001b[1;33m[\u001b[0m\u001b[1;34m'Control'\u001b[0m\u001b[1;33m]\u001b[0m\u001b[1;33m[\u001b[0m\u001b[1;34mf'normalized_inc_{actual_h2ax_key}'\u001b[0m\u001b[1;33m]\u001b[0m\u001b[1;33m)\u001b[0m\u001b[1;33m\u001b[0m\u001b[1;33m\u001b[0m\u001b[0m\n\u001b[0m",
      "\u001b[1;31mKeyError\u001b[0m: 'Control'"
     ]
    }
   ],
   "source": [
    "plt.scatter(x= out_df_dict['Control']['normalized_inc_Pol2S5'], y =out_df_dict['Control'][f'normalized_inc_{actual_h2ax_key}'])\n"
   ]
  },
  {
   "cell_type": "code",
   "execution_count": 38,
   "metadata": {},
   "outputs": [
    {
     "data": {
      "text/plain": [
       "<matplotlib.collections.PathCollection at 0x1b8641b7448>"
      ]
     },
     "execution_count": 38,
     "metadata": {},
     "output_type": "execute_result"
    },
    {
     "data": {
      "image/png": "[encoded data removed]",
      "text/plain": [
       "<Figure size 432x288 with 1 Axes>"
      ]
     },
     "metadata": {
      "needs_background": "light"
     },
     "output_type": "display_data"
    }
   ],
   "source": [
    "plt.scatter(x= out_df_dict['HDACi']['normalized_inc_Pol2S5'], y =out_df_dict['HDACi'][f'normalized_inc_{actual_h2ax_key}'])\n"
   ]
  },
  {
   "cell_type": "code",
   "execution_count": null,
   "metadata": {},
   "outputs": [],
   "source": []
  }
 ],
 "metadata": {
  "kernelspec": {
   "display_name": "Python 3",
   "language": "python",
   "name": "python3"
  },
  "language_info": {
   "codemirror_mode": {
    "name": "ipython",
    "version": 3
   },
   "file_extension": ".py",
   "mimetype": "text/x-python",
   "name": "python",
   "nbconvert_exporter": "python",
   "pygments_lexer": "ipython3",
   "version": "3.7.6"
  },
  "toc": {
   "base_numbering": 1,
   "nav_menu": {},
   "number_sections": false,
   "sideBar": true,
   "skip_h1_title": false,
   "title_cell": "Table of Contents",
   "title_sidebar": "Contents",
   "toc_cell": false,
   "toc_position": {},
   "toc_section_display": true,
   "toc_window_display": true
  },
  "varInspector": {
   "cols": {
    "lenName": 16,
    "lenType": 16,
    "lenVar": 40
   },
   "kernels_config": {
    "python": {
     "delete_cmd_postfix": "",
     "delete_cmd_prefix": "del ",
     "library": "var_list.py",
     "varRefreshCmd": "print(var_dic_list())"
    },
    "r": {
     "delete_cmd_postfix": ") ",
     "delete_cmd_prefix": "rm(",
     "library": "var_list.r",
     "varRefreshCmd": "cat(var_dic_list()) "
    }
   },
   "types_to_exclude": [
    "module",
    "function",
    "builtin_function_or_method",
    "instance",
    "_Feature"
   ],
   "window_display": false
  }
 },
 "nbformat": 4,
 "nbformat_minor": 4
}

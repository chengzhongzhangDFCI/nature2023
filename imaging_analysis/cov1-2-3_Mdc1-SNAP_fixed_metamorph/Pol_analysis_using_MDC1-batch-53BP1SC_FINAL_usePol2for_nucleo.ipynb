{
 "cells": [
  {
   "cell_type": "markdown",
   "metadata": {},
   "source": [
    "# Import required modules"
   ]
  },
  {
   "cell_type": "code",
   "execution_count": 1,
   "metadata": {},
   "outputs": [
    {
     "name": "stderr",
     "output_type": "stream",
     "text": [
      "c:\\programdata\\anaconda3\\lib\\site-packages\\skimage\\io\\manage_plugins.py:23: UserWarning: Your installed pillow version is < 7.1.0. Several security issues (CVE-2020-11538, CVE-2020-10379, CVE-2020-10994, CVE-2020-10177) have been fixed in pillow 7.1.0 or higher. We recommend to upgrade this library.\n",
      "  from .collection import imread_collection_wrapper\n"
     ]
    }
   ],
   "source": [
    "import numpy as np\n",
    "import matplotlib.pyplot as plt\n",
    "from skimage import io\n",
    "from skimage import data\n",
    "import skimage\n",
    "from skimage.filters.thresholding import threshold_li\n",
    "from skimage.morphology import erosion, dilation, opening, closing, white_tophat, remove_small_objects\n",
    "from skimage.morphology import disk\n",
    "from scipy import ndimage as ndi\n",
    "import sys,os, glob\n",
    "\n",
    "#import skimage.segmentation as seg\n",
    "#import skimage.filters as filters\n",
    "#import skimage.draw as draw\n",
    "#import skimage.color as color\n",
    "\n",
    "#from skimage.filters.thresholding import _cross_entropy\n",
    "#from skimage.morphology import black_tophat, skeletonize, convex_hull_image\n"
   ]
  },
  {
   "cell_type": "markdown",
   "metadata": {},
   "source": [
    "# Define parameters for image loading here:"
   ]
  },
  {
   "cell_type": "code",
   "execution_count": 3,
   "metadata": {},
   "outputs": [],
   "source": [
    "# Common parameters for loading the image files of interest\n",
    "\n",
    "# for 4 channels image: channel index as 1-2-3-4 as the order for ch405-ch488-ch560-ch647\n",
    "# Replace protein/dna name in the \"xxx\" below for the indicated channel index\n",
    "num_of_ch = 4\n",
    "\n",
    "# For example: ch_dict = {\"dna\":1,\"rpa/rpa2\":2,\"mdc1\":3,\"pol2S5\":4} if rpa/rpa2 was used for ch488\n",
    "ch_dict = {\"dna\":1,\"53BP1SC\":2,\"mdc1\":3,\"pol2S5\":4}\n",
    "\n",
    "# Replace the data directory in the \"\"; * is the final path level where images are located\n",
    "# For example: data_save_folder = r\"F:\\XXX\\AAA\\BBB\\*\"\n",
    "data_save_folder = r\"E:\\Data_Stam\\210228IF_210225exp_Mdc1_Fixed\\cov1_53BP1SC\\*\"\n"
   ]
  },
  {
   "cell_type": "markdown",
   "metadata": {},
   "source": [
    "#  Load all image files"
   ]
  },
  {
   "cell_type": "code",
   "execution_count": 4,
   "metadata": {},
   "outputs": [
    {
     "name": "stdout",
     "output_type": "stream",
     "text": [
      "There are 57 fovs for this 4-channel image dataset.\n"
     ]
    }
   ],
   "source": [
    "\n",
    "# read data files from the hard drive\n",
    "data_folder = data_save_folder\n",
    "data_files = [file for file in glob.glob(data_folder) if file[-3:]==\"TIF\" and \"thumb\" not in file]\n",
    "\n",
    "# group images for the same fov\n",
    "sorted_data_files = []\n",
    "num_of_ch = num_of_ch\n",
    "num_of_img = len(data_files)\n",
    "if num_of_img%num_of_ch == 0: #check if all images contain the same number of channels\n",
    "    for i in range (int(num_of_img/num_of_ch)):\n",
    "        data_for_each_cell = data_files[i*num_of_ch:i*num_of_ch+4]\n",
    "        sorted_data_files.append(data_for_each_cell)\n",
    "        \n",
    "num_of_fov =len(sorted_data_files)\n",
    "print (f\"There are {num_of_fov} fovs for this {num_of_ch}-channel image dataset.\")"
   ]
  },
  {
   "cell_type": "code",
   "execution_count": 12,
   "metadata": {},
   "outputs": [
    {
     "data": {
      "text/plain": [
       "60"
      ]
     },
     "execution_count": 12,
     "metadata": {},
     "output_type": "execute_result"
    }
   ],
   "source": []
  },
  {
   "cell_type": "code",
   "execution_count": 13,
   "metadata": {},
   "outputs": [
    {
     "data": {
      "text/plain": [
       "3162.3333333333335"
      ]
     },
     "execution_count": 13,
     "metadata": {},
     "output_type": "execute_result"
    }
   ],
   "source": []
  },
  {
   "cell_type": "markdown",
   "metadata": {},
   "source": [
    "# Load fov of interest to check images and peform nucleus segmentation"
   ]
  },
  {
   "cell_type": "code",
   "execution_count": 5,
   "metadata": {},
   "outputs": [],
   "source": [
    "# If use mdc1 for segementation\n",
    "factor_key =  \"mdc1\"\n",
    "\n",
    "\n",
    "pol2_key = \"pol2S5\"\n",
    "# The pixel size for excluding small 53BP_foci;\n",
    "# Replace *300* with other number desired or *0* if do not want to perform 53BP1 foci exclusion\n",
    "small_53BP_size = 0\n",
    "\n"
   ]
  },
  {
   "cell_type": "code",
   "execution_count": 6,
   "metadata": {},
   "outputs": [
    {
     "name": "stdout",
     "output_type": "stream",
     "text": [
      "Analyzing the plane 3 for the image 0 in this dataset\n",
      "Analyzing the plane 2 for the image 1 in this dataset\n",
      "Analyzing the plane 1 for the image 2 in this dataset\n",
      "Analyzing the plane 1 for the image 3 in this dataset\n",
      "Analyzing the plane 1 for the image 4 in this dataset\n",
      "Analyzing the plane 3 for the image 5 in this dataset\n",
      "Analyzing the plane 2 for the image 6 in this dataset\n",
      "Analyzing the plane 4 for the image 7 in this dataset\n",
      "Analyzing the plane 3 for the image 8 in this dataset\n",
      "Analyzing the plane 4 for the image 9 in this dataset\n",
      "Analyzing the plane 2 for the image 10 in this dataset\n",
      "Analyzing the plane 4 for the image 11 in this dataset\n",
      "Analyzing the plane 4 for the image 12 in this dataset\n",
      "Analyzing the plane 3 for the image 13 in this dataset\n",
      "Analyzing the plane 3 for the image 14 in this dataset\n",
      "Analyzing the plane 2 for the image 15 in this dataset\n",
      "Analyzing the plane 2 for the image 16 in this dataset\n",
      "Analyzing the plane 1 for the image 17 in this dataset\n",
      "Analyzing the plane 4 for the image 18 in this dataset\n",
      "Analyzing the plane 3 for the image 19 in this dataset\n",
      "Analyzing the plane 1 for the image 20 in this dataset\n",
      "Analyzing the plane 4 for the image 21 in this dataset\n",
      "Analyzing the plane 4 for the image 22 in this dataset\n",
      "Analyzing the plane 1 for the image 23 in this dataset\n",
      "Analyzing the plane 1 for the image 24 in this dataset\n",
      "Analyzing the plane 2 for the image 25 in this dataset\n",
      "Analyzing the plane 4 for the image 26 in this dataset\n",
      "Analyzing the plane 4 for the image 27 in this dataset\n",
      "Analyzing the plane 4 for the image 28 in this dataset\n",
      "Analyzing the plane 3 for the image 29 in this dataset\n",
      "Analyzing the plane 5 for the image 30 in this dataset\n",
      "Analyzing the plane 4 for the image 31 in this dataset\n",
      "Analyzing the plane 3 for the image 32 in this dataset\n",
      "Analyzing the plane 1 for the image 33 in this dataset\n",
      "Analyzing the plane 4 for the image 34 in this dataset\n",
      "Analyzing the plane 4 for the image 35 in this dataset\n",
      "Analyzing the plane 2 for the image 36 in this dataset\n",
      "Analyzing the plane 3 for the image 37 in this dataset\n",
      "Analyzing the plane 2 for the image 38 in this dataset\n",
      "Analyzing the plane 2 for the image 39 in this dataset\n",
      "Analyzing the plane 2 for the image 40 in this dataset\n",
      "Analyzing the plane 3 for the image 41 in this dataset\n",
      "Analyzing the plane 3 for the image 42 in this dataset\n",
      "Analyzing the plane 3 for the image 43 in this dataset\n",
      "Analyzing the plane 1 for the image 44 in this dataset\n",
      "Analyzing the plane 2 for the image 45 in this dataset\n",
      "Analyzing the plane 3 for the image 46 in this dataset\n",
      "Analyzing the plane 2 for the image 47 in this dataset\n",
      "Analyzing the plane 2 for the image 48 in this dataset\n",
      "Analyzing the plane 2 for the image 49 in this dataset\n",
      "Analyzing the plane 3 for the image 50 in this dataset\n",
      "Analyzing the plane 4 for the image 51 in this dataset\n",
      "Analyzing the plane 4 for the image 52 in this dataset\n",
      "Analyzing the plane 3 for the image 53 in this dataset\n",
      "Analyzing the plane 3 for the image 54 in this dataset\n",
      "Analyzing the plane 5 for the image 55 in this dataset\n",
      "Analyzing the plane 4 for the image 56 in this dataset\n"
     ]
    }
   ],
   "source": [
    "\n",
    "# Generate an empty list to store all measurements\n",
    "measurement_for_all_fov = []\n",
    "\n",
    "#To analyze a subset of fovs, use the code below where *2* means fov_0-fov_1; to analyze all fovs, replace *2* with num_of_fov;\n",
    "# the number needs to be <= num_of_fov\n",
    "\n",
    "for _fov_id in range (num_of_fov):\n",
    "        \n",
    "    # load images for 4 channels for each fov\n",
    "    img_1 = io.imread(sorted_data_files[_fov_id][0])  #ch405 \n",
    "    img_2 = io.imread(sorted_data_files[_fov_id][1])  #ch488\n",
    "    img_3 = io.imread(sorted_data_files[_fov_id][2])  #ch560\n",
    "    img_4 = io.imread(sorted_data_files[_fov_id][3])  #ch642\n",
    "    # Store images into an img_dict based on their channel index\n",
    "    ch_img_dict={'1':img_1,'2':img_2,'3':img_3,'4':img_4}\n",
    "    # Find the best focal plane using the mdc1 channel\n",
    "    image_fl = []\n",
    "    image_std = []\n",
    "    for i in range(len(ch_img_dict[str(ch_dict[factor_key])])):\n",
    "        _fl = np.array(ch_img_dict[str(ch_dict[factor_key])][i,:,:].flatten())\n",
    "        image_fl.append(_fl)\n",
    "        image_std.append(np.std(_fl))\n",
    "    best_plane_index = np.argmax(np.array(image_std))\n",
    "    print(f\"Analyzing the plane {best_plane_index} for the image {_fov_id} in this dataset\")   \n",
    "    \n",
    "    # load the best focal plane\n",
    "    img_1_bf=img_1[best_plane_index,:,:]\n",
    "    img_2_bf=img_2[best_plane_index,:,:]\n",
    "    img_3_bf=img_3[best_plane_index,:,:]\n",
    "    img_4_bf=img_4[best_plane_index,:,:]\n",
    "    # Update the img_dict\n",
    "    ch_img_dict={'1':img_1_bf,'2':img_2_bf,'3':img_3_bf,'4':img_4_bf}\n",
    "    \n",
    "    \n",
    "    # Use Li_global_th and binary operations to generate nuclei masks\n",
    "    li_value =  threshold_li (ch_img_dict[str(ch_dict[\"dna\"])])\n",
    "    nuclei_mask = ch_img_dict[str(ch_dict[\"dna\"])]>li_value\n",
    "    erosion_factor_dna = 5\n",
    "    eroded_nuclei_mask = erosion(nuclei_mask, disk(erosion_factor_dna))\n",
    "    eroded_nuclei_mask = ndi.binary_fill_holes(eroded_nuclei_mask)\n",
    "    eroded_nuclei_mask = remove_small_objects(eroded_nuclei_mask, 10000,connectivity=1)\n",
    "\n",
    "    # erosion and dilation to remove micronuclei or small blebs\n",
    "    eroded_nuclei_mask = erosion(eroded_nuclei_mask, disk(25))\n",
    "    eroded_nuclei_mask = dilation(eroded_nuclei_mask, disk(25))\n",
    "    # Nuclei segmentation to get all valid nuclei of interest\n",
    "    labeled_nuclei, num_of_nuclei = ndi.label(eroded_nuclei_mask)\n",
    "\n",
    "    # Add all valid nuclei to the list for downstream analysis\n",
    "    kept_nuclei = []\n",
    "    for i in range(num_of_nuclei):\n",
    "        cand_nucleus = labeled_nuclei == i+1\n",
    "        cand_nucleus[cand_nucleus>0]=1\n",
    "        cand_nucleus = np.array(cand_nucleus)\n",
    "        kept_nuclei.append(cand_nucleus)\n",
    "       \n",
    "    # Analyze each cell from this fov for all channels\n",
    "    for cell_id in range(len(kept_nuclei)):\n",
    "        # Generate masks for the MDC-labeled chromosome (\"the reincorporated micronuclei\") \n",
    "        # Q3 + 3* IQR (mdc1 intensity for the analyzed nucleus) used as the threshold for its segmentation\n",
    "        nuclei_to_measure = kept_nuclei[cell_id]\n",
    "        mdc_intensity = ch_img_dict[str(ch_dict[\"mdc1\"])]*nuclei_to_measure\n",
    "        mdc_intensity_filtered = mdc_intensity[mdc_intensity!=0]\n",
    "        mdc_positive_th =np.mean(mdc_intensity_filtered) + np.std(mdc_intensity_filtered)*3\n",
    "        #mdc_chr_mask = (ch_img_dict[str(ch_dict[factor_key])]>mdc_positive_th)*nuclei_to_measure\n",
    "        mdc_chr_mask = (ch_img_dict[str(ch_dict[\"mdc1\"])]>mdc_positive_th)*nuclei_to_measure\n",
    "        \n",
    "        # Removing small potential 53BP foci (change pixel size in the box above)\n",
    "        mdc_chr_mask = remove_small_objects(mdc_chr_mask, small_53BP_size, connectivity=1)\n",
    "        \n",
    "        # Remove tiny unsure foci if no 53BP foci size exclusion were applied\n",
    "        if small_53BP_size == 0:\n",
    "            small_53BP_size = 100\n",
    "        else:\n",
    "            pass\n",
    "        \n",
    "        # Analyze valid mdc-labeled nuclear regions only\n",
    "        if sum(mdc_chr_mask.flatten())>small_53BP_size:\n",
    "            \n",
    "            # Generate mask for the MDC-negative nucleous\n",
    "            # lower 10% of the mdc1 intensity for the analyzed nucleus used to define the nucleolus \n",
    "            # newer segmentation using pol2 lower 10%\n",
    "            pol2_intensity = ch_img_dict[str(ch_dict[pol2_key])]*nuclei_to_measure\n",
    "            pol2_intensity_filtered = pol2_intensity[pol2_intensity!=0]\n",
    "            pol2_negative_th = np.percentile(pol2_intensity_filtered,10)\n",
    "            pol2_negative_mask = (ch_img_dict[str(ch_dict[pol2_key])]<pol2_negative_th)*nuclei_to_measure\n",
    "            nucleolus_mask = remove_small_objects(pol2_negative_mask, 10,connectivity=1)      \n",
    "            nucleolus_mask = dilation(nucleolus_mask, disk(3))\n",
    "            \n",
    "            \n",
    "            # Generate mask for the rest chr in nuclei by removing the mdc-labeled and nucleolus regions\n",
    "            ctrl_chr_mask1 = nuclei_to_measure *  (mdc_chr_mask == 0)\n",
    "            ctrl_chr_mask2 = nuclei_to_measure * (nucleolus_mask ==0)\n",
    "            ctrl_chr_mask = ctrl_chr_mask1*ctrl_chr_mask2\n",
    "            # Generate mask for the non-cell/non-nuclei background\n",
    "            noncell_background = erosion(nuclei_mask==0,disk(10))\n",
    "            \n",
    "            \n",
    "            \n",
    "            # Generate a subset of the rest chr as randomized contrl\n",
    "            _random_index= np.random.choice(np.sum(ctrl_chr_mask), 1)\n",
    "            _random_yx = [np.where(ctrl_chr_mask==1)[0][_random_index],\n",
    "            np.where(ctrl_chr_mask==1)[1][_random_index]]\n",
    "                        \n",
    "            _seed_mask = np.zeros(ctrl_chr_mask.shape)\n",
    "            _seed_mask [_random_yx[0][0],_random_yx[1][0]] = 1\n",
    "                \n",
    "            _expand_seed = True\n",
    "            while _expand_seed:\n",
    "                _seed_mask = dilation(_seed_mask, disk(3))\n",
    "                #print (f'-- Generate seed mask for cell {_cell_id}')\n",
    "                subset_ctrl_chr_mask = _seed_mask * (ctrl_chr_mask == 1) * (mdc_chr_mask == 0)\n",
    "                if np.sum(subset_ctrl_chr_mask) >= np.sum(mdc_chr_mask): \n",
    "                    _expand_seed = False \n",
    "                    #print (f'-- Found control mask for cell {_cell_id}')\n",
    "            _erode_seed = True\n",
    "            while _erode_seed:\n",
    "                if np.sum(subset_ctrl_chr_mask) >= np.sum(mdc_chr_mask) + 100:\n",
    "                    subset_ctrl_chr_mask = erosion(subset_ctrl_chr_mask, disk(1))\n",
    "                else:\n",
    "                    _erode_seed = False\n",
    "            \n",
    "            \n",
    "            # Save mask images in the source directory\n",
    "            mask_save_path = data_save_folder[:-2] + os.sep + f'segmentations_{small_53BP_size}_subset_controlled' + os.sep + f'fov_{_fov_id}'\n",
    "            if not os.path.exists(mask_save_path):\n",
    "                os.makedirs(mask_save_path)\n",
    "            mdc_chr_mask_savename = f'cell_{cell_id}_incoporated_chr.tif'\n",
    "            ctrl_chr_mask_savename = f'cell_{cell_id}_control_chr_cell.tif'\n",
    "            subset_ctrl_chr_mask_savename = f'cell_{cell_id}_subset_control_chr_cell.tif'\n",
    "            io.imsave(mask_save_path+os.sep+mdc_chr_mask_savename,skimage.img_as_ubyte(mdc_chr_mask), check_contrast=False)\n",
    "            io.imsave(mask_save_path+os.sep+ctrl_chr_mask_savename,skimage.img_as_ubyte(ctrl_chr_mask), check_contrast=False)\n",
    "            io.imsave(mask_save_path+os.sep+subset_ctrl_chr_mask_savename,skimage.img_as_ubyte(subset_ctrl_chr_mask), \n",
    "                      check_contrast=False)\n",
    "            \n",
    "            \n",
    "            # Generate an empty list to store measurement for each cells\n",
    "            measurement_for_each_cell = []\n",
    "            # Add fov_id and cell_id \n",
    "            measurement_for_each_cell.append (int(_fov_id))\n",
    "            measurement_for_each_cell.append (int(cell_id))\n",
    "            # Measure and add pixel area for MDC-labeled chromosome, control chromosomes, and nucleolus\n",
    "            measurement_for_each_cell.append (np.sum(mdc_chr_mask))\n",
    "            measurement_for_each_cell.append (np.sum(ctrl_chr_mask)) \n",
    "            measurement_for_each_cell.append (np.sum(subset_ctrl_chr_mask))  \n",
    "            \n",
    "            # Measure and add intensity for MDC-labeled chromosome, control chromosomes, and nucleolus for each channel\n",
    "            for ch in range(num_of_ch):\n",
    "                ch_to_measure = ch_img_dict[str(ch+1)]\n",
    "                # Measure ave intensity\n",
    "                mdc_chr_ave_intensity = (ch_to_measure * mdc_chr_mask)[(ch_to_measure * mdc_chr_mask)!=0].mean()\n",
    "                ctrl_chr_ave_intensity = (ch_to_measure * ctrl_chr_mask)[(ch_to_measure * ctrl_chr_mask)!=0].mean()\n",
    "                subset_ctrl_chr_ave_intensity = (ch_to_measure * subset_ctrl_chr_mask)[(ch_to_measure * subset_ctrl_chr_mask)!=0].mean()\n",
    "                noncell_background_ave_intensity = (ch_to_measure*noncell_background)[(ch_to_measure*noncell_background)!=0].mean()\n",
    "                # Background subtraction\n",
    "                mdc_chr_ave_intensity = mdc_chr_ave_intensity - noncell_background_ave_intensity\n",
    "                ctrl_chr_ave_intensity = ctrl_chr_ave_intensity - noncell_background_ave_intensity\n",
    "                subset_ctrl_chr_ave_intensity = subset_ctrl_chr_ave_intensity - noncell_background_ave_intensity\n",
    "                # Add measurements\n",
    "                measurement_for_each_cell.append(mdc_chr_ave_intensity)\n",
    "                measurement_for_each_cell.append(ctrl_chr_ave_intensity)\n",
    "                measurement_for_each_cell.append(subset_ctrl_chr_ave_intensity)\n",
    "                        \n",
    "            # Add measurements for each cell to the measurements for all fovs\n",
    "            measurement_for_each_cell = np.array(measurement_for_each_cell)\n",
    "            measurement_for_all_fov.append(measurement_for_each_cell)\n",
    "               "
   ]
  },
  {
   "cell_type": "markdown",
   "metadata": {},
   "source": [
    "# Define channel information to save measurements as excel here:"
   ]
  },
  {
   "cell_type": "code",
   "execution_count": 7,
   "metadata": {},
   "outputs": [],
   "source": [
    "# Replace the protein/dna name below as how they are ordered for the channel (ch405, ch488, ch560, ch647)\n",
    "# For example, ch_save_list = [\"dna\",\"rpa2\",\"mdc1\",\"pol2S5\"] if rpa2 in ch488\n",
    "\n",
    "ch_save_list = [\"dna\",\"53BP1SC\",\"Mdc1\",\"Pol2S5\"]\n",
    "\n",
    "ch1 = ch_save_list[0]\n",
    "ch2 = ch_save_list[1]\n",
    "ch3 = ch_save_list[2]\n",
    "ch4 = ch_save_list[3]"
   ]
  },
  {
   "cell_type": "code",
   "execution_count": 8,
   "metadata": {},
   "outputs": [],
   "source": [
    "import pandas as pd\n",
    "\n",
    "df = pd.DataFrame(measurement_for_all_fov)  \n",
    "df.columns = ['fov_id','cell_id','area_incorporated_chr','area_nucleo-excluded_control_chr','area_subset_control_ctrl',\n",
    "             f'ave_intensity_incorporated_chr_{ch1}',f'ave_intensity_nucleo-excluded_control_chr_{ch1}',f'ave_intensity_subset_control_chr_{ch1}',\n",
    "             f'ave_intensity_incorporated_chr_{ch2}',f'ave_intensity_nucleo-excluded_control_chr_{ch2}',f'ave_intensity_subset_control_chr_{ch2}',\n",
    "             f'ave_intensity_incorporated_chr_{ch3}',f'ave_intensity_nucleo-excluded_control_chr_{ch3}',f'ave_intensity_subset_control_chr_{ch3}',\n",
    "             f'ave_intensity_incorporated_chr_{ch4}',f'ave_intensity_nucleo-excluded_control_chr_{ch4}',f'ave_intensity_subset_control_chr_{ch4}']\n",
    "\n",
    "analysis_savename = f'measurement_for_all_fov_background_subtracted_{small_53BP_size}.xlsx'\n",
    "analysis_save_path = data_save_folder[:-2] + os.sep + 'analysis_subset_controlled'\n",
    "if not os.path.exists(analysis_save_path):\n",
    "    os.makedirs(analysis_save_path)\n",
    "df.to_excel(analysis_save_path+os.sep+analysis_savename)\n"
   ]
  },
  {
   "cell_type": "code",
   "execution_count": 16,
   "metadata": {},
   "outputs": [
    {
     "name": "stdout",
     "output_type": "stream",
     "text": [
      "0.8510730078981107\n",
      "0.9808166971866824\n",
      "17.679071177978056\n",
      "1.0021769541525252\n",
      "4.493046909441153\n",
      "1.059929755871838\n",
      "1.0790845465667394\n",
      "1.015600377004749\n"
     ]
    }
   ],
   "source": [
    "# remove the bad cell that has no Pol2 signal\n",
    "#analysis_df=measurement_for_all_fov_df[measurement_for_all_fov_df['ave_intensity_control_chr_Pol2S5']>0].copy()\n",
    "analysis_df =df.copy()\n",
    "\n",
    "# for total incorporated chr\n",
    "analysis_df['normalized_inc_Pol2S5']=analysis_df['ave_intensity_incorporated_chr_Pol2S5']/analysis_df['ave_intensity_nucleo-excluded_control_chr_Pol2S5']\n",
    "print(analysis_df['normalized_inc_Pol2S5'].mean())\n",
    "\n",
    "\n",
    "# for subset control\n",
    "analysis_df['normalized_subset_control_Pol2S5']=analysis_df['ave_intensity_subset_control_chr_Pol2S5']/analysis_df['ave_intensity_nucleo-excluded_control_chr_Pol2S5']\n",
    "print(analysis_df['normalized_subset_control_Pol2S5'].mean())\n",
    "\n",
    "\n",
    "\n",
    "# get the h2ax-positive area vs h2ax-less (positive) area for the same cell\n",
    "analysis_df['normalized_inc_53BP1SC'] = analysis_df['ave_intensity_incorporated_chr_53BP1SC']/analysis_df['ave_intensity_nucleo-excluded_control_chr_53BP1SC']\n",
    "print(analysis_df['normalized_inc_53BP1SC'].mean())\n",
    "\n",
    "\n",
    "# for subset control\n",
    "analysis_df['normalized_subset_control_53BP1SC']=analysis_df['ave_intensity_subset_control_chr_53BP1SC']/analysis_df['ave_intensity_nucleo-excluded_control_chr_53BP1SC']\n",
    "print(analysis_df['normalized_subset_control_53BP1SC'].mean())\n",
    "\n",
    "\n",
    "\n",
    "\n",
    "\n",
    "\n",
    "# get the h2ax-positive area vs h2ax-less (positive) area for the same cell\n",
    "analysis_df['normalized_inc_Mdc1'] = analysis_df['ave_intensity_incorporated_chr_Mdc1']/analysis_df['ave_intensity_nucleo-excluded_control_chr_Mdc1']\n",
    "print(analysis_df['normalized_inc_Mdc1'].mean())\n",
    "\n",
    "\n",
    "# for subset control\n",
    "analysis_df['normalized_subset_control_Mdc1']=analysis_df['ave_intensity_subset_control_chr_Mdc1']/analysis_df['ave_intensity_nucleo-excluded_control_chr_Mdc1']\n",
    "print(analysis_df['normalized_subset_control_Mdc1'].mean())\n",
    "\n",
    "\n",
    "\n",
    "\n",
    "\n",
    "# get the h2ax-positive area vs h2ax-less (positive) area for the same cell\n",
    "analysis_df['normalized_inc_dna'] = analysis_df['ave_intensity_incorporated_chr_dna']/analysis_df['ave_intensity_nucleo-excluded_control_chr_dna']\n",
    "print(analysis_df['normalized_inc_dna'].mean())\n",
    "\n",
    "\n",
    "# for subset control\n",
    "analysis_df['normalized_subset_control_dna']=analysis_df['ave_intensity_subset_control_chr_dna']/analysis_df['ave_intensity_nucleo-excluded_control_chr_dna']\n",
    "print(analysis_df['normalized_subset_control_dna'].mean())"
   ]
  },
  {
   "cell_type": "code",
   "execution_count": 10,
   "metadata": {},
   "outputs": [
    {
     "name": "stdout",
     "output_type": "stream",
     "text": [
      "MW comparision: 0.03151855718906992\n"
     ]
    },
    {
     "data": {
      "image/png": "[encoded data removed]",
      "text/plain": [
       "<Figure size 432x288 with 1 Axes>"
      ]
     },
     "metadata": {
      "needs_background": "light"
     },
     "output_type": "display_data"
    }
   ],
   "source": [
    "# for dna\n",
    "\n",
    "# \n",
    "g1 = analysis_df['normalized_inc_dna']\n",
    "g2 = analysis_df['normalized_subset_control_dna']\n",
    "#g3 = no_damaged_chr_df['normalized_inc_Pol2S5']\n",
    "#g4 = analysis_df['normalized_subset_control_Pol2S5']\n",
    "\n",
    "#sp_low = min(len(g1),len(g2),len(g3))\n",
    "#sp_low = min(len(g1),len(g2), len(g3))\n",
    "\n",
    "#g1 = np.random.choice(g1, sp_low)\n",
    "#g2 = np.random.choice(g2, sp_low)\n",
    "#g3 = np.random.choice(g3, sp_low)\n",
    "#g4 = np.random.choice(g4, sp_low)\n",
    "\n",
    "boxplot_pol2= plt.boxplot([g1,g2], meanline = True)\n",
    "\n",
    "\n",
    "vals, xs = [], [] \n",
    "\n",
    "for i, subdf in enumerate([g1,g2]):\n",
    "    #names.append(name)\n",
    "    vals.append(subdf.tolist())\n",
    "    xs.append(np.random.normal(i+1, 0.04, subdf.shape[0]))\n",
    "\n",
    "for x, val in zip(xs, vals):\n",
    "    plt.scatter(x, val,  s = 5, alpha=0.5)\n",
    "\n",
    "from scipy.stats import mannwhitneyu\n",
    "from scipy.stats import kruskal\n",
    "#p4 = kruskal(g1,g2,g3,g4)\n",
    "\n",
    "U1, p1 = mannwhitneyu(g1,g2)\n",
    "\n",
    "print(f\"MW comparision: {p1}\")"
   ]
  },
  {
   "cell_type": "code",
   "execution_count": 11,
   "metadata": {},
   "outputs": [
    {
     "name": "stdout",
     "output_type": "stream",
     "text": [
      "MW comparision: 2.3165585554985274e-30\n"
     ]
    },
    {
     "data": {
      "image/png": "[encoded data removed]",
      "text/plain": [
       "<Figure size 432x288 with 1 Axes>"
      ]
     },
     "metadata": {
      "needs_background": "light"
     },
     "output_type": "display_data"
    }
   ],
   "source": [
    "# for mdc1\n",
    "\n",
    "analysis_df_filtered = analysis_df[analysis_df['normalized_inc_Mdc1'] > 0]\n",
    "g1 = analysis_df_filtered['normalized_inc_Mdc1']\n",
    "g2 = analysis_df_filtered['normalized_subset_control_Mdc1']\n",
    "#g3 = no_damaged_chr_df['normalized_inc_Pol2S5']\n",
    "#g4 = analysis_df['normalized_subset_control_Pol2S5']\n",
    "\n",
    "#sp_low = min(len(g1),len(g2),len(g3))\n",
    "#sp_low = min(len(g1),len(g2), len(g3))\n",
    "\n",
    "#g1 = np.random.choice(g1, sp_low)\n",
    "#g2 = np.random.choice(g2, sp_low)\n",
    "#g3 = np.random.choice(g3, sp_low)\n",
    "#g4 = np.random.choice(g4, sp_low)\n",
    "\n",
    "boxplot_pol2= plt.boxplot([g1,g2], meanline = True)\n",
    "\n",
    "\n",
    "vals, xs = [], [] \n",
    "\n",
    "for i, subdf in enumerate([g1,g2]):\n",
    "    #names.append(name)\n",
    "    vals.append(subdf.tolist())\n",
    "    xs.append(np.random.normal(i+1, 0.04, subdf.shape[0]))\n",
    "\n",
    "for x, val in zip(xs, vals):\n",
    "    plt.scatter(x, val,  s = 5, alpha=0.5)\n",
    "\n",
    "from scipy.stats import mannwhitneyu\n",
    "from scipy.stats import kruskal\n",
    "#p4 = kruskal(g1,g2,g3,g4)\n",
    "\n",
    "U1, p1 = mannwhitneyu(g1,g2)\n",
    "\n",
    "print(f\"MW comparision: {p1}\")\n",
    "\n",
    "\n",
    "\n",
    "#print(f\"three samples comparision: {p4}\")"
   ]
  },
  {
   "cell_type": "code",
   "execution_count": 12,
   "metadata": {},
   "outputs": [
    {
     "name": "stdout",
     "output_type": "stream",
     "text": [
      "MW comparision: 4.1568448051014455e-05\n"
     ]
    },
    {
     "data": {
      "image/png": "[encoded data removed]",
      "text/plain": [
       "<Figure size 432x288 with 1 Axes>"
      ]
     },
     "metadata": {
      "needs_background": "light"
     },
     "output_type": "display_data"
    }
   ],
   "source": [
    "# For Pol2S5\n",
    "g1 = analysis_df['normalized_inc_Pol2S5']\n",
    "g2 = analysis_df['normalized_subset_control_Pol2S5']\n",
    "#g3 = no_damaged_chr_df['normalized_inc_Pol2S5']\n",
    "#g4 = analysis_df['normalized_subset_control_Pol2S5']\n",
    "\n",
    "#sp_low = min(len(g1),len(g2),len(g3))\n",
    "#sp_low = min(len(g1),len(g2), len(g3))\n",
    "\n",
    "#g1 = np.random.choice(g1, sp_low)\n",
    "#g2 = np.random.choice(g2, sp_low)\n",
    "#g3 = np.random.choice(g3, sp_low)\n",
    "#g4 = np.random.choice(g4, sp_low)\n",
    "\n",
    "boxplot_pol2= plt.boxplot([g1,g2], meanline = True)\n",
    "\n",
    "\n",
    "vals, xs = [], [] \n",
    "\n",
    "for i, subdf in enumerate([g1,g2]):\n",
    "    #names.append(name)\n",
    "    vals.append(subdf.tolist())\n",
    "    xs.append(np.random.normal(i+1, 0.04, subdf.shape[0]))\n",
    "\n",
    "for x, val in zip(xs, vals):\n",
    "    plt.scatter(x, val,  s = 5, alpha=0.5)\n",
    "\n",
    "from scipy.stats import mannwhitneyu\n",
    "from scipy.stats import kruskal\n",
    "#p4 = kruskal(g1,g2,g3,g4)\n",
    "\n",
    "U1, p1 = mannwhitneyu(g1,g2)\n",
    "\n",
    "print(f\"MW comparision: {p1}\")\n",
    "\n",
    "\n",
    "\n",
    "#print(f\"three samples comparision: {p4}\")"
   ]
  },
  {
   "cell_type": "code",
   "execution_count": 13,
   "metadata": {
    "scrolled": true
   },
   "outputs": [
    {
     "name": "stdout",
     "output_type": "stream",
     "text": [
      "MW comparision: 2.6856039216739234e-06\n"
     ]
    },
    {
     "data": {
      "image/png": "[encoded data removed]",
      "text/plain": [
       "<Figure size 432x288 with 1 Axes>"
      ]
     },
     "metadata": {
      "needs_background": "light"
     },
     "output_type": "display_data"
    }
   ],
   "source": [
    "# For Pol2S5 norm to dna\n",
    "g1 = analysis_df['normalized_inc_Pol2S5']/analysis_df['normalized_inc_dna']\n",
    "g2 = analysis_df['normalized_subset_control_Pol2S5']/analysis_df['normalized_subset_control_dna']\n",
    "#g3 = no_damaged_chr_df['normalized_inc_Pol2S5']\n",
    "#g4 = analysis_df['normalized_subset_control_Pol2S5']\n",
    "\n",
    "#sp_low = min(len(g1),len(g2),len(g3))\n",
    "#sp_low = min(len(g1),len(g2), len(g3))\n",
    "\n",
    "#g1 = np.random.choice(g1, sp_low)\n",
    "#g2 = np.random.choice(g2, sp_low)\n",
    "#g3 = np.random.choice(g3, sp_low)\n",
    "#g4 = np.random.choice(g4, sp_low)\n",
    "\n",
    "boxplot_pol2= plt.boxplot([g1,g2], meanline = True)\n",
    "\n",
    "\n",
    "vals, xs = [], [] \n",
    "\n",
    "for i, subdf in enumerate([g1,g2]):\n",
    "    #names.append(name)\n",
    "    vals.append(subdf.tolist())\n",
    "    xs.append(np.random.normal(i+1, 0.04, subdf.shape[0]))\n",
    "\n",
    "for x, val in zip(xs, vals):\n",
    "    plt.scatter(x, val,  s = 5, alpha=0.5)\n",
    "\n",
    "from scipy.stats import mannwhitneyu\n",
    "from scipy.stats import kruskal\n",
    "#p4 = kruskal(g1,g2,g3,g4)\n",
    "\n",
    "U1, p1 = mannwhitneyu(g1,g2)\n",
    "\n",
    "print(f\"MW comparision: {p1}\")\n",
    "\n",
    "\n",
    "\n",
    "#print(f\"three samples comparision: {p4}\")"
   ]
  },
  {
   "cell_type": "code",
   "execution_count": null,
   "metadata": {},
   "outputs": [],
   "source": []
  },
  {
   "cell_type": "code",
   "execution_count": 17,
   "metadata": {
    "scrolled": true
   },
   "outputs": [
    {
     "name": "stdout",
     "output_type": "stream",
     "text": [
      "MW comparision: 1.0604890903442014e-26\n"
     ]
    },
    {
     "data": {
      "image/png": "[encoded data removed]",
      "text/plain": [
       "<Figure size 432x288 with 1 Axes>"
      ]
     },
     "metadata": {
      "needs_background": "light"
     },
     "output_type": "display_data"
    }
   ],
   "source": [
    "# For H2ax\n",
    "g1 = analysis_df['normalized_inc_53BP1SC']\n",
    "g2 = analysis_df['normalized_subset_control_53BP1SC']\n",
    "#g3 = no_damaged_chr_df['normalized_inc_Pol2S5']\n",
    "#g4 = analysis_df['normalized_subset_control_Pol2S5']\n",
    "\n",
    "#sp_low = min(len(g1),len(g2),len(g3))\n",
    "#sp_low = min(len(g1),len(g2), len(g3))\n",
    "\n",
    "#g1 = np.random.choice(g1, sp_low)\n",
    "#g2 = np.random.choice(g2, sp_low)\n",
    "#g3 = np.random.choice(g3, sp_low)\n",
    "#g4 = np.random.choice(g4, sp_low)\n",
    "\n",
    "boxplot_pol2= plt.boxplot([g1,g2], meanline = True)\n",
    "\n",
    "\n",
    "vals, xs = [], [] \n",
    "\n",
    "for i, subdf in enumerate([g1,g2]):\n",
    "    #names.append(name)\n",
    "    vals.append(subdf.tolist())\n",
    "    xs.append(np.random.normal(i+1, 0.04, subdf.shape[0]))\n",
    "\n",
    "for x, val in zip(xs, vals):\n",
    "    plt.scatter(x, val,  s = 5, alpha=0.5)\n",
    "\n",
    "\n",
    "from scipy.stats import kruskal\n",
    "#p4 = kruskal(g1,g2,g3,g4)\n",
    "from scipy.stats import mannwhitneyu\n",
    "U1, p1 = mannwhitneyu(g1,g2)\n",
    "\n",
    "print(f\"MW comparision: {p1}\")\n",
    "\n"
   ]
  },
  {
   "cell_type": "code",
   "execution_count": 12,
   "metadata": {},
   "outputs": [
    {
     "data": {
      "text/html": [
       "<div>\n",
       "<style scoped>\n",
       "    .dataframe tbody tr th:only-of-type {\n",
       "        vertical-align: middle;\n",
       "    }\n",
       "\n",
       "    .dataframe tbody tr th {\n",
       "        vertical-align: top;\n",
       "    }\n",
       "\n",
       "    .dataframe thead th {\n",
       "        text-align: right;\n",
       "    }\n",
       "</style>\n",
       "<table border=\"1\" class=\"dataframe\">\n",
       "  <thead>\n",
       "    <tr style=\"text-align: right;\">\n",
       "      <th></th>\n",
       "      <th>fov_id</th>\n",
       "      <th>cell_id</th>\n",
       "      <th>area_incorporated_chr</th>\n",
       "      <th>area_control_chr</th>\n",
       "      <th>area_nucleolus</th>\n",
       "      <th>ave_intensity_incorporated_chr_dna</th>\n",
       "      <th>ave_intensity_control_chr_dna</th>\n",
       "      <th>ave_intensity_nucleolus_dna</th>\n",
       "      <th>ave_intensity_incorporated_chr_53BP1</th>\n",
       "      <th>ave_intensity_control_chr_53BP1</th>\n",
       "      <th>ave_intensity_nucleolus_53BP1</th>\n",
       "      <th>ave_intensity_incorporated_chr_mdc1</th>\n",
       "      <th>ave_intensity_control_chr_mdc1</th>\n",
       "      <th>ave_intensity_nucleolus_mdc1</th>\n",
       "      <th>ave_intensity_incorporated_chr_pol2S5</th>\n",
       "      <th>ave_intensity_control_chr_pol2S5</th>\n",
       "      <th>ave_intensity_nucleolus_pol2S5</th>\n",
       "    </tr>\n",
       "  </thead>\n",
       "  <tbody>\n",
       "    <tr>\n",
       "      <th>0</th>\n",
       "      <td>0.0</td>\n",
       "      <td>2.0</td>\n",
       "      <td>801.0</td>\n",
       "      <td>17319.0</td>\n",
       "      <td>3326.0</td>\n",
       "      <td>196.313305</td>\n",
       "      <td>176.087834</td>\n",
       "      <td>153.895317</td>\n",
       "      <td>406.177477</td>\n",
       "      <td>31.341733</td>\n",
       "      <td>13.598450</td>\n",
       "      <td>362.715424</td>\n",
       "      <td>119.425774</td>\n",
       "      <td>58.198902</td>\n",
       "      <td>169.251049</td>\n",
       "      <td>243.699694</td>\n",
       "      <td>103.064294</td>\n",
       "    </tr>\n",
       "    <tr>\n",
       "      <th>1</th>\n",
       "      <td>1.0</td>\n",
       "      <td>1.0</td>\n",
       "      <td>448.0</td>\n",
       "      <td>30489.0</td>\n",
       "      <td>5423.0</td>\n",
       "      <td>56.484429</td>\n",
       "      <td>84.159319</td>\n",
       "      <td>73.437719</td>\n",
       "      <td>291.849691</td>\n",
       "      <td>21.778841</td>\n",
       "      <td>15.865183</td>\n",
       "      <td>151.886202</td>\n",
       "      <td>59.261723</td>\n",
       "      <td>36.516434</td>\n",
       "      <td>36.819521</td>\n",
       "      <td>81.673977</td>\n",
       "      <td>44.916382</td>\n",
       "    </tr>\n",
       "    <tr>\n",
       "      <th>2</th>\n",
       "      <td>1.0</td>\n",
       "      <td>2.0</td>\n",
       "      <td>353.0</td>\n",
       "      <td>26644.0</td>\n",
       "      <td>4911.0</td>\n",
       "      <td>177.320173</td>\n",
       "      <td>142.635867</td>\n",
       "      <td>79.251886</td>\n",
       "      <td>601.480667</td>\n",
       "      <td>68.319203</td>\n",
       "      <td>28.923610</td>\n",
       "      <td>579.930320</td>\n",
       "      <td>141.503614</td>\n",
       "      <td>52.608290</td>\n",
       "      <td>220.779481</td>\n",
       "      <td>245.533004</td>\n",
       "      <td>71.152067</td>\n",
       "    </tr>\n",
       "  </tbody>\n",
       "</table>\n",
       "</div>"
      ],
      "text/plain": [
       "   fov_id  cell_id  area_incorporated_chr  area_control_chr  area_nucleolus  \\\n",
       "0     0.0      2.0                  801.0           17319.0          3326.0   \n",
       "1     1.0      1.0                  448.0           30489.0          5423.0   \n",
       "2     1.0      2.0                  353.0           26644.0          4911.0   \n",
       "\n",
       "   ave_intensity_incorporated_chr_dna  ave_intensity_control_chr_dna  \\\n",
       "0                          196.313305                     176.087834   \n",
       "1                           56.484429                      84.159319   \n",
       "2                          177.320173                     142.635867   \n",
       "\n",
       "   ave_intensity_nucleolus_dna  ave_intensity_incorporated_chr_53BP1  \\\n",
       "0                   153.895317                            406.177477   \n",
       "1                    73.437719                            291.849691   \n",
       "2                    79.251886                            601.480667   \n",
       "\n",
       "   ave_intensity_control_chr_53BP1  ave_intensity_nucleolus_53BP1  \\\n",
       "0                        31.341733                      13.598450   \n",
       "1                        21.778841                      15.865183   \n",
       "2                        68.319203                      28.923610   \n",
       "\n",
       "   ave_intensity_incorporated_chr_mdc1  ave_intensity_control_chr_mdc1  \\\n",
       "0                           362.715424                      119.425774   \n",
       "1                           151.886202                       59.261723   \n",
       "2                           579.930320                      141.503614   \n",
       "\n",
       "   ave_intensity_nucleolus_mdc1  ave_intensity_incorporated_chr_pol2S5  \\\n",
       "0                     58.198902                             169.251049   \n",
       "1                     36.516434                              36.819521   \n",
       "2                     52.608290                             220.779481   \n",
       "\n",
       "   ave_intensity_control_chr_pol2S5  ave_intensity_nucleolus_pol2S5  \n",
       "0                        243.699694                      103.064294  \n",
       "1                         81.673977                       44.916382  \n",
       "2                        245.533004                       71.152067  "
      ]
     },
     "execution_count": 12,
     "metadata": {},
     "output_type": "execute_result"
    }
   ],
   "source": [
    "df"
   ]
  }
 ],
 "metadata": {
  "kernelspec": {
   "display_name": "Python 3",
   "language": "python",
   "name": "python3"
  },
  "language_info": {
   "codemirror_mode": {
    "name": "ipython",
    "version": 3
   },
   "file_extension": ".py",
   "mimetype": "text/x-python",
   "name": "python",
   "nbconvert_exporter": "python",
   "pygments_lexer": "ipython3",
   "version": "3.7.6"
  }
 },
 "nbformat": 4,
 "nbformat_minor": 4
}

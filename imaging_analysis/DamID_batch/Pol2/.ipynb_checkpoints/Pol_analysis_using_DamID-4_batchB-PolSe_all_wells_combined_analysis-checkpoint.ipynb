{
 "cells": [
  {
   "cell_type": "markdown",
   "metadata": {},
   "source": [
    "# 1. Import required modules"
   ]
  },
  {
   "cell_type": "code",
   "execution_count": 1,
   "metadata": {},
   "outputs": [
    {
     "name": "stderr",
     "output_type": "stream",
     "text": [
      "c:\\programdata\\anaconda3\\lib\\site-packages\\skimage\\io\\manage_plugins.py:23: UserWarning: Your installed pillow version is < 7.1.0. Several security issues (CVE-2020-11538, CVE-2020-10379, CVE-2020-10994, CVE-2020-10177) have been fixed in pillow 7.1.0 or higher. We recommend to upgrade this library.\n",
      "  from .collection import imread_collection_wrapper\n"
     ]
    }
   ],
   "source": [
    "import numpy as np\n",
    "import matplotlib.pyplot as plt\n",
    "from skimage import io\n",
    "from skimage import data\n",
    "import skimage\n",
    "from skimage.filters.thresholding import threshold_li,threshold_local,threshold_otsu\n",
    "from skimage.morphology import erosion, dilation, opening, closing, white_tophat, remove_small_objects, ball\n",
    "from skimage.morphology import disk\n",
    "from scipy import ndimage as ndi\n",
    "import sys,os, glob\n",
    "\n",
    "#import skimage.filters.median\n",
    "\n",
    "#import skimage.segmentation as seg\n",
    "#import skimage.filters as filters\n",
    "#import skimage.draw as draw\n",
    "#import skimage.color as color\n",
    "\n",
    "#from skimage.filters.thresholding import _cross_entropy\n",
    "#from skimage.morphology import black_tophat, skeletonize, convex_hull_image\n",
    "\n",
    "\n",
    "#pip install nd2reader_required for nd2 file reading\n",
    "from nd2reader import ND2Reader\n",
    "\n",
    "import pandas as pd"
   ]
  },
  {
   "cell_type": "markdown",
   "metadata": {},
   "source": [
    "# 2. Load all analysis excels:"
   ]
  },
  {
   "cell_type": "code",
   "execution_count": null,
   "metadata": {},
   "outputs": [],
   "source": [
    "# Combine batch B1 (already done)  211004IF_210921exp_DamMN"
   ]
  },
  {
   "cell_type": "code",
   "execution_count": 14,
   "metadata": {},
   "outputs": [],
   "source": [
    "combined_df_b1 =pd.read_excel(r\"D:\\Analyzed_CellBio\\Stam\\Dam_analysis_batchB\\211004IF_210921exp_DamMN\\measurement_for_all_wells_background_subtracted_30_crop_Pol2_analyzed.xlsx\", index_col=None)"
   ]
  },
  {
   "cell_type": "code",
   "execution_count": null,
   "metadata": {},
   "outputs": [],
   "source": [
    "# Combined batch B2 211007IF_210922exp_DamMN"
   ]
  },
  {
   "cell_type": "code",
   "execution_count": 10,
   "metadata": {},
   "outputs": [],
   "source": [
    "# Common parameters for loading the image files of interest\n",
    "\n",
    "# for 4 channels nd2 images: channel index order is 1-2-3-4, which is the order as ch405-ch488-ch560-ch647\n",
    "\n",
    "\n",
    "\n",
    "data_save_folder = r\"D:\\Analyzed_CellBio\\Stam\\Dam_analysis_batchB\\211007IF_210922exp_DamMN\\*\"\n",
    "\n",
    "sub_folders = [_fd for _fd in glob.glob(data_save_folder) if 'doxPlusAID' in _fd and 'H3K27ac' not in _fd]\n",
    "\n",
    "\n",
    "combined_df_b2 =pd.DataFrame()\n",
    "\n",
    "for _fd in sub_folders:\n",
    "    well_name = _fd.split('\\\\')[-1].split('_')[0]\n",
    "    analysis_folders = _fd + os.sep + \"analysis\" + os.sep + well_name\n",
    "    analysis_excel_name = (analysis_folders+ os.sep+ \n",
    "                           r\"measurement_for_all_fov_background_subtracted_30_crop_Pol2_analyzed.xlsx\")\n",
    "    \n",
    "    df =  pd.read_excel(analysis_excel_name, index_col=None)\n",
    "    combined_df_b2=  pd.concat([combined_df_b2,df])\n",
    "   "
   ]
  },
  {
   "cell_type": "code",
   "execution_count": 11,
   "metadata": {},
   "outputs": [],
   "source": [
    "combined_df_b2.to_excel(r\"D:\\Analyzed_CellBio\\Stam\\Dam_analysis_batchB\\211007IF_210922exp_DamMN\\measurement_for_all_wells_background_subtracted_30_crop_Pol2_analyzed.xlsx\", index=False)"
   ]
  },
  {
   "cell_type": "code",
   "execution_count": null,
   "metadata": {},
   "outputs": [],
   "source": [
    "# Combined batch B3 211012IF_210927exp_DamMN"
   ]
  },
  {
   "cell_type": "code",
   "execution_count": 12,
   "metadata": {},
   "outputs": [],
   "source": [
    "# Common parameters for loading the image files of interest\n",
    "\n",
    "# for 4 channels nd2 images: channel index order is 1-2-3-4, which is the order as ch405-ch488-ch560-ch647\n",
    "\n",
    "\n",
    "\n",
    "data_save_folder = r\"D:\\Analyzed_CellBio\\Stam\\Dam_analysis_batchB\\211012IF_210927exp_DamMN\\*\"\n",
    "\n",
    "sub_folders = [_fd for _fd in glob.glob(data_save_folder) if 'doxPlusAID' in _fd and 'H3K27ac' not in _fd]\n",
    "\n",
    "\n",
    "combined_df_b3 =pd.DataFrame()\n",
    "\n",
    "for _fd in sub_folders:\n",
    "    well_name = _fd.split('\\\\')[-1].split('_')[0]\n",
    "    analysis_folders = _fd + os.sep + \"analysis\" + os.sep + well_name\n",
    "    analysis_excel_name = (analysis_folders+ os.sep+ \n",
    "                           r\"measurement_for_all_fov_background_subtracted_30_crop_Pol2_analyzed.xlsx\")\n",
    "    \n",
    "    df =  pd.read_excel(analysis_excel_name, index_col=None)\n",
    "    combined_df_b3=  pd.concat([combined_df_b3,df])\n",
    "   "
   ]
  },
  {
   "cell_type": "code",
   "execution_count": 13,
   "metadata": {},
   "outputs": [],
   "source": [
    "combined_df_b3.to_excel(r\"D:\\Analyzed_CellBio\\Stam\\Dam_analysis_batchB\\211012IF_210927exp_DamMN\\measurement_for_all_wells_background_subtracted_30_crop_Pol2_analyzed.xlsx\", index=False)"
   ]
  },
  {
   "cell_type": "code",
   "execution_count": null,
   "metadata": {},
   "outputs": [],
   "source": [
    "# Combine all dfs from all exp/batch B"
   ]
  },
  {
   "cell_type": "code",
   "execution_count": 15,
   "metadata": {},
   "outputs": [],
   "source": [
    "combined_df=pd.DataFrame()\n",
    "\n",
    "df_to_combine = [combined_df_b1,combined_df_b2,combined_df_b3]\n",
    "\n",
    "for _df in df_to_combine:\n",
    "    combined_df = pd.concat([combined_df,_df])"
   ]
  },
  {
   "cell_type": "code",
   "execution_count": 1,
   "metadata": {},
   "outputs": [
    {
     "ename": "NameError",
     "evalue": "name 'combined_df' is not defined",
     "output_type": "error",
     "traceback": [
      "\u001b[1;31m---------------------------------------------------------------------------\u001b[0m",
      "\u001b[1;31mNameError\u001b[0m                                 Traceback (most recent call last)",
      "\u001b[1;32m~\\AppData\\Local\\Temp/ipykernel_39440/332929891.py\u001b[0m in \u001b[0;36m<module>\u001b[1;34m\u001b[0m\n\u001b[1;32m----> 1\u001b[1;33m \u001b[0mcombined_df\u001b[0m\u001b[1;33m.\u001b[0m\u001b[0mto_excel\u001b[0m\u001b[1;33m(\u001b[0m\u001b[1;34mr\"D:\\Analyzed_CellBio\\Stam\\Dam_analysis_batchB\\211012IF_210927exp_DamMN\\measurement_for_BATCH-B-all_wells_background_subtracted_30_crop_Pol2_analyzed.xlsx\"\u001b[0m\u001b[1;33m,\u001b[0m \u001b[0mindex\u001b[0m\u001b[1;33m=\u001b[0m\u001b[1;32mFalse\u001b[0m\u001b[1;33m)\u001b[0m\u001b[1;33m\u001b[0m\u001b[1;33m\u001b[0m\u001b[0m\n\u001b[0m",
      "\u001b[1;31mNameError\u001b[0m: name 'combined_df' is not defined"
     ]
    }
   ],
   "source": [
    "combined_df.to_excel(r\"D:\\Analyzed_CellBio\\Stam\\Dam_analysis_batchB\\211012IF_210927exp_DamMN\\measurement_for_BATCH-B-all_wells_background_subtracted_30_crop_Pol2_analyzed.xlsx\", index=False)"
   ]
  },
  {
   "cell_type": "markdown",
   "metadata": {},
   "source": [
    "# 6. Post-hoc analysis examples"
   ]
  },
  {
   "cell_type": "code",
   "execution_count": 33,
   "metadata": {},
   "outputs": [],
   "source": [
    "analysis_df = combined_df[combined_df['area_incorporated_chr']>100]"
   ]
  },
  {
   "cell_type": "code",
   "execution_count": 17,
   "metadata": {},
   "outputs": [
    {
     "ename": "NameError",
     "evalue": "name 'measurement_for_all_fov_df' is not defined",
     "output_type": "error",
     "traceback": [
      "\u001b[1;31m---------------------------------------------------------------------------\u001b[0m",
      "\u001b[1;31mNameError\u001b[0m                                 Traceback (most recent call last)",
      "\u001b[1;32m~\\AppData\\Local\\Temp/ipykernel_50740/1347287242.py\u001b[0m in \u001b[0;36m<module>\u001b[1;34m\u001b[0m\n\u001b[0;32m      1\u001b[0m \u001b[1;31m# save normalized Pol2\u001b[0m\u001b[1;33m\u001b[0m\u001b[1;33m\u001b[0m\u001b[1;33m\u001b[0m\u001b[0m\n\u001b[0;32m      2\u001b[0m \u001b[1;33m\u001b[0m\u001b[0m\n\u001b[1;32m----> 3\u001b[1;33m \u001b[0manalysis_df\u001b[0m\u001b[1;33m=\u001b[0m\u001b[0mmeasurement_for_all_fov_df\u001b[0m\u001b[1;33m.\u001b[0m\u001b[0mcopy\u001b[0m\u001b[1;33m(\u001b[0m\u001b[1;33m)\u001b[0m\u001b[1;33m\u001b[0m\u001b[1;33m\u001b[0m\u001b[0m\n\u001b[0m\u001b[0;32m      4\u001b[0m \u001b[1;33m\u001b[0m\u001b[0m\n\u001b[0;32m      5\u001b[0m \u001b[1;31m# for total incorporated chr\u001b[0m\u001b[1;33m\u001b[0m\u001b[1;33m\u001b[0m\u001b[1;33m\u001b[0m\u001b[0m\n",
      "\u001b[1;31mNameError\u001b[0m: name 'measurement_for_all_fov_df' is not defined"
     ]
    }
   ],
   "source": [
    "# save normalized Pol2\n",
    "\n",
    "analysis_df=measurement_for_all_fov_df.copy()\n",
    "\n",
    "# for total incorporated chr\n",
    "analysis_df['normalized_inc_Pol2S5']=analysis_df['ave_intensity_incorporated_chr_Pol2S5']/analysis_df['ave_intensity_nucleo-excluded_control_chr_Pol2S5']\n",
    "print(analysis_df['normalized_inc_Pol2S5'].mean())\n",
    "\n",
    "# for h2ax-positive area with incorporated chr\n",
    "analysis_df['normalized_inc_h2ax_pos_Pol2S5']=analysis_df['ave_intensity_h2ax_pos_incorporated_chr_Pol2S5']/analysis_df['ave_intensity_nucleo-excluded_control_chr_Pol2S5']\n",
    "print(analysis_df['normalized_inc_h2ax_pos_Pol2S5'].mean())\n",
    "\n",
    "# for h2ax-less (positive) area with incorporated chr\n",
    "analysis_df['normalized_inc_h2ax_less_Pol2S5']=analysis_df['ave_intensity_h2ax_less_incorporated_chr_Pol2S5']/analysis_df['ave_intensity_nucleo-excluded_control_chr_Pol2S5']\n",
    "print(analysis_df['normalized_inc_h2ax_less_Pol2S5'].mean())\n",
    "\n",
    "# for nucleoli\n",
    "analysis_df['normalized_nucleoli_Pol2S5']=analysis_df['ave_intensity_nucleolus_Pol2S5']/analysis_df['ave_intensity_nucleo-excluded_control_chr_Pol2S5']\n",
    "print(analysis_df['normalized_nucleoli_Pol2S5'].mean())\n",
    "\n",
    "# get the h2ax-positive area vs h2ax-less (positive) area for the same cell\n",
    "analysis_df['H2ax_pos_less_ratio_Pol2S5'] = analysis_df['ave_intensity_h2ax_pos_incorporated_chr_Pol2S5']/analysis_df['ave_intensity_h2ax_less_incorporated_chr_Pol2S5']\n",
    "#analysis_df\n",
    "\n",
    "# save the analyzed df\n",
    "analysis_savename = f'measurement_for_all_fov_background_subtracted_{small_53BP_size}_crop_Pol2_analyzed.xlsx'\n",
    "#analysis_save_path = data_save_folder[:-2] + os.sep + 'analysis' + os.sep + f'{data_name}' \n",
    "analysis_save_path = data_save_folder[:-2] + os.sep + 'analysis' + os.sep + data_name.split('_')[0]\n",
    "\n",
    "analysis_df.to_excel(analysis_save_path+os.sep+analysis_savename)"
   ]
  },
  {
   "cell_type": "code",
   "execution_count": null,
   "metadata": {},
   "outputs": [],
   "source": []
  },
  {
   "cell_type": "code",
   "execution_count": null,
   "metadata": {},
   "outputs": [],
   "source": []
  },
  {
   "cell_type": "code",
   "execution_count": 18,
   "metadata": {},
   "outputs": [
    {
     "name": "stderr",
     "output_type": "stream",
     "text": [
      "c:\\programdata\\anaconda3\\lib\\site-packages\\matplotlib\\cbook\\__init__.py:1449: VisibleDeprecationWarning: Creating an ndarray from ragged nested sequences (which is a list-or-tuple of lists-or-tuples-or ndarrays with different lengths or shapes) is deprecated. If you meant to do this, you must specify 'dtype=object' when creating the ndarray.\n",
      "  X = np.atleast_1d(X.T if isinstance(X, np.ndarray) else np.asarray(X))\n"
     ]
    },
    {
     "data": {
      "text/plain": [
       "<matplotlib.axes._subplots.AxesSubplot at 0x22112fd6fc8>"
      ]
     },
     "execution_count": 18,
     "metadata": {},
     "output_type": "execute_result"
    },
    {
     "data": {
      "image/png": "[encoded data removed]",
      "text/plain": [
       "<Figure size 432x288 with 1 Axes>"
      ]
     },
     "metadata": {
      "needs_background": "light"
     },
     "output_type": "display_data"
    }
   ],
   "source": [
    "plt.figure();\n",
    "from matplotlib.pyplot import figure\n",
    "\n",
    "#figure(figsize=(6, 4), dpi=180)\n",
    "\n",
    "analysis_df.boxplot(column=['normalized_inc_Pol2S5','normalized_inc_h2ax_pos_Pol2S5',\n",
    "                                      'normalized_inc_h2ax_less_Pol2S5', 'normalized_nucleoli_Pol2S5'],rot=60)"
   ]
  },
  {
   "cell_type": "code",
   "execution_count": 33,
   "metadata": {},
   "outputs": [],
   "source": [
    "#analysis_df"
   ]
  },
  {
   "cell_type": "code",
   "execution_count": 19,
   "metadata": {},
   "outputs": [
    {
     "name": "stdout",
     "output_type": "stream",
     "text": [
      "0.08316994324925697\n"
     ]
    }
   ],
   "source": [
    "from scipy.stats import mannwhitneyu\n",
    "U1, p1 = mannwhitneyu(analysis_df['normalized_inc_h2ax_pos_Pol2S5'], analysis_df['normalized_inc_h2ax_less_Pol2S5'])\n",
    "\n",
    "\n",
    "\n",
    "from scipy.stats import kruskal\n",
    "\n",
    "\n",
    "print(p1)\n"
   ]
  },
  {
   "cell_type": "code",
   "execution_count": 20,
   "metadata": {
    "scrolled": false
   },
   "outputs": [
    {
     "data": {
      "text/html": [
       "<div>\n",
       "<style scoped>\n",
       "    .dataframe tbody tr th:only-of-type {\n",
       "        vertical-align: middle;\n",
       "    }\n",
       "\n",
       "    .dataframe tbody tr th {\n",
       "        vertical-align: top;\n",
       "    }\n",
       "\n",
       "    .dataframe thead th {\n",
       "        text-align: right;\n",
       "    }\n",
       "</style>\n",
       "<table border=\"1\" class=\"dataframe\">\n",
       "  <thead>\n",
       "    <tr style=\"text-align: right;\">\n",
       "      <th></th>\n",
       "      <th>Unnamed: 0</th>\n",
       "      <th>exp_name</th>\n",
       "      <th>position_id</th>\n",
       "      <th>cell_id</th>\n",
       "      <th>cell_xyz_coord</th>\n",
       "      <th>area_incorporated_chr</th>\n",
       "      <th>area_h2ax_within_incorporated_chr</th>\n",
       "      <th>area_less_h2ax_within_incorporated_chr</th>\n",
       "      <th>area_control_chr</th>\n",
       "      <th>area_nucleo-excluded_control_chr</th>\n",
       "      <th>...</th>\n",
       "      <th>ave_intensity_nucleolus_Pol2S5</th>\n",
       "      <th>ave_intensity_h2ax_pos_incorporated_chr_Pol2S5</th>\n",
       "      <th>ave_intensity_h2ax_less_incorporated_chr_Pol2S5</th>\n",
       "      <th>normalized_inc_Pol2S5</th>\n",
       "      <th>normalized_inc_h2ax_pos_Pol2S5</th>\n",
       "      <th>normalized_inc_h2ax_less_Pol2S5</th>\n",
       "      <th>normalized_nucleoli_Pol2S5</th>\n",
       "      <th>H2ax_pos_less_ratio_Pol2S5</th>\n",
       "      <th>h2ax_damage_level</th>\n",
       "      <th>normalized_inc_H2ax</th>\n",
       "    </tr>\n",
       "  </thead>\n",
       "  <tbody>\n",
       "    <tr>\n",
       "      <th>1</th>\n",
       "      <td>0</td>\n",
       "      <td>well10_doxPlusAID</td>\n",
       "      <td>well10_m6T-488 H2AX-568 RNApol647_.nd2_Pos2</td>\n",
       "      <td>1</td>\n",
       "      <td>[[1070, 1000], 6]</td>\n",
       "      <td>449</td>\n",
       "      <td>350</td>\n",
       "      <td>99</td>\n",
       "      <td>11032</td>\n",
       "      <td>3465</td>\n",
       "      <td>...</td>\n",
       "      <td>174.535459</td>\n",
       "      <td>701.355083</td>\n",
       "      <td>906.264174</td>\n",
       "      <td>1.008916</td>\n",
       "      <td>0.967799</td>\n",
       "      <td>1.250552</td>\n",
       "      <td>0.240841</td>\n",
       "      <td>0.773897</td>\n",
       "      <td>0.779510</td>\n",
       "      <td>4.558561</td>\n",
       "    </tr>\n",
       "    <tr>\n",
       "      <th>3</th>\n",
       "      <td>0</td>\n",
       "      <td>well12_doxPlusAID</td>\n",
       "      <td>well12_m6T-488 H2AX-568 RNApol647_.nd2_Pos1</td>\n",
       "      <td>1</td>\n",
       "      <td>[[1100, 1060], 7]</td>\n",
       "      <td>354</td>\n",
       "      <td>177</td>\n",
       "      <td>177</td>\n",
       "      <td>11126</td>\n",
       "      <td>3277</td>\n",
       "      <td>...</td>\n",
       "      <td>150.243436</td>\n",
       "      <td>440.108927</td>\n",
       "      <td>362.570317</td>\n",
       "      <td>0.742584</td>\n",
       "      <td>0.790473</td>\n",
       "      <td>0.651207</td>\n",
       "      <td>0.269850</td>\n",
       "      <td>1.213858</td>\n",
       "      <td>0.500000</td>\n",
       "      <td>2.471123</td>\n",
       "    </tr>\n",
       "    <tr>\n",
       "      <th>10</th>\n",
       "      <td>0</td>\n",
       "      <td>well3_doxPlusAID</td>\n",
       "      <td>well3_m6T-488 H2AX-568 RNApol647_002.nd2_Pos1</td>\n",
       "      <td>1</td>\n",
       "      <td>[[1040, 930], 7]</td>\n",
       "      <td>254</td>\n",
       "      <td>128</td>\n",
       "      <td>126</td>\n",
       "      <td>9174</td>\n",
       "      <td>2565</td>\n",
       "      <td>...</td>\n",
       "      <td>118.686432</td>\n",
       "      <td>357.481333</td>\n",
       "      <td>94.100252</td>\n",
       "      <td>0.590692</td>\n",
       "      <td>0.820576</td>\n",
       "      <td>0.216001</td>\n",
       "      <td>0.272437</td>\n",
       "      <td>3.798941</td>\n",
       "      <td>0.503937</td>\n",
       "      <td>10.963692</td>\n",
       "    </tr>\n",
       "    <tr>\n",
       "      <th>16</th>\n",
       "      <td>0</td>\n",
       "      <td>well3_doxPlusAID</td>\n",
       "      <td>well3_m6T-488 H2AX-568 RNApol647_007.nd2_Pos6</td>\n",
       "      <td>1</td>\n",
       "      <td>[[1140, 1088], 7]</td>\n",
       "      <td>355</td>\n",
       "      <td>260</td>\n",
       "      <td>95</td>\n",
       "      <td>14676</td>\n",
       "      <td>3929</td>\n",
       "      <td>...</td>\n",
       "      <td>76.362643</td>\n",
       "      <td>186.380280</td>\n",
       "      <td>185.502373</td>\n",
       "      <td>0.787367</td>\n",
       "      <td>0.730166</td>\n",
       "      <td>0.726726</td>\n",
       "      <td>0.299159</td>\n",
       "      <td>1.004733</td>\n",
       "      <td>0.732394</td>\n",
       "      <td>5.176363</td>\n",
       "    </tr>\n",
       "    <tr>\n",
       "      <th>19</th>\n",
       "      <td>0</td>\n",
       "      <td>well3_doxPlusAID</td>\n",
       "      <td>well3_m6T-488 H2AX-568 RNApol647_007.nd2_Pos9</td>\n",
       "      <td>1</td>\n",
       "      <td>[[990, 1185], 6]</td>\n",
       "      <td>224</td>\n",
       "      <td>130</td>\n",
       "      <td>94</td>\n",
       "      <td>12850</td>\n",
       "      <td>3599</td>\n",
       "      <td>...</td>\n",
       "      <td>69.184599</td>\n",
       "      <td>120.509437</td>\n",
       "      <td>122.602770</td>\n",
       "      <td>0.452889</td>\n",
       "      <td>0.417304</td>\n",
       "      <td>0.424553</td>\n",
       "      <td>0.239575</td>\n",
       "      <td>0.982926</td>\n",
       "      <td>0.580357</td>\n",
       "      <td>2.880302</td>\n",
       "    </tr>\n",
       "    <tr>\n",
       "      <th>...</th>\n",
       "      <td>...</td>\n",
       "      <td>...</td>\n",
       "      <td>...</td>\n",
       "      <td>...</td>\n",
       "      <td>...</td>\n",
       "      <td>...</td>\n",
       "      <td>...</td>\n",
       "      <td>...</td>\n",
       "      <td>...</td>\n",
       "      <td>...</td>\n",
       "      <td>...</td>\n",
       "      <td>...</td>\n",
       "      <td>...</td>\n",
       "      <td>...</td>\n",
       "      <td>...</td>\n",
       "      <td>...</td>\n",
       "      <td>...</td>\n",
       "      <td>...</td>\n",
       "      <td>...</td>\n",
       "      <td>...</td>\n",
       "      <td>...</td>\n",
       "    </tr>\n",
       "    <tr>\n",
       "      <th>7</th>\n",
       "      <td>0</td>\n",
       "      <td>well5_doxPlusAID</td>\n",
       "      <td>well5_m6T-488 H2AX-568 RNApol647_.nd2_Pos7</td>\n",
       "      <td>1</td>\n",
       "      <td>[[1060, 970], 7]</td>\n",
       "      <td>323</td>\n",
       "      <td>224</td>\n",
       "      <td>99</td>\n",
       "      <td>10046</td>\n",
       "      <td>2849</td>\n",
       "      <td>...</td>\n",
       "      <td>137.906793</td>\n",
       "      <td>744.029807</td>\n",
       "      <td>1078.381799</td>\n",
       "      <td>1.172179</td>\n",
       "      <td>1.044578</td>\n",
       "      <td>1.513990</td>\n",
       "      <td>0.193614</td>\n",
       "      <td>0.689950</td>\n",
       "      <td>NaN</td>\n",
       "      <td>NaN</td>\n",
       "    </tr>\n",
       "    <tr>\n",
       "      <th>10</th>\n",
       "      <td>0</td>\n",
       "      <td>well5_doxPlusAID</td>\n",
       "      <td>well5_m6T-488 H2AX-568 RNApol647_.nd2_Pos10</td>\n",
       "      <td>1</td>\n",
       "      <td>[[1020, 950], 5]</td>\n",
       "      <td>230</td>\n",
       "      <td>135</td>\n",
       "      <td>95</td>\n",
       "      <td>7282</td>\n",
       "      <td>2457</td>\n",
       "      <td>...</td>\n",
       "      <td>239.289717</td>\n",
       "      <td>560.827365</td>\n",
       "      <td>362.083775</td>\n",
       "      <td>0.707476</td>\n",
       "      <td>0.742384</td>\n",
       "      <td>0.479301</td>\n",
       "      <td>0.316755</td>\n",
       "      <td>1.548888</td>\n",
       "      <td>NaN</td>\n",
       "      <td>NaN</td>\n",
       "    </tr>\n",
       "    <tr>\n",
       "      <th>1</th>\n",
       "      <td>0</td>\n",
       "      <td>well6_doxPlusAID</td>\n",
       "      <td>well6_m6T-488 H2AX-568 RNApol647_.nd2_Pos2</td>\n",
       "      <td>1</td>\n",
       "      <td>[[1000, 910], 7]</td>\n",
       "      <td>461</td>\n",
       "      <td>278</td>\n",
       "      <td>183</td>\n",
       "      <td>11820</td>\n",
       "      <td>3396</td>\n",
       "      <td>...</td>\n",
       "      <td>128.788550</td>\n",
       "      <td>540.240399</td>\n",
       "      <td>517.472161</td>\n",
       "      <td>0.862039</td>\n",
       "      <td>0.926371</td>\n",
       "      <td>0.887329</td>\n",
       "      <td>0.220839</td>\n",
       "      <td>1.043999</td>\n",
       "      <td>NaN</td>\n",
       "      <td>NaN</td>\n",
       "    </tr>\n",
       "    <tr>\n",
       "      <th>2</th>\n",
       "      <td>0</td>\n",
       "      <td>well6_doxPlusAID</td>\n",
       "      <td>well6_m6T-488 H2AX-568 RNApol647_.nd2_Pos3</td>\n",
       "      <td>1</td>\n",
       "      <td>[[1040, 980], 7]</td>\n",
       "      <td>545</td>\n",
       "      <td>392</td>\n",
       "      <td>153</td>\n",
       "      <td>23138</td>\n",
       "      <td>4560</td>\n",
       "      <td>...</td>\n",
       "      <td>31.567126</td>\n",
       "      <td>260.927756</td>\n",
       "      <td>27.547086</td>\n",
       "      <td>0.342883</td>\n",
       "      <td>0.405955</td>\n",
       "      <td>0.042858</td>\n",
       "      <td>0.049113</td>\n",
       "      <td>9.472064</td>\n",
       "      <td>NaN</td>\n",
       "      <td>NaN</td>\n",
       "    </tr>\n",
       "    <tr>\n",
       "      <th>2</th>\n",
       "      <td>0</td>\n",
       "      <td>well7_doxPlusAID</td>\n",
       "      <td>well7_m6T-488 H2AX-568 RNApol647_001.nd2_Pos2</td>\n",
       "      <td>1</td>\n",
       "      <td>[[1060, 970], 6]</td>\n",
       "      <td>273</td>\n",
       "      <td>104</td>\n",
       "      <td>169</td>\n",
       "      <td>10588</td>\n",
       "      <td>3267</td>\n",
       "      <td>...</td>\n",
       "      <td>271.969503</td>\n",
       "      <td>517.796715</td>\n",
       "      <td>796.694075</td>\n",
       "      <td>0.651599</td>\n",
       "      <td>0.523223</td>\n",
       "      <td>0.805043</td>\n",
       "      <td>0.274819</td>\n",
       "      <td>0.649932</td>\n",
       "      <td>NaN</td>\n",
       "      <td>NaN</td>\n",
       "    </tr>\n",
       "  </tbody>\n",
       "</table>\n",
       "<p>182 rows × 42 columns</p>\n",
       "</div>"
      ],
      "text/plain": [
       "    Unnamed: 0           exp_name  \\\n",
       "1            0  well10_doxPlusAID   \n",
       "3            0  well12_doxPlusAID   \n",
       "10           0   well3_doxPlusAID   \n",
       "16           0   well3_doxPlusAID   \n",
       "19           0   well3_doxPlusAID   \n",
       "..         ...                ...   \n",
       "7            0   well5_doxPlusAID   \n",
       "10           0   well5_doxPlusAID   \n",
       "1            0   well6_doxPlusAID   \n",
       "2            0   well6_doxPlusAID   \n",
       "2            0   well7_doxPlusAID   \n",
       "\n",
       "                                      position_id  cell_id     cell_xyz_coord  \\\n",
       "1     well10_m6T-488 H2AX-568 RNApol647_.nd2_Pos2        1  [[1070, 1000], 6]   \n",
       "3     well12_m6T-488 H2AX-568 RNApol647_.nd2_Pos1        1  [[1100, 1060], 7]   \n",
       "10  well3_m6T-488 H2AX-568 RNApol647_002.nd2_Pos1        1   [[1040, 930], 7]   \n",
       "16  well3_m6T-488 H2AX-568 RNApol647_007.nd2_Pos6        1  [[1140, 1088], 7]   \n",
       "19  well3_m6T-488 H2AX-568 RNApol647_007.nd2_Pos9        1   [[990, 1185], 6]   \n",
       "..                                            ...      ...                ...   \n",
       "7      well5_m6T-488 H2AX-568 RNApol647_.nd2_Pos7        1   [[1060, 970], 7]   \n",
       "10    well5_m6T-488 H2AX-568 RNApol647_.nd2_Pos10        1   [[1020, 950], 5]   \n",
       "1      well6_m6T-488 H2AX-568 RNApol647_.nd2_Pos2        1   [[1000, 910], 7]   \n",
       "2      well6_m6T-488 H2AX-568 RNApol647_.nd2_Pos3        1   [[1040, 980], 7]   \n",
       "2   well7_m6T-488 H2AX-568 RNApol647_001.nd2_Pos2        1   [[1060, 970], 6]   \n",
       "\n",
       "    area_incorporated_chr  area_h2ax_within_incorporated_chr  \\\n",
       "1                     449                                350   \n",
       "3                     354                                177   \n",
       "10                    254                                128   \n",
       "16                    355                                260   \n",
       "19                    224                                130   \n",
       "..                    ...                                ...   \n",
       "7                     323                                224   \n",
       "10                    230                                135   \n",
       "1                     461                                278   \n",
       "2                     545                                392   \n",
       "2                     273                                104   \n",
       "\n",
       "    area_less_h2ax_within_incorporated_chr  area_control_chr  \\\n",
       "1                                       99             11032   \n",
       "3                                      177             11126   \n",
       "10                                     126              9174   \n",
       "16                                      95             14676   \n",
       "19                                      94             12850   \n",
       "..                                     ...               ...   \n",
       "7                                       99             10046   \n",
       "10                                      95              7282   \n",
       "1                                      183             11820   \n",
       "2                                      153             23138   \n",
       "2                                      169             10588   \n",
       "\n",
       "    area_nucleo-excluded_control_chr  ...  ave_intensity_nucleolus_Pol2S5  \\\n",
       "1                               3465  ...                      174.535459   \n",
       "3                               3277  ...                      150.243436   \n",
       "10                              2565  ...                      118.686432   \n",
       "16                              3929  ...                       76.362643   \n",
       "19                              3599  ...                       69.184599   \n",
       "..                               ...  ...                             ...   \n",
       "7                               2849  ...                      137.906793   \n",
       "10                              2457  ...                      239.289717   \n",
       "1                               3396  ...                      128.788550   \n",
       "2                               4560  ...                       31.567126   \n",
       "2                               3267  ...                      271.969503   \n",
       "\n",
       "    ave_intensity_h2ax_pos_incorporated_chr_Pol2S5  \\\n",
       "1                                       701.355083   \n",
       "3                                       440.108927   \n",
       "10                                      357.481333   \n",
       "16                                      186.380280   \n",
       "19                                      120.509437   \n",
       "..                                             ...   \n",
       "7                                       744.029807   \n",
       "10                                      560.827365   \n",
       "1                                       540.240399   \n",
       "2                                       260.927756   \n",
       "2                                       517.796715   \n",
       "\n",
       "    ave_intensity_h2ax_less_incorporated_chr_Pol2S5  normalized_inc_Pol2S5  \\\n",
       "1                                        906.264174               1.008916   \n",
       "3                                        362.570317               0.742584   \n",
       "10                                        94.100252               0.590692   \n",
       "16                                       185.502373               0.787367   \n",
       "19                                       122.602770               0.452889   \n",
       "..                                              ...                    ...   \n",
       "7                                       1078.381799               1.172179   \n",
       "10                                       362.083775               0.707476   \n",
       "1                                        517.472161               0.862039   \n",
       "2                                         27.547086               0.342883   \n",
       "2                                        796.694075               0.651599   \n",
       "\n",
       "    normalized_inc_h2ax_pos_Pol2S5  normalized_inc_h2ax_less_Pol2S5  \\\n",
       "1                         0.967799                         1.250552   \n",
       "3                         0.790473                         0.651207   \n",
       "10                        0.820576                         0.216001   \n",
       "16                        0.730166                         0.726726   \n",
       "19                        0.417304                         0.424553   \n",
       "..                             ...                              ...   \n",
       "7                         1.044578                         1.513990   \n",
       "10                        0.742384                         0.479301   \n",
       "1                         0.926371                         0.887329   \n",
       "2                         0.405955                         0.042858   \n",
       "2                         0.523223                         0.805043   \n",
       "\n",
       "    normalized_nucleoli_Pol2S5  H2ax_pos_less_ratio_Pol2S5  h2ax_damage_level  \\\n",
       "1                     0.240841                    0.773897           0.779510   \n",
       "3                     0.269850                    1.213858           0.500000   \n",
       "10                    0.272437                    3.798941           0.503937   \n",
       "16                    0.299159                    1.004733           0.732394   \n",
       "19                    0.239575                    0.982926           0.580357   \n",
       "..                         ...                         ...                ...   \n",
       "7                     0.193614                    0.689950                NaN   \n",
       "10                    0.316755                    1.548888                NaN   \n",
       "1                     0.220839                    1.043999                NaN   \n",
       "2                     0.049113                    9.472064                NaN   \n",
       "2                     0.274819                    0.649932                NaN   \n",
       "\n",
       "    normalized_inc_H2ax  \n",
       "1              4.558561  \n",
       "3              2.471123  \n",
       "10            10.963692  \n",
       "16             5.176363  \n",
       "19             2.880302  \n",
       "..                  ...  \n",
       "7                   NaN  \n",
       "10                  NaN  \n",
       "1                   NaN  \n",
       "2                   NaN  \n",
       "2                   NaN  \n",
       "\n",
       "[182 rows x 42 columns]"
      ]
     },
     "execution_count": 20,
     "metadata": {},
     "output_type": "execute_result"
    }
   ],
   "source": [
    "analysis_df[analysis_df['H2ax_pos_less_ratio_Pol2S5']>0]"
   ]
  },
  {
   "cell_type": "code",
   "execution_count": 35,
   "metadata": {},
   "outputs": [],
   "source": [
    "same_cell_example_df=analysis_df[analysis_df['H2ax_pos_less_ratio_Pol2S5']>0]\n",
    "\n",
    "same_cell_example_df.to_excel(analysis_save_path+os.sep+\"examples_with_both_damaged_positive_and_less_areas.xlsx\")"
   ]
  },
  {
   "cell_type": "code",
   "execution_count": 36,
   "metadata": {},
   "outputs": [
    {
     "data": {
      "image/png": "[encoded data removed]",
      "text/plain": [
       "<Figure size 432x288 with 1 Axes>"
      ]
     },
     "metadata": {
      "needs_background": "light"
     },
     "output_type": "display_data"
    }
   ],
   "source": [
    "pos_neg_ratio = same_cell_example_df['H2ax_pos_less_ratio_Pol2S5']\n",
    "boxplot_same_foci= plt.boxplot(pos_neg_ratio)"
   ]
  },
  {
   "cell_type": "code",
   "execution_count": null,
   "metadata": {},
   "outputs": [],
   "source": []
  },
  {
   "cell_type": "code",
   "execution_count": 40,
   "metadata": {},
   "outputs": [
    {
     "name": "stderr",
     "output_type": "stream",
     "text": [
      "C:\\Users\\Shiwei\\AppData\\Roaming\\Python\\Python37\\site-packages\\ipykernel_launcher.py:1: SettingWithCopyWarning: \n",
      "A value is trying to be set on a copy of a slice from a DataFrame.\n",
      "Try using .loc[row_indexer,col_indexer] = value instead\n",
      "\n",
      "See the caveats in the documentation: https://pandas.pydata.org/pandas-docs/stable/user_guide/indexing.html#returning-a-view-versus-a-copy\n",
      "  \"\"\"Entry point for launching an IPython kernel.\n"
     ]
    }
   ],
   "source": [
    "analysis_df['h2ax_damage_level']=analysis_df['area_h2ax_within_incorporated_chr']/analysis_df['area_incorporated_chr']\n",
    "\n",
    "damaged_chr_df = analysis_df[analysis_df['h2ax_damage_level']>=0.5]\n",
    "\n",
    "partial_damaged_chr_df = analysis_df[analysis_df['h2ax_damage_level']<0.5]\n",
    "\n",
    "med_damaged_chr_df = partial_damaged_chr_df[partial_damaged_chr_df['h2ax_damage_level']>=0.1]\n",
    "\n",
    "no_damaged_chr_df = partial_damaged_chr_df[partial_damaged_chr_df['h2ax_damage_level']<0.1]"
   ]
  },
  {
   "cell_type": "code",
   "execution_count": null,
   "metadata": {},
   "outputs": [],
   "source": []
  },
  {
   "cell_type": "code",
   "execution_count": 21,
   "metadata": {},
   "outputs": [
    {
     "name": "stderr",
     "output_type": "stream",
     "text": [
      "C:\\Users\\Shiwei\\AppData\\Roaming\\Python\\Python37\\site-packages\\ipykernel_launcher.py:1: SettingWithCopyWarning: \n",
      "A value is trying to be set on a copy of a slice from a DataFrame.\n",
      "Try using .loc[row_indexer,col_indexer] = value instead\n",
      "\n",
      "See the caveats in the documentation: https://pandas.pydata.org/pandas-docs/stable/user_guide/indexing.html#returning-a-view-versus-a-copy\n",
      "  \"\"\"Entry point for launching an IPython kernel.\n"
     ]
    },
    {
     "data": {
      "text/plain": [
       "<matplotlib.axes._subplots.AxesSubplot at 0x22112c33748>"
      ]
     },
     "execution_count": 21,
     "metadata": {},
     "output_type": "execute_result"
    },
    {
     "data": {
      "image/png": "[encoded data removed]",
      "text/plain": [
       "<Figure size 432x288 with 1 Axes>"
      ]
     },
     "metadata": {
      "needs_background": "light"
     },
     "output_type": "display_data"
    }
   ],
   "source": [
    "analysis_df['normalized_inc_H2ax'] = analysis_df['ave_intensity_incorporated_chr_H2ax']/analysis_df['ave_intensity_nucleo-excluded_control_chr_H2ax']\n",
    "#analysis_df\n",
    "\n",
    "\n",
    "analysis_df.plot.scatter(x='normalized_inc_H2ax',y='area_incorporated_chr',c='DarkBlue')"
   ]
  },
  {
   "cell_type": "code",
   "execution_count": 22,
   "metadata": {},
   "outputs": [
    {
     "data": {
      "text/plain": [
       "<matplotlib.axes._subplots.AxesSubplot at 0x22113208548>"
      ]
     },
     "execution_count": 22,
     "metadata": {},
     "output_type": "execute_result"
    },
    {
     "data": {
      "image/png": "[encoded data removed]",
      "text/plain": [
       "<Figure size 432x288 with 1 Axes>"
      ]
     },
     "metadata": {
      "needs_background": "light"
     },
     "output_type": "display_data"
    }
   ],
   "source": [
    "analysis_df.plot.scatter(x='normalized_inc_H2ax',y='normalized_inc_Pol2S5',c='DarkBlue')"
   ]
  },
  {
   "cell_type": "code",
   "execution_count": 27,
   "metadata": {},
   "outputs": [
    {
     "data": {
      "text/plain": [
       "<matplotlib.axes._subplots.AxesSubplot at 0x2211432db88>"
      ]
     },
     "execution_count": 27,
     "metadata": {},
     "output_type": "execute_result"
    },
    {
     "data": {
      "image/png": "[encoded data removed]",
      "text/plain": [
       "<Figure size 432x288 with 1 Axes>"
      ]
     },
     "metadata": {
      "needs_background": "light"
     },
     "output_type": "display_data"
    }
   ],
   "source": [
    "analysis_df.plot.scatter(x='h2ax_damage_level',y='area_incorporated_chr',c='DarkBlue')"
   ]
  },
  {
   "cell_type": "code",
   "execution_count": 46,
   "metadata": {},
   "outputs": [
    {
     "data": {
      "text/plain": [
       "<matplotlib.axes._subplots.AxesSubplot at 0x22112d7ae88>"
      ]
     },
     "execution_count": 46,
     "metadata": {},
     "output_type": "execute_result"
    },
    {
     "data": {
      "image/png": "[encoded data removed]",
      "text/plain": [
       "<Figure size 432x288 with 1 Axes>"
      ]
     },
     "metadata": {
      "needs_background": "light"
     },
     "output_type": "display_data"
    }
   ],
   "source": [
    "analysis_df.plot.scatter(x='h2ax_damage_level',y='normalized_inc_Pol2S5',c='DarkBlue')"
   ]
  },
  {
   "cell_type": "code",
   "execution_count": 41,
   "metadata": {},
   "outputs": [
    {
     "name": "stdout",
     "output_type": "stream",
     "text": [
      "0.6855742384213158\n",
      "344.3422459893048\n",
      "0.6853090489589969\n",
      "360.0344827586207\n",
      "0.7969970869874697\n",
      "301.7\n"
     ]
    }
   ],
   "source": [
    "print(damaged_chr_df['normalized_inc_Pol2S5'].mean())\n",
    "print(damaged_chr_df['area_incorporated_chr'].mean())\n",
    "\n",
    "\n",
    "\n",
    "print(med_damaged_chr_df['normalized_inc_Pol2S5'].mean())\n",
    "print(med_damaged_chr_df['area_incorporated_chr'].mean())\n",
    "\n",
    "\n",
    "\n",
    "print(no_damaged_chr_df['normalized_inc_Pol2S5'].mean())\n",
    "print(no_damaged_chr_df['area_incorporated_chr'].mean())\n",
    "\n",
    "#len(damaged_chr_df)\n",
    "#len(med_damaged_chr_df)\n",
    "#len(no_damaged_chr_df)\n",
    "\n",
    "#len(analysis_df)\n",
    "\n",
    "#no_damaged_chr_df['area_incorporated_chr'].mean()\n",
    "#damaged_chr_df['area_incorporated_chr'].mean()\n",
    "\n",
    "#analysis_df['area_h2ax_within_incorporated_chr'].mean()\n",
    "\n",
    "#analysis_df['area_non_h2ax_within_incorporated_chr'].mean()"
   ]
  },
  {
   "cell_type": "code",
   "execution_count": 42,
   "metadata": {},
   "outputs": [
    {
     "name": "stderr",
     "output_type": "stream",
     "text": [
      "c:\\programdata\\anaconda3\\lib\\site-packages\\matplotlib\\cbook\\__init__.py:1449: VisibleDeprecationWarning: Creating an ndarray from ragged nested sequences (which is a list-or-tuple of lists-or-tuples-or ndarrays with different lengths or shapes) is deprecated. If you meant to do this, you must specify 'dtype=object' when creating the ndarray.\n",
      "  X = np.atleast_1d(X.T if isinstance(X, np.ndarray) else np.asarray(X))\n"
     ]
    },
    {
     "data": {
      "image/png": "[encoded data removed]",
      "text/plain": [
       "<Figure size 432x288 with 1 Axes>"
      ]
     },
     "metadata": {
      "needs_background": "light"
     },
     "output_type": "display_data"
    }
   ],
   "source": [
    "boxplot_pol2= plt.boxplot([damaged_chr_df['normalized_inc_Pol2S5'],med_damaged_chr_df['normalized_inc_Pol2S5'],no_damaged_chr_df['normalized_inc_Pol2S5']])"
   ]
  },
  {
   "cell_type": "code",
   "execution_count": 43,
   "metadata": {},
   "outputs": [
    {
     "name": "stdout",
     "output_type": "stream",
     "text": [
      "3.1805435464079324e-05\n",
      "0.39339951227909875\n",
      "0.0004273002144273073\n",
      "KruskalResult(statistic=16.929129882501684, pvalue=0.00021080754678483096)\n"
     ]
    }
   ],
   "source": [
    "from scipy.stats import mannwhitneyu\n",
    "U1, p1 = mannwhitneyu(damaged_chr_df['normalized_inc_Pol2S5'], no_damaged_chr_df['normalized_inc_Pol2S5'])\n",
    "\n",
    "U2, p2 = mannwhitneyu(damaged_chr_df['normalized_inc_Pol2S5'], med_damaged_chr_df['normalized_inc_Pol2S5'])\n",
    "\n",
    "U3, p3 = mannwhitneyu(med_damaged_chr_df['normalized_inc_Pol2S5'], no_damaged_chr_df['normalized_inc_Pol2S5'])\n",
    "\n",
    "from scipy.stats import kruskal\n",
    "p4 = kruskal(damaged_chr_df['normalized_inc_Pol2S5'],med_damaged_chr_df['normalized_inc_Pol2S5'],no_damaged_chr_df['normalized_inc_Pol2S5'])\n",
    "\n",
    "\n",
    "print(p1)\n",
    "\n",
    "print(p2)\n",
    "\n",
    "print(p3)\n",
    "\n",
    "print(p4)"
   ]
  },
  {
   "cell_type": "code",
   "execution_count": 45,
   "metadata": {
    "scrolled": true
   },
   "outputs": [
    {
     "name": "stderr",
     "output_type": "stream",
     "text": [
      "c:\\programdata\\anaconda3\\lib\\site-packages\\matplotlib\\cbook\\__init__.py:1449: VisibleDeprecationWarning: Creating an ndarray from ragged nested sequences (which is a list-or-tuple of lists-or-tuples-or ndarrays with different lengths or shapes) is deprecated. If you meant to do this, you must specify 'dtype=object' when creating the ndarray.\n",
      "  X = np.atleast_1d(X.T if isinstance(X, np.ndarray) else np.asarray(X))\n"
     ]
    },
    {
     "data": {
      "image/png": "[encoded data removed]",
      "text/plain": [
       "<Figure size 432x288 with 1 Axes>"
      ]
     },
     "metadata": {
      "needs_background": "light"
     },
     "output_type": "display_data"
    }
   ],
   "source": [
    "boxplot_size= plt.boxplot([damaged_chr_df['area_incorporated_chr'],med_damaged_chr_df['area_incorporated_chr'],no_damaged_chr_df['area_incorporated_chr']])"
   ]
  },
  {
   "cell_type": "code",
   "execution_count": 44,
   "metadata": {},
   "outputs": [
    {
     "name": "stdout",
     "output_type": "stream",
     "text": [
      "187\n",
      "116\n",
      "80\n"
     ]
    }
   ],
   "source": [
    "print(len(damaged_chr_df))\n",
    "\n",
    "print(len(med_damaged_chr_df))\n",
    "\n",
    "print(len(no_damaged_chr_df))\n",
    "\n"
   ]
  },
  {
   "cell_type": "code",
   "execution_count": 46,
   "metadata": {
    "scrolled": false
   },
   "outputs": [],
   "source": [
    "#no_damaged_chr_df[no_damaged_chr_df['area_incorporated_chr']==151]"
   ]
  }
 ],
 "metadata": {
  "kernelspec": {
   "display_name": "Python 3",
   "language": "python",
   "name": "python3"
  },
  "language_info": {
   "codemirror_mode": {
    "name": "ipython",
    "version": 3
   },
   "file_extension": ".py",
   "mimetype": "text/x-python",
   "name": "python",
   "nbconvert_exporter": "python",
   "pygments_lexer": "ipython3",
   "version": "3.7.6"
  }
 },
 "nbformat": 4,
 "nbformat_minor": 4
}

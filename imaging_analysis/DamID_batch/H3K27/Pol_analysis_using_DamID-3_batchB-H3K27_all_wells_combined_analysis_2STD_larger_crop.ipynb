{
 "cells": [
  {
   "cell_type": "markdown",
   "metadata": {},
   "source": [
    "# 1. Import required modules"
   ]
  },
  {
   "cell_type": "code",
   "execution_count": 2,
   "metadata": {},
   "outputs": [
    {
     "name": "stderr",
     "output_type": "stream",
     "text": [
      "c:\\programdata\\anaconda3\\lib\\site-packages\\skimage\\io\\manage_plugins.py:23: UserWarning: Your installed pillow version is < 7.1.0. Several security issues (CVE-2020-11538, CVE-2020-10379, CVE-2020-10994, CVE-2020-10177) have been fixed in pillow 7.1.0 or higher. We recommend to upgrade this library.\n",
      "  from .collection import imread_collection_wrapper\n"
     ]
    }
   ],
   "source": [
    "import numpy as np\n",
    "import matplotlib.pyplot as plt\n",
    "from skimage import io\n",
    "from skimage import data\n",
    "import skimage\n",
    "from skimage.filters.thresholding import threshold_li,threshold_local,threshold_otsu\n",
    "from skimage.morphology import erosion, dilation, opening, closing, white_tophat, remove_small_objects, ball\n",
    "from skimage.morphology import disk\n",
    "from scipy import ndimage as ndi\n",
    "import sys,os, glob\n",
    "\n",
    "#import skimage.filters.median\n",
    "\n",
    "#import skimage.segmentation as seg\n",
    "#import skimage.filters as filters\n",
    "#import skimage.draw as draw\n",
    "#import skimage.color as color\n",
    "\n",
    "#from skimage.filters.thresholding import _cross_entropy\n",
    "#from skimage.morphology import black_tophat, skeletonize, convex_hull_image\n",
    "\n",
    "\n",
    "#pip install nd2reader_required for nd2 file reading\n",
    "from nd2reader import ND2Reader\n",
    "\n",
    "import pandas as pd"
   ]
  },
  {
   "cell_type": "markdown",
   "metadata": {},
   "source": [
    "# 2. Load all analysis excels:"
   ]
  },
  {
   "cell_type": "markdown",
   "metadata": {},
   "source": [
    "# BATCH B"
   ]
  },
  {
   "cell_type": "code",
   "execution_count": 8,
   "metadata": {},
   "outputs": [],
   "source": [
    "# Combine batch B1 (already done)  211004IF_210921exp_DamMN"
   ]
  },
  {
   "cell_type": "code",
   "execution_count": 9,
   "metadata": {},
   "outputs": [],
   "source": [
    "data_save_folder = r\"D:\\Analyzed_CellBio\\Stam\\Dam_analysis_batchB\\211004IF_210921exp_DamMN\\*\"\n",
    "\n",
    "sub_folders = [_fd for _fd in glob.glob(data_save_folder) if 'doxPlusAID' not in _fd and 'H3K27ac' in _fd]\n",
    "\n",
    "\n",
    "combined_df_b1 =pd.DataFrame()\n",
    "\n",
    "for _fd in sub_folders:\n",
    "    well_name = _fd.split('\\\\')[-1].split('_')[0]\n",
    "    analysis_folders = _fd + os.sep + \"analysis\" + os.sep + well_name\n",
    "    analysis_excel_name = (analysis_folders+ os.sep+ \n",
    "                           r\"measurement_for_all_fov_background_subtracted_2_100_crop_H3K27_analyzed.xlsx\")\n",
    "    \n",
    "    df =  pd.read_excel(analysis_excel_name, index_col=None)\n",
    "    combined_df_b1=  pd.concat([combined_df_b1,df])\n",
    "   "
   ]
  },
  {
   "cell_type": "code",
   "execution_count": 10,
   "metadata": {},
   "outputs": [],
   "source": [
    "combined_df_b1.to_excel(r\"D:\\Analyzed_CellBio\\Stam\\Dam_analysis_batchB\\211004IF_210921exp_DamMN\\measurement_for_all_well_background_subtracted_2_100_crop_Pol2_analyzed.xlsx\", index=False)"
   ]
  },
  {
   "cell_type": "code",
   "execution_count": 6,
   "metadata": {},
   "outputs": [
    {
     "data": {
      "text/plain": [
       "['D:\\\\Analyzed_CellBio\\\\Stam\\\\Dam_analysis_batchB\\\\211007IF_210922exp_DamMN\\\\well10_doxPlusAID_H3K27ac',\n",
       " 'D:\\\\Analyzed_CellBio\\\\Stam\\\\Dam_analysis_batchB\\\\211007IF_210922exp_DamMN\\\\well11_doxPlusAID_H3K27ac',\n",
       " 'D:\\\\Analyzed_CellBio\\\\Stam\\\\Dam_analysis_batchB\\\\211007IF_210922exp_DamMN\\\\well12_doxPlusAID_H3K27ac']"
      ]
     },
     "execution_count": 6,
     "metadata": {},
     "output_type": "execute_result"
    }
   ],
   "source": [
    "# Combined batch B2 211007IF_210922exp_DamMN\n",
    "\n",
    "sub_folders"
   ]
  },
  {
   "cell_type": "code",
   "execution_count": 5,
   "metadata": {},
   "outputs": [],
   "source": [
    "# Common parameters for loading the image files of interest\n",
    "\n",
    "# for 4 channels nd2 images: channel index order is 1-2-3-4, which is the order as ch405-ch488-ch560-ch647\n",
    "\n",
    "\n",
    "\n",
    "data_save_folder = r\"D:\\Analyzed_CellBio\\Stam\\Dam_analysis_batchB\\211007IF_210922exp_DamMN\\*\"\n",
    "\n",
    "sub_folders = [_fd for _fd in glob.glob(data_save_folder) if 'H3K27ac' in _fd]\n",
    "\n",
    "\n",
    "combined_df_b2 =pd.DataFrame()\n",
    "\n",
    "for _fd in sub_folders:\n",
    "    well_name = _fd.split('\\\\')[-1].split('_')[0]\n",
    "    analysis_folders = _fd + os.sep + \"analysis\" + os.sep + well_name\n",
    "    analysis_excel_name = (analysis_folders+ os.sep+ \n",
    "                           r\"measurement_for_all_fov_background_subtracted_2_100_crop_H3K27_analyzed.xlsx\")\n",
    "    \n",
    "    df =  pd.read_excel(analysis_excel_name, index_col=None)\n",
    "    combined_df_b2=  pd.concat([combined_df_b2,df])\n",
    "   "
   ]
  },
  {
   "cell_type": "code",
   "execution_count": 7,
   "metadata": {},
   "outputs": [],
   "source": [
    "combined_df_b2.to_excel(r\"D:\\Analyzed_CellBio\\Stam\\Dam_analysis_batchB\\211007IF_210922exp_DamMN\\measurement_for_all_well_background_subtracted_2_100_crop_H3K27_analyzed.xlsx\", index=False)"
   ]
  },
  {
   "cell_type": "code",
   "execution_count": 14,
   "metadata": {},
   "outputs": [],
   "source": [
    "# Combined batch B3 211012IF_210927exp_DamMN"
   ]
  },
  {
   "cell_type": "code",
   "execution_count": 8,
   "metadata": {},
   "outputs": [],
   "source": [
    "# Common parameters for loading the image files of interest\n",
    "\n",
    "# for 4 channels nd2 images: channel index order is 1-2-3-4, which is the order as ch405-ch488-ch560-ch647\n",
    "\n",
    "\n",
    "\n",
    "data_save_folder = r\"D:\\Analyzed_CellBio\\Stam\\Dam_analysis_batchB\\211012IF_210927exp_DamMN\\*\"\n",
    "\n",
    "sub_folders = [_fd for _fd in glob.glob(data_save_folder) if 'H3K27ac' in _fd]\n",
    "\n",
    "\n",
    "combined_df_b3 =pd.DataFrame()\n",
    "\n",
    "for _fd in sub_folders:\n",
    "    well_name = _fd.split('\\\\')[-1].split('_')[0]\n",
    "    analysis_folders = _fd + os.sep + \"analysis\" + os.sep + well_name\n",
    "    analysis_excel_name = (analysis_folders+ os.sep+ \n",
    "                           r\"measurement_for_all_fov_background_subtracted_2_100_crop_H3K27_analyzed.xlsx\")\n",
    "    \n",
    "    df =  pd.read_excel(analysis_excel_name, index_col=None)\n",
    "    combined_df_b3=  pd.concat([combined_df_b3,df])\n",
    "   "
   ]
  },
  {
   "cell_type": "code",
   "execution_count": 10,
   "metadata": {},
   "outputs": [
    {
     "data": {
      "text/plain": [
       "['D:\\\\Analyzed_CellBio\\\\Stam\\\\Dam_analysis_batchB\\\\211012IF_210927exp_DamMN\\\\well8_doxPlusAID_H3K27ac',\n",
       " 'D:\\\\Analyzed_CellBio\\\\Stam\\\\Dam_analysis_batchB\\\\211012IF_210927exp_DamMN\\\\well9_doxPlusAID_H3K27ac']"
      ]
     },
     "execution_count": 10,
     "metadata": {},
     "output_type": "execute_result"
    }
   ],
   "source": [
    "sub_folders "
   ]
  },
  {
   "cell_type": "code",
   "execution_count": 9,
   "metadata": {},
   "outputs": [],
   "source": [
    "combined_df_b3.to_excel(r\"D:\\Analyzed_CellBio\\Stam\\Dam_analysis_batchB\\211012IF_210927exp_DamMN\\measurement_for_all_well_background_subtracted_2_100_crop_H3K27_analyzed.xlsx\", index=False)"
   ]
  },
  {
   "cell_type": "code",
   "execution_count": 17,
   "metadata": {},
   "outputs": [],
   "source": [
    "# Combine all dfs from all exp/batch B"
   ]
  },
  {
   "cell_type": "code",
   "execution_count": 11,
   "metadata": {},
   "outputs": [],
   "source": [
    "combined_df=pd.DataFrame()\n",
    "\n",
    "df_to_combine = [combined_df_b2,combined_df_b3]\n",
    "\n",
    "for _df in df_to_combine:\n",
    "    combined_df = pd.concat([combined_df,_df])"
   ]
  },
  {
   "cell_type": "code",
   "execution_count": 12,
   "metadata": {},
   "outputs": [],
   "source": [
    "combined_df.to_excel(r\"D:\\Analyzed_CellBio\\Stam\\Dam_analysis_batchB\\measurement_for_all_batchB_background_subtracted_2_100_crop_H3K27_analyzed.xlsx\", index=False)"
   ]
  },
  {
   "cell_type": "markdown",
   "metadata": {},
   "source": [
    "# BATCH A"
   ]
  },
  {
   "cell_type": "code",
   "execution_count": 14,
   "metadata": {},
   "outputs": [],
   "source": [
    "# load batch A1\n",
    "\n",
    "\n",
    "# Common parameters for loading the image files of interest\n",
    "\n",
    "# for 4 channels nd2 images: channel index order is 1-2-3-4, which is the order as ch405-ch488-ch560-ch647\n",
    "\n",
    "\n",
    "\n",
    "data_save_folder = r\"D:\\Analyzed_CellBio\\Stam\\Dam_analysis_batchA\\210225IF_210201exp_Dam\\*\"\n",
    "\n",
    "sub_folders =[_fd for _fd in glob.glob(data_save_folder) if 'H3K27ac' in _fd]\n",
    "\n",
    "\n",
    "combined_df_a1 =pd.DataFrame()\n",
    "\n",
    "for _fd in sub_folders:\n",
    "    well_name = _fd.split('\\\\')[-1].split('_')[0]\n",
    "    analysis_folders = _fd + os.sep + \"analysis\" + os.sep + well_name\n",
    "    analysis_excel_name = (analysis_folders+ os.sep+ \n",
    "                           r\"measurement_for_all_fov_background_subtracted_2_100_crop_H3K27_analyzed.xlsx\")\n",
    "    \n",
    "    df =  pd.read_excel(analysis_excel_name, index_col=None)\n",
    "    combined_df_a1=  pd.concat([combined_df_a1,df])"
   ]
  },
  {
   "cell_type": "code",
   "execution_count": 15,
   "metadata": {},
   "outputs": [
    {
     "data": {
      "text/plain": [
       "['D:\\\\Analyzed_CellBio\\\\Stam\\\\Dam_analysis_batchA\\\\210225IF_210201exp_Dam\\\\well11_doxPlusAID_60x_H3K27ac']"
      ]
     },
     "execution_count": 15,
     "metadata": {},
     "output_type": "execute_result"
    }
   ],
   "source": [
    "sub_folders "
   ]
  },
  {
   "cell_type": "code",
   "execution_count": null,
   "metadata": {},
   "outputs": [],
   "source": []
  },
  {
   "cell_type": "code",
   "execution_count": 17,
   "metadata": {},
   "outputs": [],
   "source": [
    "# load batch A2\n",
    "\n",
    "\n",
    "# Common parameters for loading the image files of interest\n",
    "\n",
    "# for 4 channels nd2 images: channel index order is 1-2-3-4, which is the order as ch405-ch488-ch560-ch647\n",
    "\n",
    "\n",
    "\n",
    "data_save_folder = r\"D:\\Analyzed_CellBio\\Stam\\Dam_analysis_batchA\\210614IF_210525DamMNexp\\*\"\n",
    "\n",
    "sub_folders = [_fd for _fd in glob.glob(data_save_folder) if 'H3K27ac' in _fd]\n",
    "\n",
    "\n",
    "combined_df_a2 =pd.DataFrame()\n",
    "\n",
    "for _fd in sub_folders:\n",
    "    well_name = _fd.split('\\\\')[-1].split('_')[0]\n",
    "    analysis_folders = _fd + os.sep + \"analysis\" + os.sep + well_name\n",
    "    analysis_excel_name = (analysis_folders+ os.sep+ \n",
    "                           r\"measurement_for_all_fov_background_subtracted_2_100_crop_H3K27_analyzed.xlsx\")\n",
    "    \n",
    "    df =  pd.read_excel(analysis_excel_name, index_col=None)\n",
    "    combined_df_a2=  pd.concat([combined_df_a2,df])"
   ]
  },
  {
   "cell_type": "code",
   "execution_count": 18,
   "metadata": {},
   "outputs": [
    {
     "data": {
      "text/plain": [
       "['D:\\\\Analyzed_CellBio\\\\Stam\\\\Dam_analysis_batchA\\\\210614IF_210525DamMNexp\\\\well7_DoxPlusAID_60x_H3K27ac']"
      ]
     },
     "execution_count": 18,
     "metadata": {},
     "output_type": "execute_result"
    }
   ],
   "source": [
    "sub_folders "
   ]
  },
  {
   "cell_type": "code",
   "execution_count": 19,
   "metadata": {},
   "outputs": [],
   "source": [
    "combined_df_2=pd.DataFrame()\n",
    "\n",
    "df_to_combine_2 = [combined_df_a1,combined_df_a2]\n",
    "\n",
    "for _df in df_to_combine_2:\n",
    "    combined_df_2 = pd.concat([combined_df_2,_df])"
   ]
  },
  {
   "cell_type": "code",
   "execution_count": 41,
   "metadata": {},
   "outputs": [],
   "source": [
    "analysis_df.to_excel(r\"D:\\Analyzed_CellBio\\Stam\\measurement_for_all_batch_background_subtracted_2_100_crop_H3K27_analyzed.xlsx\", index=False)"
   ]
  },
  {
   "cell_type": "markdown",
   "metadata": {},
   "source": [
    "# 6. Post-hoc analysis examples"
   ]
  },
  {
   "cell_type": "code",
   "execution_count": 24,
   "metadata": {},
   "outputs": [
    {
     "data": {
      "text/plain": [
       "143"
      ]
     },
     "execution_count": 24,
     "metadata": {},
     "output_type": "execute_result"
    }
   ],
   "source": [
    "analysis_df=  pd.concat([combined_df,combined_df_2])\n",
    "\n",
    "#analysis_df=analysis_df[analysis_df['normalized_inc_Pol2S5']<2]\n",
    "len(analysis_df)\n",
    "\n",
    "#len(combined_df)"
   ]
  },
  {
   "cell_type": "code",
   "execution_count": 25,
   "metadata": {},
   "outputs": [
    {
     "name": "stdout",
     "output_type": "stream",
     "text": [
      "1.01144472239849\n"
     ]
    }
   ],
   "source": [
    "# for total incorporated chr\n",
    "analysis_df['normalized_inc_dna']=analysis_df['ave_intensity_incorporated_chr_dna']/analysis_df['ave_intensity_nucleo-excluded_control_chr_dna']\n",
    "print(analysis_df['normalized_inc_dna'].mean())"
   ]
  },
  {
   "cell_type": "code",
   "execution_count": null,
   "metadata": {},
   "outputs": [],
   "source": []
  },
  {
   "cell_type": "code",
   "execution_count": 26,
   "metadata": {},
   "outputs": [],
   "source": [
    "analysis_df['h2ax_damage_level']=analysis_df['area_h2ax_within_incorporated_chr']/analysis_df['area_incorporated_chr']\n",
    "\n",
    "damaged_chr_df = analysis_df[analysis_df['h2ax_damage_level']>=0.5]\n",
    "\n",
    "partial_damaged_chr_df = analysis_df[analysis_df['h2ax_damage_level']<0.5]\n",
    "\n",
    "med_damaged_chr_df = partial_damaged_chr_df[partial_damaged_chr_df['h2ax_damage_level']>=0.2]\n",
    "\n",
    "no_damaged_chr_df = partial_damaged_chr_df[partial_damaged_chr_df['h2ax_damage_level']<0.2]"
   ]
  },
  {
   "cell_type": "code",
   "execution_count": null,
   "metadata": {},
   "outputs": [],
   "source": []
  },
  {
   "cell_type": "code",
   "execution_count": 27,
   "metadata": {},
   "outputs": [
    {
     "data": {
      "text/plain": [
       "<matplotlib.axes._subplots.AxesSubplot at 0x2d3c00ef388>"
      ]
     },
     "execution_count": 27,
     "metadata": {},
     "output_type": "execute_result"
    },
    {
     "data": {
      "image/png": "[encoded data removed]",
      "text/plain": [
       "<Figure size 432x288 with 1 Axes>"
      ]
     },
     "metadata": {
      "needs_background": "light"
     },
     "output_type": "display_data"
    }
   ],
   "source": [
    "analysis_df['normalized_inc_H2ax'] = analysis_df['ave_intensity_incorporated_chr_H2ax']/analysis_df['ave_intensity_nucleo-excluded_control_chr_H2ax']\n",
    "#analysis_df\n",
    "\n",
    "\n",
    "analysis_df.plot.scatter(x='normalized_inc_H2ax',y='area_incorporated_chr',c='DarkBlue')"
   ]
  },
  {
   "cell_type": "code",
   "execution_count": 28,
   "metadata": {},
   "outputs": [
    {
     "data": {
      "text/plain": [
       "<matplotlib.axes._subplots.AxesSubplot at 0x2d3c01cca88>"
      ]
     },
     "execution_count": 28,
     "metadata": {},
     "output_type": "execute_result"
    },
    {
     "data": {
      "image/png": "[encoded data removed]",
      "text/plain": [
       "<Figure size 432x288 with 1 Axes>"
      ]
     },
     "metadata": {
      "needs_background": "light"
     },
     "output_type": "display_data"
    }
   ],
   "source": [
    "analysis_df.plot.scatter(x='normalized_inc_H2ax',y='normalized_inc_H3K27',c='DarkBlue')"
   ]
  },
  {
   "cell_type": "code",
   "execution_count": 29,
   "metadata": {},
   "outputs": [
    {
     "data": {
      "text/plain": [
       "<matplotlib.axes._subplots.AxesSubplot at 0x2d3c0240e88>"
      ]
     },
     "execution_count": 29,
     "metadata": {},
     "output_type": "execute_result"
    },
    {
     "data": {
      "image/png": "[encoded data removed]",
      "text/plain": [
       "<Figure size 432x288 with 1 Axes>"
      ]
     },
     "metadata": {
      "needs_background": "light"
     },
     "output_type": "display_data"
    }
   ],
   "source": [
    "analysis_df.plot.scatter(x='h2ax_damage_level',y='area_incorporated_chr',c='DarkBlue')"
   ]
  },
  {
   "cell_type": "code",
   "execution_count": 30,
   "metadata": {},
   "outputs": [
    {
     "data": {
      "text/plain": [
       "<matplotlib.axes._subplots.AxesSubplot at 0x2d3bfe282c8>"
      ]
     },
     "execution_count": 30,
     "metadata": {},
     "output_type": "execute_result"
    },
    {
     "data": {
      "image/png": "[encoded data removed]",
      "text/plain": [
       "<Figure size 432x288 with 1 Axes>"
      ]
     },
     "metadata": {
      "needs_background": "light"
     },
     "output_type": "display_data"
    }
   ],
   "source": [
    "analysis_df.plot.scatter(x='h2ax_damage_level',y='normalized_inc_H3K27',c='DarkBlue')"
   ]
  },
  {
   "cell_type": "code",
   "execution_count": 31,
   "metadata": {},
   "outputs": [
    {
     "name": "stdout",
     "output_type": "stream",
     "text": [
      "0.7817485629308445\n",
      "540.3793103448276\n",
      "0.7492144151771564\n",
      "566.1481481481482\n",
      "0.763695158857414\n",
      "480.61290322580646\n"
     ]
    }
   ],
   "source": [
    "print(damaged_chr_df['normalized_inc_H3K27'].mean())\n",
    "print(damaged_chr_df['area_incorporated_chr'].mean())\n",
    "\n",
    "\n",
    "\n",
    "print(med_damaged_chr_df['normalized_inc_H3K27'].mean())\n",
    "print(med_damaged_chr_df['area_incorporated_chr'].mean())\n",
    "\n",
    "\n",
    "\n",
    "print(no_damaged_chr_df['normalized_inc_H3K27'].mean())\n",
    "print(no_damaged_chr_df['area_incorporated_chr'].mean())"
   ]
  },
  {
   "cell_type": "code",
   "execution_count": 32,
   "metadata": {},
   "outputs": [
    {
     "name": "stderr",
     "output_type": "stream",
     "text": [
      "c:\\programdata\\anaconda3\\lib\\site-packages\\matplotlib\\cbook\\__init__.py:1449: VisibleDeprecationWarning: Creating an ndarray from ragged nested sequences (which is a list-or-tuple of lists-or-tuples-or ndarrays with different lengths or shapes) is deprecated. If you meant to do this, you must specify 'dtype=object' when creating the ndarray.\n",
      "  X = np.atleast_1d(X.T if isinstance(X, np.ndarray) else np.asarray(X))\n"
     ]
    },
    {
     "data": {
      "image/png": "[encoded data removed]",
      "text/plain": [
       "<Figure size 432x288 with 1 Axes>"
      ]
     },
     "metadata": {
      "needs_background": "light"
     },
     "output_type": "display_data"
    }
   ],
   "source": [
    "boxplot_pol2= plt.boxplot([damaged_chr_df['normalized_inc_H3K27'],med_damaged_chr_df['normalized_inc_H3K27'],no_damaged_chr_df['normalized_inc_H3K27']])"
   ]
  },
  {
   "cell_type": "code",
   "execution_count": 33,
   "metadata": {},
   "outputs": [
    {
     "name": "stdout",
     "output_type": "stream",
     "text": [
      "damgage vs no damage: 0.26338673582561134\n",
      "damgage vs med damage: 0.39552681034509185\n",
      "med damgage vs no damage: 0.1416899793982429\n",
      "three samples comparision: KruskalResult(statistic=0.9911145721305274, pvalue=0.6092312965628368)\n"
     ]
    }
   ],
   "source": [
    "from scipy.stats import mannwhitneyu\n",
    "U1, p1 = mannwhitneyu(damaged_chr_df['normalized_inc_H3K27'], no_damaged_chr_df['normalized_inc_H3K27'])\n",
    "\n",
    "U2, p2 = mannwhitneyu(damaged_chr_df['normalized_inc_H3K27'], med_damaged_chr_df['normalized_inc_H3K27'])\n",
    "\n",
    "U3, p3 = mannwhitneyu(med_damaged_chr_df['normalized_inc_H3K27'], no_damaged_chr_df['normalized_inc_H3K27'])\n",
    "\n",
    "from scipy.stats import kruskal\n",
    "p4 = kruskal(damaged_chr_df['normalized_inc_H3K27'],med_damaged_chr_df['normalized_inc_H3K27'],no_damaged_chr_df['normalized_inc_H3K27'])\n",
    "\n",
    "\n",
    "print(f\"damgage vs no damage: {p1}\")\n",
    "\n",
    "print(f\"damgage vs med damage: {p2}\")\n",
    "\n",
    "print(f\"med damgage vs no damage: {p3}\")\n",
    "\n",
    "print(f\"three samples comparision: {p4}\")"
   ]
  },
  {
   "cell_type": "code",
   "execution_count": 34,
   "metadata": {
    "scrolled": true
   },
   "outputs": [
    {
     "name": "stderr",
     "output_type": "stream",
     "text": [
      "c:\\programdata\\anaconda3\\lib\\site-packages\\matplotlib\\cbook\\__init__.py:1449: VisibleDeprecationWarning: Creating an ndarray from ragged nested sequences (which is a list-or-tuple of lists-or-tuples-or ndarrays with different lengths or shapes) is deprecated. If you meant to do this, you must specify 'dtype=object' when creating the ndarray.\n",
      "  X = np.atleast_1d(X.T if isinstance(X, np.ndarray) else np.asarray(X))\n"
     ]
    },
    {
     "data": {
      "image/png": "[encoded data removed]",
      "text/plain": [
       "<Figure size 432x288 with 1 Axes>"
      ]
     },
     "metadata": {
      "needs_background": "light"
     },
     "output_type": "display_data"
    }
   ],
   "source": [
    "boxplot_size= plt.boxplot([damaged_chr_df['area_incorporated_chr'],med_damaged_chr_df['area_incorporated_chr'],no_damaged_chr_df['area_incorporated_chr']])"
   ]
  },
  {
   "cell_type": "code",
   "execution_count": 35,
   "metadata": {},
   "outputs": [
    {
     "name": "stderr",
     "output_type": "stream",
     "text": [
      "c:\\programdata\\anaconda3\\lib\\site-packages\\matplotlib\\cbook\\__init__.py:1449: VisibleDeprecationWarning: Creating an ndarray from ragged nested sequences (which is a list-or-tuple of lists-or-tuples-or ndarrays with different lengths or shapes) is deprecated. If you meant to do this, you must specify 'dtype=object' when creating the ndarray.\n",
      "  X = np.atleast_1d(X.T if isinstance(X, np.ndarray) else np.asarray(X))\n"
     ]
    },
    {
     "data": {
      "image/png": "[encoded data removed]",
      "text/plain": [
       "<Figure size 432x288 with 1 Axes>"
      ]
     },
     "metadata": {
      "needs_background": "light"
     },
     "output_type": "display_data"
    }
   ],
   "source": [
    "boxplot_size= plt.boxplot([damaged_chr_df['normalized_inc_H3K27']/damaged_chr_df['normalized_inc_dna'],\n",
    "                           med_damaged_chr_df['normalized_inc_H3K27']/med_damaged_chr_df['normalized_inc_dna'],\n",
    "                           no_damaged_chr_df['normalized_inc_H3K27']/no_damaged_chr_df['normalized_inc_dna']])"
   ]
  },
  {
   "cell_type": "code",
   "execution_count": 38,
   "metadata": {},
   "outputs": [
    {
     "name": "stdout",
     "output_type": "stream",
     "text": [
      "0.0861407803073963\n",
      "0.4872541771838036\n",
      "0.052435716288291766\n",
      "KruskalResult(statistic=3.2434643368551406, pvalue=0.19755620192222548)\n"
     ]
    }
   ],
   "source": [
    "from scipy.stats import mannwhitneyu\n",
    "U1, p1 = mannwhitneyu(damaged_chr_df['normalized_inc_H3K27']/damaged_chr_df['normalized_inc_dna'], \n",
    "                      no_damaged_chr_df['normalized_inc_H3K27']/no_damaged_chr_df['normalized_inc_dna'])\n",
    "\n",
    "U2, p2 = mannwhitneyu(med_damaged_chr_df['normalized_inc_H3K27']/med_damaged_chr_df['normalized_inc_dna'], \n",
    "                      no_damaged_chr_df['normalized_inc_H3K27']/no_damaged_chr_df['normalized_inc_dna'])\n",
    "\n",
    "U3, p3 = mannwhitneyu(damaged_chr_df['normalized_inc_H3K27']/damaged_chr_df['normalized_inc_dna'], \n",
    "                      med_damaged_chr_df['normalized_inc_H3K27']/med_damaged_chr_df['normalized_inc_dna'])\n",
    "\n",
    "from scipy.stats import kruskal\n",
    "\n",
    "p4 = kruskal(damaged_chr_df['normalized_inc_H3K27']/damaged_chr_df['normalized_inc_dna'],\n",
    "                           med_damaged_chr_df['normalized_inc_H3K27']/med_damaged_chr_df['normalized_inc_dna'],\n",
    "                           no_damaged_chr_df['normalized_inc_H3K27']/no_damaged_chr_df['normalized_inc_dna'])\n",
    "\n",
    "\n",
    "print(p1)\n",
    "\n",
    "print(p2)\n",
    "\n",
    "print(p3)\n",
    "\n",
    "print(p4)"
   ]
  },
  {
   "cell_type": "code",
   "execution_count": 42,
   "metadata": {},
   "outputs": [
    {
     "name": "stdout",
     "output_type": "stream",
     "text": [
      "58\n",
      "54\n",
      "31\n"
     ]
    }
   ],
   "source": [
    "print(len(damaged_chr_df))\n",
    "\n",
    "print(len(med_damaged_chr_df))\n",
    "\n",
    "print(len(no_damaged_chr_df))\n",
    "\n"
   ]
  },
  {
   "cell_type": "code",
   "execution_count": null,
   "metadata": {
    "scrolled": false
   },
   "outputs": [],
   "source": [
    "#no_damaged_chr_df[no_damaged_chr_df['area_incorporated_chr']==151]"
   ]
  }
 ],
 "metadata": {
  "kernelspec": {
   "display_name": "Python 3",
   "language": "python",
   "name": "python3"
  },
  "language_info": {
   "codemirror_mode": {
    "name": "ipython",
    "version": 3
   },
   "file_extension": ".py",
   "mimetype": "text/x-python",
   "name": "python",
   "nbconvert_exporter": "python",
   "pygments_lexer": "ipython3",
   "version": "3.7.6"
  }
 },
 "nbformat": 4,
 "nbformat_minor": 4
}

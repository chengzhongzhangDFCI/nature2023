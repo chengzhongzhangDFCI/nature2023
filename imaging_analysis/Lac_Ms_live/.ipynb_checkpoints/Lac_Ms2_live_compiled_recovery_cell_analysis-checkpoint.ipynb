{
 "cells": [
  {
   "cell_type": "code",
   "execution_count": 1,
   "metadata": {},
   "outputs": [],
   "source": [
    "import os, glob, sys\n",
    "import pandas as pd\n",
    "import numpy as np\n",
    "import matplotlib.pyplot as plt"
   ]
  },
  {
   "cell_type": "code",
   "execution_count": 2,
   "metadata": {},
   "outputs": [],
   "source": [
    "data_folder = r\"D:\\Analyzed_CellBio\\Stam\\Lac_Ms_live\\Compiled_analysis\\cells\\defective\"\n",
    "\n",
    "control_files = [f for f in glob.glob(data_folder + os.sep +'*') if 'analysis_cell' in f]\n",
    "\n",
    "control_df = [pd.read_excel(f, index_col = None) for f in control_files]"
   ]
  },
  {
   "cell_type": "code",
   "execution_count": 3,
   "metadata": {},
   "outputs": [
    {
     "data": {
      "text/html": [
       "<div>\n",
       "<style scoped>\n",
       "    .dataframe tbody tr th:only-of-type {\n",
       "        vertical-align: middle;\n",
       "    }\n",
       "\n",
       "    .dataframe tbody tr th {\n",
       "        vertical-align: top;\n",
       "    }\n",
       "\n",
       "    .dataframe thead th {\n",
       "        text-align: right;\n",
       "    }\n",
       "</style>\n",
       "<table border=\"1\" class=\"dataframe\">\n",
       "  <thead>\n",
       "    <tr style=\"text-align: right;\">\n",
       "      <th></th>\n",
       "      <th>1</th>\n",
       "      <th>2</th>\n",
       "      <th>3</th>\n",
       "      <th>4</th>\n",
       "      <th>5</th>\n",
       "      <th>6</th>\n",
       "      <th>7</th>\n",
       "      <th>8</th>\n",
       "      <th>9</th>\n",
       "      <th>10</th>\n",
       "      <th>...</th>\n",
       "      <th>37</th>\n",
       "      <th>38</th>\n",
       "      <th>39</th>\n",
       "      <th>40</th>\n",
       "      <th>41</th>\n",
       "      <th>42</th>\n",
       "      <th>43</th>\n",
       "      <th>44</th>\n",
       "      <th>45</th>\n",
       "      <th>46</th>\n",
       "    </tr>\n",
       "  </thead>\n",
       "  <tbody>\n",
       "    <tr>\n",
       "      <th>0</th>\n",
       "      <td>-3.341469</td>\n",
       "      <td>-0.557925</td>\n",
       "      <td>-0.141822</td>\n",
       "      <td>1.194749</td>\n",
       "      <td>1.306559</td>\n",
       "      <td>1.531222</td>\n",
       "      <td>-2.676399</td>\n",
       "      <td>-0.489762</td>\n",
       "      <td>2.905928</td>\n",
       "      <td>5.940857</td>\n",
       "      <td>...</td>\n",
       "      <td>mitosis</td>\n",
       "      <td>mitosis</td>\n",
       "      <td>mitosis</td>\n",
       "      <td>mitosis</td>\n",
       "      <td>mitosis</td>\n",
       "      <td>1.609735</td>\n",
       "      <td>5.227207</td>\n",
       "      <td>-0.012947</td>\n",
       "      <td>1.667875</td>\n",
       "      <td>no</td>\n",
       "    </tr>\n",
       "  </tbody>\n",
       "</table>\n",
       "<p>1 rows × 46 columns</p>\n",
       "</div>"
      ],
      "text/plain": [
       "          1         2         3         4         5         6         7  \\\n",
       "0 -3.341469 -0.557925 -0.141822  1.194749  1.306559  1.531222 -2.676399   \n",
       "\n",
       "          8         9        10  ...       37       38       39       40  \\\n",
       "0 -0.489762  2.905928  5.940857  ...  mitosis  mitosis  mitosis  mitosis   \n",
       "\n",
       "        41        42        43        44        45  46  \n",
       "0  mitosis  1.609735  5.227207 -0.012947  1.667875  no  \n",
       "\n",
       "[1 rows x 46 columns]"
      ]
     },
     "execution_count": 3,
     "metadata": {},
     "output_type": "execute_result"
    }
   ],
   "source": [
    "control_df[0]"
   ]
  },
  {
   "cell_type": "code",
   "execution_count": null,
   "metadata": {},
   "outputs": [],
   "source": []
  },
  {
   "cell_type": "code",
   "execution_count": null,
   "metadata": {},
   "outputs": [
    {
     "name": "stdout",
     "output_type": "stream",
     "text": [
      "--processing dataframe #0.\n",
      "--processing dataframe #1.\n"
     ]
    }
   ],
   "source": [
    "_test = True\n",
    "\n",
    "\n",
    "normalized_measurement_dict_list = []\n",
    "normalized_measurement_df_list = []\n",
    "\n",
    "if _test:\n",
    "    \n",
    "    for index, df in enumerate(control_df[:]):\n",
    "        \n",
    "        \n",
    "        print(f'--processing dataframe #{index}.')\n",
    "        all_timepoints = df.columns\n",
    "        \n",
    "        mitosis_timepoints = []\n",
    "        for _t in all_timepoints:\n",
    "            if df[_t][0] == 'mitosis':\n",
    "                mitosis_timepoints.append(_t)\n",
    "        \n",
    "        mitosis_start = int(mitosis_timepoints [0])\n",
    "        mitosis_end = int(mitosis_timepoints [-1])\n",
    "        \n",
    "        normalized_measurement_dict = {}\n",
    "        \n",
    "        for _t in all_timepoints:\n",
    "            \n",
    "            _ori_time = int(_t)\n",
    "            if _ori_time <mitosis_start:\n",
    "                _new_time = _ori_time - mitosis_start\n",
    "            elif _ori_time >mitosis_end:\n",
    "                _new_time = _ori_time - mitosis_end + 4 # mitosis duration\n",
    "                \n",
    "            ms2_value = df[_t][0]\n",
    "            #print(ms2_value)\n",
    "            if type(ms2_value) is np.float64:\n",
    "                normalized_measurement_dict[_new_time] = ms2_value\n",
    "            elif type(ms2_value) is str:\n",
    "                if 'yes' in ms2_value:\n",
    "                    ms2_value= np.float64(ms2_value.split('yes_')[1])\n",
    "                    normalized_measurement_dict[_new_time] = ms2_value\n",
    "                elif 'no' in ms2_value:\n",
    "                    ms2_value=1\n",
    "                    normalized_measurement_dict[_new_time] = ms2_value\n",
    "                elif 'mitosis' in ms2_value:\n",
    "                    ms2_value=0\n",
    "                    normalized_measurement_dict[0] = ms2_value\n",
    "                    normalized_measurement_dict[1] = ms2_value\n",
    "                    normalized_measurement_dict[2] = ms2_value\n",
    "                    normalized_measurement_dict[3] = ms2_value\n",
    "                    normalized_measurement_dict[4] = ms2_value\n",
    "            \n",
    "            # add empty for 200 timpoints in total\n",
    "            valid_timepoints = normalized_measurement_dict.keys()\n",
    "            empty_timepoints = [_t for _t in range(-100,100) if _t not in valid_timepoints]\n",
    "            for _t in empty_timepoints:\n",
    "                normalized_measurement_dict[_t] = np.nan\n",
    "                \n",
    "            normalized_measurement_df = pd.DataFrame(normalized_measurement_dict,index=[0])  \n",
    "            normalized_measurement_df = normalized_measurement_df[range(-100,100)]\n",
    "            \n",
    "        normalized_measurement_dict_list.append(normalized_measurement_dict)\n",
    "        normalized_measurement_df_list.append(normalized_measurement_df)\n",
    "                \n",
    "combined_df = pd.concat(normalized_measurement_df_list)"
   ]
  },
  {
   "cell_type": "code",
   "execution_count": null,
   "metadata": {},
   "outputs": [],
   "source": [
    "combined_df.to_excel(data_folder + os.sep+'combined_analysis_cell.xlsx', index=False)"
   ]
  },
  {
   "cell_type": "code",
   "execution_count": null,
   "metadata": {},
   "outputs": [],
   "source": [
    "\n",
    "\n",
    "#combined_df"
   ]
  },
  {
   "cell_type": "code",
   "execution_count": null,
   "metadata": {},
   "outputs": [],
   "source": [
    "filtered_df = combined_df.loc[:,range(-20,50)]\n"
   ]
  },
  {
   "cell_type": "code",
   "execution_count": null,
   "metadata": {
    "scrolled": true
   },
   "outputs": [],
   "source": [
    "%matplotlib notebook\n",
    "filtered_df.boxplot(grid =True,\n",
    "                    notch = True,\n",
    "                    showcaps=False,\n",
    "                    showfliers=False,\n",
    "                   #showbox =False\n",
    "                   )"
   ]
  }
 ],
 "metadata": {
  "kernelspec": {
   "display_name": "Python 3",
   "language": "python",
   "name": "python3"
  },
  "language_info": {
   "codemirror_mode": {
    "name": "ipython",
    "version": 3
   },
   "file_extension": ".py",
   "mimetype": "text/x-python",
   "name": "python",
   "nbconvert_exporter": "python",
   "pygments_lexer": "ipython3",
   "version": "3.7.6"
  }
 },
 "nbformat": 4,
 "nbformat_minor": 4
}

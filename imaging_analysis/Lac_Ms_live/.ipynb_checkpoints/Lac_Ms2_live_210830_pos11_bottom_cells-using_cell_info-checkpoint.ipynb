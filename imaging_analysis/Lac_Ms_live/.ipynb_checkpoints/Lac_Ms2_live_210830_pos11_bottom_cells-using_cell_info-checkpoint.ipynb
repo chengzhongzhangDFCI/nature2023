{
 "cells": [
  {
   "cell_type": "markdown",
   "metadata": {},
   "source": [
    "## Import required modules"
   ]
  },
  {
   "cell_type": "code",
   "execution_count": 1,
   "metadata": {},
   "outputs": [
    {
     "name": "stderr",
     "output_type": "stream",
     "text": [
      "c:\\programdata\\anaconda3\\lib\\site-packages\\skimage\\io\\manage_plugins.py:23: UserWarning: Your installed pillow version is < 7.1.0. Several security issues (CVE-2020-11538, CVE-2020-10379, CVE-2020-10994, CVE-2020-10177) have been fixed in pillow 7.1.0 or higher. We recommend to upgrade this library.\n",
      "  from .collection import imread_collection_wrapper\n"
     ]
    }
   ],
   "source": [
    "import numpy as np\n",
    "import matplotlib.pyplot as plt\n",
    "from skimage import io\n",
    "from skimage import data\n",
    "import skimage\n",
    "from skimage.filters.thresholding import threshold_li,threshold_local,threshold_otsu, threshold_yen\n",
    "from skimage.morphology import erosion, dilation, opening, closing, white_tophat, remove_small_objects, ball\n",
    "from skimage.morphology import disk\n",
    "from scipy import ndimage as ndi\n",
    "import sys,os, glob\n",
    "\n",
    "#import skimage.filters.median\n",
    "\n",
    "#import skimage.segmentation as seg\n",
    "#import skimage.filters as filters\n",
    "#import skimage.draw as draw\n",
    "#import skimage.color as color\n",
    "\n",
    "#from skimage.filters.thresholding import _cross_entropy\n",
    "#from skimage.morphology import black_tophat, skeletonize, convex_hull_image\n",
    "\n",
    "\n",
    "#pip install nd2reader_required for nd2 file reading\n",
    "from nd2reader import ND2Reader\n",
    "\n",
    "import pandas as pd\n",
    "\n",
    "# for dna segmentation\n",
    "import cellpose\n",
    "from cellpose import models"
   ]
  },
  {
   "cell_type": "markdown",
   "metadata": {},
   "source": [
    "## Load data to analyze"
   ]
  },
  {
   "cell_type": "markdown",
   "metadata": {},
   "source": [
    "### 1. Load images"
   ]
  },
  {
   "cell_type": "code",
   "execution_count": 2,
   "metadata": {},
   "outputs": [
    {
     "data": {
      "text/plain": [
       "['D:\\\\Analyzed_CellBio\\\\Stam\\\\Lac_Ms_live\\\\Pos11\\\\210830 263 H2B-G LacI-548 Ms2-647 noco__crop_Pos11.nd2']"
      ]
     },
     "execution_count": 2,
     "metadata": {},
     "output_type": "execute_result"
    }
   ],
   "source": [
    "\n",
    "data_save_folder = r\"D:\\Analyzed_CellBio\\Stam\\Lac_Ms_live\\Pos11\\*\"\n",
    "\n",
    "data_main_folder = r\"D:\\Analyzed_CellBio\\Stam\\Lac_Ms_live\\Pos11\"\n",
    "\n",
    "analysis_prefix = 'Lac_Ms2'\n",
    "############################# CHANGE WELL FOR DATA OF INTEREST HERE!##########################################\n",
    "\n",
    "\n",
    "data_folder = data_save_folder\n",
    "#data_files = [file for file in glob.glob(data_folder) if \"z2.tif\" in file]\n",
    "data_files = [file for file in glob.glob(data_folder) if \"nd\" in file]\n"
   ]
  },
  {
   "cell_type": "markdown",
   "metadata": {},
   "source": [
    "### 2. Cropp and saved cropped images "
   ]
  },
  {
   "cell_type": "code",
   "execution_count": null,
   "metadata": {},
   "outputs": [],
   "source": []
  },
  {
   "cell_type": "code",
   "execution_count": 11,
   "metadata": {},
   "outputs": [
    {
     "name": "stderr",
     "output_type": "stream",
     "text": [
      "C:\\Users\\Shiwei\\AppData\\Roaming\\Python\\Python37\\site-packages\\ipykernel_launcher.py:36: UserWarning: D:\\Analyzed_CellBio\\Stam\\Lac_Ms_live\\Pos11\\210830 263 H2B-G LacI-548 Ms2-647 noco__crop_Pos11._DNA.tif is a low contrast image\n",
      "C:\\Users\\Shiwei\\AppData\\Roaming\\Python\\Python37\\site-packages\\ipykernel_launcher.py:36: UserWarning: D:\\Analyzed_CellBio\\Stam\\Lac_Ms_live\\Pos11\\210830 263 H2B-G LacI-548 Ms2-647 noco__crop_Pos11._lac.tif is a low contrast image\n",
      "C:\\Users\\Shiwei\\AppData\\Roaming\\Python\\Python37\\site-packages\\ipykernel_launcher.py:36: UserWarning: D:\\Analyzed_CellBio\\Stam\\Lac_Ms_live\\Pos11\\210830 263 H2B-G LacI-548 Ms2-647 noco__crop_Pos11._ms2.tif is a low contrast image\n"
     ]
    }
   ],
   "source": [
    "images = ND2Reader(data_files[0])\n",
    "data_name = data_files[0].split('\\\\')[-1].split('nd2')[0]\n",
    "\n",
    "#images.sizes[\"t\"]\n",
    "crop_x1, crop_x2, crop_y1, crop_y2 = 840, 1200,850,1250\n",
    "\n",
    "# z for analyze\n",
    "z_selected = 1\n",
    "\n",
    "#save cropped images\n",
    "# ch-t-z-xy\n",
    "\n",
    "crop_image_ch_all = {}\n",
    "\n",
    "for ind, ch in enumerate(range(images.sizes[\"c\"])):\n",
    "    image_ch_all = []\n",
    "    \n",
    "    for timepoint in range(images.sizes[\"t\"]):\n",
    "        image_ch =np.array(images.get_frame_2D (v=timepoint, c=ch, z=z_selected))[crop_x1: crop_x2, crop_y1: crop_y2]\n",
    "        \n",
    "        #for _lyr in range(images.sizes[\"z\"]):\n",
    "            #lyr_ch = np.array(images.get_frame_2D (v=timepoint, c=ch, z=_lyr))[840:1200,850:1250]\n",
    "            #image_ch.append(lyr_ch)\n",
    "            \n",
    "        image_ch_all.append(image_ch)\n",
    "        \n",
    "    crop_image_ch_all[ind] = np.array(image_ch_all)    \n",
    "\n",
    "\n",
    "\n",
    "savename_list = [data_main_folder + os.sep + f'{data_name}_DNA.tif',\n",
    "                   data_main_folder + os.sep + f'{data_name}_lac.tif',\n",
    "                   data_main_folder + os.sep + f'{data_name}_ms2.tif']\n",
    "\n",
    "for ind, save_name in enumerate(savename_list):\n",
    "    io.imsave(save_name, crop_image_ch_all[ind])"
   ]
  },
  {
   "cell_type": "markdown",
   "metadata": {},
   "source": [
    "### 3. Other parameters and cell info"
   ]
  },
  {
   "cell_type": "code",
   "execution_count": null,
   "metadata": {},
   "outputs": [],
   "source": [
    "# the dilation for measuring the foci\n",
    "_foci_measure_size = 2"
   ]
  },
  {
   "cell_type": "code",
   "execution_count": 12,
   "metadata": {},
   "outputs": [
    {
     "data": {
      "text/html": [
       "<div>\n",
       "<style scoped>\n",
       "    .dataframe tbody tr th:only-of-type {\n",
       "        vertical-align: middle;\n",
       "    }\n",
       "\n",
       "    .dataframe tbody tr th {\n",
       "        vertical-align: top;\n",
       "    }\n",
       "\n",
       "    .dataframe thead th {\n",
       "        text-align: right;\n",
       "    }\n",
       "</style>\n",
       "<table border=\"1\" class=\"dataframe\">\n",
       "  <thead>\n",
       "    <tr style=\"text-align: right;\">\n",
       "      <th></th>\n",
       "      <th>timepoint</th>\n",
       "      <th>cell X</th>\n",
       "      <th>cell Y</th>\n",
       "      <th>cell area</th>\n",
       "      <th>lac X</th>\n",
       "      <th>lac Y</th>\n",
       "      <th>stage</th>\n",
       "    </tr>\n",
       "  </thead>\n",
       "  <tbody>\n",
       "    <tr>\n",
       "      <th>0</th>\n",
       "      <td>1</td>\n",
       "      <td>182.0</td>\n",
       "      <td>111.0</td>\n",
       "      <td>7000.0</td>\n",
       "      <td>166.0</td>\n",
       "      <td>186.0</td>\n",
       "      <td>1</td>\n",
       "    </tr>\n",
       "    <tr>\n",
       "      <th>1</th>\n",
       "      <td>62</td>\n",
       "      <td>NaN</td>\n",
       "      <td>NaN</td>\n",
       "      <td>NaN</td>\n",
       "      <td>NaN</td>\n",
       "      <td>NaN</td>\n",
       "      <td>m</td>\n",
       "    </tr>\n",
       "    <tr>\n",
       "      <th>2</th>\n",
       "      <td>66</td>\n",
       "      <td>187.0</td>\n",
       "      <td>192.0</td>\n",
       "      <td>7000.0</td>\n",
       "      <td>214.0</td>\n",
       "      <td>153.0</td>\n",
       "      <td>2</td>\n",
       "    </tr>\n",
       "    <tr>\n",
       "      <th>3</th>\n",
       "      <td>13</td>\n",
       "      <td>NaN</td>\n",
       "      <td>NaN</td>\n",
       "      <td>NaN</td>\n",
       "      <td>127.0</td>\n",
       "      <td>221.0</td>\n",
       "      <td>NaN</td>\n",
       "    </tr>\n",
       "    <tr>\n",
       "      <th>4</th>\n",
       "      <td>14</td>\n",
       "      <td>NaN</td>\n",
       "      <td>NaN</td>\n",
       "      <td>NaN</td>\n",
       "      <td>116.0</td>\n",
       "      <td>217.0</td>\n",
       "      <td>NaN</td>\n",
       "    </tr>\n",
       "    <tr>\n",
       "      <th>5</th>\n",
       "      <td>15</td>\n",
       "      <td>NaN</td>\n",
       "      <td>NaN</td>\n",
       "      <td>NaN</td>\n",
       "      <td>129.0</td>\n",
       "      <td>195.0</td>\n",
       "      <td>NaN</td>\n",
       "    </tr>\n",
       "    <tr>\n",
       "      <th>6</th>\n",
       "      <td>16</td>\n",
       "      <td>NaN</td>\n",
       "      <td>NaN</td>\n",
       "      <td>NaN</td>\n",
       "      <td>138.0</td>\n",
       "      <td>186.0</td>\n",
       "      <td>NaN</td>\n",
       "    </tr>\n",
       "  </tbody>\n",
       "</table>\n",
       "</div>"
      ],
      "text/plain": [
       "   timepoint  cell X  cell Y  cell area  lac X  lac Y stage\n",
       "0          1   182.0   111.0     7000.0  166.0  186.0     1\n",
       "1         62     NaN     NaN        NaN    NaN    NaN     m\n",
       "2         66   187.0   192.0     7000.0  214.0  153.0     2\n",
       "3         13     NaN     NaN        NaN  127.0  221.0   NaN\n",
       "4         14     NaN     NaN        NaN  116.0  217.0   NaN\n",
       "5         15     NaN     NaN        NaN  129.0  195.0   NaN\n",
       "6         16     NaN     NaN        NaN  138.0  186.0   NaN"
      ]
     },
     "execution_count": 12,
     "metadata": {},
     "output_type": "execute_result"
    }
   ],
   "source": [
    "# load cell info for analysis\n",
    "\n",
    "cell_name = 'top_cell'\n",
    "\n",
    "cell_info = pd.read_excel(data_main_folder + os.sep + 'pos11_top_cell_info.xlsx')\n",
    "\n",
    "cell_info"
   ]
  },
  {
   "cell_type": "code",
   "execution_count": 13,
   "metadata": {},
   "outputs": [
    {
     "data": {
      "text/plain": [
       "{1: {'cell_centroid': [182.0, 111.0],\n",
       "  'cell_area': 7000.0,\n",
       "  'foci_centroid': [166.0, 186.0]},\n",
       " 62: {'cell_centroid': [nan, nan],\n",
       "  'cell_area': nan,\n",
       "  'foci_centroid': [nan, nan]},\n",
       " 66: {'cell_centroid': [187.0, 192.0],\n",
       "  'cell_area': 7000.0,\n",
       "  'foci_centroid': [214.0, 153.0]},\n",
       " 13: {'cell_centroid': [nan, nan],\n",
       "  'cell_area': nan,\n",
       "  'foci_centroid': [127.0, 221.0]},\n",
       " 14: {'cell_centroid': [nan, nan],\n",
       "  'cell_area': nan,\n",
       "  'foci_centroid': [116.0, 217.0]},\n",
       " 15: {'cell_centroid': [nan, nan],\n",
       "  'cell_area': nan,\n",
       "  'foci_centroid': [129.0, 195.0]},\n",
       " 16: {'cell_centroid': [nan, nan],\n",
       "  'cell_area': nan,\n",
       "  'foci_centroid': [138.0, 186.0]}}"
      ]
     },
     "execution_count": 13,
     "metadata": {},
     "output_type": "execute_result"
    }
   ],
   "source": [
    "_all_time_points = range(images.sizes[\"t\"])\n",
    "\n",
    "_first_duration = range(int(cell_info[cell_info['stage'] == 1]['timepoint'])-1,\n",
    "                        int(cell_info[cell_info['stage'] == 'm']['timepoint'])-1)\n",
    "\n",
    "_mitosis_duration = range(int(cell_info[cell_info['stage'] == 'm']['timepoint']-1),\n",
    "                        int(cell_info[cell_info['stage'] == 2]['timepoint'])-1)\n",
    "\n",
    "_second_duration = range(int(cell_info[cell_info['stage'] == 2]['timepoint'])-1,\n",
    "                        images.sizes[\"t\"])\n",
    "\n",
    "#_first_duration\n",
    "#_mitosis_duration\n",
    "#_second_duration\n",
    "\n",
    "\n",
    "annotated_timepoints = {}\n",
    "\n",
    "\n",
    "for _item in cell_info.iloc():\n",
    "    \n",
    "    annotated_timepoints[_item['timepoint']] = {}\n",
    "    annotated_timepoints[_item['timepoint']]['cell_centroid']=[_item['cell X'],_item['cell Y']]\n",
    "    annotated_timepoints[_item['timepoint']]['cell_area']=_item['cell area']\n",
    "    annotated_timepoints[_item['timepoint']]['foci_centroid']=[_item['lac X'],_item['lac Y']]\n",
    "\n",
    "annotated_timepoints"
   ]
  },
  {
   "cell_type": "markdown",
   "metadata": {},
   "source": [
    "##  Analysis for cell of interest"
   ]
  },
  {
   "cell_type": "markdown",
   "metadata": {},
   "source": [
    "### 1. Define basic function for analysis"
   ]
  },
  {
   "cell_type": "code",
   "execution_count": 14,
   "metadata": {},
   "outputs": [],
   "source": [
    "def segment_and_track_object (images, ch_index,\n",
    "                            object_centroid = [176,103],\n",
    "                              ref_centroid = [],\n",
    "                            object_area = 7000,\n",
    "                            time = 0, \n",
    "                              \n",
    "                            search_dist = 600,\n",
    "                            z_selected = 1,\n",
    "                            nuclei_filter = 600,\n",
    "                              foci_filter = 20,\n",
    "                            mode = 'nuclei',\n",
    "                              use_area = True,\n",
    "                            crop = True,\n",
    "                             crop_x1=0,crop_x2=2048,crop_y1=0,crop_y2=2048):\n",
    "\n",
    "    \n",
    "    \n",
    "    # load 3d images for the timepoint selected\n",
    "    image_ch = []\n",
    "    for _lyr in range(images.sizes[\"z\"]):\n",
    "        lyr_ch = np.array(images.get_frame_2D (v=time, c=ch_index-1, z=_lyr))[crop_x1: crop_x2, crop_y1: crop_y2]\n",
    "        image_ch.append(lyr_ch)\n",
    "        \n",
    "    image_ch = np.array(image_ch)\n",
    "\n",
    "        \n",
    "    if mode == 'nuclei':\n",
    "     # segment DAPI and track the cell\n",
    "        model= models.Cellpose(gpu=False, model_type=mode)\n",
    "\n",
    "        object_masks, flows, styles, diams = model.eval(image_ch[z_selected], diameter=100, channels = [0,0],\n",
    "                                         flow_threshold=0.4, do_3D=False)\n",
    "    \n",
    "        #print(np.unique(dna_masks))\n",
    "        object_masks =  remove_small_objects(object_masks, nuclei_filter ,connectivity=1)\n",
    "        object_masks = erosion(object_masks, disk(20))\n",
    "        object_masks = dilation(object_masks, disk(20))\n",
    "        #print(np.unique(dna_masks))\n",
    "    \n",
    "    if mode == 'lac':\n",
    "        object_masks = image_ch[z_selected] > threshold_yen(image_ch[z_selected])\n",
    "        #object_masks = dilation(object_masks)\n",
    "        object_masks = remove_small_objects(object_masks,foci_filter)\n",
    "        object_masks = skimage.measure.label(object_masks)\n",
    "        \n",
    "\n",
    "    found_dist = search_dist\n",
    "    combined_dist = search_dist * 5\n",
    "\n",
    "    unique_objects_id = np.unique(object_masks)[np.unique(object_masks)>0]\n",
    "    \n",
    "    # if has one candiadte object (currently requires dna to always have one)\n",
    "    if len(unique_objects_id) >0:\n",
    "\n",
    "        for i in unique_objects_id:\n",
    "            cand_object = object_masks == i\n",
    "            cand_object[cand_object>0]=1\n",
    "            cand_object = np.array(cand_object)\n",
    "        \n",
    "        \n",
    "            region = skimage.measure.regionprops (skimage.measure.label(cand_object))[0]   \n",
    "            _dist = round(np.linalg.norm(np.array([region.centroid[1], region.centroid[0]])\n",
    "                                                    - np.array(object_centroid)))\n",
    "        \n",
    "            if use_area and abs(region.area - object_area)/object_area <=0.4:\n",
    "                # also use reference distance\n",
    "                if len(ref_centroid) == 2:\n",
    "                    _dist_ref = round(np.linalg.norm(np.array([region.centroid[1], region.centroid[0]])\n",
    "                                                    - np.array(ref_centroid)))\n",
    "                \n",
    "                    if _dist_ref + _dist  <= combined_dist:\n",
    "                        combined_dist = _dist_ref + _dist\n",
    "                        kept_object = cand_object\n",
    "                        \n",
    "                else:\n",
    "                    if _dist <= found_dist:  \n",
    "                        found_dist = _dist\n",
    "                        kept_object = cand_object   \n",
    "\n",
    "                    \n",
    "                    \n",
    "            \n",
    "            else: \n",
    "                # also use reference distance\n",
    "                if len(ref_centroid) == 2:\n",
    "                    _dist_ref = round(np.linalg.norm(np.array([region.centroid[1], region.centroid[0]])\n",
    "                                                    - np.array(ref_centroid)))\n",
    "                \n",
    "                    if _dist_ref + _dist  <= combined_dist:\n",
    "                        combined_dist = _dist_ref + _dist\n",
    "                        kept_object = cand_object\n",
    "                        \n",
    "                else:\n",
    "                    if _dist <= found_dist:  \n",
    "                        found_dist = _dist\n",
    "                        kept_object = cand_object\n",
    "                        \n",
    "                        \n",
    "        if len(kept_object) > 0:                \n",
    "            region = skimage.measure.regionprops (skimage.measure.label(kept_object))[0]    \n",
    "            found_object_centroid = [round(region.centroid[1]), round(region.centroid[0])]\n",
    "            found_object_area = region.area\n",
    "        else:\n",
    "            kept_object = np.zeros(image_ch[z_selected].shape) \n",
    "            #  this results in ms2 acumulation qualitative mode\n",
    "        \n",
    "            found_object_centroid = object_centroid  # use prior centroid if there is transient loss\n",
    "            found_object_area = object_area\n",
    "            found_dist = search_dist\n",
    "            \n",
    "            \n",
    "        \n",
    "    else: # if no candiadte object for lac: eg., lac loci lost\n",
    "        kept_object = np.zeros(image_ch[z_selected].shape) \n",
    "        #  this results in ms2 acumulation qualitative mode\n",
    "        \n",
    "        found_object_centroid = object_centroid  # use prior centroid if there is transient loss\n",
    "        found_object_area = object_area\n",
    "        found_dist = search_dist\n",
    "        \n",
    "    \n",
    "    return [kept_object, found_object_centroid, found_object_area, found_dist]\n",
    "    \n",
    "    \n",
    "\n",
    "    "
   ]
  },
  {
   "cell_type": "markdown",
   "metadata": {},
   "source": [
    "### 2. Run analysis for the cell"
   ]
  },
  {
   "cell_type": "code",
   "execution_count": null,
   "metadata": {},
   "outputs": [
    {
     "name": "stdout",
     "output_type": "stream",
     "text": [
      "-- tracking cell at timepoint 0.\n",
      "++++++++++++++++++++++++++++++++++++++++++++++++++++++++++++++++++++++++++++++++++\n",
      ">>>> using CPU\n",
      "Running test snippet to check if MKL-DNN working\n",
      "see https://pytorch.org/docs/stable/backends.html?highlight=mkl\n",
      "** MKL version working - CPU version is sped up. **\n",
      "processing 1 image(s)\n",
      "time spent: running network 1.29s; flow+mask computation 0.05\n",
      "estimated masks for 1 image(s) in 1.35 sec\n",
      ">>>> TOTAL TIME 1.35 sec\n"
     ]
    },
    {
     "name": "stderr",
     "output_type": "stream",
     "text": [
      "C:\\Users\\Shiwei\\AppData\\Roaming\\Python\\Python37\\site-packages\\ipykernel_launcher.py:65: DeprecationWarning: The truth value of an empty array is ambiguous. Returning False, but in future this will result in an error. Use `array.size > 0` to check that an array is not empty.\n"
     ]
    },
    {
     "name": "stdout",
     "output_type": "stream",
     "text": [
      "-- normalized foci intensity for ms2 is 1.1151557322035044\n"
     ]
    },
    {
     "name": "stderr",
     "output_type": "stream",
     "text": [
      "C:\\Users\\Shiwei\\AppData\\Roaming\\Python\\Python37\\site-packages\\ipykernel_launcher.py:132: UserWarning: D:\\Analyzed_CellBio\\Stam\\Lac_Ms_live\\Pos11\\top_cell\\Pos11_DNA_t1.tif is a boolean image: setting True to 255 and False to 0. To silence this warning, please convert the image using img_as_ubyte.\n",
      "C:\\Users\\Shiwei\\AppData\\Roaming\\Python\\Python37\\site-packages\\ipykernel_launcher.py:132: UserWarning: D:\\Analyzed_CellBio\\Stam\\Lac_Ms_live\\Pos11\\top_cell\\Pos11_Lac_t1.tif is a boolean image: setting True to 255 and False to 0. To silence this warning, please convert the image using img_as_ubyte.\n"
     ]
    },
    {
     "name": "stdout",
     "output_type": "stream",
     "text": [
      "-- tracking cell at timepoint 1.\n",
      "++++++++++++++++++++++++++++++++++++++++++++++++++++++++++++++++++++++++++++++++++\n",
      ">>>> using CPU\n",
      "Running test snippet to check if MKL-DNN working\n",
      "see https://pytorch.org/docs/stable/backends.html?highlight=mkl\n",
      "** MKL version working - CPU version is sped up. **\n",
      "processing 1 image(s)\n",
      "time spent: running network 1.07s; flow+mask computation 0.04\n",
      "estimated masks for 1 image(s) in 1.11 sec\n",
      ">>>> TOTAL TIME 1.11 sec\n",
      "-- normalized foci intensity for ms2 is 1.0616820996858884\n",
      "-- tracking cell at timepoint 2.\n",
      "++++++++++++++++++++++++++++++++++++++++++++++++++++++++++++++++++++++++++++++++++\n",
      ">>>> using CPU\n",
      "Running test snippet to check if MKL-DNN working\n",
      "see https://pytorch.org/docs/stable/backends.html?highlight=mkl\n",
      "** MKL version working - CPU version is sped up. **\n"
     ]
    },
    {
     "name": "stderr",
     "output_type": "stream",
     "text": [
      "C:\\Users\\Shiwei\\AppData\\Roaming\\Python\\Python37\\site-packages\\ipykernel_launcher.py:132: UserWarning: D:\\Analyzed_CellBio\\Stam\\Lac_Ms_live\\Pos11\\top_cell\\Pos11_DNA_t2.tif is a boolean image: setting True to 255 and False to 0. To silence this warning, please convert the image using img_as_ubyte.\n",
      "C:\\Users\\Shiwei\\AppData\\Roaming\\Python\\Python37\\site-packages\\ipykernel_launcher.py:132: UserWarning: D:\\Analyzed_CellBio\\Stam\\Lac_Ms_live\\Pos11\\top_cell\\Pos11_Lac_t2.tif is a boolean image: setting True to 255 and False to 0. To silence this warning, please convert the image using img_as_ubyte.\n"
     ]
    },
    {
     "name": "stdout",
     "output_type": "stream",
     "text": [
      "processing 1 image(s)\n",
      "time spent: running network 1.04s; flow+mask computation 0.03\n",
      "estimated masks for 1 image(s) in 1.08 sec\n",
      ">>>> TOTAL TIME 1.08 sec\n",
      "-- normalized foci intensity for ms2 is 1.4551213006597061\n",
      "-- tracking cell at timepoint 3.\n",
      "++++++++++++++++++++++++++++++++++++++++++++++++++++++++++++++++++++++++++++++++++\n",
      ">>>> using CPU\n",
      "Running test snippet to check if MKL-DNN working\n",
      "see https://pytorch.org/docs/stable/backends.html?highlight=mkl\n",
      "** MKL version working - CPU version is sped up. **\n"
     ]
    },
    {
     "name": "stderr",
     "output_type": "stream",
     "text": [
      "C:\\Users\\Shiwei\\AppData\\Roaming\\Python\\Python37\\site-packages\\ipykernel_launcher.py:132: UserWarning: D:\\Analyzed_CellBio\\Stam\\Lac_Ms_live\\Pos11\\top_cell\\Pos11_DNA_t3.tif is a boolean image: setting True to 255 and False to 0. To silence this warning, please convert the image using img_as_ubyte.\n",
      "C:\\Users\\Shiwei\\AppData\\Roaming\\Python\\Python37\\site-packages\\ipykernel_launcher.py:132: UserWarning: D:\\Analyzed_CellBio\\Stam\\Lac_Ms_live\\Pos11\\top_cell\\Pos11_Lac_t3.tif is a boolean image: setting True to 255 and False to 0. To silence this warning, please convert the image using img_as_ubyte.\n"
     ]
    },
    {
     "name": "stdout",
     "output_type": "stream",
     "text": [
      "processing 1 image(s)\n",
      "time spent: running network 1.06s; flow+mask computation 0.05\n",
      "estimated masks for 1 image(s) in 1.11 sec\n",
      ">>>> TOTAL TIME 1.11 sec\n",
      "-- normalized foci intensity for ms2 is 1.2518866884874658\n",
      "-- tracking cell at timepoint 4.\n",
      "++++++++++++++++++++++++++++++++++++++++++++++++++++++++++++++++++++++++++++++++++\n"
     ]
    },
    {
     "name": "stderr",
     "output_type": "stream",
     "text": [
      "C:\\Users\\Shiwei\\AppData\\Roaming\\Python\\Python37\\site-packages\\ipykernel_launcher.py:132: UserWarning: D:\\Analyzed_CellBio\\Stam\\Lac_Ms_live\\Pos11\\top_cell\\Pos11_DNA_t4.tif is a boolean image: setting True to 255 and False to 0. To silence this warning, please convert the image using img_as_ubyte.\n",
      "C:\\Users\\Shiwei\\AppData\\Roaming\\Python\\Python37\\site-packages\\ipykernel_launcher.py:132: UserWarning: D:\\Analyzed_CellBio\\Stam\\Lac_Ms_live\\Pos11\\top_cell\\Pos11_Lac_t4.tif is a boolean image: setting True to 255 and False to 0. To silence this warning, please convert the image using img_as_ubyte.\n"
     ]
    },
    {
     "name": "stdout",
     "output_type": "stream",
     "text": [
      ">>>> using CPU\n",
      "Running test snippet to check if MKL-DNN working\n",
      "see https://pytorch.org/docs/stable/backends.html?highlight=mkl\n",
      "** MKL version working - CPU version is sped up. **\n",
      "processing 1 image(s)\n",
      "time spent: running network 1.09s; flow+mask computation 0.06\n",
      "estimated masks for 1 image(s) in 1.15 sec\n",
      ">>>> TOTAL TIME 1.15 sec\n",
      "-- normalized foci intensity for ms2 is 1.4805463849628362\n",
      "-- tracking cell at timepoint 5.\n",
      "++++++++++++++++++++++++++++++++++++++++++++++++++++++++++++++++++++++++++++++++++\n",
      ">>>> using CPU\n",
      "Running test snippet to check if MKL-DNN working\n",
      "see https://pytorch.org/docs/stable/backends.html?highlight=mkl\n",
      "** MKL version working - CPU version is sped up. **\n"
     ]
    },
    {
     "name": "stderr",
     "output_type": "stream",
     "text": [
      "C:\\Users\\Shiwei\\AppData\\Roaming\\Python\\Python37\\site-packages\\ipykernel_launcher.py:132: UserWarning: D:\\Analyzed_CellBio\\Stam\\Lac_Ms_live\\Pos11\\top_cell\\Pos11_DNA_t5.tif is a boolean image: setting True to 255 and False to 0. To silence this warning, please convert the image using img_as_ubyte.\n",
      "C:\\Users\\Shiwei\\AppData\\Roaming\\Python\\Python37\\site-packages\\ipykernel_launcher.py:132: UserWarning: D:\\Analyzed_CellBio\\Stam\\Lac_Ms_live\\Pos11\\top_cell\\Pos11_Lac_t5.tif is a boolean image: setting True to 255 and False to 0. To silence this warning, please convert the image using img_as_ubyte.\n"
     ]
    },
    {
     "name": "stdout",
     "output_type": "stream",
     "text": [
      "processing 1 image(s)\n",
      "time spent: running network 1.11s; flow+mask computation 0.06\n",
      "estimated masks for 1 image(s) in 1.18 sec\n",
      ">>>> TOTAL TIME 1.18 sec\n",
      "-- normalized foci intensity for ms2 is 1.3857981449682444\n",
      "-- tracking cell at timepoint 6.\n",
      "++++++++++++++++++++++++++++++++++++++++++++++++++++++++++++++++++++++++++++++++++\n",
      ">>>> using CPU\n",
      "Running test snippet to check if MKL-DNN working\n",
      "see https://pytorch.org/docs/stable/backends.html?highlight=mkl\n",
      "** MKL version working - CPU version is sped up. **\n"
     ]
    },
    {
     "name": "stderr",
     "output_type": "stream",
     "text": [
      "C:\\Users\\Shiwei\\AppData\\Roaming\\Python\\Python37\\site-packages\\ipykernel_launcher.py:132: UserWarning: D:\\Analyzed_CellBio\\Stam\\Lac_Ms_live\\Pos11\\top_cell\\Pos11_DNA_t6.tif is a boolean image: setting True to 255 and False to 0. To silence this warning, please convert the image using img_as_ubyte.\n",
      "C:\\Users\\Shiwei\\AppData\\Roaming\\Python\\Python37\\site-packages\\ipykernel_launcher.py:132: UserWarning: D:\\Analyzed_CellBio\\Stam\\Lac_Ms_live\\Pos11\\top_cell\\Pos11_Lac_t6.tif is a boolean image: setting True to 255 and False to 0. To silence this warning, please convert the image using img_as_ubyte.\n"
     ]
    },
    {
     "name": "stdout",
     "output_type": "stream",
     "text": [
      "processing 1 image(s)\n",
      "time spent: running network 1.23s; flow+mask computation 0.06\n",
      "estimated masks for 1 image(s) in 1.29 sec\n",
      ">>>> TOTAL TIME 1.29 sec\n",
      "-- normalized foci intensity for ms2 is 1.3498312241448334\n",
      "-- tracking cell at timepoint 7.\n",
      "++++++++++++++++++++++++++++++++++++++++++++++++++++++++++++++++++++++++++++++++++\n",
      ">>>> using CPU\n",
      "Running test snippet to check if MKL-DNN working\n",
      "see https://pytorch.org/docs/stable/backends.html?highlight=mkl\n",
      "** MKL version working - CPU version is sped up. **\n"
     ]
    },
    {
     "name": "stderr",
     "output_type": "stream",
     "text": [
      "C:\\Users\\Shiwei\\AppData\\Roaming\\Python\\Python37\\site-packages\\ipykernel_launcher.py:132: UserWarning: D:\\Analyzed_CellBio\\Stam\\Lac_Ms_live\\Pos11\\top_cell\\Pos11_DNA_t7.tif is a boolean image: setting True to 255 and False to 0. To silence this warning, please convert the image using img_as_ubyte.\n",
      "C:\\Users\\Shiwei\\AppData\\Roaming\\Python\\Python37\\site-packages\\ipykernel_launcher.py:132: UserWarning: D:\\Analyzed_CellBio\\Stam\\Lac_Ms_live\\Pos11\\top_cell\\Pos11_Lac_t7.tif is a boolean image: setting True to 255 and False to 0. To silence this warning, please convert the image using img_as_ubyte.\n"
     ]
    },
    {
     "name": "stdout",
     "output_type": "stream",
     "text": [
      "processing 1 image(s)\n",
      "time spent: running network 1.03s; flow+mask computation 0.04\n",
      "estimated masks for 1 image(s) in 1.07 sec\n",
      ">>>> TOTAL TIME 1.07 sec\n",
      "-- normalized foci intensity for ms2 is 1.036022974628385\n",
      "-- tracking cell at timepoint 8.\n",
      "++++++++++++++++++++++++++++++++++++++++++++++++++++++++++++++++++++++++++++++++++\n",
      ">>>> using CPU\n",
      "Running test snippet to check if MKL-DNN working\n",
      "see https://pytorch.org/docs/stable/backends.html?highlight=mkl\n",
      "** MKL version working - CPU version is sped up. **\n"
     ]
    },
    {
     "name": "stderr",
     "output_type": "stream",
     "text": [
      "C:\\Users\\Shiwei\\AppData\\Roaming\\Python\\Python37\\site-packages\\ipykernel_launcher.py:132: UserWarning: D:\\Analyzed_CellBio\\Stam\\Lac_Ms_live\\Pos11\\top_cell\\Pos11_DNA_t8.tif is a boolean image: setting True to 255 and False to 0. To silence this warning, please convert the image using img_as_ubyte.\n",
      "C:\\Users\\Shiwei\\AppData\\Roaming\\Python\\Python37\\site-packages\\ipykernel_launcher.py:132: UserWarning: D:\\Analyzed_CellBio\\Stam\\Lac_Ms_live\\Pos11\\top_cell\\Pos11_Lac_t8.tif is a boolean image: setting True to 255 and False to 0. To silence this warning, please convert the image using img_as_ubyte.\n"
     ]
    },
    {
     "name": "stdout",
     "output_type": "stream",
     "text": [
      "processing 1 image(s)\n",
      "time spent: running network 1.08s; flow+mask computation 0.05\n",
      "estimated masks for 1 image(s) in 1.14 sec\n",
      ">>>> TOTAL TIME 1.14 sec\n",
      "-- normalized foci intensity for ms2 is 0.8611970585756806\n",
      "-- tracking cell at timepoint 9.\n",
      "++++++++++++++++++++++++++++++++++++++++++++++++++++++++++++++++++++++++++++++++++\n",
      ">>>> using CPU\n",
      "Running test snippet to check if MKL-DNN working\n",
      "see https://pytorch.org/docs/stable/backends.html?highlight=mkl\n",
      "** MKL version working - CPU version is sped up. **\n"
     ]
    },
    {
     "name": "stderr",
     "output_type": "stream",
     "text": [
      "C:\\Users\\Shiwei\\AppData\\Roaming\\Python\\Python37\\site-packages\\ipykernel_launcher.py:132: UserWarning: D:\\Analyzed_CellBio\\Stam\\Lac_Ms_live\\Pos11\\top_cell\\Pos11_DNA_t9.tif is a boolean image: setting True to 255 and False to 0. To silence this warning, please convert the image using img_as_ubyte.\n",
      "C:\\Users\\Shiwei\\AppData\\Roaming\\Python\\Python37\\site-packages\\ipykernel_launcher.py:132: UserWarning: D:\\Analyzed_CellBio\\Stam\\Lac_Ms_live\\Pos11\\top_cell\\Pos11_Lac_t9.tif is a boolean image: setting True to 255 and False to 0. To silence this warning, please convert the image using img_as_ubyte.\n"
     ]
    },
    {
     "name": "stdout",
     "output_type": "stream",
     "text": [
      "processing 1 image(s)\n",
      "time spent: running network 1.00s; flow+mask computation 0.05\n",
      "estimated masks for 1 image(s) in 1.06 sec\n",
      ">>>> TOTAL TIME 1.06 sec\n",
      "-- normalized foci intensity for ms2 is 0.3707148980640663\n",
      "-- tracking cell at timepoint 10.\n",
      "++++++++++++++++++++++++++++++++++++++++++++++++++++++++++++++++++++++++++++++++++\n",
      ">>>> using CPU\n",
      "Running test snippet to check if MKL-DNN working\n",
      "see https://pytorch.org/docs/stable/backends.html?highlight=mkl\n",
      "** MKL version working - CPU version is sped up. **\n"
     ]
    },
    {
     "name": "stderr",
     "output_type": "stream",
     "text": [
      "C:\\Users\\Shiwei\\AppData\\Roaming\\Python\\Python37\\site-packages\\ipykernel_launcher.py:132: UserWarning: D:\\Analyzed_CellBio\\Stam\\Lac_Ms_live\\Pos11\\top_cell\\Pos11_DNA_t10.tif is a boolean image: setting True to 255 and False to 0. To silence this warning, please convert the image using img_as_ubyte.\n",
      "C:\\Users\\Shiwei\\AppData\\Roaming\\Python\\Python37\\site-packages\\ipykernel_launcher.py:132: UserWarning: D:\\Analyzed_CellBio\\Stam\\Lac_Ms_live\\Pos11\\top_cell\\Pos11_Lac_t10.tif is a boolean image: setting True to 255 and False to 0. To silence this warning, please convert the image using img_as_ubyte.\n"
     ]
    },
    {
     "name": "stdout",
     "output_type": "stream",
     "text": [
      "processing 1 image(s)\n",
      "time spent: running network 1.05s; flow+mask computation 0.05\n",
      "estimated masks for 1 image(s) in 1.12 sec\n",
      ">>>> TOTAL TIME 1.12 sec\n",
      "-- normalized foci intensity for ms2 is 0.49689461073052277\n",
      "-- tracking cell at timepoint 11.\n",
      "++++++++++++++++++++++++++++++++++++++++++++++++++++++++++++++++++++++++++++++++++\n",
      ">>>> using CPU\n"
     ]
    },
    {
     "name": "stderr",
     "output_type": "stream",
     "text": [
      "C:\\Users\\Shiwei\\AppData\\Roaming\\Python\\Python37\\site-packages\\ipykernel_launcher.py:132: UserWarning: D:\\Analyzed_CellBio\\Stam\\Lac_Ms_live\\Pos11\\top_cell\\Pos11_DNA_t11.tif is a boolean image: setting True to 255 and False to 0. To silence this warning, please convert the image using img_as_ubyte.\n",
      "C:\\Users\\Shiwei\\AppData\\Roaming\\Python\\Python37\\site-packages\\ipykernel_launcher.py:132: UserWarning: D:\\Analyzed_CellBio\\Stam\\Lac_Ms_live\\Pos11\\top_cell\\Pos11_Lac_t11.tif is a boolean image: setting True to 255 and False to 0. To silence this warning, please convert the image using img_as_ubyte.\n"
     ]
    },
    {
     "name": "stdout",
     "output_type": "stream",
     "text": [
      "Running test snippet to check if MKL-DNN working\n",
      "see https://pytorch.org/docs/stable/backends.html?highlight=mkl\n",
      "** MKL version working - CPU version is sped up. **\n",
      "processing 1 image(s)\n",
      "time spent: running network 1.15s; flow+mask computation 0.05\n",
      "estimated masks for 1 image(s) in 1.21 sec\n",
      ">>>> TOTAL TIME 1.21 sec\n",
      "-- normalized foci intensity for ms2 is 0.3561416433145134\n",
      "-- tracking cell at timepoint 12.\n",
      "++++++++++++++++++++++++++++++++++++++++++++++++++++++++++++++++++++++++++++++++++\n"
     ]
    },
    {
     "name": "stderr",
     "output_type": "stream",
     "text": [
      "C:\\Users\\Shiwei\\AppData\\Roaming\\Python\\Python37\\site-packages\\ipykernel_launcher.py:132: UserWarning: D:\\Analyzed_CellBio\\Stam\\Lac_Ms_live\\Pos11\\top_cell\\Pos11_DNA_t12.tif is a boolean image: setting True to 255 and False to 0. To silence this warning, please convert the image using img_as_ubyte.\n",
      "C:\\Users\\Shiwei\\AppData\\Roaming\\Python\\Python37\\site-packages\\ipykernel_launcher.py:132: UserWarning: D:\\Analyzed_CellBio\\Stam\\Lac_Ms_live\\Pos11\\top_cell\\Pos11_Lac_t12.tif is a boolean image: setting True to 255 and False to 0. To silence this warning, please convert the image using img_as_ubyte.\n"
     ]
    },
    {
     "name": "stdout",
     "output_type": "stream",
     "text": [
      ">>>> using CPU\n",
      "Running test snippet to check if MKL-DNN working\n",
      "see https://pytorch.org/docs/stable/backends.html?highlight=mkl\n",
      "** MKL version working - CPU version is sped up. **\n",
      "processing 1 image(s)\n",
      "time spent: running network 1.00s; flow+mask computation 0.05\n",
      "estimated masks for 1 image(s) in 1.06 sec\n",
      ">>>> TOTAL TIME 1.06 sec\n",
      "-- normalized foci intensity for ms2 is 0.30356723149021386\n",
      "-- tracking cell at timepoint 13.\n",
      "++++++++++++++++++++++++++++++++++++++++++++++++++++++++++++++++++++++++++++++++++\n",
      ">>>> using CPU\n",
      "Running test snippet to check if MKL-DNN working\n",
      "see https://pytorch.org/docs/stable/backends.html?highlight=mkl\n",
      "** MKL version working - CPU version is sped up. **\n"
     ]
    },
    {
     "name": "stderr",
     "output_type": "stream",
     "text": [
      "C:\\Users\\Shiwei\\AppData\\Roaming\\Python\\Python37\\site-packages\\ipykernel_launcher.py:132: UserWarning: D:\\Analyzed_CellBio\\Stam\\Lac_Ms_live\\Pos11\\top_cell\\Pos11_DNA_t13.tif is a boolean image: setting True to 255 and False to 0. To silence this warning, please convert the image using img_as_ubyte.\n",
      "C:\\Users\\Shiwei\\AppData\\Roaming\\Python\\Python37\\site-packages\\ipykernel_launcher.py:132: UserWarning: D:\\Analyzed_CellBio\\Stam\\Lac_Ms_live\\Pos11\\top_cell\\Pos11_Lac_t13.tif is a boolean image: setting True to 255 and False to 0. To silence this warning, please convert the image using img_as_ubyte.\n"
     ]
    },
    {
     "name": "stdout",
     "output_type": "stream",
     "text": [
      "processing 1 image(s)\n",
      "time spent: running network 1.07s; flow+mask computation 0.05\n",
      "estimated masks for 1 image(s) in 1.13 sec\n",
      ">>>> TOTAL TIME 1.13 sec\n",
      "-- normalized foci intensity for ms2 is 0.0827158614445345\n",
      "-- tracking cell at timepoint 14.\n",
      "++++++++++++++++++++++++++++++++++++++++++++++++++++++++++++++++++++++++++++++++++\n",
      ">>>> using CPU\n",
      "Running test snippet to check if MKL-DNN working\n",
      "see https://pytorch.org/docs/stable/backends.html?highlight=mkl\n",
      "** MKL version working - CPU version is sped up. **\n"
     ]
    },
    {
     "name": "stderr",
     "output_type": "stream",
     "text": [
      "C:\\Users\\Shiwei\\AppData\\Roaming\\Python\\Python37\\site-packages\\ipykernel_launcher.py:132: UserWarning: D:\\Analyzed_CellBio\\Stam\\Lac_Ms_live\\Pos11\\top_cell\\Pos11_DNA_t14.tif is a boolean image: setting True to 255 and False to 0. To silence this warning, please convert the image using img_as_ubyte.\n",
      "C:\\Users\\Shiwei\\AppData\\Roaming\\Python\\Python37\\site-packages\\ipykernel_launcher.py:132: UserWarning: D:\\Analyzed_CellBio\\Stam\\Lac_Ms_live\\Pos11\\top_cell\\Pos11_Lac_t14.tif is a boolean image: setting True to 255 and False to 0. To silence this warning, please convert the image using img_as_ubyte.\n"
     ]
    },
    {
     "name": "stdout",
     "output_type": "stream",
     "text": [
      "processing 1 image(s)\n",
      "time spent: running network 1.07s; flow+mask computation 0.07\n",
      "estimated masks for 1 image(s) in 1.14 sec\n",
      ">>>> TOTAL TIME 1.14 sec\n",
      "-- normalized foci intensity for ms2 is 0.0849962094073177\n",
      "-- tracking cell at timepoint 15.\n",
      "++++++++++++++++++++++++++++++++++++++++++++++++++++++++++++++++++++++++++++++++++\n",
      ">>>> using CPU\n",
      "Running test snippet to check if MKL-DNN working\n",
      "see https://pytorch.org/docs/stable/backends.html?highlight=mkl\n",
      "** MKL version working - CPU version is sped up. **\n"
     ]
    },
    {
     "name": "stderr",
     "output_type": "stream",
     "text": [
      "C:\\Users\\Shiwei\\AppData\\Roaming\\Python\\Python37\\site-packages\\ipykernel_launcher.py:132: UserWarning: D:\\Analyzed_CellBio\\Stam\\Lac_Ms_live\\Pos11\\top_cell\\Pos11_DNA_t15.tif is a boolean image: setting True to 255 and False to 0. To silence this warning, please convert the image using img_as_ubyte.\n",
      "C:\\Users\\Shiwei\\AppData\\Roaming\\Python\\Python37\\site-packages\\ipykernel_launcher.py:132: UserWarning: D:\\Analyzed_CellBio\\Stam\\Lac_Ms_live\\Pos11\\top_cell\\Pos11_Lac_t15.tif is a boolean image: setting True to 255 and False to 0. To silence this warning, please convert the image using img_as_ubyte.\n"
     ]
    },
    {
     "name": "stdout",
     "output_type": "stream",
     "text": [
      "processing 1 image(s)\n",
      "time spent: running network 1.02s; flow+mask computation 0.05\n",
      "estimated masks for 1 image(s) in 1.08 sec\n",
      ">>>> TOTAL TIME 1.08 sec\n",
      "-- normalized foci intensity for ms2 is 0.24391101874860385\n",
      "-- tracking cell at timepoint 16.\n",
      "++++++++++++++++++++++++++++++++++++++++++++++++++++++++++++++++++++++++++++++++++\n",
      ">>>> using CPU\n",
      "Running test snippet to check if MKL-DNN working\n",
      "see https://pytorch.org/docs/stable/backends.html?highlight=mkl\n",
      "** MKL version working - CPU version is sped up. **\n"
     ]
    },
    {
     "name": "stderr",
     "output_type": "stream",
     "text": [
      "C:\\Users\\Shiwei\\AppData\\Roaming\\Python\\Python37\\site-packages\\ipykernel_launcher.py:132: UserWarning: D:\\Analyzed_CellBio\\Stam\\Lac_Ms_live\\Pos11\\top_cell\\Pos11_DNA_t16.tif is a boolean image: setting True to 255 and False to 0. To silence this warning, please convert the image using img_as_ubyte.\n",
      "C:\\Users\\Shiwei\\AppData\\Roaming\\Python\\Python37\\site-packages\\ipykernel_launcher.py:132: UserWarning: D:\\Analyzed_CellBio\\Stam\\Lac_Ms_live\\Pos11\\top_cell\\Pos11_Lac_t16.tif is a boolean image: setting True to 255 and False to 0. To silence this warning, please convert the image using img_as_ubyte.\n"
     ]
    },
    {
     "name": "stdout",
     "output_type": "stream",
     "text": [
      "processing 1 image(s)\n",
      "time spent: running network 1.05s; flow+mask computation 0.05\n",
      "estimated masks for 1 image(s) in 1.11 sec\n",
      ">>>> TOTAL TIME 1.11 sec\n",
      "-- normalized foci intensity for ms2 is 0.21160911093478738\n",
      "-- tracking cell at timepoint 17.\n",
      "++++++++++++++++++++++++++++++++++++++++++++++++++++++++++++++++++++++++++++++++++\n",
      ">>>> using CPU\n",
      "Running test snippet to check if MKL-DNN working\n",
      "see https://pytorch.org/docs/stable/backends.html?highlight=mkl\n",
      "** MKL version working - CPU version is sped up. **\n"
     ]
    },
    {
     "name": "stderr",
     "output_type": "stream",
     "text": [
      "C:\\Users\\Shiwei\\AppData\\Roaming\\Python\\Python37\\site-packages\\ipykernel_launcher.py:132: UserWarning: D:\\Analyzed_CellBio\\Stam\\Lac_Ms_live\\Pos11\\top_cell\\Pos11_DNA_t17.tif is a boolean image: setting True to 255 and False to 0. To silence this warning, please convert the image using img_as_ubyte.\n",
      "C:\\Users\\Shiwei\\AppData\\Roaming\\Python\\Python37\\site-packages\\ipykernel_launcher.py:132: UserWarning: D:\\Analyzed_CellBio\\Stam\\Lac_Ms_live\\Pos11\\top_cell\\Pos11_Lac_t17.tif is a boolean image: setting True to 255 and False to 0. To silence this warning, please convert the image using img_as_ubyte.\n"
     ]
    },
    {
     "name": "stdout",
     "output_type": "stream",
     "text": [
      "processing 1 image(s)\n",
      "time spent: running network 1.11s; flow+mask computation 0.05\n",
      "estimated masks for 1 image(s) in 1.16 sec\n",
      ">>>> TOTAL TIME 1.16 sec\n",
      "-- normalized foci intensity for ms2 is 0.19763014788625063\n",
      "-- tracking cell at timepoint 18.\n",
      "++++++++++++++++++++++++++++++++++++++++++++++++++++++++++++++++++++++++++++++++++\n",
      ">>>> using CPU"
     ]
    },
    {
     "name": "stderr",
     "output_type": "stream",
     "text": [
      "C:\\Users\\Shiwei\\AppData\\Roaming\\Python\\Python37\\site-packages\\ipykernel_launcher.py:132: UserWarning: D:\\Analyzed_CellBio\\Stam\\Lac_Ms_live\\Pos11\\top_cell\\Pos11_DNA_t18.tif is a boolean image: setting True to 255 and False to 0. To silence this warning, please convert the image using img_as_ubyte.\n",
      "C:\\Users\\Shiwei\\AppData\\Roaming\\Python\\Python37\\site-packages\\ipykernel_launcher.py:132: UserWarning: D:\\Analyzed_CellBio\\Stam\\Lac_Ms_live\\Pos11\\top_cell\\Pos11_Lac_t18.tif is a boolean image: setting True to 255 and False to 0. To silence this warning, please convert the image using img_as_ubyte.\n"
     ]
    },
    {
     "name": "stdout",
     "output_type": "stream",
     "text": [
      "\n",
      "Running test snippet to check if MKL-DNN working\n",
      "see https://pytorch.org/docs/stable/backends.html?highlight=mkl\n",
      "** MKL version working - CPU version is sped up. **\n",
      "processing 1 image(s)\n",
      "time spent: running network 1.00s; flow+mask computation 0.06\n",
      "estimated masks for 1 image(s) in 1.07 sec\n",
      ">>>> TOTAL TIME 1.07 sec\n",
      "-- normalized foci intensity for ms2 is 0.12878192583020592\n",
      "-- tracking cell at timepoint 19.\n",
      "++++++++++++++++++++++++++++++++++++++++++++++++++++++++++++++++++++++++++++++++++\n",
      ">>>> using CPU\n",
      "Running test snippet to check if MKL-DNN working\n",
      "see https://pytorch.org/docs/stable/backends.html?highlight=mkl\n",
      "** MKL version working - CPU version is sped up. **\n"
     ]
    },
    {
     "name": "stderr",
     "output_type": "stream",
     "text": [
      "C:\\Users\\Shiwei\\AppData\\Roaming\\Python\\Python37\\site-packages\\ipykernel_launcher.py:132: UserWarning: D:\\Analyzed_CellBio\\Stam\\Lac_Ms_live\\Pos11\\top_cell\\Pos11_DNA_t19.tif is a boolean image: setting True to 255 and False to 0. To silence this warning, please convert the image using img_as_ubyte.\n",
      "C:\\Users\\Shiwei\\AppData\\Roaming\\Python\\Python37\\site-packages\\ipykernel_launcher.py:132: UserWarning: D:\\Analyzed_CellBio\\Stam\\Lac_Ms_live\\Pos11\\top_cell\\Pos11_Lac_t19.tif is a boolean image: setting True to 255 and False to 0. To silence this warning, please convert the image using img_as_ubyte.\n"
     ]
    },
    {
     "name": "stdout",
     "output_type": "stream",
     "text": [
      "processing 1 image(s)\n",
      "time spent: running network 1.06s; flow+mask computation 0.06\n",
      "estimated masks for 1 image(s) in 1.14 sec\n",
      ">>>> TOTAL TIME 1.14 sec\n",
      "-- normalized foci intensity for ms2 is 0.052476075134366494\n",
      "-- tracking cell at timepoint 20.\n",
      "++++++++++++++++++++++++++++++++++++++++++++++++++++++++++++++++++++++++++++++++++\n",
      ">>>> using CPU\n",
      "Running test snippet to check if MKL-DNN working\n",
      "see https://pytorch.org/docs/stable/backends.html?highlight=mkl\n",
      "** MKL version working - CPU version is sped up. **\n"
     ]
    },
    {
     "name": "stderr",
     "output_type": "stream",
     "text": [
      "C:\\Users\\Shiwei\\AppData\\Roaming\\Python\\Python37\\site-packages\\ipykernel_launcher.py:132: UserWarning: D:\\Analyzed_CellBio\\Stam\\Lac_Ms_live\\Pos11\\top_cell\\Pos11_DNA_t20.tif is a boolean image: setting True to 255 and False to 0. To silence this warning, please convert the image using img_as_ubyte.\n",
      "C:\\Users\\Shiwei\\AppData\\Roaming\\Python\\Python37\\site-packages\\ipykernel_launcher.py:132: UserWarning: D:\\Analyzed_CellBio\\Stam\\Lac_Ms_live\\Pos11\\top_cell\\Pos11_Lac_t20.tif is a boolean image: setting True to 255 and False to 0. To silence this warning, please convert the image using img_as_ubyte.\n"
     ]
    }
   ],
   "source": [
    "all_measurement_timed = {}\n",
    "\n",
    "# BEFORE MITOSIS\n",
    "for timepoint in _all_time_points[:]:\n",
    "    \n",
    "    if (timepoint +1) in annotated_timepoints.keys():\n",
    "        \n",
    "        # if cell centroid is not np.nan\n",
    "        if annotated_timepoints[(timepoint +1)]['cell_centroid'][0]>0:\n",
    "            cell_centroid = annotated_timepoints[(timepoint +1)]['cell_centroid']\n",
    "            cell_centroid = [int(_coord) for _coord in cell_centroid]\n",
    "        else:\n",
    "            cell_centroid= cell_object_info[1]\n",
    "            \n",
    "        # if foci centroid is not np.nan\n",
    "        if annotated_timepoints[(timepoint +1)]['foci_centroid'][0]>0:\n",
    "            foci_centroid = annotated_timepoints[(timepoint +1)]['foci_centroid']\n",
    "            foci_centroid = [int(_coord) for _coord in foci_centroid]\n",
    "        else:\n",
    "            foci_centroid = foci_object_info[1]\n",
    "            \n",
    "        \n",
    "        # if area is not np.nan\n",
    "        if annotated_timepoints[(timepoint +1)]['cell_area']>0:\n",
    "            cell_area = annotated_timepoints[(timepoint +1)]['cell_area']\n",
    "        else:\n",
    "            cell_area =cell_object_info[2]\n",
    "            \n",
    "        \n",
    "            \n",
    "            \n",
    "    print (f'-- tracking cell at timepoint {timepoint}.') \n",
    "    print ('++++++++++++++++++++++++++++++++++++++++++++++++++++++++++++++++++++++++++++++++++')\n",
    "    \n",
    "    # track and locate cell of interest\n",
    "    cell_object_info = segment_and_track_object(images, 1,\n",
    "                                                time = timepoint, \n",
    "                                                object_centroid=cell_centroid,\n",
    "                                                object_area =cell_area, mode ='nuclei',\n",
    "                                               crop_x1=crop_x1,crop_x2=crop_x2,crop_y1=crop_y1,crop_y2=crop_y2)\n",
    "    \n",
    "    \n",
    "    \n",
    "    if (timepoint +1) in annotated_timepoints.keys():\n",
    "        ref_centroid = []\n",
    "    else:    \n",
    "        ref_centroid = cell_object_info[1]\n",
    "    \n",
    "\n",
    "    # track and locate cell of interest\n",
    "    foci_object_info = segment_and_track_object(images, 2,\n",
    "                                                time = timepoint, \n",
    "                                                object_centroid=foci_centroid, ref_centroid = ref_centroid,\n",
    "                                                object_area =[], mode ='lac',\n",
    "                                                crop_x1=crop_x1,crop_x2=crop_x2,crop_y1=crop_y1,crop_y2=crop_y2)\n",
    "    \n",
    "    \n",
    "    im_dna = np.array(images.get_frame_2D (v=timepoint, c=0, z=1))[crop_x1: crop_x2, crop_y1: crop_y2]\n",
    "    im_lac = np.array(images.get_frame_2D (v=timepoint, c=1, z=1))[crop_x1: crop_x2, crop_y1: crop_y2]\n",
    "    im_ms = np.array(images.get_frame_2D (v=timepoint, c=2, z=1))[crop_x1: crop_x2, crop_y1: crop_y2]\n",
    "    \n",
    "    \n",
    "    all_dna_mask = dilation(im_dna>threshold_li(im_dna), disk(10))\n",
    "    noncell_background = all_dna_mask == 0\n",
    "    #####################################\n",
    "    # measure average intensity, etc\n",
    "    \n",
    "    \n",
    "    _save_mask = False\n",
    "    \n",
    "    if timepoint in _mitosis_duration:\n",
    "        all_measurement_timed[str(timepoint+1)] = 'mitosis'\n",
    "    \n",
    "    elif (timepoint in _first_duration and np.sum(foci_object_info[0] ) > 0 or\n",
    "         timepoint in _second_duration and np.sum(cell_object_info[0] * foci_object_info[0]) > 0):\n",
    "        \n",
    "        foci_mask_to_measure = dilation (foci_object_info[0],disk(_foci_measure_size))\n",
    "        cell_mask_to_measure = cell_object_info[0] * (foci_mask_to_measure==0)\n",
    "    \n",
    "        ave_ms_noncell_background = np.mean((noncell_background * im_ms)[noncell_background!=0])\n",
    "    \n",
    "        ave_ms_foci = np.mean((foci_mask_to_measure * im_ms)[foci_mask_to_measure!=0])\n",
    "        ave_ms_foci= ave_ms_foci - ave_ms_noncell_background\n",
    "    \n",
    "        ave_ms_cell = np.mean((cell_mask_to_measure * im_ms)[cell_mask_to_measure!=0])\n",
    "        ave_ms_cell= ave_ms_cell - ave_ms_noncell_background\n",
    "    \n",
    "        norm_ave_ms_foci = ave_ms_foci/ave_ms_cell\n",
    "        print(f'-- normalized foci intensity for ms2 is {norm_ave_ms_foci}')\n",
    "    \n",
    "        all_measurement_timed[str(timepoint+1)] = norm_ave_ms_foci\n",
    "        \n",
    "        _save_mask = True\n",
    "    \n",
    "    else:\n",
    "        # if no lac foci, check if there is ms2 foci\n",
    "        ms_intensity = dilation(cell_object_info[0]) * im_ms\n",
    "        ms_intensity_filtered = ms_intensity[ms_intensity!=0]\n",
    "        ms_positive_th =np.mean(ms_intensity_filtered) + np.std(ms_intensity_filtered)*3\n",
    "\n",
    "        ms_mask = (im_ms > ms_positive_th)*cell_object_info[0]\n",
    "        ms_mask = remove_small_objects(ms_mask, 10)\n",
    "        \n",
    "        if np.sum(ms_mask) >10:\n",
    "            all_measurement_timed[str(timepoint+1)] = 'yes'\n",
    "        else:\n",
    "            all_measurement_timed[str(timepoint+1)] = 'no'\n",
    "        \n",
    "\n",
    "    #####################################\n",
    "    # save masks and cropped images\n",
    "    data_cell_path = data_main_folder + os.sep + cell_name\n",
    "    if not os.path.exists(data_cell_path):\n",
    "        os.mkdir(data_cell_path)\n",
    "    \n",
    "    if _save_mask:\n",
    "        mask_savename_list = [data_cell_path + os.sep + f'Pos11_DNA_t{timepoint+1}.tif',\n",
    "                 #data_cell_path + os.sep + f'Pos11_DNA_raw_t{timepoint+1}.tif', \n",
    "                   data_cell_path + os.sep + f'Pos11_Lac_t{timepoint+1}.tif',\n",
    "                 #data_cell_path + os.sep + f'Pos11_Lac_raw_t{timepoint+1}.tif'\n",
    "                         ]\n",
    "    \n",
    "        im_to_save = [cell_object_info[0],\n",
    "                  #im_dna,\n",
    "                  foci_object_info[0],\n",
    "                  #im_lac\n",
    "                 ]\n",
    "                  \n",
    "        for _im, _name in zip(im_to_save, mask_savename_list):\n",
    "        #if not os.path.exists(_name):\n",
    "            #os.mkdirs()\n",
    "            io.imsave(_name, _im, check_contrast=False)\n",
    "            \n",
    "\n",
    "        \n",
    "        \n",
    "    \n",
    "    \n",
    "\n",
    "\n"
   ]
  },
  {
   "cell_type": "code",
   "execution_count": 77,
   "metadata": {},
   "outputs": [
    {
     "data": {
      "text/plain": [
       "{'1': 1.1151557322035044,\n",
       " '2': 1.0616820996858884,\n",
       " '3': 1.4551213006597061,\n",
       " '4': 1.2518866884874658,\n",
       " '5': 1.4805463849628362,\n",
       " '6': 1.3857981449682444,\n",
       " '7': 1.3498312241448334,\n",
       " '8': 1.036022974628385,\n",
       " '9': 0.8611970585756806,\n",
       " '10': 0.3707148980640663,\n",
       " '11': 0.49689461073052277,\n",
       " '12': 0.3561416433145134,\n",
       " '13': 0.30356723149021386,\n",
       " '14': 0.0827158614445345,\n",
       " '15': 0.0849962094073177,\n",
       " '16': 0.24391101874860385,\n",
       " '17': 0.21160911093478738,\n",
       " '18': 0.19763014788625063,\n",
       " '19': 0.12878192583020592,\n",
       " '20': 0.052476075134366494,\n",
       " '21': 0.0915398413518411,\n",
       " '22': 0.2112650778752846,\n",
       " '23': 0.13424299418333618,\n",
       " '24': 0.2568317560393542,\n",
       " '25': 0.129502639961574,\n",
       " '26': 0.09135797585488566,\n",
       " '27': 0.12162616138352297,\n",
       " '28': -0.0062809208800766415,\n",
       " '29': 0.06214966538887237,\n",
       " '30': 0.1626131151002179,\n",
       " '31': 0.08110524541596434,\n",
       " '32': -0.008199394821688447,\n",
       " '33': 0.10677800323243167,\n",
       " '34': 0.06534228142091456,\n",
       " '35': 0.07186007669619045,\n",
       " '36': 0.16392235153699594,\n",
       " '37': 0.0849465140582684,\n",
       " '38': 0.1086793604170605,\n",
       " '39': 0.1597654122987084,\n",
       " '40': 0.10973597242299553,\n",
       " '41': 1.1596426262924264,\n",
       " '42': 1.2789171000620638,\n",
       " '43': 0.24087341217708938,\n",
       " '44': 0.16537369621035317,\n",
       " '45': 0.07163904652513348,\n",
       " '46': 0.05805028081299444,\n",
       " '47': 0.027812574215609398,\n",
       " '48': 0.08639601534024341,\n",
       " '49': -0.001423564879111718,\n",
       " '50': 0.04081513765606215,\n",
       " '51': 0.19095330718817657,\n",
       " '52': 0.07931250090162813,\n",
       " '53': 0.09136232334056775,\n",
       " '54': 0.15826264265187534,\n",
       " '55': 0.19578726747936795,\n",
       " '56': -0.03227003289502023,\n",
       " '57': 0.21382936435152333,\n",
       " '58': 0.28142068879616594,\n",
       " '59': 0.20832057332663795,\n",
       " '60': 0.46406684133164106,\n",
       " '61': 0.17277549417075855,\n",
       " '62': 'mitosis',\n",
       " '63': 'mitosis',\n",
       " '64': 'mitosis',\n",
       " '65': 'mitosis',\n",
       " '66': 0.6665435670731907,\n",
       " '67': 0.9764974869968441,\n",
       " '68': 1.0265022585547836,\n",
       " '69': 1.1951716325545494,\n",
       " '70': 1.2030715909966199,\n",
       " '71': 1.6315408997681562,\n",
       " '72': 1.0914218478473237,\n",
       " '73': 1.6732676168226854,\n",
       " '74': 1.963847429018336,\n",
       " '75': 1.2211590584283352,\n",
       " '76': 'no',\n",
       " '77': 1.7485774008803603,\n",
       " '78': 'no',\n",
       " '79': 2.6974989457631517,\n",
       " '80': 'no',\n",
       " '81': 'no',\n",
       " '82': 'no',\n",
       " '83': 'no',\n",
       " '84': 'no',\n",
       " '85': 'no',\n",
       " '86': 'no',\n",
       " '87': 'no',\n",
       " '88': 'no',\n",
       " '89': 'no',\n",
       " '90': 'no',\n",
       " '91': 'no',\n",
       " '92': 'no',\n",
       " '93': 'no',\n",
       " '94': 'no',\n",
       " '95': 'no',\n",
       " '96': 'no',\n",
       " '97': 'no'}"
      ]
     },
     "execution_count": 77,
     "metadata": {},
     "output_type": "execute_result"
    }
   ],
   "source": [
    "all_measurement_timed"
   ]
  },
  {
   "cell_type": "code",
   "execution_count": null,
   "metadata": {},
   "outputs": [],
   "source": [
    "df = pd.DataFrame(all_measurement_timed,index=[0])\n",
    "\n",
    "df.to_excel(data_main_folder + os.sep + 'pos11_analysis_top_cell.xlsx', index=False)"
   ]
  },
  {
   "cell_type": "code",
   "execution_count": null,
   "metadata": {},
   "outputs": [],
   "source": []
  }
 ],
 "metadata": {
  "kernelspec": {
   "display_name": "Python 3",
   "language": "python",
   "name": "python3"
  },
  "language_info": {
   "codemirror_mode": {
    "name": "ipython",
    "version": 3
   },
   "file_extension": ".py",
   "mimetype": "text/x-python",
   "name": "python",
   "nbconvert_exporter": "python",
   "pygments_lexer": "ipython3",
   "version": "3.7.6"
  }
 },
 "nbformat": 4,
 "nbformat_minor": 4
}

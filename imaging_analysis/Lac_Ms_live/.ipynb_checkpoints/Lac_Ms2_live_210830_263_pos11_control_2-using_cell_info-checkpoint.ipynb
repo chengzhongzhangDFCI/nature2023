{
 "cells": [
  {
   "cell_type": "markdown",
   "metadata": {},
   "source": [
    "## Import required modules"
   ]
  },
  {
   "cell_type": "code",
   "execution_count": 1,
   "metadata": {},
   "outputs": [
    {
     "name": "stderr",
     "output_type": "stream",
     "text": [
      "c:\\programdata\\anaconda3\\lib\\site-packages\\skimage\\io\\manage_plugins.py:23: UserWarning: Your installed pillow version is < 7.1.0. Several security issues (CVE-2020-11538, CVE-2020-10379, CVE-2020-10994, CVE-2020-10177) have been fixed in pillow 7.1.0 or higher. We recommend to upgrade this library.\n",
      "  from .collection import imread_collection_wrapper\n"
     ]
    }
   ],
   "source": [
    "import numpy as np\n",
    "import matplotlib.pyplot as plt\n",
    "from skimage import io\n",
    "from skimage import data\n",
    "import skimage\n",
    "from skimage.filters.thresholding import threshold_li,threshold_local,threshold_otsu, threshold_yen\n",
    "from skimage.morphology import erosion, dilation, opening, closing, white_tophat, remove_small_objects, ball\n",
    "from skimage.morphology import disk\n",
    "from scipy import ndimage as ndi\n",
    "import sys,os, glob\n",
    "\n",
    "#import skimage.filters.median\n",
    "\n",
    "#import skimage.segmentation as seg\n",
    "#import skimage.filters as filters\n",
    "#import skimage.draw as draw\n",
    "#import skimage.color as color\n",
    "\n",
    "#from skimage.filters.thresholding import _cross_entropy\n",
    "#from skimage.morphology import black_tophat, skeletonize, convex_hull_image\n",
    "\n",
    "\n",
    "#pip install nd2reader_required for nd2 file reading\n",
    "from nd2reader import ND2Reader\n",
    "\n",
    "import pandas as pd\n",
    "\n",
    "# for dna segmentation\n",
    "import cellpose\n",
    "from cellpose import models"
   ]
  },
  {
   "cell_type": "markdown",
   "metadata": {},
   "source": [
    "## Load data to analyze"
   ]
  },
  {
   "cell_type": "markdown",
   "metadata": {},
   "source": [
    "### 1. Load images"
   ]
  },
  {
   "cell_type": "code",
   "execution_count": 2,
   "metadata": {},
   "outputs": [],
   "source": [
    "# Define data loading and saving folder\n",
    "\n",
    "# path to glob\n",
    "data_save_folder = r\"D:\\Analyzed_CellBio\\Stam\\Lac_Ms_live\\210830_263_pos11\\*\"\n",
    "\n",
    "# path to save results\n",
    "data_main_folder = r\"D:\\Analyzed_CellBio\\Stam\\Lac_Ms_live\\210830_263_pos11\"\n",
    "\n",
    "# not used here\n",
    "analysis_prefix = 'Lac_Ms2'\n",
    "############################# CHANGE WELL FOR DATA OF INTEREST HERE!##########################################\n",
    "\n",
    "\n",
    "data_folder = data_save_folder\n",
    "#data_files = [file for file in glob.glob(data_folder) if \"z2.tif\" in file]\n",
    "data_files = [file for file in glob.glob(data_folder) if \"nd\" in file]\n",
    "data_files\n",
    "\n",
    "\n",
    "\n",
    "# load cell info for analysis\n",
    "\n",
    "cell_name = 'control_1'\n"
   ]
  },
  {
   "cell_type": "markdown",
   "metadata": {},
   "source": [
    "### 2. Cropp and saved cropped images "
   ]
  },
  {
   "cell_type": "code",
   "execution_count": 3,
   "metadata": {},
   "outputs": [],
   "source": [
    "#%matplotlib notebook\n",
    "#image_test =np.array(images.get_frame_2D (v=0, c=0, z=1))\n",
    "#plt.imshow(image_test)"
   ]
  },
  {
   "cell_type": "code",
   "execution_count": 4,
   "metadata": {},
   "outputs": [
    {
     "name": "stderr",
     "output_type": "stream",
     "text": [
      "C:\\Users\\Shiwei\\AppData\\Roaming\\Python\\Python37\\site-packages\\ipykernel_launcher.py:46: UserWarning: D:\\Analyzed_CellBio\\Stam\\Lac_Ms_live\\210830_263_pos11\\raw_control_1\\210830_263_pos11_control_1_DNA.tif is a low contrast image\n",
      "C:\\Users\\Shiwei\\AppData\\Roaming\\Python\\Python37\\site-packages\\ipykernel_launcher.py:46: UserWarning: D:\\Analyzed_CellBio\\Stam\\Lac_Ms_live\\210830_263_pos11\\raw_control_1\\210830_263_pos11_control_1_lac.tif is a low contrast image\n",
      "C:\\Users\\Shiwei\\AppData\\Roaming\\Python\\Python37\\site-packages\\ipykernel_launcher.py:46: UserWarning: D:\\Analyzed_CellBio\\Stam\\Lac_Ms_live\\210830_263_pos11\\raw_control_1\\210830_263_pos11_control_1_ms2.tif is a low contrast image\n"
     ]
    }
   ],
   "source": [
    "# load images and get data name for the nd2 file\n",
    "images = ND2Reader(data_files[0])\n",
    "data_name = data_files[0].split('\\\\')[-1].split('.nd2')[0]\n",
    "\n",
    "#images.sizes[\"t\"]\n",
    "# define the cropping coord inverted (input number are xy as seen in ImageJ)\n",
    "#crop_x1, crop_x2, crop_y1, crop_y2 = 756,1146,819,1089 # x1-2, then y1-2\n",
    "\n",
    "\n",
    "crop_x1, crop_x2, crop_y1, crop_y2 = 20,734,1724,2047\n",
    "# z for analyze\n",
    "z_selected = 1\n",
    "\n",
    "#save cropped images or not\n",
    "# ch-t-z-xy\n",
    "_save_crop_image =True\n",
    "\n",
    "if _save_crop_image:\n",
    "    crop_image_ch_all = {}\n",
    "\n",
    "    for ind, ch in enumerate(range(images.sizes[\"c\"])):\n",
    "        image_ch_all = []\n",
    "    \n",
    "        for timepoint in range(images.sizes[\"t\"]):\n",
    "            image_ch =np.array(images.get_frame_2D (v=timepoint, c=ch, z=z_selected))[crop_y1: crop_y2, crop_x1: crop_x2]\n",
    "        \n",
    "        #for _lyr in range(images.sizes[\"z\"]):\n",
    "            #lyr_ch = np.array(images.get_frame_2D (v=timepoint, c=ch, z=_lyr))[840:1200,850:1250]\n",
    "            #image_ch.append(lyr_ch)\n",
    "            \n",
    "            image_ch_all.append(image_ch)\n",
    "        \n",
    "        crop_image_ch_all[ind] = np.array(image_ch_all)    \n",
    "\n",
    "    raw_cell_path = data_main_folder + os.sep + f'raw_{cell_name}'\n",
    "    if not os.path.exists(raw_cell_path):\n",
    "        os.mkdir(raw_cell_path)\n",
    "\n",
    "    savename_list = [raw_cell_path + os.sep + f'{data_name}_{cell_name}_DNA.tif',\n",
    "                   raw_cell_path + os.sep + f'{data_name}_{cell_name}_lac.tif',\n",
    "                   raw_cell_path + os.sep + f'{data_name}_{cell_name}_ms2.tif']\n",
    "\n",
    "    for ind, save_name in enumerate(savename_list):\n",
    "        if os.path.exists(save_name):\n",
    "            os.remove(save_name)\n",
    "        io.imsave(save_name, crop_image_ch_all[ind])"
   ]
  },
  {
   "cell_type": "markdown",
   "metadata": {},
   "source": [
    "### 3. Other parameters and cell info"
   ]
  },
  {
   "cell_type": "code",
   "execution_count": 11,
   "metadata": {},
   "outputs": [],
   "source": [
    "# Define some shared parameters here\n",
    "\n",
    "# the dilation for measuring the foci\n",
    "_foci_measure_size = 2\n",
    "\n",
    "nuclei_filter = 600\n",
    "foci_filter = 10\n",
    "\n",
    "use_STD_foci_segmentation = False\n",
    "\n",
    "z_selected=1"
   ]
  },
  {
   "cell_type": "code",
   "execution_count": 12,
   "metadata": {},
   "outputs": [
    {
     "data": {
      "text/html": [
       "<div>\n",
       "<style scoped>\n",
       "    .dataframe tbody tr th:only-of-type {\n",
       "        vertical-align: middle;\n",
       "    }\n",
       "\n",
       "    .dataframe tbody tr th {\n",
       "        vertical-align: top;\n",
       "    }\n",
       "\n",
       "    .dataframe thead th {\n",
       "        text-align: right;\n",
       "    }\n",
       "</style>\n",
       "<table border=\"1\" class=\"dataframe\">\n",
       "  <thead>\n",
       "    <tr style=\"text-align: right;\">\n",
       "      <th></th>\n",
       "      <th>timepoint</th>\n",
       "      <th>cell X</th>\n",
       "      <th>cell Y</th>\n",
       "      <th>cell area</th>\n",
       "      <th>lac X</th>\n",
       "      <th>lac Y</th>\n",
       "      <th>stage</th>\n",
       "    </tr>\n",
       "  </thead>\n",
       "  <tbody>\n",
       "    <tr>\n",
       "      <th>0</th>\n",
       "      <td>1</td>\n",
       "      <td>254.0</td>\n",
       "      <td>196.0</td>\n",
       "      <td>7000.0</td>\n",
       "      <td>242.0</td>\n",
       "      <td>267.0</td>\n",
       "      <td>1</td>\n",
       "    </tr>\n",
       "    <tr>\n",
       "      <th>1</th>\n",
       "      <td>62</td>\n",
       "      <td>NaN</td>\n",
       "      <td>NaN</td>\n",
       "      <td>NaN</td>\n",
       "      <td>NaN</td>\n",
       "      <td>NaN</td>\n",
       "      <td>m</td>\n",
       "    </tr>\n",
       "    <tr>\n",
       "      <th>2</th>\n",
       "      <td>66</td>\n",
       "      <td>268.0</td>\n",
       "      <td>269.0</td>\n",
       "      <td>7000.0</td>\n",
       "      <td>291.0</td>\n",
       "      <td>231.0</td>\n",
       "      <td>2</td>\n",
       "    </tr>\n",
       "  </tbody>\n",
       "</table>\n",
       "</div>"
      ],
      "text/plain": [
       "   timepoint  cell X  cell Y  cell area  lac X  lac Y stage\n",
       "0          1   254.0   196.0     7000.0  242.0  267.0     1\n",
       "1         62     NaN     NaN        NaN    NaN    NaN     m\n",
       "2         66   268.0   269.0     7000.0  291.0  231.0     2"
      ]
     },
     "execution_count": 12,
     "metadata": {},
     "output_type": "execute_result"
    }
   ],
   "source": [
    "# load cell info for analysis\n",
    "\n",
    "\n",
    "cell_info = pd.read_excel(data_main_folder + os.sep + f'{data_name}_cell_info_{cell_name}.xlsx')\n",
    "\n",
    "cell_info"
   ]
  },
  {
   "cell_type": "code",
   "execution_count": null,
   "metadata": {},
   "outputs": [],
   "source": []
  },
  {
   "cell_type": "code",
   "execution_count": 13,
   "metadata": {},
   "outputs": [
    {
     "data": {
      "text/plain": [
       "{1: {'cell_centroid': [254.0, 196.0],\n",
       "  'cell_area': 7000.0,\n",
       "  'foci_centroid': [242.0, 267.0]},\n",
       " 62: {'cell_centroid': [nan, nan],\n",
       "  'cell_area': nan,\n",
       "  'foci_centroid': [nan, nan]},\n",
       " 66: {'cell_centroid': [268.0, 269.0],\n",
       "  'cell_area': 7000.0,\n",
       "  'foci_centroid': [291.0, 231.0]}}"
      ]
     },
     "execution_count": 13,
     "metadata": {},
     "output_type": "execute_result"
    }
   ],
   "source": [
    "# Define timepoints duration based on cell info\n",
    "\n",
    "\n",
    "_all_time_points = range(images.sizes[\"t\"])\n",
    "\n",
    "_first_duration = range(int(cell_info[cell_info['stage'] == 1]['timepoint'])-1,\n",
    "                        int(cell_info[cell_info['stage'] == 'm']['timepoint'])-1)\n",
    "\n",
    "_mitosis_duration = range(int(cell_info[cell_info['stage'] == 'm']['timepoint']-1),\n",
    "                        int(cell_info[cell_info['stage'] == 2]['timepoint'])-1)\n",
    "\n",
    "_second_duration = range(int(cell_info[cell_info['stage'] == 2]['timepoint'])-1,\n",
    "                        images.sizes[\"t\"])\n",
    "\n",
    "if len(cell_info[cell_info['stage'] == 'e'])>0:\n",
    "    _end_time_point = int(cell_info[cell_info['stage'] == 'e']['timepoint'])-1\n",
    "\n",
    "    if _end_time_point >0 and _end_time_point <images.sizes[\"t\"]:\n",
    "        _all_time_points = range(0, _end_time_point)\n",
    "        \n",
    "if len(cell_info[cell_info['stage'] == 's'])>0:\n",
    "    _skip_time_points =  []\n",
    "    for _t in cell_info[cell_info['stage'] == 's']['timepoint']:\n",
    "        _skip_time_points.append(int(_t)-1)\n",
    "    \n",
    "    _all_time_points = [_t for _t in _all_time_points if _t not in _skip_time_points]\n",
    "\n",
    "#_first_duration\n",
    "#_mitosis_duration\n",
    "#_second_duration\n",
    "\n",
    "\n",
    "# Define cell centorid, etc., for annotated timepoints based on cell info\n",
    "\n",
    "annotated_timepoints = {}\n",
    "\n",
    "\n",
    "for _item in cell_info.iloc():\n",
    "    \n",
    "    annotated_timepoints[_item['timepoint']] = {}\n",
    "    annotated_timepoints[_item['timepoint']]['cell_centroid']=[_item['cell X'],_item['cell Y']]\n",
    "    annotated_timepoints[_item['timepoint']]['cell_area']=_item['cell area']\n",
    "    annotated_timepoints[_item['timepoint']]['foci_centroid']=[_item['lac X'],_item['lac Y']]\n",
    "\n",
    "annotated_timepoints"
   ]
  },
  {
   "cell_type": "markdown",
   "metadata": {},
   "source": [
    "##  Analysis for cell of interest"
   ]
  },
  {
   "cell_type": "markdown",
   "metadata": {},
   "source": [
    "### 1. Define basic function for analysis"
   ]
  },
  {
   "cell_type": "code",
   "execution_count": 14,
   "metadata": {},
   "outputs": [],
   "source": [
    "def segment_and_track_object (images, ch_index,\n",
    "                            object_centroid = [176,103],\n",
    "                              ref_centroid = [],\n",
    "                            object_area = 7000,\n",
    "                            time = 0,     \n",
    "                            search_dist = 600,\n",
    "                            z_selected = 1,\n",
    "                            nuclei_filter = 600,\n",
    "                              foci_filter = 20,\n",
    "                            mode = 'nuclei',\n",
    "                              foci_segmentation = 'Yen',\n",
    "                              cell_mask = None,\n",
    "                              use_area = True,\n",
    "                            crop = True,\n",
    "                             crop_x1=0,crop_x2=2048,crop_y1=0,crop_y2=2048,\n",
    "                             saved_object_mask =[]):\n",
    "\n",
    "    \n",
    "    \n",
    "    # load 3d images for the channel and z plane selected\n",
    "    image_ch = []\n",
    "    for _lyr in range(images.sizes[\"z\"]):\n",
    "        lyr_ch = np.array(images.get_frame_2D (v=time, c=ch_index-1, z=_lyr))[crop_y1: crop_y2, crop_x1: crop_x2]\n",
    "        image_ch.append(lyr_ch)\n",
    "        \n",
    "    image_ch = np.array(image_ch)\n",
    "\n",
    "    # use cellpose for nuclei segmentation  \n",
    "    if mode == 'nuclei':\n",
    "     # segment DAPI and track the cell\n",
    "        model= models.Cellpose(gpu=False, model_type=mode)\n",
    "        \n",
    "        # adjust nuclear diameter as 100\n",
    "        object_masks, flows, styles, diams = model.eval(image_ch[z_selected], diameter=100, channels = [0,0],\n",
    "                                         flow_threshold=0.4, do_3D=False)\n",
    "    \n",
    "        \n",
    "        object_masks =  remove_small_objects(object_masks, nuclei_filter ,connectivity=1)\n",
    "        # erosion to remove abutting micronuclei\n",
    "        object_masks = erosion(object_masks, disk(20))\n",
    "        object_masks = dilation(object_masks, disk(20))\n",
    "\n",
    "    # use Yen thresholding for lac foci segmentation\n",
    "    if mode == 'foci':\n",
    "        if foci_segmentation == 'Yen':\n",
    "            object_masks = image_ch[z_selected] > threshold_yen(image_ch[z_selected])\n",
    "            # remove small less confident foci\n",
    "            object_masks = remove_small_objects(object_masks,foci_filter)\n",
    "            object_masks = skimage.measure.label(object_masks)\n",
    "        elif foci_segmentation == 'STD' and cell_mask is not None:\n",
    "            foci_intensity = dilation(cell_mask) * image_ch[z_selected]\n",
    "            foci_intensity_filtered = foci_intensity[foci_intensity!=0]\n",
    "            foci_positive_th =np.mean(foci_intensity_filtered) + np.std(foci_intensity_filtered)*3\n",
    "\n",
    "            foci_mask = (image_ch[z_selected] > foci_positive_th)*cell_mask\n",
    "            object_masks = remove_small_objects(foci_mask, foci_filter)\n",
    "            \n",
    "        \n",
    "    # initiate search distances\n",
    "    found_dist = search_dist\n",
    "    combined_dist = search_dist * 5\n",
    "\n",
    "    # all object labels higher than background\n",
    "    unique_objects_id = np.unique(object_masks)[np.unique(object_masks)>0]\n",
    "    \n",
    "    # if has one candiadte object (currently requires dna to always have one)\n",
    "    if len(unique_objects_id) >0:\n",
    "\n",
    "        for i in unique_objects_id:\n",
    "            cand_object = object_masks == i\n",
    "            cand_object[cand_object>0]=1\n",
    "            cand_object = np.array(cand_object)\n",
    "        \n",
    "            # calculate candiate object distance to the input coord (eg., from prior timepoint)\n",
    "            region = skimage.measure.regionprops (skimage.measure.label(cand_object))[0]   \n",
    "            _dist = round(np.linalg.norm(np.array([region.centroid[1], region.centroid[0]])\n",
    "                                                    - np.array(object_centroid)))\n",
    "            \n",
    "             # use area\n",
    "            if use_area and abs(region.area - object_area)/object_area <=0.4:\n",
    "                # also use reference distance\n",
    "                if len(ref_centroid) == 2:\n",
    "                    _dist_ref = round(np.linalg.norm(np.array([region.centroid[1], region.centroid[0]])\n",
    "                                                    - np.array(ref_centroid)))\n",
    "                \n",
    "                    if _dist_ref + _dist  <= combined_dist:\n",
    "                        combined_dist = _dist_ref + _dist\n",
    "                        kept_object = cand_object\n",
    "                        \n",
    "                # not using reference distance        \n",
    "                else:\n",
    "                    if _dist <= found_dist:  \n",
    "                        found_dist = _dist\n",
    "                        kept_object = cand_object   \n",
    "                        \n",
    "            # if not use area or area changes too variable\n",
    "            else: \n",
    "                # also use reference distance\n",
    "                if len(ref_centroid) == 2:\n",
    "                    _dist_ref = round(np.linalg.norm(np.array([region.centroid[1], region.centroid[0]])\n",
    "                                                    - np.array(ref_centroid)))\n",
    "                \n",
    "                    if _dist_ref + _dist  <= combined_dist:\n",
    "                        combined_dist = _dist_ref + _dist\n",
    "                        kept_object = cand_object\n",
    "                        \n",
    "                # not using reference distance                \n",
    "                else:\n",
    "                    if _dist <= found_dist:  \n",
    "                        found_dist = _dist\n",
    "                        kept_object = cand_object\n",
    "        \n",
    "        # if use pre-defined object mask\n",
    "        if len(saved_object_mask)>0 and saved_object_mask.shape == image_ch.shape:\n",
    "            kept_object = saved_object_mask\n",
    "            region = skimage.measure.regionprops (skimage.measure.label(kept_object))[0]    \n",
    "            found_object_centroid = [round(region.centroid[1]), round(region.centroid[0])]\n",
    "            found_object_area = region.area\n",
    "            found_dist = search_dist\n",
    "            \n",
    "        # if there is one object passing the qualification                \n",
    "        elif len(kept_object) > 0:                \n",
    "            region = skimage.measure.regionprops (skimage.measure.label(kept_object))[0]    \n",
    "            found_object_centroid = [round(region.centroid[1]), round(region.centroid[0])]\n",
    "            found_object_area = region.area\n",
    "\n",
    "        # if no valid objects, append empty masks and return input coord (e.g., from last timepoint)\n",
    "        else:\n",
    "            kept_object = np.zeros(image_ch[z_selected].shape) \n",
    "            #  this results in ms2 acumulation qualitative mode\n",
    "        \n",
    "            found_object_centroid = object_centroid  # use prior centroid if there is transient loss\n",
    "            found_object_area = object_area\n",
    "            found_dist = search_dist\n",
    "            \n",
    "            \n",
    "        \n",
    "    else: # if no candiadte object for lac: eg., lac loci lost\n",
    "        kept_object = np.zeros(image_ch[z_selected].shape) \n",
    "        #  this results in ms2 acumulation qualitative mode\n",
    "        \n",
    "        found_object_centroid = object_centroid  # use prior centroid if there is transient loss\n",
    "        found_object_area = object_area\n",
    "        found_dist = search_dist\n",
    "        \n",
    "    # return [object mask, object centroid, object area, and the min distance] \n",
    "    return [kept_object, found_object_centroid, found_object_area, found_dist]\n",
    "    \n",
    "    \n",
    "\n",
    "    "
   ]
  },
  {
   "cell_type": "markdown",
   "metadata": {},
   "source": [
    "### 2. Run analysis for the cell"
   ]
  },
  {
   "cell_type": "code",
   "execution_count": 15,
   "metadata": {},
   "outputs": [
    {
     "name": "stdout",
     "output_type": "stream",
     "text": [
      "-- tracking cell at timepoint 0.\n",
      "++++++++++++++++++++++++++++++++++++++++++++++++++++++++++++++++++++++++++++++++++\n",
      ">>>> using CPU\n",
      "Running test snippet to check if MKL-DNN working\n",
      "see https://pytorch.org/docs/stable/backends.html?highlight=mkl\n",
      "** MKL version working - CPU version is sped up. **\n",
      "processing 1 image(s)\n",
      "time spent: running network 1.42s; flow+mask computation 0.04\n",
      "estimated masks for 1 image(s) in 1.47 sec\n",
      ">>>> TOTAL TIME 1.47 sec\n"
     ]
    },
    {
     "name": "stderr",
     "output_type": "stream",
     "text": [
      "C:\\Users\\Shiwei\\AppData\\Roaming\\Python\\Python37\\site-packages\\ipykernel_launcher.py:80: DeprecationWarning: The truth value of an empty array is ambiguous. Returning False, but in future this will result in an error. Use `array.size > 0` to check that an array is not empty.\n"
     ]
    },
    {
     "name": "stdout",
     "output_type": "stream",
     "text": [
      "-- normalized foci intensity for ms2 is 1.1136605991731037\n",
      "-- tracking cell at timepoint 1.\n",
      "++++++++++++++++++++++++++++++++++++++++++++++++++++++++++++++++++++++++++++++++++\n",
      ">>>> using CPU\n",
      "Running test snippet to check if MKL-DNN working\n",
      "see https://pytorch.org/docs/stable/backends.html?highlight=mkl\n",
      "** MKL version working - CPU version is sped up. **\n"
     ]
    },
    {
     "name": "stderr",
     "output_type": "stream",
     "text": [
      "C:\\Users\\Shiwei\\AppData\\Roaming\\Python\\Python37\\site-packages\\ipykernel_launcher.py:180: UserWarning: D:\\Analyzed_CellBio\\Stam\\Lac_Ms_live\\210830_263_pos11\\mask_cell_1\\Pos11_DNA_t1.tif is a boolean image: setting True to 255 and False to 0. To silence this warning, please convert the image using img_as_ubyte.\n",
      "C:\\Users\\Shiwei\\AppData\\Roaming\\Python\\Python37\\site-packages\\ipykernel_launcher.py:180: UserWarning: D:\\Analyzed_CellBio\\Stam\\Lac_Ms_live\\210830_263_pos11\\mask_cell_1\\Pos11_Lac_t1.tif is a boolean image: setting True to 255 and False to 0. To silence this warning, please convert the image using img_as_ubyte.\n"
     ]
    },
    {
     "name": "stdout",
     "output_type": "stream",
     "text": [
      "processing 1 image(s)\n",
      "time spent: running network 1.24s; flow+mask computation 0.04\n",
      "estimated masks for 1 image(s) in 1.30 sec\n",
      ">>>> TOTAL TIME 1.30 sec\n",
      "-- normalized foci intensity for ms2 is 1.0634896064779702\n",
      "-- tracking cell at timepoint 2.\n",
      "++++++++++++++++++++++++++++++++++++++++++++++++++++++++++++++++++++++++++++++++++\n"
     ]
    },
    {
     "name": "stderr",
     "output_type": "stream",
     "text": [
      "C:\\Users\\Shiwei\\AppData\\Roaming\\Python\\Python37\\site-packages\\ipykernel_launcher.py:180: UserWarning: D:\\Analyzed_CellBio\\Stam\\Lac_Ms_live\\210830_263_pos11\\mask_cell_1\\Pos11_DNA_t2.tif is a boolean image: setting True to 255 and False to 0. To silence this warning, please convert the image using img_as_ubyte.\n",
      "C:\\Users\\Shiwei\\AppData\\Roaming\\Python\\Python37\\site-packages\\ipykernel_launcher.py:180: UserWarning: D:\\Analyzed_CellBio\\Stam\\Lac_Ms_live\\210830_263_pos11\\mask_cell_1\\Pos11_Lac_t2.tif is a boolean image: setting True to 255 and False to 0. To silence this warning, please convert the image using img_as_ubyte.\n"
     ]
    },
    {
     "name": "stdout",
     "output_type": "stream",
     "text": [
      ">>>> using CPU\n",
      "Running test snippet to check if MKL-DNN working\n",
      "see https://pytorch.org/docs/stable/backends.html?highlight=mkl\n",
      "** MKL version working - CPU version is sped up. **\n",
      "processing 1 image(s)\n",
      "time spent: running network 1.17s; flow+mask computation 0.06\n",
      "estimated masks for 1 image(s) in 1.24 sec\n",
      ">>>> TOTAL TIME 1.24 sec\n",
      "-- normalized foci intensity for ms2 is 1.438474796585543\n",
      "-- tracking cell at timepoint 3.\n",
      "++++++++++++++++++++++++++++++++++++++++++++++++++++++++++++++++++++++++++++++++++\n"
     ]
    },
    {
     "name": "stderr",
     "output_type": "stream",
     "text": [
      "C:\\Users\\Shiwei\\AppData\\Roaming\\Python\\Python37\\site-packages\\ipykernel_launcher.py:180: UserWarning: D:\\Analyzed_CellBio\\Stam\\Lac_Ms_live\\210830_263_pos11\\mask_cell_1\\Pos11_DNA_t3.tif is a boolean image: setting True to 255 and False to 0. To silence this warning, please convert the image using img_as_ubyte.\n",
      "C:\\Users\\Shiwei\\AppData\\Roaming\\Python\\Python37\\site-packages\\ipykernel_launcher.py:180: UserWarning: D:\\Analyzed_CellBio\\Stam\\Lac_Ms_live\\210830_263_pos11\\mask_cell_1\\Pos11_Lac_t3.tif is a boolean image: setting True to 255 and False to 0. To silence this warning, please convert the image using img_as_ubyte.\n"
     ]
    },
    {
     "name": "stdout",
     "output_type": "stream",
     "text": [
      ">>>> using CPU\n",
      "Running test snippet to check if MKL-DNN working\n",
      "see https://pytorch.org/docs/stable/backends.html?highlight=mkl\n",
      "** MKL version working - CPU version is sped up. **\n",
      "processing 1 image(s)\n",
      "time spent: running network 1.17s; flow+mask computation 0.04\n",
      "estimated masks for 1 image(s) in 1.21 sec\n",
      ">>>> TOTAL TIME 1.22 sec\n",
      "-- normalized foci intensity for ms2 is 1.2445173997489136\n",
      "-- tracking cell at timepoint 4.\n",
      "++++++++++++++++++++++++++++++++++++++++++++++++++++++++++++++++++++++++++++++++++\n"
     ]
    },
    {
     "name": "stderr",
     "output_type": "stream",
     "text": [
      "C:\\Users\\Shiwei\\AppData\\Roaming\\Python\\Python37\\site-packages\\ipykernel_launcher.py:180: UserWarning: D:\\Analyzed_CellBio\\Stam\\Lac_Ms_live\\210830_263_pos11\\mask_cell_1\\Pos11_DNA_t4.tif is a boolean image: setting True to 255 and False to 0. To silence this warning, please convert the image using img_as_ubyte.\n",
      "C:\\Users\\Shiwei\\AppData\\Roaming\\Python\\Python37\\site-packages\\ipykernel_launcher.py:180: UserWarning: D:\\Analyzed_CellBio\\Stam\\Lac_Ms_live\\210830_263_pos11\\mask_cell_1\\Pos11_Lac_t4.tif is a boolean image: setting True to 255 and False to 0. To silence this warning, please convert the image using img_as_ubyte.\n"
     ]
    },
    {
     "name": "stdout",
     "output_type": "stream",
     "text": [
      ">>>> using CPU\n",
      "Running test snippet to check if MKL-DNN working\n",
      "see https://pytorch.org/docs/stable/backends.html?highlight=mkl\n",
      "** MKL version working - CPU version is sped up. **\n",
      "processing 1 image(s)\n",
      "time spent: running network 1.10s; flow+mask computation 0.04\n",
      "estimated masks for 1 image(s) in 1.15 sec\n",
      ">>>> TOTAL TIME 1.15 sec\n",
      "-- normalized foci intensity for ms2 is 1.4571798686337296\n",
      "-- tracking cell at timepoint 5.\n",
      "++++++++++++++++++++++++++++++++++++++++++++++++++++++++++++++++++++++++++++++++++\n"
     ]
    },
    {
     "name": "stderr",
     "output_type": "stream",
     "text": [
      "C:\\Users\\Shiwei\\AppData\\Roaming\\Python\\Python37\\site-packages\\ipykernel_launcher.py:180: UserWarning: D:\\Analyzed_CellBio\\Stam\\Lac_Ms_live\\210830_263_pos11\\mask_cell_1\\Pos11_DNA_t5.tif is a boolean image: setting True to 255 and False to 0. To silence this warning, please convert the image using img_as_ubyte.\n",
      "C:\\Users\\Shiwei\\AppData\\Roaming\\Python\\Python37\\site-packages\\ipykernel_launcher.py:180: UserWarning: D:\\Analyzed_CellBio\\Stam\\Lac_Ms_live\\210830_263_pos11\\mask_cell_1\\Pos11_Lac_t5.tif is a boolean image: setting True to 255 and False to 0. To silence this warning, please convert the image using img_as_ubyte.\n"
     ]
    },
    {
     "name": "stdout",
     "output_type": "stream",
     "text": [
      ">>>> using CPU\n",
      "Running test snippet to check if MKL-DNN working\n",
      "see https://pytorch.org/docs/stable/backends.html?highlight=mkl\n",
      "** MKL version working - CPU version is sped up. **\n",
      "processing 1 image(s)\n",
      "time spent: running network 1.18s; flow+mask computation 0.04\n",
      "estimated masks for 1 image(s) in 1.23 sec\n",
      ">>>> TOTAL TIME 1.23 sec\n",
      "-- normalized foci intensity for ms2 is 1.3618554603808675\n",
      "-- tracking cell at timepoint 6.\n",
      "++++++++++++++++++++++++++++++++++++++++++++++++++++++++++++++++++++++++++++++++++\n",
      ">>>> using CPU\n",
      "Running test snippet to check if MKL-DNN working\n",
      "see https://pytorch.org/docs/stable/backends.html?highlight=mkl\n",
      "** MKL version working - CPU version is sped up. **\n"
     ]
    },
    {
     "name": "stderr",
     "output_type": "stream",
     "text": [
      "C:\\Users\\Shiwei\\AppData\\Roaming\\Python\\Python37\\site-packages\\ipykernel_launcher.py:180: UserWarning: D:\\Analyzed_CellBio\\Stam\\Lac_Ms_live\\210830_263_pos11\\mask_cell_1\\Pos11_DNA_t6.tif is a boolean image: setting True to 255 and False to 0. To silence this warning, please convert the image using img_as_ubyte.\n",
      "C:\\Users\\Shiwei\\AppData\\Roaming\\Python\\Python37\\site-packages\\ipykernel_launcher.py:180: UserWarning: D:\\Analyzed_CellBio\\Stam\\Lac_Ms_live\\210830_263_pos11\\mask_cell_1\\Pos11_Lac_t6.tif is a boolean image: setting True to 255 and False to 0. To silence this warning, please convert the image using img_as_ubyte.\n"
     ]
    },
    {
     "name": "stdout",
     "output_type": "stream",
     "text": [
      "processing 1 image(s)\n",
      "time spent: running network 1.19s; flow+mask computation 0.05\n",
      "estimated masks for 1 image(s) in 1.25 sec\n",
      ">>>> TOTAL TIME 1.25 sec\n",
      "-- normalized foci intensity for ms2 is 1.3288407024549707\n",
      "-- tracking cell at timepoint 7.\n",
      "++++++++++++++++++++++++++++++++++++++++++++++++++++++++++++++++++++++++++++++++++\n"
     ]
    },
    {
     "name": "stderr",
     "output_type": "stream",
     "text": [
      "C:\\Users\\Shiwei\\AppData\\Roaming\\Python\\Python37\\site-packages\\ipykernel_launcher.py:180: UserWarning: D:\\Analyzed_CellBio\\Stam\\Lac_Ms_live\\210830_263_pos11\\mask_cell_1\\Pos11_DNA_t7.tif is a boolean image: setting True to 255 and False to 0. To silence this warning, please convert the image using img_as_ubyte.\n",
      "C:\\Users\\Shiwei\\AppData\\Roaming\\Python\\Python37\\site-packages\\ipykernel_launcher.py:180: UserWarning: D:\\Analyzed_CellBio\\Stam\\Lac_Ms_live\\210830_263_pos11\\mask_cell_1\\Pos11_Lac_t7.tif is a boolean image: setting True to 255 and False to 0. To silence this warning, please convert the image using img_as_ubyte.\n"
     ]
    },
    {
     "name": "stdout",
     "output_type": "stream",
     "text": [
      ">>>> using CPU\n",
      "Running test snippet to check if MKL-DNN working\n",
      "see https://pytorch.org/docs/stable/backends.html?highlight=mkl\n",
      "** MKL version working - CPU version is sped up. **\n",
      "processing 1 image(s)\n",
      "time spent: running network 1.14s; flow+mask computation 0.06\n",
      "estimated masks for 1 image(s) in 1.21 sec\n",
      ">>>> TOTAL TIME 1.21 sec\n",
      "-- normalized foci intensity for ms2 is 1.0323203406400718\n",
      "-- tracking cell at timepoint 8.\n",
      "++++++++++++++++++++++++++++++++++++++++++++++++++++++++++++++++++++++++++++++++++\n"
     ]
    },
    {
     "name": "stderr",
     "output_type": "stream",
     "text": [
      "C:\\Users\\Shiwei\\AppData\\Roaming\\Python\\Python37\\site-packages\\ipykernel_launcher.py:180: UserWarning: D:\\Analyzed_CellBio\\Stam\\Lac_Ms_live\\210830_263_pos11\\mask_cell_1\\Pos11_DNA_t8.tif is a boolean image: setting True to 255 and False to 0. To silence this warning, please convert the image using img_as_ubyte.\n",
      "C:\\Users\\Shiwei\\AppData\\Roaming\\Python\\Python37\\site-packages\\ipykernel_launcher.py:180: UserWarning: D:\\Analyzed_CellBio\\Stam\\Lac_Ms_live\\210830_263_pos11\\mask_cell_1\\Pos11_Lac_t8.tif is a boolean image: setting True to 255 and False to 0. To silence this warning, please convert the image using img_as_ubyte.\n"
     ]
    },
    {
     "name": "stdout",
     "output_type": "stream",
     "text": [
      ">>>> using CPU\n",
      "Running test snippet to check if MKL-DNN working\n",
      "see https://pytorch.org/docs/stable/backends.html?highlight=mkl\n",
      "** MKL version working - CPU version is sped up. **\n",
      "processing 1 image(s)\n",
      "time spent: running network 1.21s; flow+mask computation 0.05\n",
      "estimated masks for 1 image(s) in 1.27 sec\n",
      ">>>> TOTAL TIME 1.27 sec\n",
      "-- normalized foci intensity for ms2 is 0.8593542860483849\n",
      "-- tracking cell at timepoint 9.\n",
      "++++++++++++++++++++++++++++++++++++++++++++++++++++++++++++++++++++++++++++++++++\n",
      ">>>> using CPU\n",
      "Running test snippet to check if MKL-DNN working\n",
      "see https://pytorch.org/docs/stable/backends.html?highlight=mkl\n",
      "** MKL version working - CPU version is sped up. **\n"
     ]
    },
    {
     "name": "stderr",
     "output_type": "stream",
     "text": [
      "C:\\Users\\Shiwei\\AppData\\Roaming\\Python\\Python37\\site-packages\\ipykernel_launcher.py:180: UserWarning: D:\\Analyzed_CellBio\\Stam\\Lac_Ms_live\\210830_263_pos11\\mask_cell_1\\Pos11_DNA_t9.tif is a boolean image: setting True to 255 and False to 0. To silence this warning, please convert the image using img_as_ubyte.\n",
      "C:\\Users\\Shiwei\\AppData\\Roaming\\Python\\Python37\\site-packages\\ipykernel_launcher.py:180: UserWarning: D:\\Analyzed_CellBio\\Stam\\Lac_Ms_live\\210830_263_pos11\\mask_cell_1\\Pos11_Lac_t9.tif is a boolean image: setting True to 255 and False to 0. To silence this warning, please convert the image using img_as_ubyte.\n"
     ]
    },
    {
     "name": "stdout",
     "output_type": "stream",
     "text": [
      "processing 1 image(s)\n",
      "time spent: running network 1.12s; flow+mask computation 0.05\n",
      "estimated masks for 1 image(s) in 1.19 sec\n",
      ">>>> TOTAL TIME 1.19 sec\n",
      "-- normalized foci intensity for ms2 is 0.3660803062898771\n",
      "-- tracking cell at timepoint 10.\n",
      "++++++++++++++++++++++++++++++++++++++++++++++++++++++++++++++++++++++++++++++++++\n",
      ">>>> using CPU\n",
      "Running test snippet to check if MKL-DNN working\n",
      "see https://pytorch.org/docs/stable/backends.html?highlight=mkl\n",
      "** MKL version working - CPU version is sped up. **\n"
     ]
    },
    {
     "name": "stderr",
     "output_type": "stream",
     "text": [
      "C:\\Users\\Shiwei\\AppData\\Roaming\\Python\\Python37\\site-packages\\ipykernel_launcher.py:180: UserWarning: D:\\Analyzed_CellBio\\Stam\\Lac_Ms_live\\210830_263_pos11\\mask_cell_1\\Pos11_DNA_t10.tif is a boolean image: setting True to 255 and False to 0. To silence this warning, please convert the image using img_as_ubyte.\n",
      "C:\\Users\\Shiwei\\AppData\\Roaming\\Python\\Python37\\site-packages\\ipykernel_launcher.py:180: UserWarning: D:\\Analyzed_CellBio\\Stam\\Lac_Ms_live\\210830_263_pos11\\mask_cell_1\\Pos11_Lac_t10.tif is a boolean image: setting True to 255 and False to 0. To silence this warning, please convert the image using img_as_ubyte.\n"
     ]
    },
    {
     "name": "stdout",
     "output_type": "stream",
     "text": [
      "processing 1 image(s)\n",
      "time spent: running network 1.12s; flow+mask computation 0.05\n",
      "estimated masks for 1 image(s) in 1.18 sec\n",
      ">>>> TOTAL TIME 1.18 sec\n",
      "-- normalized foci intensity for ms2 is 0.49900248016893156\n",
      "-- tracking cell at timepoint 11.\n",
      "++++++++++++++++++++++++++++++++++++++++++++++++++++++++++++++++++++++++++++++++++\n"
     ]
    },
    {
     "name": "stderr",
     "output_type": "stream",
     "text": [
      "C:\\Users\\Shiwei\\AppData\\Roaming\\Python\\Python37\\site-packages\\ipykernel_launcher.py:180: UserWarning: D:\\Analyzed_CellBio\\Stam\\Lac_Ms_live\\210830_263_pos11\\mask_cell_1\\Pos11_DNA_t11.tif is a boolean image: setting True to 255 and False to 0. To silence this warning, please convert the image using img_as_ubyte.\n",
      "C:\\Users\\Shiwei\\AppData\\Roaming\\Python\\Python37\\site-packages\\ipykernel_launcher.py:180: UserWarning: D:\\Analyzed_CellBio\\Stam\\Lac_Ms_live\\210830_263_pos11\\mask_cell_1\\Pos11_Lac_t11.tif is a boolean image: setting True to 255 and False to 0. To silence this warning, please convert the image using img_as_ubyte.\n"
     ]
    },
    {
     "name": "stdout",
     "output_type": "stream",
     "text": [
      ">>>> using CPU\n",
      "Running test snippet to check if MKL-DNN working\n",
      "see https://pytorch.org/docs/stable/backends.html?highlight=mkl\n",
      "** MKL version working - CPU version is sped up. **\n",
      "processing 1 image(s)\n",
      "time spent: running network 1.23s; flow+mask computation 0.06\n",
      "estimated masks for 1 image(s) in 1.30 sec\n",
      ">>>> TOTAL TIME 1.30 sec\n",
      "-- normalized foci intensity for ms2 is 0.3584015888410491\n",
      "-- tracking cell at timepoint 12.\n",
      "++++++++++++++++++++++++++++++++++++++++++++++++++++++++++++++++++++++++++++++++++\n"
     ]
    },
    {
     "name": "stderr",
     "output_type": "stream",
     "text": [
      "C:\\Users\\Shiwei\\AppData\\Roaming\\Python\\Python37\\site-packages\\ipykernel_launcher.py:180: UserWarning: D:\\Analyzed_CellBio\\Stam\\Lac_Ms_live\\210830_263_pos11\\mask_cell_1\\Pos11_DNA_t12.tif is a boolean image: setting True to 255 and False to 0. To silence this warning, please convert the image using img_as_ubyte.\n",
      "C:\\Users\\Shiwei\\AppData\\Roaming\\Python\\Python37\\site-packages\\ipykernel_launcher.py:180: UserWarning: D:\\Analyzed_CellBio\\Stam\\Lac_Ms_live\\210830_263_pos11\\mask_cell_1\\Pos11_Lac_t12.tif is a boolean image: setting True to 255 and False to 0. To silence this warning, please convert the image using img_as_ubyte.\n"
     ]
    },
    {
     "name": "stdout",
     "output_type": "stream",
     "text": [
      ">>>> using CPU\n",
      "Running test snippet to check if MKL-DNN working\n",
      "see https://pytorch.org/docs/stable/backends.html?highlight=mkl\n",
      "** MKL version working - CPU version is sped up. **\n",
      "processing 1 image(s)\n",
      "time spent: running network 1.21s; flow+mask computation 0.05\n",
      "estimated masks for 1 image(s) in 1.27 sec\n",
      ">>>> TOTAL TIME 1.27 sec\n",
      "-- normalized foci intensity for ms2 is 6.562716198914655\n",
      "-- tracking cell at timepoint 13.\n",
      "++++++++++++++++++++++++++++++++++++++++++++++++++++++++++++++++++++++++++++++++++\n"
     ]
    },
    {
     "name": "stderr",
     "output_type": "stream",
     "text": [
      "C:\\Users\\Shiwei\\AppData\\Roaming\\Python\\Python37\\site-packages\\ipykernel_launcher.py:180: UserWarning: D:\\Analyzed_CellBio\\Stam\\Lac_Ms_live\\210830_263_pos11\\mask_cell_1\\Pos11_DNA_t13.tif is a boolean image: setting True to 255 and False to 0. To silence this warning, please convert the image using img_as_ubyte.\n",
      "C:\\Users\\Shiwei\\AppData\\Roaming\\Python\\Python37\\site-packages\\ipykernel_launcher.py:180: UserWarning: D:\\Analyzed_CellBio\\Stam\\Lac_Ms_live\\210830_263_pos11\\mask_cell_1\\Pos11_Lac_t13.tif is a boolean image: setting True to 255 and False to 0. To silence this warning, please convert the image using img_as_ubyte.\n"
     ]
    },
    {
     "name": "stdout",
     "output_type": "stream",
     "text": [
      ">>>> using CPU\n",
      "Running test snippet to check if MKL-DNN working\n",
      "see https://pytorch.org/docs/stable/backends.html?highlight=mkl\n",
      "** MKL version working - CPU version is sped up. **\n",
      "processing 1 image(s)\n",
      "time spent: running network 1.12s; flow+mask computation 0.06\n",
      "estimated masks for 1 image(s) in 1.19 sec\n",
      ">>>> TOTAL TIME 1.19 sec\n",
      "-- normalized foci intensity for ms2 is 6.766644002013171\n",
      "-- tracking cell at timepoint 14.\n",
      "++++++++++++++++++++++++++++++++++++++++++++++++++++++++++++++++++++++++++++++++++\n"
     ]
    },
    {
     "name": "stderr",
     "output_type": "stream",
     "text": [
      "C:\\Users\\Shiwei\\AppData\\Roaming\\Python\\Python37\\site-packages\\ipykernel_launcher.py:180: UserWarning: D:\\Analyzed_CellBio\\Stam\\Lac_Ms_live\\210830_263_pos11\\mask_cell_1\\Pos11_DNA_t14.tif is a boolean image: setting True to 255 and False to 0. To silence this warning, please convert the image using img_as_ubyte.\n",
      "C:\\Users\\Shiwei\\AppData\\Roaming\\Python\\Python37\\site-packages\\ipykernel_launcher.py:180: UserWarning: D:\\Analyzed_CellBio\\Stam\\Lac_Ms_live\\210830_263_pos11\\mask_cell_1\\Pos11_Lac_t14.tif is a boolean image: setting True to 255 and False to 0. To silence this warning, please convert the image using img_as_ubyte.\n"
     ]
    },
    {
     "name": "stdout",
     "output_type": "stream",
     "text": [
      ">>>> using CPU\n",
      "Running test snippet to check if MKL-DNN working\n",
      "see https://pytorch.org/docs/stable/backends.html?highlight=mkl\n",
      "** MKL version working - CPU version is sped up. **\n",
      "processing 1 image(s)\n",
      "time spent: running network 1.10s; flow+mask computation 0.07\n",
      "estimated masks for 1 image(s) in 1.17 sec\n",
      ">>>> TOTAL TIME 1.18 sec\n",
      "-- normalized foci intensity for ms2 is 5.809730245597936\n",
      "-- tracking cell at timepoint 15.\n",
      "++++++++++++++++++++++++++++++++++++++++++++++++++++++++++++++++++++++++++++++++++\n"
     ]
    },
    {
     "name": "stderr",
     "output_type": "stream",
     "text": [
      "C:\\Users\\Shiwei\\AppData\\Roaming\\Python\\Python37\\site-packages\\ipykernel_launcher.py:180: UserWarning: D:\\Analyzed_CellBio\\Stam\\Lac_Ms_live\\210830_263_pos11\\mask_cell_1\\Pos11_DNA_t15.tif is a boolean image: setting True to 255 and False to 0. To silence this warning, please convert the image using img_as_ubyte.\n",
      "C:\\Users\\Shiwei\\AppData\\Roaming\\Python\\Python37\\site-packages\\ipykernel_launcher.py:180: UserWarning: D:\\Analyzed_CellBio\\Stam\\Lac_Ms_live\\210830_263_pos11\\mask_cell_1\\Pos11_Lac_t15.tif is a boolean image: setting True to 255 and False to 0. To silence this warning, please convert the image using img_as_ubyte.\n"
     ]
    },
    {
     "name": "stdout",
     "output_type": "stream",
     "text": [
      ">>>> using CPU\n",
      "Running test snippet to check if MKL-DNN working\n",
      "see https://pytorch.org/docs/stable/backends.html?highlight=mkl\n",
      "** MKL version working - CPU version is sped up. **\n",
      "processing 1 image(s)\n",
      "time spent: running network 1.14s; flow+mask computation 0.05\n",
      "estimated masks for 1 image(s) in 1.20 sec\n",
      ">>>> TOTAL TIME 1.20 sec\n",
      "-- normalized foci intensity for ms2 is 5.547439015008139\n",
      "-- tracking cell at timepoint 16.\n",
      "++++++++++++++++++++++++++++++++++++++++++++++++++++++++++++++++++++++++++++++++++\n"
     ]
    },
    {
     "name": "stderr",
     "output_type": "stream",
     "text": [
      "C:\\Users\\Shiwei\\AppData\\Roaming\\Python\\Python37\\site-packages\\ipykernel_launcher.py:180: UserWarning: D:\\Analyzed_CellBio\\Stam\\Lac_Ms_live\\210830_263_pos11\\mask_cell_1\\Pos11_DNA_t16.tif is a boolean image: setting True to 255 and False to 0. To silence this warning, please convert the image using img_as_ubyte.\n",
      "C:\\Users\\Shiwei\\AppData\\Roaming\\Python\\Python37\\site-packages\\ipykernel_launcher.py:180: UserWarning: D:\\Analyzed_CellBio\\Stam\\Lac_Ms_live\\210830_263_pos11\\mask_cell_1\\Pos11_Lac_t16.tif is a boolean image: setting True to 255 and False to 0. To silence this warning, please convert the image using img_as_ubyte.\n"
     ]
    },
    {
     "name": "stdout",
     "output_type": "stream",
     "text": [
      ">>>> using CPU\n",
      "Running test snippet to check if MKL-DNN working\n",
      "see https://pytorch.org/docs/stable/backends.html?highlight=mkl\n",
      "** MKL version working - CPU version is sped up. **\n",
      "processing 1 image(s)\n",
      "time spent: running network 1.23s; flow+mask computation 0.06\n",
      "estimated masks for 1 image(s) in 1.31 sec\n",
      ">>>> TOTAL TIME 1.31 sec\n",
      "-- normalized foci intensity for ms2 is 0.21774521297424965\n",
      "-- tracking cell at timepoint 17.\n",
      "++++++++++++++++++++++++++++++++++++++++++++++++++++++++++++++++++++++++++++++++++\n"
     ]
    },
    {
     "name": "stderr",
     "output_type": "stream",
     "text": [
      "C:\\Users\\Shiwei\\AppData\\Roaming\\Python\\Python37\\site-packages\\ipykernel_launcher.py:180: UserWarning: D:\\Analyzed_CellBio\\Stam\\Lac_Ms_live\\210830_263_pos11\\mask_cell_1\\Pos11_DNA_t17.tif is a boolean image: setting True to 255 and False to 0. To silence this warning, please convert the image using img_as_ubyte.\n",
      "C:\\Users\\Shiwei\\AppData\\Roaming\\Python\\Python37\\site-packages\\ipykernel_launcher.py:180: UserWarning: D:\\Analyzed_CellBio\\Stam\\Lac_Ms_live\\210830_263_pos11\\mask_cell_1\\Pos11_Lac_t17.tif is a boolean image: setting True to 255 and False to 0. To silence this warning, please convert the image using img_as_ubyte.\n"
     ]
    },
    {
     "name": "stdout",
     "output_type": "stream",
     "text": [
      ">>>> using CPU\n",
      "Running test snippet to check if MKL-DNN working\n",
      "see https://pytorch.org/docs/stable/backends.html?highlight=mkl\n",
      "** MKL version working - CPU version is sped up. **\n",
      "processing 1 image(s)\n",
      "time spent: running network 1.08s; flow+mask computation 0.06\n",
      "estimated masks for 1 image(s) in 1.15 sec\n",
      ">>>> TOTAL TIME 1.15 sec\n",
      "-- normalized foci intensity for ms2 is 0.2011489275406872\n",
      "-- tracking cell at timepoint 18.\n",
      "++++++++++++++++++++++++++++++++++++++++++++++++++++++++++++++++++++++++++++++++++\n",
      ">>>> using CPU\n",
      "Running test snippet to check if MKL-DNN working\n",
      "see https://pytorch.org/docs/stable/backends.html?highlight=mkl\n",
      "** MKL version working - CPU version is sped up. **\n"
     ]
    },
    {
     "name": "stderr",
     "output_type": "stream",
     "text": [
      "C:\\Users\\Shiwei\\AppData\\Roaming\\Python\\Python37\\site-packages\\ipykernel_launcher.py:180: UserWarning: D:\\Analyzed_CellBio\\Stam\\Lac_Ms_live\\210830_263_pos11\\mask_cell_1\\Pos11_DNA_t18.tif is a boolean image: setting True to 255 and False to 0. To silence this warning, please convert the image using img_as_ubyte.\n",
      "C:\\Users\\Shiwei\\AppData\\Roaming\\Python\\Python37\\site-packages\\ipykernel_launcher.py:180: UserWarning: D:\\Analyzed_CellBio\\Stam\\Lac_Ms_live\\210830_263_pos11\\mask_cell_1\\Pos11_Lac_t18.tif is a boolean image: setting True to 255 and False to 0. To silence this warning, please convert the image using img_as_ubyte.\n"
     ]
    },
    {
     "name": "stdout",
     "output_type": "stream",
     "text": [
      "processing 1 image(s)\n",
      "time spent: running network 1.17s; flow+mask computation 0.07\n",
      "estimated masks for 1 image(s) in 1.25 sec\n",
      ">>>> TOTAL TIME 1.25 sec\n",
      "-- normalized foci intensity for ms2 is 0.13525612654953348\n",
      "-- tracking cell at timepoint 19.\n",
      "++++++++++++++++++++++++++++++++++++++++++++++++++++++++++++++++++++++++++++++++++\n",
      ">>>> using CPU\n",
      "Running test snippet to check if MKL-DNN working\n",
      "see https://pytorch.org/docs/stable/backends.html?highlight=mkl\n",
      "** MKL version working - CPU version is sped up. **\n"
     ]
    },
    {
     "name": "stderr",
     "output_type": "stream",
     "text": [
      "C:\\Users\\Shiwei\\AppData\\Roaming\\Python\\Python37\\site-packages\\ipykernel_launcher.py:180: UserWarning: D:\\Analyzed_CellBio\\Stam\\Lac_Ms_live\\210830_263_pos11\\mask_cell_1\\Pos11_DNA_t19.tif is a boolean image: setting True to 255 and False to 0. To silence this warning, please convert the image using img_as_ubyte.\n",
      "C:\\Users\\Shiwei\\AppData\\Roaming\\Python\\Python37\\site-packages\\ipykernel_launcher.py:180: UserWarning: D:\\Analyzed_CellBio\\Stam\\Lac_Ms_live\\210830_263_pos11\\mask_cell_1\\Pos11_Lac_t19.tif is a boolean image: setting True to 255 and False to 0. To silence this warning, please convert the image using img_as_ubyte.\n"
     ]
    },
    {
     "name": "stdout",
     "output_type": "stream",
     "text": [
      "processing 1 image(s)\n",
      "time spent: running network 1.15s; flow+mask computation 0.08\n",
      "estimated masks for 1 image(s) in 1.23 sec\n",
      ">>>> TOTAL TIME 1.23 sec\n",
      "-- normalized foci intensity for ms2 is 0.06232808544849303\n",
      "-- tracking cell at timepoint 20.\n",
      "++++++++++++++++++++++++++++++++++++++++++++++++++++++++++++++++++++++++++++++++++\n"
     ]
    },
    {
     "name": "stderr",
     "output_type": "stream",
     "text": [
      "C:\\Users\\Shiwei\\AppData\\Roaming\\Python\\Python37\\site-packages\\ipykernel_launcher.py:180: UserWarning: D:\\Analyzed_CellBio\\Stam\\Lac_Ms_live\\210830_263_pos11\\mask_cell_1\\Pos11_DNA_t20.tif is a boolean image: setting True to 255 and False to 0. To silence this warning, please convert the image using img_as_ubyte.\n",
      "C:\\Users\\Shiwei\\AppData\\Roaming\\Python\\Python37\\site-packages\\ipykernel_launcher.py:180: UserWarning: D:\\Analyzed_CellBio\\Stam\\Lac_Ms_live\\210830_263_pos11\\mask_cell_1\\Pos11_Lac_t20.tif is a boolean image: setting True to 255 and False to 0. To silence this warning, please convert the image using img_as_ubyte.\n"
     ]
    },
    {
     "name": "stdout",
     "output_type": "stream",
     "text": [
      ">>>> using CPU\n",
      "Running test snippet to check if MKL-DNN working\n",
      "see https://pytorch.org/docs/stable/backends.html?highlight=mkl\n",
      "** MKL version working - CPU version is sped up. **\n",
      "processing 1 image(s)\n",
      "time spent: running network 1.14s; flow+mask computation 0.08\n",
      "estimated masks for 1 image(s) in 1.23 sec\n",
      ">>>> TOTAL TIME 1.23 sec\n",
      "-- normalized foci intensity for ms2 is 0.09726674943773324\n",
      "-- tracking cell at timepoint 21.\n",
      "++++++++++++++++++++++++++++++++++++++++++++++++++++++++++++++++++++++++++++++++++\n",
      ">>>> using CPU\n",
      "Running test snippet to check if MKL-DNN working\n",
      "see https://pytorch.org/docs/stable/backends.html?highlight=mkl\n",
      "** MKL version working - CPU version is sped up. **\n"
     ]
    },
    {
     "name": "stderr",
     "output_type": "stream",
     "text": [
      "C:\\Users\\Shiwei\\AppData\\Roaming\\Python\\Python37\\site-packages\\ipykernel_launcher.py:180: UserWarning: D:\\Analyzed_CellBio\\Stam\\Lac_Ms_live\\210830_263_pos11\\mask_cell_1\\Pos11_DNA_t21.tif is a boolean image: setting True to 255 and False to 0. To silence this warning, please convert the image using img_as_ubyte.\n",
      "C:\\Users\\Shiwei\\AppData\\Roaming\\Python\\Python37\\site-packages\\ipykernel_launcher.py:180: UserWarning: D:\\Analyzed_CellBio\\Stam\\Lac_Ms_live\\210830_263_pos11\\mask_cell_1\\Pos11_Lac_t21.tif is a boolean image: setting True to 255 and False to 0. To silence this warning, please convert the image using img_as_ubyte.\n"
     ]
    },
    {
     "name": "stdout",
     "output_type": "stream",
     "text": [
      "processing 1 image(s)\n",
      "time spent: running network 1.23s; flow+mask computation 0.05\n",
      "estimated masks for 1 image(s) in 1.29 sec\n",
      ">>>> TOTAL TIME 1.29 sec\n",
      "-- normalized foci intensity for ms2 is 0.21893484091959578\n",
      "-- tracking cell at timepoint 22.\n",
      "++++++++++++++++++++++++++++++++++++++++++++++++++++++++++++++++++++++++++++++++++\n"
     ]
    },
    {
     "name": "stderr",
     "output_type": "stream",
     "text": [
      "C:\\Users\\Shiwei\\AppData\\Roaming\\Python\\Python37\\site-packages\\ipykernel_launcher.py:180: UserWarning: D:\\Analyzed_CellBio\\Stam\\Lac_Ms_live\\210830_263_pos11\\mask_cell_1\\Pos11_DNA_t22.tif is a boolean image: setting True to 255 and False to 0. To silence this warning, please convert the image using img_as_ubyte.\n",
      "C:\\Users\\Shiwei\\AppData\\Roaming\\Python\\Python37\\site-packages\\ipykernel_launcher.py:180: UserWarning: D:\\Analyzed_CellBio\\Stam\\Lac_Ms_live\\210830_263_pos11\\mask_cell_1\\Pos11_Lac_t22.tif is a boolean image: setting True to 255 and False to 0. To silence this warning, please convert the image using img_as_ubyte.\n"
     ]
    },
    {
     "name": "stdout",
     "output_type": "stream",
     "text": [
      ">>>> using CPU\n",
      "Running test snippet to check if MKL-DNN working\n",
      "see https://pytorch.org/docs/stable/backends.html?highlight=mkl\n",
      "** MKL version working - CPU version is sped up. **\n",
      "processing 1 image(s)\n",
      "time spent: running network 1.11s; flow+mask computation 0.05\n",
      "estimated masks for 1 image(s) in 1.16 sec\n",
      ">>>> TOTAL TIME 1.16 sec\n",
      "-- normalized foci intensity for ms2 is 0.14476686582547754\n",
      "-- tracking cell at timepoint 23.\n",
      "++++++++++++++++++++++++++++++++++++++++++++++++++++++++++++++++++++++++++++++++++\n"
     ]
    },
    {
     "name": "stderr",
     "output_type": "stream",
     "text": [
      "C:\\Users\\Shiwei\\AppData\\Roaming\\Python\\Python37\\site-packages\\ipykernel_launcher.py:180: UserWarning: D:\\Analyzed_CellBio\\Stam\\Lac_Ms_live\\210830_263_pos11\\mask_cell_1\\Pos11_DNA_t23.tif is a boolean image: setting True to 255 and False to 0. To silence this warning, please convert the image using img_as_ubyte.\n",
      "C:\\Users\\Shiwei\\AppData\\Roaming\\Python\\Python37\\site-packages\\ipykernel_launcher.py:180: UserWarning: D:\\Analyzed_CellBio\\Stam\\Lac_Ms_live\\210830_263_pos11\\mask_cell_1\\Pos11_Lac_t23.tif is a boolean image: setting True to 255 and False to 0. To silence this warning, please convert the image using img_as_ubyte.\n"
     ]
    },
    {
     "name": "stdout",
     "output_type": "stream",
     "text": [
      ">>>> using CPU\n",
      "Running test snippet to check if MKL-DNN working\n",
      "see https://pytorch.org/docs/stable/backends.html?highlight=mkl\n",
      "** MKL version working - CPU version is sped up. **\n",
      "processing 1 image(s)\n",
      "time spent: running network 1.08s; flow+mask computation 0.05\n",
      "estimated masks for 1 image(s) in 1.14 sec\n",
      ">>>> TOTAL TIME 1.14 sec\n",
      "-- normalized foci intensity for ms2 is 0.20252828108945586\n",
      "-- tracking cell at timepoint 24.\n",
      "++++++++++++++++++++++++++++++++++++++++++++++++++++++++++++++++++++++++++++++++++\n"
     ]
    },
    {
     "name": "stderr",
     "output_type": "stream",
     "text": [
      "C:\\Users\\Shiwei\\AppData\\Roaming\\Python\\Python37\\site-packages\\ipykernel_launcher.py:180: UserWarning: D:\\Analyzed_CellBio\\Stam\\Lac_Ms_live\\210830_263_pos11\\mask_cell_1\\Pos11_DNA_t24.tif is a boolean image: setting True to 255 and False to 0. To silence this warning, please convert the image using img_as_ubyte.\n",
      "C:\\Users\\Shiwei\\AppData\\Roaming\\Python\\Python37\\site-packages\\ipykernel_launcher.py:180: UserWarning: D:\\Analyzed_CellBio\\Stam\\Lac_Ms_live\\210830_263_pos11\\mask_cell_1\\Pos11_Lac_t24.tif is a boolean image: setting True to 255 and False to 0. To silence this warning, please convert the image using img_as_ubyte.\n"
     ]
    },
    {
     "name": "stdout",
     "output_type": "stream",
     "text": [
      ">>>> using CPU\n",
      "Running test snippet to check if MKL-DNN working\n",
      "see https://pytorch.org/docs/stable/backends.html?highlight=mkl\n",
      "** MKL version working - CPU version is sped up. **\n",
      "processing 1 image(s)\n",
      "time spent: running network 1.16s; flow+mask computation 0.07\n",
      "estimated masks for 1 image(s) in 1.23 sec\n",
      ">>>> TOTAL TIME 1.23 sec\n",
      "-- normalized foci intensity for ms2 is 0.13301986080611788\n",
      "-- tracking cell at timepoint 25.\n",
      "++++++++++++++++++++++++++++++++++++++++++++++++++++++++++++++++++++++++++++++++++\n"
     ]
    },
    {
     "name": "stderr",
     "output_type": "stream",
     "text": [
      "C:\\Users\\Shiwei\\AppData\\Roaming\\Python\\Python37\\site-packages\\ipykernel_launcher.py:180: UserWarning: D:\\Analyzed_CellBio\\Stam\\Lac_Ms_live\\210830_263_pos11\\mask_cell_1\\Pos11_DNA_t25.tif is a boolean image: setting True to 255 and False to 0. To silence this warning, please convert the image using img_as_ubyte.\n",
      "C:\\Users\\Shiwei\\AppData\\Roaming\\Python\\Python37\\site-packages\\ipykernel_launcher.py:180: UserWarning: D:\\Analyzed_CellBio\\Stam\\Lac_Ms_live\\210830_263_pos11\\mask_cell_1\\Pos11_Lac_t25.tif is a boolean image: setting True to 255 and False to 0. To silence this warning, please convert the image using img_as_ubyte.\n"
     ]
    },
    {
     "name": "stdout",
     "output_type": "stream",
     "text": [
      ">>>> using CPU\n",
      "Running test snippet to check if MKL-DNN working\n",
      "see https://pytorch.org/docs/stable/backends.html?highlight=mkl\n",
      "** MKL version working - CPU version is sped up. **\n",
      "processing 1 image(s)\n",
      "time spent: running network 1.11s; flow+mask computation 0.05\n",
      "estimated masks for 1 image(s) in 1.17 sec\n",
      ">>>> TOTAL TIME 1.17 sec\n",
      "-- normalized foci intensity for ms2 is 0.09557987522146952\n",
      "-- tracking cell at timepoint 26.\n",
      "++++++++++++++++++++++++++++++++++++++++++++++++++++++++++++++++++++++++++++++++++\n"
     ]
    },
    {
     "name": "stderr",
     "output_type": "stream",
     "text": [
      "C:\\Users\\Shiwei\\AppData\\Roaming\\Python\\Python37\\site-packages\\ipykernel_launcher.py:180: UserWarning: D:\\Analyzed_CellBio\\Stam\\Lac_Ms_live\\210830_263_pos11\\mask_cell_1\\Pos11_DNA_t26.tif is a boolean image: setting True to 255 and False to 0. To silence this warning, please convert the image using img_as_ubyte.\n",
      "C:\\Users\\Shiwei\\AppData\\Roaming\\Python\\Python37\\site-packages\\ipykernel_launcher.py:180: UserWarning: D:\\Analyzed_CellBio\\Stam\\Lac_Ms_live\\210830_263_pos11\\mask_cell_1\\Pos11_Lac_t26.tif is a boolean image: setting True to 255 and False to 0. To silence this warning, please convert the image using img_as_ubyte.\n"
     ]
    },
    {
     "name": "stdout",
     "output_type": "stream",
     "text": [
      ">>>> using CPU\n",
      "Running test snippet to check if MKL-DNN working\n",
      "see https://pytorch.org/docs/stable/backends.html?highlight=mkl\n",
      "** MKL version working - CPU version is sped up. **\n",
      "processing 1 image(s)\n",
      "time spent: running network 1.21s; flow+mask computation 0.06\n",
      "estimated masks for 1 image(s) in 1.29 sec\n",
      ">>>> TOTAL TIME 1.29 sec\n",
      "-- normalized foci intensity for ms2 is 0.1250112881236702\n",
      "-- tracking cell at timepoint 27.\n",
      "++++++++++++++++++++++++++++++++++++++++++++++++++++++++++++++++++++++++++++++++++\n"
     ]
    },
    {
     "name": "stderr",
     "output_type": "stream",
     "text": [
      "C:\\Users\\Shiwei\\AppData\\Roaming\\Python\\Python37\\site-packages\\ipykernel_launcher.py:180: UserWarning: D:\\Analyzed_CellBio\\Stam\\Lac_Ms_live\\210830_263_pos11\\mask_cell_1\\Pos11_DNA_t27.tif is a boolean image: setting True to 255 and False to 0. To silence this warning, please convert the image using img_as_ubyte.\n",
      "C:\\Users\\Shiwei\\AppData\\Roaming\\Python\\Python37\\site-packages\\ipykernel_launcher.py:180: UserWarning: D:\\Analyzed_CellBio\\Stam\\Lac_Ms_live\\210830_263_pos11\\mask_cell_1\\Pos11_Lac_t27.tif is a boolean image: setting True to 255 and False to 0. To silence this warning, please convert the image using img_as_ubyte.\n"
     ]
    },
    {
     "name": "stdout",
     "output_type": "stream",
     "text": [
      ">>>> using CPU\n",
      "Running test snippet to check if MKL-DNN working\n",
      "see https://pytorch.org/docs/stable/backends.html?highlight=mkl\n",
      "** MKL version working - CPU version is sped up. **\n",
      "processing 1 image(s)\n",
      "time spent: running network 1.12s; flow+mask computation 0.05\n",
      "estimated masks for 1 image(s) in 1.18 sec\n",
      ">>>> TOTAL TIME 1.18 sec\n",
      "-- normalized foci intensity for ms2 is -0.009175696020971019\n",
      "-- tracking cell at timepoint 28.\n",
      "++++++++++++++++++++++++++++++++++++++++++++++++++++++++++++++++++++++++++++++++++\n",
      ">>>> using CPU\n",
      "Running test snippet to check if MKL-DNN working\n",
      "see https://pytorch.org/docs/stable/backends.html?highlight=mkl\n",
      "** MKL version working - CPU version is sped up. **\n"
     ]
    },
    {
     "name": "stderr",
     "output_type": "stream",
     "text": [
      "C:\\Users\\Shiwei\\AppData\\Roaming\\Python\\Python37\\site-packages\\ipykernel_launcher.py:180: UserWarning: D:\\Analyzed_CellBio\\Stam\\Lac_Ms_live\\210830_263_pos11\\mask_cell_1\\Pos11_DNA_t28.tif is a boolean image: setting True to 255 and False to 0. To silence this warning, please convert the image using img_as_ubyte.\n",
      "C:\\Users\\Shiwei\\AppData\\Roaming\\Python\\Python37\\site-packages\\ipykernel_launcher.py:180: UserWarning: D:\\Analyzed_CellBio\\Stam\\Lac_Ms_live\\210830_263_pos11\\mask_cell_1\\Pos11_Lac_t28.tif is a boolean image: setting True to 255 and False to 0. To silence this warning, please convert the image using img_as_ubyte.\n"
     ]
    },
    {
     "name": "stdout",
     "output_type": "stream",
     "text": [
      "processing 1 image(s)\n",
      "time spent: running network 1.10s; flow+mask computation 0.05\n",
      "estimated masks for 1 image(s) in 1.16 sec\n",
      ">>>> TOTAL TIME 1.16 sec\n",
      "-- normalized foci intensity for ms2 is 0.05759456223273947\n",
      "-- tracking cell at timepoint 29.\n",
      "++++++++++++++++++++++++++++++++++++++++++++++++++++++++++++++++++++++++++++++++++\n"
     ]
    },
    {
     "name": "stderr",
     "output_type": "stream",
     "text": [
      "C:\\Users\\Shiwei\\AppData\\Roaming\\Python\\Python37\\site-packages\\ipykernel_launcher.py:180: UserWarning: D:\\Analyzed_CellBio\\Stam\\Lac_Ms_live\\210830_263_pos11\\mask_cell_1\\Pos11_DNA_t29.tif is a boolean image: setting True to 255 and False to 0. To silence this warning, please convert the image using img_as_ubyte.\n",
      "C:\\Users\\Shiwei\\AppData\\Roaming\\Python\\Python37\\site-packages\\ipykernel_launcher.py:180: UserWarning: D:\\Analyzed_CellBio\\Stam\\Lac_Ms_live\\210830_263_pos11\\mask_cell_1\\Pos11_Lac_t29.tif is a boolean image: setting True to 255 and False to 0. To silence this warning, please convert the image using img_as_ubyte.\n"
     ]
    },
    {
     "name": "stdout",
     "output_type": "stream",
     "text": [
      ">>>> using CPU\n",
      "Running test snippet to check if MKL-DNN working\n",
      "see https://pytorch.org/docs/stable/backends.html?highlight=mkl\n",
      "** MKL version working - CPU version is sped up. **\n",
      "processing 1 image(s)\n",
      "time spent: running network 1.10s; flow+mask computation 0.04\n",
      "estimated masks for 1 image(s) in 1.15 sec\n",
      ">>>> TOTAL TIME 1.15 sec\n",
      "-- normalized foci intensity for ms2 is 0.16218698903896847\n",
      "-- tracking cell at timepoint 30.\n",
      "++++++++++++++++++++++++++++++++++++++++++++++++++++++++++++++++++++++++++++++++++\n"
     ]
    },
    {
     "name": "stderr",
     "output_type": "stream",
     "text": [
      "C:\\Users\\Shiwei\\AppData\\Roaming\\Python\\Python37\\site-packages\\ipykernel_launcher.py:180: UserWarning: D:\\Analyzed_CellBio\\Stam\\Lac_Ms_live\\210830_263_pos11\\mask_cell_1\\Pos11_DNA_t30.tif is a boolean image: setting True to 255 and False to 0. To silence this warning, please convert the image using img_as_ubyte.\n",
      "C:\\Users\\Shiwei\\AppData\\Roaming\\Python\\Python37\\site-packages\\ipykernel_launcher.py:180: UserWarning: D:\\Analyzed_CellBio\\Stam\\Lac_Ms_live\\210830_263_pos11\\mask_cell_1\\Pos11_Lac_t30.tif is a boolean image: setting True to 255 and False to 0. To silence this warning, please convert the image using img_as_ubyte.\n"
     ]
    },
    {
     "name": "stdout",
     "output_type": "stream",
     "text": [
      ">>>> using CPU\n",
      "Running test snippet to check if MKL-DNN working\n",
      "see https://pytorch.org/docs/stable/backends.html?highlight=mkl\n",
      "** MKL version working - CPU version is sped up. **\n",
      "processing 1 image(s)\n",
      "time spent: running network 1.17s; flow+mask computation 0.07\n",
      "estimated masks for 1 image(s) in 1.25 sec\n",
      ">>>> TOTAL TIME 1.25 sec\n",
      "-- normalized foci intensity for ms2 is 0.08350274454780944\n",
      "-- tracking cell at timepoint 31.\n",
      "++++++++++++++++++++++++++++++++++++++++++++++++++++++++++++++++++++++++++++++++++\n"
     ]
    },
    {
     "name": "stderr",
     "output_type": "stream",
     "text": [
      "C:\\Users\\Shiwei\\AppData\\Roaming\\Python\\Python37\\site-packages\\ipykernel_launcher.py:180: UserWarning: D:\\Analyzed_CellBio\\Stam\\Lac_Ms_live\\210830_263_pos11\\mask_cell_1\\Pos11_DNA_t31.tif is a boolean image: setting True to 255 and False to 0. To silence this warning, please convert the image using img_as_ubyte.\n",
      "C:\\Users\\Shiwei\\AppData\\Roaming\\Python\\Python37\\site-packages\\ipykernel_launcher.py:180: UserWarning: D:\\Analyzed_CellBio\\Stam\\Lac_Ms_live\\210830_263_pos11\\mask_cell_1\\Pos11_Lac_t31.tif is a boolean image: setting True to 255 and False to 0. To silence this warning, please convert the image using img_as_ubyte.\n"
     ]
    },
    {
     "name": "stdout",
     "output_type": "stream",
     "text": [
      ">>>> using CPU\n",
      "Running test snippet to check if MKL-DNN working\n",
      "see https://pytorch.org/docs/stable/backends.html?highlight=mkl\n",
      "** MKL version working - CPU version is sped up. **\n",
      "processing 1 image(s)\n",
      "time spent: running network 1.27s; flow+mask computation 0.04\n",
      "estimated masks for 1 image(s) in 1.32 sec\n",
      ">>>> TOTAL TIME 1.32 sec\n",
      "-- normalized foci intensity for ms2 is -0.0002915877171224239\n",
      "-- tracking cell at timepoint 32.\n",
      "++++++++++++++++++++++++++++++++++++++++++++++++++++++++++++++++++++++++++++++++++\n"
     ]
    },
    {
     "name": "stderr",
     "output_type": "stream",
     "text": [
      "C:\\Users\\Shiwei\\AppData\\Roaming\\Python\\Python37\\site-packages\\ipykernel_launcher.py:180: UserWarning: D:\\Analyzed_CellBio\\Stam\\Lac_Ms_live\\210830_263_pos11\\mask_cell_1\\Pos11_DNA_t32.tif is a boolean image: setting True to 255 and False to 0. To silence this warning, please convert the image using img_as_ubyte.\n",
      "C:\\Users\\Shiwei\\AppData\\Roaming\\Python\\Python37\\site-packages\\ipykernel_launcher.py:180: UserWarning: D:\\Analyzed_CellBio\\Stam\\Lac_Ms_live\\210830_263_pos11\\mask_cell_1\\Pos11_Lac_t32.tif is a boolean image: setting True to 255 and False to 0. To silence this warning, please convert the image using img_as_ubyte.\n"
     ]
    },
    {
     "name": "stdout",
     "output_type": "stream",
     "text": [
      ">>>> using CPU\n",
      "Running test snippet to check if MKL-DNN working\n",
      "see https://pytorch.org/docs/stable/backends.html?highlight=mkl\n",
      "** MKL version working - CPU version is sped up. **\n",
      "processing 1 image(s)\n",
      "time spent: running network 1.12s; flow+mask computation 0.06\n",
      "estimated masks for 1 image(s) in 1.18 sec\n",
      ">>>> TOTAL TIME 1.18 sec\n",
      "-- normalized foci intensity for ms2 is 0.11253361322879456\n",
      "-- tracking cell at timepoint 33.\n",
      "++++++++++++++++++++++++++++++++++++++++++++++++++++++++++++++++++++++++++++++++++\n"
     ]
    },
    {
     "name": "stderr",
     "output_type": "stream",
     "text": [
      "C:\\Users\\Shiwei\\AppData\\Roaming\\Python\\Python37\\site-packages\\ipykernel_launcher.py:180: UserWarning: D:\\Analyzed_CellBio\\Stam\\Lac_Ms_live\\210830_263_pos11\\mask_cell_1\\Pos11_DNA_t33.tif is a boolean image: setting True to 255 and False to 0. To silence this warning, please convert the image using img_as_ubyte.\n",
      "C:\\Users\\Shiwei\\AppData\\Roaming\\Python\\Python37\\site-packages\\ipykernel_launcher.py:180: UserWarning: D:\\Analyzed_CellBio\\Stam\\Lac_Ms_live\\210830_263_pos11\\mask_cell_1\\Pos11_Lac_t33.tif is a boolean image: setting True to 255 and False to 0. To silence this warning, please convert the image using img_as_ubyte.\n"
     ]
    },
    {
     "name": "stdout",
     "output_type": "stream",
     "text": [
      ">>>> using CPU\n",
      "Running test snippet to check if MKL-DNN working\n",
      "see https://pytorch.org/docs/stable/backends.html?highlight=mkl\n",
      "** MKL version working - CPU version is sped up. **\n",
      "processing 1 image(s)\n",
      "time spent: running network 1.12s; flow+mask computation 0.05\n",
      "estimated masks for 1 image(s) in 1.18 sec\n",
      ">>>> TOTAL TIME 1.18 sec\n",
      "-- normalized foci intensity for ms2 is 0.06989238637145462\n",
      "-- tracking cell at timepoint 34.\n",
      "++++++++++++++++++++++++++++++++++++++++++++++++++++++++++++++++++++++++++++++++++\n"
     ]
    },
    {
     "name": "stderr",
     "output_type": "stream",
     "text": [
      "C:\\Users\\Shiwei\\AppData\\Roaming\\Python\\Python37\\site-packages\\ipykernel_launcher.py:180: UserWarning: D:\\Analyzed_CellBio\\Stam\\Lac_Ms_live\\210830_263_pos11\\mask_cell_1\\Pos11_DNA_t34.tif is a boolean image: setting True to 255 and False to 0. To silence this warning, please convert the image using img_as_ubyte.\n",
      "C:\\Users\\Shiwei\\AppData\\Roaming\\Python\\Python37\\site-packages\\ipykernel_launcher.py:180: UserWarning: D:\\Analyzed_CellBio\\Stam\\Lac_Ms_live\\210830_263_pos11\\mask_cell_1\\Pos11_Lac_t34.tif is a boolean image: setting True to 255 and False to 0. To silence this warning, please convert the image using img_as_ubyte.\n"
     ]
    },
    {
     "name": "stdout",
     "output_type": "stream",
     "text": [
      ">>>> using CPU\n",
      "Running test snippet to check if MKL-DNN working\n",
      "see https://pytorch.org/docs/stable/backends.html?highlight=mkl\n",
      "** MKL version working - CPU version is sped up. **\n",
      "processing 1 image(s)\n",
      "time spent: running network 1.07s; flow+mask computation 0.04\n",
      "estimated masks for 1 image(s) in 1.12 sec\n",
      ">>>> TOTAL TIME 1.12 sec\n",
      "-- normalized foci intensity for ms2 is 0.07957997598308644\n",
      "-- tracking cell at timepoint 35.\n",
      "++++++++++++++++++++++++++++++++++++++++++++++++++++++++++++++++++++++++++++++++++\n"
     ]
    },
    {
     "name": "stderr",
     "output_type": "stream",
     "text": [
      "C:\\Users\\Shiwei\\AppData\\Roaming\\Python\\Python37\\site-packages\\ipykernel_launcher.py:180: UserWarning: D:\\Analyzed_CellBio\\Stam\\Lac_Ms_live\\210830_263_pos11\\mask_cell_1\\Pos11_DNA_t35.tif is a boolean image: setting True to 255 and False to 0. To silence this warning, please convert the image using img_as_ubyte.\n",
      "C:\\Users\\Shiwei\\AppData\\Roaming\\Python\\Python37\\site-packages\\ipykernel_launcher.py:180: UserWarning: D:\\Analyzed_CellBio\\Stam\\Lac_Ms_live\\210830_263_pos11\\mask_cell_1\\Pos11_Lac_t35.tif is a boolean image: setting True to 255 and False to 0. To silence this warning, please convert the image using img_as_ubyte.\n"
     ]
    },
    {
     "name": "stdout",
     "output_type": "stream",
     "text": [
      ">>>> using CPU\n",
      "Running test snippet to check if MKL-DNN working\n",
      "see https://pytorch.org/docs/stable/backends.html?highlight=mkl\n",
      "** MKL version working - CPU version is sped up. **\n",
      "processing 1 image(s)\n",
      "time spent: running network 1.13s; flow+mask computation 0.05\n",
      "estimated masks for 1 image(s) in 1.20 sec\n",
      ">>>> TOTAL TIME 1.20 sec\n",
      "-- normalized foci intensity for ms2 is 0.16899897576907116\n",
      "-- tracking cell at timepoint 36.\n",
      "++++++++++++++++++++++++++++++++++++++++++++++++++++++++++++++++++++++++++++++++++\n"
     ]
    },
    {
     "name": "stderr",
     "output_type": "stream",
     "text": [
      "C:\\Users\\Shiwei\\AppData\\Roaming\\Python\\Python37\\site-packages\\ipykernel_launcher.py:180: UserWarning: D:\\Analyzed_CellBio\\Stam\\Lac_Ms_live\\210830_263_pos11\\mask_cell_1\\Pos11_DNA_t36.tif is a boolean image: setting True to 255 and False to 0. To silence this warning, please convert the image using img_as_ubyte.\n",
      "C:\\Users\\Shiwei\\AppData\\Roaming\\Python\\Python37\\site-packages\\ipykernel_launcher.py:180: UserWarning: D:\\Analyzed_CellBio\\Stam\\Lac_Ms_live\\210830_263_pos11\\mask_cell_1\\Pos11_Lac_t36.tif is a boolean image: setting True to 255 and False to 0. To silence this warning, please convert the image using img_as_ubyte.\n"
     ]
    },
    {
     "name": "stdout",
     "output_type": "stream",
     "text": [
      ">>>> using CPU\n",
      "Running test snippet to check if MKL-DNN working\n",
      "see https://pytorch.org/docs/stable/backends.html?highlight=mkl\n",
      "** MKL version working - CPU version is sped up. **\n",
      "processing 1 image(s)\n",
      "time spent: running network 1.12s; flow+mask computation 0.04\n",
      "estimated masks for 1 image(s) in 1.18 sec\n",
      ">>>> TOTAL TIME 1.18 sec\n",
      "-- normalized foci intensity for ms2 is 0.09124015668654635\n",
      "-- tracking cell at timepoint 37.\n",
      "++++++++++++++++++++++++++++++++++++++++++++++++++++++++++++++++++++++++++++++++++\n"
     ]
    },
    {
     "name": "stderr",
     "output_type": "stream",
     "text": [
      "C:\\Users\\Shiwei\\AppData\\Roaming\\Python\\Python37\\site-packages\\ipykernel_launcher.py:180: UserWarning: D:\\Analyzed_CellBio\\Stam\\Lac_Ms_live\\210830_263_pos11\\mask_cell_1\\Pos11_DNA_t37.tif is a boolean image: setting True to 255 and False to 0. To silence this warning, please convert the image using img_as_ubyte.\n",
      "C:\\Users\\Shiwei\\AppData\\Roaming\\Python\\Python37\\site-packages\\ipykernel_launcher.py:180: UserWarning: D:\\Analyzed_CellBio\\Stam\\Lac_Ms_live\\210830_263_pos11\\mask_cell_1\\Pos11_Lac_t37.tif is a boolean image: setting True to 255 and False to 0. To silence this warning, please convert the image using img_as_ubyte.\n"
     ]
    },
    {
     "name": "stdout",
     "output_type": "stream",
     "text": [
      ">>>> using CPU\n",
      "Running test snippet to check if MKL-DNN working\n",
      "see https://pytorch.org/docs/stable/backends.html?highlight=mkl\n",
      "** MKL version working - CPU version is sped up. **\n",
      "processing 1 image(s)\n",
      "time spent: running network 1.24s; flow+mask computation 0.05\n",
      "estimated masks for 1 image(s) in 1.30 sec\n",
      ">>>> TOTAL TIME 1.30 sec\n",
      "-- normalized foci intensity for ms2 is 0.11200700647093031\n",
      "-- tracking cell at timepoint 38.\n",
      "++++++++++++++++++++++++++++++++++++++++++++++++++++++++++++++++++++++++++++++++++\n"
     ]
    },
    {
     "name": "stderr",
     "output_type": "stream",
     "text": [
      "C:\\Users\\Shiwei\\AppData\\Roaming\\Python\\Python37\\site-packages\\ipykernel_launcher.py:180: UserWarning: D:\\Analyzed_CellBio\\Stam\\Lac_Ms_live\\210830_263_pos11\\mask_cell_1\\Pos11_DNA_t38.tif is a boolean image: setting True to 255 and False to 0. To silence this warning, please convert the image using img_as_ubyte.\n",
      "C:\\Users\\Shiwei\\AppData\\Roaming\\Python\\Python37\\site-packages\\ipykernel_launcher.py:180: UserWarning: D:\\Analyzed_CellBio\\Stam\\Lac_Ms_live\\210830_263_pos11\\mask_cell_1\\Pos11_Lac_t38.tif is a boolean image: setting True to 255 and False to 0. To silence this warning, please convert the image using img_as_ubyte.\n"
     ]
    },
    {
     "name": "stdout",
     "output_type": "stream",
     "text": [
      ">>>> using CPU\n",
      "Running test snippet to check if MKL-DNN working\n",
      "see https://pytorch.org/docs/stable/backends.html?highlight=mkl\n",
      "** MKL version working - CPU version is sped up. **\n",
      "processing 1 image(s)\n",
      "time spent: running network 1.11s; flow+mask computation 0.05\n",
      "estimated masks for 1 image(s) in 1.18 sec\n",
      ">>>> TOTAL TIME 1.18 sec\n",
      "-- normalized foci intensity for ms2 is 0.1654663612667071\n",
      "-- tracking cell at timepoint 39.\n",
      "++++++++++++++++++++++++++++++++++++++++++++++++++++++++++++++++++++++++++++++++++\n",
      ">>>> using CPU\n",
      "Running test snippet to check if MKL-DNN working\n",
      "see https://pytorch.org/docs/stable/backends.html?highlight=mkl\n",
      "** MKL version working - CPU version is sped up. **\n"
     ]
    },
    {
     "name": "stderr",
     "output_type": "stream",
     "text": [
      "C:\\Users\\Shiwei\\AppData\\Roaming\\Python\\Python37\\site-packages\\ipykernel_launcher.py:180: UserWarning: D:\\Analyzed_CellBio\\Stam\\Lac_Ms_live\\210830_263_pos11\\mask_cell_1\\Pos11_DNA_t39.tif is a boolean image: setting True to 255 and False to 0. To silence this warning, please convert the image using img_as_ubyte.\n",
      "C:\\Users\\Shiwei\\AppData\\Roaming\\Python\\Python37\\site-packages\\ipykernel_launcher.py:180: UserWarning: D:\\Analyzed_CellBio\\Stam\\Lac_Ms_live\\210830_263_pos11\\mask_cell_1\\Pos11_Lac_t39.tif is a boolean image: setting True to 255 and False to 0. To silence this warning, please convert the image using img_as_ubyte.\n"
     ]
    },
    {
     "name": "stdout",
     "output_type": "stream",
     "text": [
      "processing 1 image(s)\n",
      "time spent: running network 1.11s; flow+mask computation 0.05\n",
      "estimated masks for 1 image(s) in 1.17 sec\n",
      ">>>> TOTAL TIME 1.17 sec\n",
      "-- normalized foci intensity for ms2 is 0.11626798325911901\n",
      "-- tracking cell at timepoint 40.\n",
      "++++++++++++++++++++++++++++++++++++++++++++++++++++++++++++++++++++++++++++++++++\n"
     ]
    },
    {
     "name": "stderr",
     "output_type": "stream",
     "text": [
      "C:\\Users\\Shiwei\\AppData\\Roaming\\Python\\Python37\\site-packages\\ipykernel_launcher.py:180: UserWarning: D:\\Analyzed_CellBio\\Stam\\Lac_Ms_live\\210830_263_pos11\\mask_cell_1\\Pos11_DNA_t40.tif is a boolean image: setting True to 255 and False to 0. To silence this warning, please convert the image using img_as_ubyte.\n",
      "C:\\Users\\Shiwei\\AppData\\Roaming\\Python\\Python37\\site-packages\\ipykernel_launcher.py:180: UserWarning: D:\\Analyzed_CellBio\\Stam\\Lac_Ms_live\\210830_263_pos11\\mask_cell_1\\Pos11_Lac_t40.tif is a boolean image: setting True to 255 and False to 0. To silence this warning, please convert the image using img_as_ubyte.\n"
     ]
    },
    {
     "name": "stdout",
     "output_type": "stream",
     "text": [
      ">>>> using CPU\n",
      "Running test snippet to check if MKL-DNN working\n",
      "see https://pytorch.org/docs/stable/backends.html?highlight=mkl\n",
      "** MKL version working - CPU version is sped up. **\n",
      "processing 1 image(s)\n",
      "time spent: running network 1.21s; flow+mask computation 0.05\n",
      "estimated masks for 1 image(s) in 1.27 sec\n",
      ">>>> TOTAL TIME 1.27 sec\n",
      "-- normalized foci intensity for ms2 is 1.1451718278753438\n",
      "-- tracking cell at timepoint 41.\n",
      "++++++++++++++++++++++++++++++++++++++++++++++++++++++++++++++++++++++++++++++++++\n",
      ">>>> using CPU\n",
      "Running test snippet to check if MKL-DNN working\n",
      "see https://pytorch.org/docs/stable/backends.html?highlight=mkl\n",
      "** MKL version working - CPU version is sped up. **\n"
     ]
    },
    {
     "name": "stderr",
     "output_type": "stream",
     "text": [
      "C:\\Users\\Shiwei\\AppData\\Roaming\\Python\\Python37\\site-packages\\ipykernel_launcher.py:180: UserWarning: D:\\Analyzed_CellBio\\Stam\\Lac_Ms_live\\210830_263_pos11\\mask_cell_1\\Pos11_DNA_t41.tif is a boolean image: setting True to 255 and False to 0. To silence this warning, please convert the image using img_as_ubyte.\n",
      "C:\\Users\\Shiwei\\AppData\\Roaming\\Python\\Python37\\site-packages\\ipykernel_launcher.py:180: UserWarning: D:\\Analyzed_CellBio\\Stam\\Lac_Ms_live\\210830_263_pos11\\mask_cell_1\\Pos11_Lac_t41.tif is a boolean image: setting True to 255 and False to 0. To silence this warning, please convert the image using img_as_ubyte.\n"
     ]
    },
    {
     "name": "stdout",
     "output_type": "stream",
     "text": [
      "processing 1 image(s)\n",
      "time spent: running network 1.12s; flow+mask computation 0.07\n",
      "estimated masks for 1 image(s) in 1.19 sec\n",
      ">>>> TOTAL TIME 1.19 sec\n",
      "-- normalized foci intensity for ms2 is 1.2669798741177904\n",
      "-- tracking cell at timepoint 42.\n",
      "++++++++++++++++++++++++++++++++++++++++++++++++++++++++++++++++++++++++++++++++++\n"
     ]
    },
    {
     "name": "stderr",
     "output_type": "stream",
     "text": [
      "C:\\Users\\Shiwei\\AppData\\Roaming\\Python\\Python37\\site-packages\\ipykernel_launcher.py:180: UserWarning: D:\\Analyzed_CellBio\\Stam\\Lac_Ms_live\\210830_263_pos11\\mask_cell_1\\Pos11_DNA_t42.tif is a boolean image: setting True to 255 and False to 0. To silence this warning, please convert the image using img_as_ubyte.\n",
      "C:\\Users\\Shiwei\\AppData\\Roaming\\Python\\Python37\\site-packages\\ipykernel_launcher.py:180: UserWarning: D:\\Analyzed_CellBio\\Stam\\Lac_Ms_live\\210830_263_pos11\\mask_cell_1\\Pos11_Lac_t42.tif is a boolean image: setting True to 255 and False to 0. To silence this warning, please convert the image using img_as_ubyte.\n"
     ]
    },
    {
     "name": "stdout",
     "output_type": "stream",
     "text": [
      ">>>> using CPU\n",
      "Running test snippet to check if MKL-DNN working\n",
      "see https://pytorch.org/docs/stable/backends.html?highlight=mkl\n",
      "** MKL version working - CPU version is sped up. **\n",
      "processing 1 image(s)\n",
      "time spent: running network 1.22s; flow+mask computation 0.06\n",
      "estimated masks for 1 image(s) in 1.29 sec\n",
      ">>>> TOTAL TIME 1.29 sec\n",
      "-- normalized foci intensity for ms2 is 0.24329432080749192\n",
      "-- tracking cell at timepoint 43.\n",
      "++++++++++++++++++++++++++++++++++++++++++++++++++++++++++++++++++++++++++++++++++\n",
      ">>>> using CPU"
     ]
    },
    {
     "name": "stderr",
     "output_type": "stream",
     "text": [
      "C:\\Users\\Shiwei\\AppData\\Roaming\\Python\\Python37\\site-packages\\ipykernel_launcher.py:180: UserWarning: D:\\Analyzed_CellBio\\Stam\\Lac_Ms_live\\210830_263_pos11\\mask_cell_1\\Pos11_DNA_t43.tif is a boolean image: setting True to 255 and False to 0. To silence this warning, please convert the image using img_as_ubyte.\n",
      "C:\\Users\\Shiwei\\AppData\\Roaming\\Python\\Python37\\site-packages\\ipykernel_launcher.py:180: UserWarning: D:\\Analyzed_CellBio\\Stam\\Lac_Ms_live\\210830_263_pos11\\mask_cell_1\\Pos11_Lac_t43.tif is a boolean image: setting True to 255 and False to 0. To silence this warning, please convert the image using img_as_ubyte.\n"
     ]
    },
    {
     "name": "stdout",
     "output_type": "stream",
     "text": [
      "\n",
      "Running test snippet to check if MKL-DNN working\n",
      "see https://pytorch.org/docs/stable/backends.html?highlight=mkl\n",
      "** MKL version working - CPU version is sped up. **\n",
      "processing 1 image(s)\n",
      "time spent: running network 1.30s; flow+mask computation 0.07\n",
      "estimated masks for 1 image(s) in 1.38 sec\n",
      ">>>> TOTAL TIME 1.38 sec\n",
      "-- normalized foci intensity for ms2 is 0.17191007775968037\n",
      "-- tracking cell at timepoint 44.\n",
      "++++++++++++++++++++++++++++++++++++++++++++++++++++++++++++++++++++++++++++++++++\n"
     ]
    },
    {
     "name": "stderr",
     "output_type": "stream",
     "text": [
      "C:\\Users\\Shiwei\\AppData\\Roaming\\Python\\Python37\\site-packages\\ipykernel_launcher.py:180: UserWarning: D:\\Analyzed_CellBio\\Stam\\Lac_Ms_live\\210830_263_pos11\\mask_cell_1\\Pos11_DNA_t44.tif is a boolean image: setting True to 255 and False to 0. To silence this warning, please convert the image using img_as_ubyte.\n",
      "C:\\Users\\Shiwei\\AppData\\Roaming\\Python\\Python37\\site-packages\\ipykernel_launcher.py:180: UserWarning: D:\\Analyzed_CellBio\\Stam\\Lac_Ms_live\\210830_263_pos11\\mask_cell_1\\Pos11_Lac_t44.tif is a boolean image: setting True to 255 and False to 0. To silence this warning, please convert the image using img_as_ubyte.\n"
     ]
    },
    {
     "name": "stdout",
     "output_type": "stream",
     "text": [
      ">>>> using CPU\n",
      "Running test snippet to check if MKL-DNN working\n",
      "see https://pytorch.org/docs/stable/backends.html?highlight=mkl\n",
      "** MKL version working - CPU version is sped up. **\n",
      "processing 1 image(s)\n",
      "time spent: running network 1.09s; flow+mask computation 0.05\n",
      "estimated masks for 1 image(s) in 1.15 sec\n",
      ">>>> TOTAL TIME 1.15 sec\n",
      "-- normalized foci intensity for ms2 is 0.07967865391236119\n",
      "-- tracking cell at timepoint 45.\n",
      "++++++++++++++++++++++++++++++++++++++++++++++++++++++++++++++++++++++++++++++++++\n"
     ]
    },
    {
     "name": "stderr",
     "output_type": "stream",
     "text": [
      "C:\\Users\\Shiwei\\AppData\\Roaming\\Python\\Python37\\site-packages\\ipykernel_launcher.py:180: UserWarning: D:\\Analyzed_CellBio\\Stam\\Lac_Ms_live\\210830_263_pos11\\mask_cell_1\\Pos11_DNA_t45.tif is a boolean image: setting True to 255 and False to 0. To silence this warning, please convert the image using img_as_ubyte.\n",
      "C:\\Users\\Shiwei\\AppData\\Roaming\\Python\\Python37\\site-packages\\ipykernel_launcher.py:180: UserWarning: D:\\Analyzed_CellBio\\Stam\\Lac_Ms_live\\210830_263_pos11\\mask_cell_1\\Pos11_Lac_t45.tif is a boolean image: setting True to 255 and False to 0. To silence this warning, please convert the image using img_as_ubyte.\n"
     ]
    },
    {
     "name": "stdout",
     "output_type": "stream",
     "text": [
      ">>>> using CPU\n",
      "Running test snippet to check if MKL-DNN working\n",
      "see https://pytorch.org/docs/stable/backends.html?highlight=mkl\n",
      "** MKL version working - CPU version is sped up. **\n",
      "processing 1 image(s)\n",
      "time spent: running network 1.14s; flow+mask computation 0.05\n",
      "estimated masks for 1 image(s) in 1.19 sec\n",
      ">>>> TOTAL TIME 1.19 sec\n",
      "-- normalized foci intensity for ms2 is 0.06499812360772284\n",
      "-- tracking cell at timepoint 46.\n",
      "++++++++++++++++++++++++++++++++++++++++++++++++++++++++++++++++++++++++++++++++++\n"
     ]
    },
    {
     "name": "stderr",
     "output_type": "stream",
     "text": [
      "C:\\Users\\Shiwei\\AppData\\Roaming\\Python\\Python37\\site-packages\\ipykernel_launcher.py:180: UserWarning: D:\\Analyzed_CellBio\\Stam\\Lac_Ms_live\\210830_263_pos11\\mask_cell_1\\Pos11_DNA_t46.tif is a boolean image: setting True to 255 and False to 0. To silence this warning, please convert the image using img_as_ubyte.\n",
      "C:\\Users\\Shiwei\\AppData\\Roaming\\Python\\Python37\\site-packages\\ipykernel_launcher.py:180: UserWarning: D:\\Analyzed_CellBio\\Stam\\Lac_Ms_live\\210830_263_pos11\\mask_cell_1\\Pos11_Lac_t46.tif is a boolean image: setting True to 255 and False to 0. To silence this warning, please convert the image using img_as_ubyte.\n"
     ]
    },
    {
     "name": "stdout",
     "output_type": "stream",
     "text": [
      ">>>> using CPU\n",
      "Running test snippet to check if MKL-DNN working\n",
      "see https://pytorch.org/docs/stable/backends.html?highlight=mkl\n",
      "** MKL version working - CPU version is sped up. **\n",
      "processing 1 image(s)\n",
      "time spent: running network 1.17s; flow+mask computation 0.07\n",
      "estimated masks for 1 image(s) in 1.25 sec\n",
      ">>>> TOTAL TIME 1.25 sec\n",
      "-- normalized foci intensity for ms2 is 0.03235478904905285\n",
      "-- tracking cell at timepoint 47.\n",
      "++++++++++++++++++++++++++++++++++++++++++++++++++++++++++++++++++++++++++++++++++\n",
      ">>>> using CPU\n",
      "Running test snippet to check if MKL-DNN working\n",
      "see https://pytorch.org/docs/stable/backends.html?highlight=mkl\n",
      "** MKL version working - CPU version is sped up. **\n"
     ]
    },
    {
     "name": "stderr",
     "output_type": "stream",
     "text": [
      "C:\\Users\\Shiwei\\AppData\\Roaming\\Python\\Python37\\site-packages\\ipykernel_launcher.py:180: UserWarning: D:\\Analyzed_CellBio\\Stam\\Lac_Ms_live\\210830_263_pos11\\mask_cell_1\\Pos11_DNA_t47.tif is a boolean image: setting True to 255 and False to 0. To silence this warning, please convert the image using img_as_ubyte.\n",
      "C:\\Users\\Shiwei\\AppData\\Roaming\\Python\\Python37\\site-packages\\ipykernel_launcher.py:180: UserWarning: D:\\Analyzed_CellBio\\Stam\\Lac_Ms_live\\210830_263_pos11\\mask_cell_1\\Pos11_Lac_t47.tif is a boolean image: setting True to 255 and False to 0. To silence this warning, please convert the image using img_as_ubyte.\n"
     ]
    },
    {
     "name": "stdout",
     "output_type": "stream",
     "text": [
      "processing 1 image(s)\n",
      "time spent: running network 1.16s; flow+mask computation 0.07\n",
      "estimated masks for 1 image(s) in 1.24 sec\n",
      ">>>> TOTAL TIME 1.24 sec\n",
      "-- normalized foci intensity for ms2 is 0.09503706409328838\n",
      "-- tracking cell at timepoint 48.\n",
      "++++++++++++++++++++++++++++++++++++++++++++++++++++++++++++++++++++++++++++++++++\n",
      ">>>> using CPU\n",
      "Running test snippet to check if MKL-DNN working\n",
      "see https://pytorch.org/docs/stable/backends.html?highlight=mkl\n",
      "** MKL version working - CPU version is sped up. **\n"
     ]
    },
    {
     "name": "stderr",
     "output_type": "stream",
     "text": [
      "C:\\Users\\Shiwei\\AppData\\Roaming\\Python\\Python37\\site-packages\\ipykernel_launcher.py:180: UserWarning: D:\\Analyzed_CellBio\\Stam\\Lac_Ms_live\\210830_263_pos11\\mask_cell_1\\Pos11_DNA_t48.tif is a boolean image: setting True to 255 and False to 0. To silence this warning, please convert the image using img_as_ubyte.\n",
      "C:\\Users\\Shiwei\\AppData\\Roaming\\Python\\Python37\\site-packages\\ipykernel_launcher.py:180: UserWarning: D:\\Analyzed_CellBio\\Stam\\Lac_Ms_live\\210830_263_pos11\\mask_cell_1\\Pos11_Lac_t48.tif is a boolean image: setting True to 255 and False to 0. To silence this warning, please convert the image using img_as_ubyte.\n"
     ]
    },
    {
     "name": "stdout",
     "output_type": "stream",
     "text": [
      "processing 1 image(s)\n",
      "time spent: running network 1.16s; flow+mask computation 0.05\n",
      "estimated masks for 1 image(s) in 1.22 sec\n",
      ">>>> TOTAL TIME 1.22 sec\n",
      "-- normalized foci intensity for ms2 is 0.007234962502872638\n",
      "-- tracking cell at timepoint 49.\n",
      "++++++++++++++++++++++++++++++++++++++++++++++++++++++++++++++++++++++++++++++++++\n",
      ">>>> using CPU"
     ]
    },
    {
     "name": "stderr",
     "output_type": "stream",
     "text": [
      "C:\\Users\\Shiwei\\AppData\\Roaming\\Python\\Python37\\site-packages\\ipykernel_launcher.py:180: UserWarning: D:\\Analyzed_CellBio\\Stam\\Lac_Ms_live\\210830_263_pos11\\mask_cell_1\\Pos11_DNA_t49.tif is a boolean image: setting True to 255 and False to 0. To silence this warning, please convert the image using img_as_ubyte.\n",
      "C:\\Users\\Shiwei\\AppData\\Roaming\\Python\\Python37\\site-packages\\ipykernel_launcher.py:180: UserWarning: D:\\Analyzed_CellBio\\Stam\\Lac_Ms_live\\210830_263_pos11\\mask_cell_1\\Pos11_Lac_t49.tif is a boolean image: setting True to 255 and False to 0. To silence this warning, please convert the image using img_as_ubyte.\n"
     ]
    },
    {
     "name": "stdout",
     "output_type": "stream",
     "text": [
      "\n",
      "Running test snippet to check if MKL-DNN working\n",
      "see https://pytorch.org/docs/stable/backends.html?highlight=mkl\n",
      "** MKL version working - CPU version is sped up. **\n",
      "processing 1 image(s)\n",
      "time spent: running network 1.34s; flow+mask computation 0.07\n",
      "estimated masks for 1 image(s) in 1.42 sec\n",
      ">>>> TOTAL TIME 1.42 sec\n",
      "-- normalized foci intensity for ms2 is 0.04828204836270874\n",
      "-- tracking cell at timepoint 50.\n",
      "++++++++++++++++++++++++++++++++++++++++++++++++++++++++++++++++++++++++++++++++++\n"
     ]
    },
    {
     "name": "stderr",
     "output_type": "stream",
     "text": [
      "C:\\Users\\Shiwei\\AppData\\Roaming\\Python\\Python37\\site-packages\\ipykernel_launcher.py:180: UserWarning: D:\\Analyzed_CellBio\\Stam\\Lac_Ms_live\\210830_263_pos11\\mask_cell_1\\Pos11_DNA_t50.tif is a boolean image: setting True to 255 and False to 0. To silence this warning, please convert the image using img_as_ubyte.\n",
      "C:\\Users\\Shiwei\\AppData\\Roaming\\Python\\Python37\\site-packages\\ipykernel_launcher.py:180: UserWarning: D:\\Analyzed_CellBio\\Stam\\Lac_Ms_live\\210830_263_pos11\\mask_cell_1\\Pos11_Lac_t50.tif is a boolean image: setting True to 255 and False to 0. To silence this warning, please convert the image using img_as_ubyte.\n"
     ]
    },
    {
     "name": "stdout",
     "output_type": "stream",
     "text": [
      ">>>> using CPU\n",
      "Running test snippet to check if MKL-DNN working\n",
      "see https://pytorch.org/docs/stable/backends.html?highlight=mkl\n",
      "** MKL version working - CPU version is sped up. **\n",
      "processing 1 image(s)\n",
      "time spent: running network 1.24s; flow+mask computation 0.07\n",
      "estimated masks for 1 image(s) in 1.32 sec\n",
      ">>>> TOTAL TIME 1.32 sec\n",
      "-- normalized foci intensity for ms2 is 0.1955129333725735\n",
      "-- tracking cell at timepoint 51.\n",
      "++++++++++++++++++++++++++++++++++++++++++++++++++++++++++++++++++++++++++++++++++\n"
     ]
    },
    {
     "name": "stderr",
     "output_type": "stream",
     "text": [
      "C:\\Users\\Shiwei\\AppData\\Roaming\\Python\\Python37\\site-packages\\ipykernel_launcher.py:180: UserWarning: D:\\Analyzed_CellBio\\Stam\\Lac_Ms_live\\210830_263_pos11\\mask_cell_1\\Pos11_DNA_t51.tif is a boolean image: setting True to 255 and False to 0. To silence this warning, please convert the image using img_as_ubyte.\n",
      "C:\\Users\\Shiwei\\AppData\\Roaming\\Python\\Python37\\site-packages\\ipykernel_launcher.py:180: UserWarning: D:\\Analyzed_CellBio\\Stam\\Lac_Ms_live\\210830_263_pos11\\mask_cell_1\\Pos11_Lac_t51.tif is a boolean image: setting True to 255 and False to 0. To silence this warning, please convert the image using img_as_ubyte.\n"
     ]
    },
    {
     "name": "stdout",
     "output_type": "stream",
     "text": [
      ">>>> using CPU\n",
      "Running test snippet to check if MKL-DNN working\n",
      "see https://pytorch.org/docs/stable/backends.html?highlight=mkl\n",
      "** MKL version working - CPU version is sped up. **\n",
      "processing 1 image(s)\n",
      "time spent: running network 1.15s; flow+mask computation 0.07\n",
      "estimated masks for 1 image(s) in 1.24 sec\n",
      ">>>> TOTAL TIME 1.24 sec\n",
      "-- normalized foci intensity for ms2 is 0.08616927604155017\n",
      "-- tracking cell at timepoint 52.\n",
      "++++++++++++++++++++++++++++++++++++++++++++++++++++++++++++++++++++++++++++++++++\n"
     ]
    },
    {
     "name": "stderr",
     "output_type": "stream",
     "text": [
      "C:\\Users\\Shiwei\\AppData\\Roaming\\Python\\Python37\\site-packages\\ipykernel_launcher.py:180: UserWarning: D:\\Analyzed_CellBio\\Stam\\Lac_Ms_live\\210830_263_pos11\\mask_cell_1\\Pos11_DNA_t52.tif is a boolean image: setting True to 255 and False to 0. To silence this warning, please convert the image using img_as_ubyte.\n",
      "C:\\Users\\Shiwei\\AppData\\Roaming\\Python\\Python37\\site-packages\\ipykernel_launcher.py:180: UserWarning: D:\\Analyzed_CellBio\\Stam\\Lac_Ms_live\\210830_263_pos11\\mask_cell_1\\Pos11_Lac_t52.tif is a boolean image: setting True to 255 and False to 0. To silence this warning, please convert the image using img_as_ubyte.\n"
     ]
    },
    {
     "name": "stdout",
     "output_type": "stream",
     "text": [
      ">>>> using CPU\n",
      "Running test snippet to check if MKL-DNN working\n",
      "see https://pytorch.org/docs/stable/backends.html?highlight=mkl\n",
      "** MKL version working - CPU version is sped up. **\n",
      "processing 1 image(s)\n",
      "time spent: running network 1.26s; flow+mask computation 0.08\n",
      "estimated masks for 1 image(s) in 1.35 sec\n",
      ">>>> TOTAL TIME 1.35 sec\n",
      "-- normalized foci intensity for ms2 is 0.09684348221634763\n",
      "-- tracking cell at timepoint 53.\n",
      "++++++++++++++++++++++++++++++++++++++++++++++++++++++++++++++++++++++++++++++++++\n"
     ]
    },
    {
     "name": "stderr",
     "output_type": "stream",
     "text": [
      "C:\\Users\\Shiwei\\AppData\\Roaming\\Python\\Python37\\site-packages\\ipykernel_launcher.py:180: UserWarning: D:\\Analyzed_CellBio\\Stam\\Lac_Ms_live\\210830_263_pos11\\mask_cell_1\\Pos11_DNA_t53.tif is a boolean image: setting True to 255 and False to 0. To silence this warning, please convert the image using img_as_ubyte.\n",
      "C:\\Users\\Shiwei\\AppData\\Roaming\\Python\\Python37\\site-packages\\ipykernel_launcher.py:180: UserWarning: D:\\Analyzed_CellBio\\Stam\\Lac_Ms_live\\210830_263_pos11\\mask_cell_1\\Pos11_Lac_t53.tif is a boolean image: setting True to 255 and False to 0. To silence this warning, please convert the image using img_as_ubyte.\n"
     ]
    },
    {
     "name": "stdout",
     "output_type": "stream",
     "text": [
      ">>>> using CPU\n",
      "Running test snippet to check if MKL-DNN working\n",
      "see https://pytorch.org/docs/stable/backends.html?highlight=mkl\n",
      "** MKL version working - CPU version is sped up. **\n",
      "processing 1 image(s)\n",
      "time spent: running network 1.15s; flow+mask computation 0.07\n",
      "estimated masks for 1 image(s) in 1.23 sec\n",
      ">>>> TOTAL TIME 1.23 sec\n",
      "-- normalized foci intensity for ms2 is 0.16615022596724688\n",
      "-- tracking cell at timepoint 54.\n",
      "++++++++++++++++++++++++++++++++++++++++++++++++++++++++++++++++++++++++++++++++++\n"
     ]
    },
    {
     "name": "stderr",
     "output_type": "stream",
     "text": [
      "C:\\Users\\Shiwei\\AppData\\Roaming\\Python\\Python37\\site-packages\\ipykernel_launcher.py:180: UserWarning: D:\\Analyzed_CellBio\\Stam\\Lac_Ms_live\\210830_263_pos11\\mask_cell_1\\Pos11_DNA_t54.tif is a boolean image: setting True to 255 and False to 0. To silence this warning, please convert the image using img_as_ubyte.\n",
      "C:\\Users\\Shiwei\\AppData\\Roaming\\Python\\Python37\\site-packages\\ipykernel_launcher.py:180: UserWarning: D:\\Analyzed_CellBio\\Stam\\Lac_Ms_live\\210830_263_pos11\\mask_cell_1\\Pos11_Lac_t54.tif is a boolean image: setting True to 255 and False to 0. To silence this warning, please convert the image using img_as_ubyte.\n"
     ]
    },
    {
     "name": "stdout",
     "output_type": "stream",
     "text": [
      ">>>> using CPU\n",
      "Running test snippet to check if MKL-DNN working\n",
      "see https://pytorch.org/docs/stable/backends.html?highlight=mkl\n",
      "** MKL version working - CPU version is sped up. **\n",
      "processing 1 image(s)\n",
      "time spent: running network 1.22s; flow+mask computation 0.07\n",
      "estimated masks for 1 image(s) in 1.30 sec\n",
      ">>>> TOTAL TIME 1.30 sec\n",
      "-- normalized foci intensity for ms2 is 0.20594801335557947\n",
      "-- tracking cell at timepoint 55.\n",
      "++++++++++++++++++++++++++++++++++++++++++++++++++++++++++++++++++++++++++++++++++\n"
     ]
    },
    {
     "name": "stderr",
     "output_type": "stream",
     "text": [
      "C:\\Users\\Shiwei\\AppData\\Roaming\\Python\\Python37\\site-packages\\ipykernel_launcher.py:180: UserWarning: D:\\Analyzed_CellBio\\Stam\\Lac_Ms_live\\210830_263_pos11\\mask_cell_1\\Pos11_DNA_t55.tif is a boolean image: setting True to 255 and False to 0. To silence this warning, please convert the image using img_as_ubyte.\n",
      "C:\\Users\\Shiwei\\AppData\\Roaming\\Python\\Python37\\site-packages\\ipykernel_launcher.py:180: UserWarning: D:\\Analyzed_CellBio\\Stam\\Lac_Ms_live\\210830_263_pos11\\mask_cell_1\\Pos11_Lac_t55.tif is a boolean image: setting True to 255 and False to 0. To silence this warning, please convert the image using img_as_ubyte.\n"
     ]
    },
    {
     "name": "stdout",
     "output_type": "stream",
     "text": [
      ">>>> using CPU\n",
      "Running test snippet to check if MKL-DNN working\n",
      "see https://pytorch.org/docs/stable/backends.html?highlight=mkl\n",
      "** MKL version working - CPU version is sped up. **\n",
      "processing 1 image(s)\n",
      "time spent: running network 1.40s; flow+mask computation 0.07\n",
      "estimated masks for 1 image(s) in 1.47 sec\n",
      ">>>> TOTAL TIME 1.48 sec\n",
      "-- normalized foci intensity for ms2 is -0.019025991108951465\n",
      "-- tracking cell at timepoint 56.\n",
      "++++++++++++++++++++++++++++++++++++++++++++++++++++++++++++++++++++++++++++++++++\n"
     ]
    },
    {
     "name": "stderr",
     "output_type": "stream",
     "text": [
      "C:\\Users\\Shiwei\\AppData\\Roaming\\Python\\Python37\\site-packages\\ipykernel_launcher.py:180: UserWarning: D:\\Analyzed_CellBio\\Stam\\Lac_Ms_live\\210830_263_pos11\\mask_cell_1\\Pos11_DNA_t56.tif is a boolean image: setting True to 255 and False to 0. To silence this warning, please convert the image using img_as_ubyte.\n",
      "C:\\Users\\Shiwei\\AppData\\Roaming\\Python\\Python37\\site-packages\\ipykernel_launcher.py:180: UserWarning: D:\\Analyzed_CellBio\\Stam\\Lac_Ms_live\\210830_263_pos11\\mask_cell_1\\Pos11_Lac_t56.tif is a boolean image: setting True to 255 and False to 0. To silence this warning, please convert the image using img_as_ubyte.\n"
     ]
    },
    {
     "name": "stdout",
     "output_type": "stream",
     "text": [
      ">>>> using CPU\n",
      "Running test snippet to check if MKL-DNN working\n",
      "see https://pytorch.org/docs/stable/backends.html?highlight=mkl\n",
      "** MKL version working - CPU version is sped up. **\n",
      "processing 1 image(s)\n",
      "time spent: running network 1.27s; flow+mask computation 0.07\n",
      "estimated masks for 1 image(s) in 1.34 sec\n",
      ">>>> TOTAL TIME 1.34 sec\n",
      "-- normalized foci intensity for ms2 is 0.22234468842833474\n",
      "-- tracking cell at timepoint 57.\n",
      "++++++++++++++++++++++++++++++++++++++++++++++++++++++++++++++++++++++++++++++++++\n",
      ">>>> using CPU\n",
      "Running test snippet to check if MKL-DNN working\n",
      "see https://pytorch.org/docs/stable/backends.html?highlight=mkl\n",
      "** MKL version working - CPU version is sped up. **\n"
     ]
    },
    {
     "name": "stderr",
     "output_type": "stream",
     "text": [
      "C:\\Users\\Shiwei\\AppData\\Roaming\\Python\\Python37\\site-packages\\ipykernel_launcher.py:180: UserWarning: D:\\Analyzed_CellBio\\Stam\\Lac_Ms_live\\210830_263_pos11\\mask_cell_1\\Pos11_DNA_t57.tif is a boolean image: setting True to 255 and False to 0. To silence this warning, please convert the image using img_as_ubyte.\n",
      "C:\\Users\\Shiwei\\AppData\\Roaming\\Python\\Python37\\site-packages\\ipykernel_launcher.py:180: UserWarning: D:\\Analyzed_CellBio\\Stam\\Lac_Ms_live\\210830_263_pos11\\mask_cell_1\\Pos11_Lac_t57.tif is a boolean image: setting True to 255 and False to 0. To silence this warning, please convert the image using img_as_ubyte.\n"
     ]
    },
    {
     "name": "stdout",
     "output_type": "stream",
     "text": [
      "processing 1 image(s)\n",
      "time spent: running network 1.28s; flow+mask computation 0.06\n",
      "estimated masks for 1 image(s) in 1.36 sec\n",
      ">>>> TOTAL TIME 1.36 sec\n",
      "-- normalized foci intensity for ms2 is 0.28796086515090896\n",
      "-- tracking cell at timepoint 58.\n",
      "++++++++++++++++++++++++++++++++++++++++++++++++++++++++++++++++++++++++++++++++++\n",
      ">>>> using CPU\n",
      "Running test snippet to check if MKL-DNN working\n",
      "see https://pytorch.org/docs/stable/backends.html?highlight=mkl\n",
      "** MKL version working - CPU version is sped up. **\n"
     ]
    },
    {
     "name": "stderr",
     "output_type": "stream",
     "text": [
      "C:\\Users\\Shiwei\\AppData\\Roaming\\Python\\Python37\\site-packages\\ipykernel_launcher.py:180: UserWarning: D:\\Analyzed_CellBio\\Stam\\Lac_Ms_live\\210830_263_pos11\\mask_cell_1\\Pos11_DNA_t58.tif is a boolean image: setting True to 255 and False to 0. To silence this warning, please convert the image using img_as_ubyte.\n",
      "C:\\Users\\Shiwei\\AppData\\Roaming\\Python\\Python37\\site-packages\\ipykernel_launcher.py:180: UserWarning: D:\\Analyzed_CellBio\\Stam\\Lac_Ms_live\\210830_263_pos11\\mask_cell_1\\Pos11_Lac_t58.tif is a boolean image: setting True to 255 and False to 0. To silence this warning, please convert the image using img_as_ubyte.\n"
     ]
    },
    {
     "name": "stdout",
     "output_type": "stream",
     "text": [
      "processing 1 image(s)\n",
      "time spent: running network 1.26s; flow+mask computation 0.07\n",
      "estimated masks for 1 image(s) in 1.34 sec\n",
      ">>>> TOTAL TIME 1.34 sec\n",
      "-- normalized foci intensity for ms2 is 0.21194852463624841\n",
      "-- tracking cell at timepoint 59.\n",
      "++++++++++++++++++++++++++++++++++++++++++++++++++++++++++++++++++++++++++++++++++\n"
     ]
    },
    {
     "name": "stderr",
     "output_type": "stream",
     "text": [
      "C:\\Users\\Shiwei\\AppData\\Roaming\\Python\\Python37\\site-packages\\ipykernel_launcher.py:180: UserWarning: D:\\Analyzed_CellBio\\Stam\\Lac_Ms_live\\210830_263_pos11\\mask_cell_1\\Pos11_DNA_t59.tif is a boolean image: setting True to 255 and False to 0. To silence this warning, please convert the image using img_as_ubyte.\n",
      "C:\\Users\\Shiwei\\AppData\\Roaming\\Python\\Python37\\site-packages\\ipykernel_launcher.py:180: UserWarning: D:\\Analyzed_CellBio\\Stam\\Lac_Ms_live\\210830_263_pos11\\mask_cell_1\\Pos11_Lac_t59.tif is a boolean image: setting True to 255 and False to 0. To silence this warning, please convert the image using img_as_ubyte.\n"
     ]
    },
    {
     "name": "stdout",
     "output_type": "stream",
     "text": [
      ">>>> using CPU\n",
      "Running test snippet to check if MKL-DNN working\n",
      "see https://pytorch.org/docs/stable/backends.html?highlight=mkl\n",
      "** MKL version working - CPU version is sped up. **\n",
      "processing 1 image(s)\n",
      "time spent: running network 1.31s; flow+mask computation 0.07\n",
      "estimated masks for 1 image(s) in 1.39 sec\n",
      ">>>> TOTAL TIME 1.39 sec\n",
      "-- normalized foci intensity for ms2 is 0.47175586306549105\n",
      "-- tracking cell at timepoint 60.\n",
      "++++++++++++++++++++++++++++++++++++++++++++++++++++++++++++++++++++++++++++++++++\n"
     ]
    },
    {
     "name": "stderr",
     "output_type": "stream",
     "text": [
      "C:\\Users\\Shiwei\\AppData\\Roaming\\Python\\Python37\\site-packages\\ipykernel_launcher.py:180: UserWarning: D:\\Analyzed_CellBio\\Stam\\Lac_Ms_live\\210830_263_pos11\\mask_cell_1\\Pos11_DNA_t60.tif is a boolean image: setting True to 255 and False to 0. To silence this warning, please convert the image using img_as_ubyte.\n",
      "C:\\Users\\Shiwei\\AppData\\Roaming\\Python\\Python37\\site-packages\\ipykernel_launcher.py:180: UserWarning: D:\\Analyzed_CellBio\\Stam\\Lac_Ms_live\\210830_263_pos11\\mask_cell_1\\Pos11_Lac_t60.tif is a boolean image: setting True to 255 and False to 0. To silence this warning, please convert the image using img_as_ubyte.\n"
     ]
    },
    {
     "name": "stdout",
     "output_type": "stream",
     "text": [
      ">>>> using CPU\n",
      "Running test snippet to check if MKL-DNN working\n",
      "see https://pytorch.org/docs/stable/backends.html?highlight=mkl\n",
      "** MKL version working - CPU version is sped up. **\n",
      "processing 1 image(s)\n",
      "time spent: running network 1.45s; flow+mask computation 0.07\n",
      "estimated masks for 1 image(s) in 1.53 sec\n",
      ">>>> TOTAL TIME 1.53 sec\n",
      "-- normalized foci intensity for ms2 is 0.15818887999600917\n",
      "-- tracking cell at timepoint 61.\n",
      "++++++++++++++++++++++++++++++++++++++++++++++++++++++++++++++++++++++++++++++++++\n",
      ">>>> using CPU\n",
      "Running test snippet to check if MKL-DNN working\n",
      "see https://pytorch.org/docs/stable/backends.html?highlight=mkl\n",
      "** MKL version working - CPU version is sped up. **\n"
     ]
    },
    {
     "name": "stderr",
     "output_type": "stream",
     "text": [
      "C:\\Users\\Shiwei\\AppData\\Roaming\\Python\\Python37\\site-packages\\ipykernel_launcher.py:180: UserWarning: D:\\Analyzed_CellBio\\Stam\\Lac_Ms_live\\210830_263_pos11\\mask_cell_1\\Pos11_DNA_t61.tif is a boolean image: setting True to 255 and False to 0. To silence this warning, please convert the image using img_as_ubyte.\n",
      "C:\\Users\\Shiwei\\AppData\\Roaming\\Python\\Python37\\site-packages\\ipykernel_launcher.py:180: UserWarning: D:\\Analyzed_CellBio\\Stam\\Lac_Ms_live\\210830_263_pos11\\mask_cell_1\\Pos11_Lac_t61.tif is a boolean image: setting True to 255 and False to 0. To silence this warning, please convert the image using img_as_ubyte.\n"
     ]
    },
    {
     "name": "stdout",
     "output_type": "stream",
     "text": [
      "processing 1 image(s)\n",
      "time spent: running network 1.30s; flow+mask computation 0.05\n",
      "estimated masks for 1 image(s) in 1.36 sec\n",
      ">>>> TOTAL TIME 1.36 sec\n"
     ]
    },
    {
     "name": "stderr",
     "output_type": "stream",
     "text": [
      "C:\\Users\\Shiwei\\AppData\\Roaming\\Python\\Python37\\site-packages\\ipykernel_launcher.py:38: UserWarning: Only one label was provided to `remove_small_objects`. Did you mean to use a boolean array?\n"
     ]
    },
    {
     "name": "stdout",
     "output_type": "stream",
     "text": [
      "-- tracking cell at timepoint 62.\n",
      "++++++++++++++++++++++++++++++++++++++++++++++++++++++++++++++++++++++++++++++++++\n",
      ">>>> using CPU\n",
      "Running test snippet to check if MKL-DNN working\n",
      "see https://pytorch.org/docs/stable/backends.html?highlight=mkl\n",
      "** MKL version working - CPU version is sped up. **\n",
      "processing 1 image(s)\n",
      "time spent: running network 1.29s; flow+mask computation 0.05\n",
      "estimated masks for 1 image(s) in 1.35 sec\n",
      ">>>> TOTAL TIME 1.35 sec\n",
      "-- tracking cell at timepoint 63.\n",
      "++++++++++++++++++++++++++++++++++++++++++++++++++++++++++++++++++++++++++++++++++\n",
      ">>>> using CPU\n",
      "Running test snippet to check if MKL-DNN working\n",
      "see https://pytorch.org/docs/stable/backends.html?highlight=mkl\n",
      "** MKL version working - CPU version is sped up. **\n",
      "processing 1 image(s)\n",
      "time spent: running network 1.32s; flow+mask computation 0.07\n",
      "estimated masks for 1 image(s) in 1.40 sec\n",
      ">>>> TOTAL TIME 1.40 sec\n",
      "-- tracking cell at timepoint 64.\n",
      "++++++++++++++++++++++++++++++++++++++++++++++++++++++++++++++++++++++++++++++++++\n",
      ">>>> using CPU\n",
      "Running test snippet to check if MKL-DNN working\n",
      "see https://pytorch.org/docs/stable/backends.html?highlight=mkl\n",
      "** MKL version working - CPU version is sped up. **\n",
      "processing 1 image(s)\n",
      "time spent: running network 1.28s; flow+mask computation 0.07\n",
      "estimated masks for 1 image(s) in 1.36 sec\n",
      ">>>> TOTAL TIME 1.36 sec\n",
      "-- tracking cell at timepoint 65.\n",
      "++++++++++++++++++++++++++++++++++++++++++++++++++++++++++++++++++++++++++++++++++\n",
      ">>>> using CPU\n",
      "Running test snippet to check if MKL-DNN working\n",
      "see https://pytorch.org/docs/stable/backends.html?highlight=mkl\n",
      "** MKL version working - CPU version is sped up. **\n",
      "processing 1 image(s)\n",
      "time spent: running network 1.31s; flow+mask computation 0.08\n",
      "estimated masks for 1 image(s) in 1.40 sec\n",
      ">>>> TOTAL TIME 1.40 sec\n",
      "-- normalized foci intensity for ms2 is 0.6667109283847712\n",
      "-- tracking cell at timepoint 66.\n",
      "++++++++++++++++++++++++++++++++++++++++++++++++++++++++++++++++++++++++++++++++++\n",
      ">>>> using CPU\n",
      "Running test snippet to check if MKL-DNN working\n",
      "see https://pytorch.org/docs/stable/backends.html?highlight=mkl\n",
      "** MKL version working - CPU version is sped up. **\n"
     ]
    },
    {
     "name": "stderr",
     "output_type": "stream",
     "text": [
      "C:\\Users\\Shiwei\\AppData\\Roaming\\Python\\Python37\\site-packages\\ipykernel_launcher.py:180: UserWarning: D:\\Analyzed_CellBio\\Stam\\Lac_Ms_live\\210830_263_pos11\\mask_cell_1\\Pos11_DNA_t66.tif is a boolean image: setting True to 255 and False to 0. To silence this warning, please convert the image using img_as_ubyte.\n",
      "C:\\Users\\Shiwei\\AppData\\Roaming\\Python\\Python37\\site-packages\\ipykernel_launcher.py:180: UserWarning: D:\\Analyzed_CellBio\\Stam\\Lac_Ms_live\\210830_263_pos11\\mask_cell_1\\Pos11_Lac_t66.tif is a boolean image: setting True to 255 and False to 0. To silence this warning, please convert the image using img_as_ubyte.\n"
     ]
    },
    {
     "name": "stdout",
     "output_type": "stream",
     "text": [
      "processing 1 image(s)\n",
      "time spent: running network 1.42s; flow+mask computation 0.09\n",
      "estimated masks for 1 image(s) in 1.52 sec\n",
      ">>>> TOTAL TIME 1.52 sec\n",
      "-- normalized foci intensity for ms2 is 0.9870971248001245\n",
      "-- tracking cell at timepoint 67.\n",
      "++++++++++++++++++++++++++++++++++++++++++++++++++++++++++++++++++++++++++++++++++\n",
      ">>>> using CPU\n",
      "Running test snippet to check if MKL-DNN working\n",
      "see https://pytorch.org/docs/stable/backends.html?highlight=mkl\n",
      "** MKL version working - CPU version is sped up. **\n"
     ]
    },
    {
     "name": "stderr",
     "output_type": "stream",
     "text": [
      "C:\\Users\\Shiwei\\AppData\\Roaming\\Python\\Python37\\site-packages\\ipykernel_launcher.py:180: UserWarning: D:\\Analyzed_CellBio\\Stam\\Lac_Ms_live\\210830_263_pos11\\mask_cell_1\\Pos11_DNA_t67.tif is a boolean image: setting True to 255 and False to 0. To silence this warning, please convert the image using img_as_ubyte.\n",
      "C:\\Users\\Shiwei\\AppData\\Roaming\\Python\\Python37\\site-packages\\ipykernel_launcher.py:180: UserWarning: D:\\Analyzed_CellBio\\Stam\\Lac_Ms_live\\210830_263_pos11\\mask_cell_1\\Pos11_Lac_t67.tif is a boolean image: setting True to 255 and False to 0. To silence this warning, please convert the image using img_as_ubyte.\n"
     ]
    },
    {
     "name": "stdout",
     "output_type": "stream",
     "text": [
      "processing 1 image(s)\n",
      "time spent: running network 1.41s; flow+mask computation 0.08\n",
      "estimated masks for 1 image(s) in 1.49 sec\n",
      ">>>> TOTAL TIME 1.49 sec\n",
      "-- normalized foci intensity for ms2 is 1.0159994639431684\n",
      "-- tracking cell at timepoint 68.\n",
      "++++++++++++++++++++++++++++++++++++++++++++++++++++++++++++++++++++++++++++++++++\n"
     ]
    },
    {
     "name": "stderr",
     "output_type": "stream",
     "text": [
      "C:\\Users\\Shiwei\\AppData\\Roaming\\Python\\Python37\\site-packages\\ipykernel_launcher.py:180: UserWarning: D:\\Analyzed_CellBio\\Stam\\Lac_Ms_live\\210830_263_pos11\\mask_cell_1\\Pos11_DNA_t68.tif is a boolean image: setting True to 255 and False to 0. To silence this warning, please convert the image using img_as_ubyte.\n",
      "C:\\Users\\Shiwei\\AppData\\Roaming\\Python\\Python37\\site-packages\\ipykernel_launcher.py:180: UserWarning: D:\\Analyzed_CellBio\\Stam\\Lac_Ms_live\\210830_263_pos11\\mask_cell_1\\Pos11_Lac_t68.tif is a boolean image: setting True to 255 and False to 0. To silence this warning, please convert the image using img_as_ubyte.\n"
     ]
    },
    {
     "name": "stdout",
     "output_type": "stream",
     "text": [
      ">>>> using CPU\n",
      "Running test snippet to check if MKL-DNN working\n",
      "see https://pytorch.org/docs/stable/backends.html?highlight=mkl\n",
      "** MKL version working - CPU version is sped up. **\n",
      "processing 1 image(s)\n",
      "time spent: running network 1.31s; flow+mask computation 0.07\n",
      "estimated masks for 1 image(s) in 1.39 sec\n",
      ">>>> TOTAL TIME 1.39 sec\n",
      "-- normalized foci intensity for ms2 is 1.1834381271806502\n",
      "-- tracking cell at timepoint 69.\n",
      "++++++++++++++++++++++++++++++++++++++++++++++++++++++++++++++++++++++++++++++++++\n",
      ">>>> using CPU\n",
      "Running test snippet to check if MKL-DNN working\n",
      "see https://pytorch.org/docs/stable/backends.html?highlight=mkl\n",
      "** MKL version working - CPU version is sped up. **\n"
     ]
    },
    {
     "name": "stderr",
     "output_type": "stream",
     "text": [
      "C:\\Users\\Shiwei\\AppData\\Roaming\\Python\\Python37\\site-packages\\ipykernel_launcher.py:180: UserWarning: D:\\Analyzed_CellBio\\Stam\\Lac_Ms_live\\210830_263_pos11\\mask_cell_1\\Pos11_DNA_t69.tif is a boolean image: setting True to 255 and False to 0. To silence this warning, please convert the image using img_as_ubyte.\n",
      "C:\\Users\\Shiwei\\AppData\\Roaming\\Python\\Python37\\site-packages\\ipykernel_launcher.py:180: UserWarning: D:\\Analyzed_CellBio\\Stam\\Lac_Ms_live\\210830_263_pos11\\mask_cell_1\\Pos11_Lac_t69.tif is a boolean image: setting True to 255 and False to 0. To silence this warning, please convert the image using img_as_ubyte.\n"
     ]
    },
    {
     "name": "stdout",
     "output_type": "stream",
     "text": [
      "processing 1 image(s)\n",
      "time spent: running network 1.39s; flow+mask computation 0.07\n",
      "estimated masks for 1 image(s) in 1.47 sec\n",
      ">>>> TOTAL TIME 1.47 sec\n",
      "-- normalized foci intensity for ms2 is 1.2202727659641412\n",
      "-- tracking cell at timepoint 70.\n",
      "++++++++++++++++++++++++++++++++++++++++++++++++++++++++++++++++++++++++++++++++++\n",
      ">>>> using CPU\n",
      "Running test snippet to check if MKL-DNN working\n",
      "see https://pytorch.org/docs/stable/backends.html?highlight=mkl\n",
      "** MKL version working - CPU version is sped up. **\n"
     ]
    },
    {
     "name": "stderr",
     "output_type": "stream",
     "text": [
      "C:\\Users\\Shiwei\\AppData\\Roaming\\Python\\Python37\\site-packages\\ipykernel_launcher.py:180: UserWarning: D:\\Analyzed_CellBio\\Stam\\Lac_Ms_live\\210830_263_pos11\\mask_cell_1\\Pos11_DNA_t70.tif is a boolean image: setting True to 255 and False to 0. To silence this warning, please convert the image using img_as_ubyte.\n",
      "C:\\Users\\Shiwei\\AppData\\Roaming\\Python\\Python37\\site-packages\\ipykernel_launcher.py:180: UserWarning: D:\\Analyzed_CellBio\\Stam\\Lac_Ms_live\\210830_263_pos11\\mask_cell_1\\Pos11_Lac_t70.tif is a boolean image: setting True to 255 and False to 0. To silence this warning, please convert the image using img_as_ubyte.\n"
     ]
    },
    {
     "name": "stdout",
     "output_type": "stream",
     "text": [
      "processing 1 image(s)\n",
      "time spent: running network 1.35s; flow+mask computation 0.08\n",
      "estimated masks for 1 image(s) in 1.44 sec\n",
      ">>>> TOTAL TIME 1.44 sec\n",
      "-- normalized foci intensity for ms2 is 1.6153277880881267\n",
      "-- tracking cell at timepoint 71.\n",
      "++++++++++++++++++++++++++++++++++++++++++++++++++++++++++++++++++++++++++++++++++\n",
      ">>>> using CPU\n",
      "Running test snippet to check if MKL-DNN working\n",
      "see https://pytorch.org/docs/stable/backends.html?highlight=mkl\n",
      "** MKL version working - CPU version is sped up. **\n"
     ]
    },
    {
     "name": "stderr",
     "output_type": "stream",
     "text": [
      "C:\\Users\\Shiwei\\AppData\\Roaming\\Python\\Python37\\site-packages\\ipykernel_launcher.py:180: UserWarning: D:\\Analyzed_CellBio\\Stam\\Lac_Ms_live\\210830_263_pos11\\mask_cell_1\\Pos11_DNA_t71.tif is a boolean image: setting True to 255 and False to 0. To silence this warning, please convert the image using img_as_ubyte.\n",
      "C:\\Users\\Shiwei\\AppData\\Roaming\\Python\\Python37\\site-packages\\ipykernel_launcher.py:180: UserWarning: D:\\Analyzed_CellBio\\Stam\\Lac_Ms_live\\210830_263_pos11\\mask_cell_1\\Pos11_Lac_t71.tif is a boolean image: setting True to 255 and False to 0. To silence this warning, please convert the image using img_as_ubyte.\n"
     ]
    },
    {
     "name": "stdout",
     "output_type": "stream",
     "text": [
      "processing 1 image(s)\n",
      "time spent: running network 1.40s; flow+mask computation 0.08\n",
      "estimated masks for 1 image(s) in 1.49 sec\n",
      ">>>> TOTAL TIME 1.50 sec\n",
      "-- normalized foci intensity for ms2 is 1.0860279449230101\n",
      "-- tracking cell at timepoint 72.\n",
      "++++++++++++++++++++++++++++++++++++++++++++++++++++++++++++++++++++++++++++++++++\n"
     ]
    },
    {
     "name": "stderr",
     "output_type": "stream",
     "text": [
      "C:\\Users\\Shiwei\\AppData\\Roaming\\Python\\Python37\\site-packages\\ipykernel_launcher.py:180: UserWarning: D:\\Analyzed_CellBio\\Stam\\Lac_Ms_live\\210830_263_pos11\\mask_cell_1\\Pos11_DNA_t72.tif is a boolean image: setting True to 255 and False to 0. To silence this warning, please convert the image using img_as_ubyte.\n",
      "C:\\Users\\Shiwei\\AppData\\Roaming\\Python\\Python37\\site-packages\\ipykernel_launcher.py:180: UserWarning: D:\\Analyzed_CellBio\\Stam\\Lac_Ms_live\\210830_263_pos11\\mask_cell_1\\Pos11_Lac_t72.tif is a boolean image: setting True to 255 and False to 0. To silence this warning, please convert the image using img_as_ubyte.\n"
     ]
    },
    {
     "name": "stdout",
     "output_type": "stream",
     "text": [
      ">>>> using CPU\n",
      "Running test snippet to check if MKL-DNN working\n",
      "see https://pytorch.org/docs/stable/backends.html?highlight=mkl\n",
      "** MKL version working - CPU version is sped up. **\n",
      "processing 1 image(s)\n",
      "time spent: running network 1.50s; flow+mask computation 0.07\n",
      "estimated masks for 1 image(s) in 1.59 sec\n",
      ">>>> TOTAL TIME 1.59 sec\n",
      "-- normalized foci intensity for ms2 is 1.6313965863195103\n",
      "-- tracking cell at timepoint 73.\n",
      "++++++++++++++++++++++++++++++++++++++++++++++++++++++++++++++++++++++++++++++++++\n"
     ]
    },
    {
     "name": "stderr",
     "output_type": "stream",
     "text": [
      "C:\\Users\\Shiwei\\AppData\\Roaming\\Python\\Python37\\site-packages\\ipykernel_launcher.py:180: UserWarning: D:\\Analyzed_CellBio\\Stam\\Lac_Ms_live\\210830_263_pos11\\mask_cell_1\\Pos11_DNA_t73.tif is a boolean image: setting True to 255 and False to 0. To silence this warning, please convert the image using img_as_ubyte.\n",
      "C:\\Users\\Shiwei\\AppData\\Roaming\\Python\\Python37\\site-packages\\ipykernel_launcher.py:180: UserWarning: D:\\Analyzed_CellBio\\Stam\\Lac_Ms_live\\210830_263_pos11\\mask_cell_1\\Pos11_Lac_t73.tif is a boolean image: setting True to 255 and False to 0. To silence this warning, please convert the image using img_as_ubyte.\n"
     ]
    },
    {
     "name": "stdout",
     "output_type": "stream",
     "text": [
      ">>>> using CPU\n",
      "Running test snippet to check if MKL-DNN working\n",
      "see https://pytorch.org/docs/stable/backends.html?highlight=mkl\n",
      "** MKL version working - CPU version is sped up. **\n",
      "processing 1 image(s)\n",
      "time spent: running network 1.40s; flow+mask computation 0.08\n",
      "estimated masks for 1 image(s) in 1.50 sec\n",
      ">>>> TOTAL TIME 1.50 sec\n",
      "-- normalized foci intensity for ms2 is 1.728581012437748\n",
      "-- tracking cell at timepoint 74.\n",
      "++++++++++++++++++++++++++++++++++++++++++++++++++++++++++++++++++++++++++++++++++\n",
      ">>>> using CPU"
     ]
    },
    {
     "name": "stderr",
     "output_type": "stream",
     "text": [
      "C:\\Users\\Shiwei\\AppData\\Roaming\\Python\\Python37\\site-packages\\ipykernel_launcher.py:180: UserWarning: D:\\Analyzed_CellBio\\Stam\\Lac_Ms_live\\210830_263_pos11\\mask_cell_1\\Pos11_DNA_t74.tif is a boolean image: setting True to 255 and False to 0. To silence this warning, please convert the image using img_as_ubyte.\n",
      "C:\\Users\\Shiwei\\AppData\\Roaming\\Python\\Python37\\site-packages\\ipykernel_launcher.py:180: UserWarning: D:\\Analyzed_CellBio\\Stam\\Lac_Ms_live\\210830_263_pos11\\mask_cell_1\\Pos11_Lac_t74.tif is a boolean image: setting True to 255 and False to 0. To silence this warning, please convert the image using img_as_ubyte.\n"
     ]
    },
    {
     "name": "stdout",
     "output_type": "stream",
     "text": [
      "\n",
      "Running test snippet to check if MKL-DNN working\n",
      "see https://pytorch.org/docs/stable/backends.html?highlight=mkl\n",
      "** MKL version working - CPU version is sped up. **\n",
      "processing 1 image(s)\n",
      "time spent: running network 1.34s; flow+mask computation 0.07\n",
      "estimated masks for 1 image(s) in 1.43 sec\n",
      ">>>> TOTAL TIME 1.43 sec\n",
      "-- normalized foci intensity for ms2 is 1.1800445051624902\n",
      "-- tracking cell at timepoint 75.\n",
      "++++++++++++++++++++++++++++++++++++++++++++++++++++++++++++++++++++++++++++++++++\n",
      ">>>> using CPU"
     ]
    },
    {
     "name": "stderr",
     "output_type": "stream",
     "text": [
      "C:\\Users\\Shiwei\\AppData\\Roaming\\Python\\Python37\\site-packages\\ipykernel_launcher.py:180: UserWarning: D:\\Analyzed_CellBio\\Stam\\Lac_Ms_live\\210830_263_pos11\\mask_cell_1\\Pos11_DNA_t75.tif is a boolean image: setting True to 255 and False to 0. To silence this warning, please convert the image using img_as_ubyte.\n",
      "C:\\Users\\Shiwei\\AppData\\Roaming\\Python\\Python37\\site-packages\\ipykernel_launcher.py:180: UserWarning: D:\\Analyzed_CellBio\\Stam\\Lac_Ms_live\\210830_263_pos11\\mask_cell_1\\Pos11_Lac_t75.tif is a boolean image: setting True to 255 and False to 0. To silence this warning, please convert the image using img_as_ubyte.\n"
     ]
    },
    {
     "name": "stdout",
     "output_type": "stream",
     "text": [
      "\n",
      "Running test snippet to check if MKL-DNN working\n",
      "see https://pytorch.org/docs/stable/backends.html?highlight=mkl\n",
      "** MKL version working - CPU version is sped up. **\n",
      "processing 1 image(s)\n",
      "time spent: running network 1.39s; flow+mask computation 0.06\n",
      "estimated masks for 1 image(s) in 1.47 sec\n",
      ">>>> TOTAL TIME 1.47 sec\n",
      "-- normalized foci intensity for ms2 is 1.7014259690497833\n",
      "-- tracking cell at timepoint 76.\n",
      "++++++++++++++++++++++++++++++++++++++++++++++++++++++++++++++++++++++++++++++++++\n",
      ">>>> using CPU\n",
      "Running test snippet to check if MKL-DNN working\n",
      "see https://pytorch.org/docs/stable/backends.html?highlight=mkl\n",
      "** MKL version working - CPU version is sped up. **\n"
     ]
    },
    {
     "name": "stderr",
     "output_type": "stream",
     "text": [
      "C:\\Users\\Shiwei\\AppData\\Roaming\\Python\\Python37\\site-packages\\ipykernel_launcher.py:180: UserWarning: D:\\Analyzed_CellBio\\Stam\\Lac_Ms_live\\210830_263_pos11\\mask_cell_1\\Pos11_DNA_t76.tif is a boolean image: setting True to 255 and False to 0. To silence this warning, please convert the image using img_as_ubyte.\n",
      "C:\\Users\\Shiwei\\AppData\\Roaming\\Python\\Python37\\site-packages\\ipykernel_launcher.py:180: UserWarning: D:\\Analyzed_CellBio\\Stam\\Lac_Ms_live\\210830_263_pos11\\mask_cell_1\\Pos11_Lac_t76.tif is a boolean image: setting True to 255 and False to 0. To silence this warning, please convert the image using img_as_ubyte.\n"
     ]
    },
    {
     "name": "stdout",
     "output_type": "stream",
     "text": [
      "processing 1 image(s)\n",
      "time spent: running network 1.36s; flow+mask computation 0.04\n",
      "estimated masks for 1 image(s) in 1.43 sec\n",
      ">>>> TOTAL TIME 1.43 sec\n",
      "-- normalized foci intensity for ms2 is 1.6761326342759486\n",
      "-- tracking cell at timepoint 77.\n",
      "++++++++++++++++++++++++++++++++++++++++++++++++++++++++++++++++++++++++++++++++++\n"
     ]
    },
    {
     "name": "stderr",
     "output_type": "stream",
     "text": [
      "C:\\Users\\Shiwei\\AppData\\Roaming\\Python\\Python37\\site-packages\\ipykernel_launcher.py:180: UserWarning: D:\\Analyzed_CellBio\\Stam\\Lac_Ms_live\\210830_263_pos11\\mask_cell_1\\Pos11_DNA_t77.tif is a boolean image: setting True to 255 and False to 0. To silence this warning, please convert the image using img_as_ubyte.\n",
      "C:\\Users\\Shiwei\\AppData\\Roaming\\Python\\Python37\\site-packages\\ipykernel_launcher.py:180: UserWarning: D:\\Analyzed_CellBio\\Stam\\Lac_Ms_live\\210830_263_pos11\\mask_cell_1\\Pos11_Lac_t77.tif is a boolean image: setting True to 255 and False to 0. To silence this warning, please convert the image using img_as_ubyte.\n"
     ]
    },
    {
     "name": "stdout",
     "output_type": "stream",
     "text": [
      ">>>> using CPU\n",
      "Running test snippet to check if MKL-DNN working\n",
      "see https://pytorch.org/docs/stable/backends.html?highlight=mkl\n",
      "** MKL version working - CPU version is sped up. **\n",
      "processing 1 image(s)\n",
      "time spent: running network 1.36s; flow+mask computation 0.06\n",
      "estimated masks for 1 image(s) in 1.42 sec\n",
      ">>>> TOTAL TIME 1.42 sec\n",
      "-- normalized foci intensity for ms2 is 1.762333625627014\n",
      "-- tracking cell at timepoint 78.\n",
      "++++++++++++++++++++++++++++++++++++++++++++++++++++++++++++++++++++++++++++++++++\n",
      ">>>> using CPU\n",
      "Running test snippet to check if MKL-DNN working\n",
      "see https://pytorch.org/docs/stable/backends.html?highlight=mkl\n",
      "** MKL version working - CPU version is sped up. **\n"
     ]
    },
    {
     "name": "stderr",
     "output_type": "stream",
     "text": [
      "C:\\Users\\Shiwei\\AppData\\Roaming\\Python\\Python37\\site-packages\\ipykernel_launcher.py:180: UserWarning: D:\\Analyzed_CellBio\\Stam\\Lac_Ms_live\\210830_263_pos11\\mask_cell_1\\Pos11_DNA_t78.tif is a boolean image: setting True to 255 and False to 0. To silence this warning, please convert the image using img_as_ubyte.\n",
      "C:\\Users\\Shiwei\\AppData\\Roaming\\Python\\Python37\\site-packages\\ipykernel_launcher.py:180: UserWarning: D:\\Analyzed_CellBio\\Stam\\Lac_Ms_live\\210830_263_pos11\\mask_cell_1\\Pos11_Lac_t78.tif is a boolean image: setting True to 255 and False to 0. To silence this warning, please convert the image using img_as_ubyte.\n"
     ]
    },
    {
     "name": "stdout",
     "output_type": "stream",
     "text": [
      "processing 1 image(s)\n",
      "time spent: running network 1.49s; flow+mask computation 0.06\n",
      "estimated masks for 1 image(s) in 1.57 sec\n",
      ">>>> TOTAL TIME 1.57 sec\n",
      "-- normalized foci intensity for ms2 is 2.6317311473342673\n",
      "-- tracking cell at timepoint 79.\n",
      "++++++++++++++++++++++++++++++++++++++++++++++++++++++++++++++++++++++++++++++++++\n",
      ">>>> using CPU\n",
      "Running test snippet to check if MKL-DNN working\n",
      "see https://pytorch.org/docs/stable/backends.html?highlight=mkl\n",
      "** MKL version working - CPU version is sped up. **\n"
     ]
    },
    {
     "name": "stderr",
     "output_type": "stream",
     "text": [
      "C:\\Users\\Shiwei\\AppData\\Roaming\\Python\\Python37\\site-packages\\ipykernel_launcher.py:180: UserWarning: D:\\Analyzed_CellBio\\Stam\\Lac_Ms_live\\210830_263_pos11\\mask_cell_1\\Pos11_DNA_t79.tif is a boolean image: setting True to 255 and False to 0. To silence this warning, please convert the image using img_as_ubyte.\n",
      "C:\\Users\\Shiwei\\AppData\\Roaming\\Python\\Python37\\site-packages\\ipykernel_launcher.py:180: UserWarning: D:\\Analyzed_CellBio\\Stam\\Lac_Ms_live\\210830_263_pos11\\mask_cell_1\\Pos11_Lac_t79.tif is a boolean image: setting True to 255 and False to 0. To silence this warning, please convert the image using img_as_ubyte.\n"
     ]
    },
    {
     "name": "stdout",
     "output_type": "stream",
     "text": [
      "processing 1 image(s)\n",
      "time spent: running network 1.36s; flow+mask computation 0.09\n",
      "estimated masks for 1 image(s) in 1.46 sec\n",
      ">>>> TOTAL TIME 1.46 sec\n",
      "-- normalized foci intensity for ms2 is 1.9439484950568604\n",
      "-- tracking cell at timepoint 80.\n",
      "++++++++++++++++++++++++++++++++++++++++++++++++++++++++++++++++++++++++++++++++++\n"
     ]
    },
    {
     "name": "stderr",
     "output_type": "stream",
     "text": [
      "C:\\Users\\Shiwei\\AppData\\Roaming\\Python\\Python37\\site-packages\\ipykernel_launcher.py:180: UserWarning: D:\\Analyzed_CellBio\\Stam\\Lac_Ms_live\\210830_263_pos11\\mask_cell_1\\Pos11_DNA_t80.tif is a boolean image: setting True to 255 and False to 0. To silence this warning, please convert the image using img_as_ubyte.\n",
      "C:\\Users\\Shiwei\\AppData\\Roaming\\Python\\Python37\\site-packages\\ipykernel_launcher.py:180: UserWarning: D:\\Analyzed_CellBio\\Stam\\Lac_Ms_live\\210830_263_pos11\\mask_cell_1\\Pos11_Lac_t80.tif is a boolean image: setting True to 255 and False to 0. To silence this warning, please convert the image using img_as_ubyte.\n"
     ]
    },
    {
     "name": "stdout",
     "output_type": "stream",
     "text": [
      ">>>> using CPU\n",
      "Running test snippet to check if MKL-DNN working\n",
      "see https://pytorch.org/docs/stable/backends.html?highlight=mkl\n",
      "** MKL version working - CPU version is sped up. **\n",
      "processing 1 image(s)\n",
      "time spent: running network 1.35s; flow+mask computation 0.08\n",
      "estimated masks for 1 image(s) in 1.44 sec\n",
      ">>>> TOTAL TIME 1.44 sec\n",
      "-- normalized foci intensity for ms2 is 1.9083024072904304\n",
      "-- tracking cell at timepoint 81.\n",
      "++++++++++++++++++++++++++++++++++++++++++++++++++++++++++++++++++++++++++++++++++\n"
     ]
    },
    {
     "name": "stderr",
     "output_type": "stream",
     "text": [
      "C:\\Users\\Shiwei\\AppData\\Roaming\\Python\\Python37\\site-packages\\ipykernel_launcher.py:180: UserWarning: D:\\Analyzed_CellBio\\Stam\\Lac_Ms_live\\210830_263_pos11\\mask_cell_1\\Pos11_DNA_t81.tif is a boolean image: setting True to 255 and False to 0. To silence this warning, please convert the image using img_as_ubyte.\n",
      "C:\\Users\\Shiwei\\AppData\\Roaming\\Python\\Python37\\site-packages\\ipykernel_launcher.py:180: UserWarning: D:\\Analyzed_CellBio\\Stam\\Lac_Ms_live\\210830_263_pos11\\mask_cell_1\\Pos11_Lac_t81.tif is a boolean image: setting True to 255 and False to 0. To silence this warning, please convert the image using img_as_ubyte.\n"
     ]
    },
    {
     "name": "stdout",
     "output_type": "stream",
     "text": [
      ">>>> using CPU\n",
      "Running test snippet to check if MKL-DNN working\n",
      "see https://pytorch.org/docs/stable/backends.html?highlight=mkl\n",
      "** MKL version working - CPU version is sped up. **\n",
      "processing 1 image(s)\n",
      "time spent: running network 1.42s; flow+mask computation 0.09\n",
      "estimated masks for 1 image(s) in 1.51 sec\n",
      ">>>> TOTAL TIME 1.51 sec\n",
      "-- normalized foci intensity for ms2 is 3.2167189397011975\n",
      "-- tracking cell at timepoint 82.\n",
      "++++++++++++++++++++++++++++++++++++++++++++++++++++++++++++++++++++++++++++++++++\n",
      ">>>> using CPU\n",
      "Running test snippet to check if MKL-DNN working\n",
      "see https://pytorch.org/docs/stable/backends.html?highlight=mkl\n",
      "** MKL version working - CPU version is sped up. **\n"
     ]
    },
    {
     "name": "stderr",
     "output_type": "stream",
     "text": [
      "C:\\Users\\Shiwei\\AppData\\Roaming\\Python\\Python37\\site-packages\\ipykernel_launcher.py:180: UserWarning: D:\\Analyzed_CellBio\\Stam\\Lac_Ms_live\\210830_263_pos11\\mask_cell_1\\Pos11_DNA_t82.tif is a boolean image: setting True to 255 and False to 0. To silence this warning, please convert the image using img_as_ubyte.\n",
      "C:\\Users\\Shiwei\\AppData\\Roaming\\Python\\Python37\\site-packages\\ipykernel_launcher.py:180: UserWarning: D:\\Analyzed_CellBio\\Stam\\Lac_Ms_live\\210830_263_pos11\\mask_cell_1\\Pos11_Lac_t82.tif is a boolean image: setting True to 255 and False to 0. To silence this warning, please convert the image using img_as_ubyte.\n"
     ]
    },
    {
     "name": "stdout",
     "output_type": "stream",
     "text": [
      "processing 1 image(s)\n",
      "time spent: running network 1.41s; flow+mask computation 0.08\n",
      "estimated masks for 1 image(s) in 1.50 sec\n",
      ">>>> TOTAL TIME 1.50 sec\n",
      "-- normalized foci intensity for ms2 is 2.3052777939621567\n",
      "-- tracking cell at timepoint 83.\n",
      "++++++++++++++++++++++++++++++++++++++++++++++++++++++++++++++++++++++++++++++++++\n",
      ">>>> using CPU"
     ]
    },
    {
     "name": "stderr",
     "output_type": "stream",
     "text": [
      "C:\\Users\\Shiwei\\AppData\\Roaming\\Python\\Python37\\site-packages\\ipykernel_launcher.py:180: UserWarning: D:\\Analyzed_CellBio\\Stam\\Lac_Ms_live\\210830_263_pos11\\mask_cell_1\\Pos11_DNA_t83.tif is a boolean image: setting True to 255 and False to 0. To silence this warning, please convert the image using img_as_ubyte.\n",
      "C:\\Users\\Shiwei\\AppData\\Roaming\\Python\\Python37\\site-packages\\ipykernel_launcher.py:180: UserWarning: D:\\Analyzed_CellBio\\Stam\\Lac_Ms_live\\210830_263_pos11\\mask_cell_1\\Pos11_Lac_t83.tif is a boolean image: setting True to 255 and False to 0. To silence this warning, please convert the image using img_as_ubyte.\n"
     ]
    },
    {
     "name": "stdout",
     "output_type": "stream",
     "text": [
      "\n",
      "Running test snippet to check if MKL-DNN working\n",
      "see https://pytorch.org/docs/stable/backends.html?highlight=mkl\n",
      "** MKL version working - CPU version is sped up. **\n",
      "processing 1 image(s)\n",
      "time spent: running network 1.36s; flow+mask computation 0.09\n",
      "estimated masks for 1 image(s) in 1.46 sec\n",
      ">>>> TOTAL TIME 1.46 sec\n",
      "-- normalized foci intensity for ms2 is 3.6682865767130024\n",
      "-- tracking cell at timepoint 84.\n",
      "++++++++++++++++++++++++++++++++++++++++++++++++++++++++++++++++++++++++++++++++++\n",
      ">>>> using CPU\n",
      "Running test snippet to check if MKL-DNN working\n",
      "see https://pytorch.org/docs/stable/backends.html?highlight=mkl\n",
      "** MKL version working - CPU version is sped up. **\n"
     ]
    },
    {
     "name": "stderr",
     "output_type": "stream",
     "text": [
      "C:\\Users\\Shiwei\\AppData\\Roaming\\Python\\Python37\\site-packages\\ipykernel_launcher.py:180: UserWarning: D:\\Analyzed_CellBio\\Stam\\Lac_Ms_live\\210830_263_pos11\\mask_cell_1\\Pos11_DNA_t84.tif is a boolean image: setting True to 255 and False to 0. To silence this warning, please convert the image using img_as_ubyte.\n",
      "C:\\Users\\Shiwei\\AppData\\Roaming\\Python\\Python37\\site-packages\\ipykernel_launcher.py:180: UserWarning: D:\\Analyzed_CellBio\\Stam\\Lac_Ms_live\\210830_263_pos11\\mask_cell_1\\Pos11_Lac_t84.tif is a boolean image: setting True to 255 and False to 0. To silence this warning, please convert the image using img_as_ubyte.\n"
     ]
    },
    {
     "name": "stdout",
     "output_type": "stream",
     "text": [
      "processing 1 image(s)\n",
      "time spent: running network 1.46s; flow+mask computation 0.09\n",
      "estimated masks for 1 image(s) in 1.56 sec\n",
      ">>>> TOTAL TIME 1.56 sec\n",
      "-- normalized foci intensity for ms2 is 3.0794377469773653\n",
      "-- tracking cell at timepoint 85.\n",
      "++++++++++++++++++++++++++++++++++++++++++++++++++++++++++++++++++++++++++++++++++\n"
     ]
    },
    {
     "name": "stderr",
     "output_type": "stream",
     "text": [
      "C:\\Users\\Shiwei\\AppData\\Roaming\\Python\\Python37\\site-packages\\ipykernel_launcher.py:180: UserWarning: D:\\Analyzed_CellBio\\Stam\\Lac_Ms_live\\210830_263_pos11\\mask_cell_1\\Pos11_DNA_t85.tif is a boolean image: setting True to 255 and False to 0. To silence this warning, please convert the image using img_as_ubyte.\n",
      "C:\\Users\\Shiwei\\AppData\\Roaming\\Python\\Python37\\site-packages\\ipykernel_launcher.py:180: UserWarning: D:\\Analyzed_CellBio\\Stam\\Lac_Ms_live\\210830_263_pos11\\mask_cell_1\\Pos11_Lac_t85.tif is a boolean image: setting True to 255 and False to 0. To silence this warning, please convert the image using img_as_ubyte.\n"
     ]
    },
    {
     "name": "stdout",
     "output_type": "stream",
     "text": [
      ">>>> using CPU\n",
      "Running test snippet to check if MKL-DNN working\n",
      "see https://pytorch.org/docs/stable/backends.html?highlight=mkl\n",
      "** MKL version working - CPU version is sped up. **\n",
      "processing 1 image(s)\n",
      "time spent: running network 1.37s; flow+mask computation 0.10\n",
      "estimated masks for 1 image(s) in 1.48 sec\n",
      ">>>> TOTAL TIME 1.48 sec\n",
      "-- normalized foci intensity for ms2 is 3.501028704816818\n",
      "-- tracking cell at timepoint 86.\n",
      "++++++++++++++++++++++++++++++++++++++++++++++++++++++++++++++++++++++++++++++++++\n"
     ]
    },
    {
     "name": "stderr",
     "output_type": "stream",
     "text": [
      "C:\\Users\\Shiwei\\AppData\\Roaming\\Python\\Python37\\site-packages\\ipykernel_launcher.py:180: UserWarning: D:\\Analyzed_CellBio\\Stam\\Lac_Ms_live\\210830_263_pos11\\mask_cell_1\\Pos11_DNA_t86.tif is a boolean image: setting True to 255 and False to 0. To silence this warning, please convert the image using img_as_ubyte.\n",
      "C:\\Users\\Shiwei\\AppData\\Roaming\\Python\\Python37\\site-packages\\ipykernel_launcher.py:180: UserWarning: D:\\Analyzed_CellBio\\Stam\\Lac_Ms_live\\210830_263_pos11\\mask_cell_1\\Pos11_Lac_t86.tif is a boolean image: setting True to 255 and False to 0. To silence this warning, please convert the image using img_as_ubyte.\n"
     ]
    },
    {
     "name": "stdout",
     "output_type": "stream",
     "text": [
      ">>>> using CPU\n",
      "Running test snippet to check if MKL-DNN working\n",
      "see https://pytorch.org/docs/stable/backends.html?highlight=mkl\n",
      "** MKL version working - CPU version is sped up. **\n",
      "processing 1 image(s)\n",
      "time spent: running network 1.41s; flow+mask computation 0.09\n",
      "estimated masks for 1 image(s) in 1.51 sec\n",
      ">>>> TOTAL TIME 1.51 sec\n",
      "-- normalized foci intensity for ms2 is 2.9540047263042397\n",
      "-- tracking cell at timepoint 87.\n",
      "++++++++++++++++++++++++++++++++++++++++++++++++++++++++++++++++++++++++++++++++++\n"
     ]
    },
    {
     "name": "stderr",
     "output_type": "stream",
     "text": [
      "C:\\Users\\Shiwei\\AppData\\Roaming\\Python\\Python37\\site-packages\\ipykernel_launcher.py:180: UserWarning: D:\\Analyzed_CellBio\\Stam\\Lac_Ms_live\\210830_263_pos11\\mask_cell_1\\Pos11_DNA_t87.tif is a boolean image: setting True to 255 and False to 0. To silence this warning, please convert the image using img_as_ubyte.\n",
      "C:\\Users\\Shiwei\\AppData\\Roaming\\Python\\Python37\\site-packages\\ipykernel_launcher.py:180: UserWarning: D:\\Analyzed_CellBio\\Stam\\Lac_Ms_live\\210830_263_pos11\\mask_cell_1\\Pos11_Lac_t87.tif is a boolean image: setting True to 255 and False to 0. To silence this warning, please convert the image using img_as_ubyte.\n"
     ]
    },
    {
     "name": "stdout",
     "output_type": "stream",
     "text": [
      ">>>> using CPU\n",
      "Running test snippet to check if MKL-DNN working\n",
      "see https://pytorch.org/docs/stable/backends.html?highlight=mkl\n",
      "** MKL version working - CPU version is sped up. **\n",
      "processing 1 image(s)\n",
      "time spent: running network 1.36s; flow+mask computation 0.09\n",
      "estimated masks for 1 image(s) in 1.46 sec\n",
      ">>>> TOTAL TIME 1.46 sec\n",
      "-- normalized foci intensity for ms2 is 3.122385198050405\n",
      "-- tracking cell at timepoint 88.\n",
      "++++++++++++++++++++++++++++++++++++++++++++++++++++++++++++++++++++++++++++++++++\n",
      ">>>> using CPU\n",
      "Running test snippet to check if MKL-DNN working\n",
      "see https://pytorch.org/docs/stable/backends.html?highlight=mkl\n",
      "** MKL version working - CPU version is sped up. **\n"
     ]
    },
    {
     "name": "stderr",
     "output_type": "stream",
     "text": [
      "C:\\Users\\Shiwei\\AppData\\Roaming\\Python\\Python37\\site-packages\\ipykernel_launcher.py:180: UserWarning: D:\\Analyzed_CellBio\\Stam\\Lac_Ms_live\\210830_263_pos11\\mask_cell_1\\Pos11_DNA_t88.tif is a boolean image: setting True to 255 and False to 0. To silence this warning, please convert the image using img_as_ubyte.\n",
      "C:\\Users\\Shiwei\\AppData\\Roaming\\Python\\Python37\\site-packages\\ipykernel_launcher.py:180: UserWarning: D:\\Analyzed_CellBio\\Stam\\Lac_Ms_live\\210830_263_pos11\\mask_cell_1\\Pos11_Lac_t88.tif is a boolean image: setting True to 255 and False to 0. To silence this warning, please convert the image using img_as_ubyte.\n"
     ]
    },
    {
     "name": "stdout",
     "output_type": "stream",
     "text": [
      "processing 1 image(s)\n",
      "time spent: running network 1.36s; flow+mask computation 0.09\n",
      "estimated masks for 1 image(s) in 1.46 sec\n",
      ">>>> TOTAL TIME 1.46 sec\n"
     ]
    },
    {
     "name": "stderr",
     "output_type": "stream",
     "text": [
      "C:\\Users\\Shiwei\\AppData\\Roaming\\Python\\Python37\\site-packages\\ipykernel_launcher.py:180: UserWarning: D:\\Analyzed_CellBio\\Stam\\Lac_Ms_live\\210830_263_pos11\\mask_cell_1\\Pos11_DNA_t89.tif is a boolean image: setting True to 255 and False to 0. To silence this warning, please convert the image using img_as_ubyte.\n",
      "C:\\Users\\Shiwei\\AppData\\Roaming\\Python\\Python37\\site-packages\\ipykernel_launcher.py:180: UserWarning: D:\\Analyzed_CellBio\\Stam\\Lac_Ms_live\\210830_263_pos11\\mask_cell_1\\Pos11_Lac_t89.tif is a boolean image: setting True to 255 and False to 0. To silence this warning, please convert the image using img_as_ubyte.\n"
     ]
    },
    {
     "name": "stdout",
     "output_type": "stream",
     "text": [
      "-- tracking cell at timepoint 89.\n",
      "++++++++++++++++++++++++++++++++++++++++++++++++++++++++++++++++++++++++++++++++++\n",
      ">>>> using CPU\n",
      "Running test snippet to check if MKL-DNN working\n",
      "see https://pytorch.org/docs/stable/backends.html?highlight=mkl\n",
      "** MKL version working - CPU version is sped up. **\n",
      "processing 1 image(s)\n",
      "time spent: running network 1.50s; flow+mask computation 0.09\n",
      "estimated masks for 1 image(s) in 1.59 sec\n",
      ">>>> TOTAL TIME 1.59 sec\n"
     ]
    },
    {
     "name": "stderr",
     "output_type": "stream",
     "text": [
      "C:\\Users\\Shiwei\\AppData\\Roaming\\Python\\Python37\\site-packages\\ipykernel_launcher.py:180: UserWarning: D:\\Analyzed_CellBio\\Stam\\Lac_Ms_live\\210830_263_pos11\\mask_cell_1\\Pos11_DNA_t90.tif is a boolean image: setting True to 255 and False to 0. To silence this warning, please convert the image using img_as_ubyte.\n",
      "C:\\Users\\Shiwei\\AppData\\Roaming\\Python\\Python37\\site-packages\\ipykernel_launcher.py:180: UserWarning: D:\\Analyzed_CellBio\\Stam\\Lac_Ms_live\\210830_263_pos11\\mask_cell_1\\Pos11_Lac_t90.tif is a boolean image: setting True to 255 and False to 0. To silence this warning, please convert the image using img_as_ubyte.\n"
     ]
    },
    {
     "name": "stdout",
     "output_type": "stream",
     "text": [
      "-- tracking cell at timepoint 90.\n",
      "++++++++++++++++++++++++++++++++++++++++++++++++++++++++++++++++++++++++++++++++++\n",
      ">>>> using CPU\n",
      "Running test snippet to check if MKL-DNN working\n",
      "see https://pytorch.org/docs/stable/backends.html?highlight=mkl\n",
      "** MKL version working - CPU version is sped up. **\n",
      "processing 1 image(s)\n",
      "time spent: running network 1.39s; flow+mask computation 0.10\n",
      "estimated masks for 1 image(s) in 1.50 sec\n",
      ">>>> TOTAL TIME 1.50 sec\n",
      "-- normalized foci intensity for ms2 is 2.8764859914250103\n",
      "-- tracking cell at timepoint 91.\n",
      "++++++++++++++++++++++++++++++++++++++++++++++++++++++++++++++++++++++++++++++++++\n",
      ">>>> using CPU\n",
      "Running test snippet to check if MKL-DNN working\n",
      "see https://pytorch.org/docs/stable/backends.html?highlight=mkl\n",
      "** MKL version working - CPU version is sped up. **\n"
     ]
    },
    {
     "name": "stderr",
     "output_type": "stream",
     "text": [
      "C:\\Users\\Shiwei\\AppData\\Roaming\\Python\\Python37\\site-packages\\ipykernel_launcher.py:180: UserWarning: D:\\Analyzed_CellBio\\Stam\\Lac_Ms_live\\210830_263_pos11\\mask_cell_1\\Pos11_DNA_t91.tif is a boolean image: setting True to 255 and False to 0. To silence this warning, please convert the image using img_as_ubyte.\n",
      "C:\\Users\\Shiwei\\AppData\\Roaming\\Python\\Python37\\site-packages\\ipykernel_launcher.py:180: UserWarning: D:\\Analyzed_CellBio\\Stam\\Lac_Ms_live\\210830_263_pos11\\mask_cell_1\\Pos11_Lac_t91.tif is a boolean image: setting True to 255 and False to 0. To silence this warning, please convert the image using img_as_ubyte.\n"
     ]
    },
    {
     "name": "stdout",
     "output_type": "stream",
     "text": [
      "processing 1 image(s)\n",
      "time spent: running network 1.37s; flow+mask computation 0.08\n",
      "estimated masks for 1 image(s) in 1.47 sec\n",
      ">>>> TOTAL TIME 1.47 sec\n"
     ]
    },
    {
     "name": "stderr",
     "output_type": "stream",
     "text": [
      "C:\\Users\\Shiwei\\AppData\\Roaming\\Python\\Python37\\site-packages\\ipykernel_launcher.py:180: UserWarning: D:\\Analyzed_CellBio\\Stam\\Lac_Ms_live\\210830_263_pos11\\mask_cell_1\\Pos11_DNA_t92.tif is a boolean image: setting True to 255 and False to 0. To silence this warning, please convert the image using img_as_ubyte.\n",
      "C:\\Users\\Shiwei\\AppData\\Roaming\\Python\\Python37\\site-packages\\ipykernel_launcher.py:180: UserWarning: D:\\Analyzed_CellBio\\Stam\\Lac_Ms_live\\210830_263_pos11\\mask_cell_1\\Pos11_Lac_t92.tif is a boolean image: setting True to 255 and False to 0. To silence this warning, please convert the image using img_as_ubyte.\n"
     ]
    },
    {
     "name": "stdout",
     "output_type": "stream",
     "text": [
      "-- tracking cell at timepoint 92.\n",
      "++++++++++++++++++++++++++++++++++++++++++++++++++++++++++++++++++++++++++++++++++\n",
      ">>>> using CPU\n",
      "Running test snippet to check if MKL-DNN working\n",
      "see https://pytorch.org/docs/stable/backends.html?highlight=mkl\n",
      "** MKL version working - CPU version is sped up. **\n",
      "processing 1 image(s)\n",
      "time spent: running network 1.36s; flow+mask computation 0.08\n",
      "estimated masks for 1 image(s) in 1.45 sec\n",
      ">>>> TOTAL TIME 1.45 sec\n",
      "-- normalized foci intensity for ms2 is 2.0806580593423702\n",
      "-- tracking cell at timepoint 93.\n",
      "++++++++++++++++++++++++++++++++++++++++++++++++++++++++++++++++++++++++++++++++++\n"
     ]
    },
    {
     "name": "stderr",
     "output_type": "stream",
     "text": [
      "C:\\Users\\Shiwei\\AppData\\Roaming\\Python\\Python37\\site-packages\\ipykernel_launcher.py:180: UserWarning: D:\\Analyzed_CellBio\\Stam\\Lac_Ms_live\\210830_263_pos11\\mask_cell_1\\Pos11_DNA_t93.tif is a boolean image: setting True to 255 and False to 0. To silence this warning, please convert the image using img_as_ubyte.\n",
      "C:\\Users\\Shiwei\\AppData\\Roaming\\Python\\Python37\\site-packages\\ipykernel_launcher.py:180: UserWarning: D:\\Analyzed_CellBio\\Stam\\Lac_Ms_live\\210830_263_pos11\\mask_cell_1\\Pos11_Lac_t93.tif is a boolean image: setting True to 255 and False to 0. To silence this warning, please convert the image using img_as_ubyte.\n"
     ]
    },
    {
     "name": "stdout",
     "output_type": "stream",
     "text": [
      ">>>> using CPU\n",
      "Running test snippet to check if MKL-DNN working\n",
      "see https://pytorch.org/docs/stable/backends.html?highlight=mkl\n",
      "** MKL version working - CPU version is sped up. **\n",
      "processing 1 image(s)\n",
      "time spent: running network 1.35s; flow+mask computation 0.08\n",
      "estimated masks for 1 image(s) in 1.44 sec\n",
      ">>>> TOTAL TIME 1.44 sec\n",
      "-- normalized foci intensity for ms2 is 2.8398784159237307\n",
      "-- tracking cell at timepoint 94.\n",
      "++++++++++++++++++++++++++++++++++++++++++++++++++++++++++++++++++++++++++++++++++\n",
      ">>>> using CPU\n",
      "Running test snippet to check if MKL-DNN working\n",
      "see https://pytorch.org/docs/stable/backends.html?highlight=mkl\n",
      "** MKL version working - CPU version is sped up. **\n"
     ]
    },
    {
     "name": "stderr",
     "output_type": "stream",
     "text": [
      "C:\\Users\\Shiwei\\AppData\\Roaming\\Python\\Python37\\site-packages\\ipykernel_launcher.py:180: UserWarning: D:\\Analyzed_CellBio\\Stam\\Lac_Ms_live\\210830_263_pos11\\mask_cell_1\\Pos11_DNA_t94.tif is a boolean image: setting True to 255 and False to 0. To silence this warning, please convert the image using img_as_ubyte.\n",
      "C:\\Users\\Shiwei\\AppData\\Roaming\\Python\\Python37\\site-packages\\ipykernel_launcher.py:180: UserWarning: D:\\Analyzed_CellBio\\Stam\\Lac_Ms_live\\210830_263_pos11\\mask_cell_1\\Pos11_Lac_t94.tif is a boolean image: setting True to 255 and False to 0. To silence this warning, please convert the image using img_as_ubyte.\n"
     ]
    },
    {
     "name": "stdout",
     "output_type": "stream",
     "text": [
      "processing 1 image(s)\n",
      "time spent: running network 1.52s; flow+mask computation 0.05\n",
      "estimated masks for 1 image(s) in 1.60 sec\n",
      ">>>> TOTAL TIME 1.60 sec\n"
     ]
    },
    {
     "name": "stderr",
     "output_type": "stream",
     "text": [
      "C:\\Users\\Shiwei\\AppData\\Roaming\\Python\\Python37\\site-packages\\ipykernel_launcher.py:180: UserWarning: D:\\Analyzed_CellBio\\Stam\\Lac_Ms_live\\210830_263_pos11\\mask_cell_1\\Pos11_DNA_t95.tif is a boolean image: setting True to 255 and False to 0. To silence this warning, please convert the image using img_as_ubyte.\n",
      "C:\\Users\\Shiwei\\AppData\\Roaming\\Python\\Python37\\site-packages\\ipykernel_launcher.py:180: UserWarning: D:\\Analyzed_CellBio\\Stam\\Lac_Ms_live\\210830_263_pos11\\mask_cell_1\\Pos11_Lac_t95.tif is a boolean image: setting True to 255 and False to 0. To silence this warning, please convert the image using img_as_ubyte.\n"
     ]
    },
    {
     "name": "stdout",
     "output_type": "stream",
     "text": [
      "-- tracking cell at timepoint 95.\n",
      "++++++++++++++++++++++++++++++++++++++++++++++++++++++++++++++++++++++++++++++++++\n",
      ">>>> using CPU\n",
      "Running test snippet to check if MKL-DNN working\n",
      "see https://pytorch.org/docs/stable/backends.html?highlight=mkl\n",
      "** MKL version working - CPU version is sped up. **\n",
      "processing 1 image(s)\n",
      "time spent: running network 1.42s; flow+mask computation 0.08\n",
      "estimated masks for 1 image(s) in 1.51 sec\n",
      ">>>> TOTAL TIME 1.51 sec\n",
      "-- normalized foci intensity for ms2 is 2.24032333338667\n",
      "-- tracking cell at timepoint 96.\n",
      "++++++++++++++++++++++++++++++++++++++++++++++++++++++++++++++++++++++++++++++++++\n"
     ]
    },
    {
     "name": "stderr",
     "output_type": "stream",
     "text": [
      "C:\\Users\\Shiwei\\AppData\\Roaming\\Python\\Python37\\site-packages\\ipykernel_launcher.py:180: UserWarning: D:\\Analyzed_CellBio\\Stam\\Lac_Ms_live\\210830_263_pos11\\mask_cell_1\\Pos11_DNA_t96.tif is a boolean image: setting True to 255 and False to 0. To silence this warning, please convert the image using img_as_ubyte.\n",
      "C:\\Users\\Shiwei\\AppData\\Roaming\\Python\\Python37\\site-packages\\ipykernel_launcher.py:180: UserWarning: D:\\Analyzed_CellBio\\Stam\\Lac_Ms_live\\210830_263_pos11\\mask_cell_1\\Pos11_Lac_t96.tif is a boolean image: setting True to 255 and False to 0. To silence this warning, please convert the image using img_as_ubyte.\n"
     ]
    },
    {
     "name": "stdout",
     "output_type": "stream",
     "text": [
      ">>>> using CPU\n",
      "Running test snippet to check if MKL-DNN working\n",
      "see https://pytorch.org/docs/stable/backends.html?highlight=mkl\n",
      "** MKL version working - CPU version is sped up. **\n",
      "processing 1 image(s)\n",
      "time spent: running network 1.37s; flow+mask computation 0.08\n",
      "estimated masks for 1 image(s) in 1.46 sec\n",
      ">>>> TOTAL TIME 1.46 sec\n"
     ]
    },
    {
     "name": "stderr",
     "output_type": "stream",
     "text": [
      "C:\\Users\\Shiwei\\AppData\\Roaming\\Python\\Python37\\site-packages\\ipykernel_launcher.py:180: UserWarning: D:\\Analyzed_CellBio\\Stam\\Lac_Ms_live\\210830_263_pos11\\mask_cell_1\\Pos11_DNA_t97.tif is a boolean image: setting True to 255 and False to 0. To silence this warning, please convert the image using img_as_ubyte.\n",
      "C:\\Users\\Shiwei\\AppData\\Roaming\\Python\\Python37\\site-packages\\ipykernel_launcher.py:180: UserWarning: D:\\Analyzed_CellBio\\Stam\\Lac_Ms_live\\210830_263_pos11\\mask_cell_1\\Pos11_Lac_t97.tif is a boolean image: setting True to 255 and False to 0. To silence this warning, please convert the image using img_as_ubyte.\n"
     ]
    }
   ],
   "source": [
    "\n",
    "# initiate measurement dict\n",
    "all_measurement_timed = {}\n",
    "\n",
    "# loop through all timepoints\n",
    "for timepoint in _all_time_points[:]:\n",
    "    \n",
    "    # if timepoints annotaed\n",
    "    if (timepoint +1) in annotated_timepoints.keys():\n",
    "        \n",
    "        # if cell centroid is not np.nan, use annotated cell centroid\n",
    "        if annotated_timepoints[(timepoint +1)]['cell_centroid'][0]>0:\n",
    "            cell_centroid = annotated_timepoints[(timepoint +1)]['cell_centroid']\n",
    "            cell_centroid = [int(_coord) for _coord in cell_centroid]\n",
    "        # or use prior timepoint info\n",
    "        else:\n",
    "            cell_centroid= cell_object_info[1]\n",
    "            \n",
    "        # if foci centroid is not np.nan, use annotated foci centroid\n",
    "        if annotated_timepoints[(timepoint +1)]['foci_centroid'][0]>0:\n",
    "            foci_centroid = annotated_timepoints[(timepoint +1)]['foci_centroid']\n",
    "            foci_centroid = [int(_coord) for _coord in foci_centroid]\n",
    "        # or use prior timepoint info\n",
    "        else:\n",
    "            foci_centroid = foci_object_info[1]\n",
    "            \n",
    "        \n",
    "        # if area is not np.nan, use annotated cell area\n",
    "        if annotated_timepoints[(timepoint +1)]['cell_area']>0:\n",
    "            cell_area = annotated_timepoints[(timepoint +1)]['cell_area']\n",
    "        # or use prior timepoint info\n",
    "        else:\n",
    "            cell_area =cell_object_info[2]\n",
    "            \n",
    "    # if timepoints NOT annotaed, use prior timepoint info\n",
    "    else:\n",
    "        cell_centroid= cell_object_info[1]\n",
    "        cell_area =cell_object_info[2]\n",
    "        foci_centroid = foci_object_info[1]\n",
    "            \n",
    "          \n",
    "    print (f'-- tracking cell at timepoint {timepoint}.') \n",
    "    print ('++++++++++++++++++++++++++++++++++++++++++++++++++++++++++++++++++++++++++++++++++')\n",
    "    \n",
    "    # track and locate cell of interest\n",
    "    cell_object_info = segment_and_track_object(images, 1,\n",
    "                                                time = timepoint, \n",
    "                                                object_centroid=cell_centroid,\n",
    "                                                object_area =cell_area, mode ='nuclei',\n",
    "                                                z_selected = z_selected,\n",
    "                                               crop_x1=crop_x1,crop_x2=crop_x2,crop_y1=crop_y1,crop_y2=crop_y2)\n",
    "    \n",
    "    \n",
    "    # if foci centorid is anntoated for THIS timepoint, just use the foci centroid for foci tracking\n",
    "    if (timepoint +1) in annotated_timepoints.keys() and annotated_timepoints[(timepoint +1)]['foci_centroid'][0]>0:\n",
    "        ref_centroid = []\n",
    "    # otherwise, use the found cell centroid as ref centroid to assist foci tracking;\n",
    "    # where both the found cell centroid and the prior foci centorid are considered\n",
    "    else:    \n",
    "        ref_centroid = cell_object_info[1]\n",
    "    \n",
    "    \n",
    "    if np.sum(cell_object_info[0]) > 600 and use_STD_foci_segmentation:\n",
    "        foci_segmentation = 'STD'\n",
    "    else:\n",
    "        foci_segmentation = 'Yen'\n",
    "\n",
    "    # track and locate foci of interest\n",
    "    foci_object_info = segment_and_track_object(images, 2,\n",
    "                                                time = timepoint, \n",
    "                                                object_centroid=foci_centroid, ref_centroid = ref_centroid,\n",
    "                                                foci_segmentation = foci_segmentation, cell_mask = cell_object_info[0],\n",
    "                                                object_area =[], mode ='foci', foci_filter= foci_filter,\n",
    "                                                z_selected = z_selected,\n",
    "                                                crop_x1=crop_x1,crop_x2=crop_x2,crop_y1=crop_y1,crop_y2=crop_y2)\n",
    "    \n",
    "    # load raw image for each channel\n",
    "    im_dna = np.array(images.get_frame_2D (v=timepoint, c=0, z=z_selected))[crop_y1: crop_y2, crop_x1: crop_x2]\n",
    "    im_lac = np.array(images.get_frame_2D (v=timepoint, c=1, z=z_selected))[crop_y1: crop_y2, crop_x1: crop_x2]\n",
    "    im_ms = np.array(images.get_frame_2D (v=timepoint, c=2, z=z_selected))[crop_y1: crop_y2, crop_x1: crop_x2]\n",
    "    \n",
    "    # get noncell backgroud using Li\n",
    "    all_dna_mask = dilation(im_dna>threshold_li(im_dna), disk(10))\n",
    "    noncell_background = all_dna_mask == 0\n",
    "    #####################################\n",
    "    # measure average intensity, etc\n",
    "    \n",
    "    # initiate _save_mask\n",
    "    _save_mask = False\n",
    "    \n",
    "    # append 'mitosis' for timepoints relevant\n",
    "    if timepoint in _mitosis_duration:\n",
    "        all_measurement_timed[str(timepoint+1)] = 'mitosis'\n",
    "    \n",
    "    # if a valid foci can be found before or after, measure and save masks\n",
    "    elif (timepoint in _first_duration and np.sum(foci_object_info[0] ) > 0 or\n",
    "         timepoint in _second_duration and np.sum(cell_object_info[0] * foci_object_info[0]) > 0):\n",
    "        \n",
    "        foci_mask_to_measure = dilation (foci_object_info[0],disk(_foci_measure_size))\n",
    "        cell_mask_to_measure = cell_object_info[0] * (foci_mask_to_measure==0)\n",
    "    \n",
    "        ave_ms_noncell_background = np.mean((noncell_background * im_ms)[noncell_background!=0])\n",
    "    \n",
    "        ave_ms_foci = np.mean((foci_mask_to_measure * im_ms)[foci_mask_to_measure!=0])\n",
    "        ave_ms_foci= ave_ms_foci - ave_ms_noncell_background\n",
    "    \n",
    "        ave_ms_cell = np.mean((cell_mask_to_measure * im_ms)[cell_mask_to_measure!=0])\n",
    "        ave_ms_cell= ave_ms_cell - ave_ms_noncell_background\n",
    "    \n",
    "        norm_ave_ms_foci = ave_ms_foci/ave_ms_cell\n",
    "        print(f'-- normalized foci intensity for ms2 is {norm_ave_ms_foci}')\n",
    "    \n",
    "        all_measurement_timed[str(timepoint+1)] = norm_ave_ms_foci\n",
    "        \n",
    "        _save_mask = True\n",
    "    \n",
    "    # if no valid foci can be found (after incorporation), determine if there is ms2 foci qualitatively \n",
    "    else:\n",
    "        # if no lac foci, check if there is ms2 foci\n",
    "        ms_intensity = dilation(cell_object_info[0]) * im_ms\n",
    "        ms_intensity_filtered = ms_intensity[ms_intensity!=0]\n",
    "        ms_positive_th =np.mean(ms_intensity_filtered) + np.std(ms_intensity_filtered)*3\n",
    "\n",
    "        ms_mask = (im_ms > ms_positive_th)*cell_object_info[0]\n",
    "        ms_mask = dilation(ms_mask)\n",
    "        ms_mask = remove_small_objects(ms_mask, foci_filter+5)\n",
    "        \n",
    "        _save_mask = True\n",
    "        foci_object_info[0] =  ms_mask\n",
    "\n",
    "        if np.sum(ms_mask) >foci_filter:\n",
    "            \n",
    "            if np.sum(cell_object_info[0]) > nuclei_filter:\n",
    "                foci_mask_to_measure = ms_mask\n",
    "                cell_mask_to_measure = cell_object_info[0] * (foci_mask_to_measure==0)\n",
    "                \n",
    "                ave_ms_noncell_background = np.mean((noncell_background * im_ms)[noncell_background!=0])\n",
    "            \n",
    "                ave_ms_foci = np.mean((foci_mask_to_measure * im_ms)[foci_mask_to_measure!=0])\n",
    "                ave_ms_foci= ave_ms_foci - ave_ms_noncell_background\n",
    "                \n",
    "                ave_ms_cell = np.mean((cell_mask_to_measure * im_ms)[cell_mask_to_measure!=0])\n",
    "                ave_ms_cell= ave_ms_cell - ave_ms_noncell_background\n",
    "    \n",
    "                norm_ave_ms_foci = ave_ms_foci/ave_ms_cell\n",
    "        \n",
    "                print(f'-- normalized foci intensity for ms2 is {norm_ave_ms_foci}')\n",
    "                all_measurement_timed[str(timepoint+1)] = f'yes_{norm_ave_ms_foci}'\n",
    "                \n",
    "            else:\n",
    "                all_measurement_timed[str(timepoint+1)] = 'yes'\n",
    "\n",
    "        else:\n",
    "            all_measurement_timed[str(timepoint+1)] = 'no'\n",
    "        \n",
    "\n",
    "    #####################################\n",
    "    # save masks and cropped images for the timepoints where cell and lac foci can be found\n",
    "    data_cell_path = data_main_folder + os.sep + f'mask_{cell_name}'\n",
    "    if not os.path.exists(data_cell_path):\n",
    "        os.mkdir(data_cell_path)\n",
    "    \n",
    "    if _save_mask:\n",
    "        mask_savename_list = [data_cell_path + os.sep + f'Pos11_DNA_t{timepoint+1}.tif',\n",
    "                 #data_cell_path + os.sep + f'Pos11_DNA_raw_t{timepoint+1}.tif', \n",
    "                   data_cell_path + os.sep + f'Pos11_Lac_t{timepoint+1}.tif',\n",
    "                 #data_cell_path + os.sep + f'Pos11_Lac_raw_t{timepoint+1}.tif'\n",
    "                         ]\n",
    "    \n",
    "        im_to_save = [cell_object_info[0],\n",
    "                  #im_dna,\n",
    "                  foci_object_info[0],\n",
    "                  #im_lac\n",
    "                 ]\n",
    "                  \n",
    "        for _im, _name in zip(im_to_save, mask_savename_list):\n",
    "        #if not os.path.exists(_name):\n",
    "            #os.mkdirs()\n",
    "            if os.path.exists(_name):\n",
    "                os.remove(_name)\n",
    "            io.imsave(_name, _im, check_contrast=False)\n",
    "\n"
   ]
  },
  {
   "cell_type": "code",
   "execution_count": null,
   "metadata": {},
   "outputs": [],
   "source": []
  },
  {
   "cell_type": "code",
   "execution_count": 16,
   "metadata": {},
   "outputs": [
    {
     "data": {
      "text/plain": [
       "{'1': 1.1136605991731037,\n",
       " '2': 1.0634896064779702,\n",
       " '3': 1.438474796585543,\n",
       " '4': 1.2445173997489136,\n",
       " '5': 1.4571798686337296,\n",
       " '6': 1.3618554603808675,\n",
       " '7': 1.3288407024549707,\n",
       " '8': 1.0323203406400718,\n",
       " '9': 0.8593542860483849,\n",
       " '10': 0.3660803062898771,\n",
       " '11': 0.49900248016893156,\n",
       " '12': 0.3584015888410491,\n",
       " '13': 6.562716198914655,\n",
       " '14': 6.766644002013171,\n",
       " '15': 5.809730245597936,\n",
       " '16': 5.547439015008139,\n",
       " '17': 0.21774521297424965,\n",
       " '18': 0.2011489275406872,\n",
       " '19': 0.13525612654953348,\n",
       " '20': 0.06232808544849303,\n",
       " '21': 0.09726674943773324,\n",
       " '22': 0.21893484091959578,\n",
       " '23': 0.14476686582547754,\n",
       " '24': 0.20252828108945586,\n",
       " '25': 0.13301986080611788,\n",
       " '26': 0.09557987522146952,\n",
       " '27': 0.1250112881236702,\n",
       " '28': -0.009175696020971019,\n",
       " '29': 0.05759456223273947,\n",
       " '30': 0.16218698903896847,\n",
       " '31': 0.08350274454780944,\n",
       " '32': -0.0002915877171224239,\n",
       " '33': 0.11253361322879456,\n",
       " '34': 0.06989238637145462,\n",
       " '35': 0.07957997598308644,\n",
       " '36': 0.16899897576907116,\n",
       " '37': 0.09124015668654635,\n",
       " '38': 0.11200700647093031,\n",
       " '39': 0.1654663612667071,\n",
       " '40': 0.11626798325911901,\n",
       " '41': 1.1451718278753438,\n",
       " '42': 1.2669798741177904,\n",
       " '43': 0.24329432080749192,\n",
       " '44': 0.17191007775968037,\n",
       " '45': 0.07967865391236119,\n",
       " '46': 0.06499812360772284,\n",
       " '47': 0.03235478904905285,\n",
       " '48': 0.09503706409328838,\n",
       " '49': 0.007234962502872638,\n",
       " '50': 0.04828204836270874,\n",
       " '51': 0.1955129333725735,\n",
       " '52': 0.08616927604155017,\n",
       " '53': 0.09684348221634763,\n",
       " '54': 0.16615022596724688,\n",
       " '55': 0.20594801335557947,\n",
       " '56': -0.019025991108951465,\n",
       " '57': 0.22234468842833474,\n",
       " '58': 0.28796086515090896,\n",
       " '59': 0.21194852463624841,\n",
       " '60': 0.47175586306549105,\n",
       " '61': 0.15818887999600917,\n",
       " '62': 'mitosis',\n",
       " '63': 'mitosis',\n",
       " '64': 'mitosis',\n",
       " '65': 'mitosis',\n",
       " '66': 0.6667109283847712,\n",
       " '67': 0.9870971248001245,\n",
       " '68': 1.0159994639431684,\n",
       " '69': 1.1834381271806502,\n",
       " '70': 1.2202727659641412,\n",
       " '71': 1.6153277880881267,\n",
       " '72': 1.0860279449230101,\n",
       " '73': 1.6313965863195103,\n",
       " '74': 1.728581012437748,\n",
       " '75': 1.1800445051624902,\n",
       " '76': 1.7014259690497833,\n",
       " '77': 1.6761326342759486,\n",
       " '78': 1.762333625627014,\n",
       " '79': 2.6317311473342673,\n",
       " '80': 1.9439484950568604,\n",
       " '81': 'yes_1.9083024072904304',\n",
       " '82': 'yes_3.2167189397011975',\n",
       " '83': 'yes_2.3052777939621567',\n",
       " '84': 'yes_3.6682865767130024',\n",
       " '85': 'yes_3.0794377469773653',\n",
       " '86': 'yes_3.501028704816818',\n",
       " '87': 'yes_2.9540047263042397',\n",
       " '88': 'yes_3.122385198050405',\n",
       " '89': 'no',\n",
       " '90': 'no',\n",
       " '91': 'yes_2.8764859914250103',\n",
       " '92': 'no',\n",
       " '93': 'yes_2.0806580593423702',\n",
       " '94': 'yes_2.8398784159237307',\n",
       " '95': 'no',\n",
       " '96': 'yes_2.24032333338667',\n",
       " '97': 'no'}"
      ]
     },
     "execution_count": 16,
     "metadata": {},
     "output_type": "execute_result"
    }
   ],
   "source": [
    "all_measurement_timed"
   ]
  },
  {
   "cell_type": "code",
   "execution_count": 17,
   "metadata": {},
   "outputs": [],
   "source": [
    "# save measurements as simple excel\n",
    "\n",
    "df = pd.DataFrame(all_measurement_timed,index=[0])\n",
    "\n",
    "df.to_excel(data_main_folder + os.sep + f'{data_name}_analysis_{cell_name}.xlsx', index=False)"
   ]
  },
  {
   "cell_type": "code",
   "execution_count": null,
   "metadata": {},
   "outputs": [],
   "source": []
  }
 ],
 "metadata": {
  "kernelspec": {
   "display_name": "Python 3",
   "language": "python",
   "name": "python3"
  },
  "language_info": {
   "codemirror_mode": {
    "name": "ipython",
    "version": 3
   },
   "file_extension": ".py",
   "mimetype": "text/x-python",
   "name": "python",
   "nbconvert_exporter": "python",
   "pygments_lexer": "ipython3",
   "version": "3.7.6"
  }
 },
 "nbformat": 4,
 "nbformat_minor": 4
}

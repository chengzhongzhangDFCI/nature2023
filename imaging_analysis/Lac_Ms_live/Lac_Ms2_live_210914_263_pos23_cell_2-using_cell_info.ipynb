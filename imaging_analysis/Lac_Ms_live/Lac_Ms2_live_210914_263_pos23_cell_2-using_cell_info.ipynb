{
 "cells": [
  {
   "cell_type": "markdown",
   "metadata": {},
   "source": [
    "## Import required modules"
   ]
  },
  {
   "cell_type": "code",
   "execution_count": 1,
   "metadata": {},
   "outputs": [
    {
     "name": "stderr",
     "output_type": "stream",
     "text": [
      "c:\\programdata\\anaconda3\\lib\\site-packages\\skimage\\io\\manage_plugins.py:23: UserWarning: Your installed pillow version is < 7.1.0. Several security issues (CVE-2020-11538, CVE-2020-10379, CVE-2020-10994, CVE-2020-10177) have been fixed in pillow 7.1.0 or higher. We recommend to upgrade this library.\n",
      "  from .collection import imread_collection_wrapper\n"
     ]
    }
   ],
   "source": [
    "import numpy as np\n",
    "import matplotlib.pyplot as plt\n",
    "from skimage import io\n",
    "from skimage import data\n",
    "import skimage\n",
    "from skimage.filters.thresholding import threshold_li,threshold_local,threshold_otsu, threshold_yen\n",
    "from skimage.morphology import erosion, dilation, opening, closing, white_tophat, remove_small_objects, ball\n",
    "from skimage.morphology import disk\n",
    "from scipy import ndimage as ndi\n",
    "import sys,os, glob\n",
    "\n",
    "#import skimage.filters.median\n",
    "\n",
    "#import skimage.segmentation as seg\n",
    "#import skimage.filters as filters\n",
    "#import skimage.draw as draw\n",
    "#import skimage.color as color\n",
    "\n",
    "#from skimage.filters.thresholding import _cross_entropy\n",
    "#from skimage.morphology import black_tophat, skeletonize, convex_hull_image\n",
    "\n",
    "\n",
    "#pip install nd2reader_required for nd2 file reading\n",
    "from nd2reader import ND2Reader\n",
    "\n",
    "import pandas as pd\n",
    "\n",
    "# for dna segmentation\n",
    "import cellpose\n",
    "from cellpose import models"
   ]
  },
  {
   "cell_type": "markdown",
   "metadata": {},
   "source": [
    "## Load data to analyze"
   ]
  },
  {
   "cell_type": "markdown",
   "metadata": {},
   "source": [
    "### 1. Load images"
   ]
  },
  {
   "cell_type": "code",
   "execution_count": 2,
   "metadata": {},
   "outputs": [],
   "source": [
    "# Define data loading and saving folder\n",
    "\n",
    "# path to glob\n",
    "data_save_folder = r\"D:\\Analyzed_CellBio\\Stam\\Lac_Ms_live\\210914_263_pos23\\*\"\n",
    "\n",
    "# path to save results\n",
    "data_main_folder = r\"D:\\Analyzed_CellBio\\Stam\\Lac_Ms_live\\210914_263_pos23\"\n",
    "\n",
    "# not used here\n",
    "analysis_prefix = 'Lac_Ms2'\n",
    "############################# CHANGE WELL FOR DATA OF INTEREST HERE!##########################################\n",
    "\n",
    "\n",
    "data_folder = data_save_folder\n",
    "#data_files = [file for file in glob.glob(data_folder) if \"z2.tif\" in file]\n",
    "data_files = [file for file in glob.glob(data_folder) if \"nd\" in file]\n",
    "data_files\n",
    "\n",
    "\n",
    "\n",
    "# load cell info for analysis\n",
    "\n",
    "cell_name = 'cell_2'\n"
   ]
  },
  {
   "cell_type": "markdown",
   "metadata": {},
   "source": [
    "### 2. Cropp and saved cropped images "
   ]
  },
  {
   "cell_type": "code",
   "execution_count": 3,
   "metadata": {},
   "outputs": [],
   "source": [
    "#%matplotlib notebook\n",
    "#image_test =np.array(images.get_frame_2D (v=0, c=0, z=1))\n",
    "#plt.imshow(image_test)"
   ]
  },
  {
   "cell_type": "code",
   "execution_count": 3,
   "metadata": {},
   "outputs": [
    {
     "name": "stderr",
     "output_type": "stream",
     "text": [
      "C:\\Users\\Shiwei\\AppData\\Roaming\\Python\\Python37\\site-packages\\ipykernel_launcher.py:46: UserWarning: D:\\Analyzed_CellBio\\Stam\\Lac_Ms_live\\210914_263_pos23\\raw_cell_2\\210914_263_pos23_cell_2_DNA.tif is a low contrast image\n",
      "C:\\Users\\Shiwei\\AppData\\Roaming\\Python\\Python37\\site-packages\\ipykernel_launcher.py:46: UserWarning: D:\\Analyzed_CellBio\\Stam\\Lac_Ms_live\\210914_263_pos23\\raw_cell_2\\210914_263_pos23_cell_2_lac.tif is a low contrast image\n",
      "C:\\Users\\Shiwei\\AppData\\Roaming\\Python\\Python37\\site-packages\\ipykernel_launcher.py:46: UserWarning: D:\\Analyzed_CellBio\\Stam\\Lac_Ms_live\\210914_263_pos23\\raw_cell_2\\210914_263_pos23_cell_2_ms2.tif is a low contrast image\n"
     ]
    }
   ],
   "source": [
    "# load images and get data name for the nd2 file\n",
    "images = ND2Reader(data_files[0])\n",
    "data_name = data_files[0].split('\\\\')[-1].split('.nd2')[0]\n",
    "\n",
    "#images.sizes[\"t\"]\n",
    "# define the cropping coord inverted (input number are xy as seen in ImageJ)\n",
    "#crop_x1, crop_x2, crop_y1, crop_y2 = 756,1146,819,1089 # x1-2, then y1-2\n",
    "\n",
    "\n",
    "crop_x1, crop_x2, crop_y1, crop_y2 = 799,1190,742,1098\n",
    "# z for analyze\n",
    "z_selected = 1\n",
    "\n",
    "#save cropped images or not\n",
    "# ch-t-z-xy\n",
    "_save_crop_image =True\n",
    "\n",
    "if _save_crop_image:\n",
    "    crop_image_ch_all = {}\n",
    "\n",
    "    for ind, ch in enumerate(range(images.sizes[\"c\"])):\n",
    "        image_ch_all = []\n",
    "    \n",
    "        for timepoint in range(images.sizes[\"t\"]):\n",
    "            image_ch =np.array(images.get_frame_2D (v=timepoint, c=ch, z=z_selected))[crop_y1: crop_y2, crop_x1: crop_x2]\n",
    "        \n",
    "        #for _lyr in range(images.sizes[\"z\"]):\n",
    "            #lyr_ch = np.array(images.get_frame_2D (v=timepoint, c=ch, z=_lyr))[840:1200,850:1250]\n",
    "            #image_ch.append(lyr_ch)\n",
    "            \n",
    "            image_ch_all.append(image_ch)\n",
    "        \n",
    "        crop_image_ch_all[ind] = np.array(image_ch_all)    \n",
    "\n",
    "    raw_cell_path = data_main_folder + os.sep + f'raw_{cell_name}'\n",
    "    if not os.path.exists(raw_cell_path):\n",
    "        os.mkdir(raw_cell_path)\n",
    "\n",
    "    savename_list = [raw_cell_path + os.sep + f'{data_name}_{cell_name}_DNA.tif',\n",
    "                   raw_cell_path + os.sep + f'{data_name}_{cell_name}_lac.tif',\n",
    "                   raw_cell_path + os.sep + f'{data_name}_{cell_name}_ms2.tif']\n",
    "\n",
    "    for ind, save_name in enumerate(savename_list):\n",
    "        if os.path.exists(save_name):\n",
    "            os.remove(save_name)\n",
    "        io.imsave(save_name, crop_image_ch_all[ind])"
   ]
  },
  {
   "cell_type": "markdown",
   "metadata": {},
   "source": [
    "### 3. Other parameters and cell info"
   ]
  },
  {
   "cell_type": "code",
   "execution_count": 5,
   "metadata": {},
   "outputs": [],
   "source": [
    "# Define some shared parameters here\n",
    "\n",
    "# the dilation for measuring the foci\n",
    "_foci_measure_size = 2\n",
    "\n",
    "nuclei_filter = 600\n",
    "foci_filter = 10\n",
    "\n",
    "use_STD_foci_segmentation = False\n",
    "\n",
    "z_selected=1"
   ]
  },
  {
   "cell_type": "code",
   "execution_count": 6,
   "metadata": {},
   "outputs": [
    {
     "data": {
      "text/html": [
       "<div>\n",
       "<style scoped>\n",
       "    .dataframe tbody tr th:only-of-type {\n",
       "        vertical-align: middle;\n",
       "    }\n",
       "\n",
       "    .dataframe tbody tr th {\n",
       "        vertical-align: top;\n",
       "    }\n",
       "\n",
       "    .dataframe thead th {\n",
       "        text-align: right;\n",
       "    }\n",
       "</style>\n",
       "<table border=\"1\" class=\"dataframe\">\n",
       "  <thead>\n",
       "    <tr style=\"text-align: right;\">\n",
       "      <th></th>\n",
       "      <th>timepoint</th>\n",
       "      <th>cell X</th>\n",
       "      <th>cell Y</th>\n",
       "      <th>cell area</th>\n",
       "      <th>lac X</th>\n",
       "      <th>lac Y</th>\n",
       "      <th>stage</th>\n",
       "    </tr>\n",
       "  </thead>\n",
       "  <tbody>\n",
       "    <tr>\n",
       "      <th>0</th>\n",
       "      <td>1</td>\n",
       "      <td>254.0</td>\n",
       "      <td>134.0</td>\n",
       "      <td>7000.0</td>\n",
       "      <td>292.0</td>\n",
       "      <td>167.0</td>\n",
       "      <td>1</td>\n",
       "    </tr>\n",
       "    <tr>\n",
       "      <th>1</th>\n",
       "      <td>61</td>\n",
       "      <td>NaN</td>\n",
       "      <td>NaN</td>\n",
       "      <td>NaN</td>\n",
       "      <td>NaN</td>\n",
       "      <td>NaN</td>\n",
       "      <td>m</td>\n",
       "    </tr>\n",
       "    <tr>\n",
       "      <th>2</th>\n",
       "      <td>66</td>\n",
       "      <td>227.0</td>\n",
       "      <td>206.0</td>\n",
       "      <td>7000.0</td>\n",
       "      <td>261.0</td>\n",
       "      <td>225.0</td>\n",
       "      <td>2</td>\n",
       "    </tr>\n",
       "  </tbody>\n",
       "</table>\n",
       "</div>"
      ],
      "text/plain": [
       "   timepoint  cell X  cell Y  cell area  lac X  lac Y stage\n",
       "0          1   254.0   134.0     7000.0  292.0  167.0     1\n",
       "1         61     NaN     NaN        NaN    NaN    NaN     m\n",
       "2         66   227.0   206.0     7000.0  261.0  225.0     2"
      ]
     },
     "execution_count": 6,
     "metadata": {},
     "output_type": "execute_result"
    }
   ],
   "source": [
    "# load cell info for analysis\n",
    "\n",
    "\n",
    "cell_info = pd.read_excel(data_main_folder + os.sep + f'{data_name}_cell_info_{cell_name}.xlsx')\n",
    "\n",
    "cell_info"
   ]
  },
  {
   "cell_type": "code",
   "execution_count": null,
   "metadata": {},
   "outputs": [],
   "source": []
  },
  {
   "cell_type": "code",
   "execution_count": 7,
   "metadata": {},
   "outputs": [
    {
     "data": {
      "text/plain": [
       "{1: {'cell_centroid': [254.0, 134.0],\n",
       "  'cell_area': 7000.0,\n",
       "  'foci_centroid': [292.0, 167.0]},\n",
       " 61: {'cell_centroid': [nan, nan],\n",
       "  'cell_area': nan,\n",
       "  'foci_centroid': [nan, nan]},\n",
       " 66: {'cell_centroid': [227.0, 206.0],\n",
       "  'cell_area': 7000.0,\n",
       "  'foci_centroid': [261.0, 225.0]}}"
      ]
     },
     "execution_count": 7,
     "metadata": {},
     "output_type": "execute_result"
    }
   ],
   "source": [
    "# Define timepoints duration based on cell info\n",
    "\n",
    "\n",
    "_all_time_points = range(images.sizes[\"t\"])\n",
    "\n",
    "_first_duration = range(int(cell_info[cell_info['stage'] == 1]['timepoint'])-1,\n",
    "                        int(cell_info[cell_info['stage'] == 'm']['timepoint'])-1)\n",
    "\n",
    "_mitosis_duration = range(int(cell_info[cell_info['stage'] == 'm']['timepoint']-1),\n",
    "                        int(cell_info[cell_info['stage'] == 2]['timepoint'])-1)\n",
    "\n",
    "_second_duration = range(int(cell_info[cell_info['stage'] == 2]['timepoint'])-1,\n",
    "                        images.sizes[\"t\"])\n",
    "\n",
    "if len(cell_info[cell_info['stage'] == 'e'])>0:\n",
    "    _end_time_point = int(cell_info[cell_info['stage'] == 'e']['timepoint'])-1\n",
    "\n",
    "    if _end_time_point >0 and _end_time_point <images.sizes[\"t\"]:\n",
    "        _all_time_points = range(0, _end_time_point)\n",
    "        \n",
    "if len(cell_info[cell_info['stage'] == 's'])>0:\n",
    "    _skip_time_points =  []\n",
    "    for _t in cell_info[cell_info['stage'] == 's']['timepoint']:\n",
    "        _skip_time_points.append(int(_t)-1)\n",
    "    \n",
    "    _all_time_points = [_t for _t in _all_time_points if _t not in _skip_time_points]\n",
    "\n",
    "#_first_duration\n",
    "#_mitosis_duration\n",
    "#_second_duration\n",
    "\n",
    "\n",
    "# Define cell centorid, etc., for annotated timepoints based on cell info\n",
    "\n",
    "annotated_timepoints = {}\n",
    "\n",
    "\n",
    "for _item in cell_info.iloc():\n",
    "    \n",
    "    annotated_timepoints[_item['timepoint']] = {}\n",
    "    annotated_timepoints[_item['timepoint']]['cell_centroid']=[_item['cell X'],_item['cell Y']]\n",
    "    annotated_timepoints[_item['timepoint']]['cell_area']=_item['cell area']\n",
    "    annotated_timepoints[_item['timepoint']]['foci_centroid']=[_item['lac X'],_item['lac Y']]\n",
    "\n",
    "annotated_timepoints"
   ]
  },
  {
   "cell_type": "markdown",
   "metadata": {},
   "source": [
    "##  Analysis for cell of interest"
   ]
  },
  {
   "cell_type": "markdown",
   "metadata": {},
   "source": [
    "### 1. Define basic function for analysis"
   ]
  },
  {
   "cell_type": "code",
   "execution_count": 8,
   "metadata": {},
   "outputs": [],
   "source": [
    "def segment_and_track_object (images, ch_index,\n",
    "                            object_centroid = [176,103],\n",
    "                              ref_centroid = [],\n",
    "                            object_area = 7000,\n",
    "                            time = 0,     \n",
    "                            search_dist = 600,\n",
    "                            z_selected = 1,\n",
    "                            nuclei_filter = 600,\n",
    "                              foci_filter = 20,\n",
    "                            mode = 'nuclei',\n",
    "                              foci_segmentation = 'Yen',\n",
    "                              cell_mask = None,\n",
    "                              use_area = True,\n",
    "                            crop = True,\n",
    "                             crop_x1=0,crop_x2=2048,crop_y1=0,crop_y2=2048,\n",
    "                             saved_object_mask =[]):\n",
    "\n",
    "    \n",
    "    \n",
    "    # load 3d images for the channel and z plane selected\n",
    "    image_ch = []\n",
    "    for _lyr in range(images.sizes[\"z\"]):\n",
    "        lyr_ch = np.array(images.get_frame_2D (v=time, c=ch_index-1, z=_lyr))[crop_y1: crop_y2, crop_x1: crop_x2]\n",
    "        image_ch.append(lyr_ch)\n",
    "        \n",
    "    image_ch = np.array(image_ch)\n",
    "\n",
    "    # use cellpose for nuclei segmentation  \n",
    "    if mode == 'nuclei':\n",
    "     # segment DAPI and track the cell\n",
    "        model= models.Cellpose(gpu=False, model_type=mode)\n",
    "        \n",
    "        # adjust nuclear diameter as 100\n",
    "        object_masks, flows, styles, diams = model.eval(image_ch[z_selected], diameter=100, channels = [0,0],\n",
    "                                         flow_threshold=0.4, do_3D=False)\n",
    "    \n",
    "        \n",
    "        object_masks =  remove_small_objects(object_masks, nuclei_filter ,connectivity=1)\n",
    "        # erosion to remove abutting micronuclei\n",
    "        object_masks = erosion(object_masks, disk(20))\n",
    "        object_masks = dilation(object_masks, disk(20))\n",
    "\n",
    "    # use Yen thresholding for lac foci segmentation\n",
    "    if mode == 'foci':\n",
    "        if foci_segmentation == 'Yen':\n",
    "            object_masks = image_ch[z_selected] > threshold_yen(image_ch[z_selected])\n",
    "            # remove small less confident foci\n",
    "            object_masks = remove_small_objects(object_masks,foci_filter)\n",
    "            object_masks = skimage.measure.label(object_masks)\n",
    "        elif foci_segmentation == 'STD' and cell_mask is not None:\n",
    "            foci_intensity = dilation(cell_mask) * image_ch[z_selected]\n",
    "            foci_intensity_filtered = foci_intensity[foci_intensity!=0]\n",
    "            foci_positive_th =np.mean(foci_intensity_filtered) + np.std(foci_intensity_filtered)*3\n",
    "\n",
    "            foci_mask = (image_ch[z_selected] > foci_positive_th)*cell_mask\n",
    "            object_masks = remove_small_objects(foci_mask, foci_filter)\n",
    "            \n",
    "        \n",
    "    # initiate search distances\n",
    "    found_dist = search_dist\n",
    "    combined_dist = search_dist * 5\n",
    "\n",
    "    # all object labels higher than background\n",
    "    unique_objects_id = np.unique(object_masks)[np.unique(object_masks)>0]\n",
    "    \n",
    "    # if has one candiadte object (currently requires dna to always have one)\n",
    "    if len(unique_objects_id) >0:\n",
    "\n",
    "        for i in unique_objects_id:\n",
    "            cand_object = object_masks == i\n",
    "            cand_object[cand_object>0]=1\n",
    "            cand_object = np.array(cand_object)\n",
    "        \n",
    "            # calculate candiate object distance to the input coord (eg., from prior timepoint)\n",
    "            region = skimage.measure.regionprops (skimage.measure.label(cand_object))[0]   \n",
    "            _dist = round(np.linalg.norm(np.array([region.centroid[1], region.centroid[0]])\n",
    "                                                    - np.array(object_centroid)))\n",
    "            \n",
    "             # use area\n",
    "            if use_area and abs(region.area - object_area)/object_area <=0.4:\n",
    "                # also use reference distance\n",
    "                if len(ref_centroid) == 2:\n",
    "                    _dist_ref = round(np.linalg.norm(np.array([region.centroid[1], region.centroid[0]])\n",
    "                                                    - np.array(ref_centroid)))\n",
    "                \n",
    "                    if _dist_ref + _dist  <= combined_dist:\n",
    "                        combined_dist = _dist_ref + _dist\n",
    "                        kept_object = cand_object\n",
    "                        \n",
    "                # not using reference distance        \n",
    "                else:\n",
    "                    if _dist <= found_dist:  \n",
    "                        found_dist = _dist\n",
    "                        kept_object = cand_object   \n",
    "                        \n",
    "            # if not use area or area changes too variable\n",
    "            else: \n",
    "                # also use reference distance\n",
    "                if len(ref_centroid) == 2:\n",
    "                    _dist_ref = round(np.linalg.norm(np.array([region.centroid[1], region.centroid[0]])\n",
    "                                                    - np.array(ref_centroid)))\n",
    "                \n",
    "                    if _dist_ref + _dist  <= combined_dist:\n",
    "                        combined_dist = _dist_ref + _dist\n",
    "                        kept_object = cand_object\n",
    "                        \n",
    "                # not using reference distance                \n",
    "                else:\n",
    "                    if _dist <= found_dist:  \n",
    "                        found_dist = _dist\n",
    "                        kept_object = cand_object\n",
    "        \n",
    "        # if use pre-defined object mask\n",
    "        if len(saved_object_mask)>0 and saved_object_mask.shape == image_ch.shape:\n",
    "            kept_object = saved_object_mask\n",
    "            region = skimage.measure.regionprops (skimage.measure.label(kept_object))[0]    \n",
    "            found_object_centroid = [round(region.centroid[1]), round(region.centroid[0])]\n",
    "            found_object_area = region.area\n",
    "            found_dist = search_dist\n",
    "            \n",
    "        # if there is one object passing the qualification                \n",
    "        elif len(kept_object) > 0:                \n",
    "            region = skimage.measure.regionprops (skimage.measure.label(kept_object))[0]    \n",
    "            found_object_centroid = [round(region.centroid[1]), round(region.centroid[0])]\n",
    "            found_object_area = region.area\n",
    "\n",
    "        # if no valid objects, append empty masks and return input coord (e.g., from last timepoint)\n",
    "        else:\n",
    "            kept_object = np.zeros(image_ch[z_selected].shape) \n",
    "            #  this results in ms2 acumulation qualitative mode\n",
    "        \n",
    "            found_object_centroid = object_centroid  # use prior centroid if there is transient loss\n",
    "            found_object_area = object_area\n",
    "            found_dist = search_dist\n",
    "            \n",
    "            \n",
    "        \n",
    "    else: # if no candiadte object for lac: eg., lac loci lost\n",
    "        kept_object = np.zeros(image_ch[z_selected].shape) \n",
    "        #  this results in ms2 acumulation qualitative mode\n",
    "        \n",
    "        found_object_centroid = object_centroid  # use prior centroid if there is transient loss\n",
    "        found_object_area = object_area\n",
    "        found_dist = search_dist\n",
    "        \n",
    "    # return [object mask, object centroid, object area, and the min distance] \n",
    "    return [kept_object, found_object_centroid, found_object_area, found_dist]\n",
    "    \n",
    "    \n",
    "\n",
    "    "
   ]
  },
  {
   "cell_type": "markdown",
   "metadata": {},
   "source": [
    "### 2. Run analysis for the cell"
   ]
  },
  {
   "cell_type": "code",
   "execution_count": 9,
   "metadata": {},
   "outputs": [
    {
     "name": "stdout",
     "output_type": "stream",
     "text": [
      "-- tracking cell at timepoint 0.\n",
      "++++++++++++++++++++++++++++++++++++++++++++++++++++++++++++++++++++++++++++++++++\n",
      ">>>> using CPU\n",
      "Running test snippet to check if MKL-DNN working\n",
      "see https://pytorch.org/docs/stable/backends.html?highlight=mkl\n",
      "** MKL version working - CPU version is sped up. **\n",
      "processing 1 image(s)\n",
      "time spent: running network 1.34s; flow+mask computation 0.03\n",
      "estimated masks for 1 image(s) in 1.39 sec\n",
      ">>>> TOTAL TIME 1.39 sec\n"
     ]
    },
    {
     "name": "stderr",
     "output_type": "stream",
     "text": [
      "C:\\Users\\Shiwei\\AppData\\Roaming\\Python\\Python37\\site-packages\\ipykernel_launcher.py:80: DeprecationWarning: The truth value of an empty array is ambiguous. Returning False, but in future this will result in an error. Use `array.size > 0` to check that an array is not empty.\n"
     ]
    },
    {
     "name": "stdout",
     "output_type": "stream",
     "text": [
      "-- normalized foci intensity for ms2 is 1.1212109448273702\n",
      "-- tracking cell at timepoint 1.\n",
      "++++++++++++++++++++++++++++++++++++++++++++++++++++++++++++++++++++++++++++++++++\n",
      ">>>> using CPU\n",
      "Running test snippet to check if MKL-DNN working\n",
      "see https://pytorch.org/docs/stable/backends.html?highlight=mkl\n",
      "** MKL version working - CPU version is sped up. **\n"
     ]
    },
    {
     "name": "stderr",
     "output_type": "stream",
     "text": [
      "C:\\Users\\Shiwei\\AppData\\Roaming\\Python\\Python37\\site-packages\\ipykernel_launcher.py:183: UserWarning: D:\\Analyzed_CellBio\\Stam\\Lac_Ms_live\\210914_263_pos23\\mask_cell_2\\Pos11_DNA_t1.tif is a boolean image: setting True to 255 and False to 0. To silence this warning, please convert the image using img_as_ubyte.\n",
      "C:\\Users\\Shiwei\\AppData\\Roaming\\Python\\Python37\\site-packages\\ipykernel_launcher.py:183: UserWarning: D:\\Analyzed_CellBio\\Stam\\Lac_Ms_live\\210914_263_pos23\\mask_cell_2\\Pos11_Lac_t1.tif is a boolean image: setting True to 255 and False to 0. To silence this warning, please convert the image using img_as_ubyte.\n"
     ]
    },
    {
     "name": "stdout",
     "output_type": "stream",
     "text": [
      "processing 1 image(s)\n",
      "time spent: running network 1.05s; flow+mask computation 0.05\n",
      "estimated masks for 1 image(s) in 1.10 sec\n",
      ">>>> TOTAL TIME 1.10 sec\n",
      "-- normalized foci intensity for ms2 is 1.2830506308724863\n",
      "-- tracking cell at timepoint 2.\n",
      "++++++++++++++++++++++++++++++++++++++++++++++++++++++++++++++++++++++++++++++++++\n"
     ]
    },
    {
     "name": "stderr",
     "output_type": "stream",
     "text": [
      "C:\\Users\\Shiwei\\AppData\\Roaming\\Python\\Python37\\site-packages\\ipykernel_launcher.py:183: UserWarning: D:\\Analyzed_CellBio\\Stam\\Lac_Ms_live\\210914_263_pos23\\mask_cell_2\\Pos11_DNA_t2.tif is a boolean image: setting True to 255 and False to 0. To silence this warning, please convert the image using img_as_ubyte.\n",
      "C:\\Users\\Shiwei\\AppData\\Roaming\\Python\\Python37\\site-packages\\ipykernel_launcher.py:183: UserWarning: D:\\Analyzed_CellBio\\Stam\\Lac_Ms_live\\210914_263_pos23\\mask_cell_2\\Pos11_Lac_t2.tif is a boolean image: setting True to 255 and False to 0. To silence this warning, please convert the image using img_as_ubyte.\n"
     ]
    },
    {
     "name": "stdout",
     "output_type": "stream",
     "text": [
      ">>>> using CPU\n",
      "Running test snippet to check if MKL-DNN working\n",
      "see https://pytorch.org/docs/stable/backends.html?highlight=mkl\n",
      "** MKL version working - CPU version is sped up. **\n",
      "processing 1 image(s)\n",
      "time spent: running network 1.05s; flow+mask computation 0.03\n",
      "estimated masks for 1 image(s) in 1.09 sec\n",
      ">>>> TOTAL TIME 1.09 sec\n",
      "-- normalized foci intensity for ms2 is 1.2081600801506116\n",
      "-- tracking cell at timepoint 3.\n",
      "++++++++++++++++++++++++++++++++++++++++++++++++++++++++++++++++++++++++++++++++++\n",
      ">>>> using CPU\n",
      "Running test snippet to check if MKL-DNN working\n",
      "see https://pytorch.org/docs/stable/backends.html?highlight=mkl\n",
      "** MKL version working - CPU version is sped up. **\n"
     ]
    },
    {
     "name": "stderr",
     "output_type": "stream",
     "text": [
      "C:\\Users\\Shiwei\\AppData\\Roaming\\Python\\Python37\\site-packages\\ipykernel_launcher.py:183: UserWarning: D:\\Analyzed_CellBio\\Stam\\Lac_Ms_live\\210914_263_pos23\\mask_cell_2\\Pos11_DNA_t3.tif is a boolean image: setting True to 255 and False to 0. To silence this warning, please convert the image using img_as_ubyte.\n",
      "C:\\Users\\Shiwei\\AppData\\Roaming\\Python\\Python37\\site-packages\\ipykernel_launcher.py:183: UserWarning: D:\\Analyzed_CellBio\\Stam\\Lac_Ms_live\\210914_263_pos23\\mask_cell_2\\Pos11_Lac_t3.tif is a boolean image: setting True to 255 and False to 0. To silence this warning, please convert the image using img_as_ubyte.\n"
     ]
    },
    {
     "name": "stdout",
     "output_type": "stream",
     "text": [
      "processing 1 image(s)\n",
      "time spent: running network 1.00s; flow+mask computation 0.03\n",
      "estimated masks for 1 image(s) in 1.04 sec\n",
      ">>>> TOTAL TIME 1.04 sec\n",
      "-- normalized foci intensity for ms2 is 0.8638531105239291\n",
      "-- tracking cell at timepoint 4.\n",
      "++++++++++++++++++++++++++++++++++++++++++++++++++++++++++++++++++++++++++++++++++\n",
      ">>>> using CPU\n",
      "Running test snippet to check if MKL-DNN working\n",
      "see https://pytorch.org/docs/stable/backends.html?highlight=mkl\n",
      "** MKL version working - CPU version is sped up. **\n"
     ]
    },
    {
     "name": "stderr",
     "output_type": "stream",
     "text": [
      "C:\\Users\\Shiwei\\AppData\\Roaming\\Python\\Python37\\site-packages\\ipykernel_launcher.py:183: UserWarning: D:\\Analyzed_CellBio\\Stam\\Lac_Ms_live\\210914_263_pos23\\mask_cell_2\\Pos11_DNA_t4.tif is a boolean image: setting True to 255 and False to 0. To silence this warning, please convert the image using img_as_ubyte.\n",
      "C:\\Users\\Shiwei\\AppData\\Roaming\\Python\\Python37\\site-packages\\ipykernel_launcher.py:183: UserWarning: D:\\Analyzed_CellBio\\Stam\\Lac_Ms_live\\210914_263_pos23\\mask_cell_2\\Pos11_Lac_t4.tif is a boolean image: setting True to 255 and False to 0. To silence this warning, please convert the image using img_as_ubyte.\n"
     ]
    },
    {
     "name": "stdout",
     "output_type": "stream",
     "text": [
      "processing 1 image(s)\n",
      "time spent: running network 1.05s; flow+mask computation 0.03\n",
      "estimated masks for 1 image(s) in 1.09 sec\n",
      ">>>> TOTAL TIME 1.09 sec\n"
     ]
    },
    {
     "name": "stderr",
     "output_type": "stream",
     "text": [
      "C:\\Users\\Shiwei\\AppData\\Roaming\\Python\\Python37\\site-packages\\ipykernel_launcher.py:38: UserWarning: Only one label was provided to `remove_small_objects`. Did you mean to use a boolean array?\n"
     ]
    },
    {
     "name": "stdout",
     "output_type": "stream",
     "text": [
      "-- normalized foci intensity for ms2 is 1.0659930545495024\n",
      "-- tracking cell at timepoint 5.\n",
      "++++++++++++++++++++++++++++++++++++++++++++++++++++++++++++++++++++++++++++++++++\n",
      ">>>> using CPU\n",
      "Running test snippet to check if MKL-DNN working\n",
      "see https://pytorch.org/docs/stable/backends.html?highlight=mkl\n",
      "** MKL version working - CPU version is sped up. **\n"
     ]
    },
    {
     "name": "stderr",
     "output_type": "stream",
     "text": [
      "C:\\Users\\Shiwei\\AppData\\Roaming\\Python\\Python37\\site-packages\\ipykernel_launcher.py:183: UserWarning: D:\\Analyzed_CellBio\\Stam\\Lac_Ms_live\\210914_263_pos23\\mask_cell_2\\Pos11_DNA_t5.tif is a boolean image: setting True to 255 and False to 0. To silence this warning, please convert the image using img_as_ubyte.\n",
      "C:\\Users\\Shiwei\\AppData\\Roaming\\Python\\Python37\\site-packages\\ipykernel_launcher.py:183: UserWarning: D:\\Analyzed_CellBio\\Stam\\Lac_Ms_live\\210914_263_pos23\\mask_cell_2\\Pos11_Lac_t5.tif is a boolean image: setting True to 255 and False to 0. To silence this warning, please convert the image using img_as_ubyte.\n"
     ]
    },
    {
     "name": "stdout",
     "output_type": "stream",
     "text": [
      "processing 1 image(s)\n",
      "time spent: running network 1.02s; flow+mask computation 0.03\n",
      "estimated masks for 1 image(s) in 1.05 sec\n",
      ">>>> TOTAL TIME 1.05 sec\n",
      "-- normalized foci intensity for ms2 is 1.0853616578147383\n",
      "-- tracking cell at timepoint 6.\n",
      "++++++++++++++++++++++++++++++++++++++++++++++++++++++++++++++++++++++++++++++++++\n",
      ">>>> using CPU\n",
      "Running test snippet to check if MKL-DNN working\n",
      "see https://pytorch.org/docs/stable/backends.html?highlight=mkl\n",
      "** MKL version working - CPU version is sped up. **\n",
      "processing 1 image(s)\n"
     ]
    },
    {
     "name": "stderr",
     "output_type": "stream",
     "text": [
      "C:\\Users\\Shiwei\\AppData\\Roaming\\Python\\Python37\\site-packages\\ipykernel_launcher.py:183: UserWarning: D:\\Analyzed_CellBio\\Stam\\Lac_Ms_live\\210914_263_pos23\\mask_cell_2\\Pos11_DNA_t6.tif is a boolean image: setting True to 255 and False to 0. To silence this warning, please convert the image using img_as_ubyte.\n",
      "C:\\Users\\Shiwei\\AppData\\Roaming\\Python\\Python37\\site-packages\\ipykernel_launcher.py:183: UserWarning: D:\\Analyzed_CellBio\\Stam\\Lac_Ms_live\\210914_263_pos23\\mask_cell_2\\Pos11_Lac_t6.tif is a boolean image: setting True to 255 and False to 0. To silence this warning, please convert the image using img_as_ubyte.\n"
     ]
    },
    {
     "name": "stdout",
     "output_type": "stream",
     "text": [
      "time spent: running network 1.12s; flow+mask computation 0.04\n",
      "estimated masks for 1 image(s) in 1.17 sec\n",
      ">>>> TOTAL TIME 1.17 sec\n",
      "-- normalized foci intensity for ms2 is 1.4009987005382163\n",
      "-- tracking cell at timepoint 7.\n",
      "++++++++++++++++++++++++++++++++++++++++++++++++++++++++++++++++++++++++++++++++++\n",
      ">>>> using CPU\n",
      "Running test snippet to check if MKL-DNN working\n",
      "see https://pytorch.org/docs/stable/backends.html?highlight=mkl\n",
      "** MKL version working - CPU version is sped up. **\n",
      "processing 1 image(s)\n"
     ]
    },
    {
     "name": "stderr",
     "output_type": "stream",
     "text": [
      "C:\\Users\\Shiwei\\AppData\\Roaming\\Python\\Python37\\site-packages\\ipykernel_launcher.py:183: UserWarning: D:\\Analyzed_CellBio\\Stam\\Lac_Ms_live\\210914_263_pos23\\mask_cell_2\\Pos11_DNA_t7.tif is a boolean image: setting True to 255 and False to 0. To silence this warning, please convert the image using img_as_ubyte.\n",
      "C:\\Users\\Shiwei\\AppData\\Roaming\\Python\\Python37\\site-packages\\ipykernel_launcher.py:183: UserWarning: D:\\Analyzed_CellBio\\Stam\\Lac_Ms_live\\210914_263_pos23\\mask_cell_2\\Pos11_Lac_t7.tif is a boolean image: setting True to 255 and False to 0. To silence this warning, please convert the image using img_as_ubyte.\n"
     ]
    },
    {
     "name": "stdout",
     "output_type": "stream",
     "text": [
      "time spent: running network 1.01s; flow+mask computation 0.03\n",
      "estimated masks for 1 image(s) in 1.05 sec\n",
      ">>>> TOTAL TIME 1.05 sec\n",
      "-- normalized foci intensity for ms2 is 1.1772185013667027\n",
      "-- tracking cell at timepoint 8.\n",
      "++++++++++++++++++++++++++++++++++++++++++++++++++++++++++++++++++++++++++++++++++\n",
      ">>>> using CPU\n",
      "Running test snippet to check if MKL-DNN working\n",
      "see https://pytorch.org/docs/stable/backends.html?highlight=mkl\n",
      "** MKL version working - CPU version is sped up. **\n"
     ]
    },
    {
     "name": "stderr",
     "output_type": "stream",
     "text": [
      "C:\\Users\\Shiwei\\AppData\\Roaming\\Python\\Python37\\site-packages\\ipykernel_launcher.py:183: UserWarning: D:\\Analyzed_CellBio\\Stam\\Lac_Ms_live\\210914_263_pos23\\mask_cell_2\\Pos11_DNA_t8.tif is a boolean image: setting True to 255 and False to 0. To silence this warning, please convert the image using img_as_ubyte.\n",
      "C:\\Users\\Shiwei\\AppData\\Roaming\\Python\\Python37\\site-packages\\ipykernel_launcher.py:183: UserWarning: D:\\Analyzed_CellBio\\Stam\\Lac_Ms_live\\210914_263_pos23\\mask_cell_2\\Pos11_Lac_t8.tif is a boolean image: setting True to 255 and False to 0. To silence this warning, please convert the image using img_as_ubyte.\n"
     ]
    },
    {
     "name": "stdout",
     "output_type": "stream",
     "text": [
      "processing 1 image(s)\n",
      "time spent: running network 1.09s; flow+mask computation 0.03\n",
      "estimated masks for 1 image(s) in 1.13 sec\n",
      ">>>> TOTAL TIME 1.13 sec\n",
      "-- normalized foci intensity for ms2 is 1.3494106949595568\n",
      "-- tracking cell at timepoint 9.\n",
      "++++++++++++++++++++++++++++++++++++++++++++++++++++++++++++++++++++++++++++++++++\n",
      ">>>> using CPU\n",
      "Running test snippet to check if MKL-DNN working\n",
      "see https://pytorch.org/docs/stable/backends.html?highlight=mkl\n",
      "** MKL version working - CPU version is sped up. **\n"
     ]
    },
    {
     "name": "stderr",
     "output_type": "stream",
     "text": [
      "C:\\Users\\Shiwei\\AppData\\Roaming\\Python\\Python37\\site-packages\\ipykernel_launcher.py:183: UserWarning: D:\\Analyzed_CellBio\\Stam\\Lac_Ms_live\\210914_263_pos23\\mask_cell_2\\Pos11_DNA_t9.tif is a boolean image: setting True to 255 and False to 0. To silence this warning, please convert the image using img_as_ubyte.\n",
      "C:\\Users\\Shiwei\\AppData\\Roaming\\Python\\Python37\\site-packages\\ipykernel_launcher.py:183: UserWarning: D:\\Analyzed_CellBio\\Stam\\Lac_Ms_live\\210914_263_pos23\\mask_cell_2\\Pos11_Lac_t9.tif is a boolean image: setting True to 255 and False to 0. To silence this warning, please convert the image using img_as_ubyte.\n"
     ]
    },
    {
     "name": "stdout",
     "output_type": "stream",
     "text": [
      "processing 1 image(s)\n",
      "time spent: running network 1.04s; flow+mask computation 0.04\n",
      "estimated masks for 1 image(s) in 1.09 sec\n",
      ">>>> TOTAL TIME 1.09 sec\n",
      "-- normalized foci intensity for ms2 is 0.9301349384389482\n",
      "-- tracking cell at timepoint 10.\n",
      "++++++++++++++++++++++++++++++++++++++++++++++++++++++++++++++++++++++++++++++++++\n",
      ">>>> using CPU\n",
      "Running test snippet to check if MKL-DNN working\n",
      "see https://pytorch.org/docs/stable/backends.html?highlight=mkl\n",
      "** MKL version working - CPU version is sped up. **\n"
     ]
    },
    {
     "name": "stderr",
     "output_type": "stream",
     "text": [
      "C:\\Users\\Shiwei\\AppData\\Roaming\\Python\\Python37\\site-packages\\ipykernel_launcher.py:183: UserWarning: D:\\Analyzed_CellBio\\Stam\\Lac_Ms_live\\210914_263_pos23\\mask_cell_2\\Pos11_DNA_t10.tif is a boolean image: setting True to 255 and False to 0. To silence this warning, please convert the image using img_as_ubyte.\n",
      "C:\\Users\\Shiwei\\AppData\\Roaming\\Python\\Python37\\site-packages\\ipykernel_launcher.py:183: UserWarning: D:\\Analyzed_CellBio\\Stam\\Lac_Ms_live\\210914_263_pos23\\mask_cell_2\\Pos11_Lac_t10.tif is a boolean image: setting True to 255 and False to 0. To silence this warning, please convert the image using img_as_ubyte.\n"
     ]
    },
    {
     "name": "stdout",
     "output_type": "stream",
     "text": [
      "processing 1 image(s)\n",
      "time spent: running network 0.95s; flow+mask computation 0.03\n",
      "estimated masks for 1 image(s) in 0.99 sec\n",
      ">>>> TOTAL TIME 0.99 sec\n",
      "-- normalized foci intensity for ms2 is 1.0749439230024713\n",
      "-- tracking cell at timepoint 11.\n",
      "++++++++++++++++++++++++++++++++++++++++++++++++++++++++++++++++++++++++++++++++++\n",
      ">>>> using CPU\n",
      "Running test snippet to check if MKL-DNN working\n",
      "see https://pytorch.org/docs/stable/backends.html?highlight=mkl\n",
      "** MKL version working - CPU version is sped up. **\n"
     ]
    },
    {
     "name": "stderr",
     "output_type": "stream",
     "text": [
      "C:\\Users\\Shiwei\\AppData\\Roaming\\Python\\Python37\\site-packages\\ipykernel_launcher.py:183: UserWarning: D:\\Analyzed_CellBio\\Stam\\Lac_Ms_live\\210914_263_pos23\\mask_cell_2\\Pos11_DNA_t11.tif is a boolean image: setting True to 255 and False to 0. To silence this warning, please convert the image using img_as_ubyte.\n",
      "C:\\Users\\Shiwei\\AppData\\Roaming\\Python\\Python37\\site-packages\\ipykernel_launcher.py:183: UserWarning: D:\\Analyzed_CellBio\\Stam\\Lac_Ms_live\\210914_263_pos23\\mask_cell_2\\Pos11_Lac_t11.tif is a boolean image: setting True to 255 and False to 0. To silence this warning, please convert the image using img_as_ubyte.\n"
     ]
    },
    {
     "name": "stdout",
     "output_type": "stream",
     "text": [
      "processing 1 image(s)\n",
      "time spent: running network 1.00s; flow+mask computation 0.03\n",
      "estimated masks for 1 image(s) in 1.04 sec\n",
      ">>>> TOTAL TIME 1.04 sec\n",
      "-- normalized foci intensity for ms2 is 0.9340710147972268\n",
      "-- tracking cell at timepoint 12.\n",
      "++++++++++++++++++++++++++++++++++++++++++++++++++++++++++++++++++++++++++++++++++\n",
      ">>>> using CPU\n",
      "Running test snippet to check if MKL-DNN working\n",
      "see https://pytorch.org/docs/stable/backends.html?highlight=mkl\n",
      "** MKL version working - CPU version is sped up. **\n"
     ]
    },
    {
     "name": "stderr",
     "output_type": "stream",
     "text": [
      "C:\\Users\\Shiwei\\AppData\\Roaming\\Python\\Python37\\site-packages\\ipykernel_launcher.py:183: UserWarning: D:\\Analyzed_CellBio\\Stam\\Lac_Ms_live\\210914_263_pos23\\mask_cell_2\\Pos11_DNA_t12.tif is a boolean image: setting True to 255 and False to 0. To silence this warning, please convert the image using img_as_ubyte.\n",
      "C:\\Users\\Shiwei\\AppData\\Roaming\\Python\\Python37\\site-packages\\ipykernel_launcher.py:183: UserWarning: D:\\Analyzed_CellBio\\Stam\\Lac_Ms_live\\210914_263_pos23\\mask_cell_2\\Pos11_Lac_t12.tif is a boolean image: setting True to 255 and False to 0. To silence this warning, please convert the image using img_as_ubyte.\n"
     ]
    },
    {
     "name": "stdout",
     "output_type": "stream",
     "text": [
      "processing 1 image(s)\n",
      "time spent: running network 1.06s; flow+mask computation 0.03\n",
      "estimated masks for 1 image(s) in 1.10 sec\n",
      ">>>> TOTAL TIME 1.10 sec\n",
      "-- normalized foci intensity for ms2 is 0.9943391336293355\n",
      "-- tracking cell at timepoint 13.\n",
      "++++++++++++++++++++++++++++++++++++++++++++++++++++++++++++++++++++++++++++++++++\n",
      ">>>> using CPU\n",
      "Running test snippet to check if MKL-DNN working\n",
      "see https://pytorch.org/docs/stable/backends.html?highlight=mkl\n",
      "** MKL version working - CPU version is sped up. **\n"
     ]
    },
    {
     "name": "stderr",
     "output_type": "stream",
     "text": [
      "C:\\Users\\Shiwei\\AppData\\Roaming\\Python\\Python37\\site-packages\\ipykernel_launcher.py:183: UserWarning: D:\\Analyzed_CellBio\\Stam\\Lac_Ms_live\\210914_263_pos23\\mask_cell_2\\Pos11_DNA_t13.tif is a boolean image: setting True to 255 and False to 0. To silence this warning, please convert the image using img_as_ubyte.\n",
      "C:\\Users\\Shiwei\\AppData\\Roaming\\Python\\Python37\\site-packages\\ipykernel_launcher.py:183: UserWarning: D:\\Analyzed_CellBio\\Stam\\Lac_Ms_live\\210914_263_pos23\\mask_cell_2\\Pos11_Lac_t13.tif is a boolean image: setting True to 255 and False to 0. To silence this warning, please convert the image using img_as_ubyte.\n"
     ]
    },
    {
     "name": "stdout",
     "output_type": "stream",
     "text": [
      "processing 1 image(s)\n",
      "time spent: running network 1.04s; flow+mask computation 0.03\n",
      "estimated masks for 1 image(s) in 1.07 sec\n",
      ">>>> TOTAL TIME 1.07 sec\n",
      "-- normalized foci intensity for ms2 is 0.6803854454966461\n",
      "-- tracking cell at timepoint 14.\n",
      "++++++++++++++++++++++++++++++++++++++++++++++++++++++++++++++++++++++++++++++++++\n",
      ">>>> using CPU\n",
      "Running test snippet to check if MKL-DNN working\n",
      "see https://pytorch.org/docs/stable/backends.html?highlight=mkl\n",
      "** MKL version working - CPU version is sped up. **\n"
     ]
    },
    {
     "name": "stderr",
     "output_type": "stream",
     "text": [
      "C:\\Users\\Shiwei\\AppData\\Roaming\\Python\\Python37\\site-packages\\ipykernel_launcher.py:183: UserWarning: D:\\Analyzed_CellBio\\Stam\\Lac_Ms_live\\210914_263_pos23\\mask_cell_2\\Pos11_DNA_t14.tif is a boolean image: setting True to 255 and False to 0. To silence this warning, please convert the image using img_as_ubyte.\n",
      "C:\\Users\\Shiwei\\AppData\\Roaming\\Python\\Python37\\site-packages\\ipykernel_launcher.py:183: UserWarning: D:\\Analyzed_CellBio\\Stam\\Lac_Ms_live\\210914_263_pos23\\mask_cell_2\\Pos11_Lac_t14.tif is a boolean image: setting True to 255 and False to 0. To silence this warning, please convert the image using img_as_ubyte.\n"
     ]
    },
    {
     "name": "stdout",
     "output_type": "stream",
     "text": [
      "processing 1 image(s)\n",
      "time spent: running network 0.97s; flow+mask computation 0.05\n",
      "estimated masks for 1 image(s) in 1.02 sec\n",
      ">>>> TOTAL TIME 1.02 sec\n",
      "-- normalized foci intensity for ms2 is 1.1714309733469617\n",
      "-- tracking cell at timepoint 15.\n",
      "++++++++++++++++++++++++++++++++++++++++++++++++++++++++++++++++++++++++++++++++++\n",
      ">>>> using CPU\n",
      "Running test snippet to check if MKL-DNN working\n",
      "see https://pytorch.org/docs/stable/backends.html?highlight=mkl\n",
      "** MKL version working - CPU version is sped up. **\n"
     ]
    },
    {
     "name": "stderr",
     "output_type": "stream",
     "text": [
      "C:\\Users\\Shiwei\\AppData\\Roaming\\Python\\Python37\\site-packages\\ipykernel_launcher.py:183: UserWarning: D:\\Analyzed_CellBio\\Stam\\Lac_Ms_live\\210914_263_pos23\\mask_cell_2\\Pos11_DNA_t15.tif is a boolean image: setting True to 255 and False to 0. To silence this warning, please convert the image using img_as_ubyte.\n",
      "C:\\Users\\Shiwei\\AppData\\Roaming\\Python\\Python37\\site-packages\\ipykernel_launcher.py:183: UserWarning: D:\\Analyzed_CellBio\\Stam\\Lac_Ms_live\\210914_263_pos23\\mask_cell_2\\Pos11_Lac_t15.tif is a boolean image: setting True to 255 and False to 0. To silence this warning, please convert the image using img_as_ubyte.\n"
     ]
    },
    {
     "name": "stdout",
     "output_type": "stream",
     "text": [
      "processing 1 image(s)\n",
      "time spent: running network 0.96s; flow+mask computation 0.03\n",
      "estimated masks for 1 image(s) in 1.01 sec\n",
      ">>>> TOTAL TIME 1.01 sec\n",
      "-- normalized foci intensity for ms2 is 0.7602398283310264\n",
      "-- tracking cell at timepoint 16.\n",
      "++++++++++++++++++++++++++++++++++++++++++++++++++++++++++++++++++++++++++++++++++\n",
      ">>>> using CPU\n",
      "Running test snippet to check if MKL-DNN working\n",
      "see https://pytorch.org/docs/stable/backends.html?highlight=mkl\n",
      "** MKL version working - CPU version is sped up. **\n"
     ]
    },
    {
     "name": "stderr",
     "output_type": "stream",
     "text": [
      "C:\\Users\\Shiwei\\AppData\\Roaming\\Python\\Python37\\site-packages\\ipykernel_launcher.py:183: UserWarning: D:\\Analyzed_CellBio\\Stam\\Lac_Ms_live\\210914_263_pos23\\mask_cell_2\\Pos11_DNA_t16.tif is a boolean image: setting True to 255 and False to 0. To silence this warning, please convert the image using img_as_ubyte.\n",
      "C:\\Users\\Shiwei\\AppData\\Roaming\\Python\\Python37\\site-packages\\ipykernel_launcher.py:183: UserWarning: D:\\Analyzed_CellBio\\Stam\\Lac_Ms_live\\210914_263_pos23\\mask_cell_2\\Pos11_Lac_t16.tif is a boolean image: setting True to 255 and False to 0. To silence this warning, please convert the image using img_as_ubyte.\n"
     ]
    },
    {
     "name": "stdout",
     "output_type": "stream",
     "text": [
      "processing 1 image(s)\n",
      "time spent: running network 0.95s; flow+mask computation 0.03\n",
      "estimated masks for 1 image(s) in 0.99 sec\n",
      ">>>> TOTAL TIME 0.99 sec\n",
      "-- normalized foci intensity for ms2 is 1.0499361049053153\n",
      "-- tracking cell at timepoint 17.\n",
      "++++++++++++++++++++++++++++++++++++++++++++++++++++++++++++++++++++++++++++++++++\n",
      ">>>> using CPU\n",
      "Running test snippet to check if MKL-DNN working\n",
      "see https://pytorch.org/docs/stable/backends.html?highlight=mkl\n",
      "** MKL version working - CPU version is sped up. **\n"
     ]
    },
    {
     "name": "stderr",
     "output_type": "stream",
     "text": [
      "C:\\Users\\Shiwei\\AppData\\Roaming\\Python\\Python37\\site-packages\\ipykernel_launcher.py:183: UserWarning: D:\\Analyzed_CellBio\\Stam\\Lac_Ms_live\\210914_263_pos23\\mask_cell_2\\Pos11_DNA_t17.tif is a boolean image: setting True to 255 and False to 0. To silence this warning, please convert the image using img_as_ubyte.\n",
      "C:\\Users\\Shiwei\\AppData\\Roaming\\Python\\Python37\\site-packages\\ipykernel_launcher.py:183: UserWarning: D:\\Analyzed_CellBio\\Stam\\Lac_Ms_live\\210914_263_pos23\\mask_cell_2\\Pos11_Lac_t17.tif is a boolean image: setting True to 255 and False to 0. To silence this warning, please convert the image using img_as_ubyte.\n"
     ]
    },
    {
     "name": "stdout",
     "output_type": "stream",
     "text": [
      "processing 1 image(s)\n",
      "time spent: running network 0.96s; flow+mask computation 0.03\n",
      "estimated masks for 1 image(s) in 1.00 sec\n",
      ">>>> TOTAL TIME 1.00 sec\n",
      "-- normalized foci intensity for ms2 is 1.01624055985633\n",
      "-- tracking cell at timepoint 18.\n",
      "++++++++++++++++++++++++++++++++++++++++++++++++++++++++++++++++++++++++++++++++++\n"
     ]
    },
    {
     "name": "stderr",
     "output_type": "stream",
     "text": [
      "C:\\Users\\Shiwei\\AppData\\Roaming\\Python\\Python37\\site-packages\\ipykernel_launcher.py:183: UserWarning: D:\\Analyzed_CellBio\\Stam\\Lac_Ms_live\\210914_263_pos23\\mask_cell_2\\Pos11_DNA_t18.tif is a boolean image: setting True to 255 and False to 0. To silence this warning, please convert the image using img_as_ubyte.\n",
      "C:\\Users\\Shiwei\\AppData\\Roaming\\Python\\Python37\\site-packages\\ipykernel_launcher.py:183: UserWarning: D:\\Analyzed_CellBio\\Stam\\Lac_Ms_live\\210914_263_pos23\\mask_cell_2\\Pos11_Lac_t18.tif is a boolean image: setting True to 255 and False to 0. To silence this warning, please convert the image using img_as_ubyte.\n"
     ]
    },
    {
     "name": "stdout",
     "output_type": "stream",
     "text": [
      ">>>> using CPU\n",
      "Running test snippet to check if MKL-DNN working\n",
      "see https://pytorch.org/docs/stable/backends.html?highlight=mkl\n",
      "** MKL version working - CPU version is sped up. **\n",
      "processing 1 image(s)\n",
      "time spent: running network 1.02s; flow+mask computation 0.03\n",
      "estimated masks for 1 image(s) in 1.06 sec\n",
      ">>>> TOTAL TIME 1.06 sec\n",
      "-- normalized foci intensity for ms2 is 1.1302056307144273\n",
      "-- tracking cell at timepoint 19.\n",
      "++++++++++++++++++++++++++++++++++++++++++++++++++++++++++++++++++++++++++++++++++\n",
      ">>>> using CPU\n",
      "Running test snippet to check if MKL-DNN working\n",
      "see https://pytorch.org/docs/stable/backends.html?highlight=mkl\n",
      "** MKL version working - CPU version is sped up. **\n"
     ]
    },
    {
     "name": "stderr",
     "output_type": "stream",
     "text": [
      "C:\\Users\\Shiwei\\AppData\\Roaming\\Python\\Python37\\site-packages\\ipykernel_launcher.py:183: UserWarning: D:\\Analyzed_CellBio\\Stam\\Lac_Ms_live\\210914_263_pos23\\mask_cell_2\\Pos11_DNA_t19.tif is a boolean image: setting True to 255 and False to 0. To silence this warning, please convert the image using img_as_ubyte.\n",
      "C:\\Users\\Shiwei\\AppData\\Roaming\\Python\\Python37\\site-packages\\ipykernel_launcher.py:183: UserWarning: D:\\Analyzed_CellBio\\Stam\\Lac_Ms_live\\210914_263_pos23\\mask_cell_2\\Pos11_Lac_t19.tif is a boolean image: setting True to 255 and False to 0. To silence this warning, please convert the image using img_as_ubyte.\n"
     ]
    },
    {
     "name": "stdout",
     "output_type": "stream",
     "text": [
      "processing 1 image(s)\n",
      "time spent: running network 0.92s; flow+mask computation 0.05\n",
      "estimated masks for 1 image(s) in 0.97 sec\n",
      ">>>> TOTAL TIME 0.97 sec\n",
      "-- normalized foci intensity for ms2 is 1.0280901849079827\n",
      "-- tracking cell at timepoint 20.\n",
      "++++++++++++++++++++++++++++++++++++++++++++++++++++++++++++++++++++++++++++++++++\n",
      ">>>> using CPU\n",
      "Running test snippet to check if MKL-DNN working\n",
      "see https://pytorch.org/docs/stable/backends.html?highlight=mkl\n",
      "** MKL version working - CPU version is sped up. **\n"
     ]
    },
    {
     "name": "stderr",
     "output_type": "stream",
     "text": [
      "C:\\Users\\Shiwei\\AppData\\Roaming\\Python\\Python37\\site-packages\\ipykernel_launcher.py:183: UserWarning: D:\\Analyzed_CellBio\\Stam\\Lac_Ms_live\\210914_263_pos23\\mask_cell_2\\Pos11_DNA_t20.tif is a boolean image: setting True to 255 and False to 0. To silence this warning, please convert the image using img_as_ubyte.\n",
      "C:\\Users\\Shiwei\\AppData\\Roaming\\Python\\Python37\\site-packages\\ipykernel_launcher.py:183: UserWarning: D:\\Analyzed_CellBio\\Stam\\Lac_Ms_live\\210914_263_pos23\\mask_cell_2\\Pos11_Lac_t20.tif is a boolean image: setting True to 255 and False to 0. To silence this warning, please convert the image using img_as_ubyte.\n"
     ]
    },
    {
     "name": "stdout",
     "output_type": "stream",
     "text": [
      "processing 1 image(s)\n",
      "time spent: running network 1.01s; flow+mask computation 0.03\n",
      "estimated masks for 1 image(s) in 1.05 sec\n",
      ">>>> TOTAL TIME 1.05 sec\n",
      "-- normalized foci intensity for ms2 is 1.527650320305319\n",
      "-- tracking cell at timepoint 21.\n",
      "++++++++++++++++++++++++++++++++++++++++++++++++++++++++++++++++++++++++++++++++++\n",
      ">>>> using CPU\n",
      "Running test snippet to check if MKL-DNN working\n",
      "see https://pytorch.org/docs/stable/backends.html?highlight=mkl\n",
      "** MKL version working - CPU version is sped up. **\n"
     ]
    },
    {
     "name": "stderr",
     "output_type": "stream",
     "text": [
      "C:\\Users\\Shiwei\\AppData\\Roaming\\Python\\Python37\\site-packages\\ipykernel_launcher.py:183: UserWarning: D:\\Analyzed_CellBio\\Stam\\Lac_Ms_live\\210914_263_pos23\\mask_cell_2\\Pos11_DNA_t21.tif is a boolean image: setting True to 255 and False to 0. To silence this warning, please convert the image using img_as_ubyte.\n",
      "C:\\Users\\Shiwei\\AppData\\Roaming\\Python\\Python37\\site-packages\\ipykernel_launcher.py:183: UserWarning: D:\\Analyzed_CellBio\\Stam\\Lac_Ms_live\\210914_263_pos23\\mask_cell_2\\Pos11_Lac_t21.tif is a boolean image: setting True to 255 and False to 0. To silence this warning, please convert the image using img_as_ubyte.\n"
     ]
    },
    {
     "name": "stdout",
     "output_type": "stream",
     "text": [
      "processing 1 image(s)\n",
      "time spent: running network 1.00s; flow+mask computation 0.03\n",
      "estimated masks for 1 image(s) in 1.04 sec\n",
      ">>>> TOTAL TIME 1.04 sec\n",
      "-- normalized foci intensity for ms2 is 0.8407039975198701\n",
      "-- tracking cell at timepoint 22.\n",
      "++++++++++++++++++++++++++++++++++++++++++++++++++++++++++++++++++++++++++++++++++\n",
      ">>>> using CPU\n",
      "Running test snippet to check if MKL-DNN working\n",
      "see https://pytorch.org/docs/stable/backends.html?highlight=mkl\n",
      "** MKL version working - CPU version is sped up. **\n"
     ]
    },
    {
     "name": "stderr",
     "output_type": "stream",
     "text": [
      "C:\\Users\\Shiwei\\AppData\\Roaming\\Python\\Python37\\site-packages\\ipykernel_launcher.py:183: UserWarning: D:\\Analyzed_CellBio\\Stam\\Lac_Ms_live\\210914_263_pos23\\mask_cell_2\\Pos11_DNA_t22.tif is a boolean image: setting True to 255 and False to 0. To silence this warning, please convert the image using img_as_ubyte.\n",
      "C:\\Users\\Shiwei\\AppData\\Roaming\\Python\\Python37\\site-packages\\ipykernel_launcher.py:183: UserWarning: D:\\Analyzed_CellBio\\Stam\\Lac_Ms_live\\210914_263_pos23\\mask_cell_2\\Pos11_Lac_t22.tif is a boolean image: setting True to 255 and False to 0. To silence this warning, please convert the image using img_as_ubyte.\n"
     ]
    },
    {
     "name": "stdout",
     "output_type": "stream",
     "text": [
      "processing 1 image(s)\n",
      "time spent: running network 1.06s; flow+mask computation 0.04\n",
      "estimated masks for 1 image(s) in 1.10 sec\n",
      ">>>> TOTAL TIME 1.10 sec\n",
      "-- normalized foci intensity for ms2 is 1.1580820458603232\n",
      "-- tracking cell at timepoint 23.\n",
      "++++++++++++++++++++++++++++++++++++++++++++++++++++++++++++++++++++++++++++++++++\n",
      ">>>> using CPU\n",
      "Running test snippet to check if MKL-DNN working\n",
      "see https://pytorch.org/docs/stable/backends.html?highlight=mkl\n",
      "** MKL version working - CPU version is sped up. **\n",
      "processing 1 image(s)\n"
     ]
    },
    {
     "name": "stderr",
     "output_type": "stream",
     "text": [
      "C:\\Users\\Shiwei\\AppData\\Roaming\\Python\\Python37\\site-packages\\ipykernel_launcher.py:183: UserWarning: D:\\Analyzed_CellBio\\Stam\\Lac_Ms_live\\210914_263_pos23\\mask_cell_2\\Pos11_DNA_t23.tif is a boolean image: setting True to 255 and False to 0. To silence this warning, please convert the image using img_as_ubyte.\n",
      "C:\\Users\\Shiwei\\AppData\\Roaming\\Python\\Python37\\site-packages\\ipykernel_launcher.py:183: UserWarning: D:\\Analyzed_CellBio\\Stam\\Lac_Ms_live\\210914_263_pos23\\mask_cell_2\\Pos11_Lac_t23.tif is a boolean image: setting True to 255 and False to 0. To silence this warning, please convert the image using img_as_ubyte.\n"
     ]
    },
    {
     "name": "stdout",
     "output_type": "stream",
     "text": [
      "time spent: running network 0.95s; flow+mask computation 0.04\n",
      "estimated masks for 1 image(s) in 1.01 sec\n",
      ">>>> TOTAL TIME 1.01 sec\n",
      "-- normalized foci intensity for ms2 is 1.256221373664883\n",
      "-- tracking cell at timepoint 24.\n",
      "++++++++++++++++++++++++++++++++++++++++++++++++++++++++++++++++++++++++++++++++++\n",
      ">>>> using CPU\n",
      "Running test snippet to check if MKL-DNN working\n",
      "see https://pytorch.org/docs/stable/backends.html?highlight=mkl\n",
      "** MKL version working - CPU version is sped up. **\n"
     ]
    },
    {
     "name": "stderr",
     "output_type": "stream",
     "text": [
      "C:\\Users\\Shiwei\\AppData\\Roaming\\Python\\Python37\\site-packages\\ipykernel_launcher.py:183: UserWarning: D:\\Analyzed_CellBio\\Stam\\Lac_Ms_live\\210914_263_pos23\\mask_cell_2\\Pos11_DNA_t24.tif is a boolean image: setting True to 255 and False to 0. To silence this warning, please convert the image using img_as_ubyte.\n",
      "C:\\Users\\Shiwei\\AppData\\Roaming\\Python\\Python37\\site-packages\\ipykernel_launcher.py:183: UserWarning: D:\\Analyzed_CellBio\\Stam\\Lac_Ms_live\\210914_263_pos23\\mask_cell_2\\Pos11_Lac_t24.tif is a boolean image: setting True to 255 and False to 0. To silence this warning, please convert the image using img_as_ubyte.\n"
     ]
    },
    {
     "name": "stdout",
     "output_type": "stream",
     "text": [
      "processing 1 image(s)\n",
      "time spent: running network 1.09s; flow+mask computation 0.03\n",
      "estimated masks for 1 image(s) in 1.13 sec\n",
      ">>>> TOTAL TIME 1.13 sec\n",
      "-- normalized foci intensity for ms2 is 0.9101179373753849\n",
      "-- tracking cell at timepoint 25.\n",
      "++++++++++++++++++++++++++++++++++++++++++++++++++++++++++++++++++++++++++++++++++\n",
      ">>>> using CPU\n",
      "Running test snippet to check if MKL-DNN working\n",
      "see https://pytorch.org/docs/stable/backends.html?highlight=mkl\n",
      "** MKL version working - CPU version is sped up. **\n",
      "processing 1 image(s)\n"
     ]
    },
    {
     "name": "stderr",
     "output_type": "stream",
     "text": [
      "C:\\Users\\Shiwei\\AppData\\Roaming\\Python\\Python37\\site-packages\\ipykernel_launcher.py:183: UserWarning: D:\\Analyzed_CellBio\\Stam\\Lac_Ms_live\\210914_263_pos23\\mask_cell_2\\Pos11_DNA_t25.tif is a boolean image: setting True to 255 and False to 0. To silence this warning, please convert the image using img_as_ubyte.\n",
      "C:\\Users\\Shiwei\\AppData\\Roaming\\Python\\Python37\\site-packages\\ipykernel_launcher.py:183: UserWarning: D:\\Analyzed_CellBio\\Stam\\Lac_Ms_live\\210914_263_pos23\\mask_cell_2\\Pos11_Lac_t25.tif is a boolean image: setting True to 255 and False to 0. To silence this warning, please convert the image using img_as_ubyte.\n"
     ]
    },
    {
     "name": "stdout",
     "output_type": "stream",
     "text": [
      "time spent: running network 0.97s; flow+mask computation 0.05\n",
      "estimated masks for 1 image(s) in 1.03 sec\n",
      ">>>> TOTAL TIME 1.03 sec\n",
      "-- normalized foci intensity for ms2 is 1.1972820503576023\n",
      "-- tracking cell at timepoint 26.\n",
      "++++++++++++++++++++++++++++++++++++++++++++++++++++++++++++++++++++++++++++++++++\n",
      ">>>> using CPU\n",
      "Running test snippet to check if MKL-DNN working\n",
      "see https://pytorch.org/docs/stable/backends.html?highlight=mkl\n",
      "** MKL version working - CPU version is sped up. **\n"
     ]
    },
    {
     "name": "stderr",
     "output_type": "stream",
     "text": [
      "C:\\Users\\Shiwei\\AppData\\Roaming\\Python\\Python37\\site-packages\\ipykernel_launcher.py:183: UserWarning: D:\\Analyzed_CellBio\\Stam\\Lac_Ms_live\\210914_263_pos23\\mask_cell_2\\Pos11_DNA_t26.tif is a boolean image: setting True to 255 and False to 0. To silence this warning, please convert the image using img_as_ubyte.\n",
      "C:\\Users\\Shiwei\\AppData\\Roaming\\Python\\Python37\\site-packages\\ipykernel_launcher.py:183: UserWarning: D:\\Analyzed_CellBio\\Stam\\Lac_Ms_live\\210914_263_pos23\\mask_cell_2\\Pos11_Lac_t26.tif is a boolean image: setting True to 255 and False to 0. To silence this warning, please convert the image using img_as_ubyte.\n"
     ]
    },
    {
     "name": "stdout",
     "output_type": "stream",
     "text": [
      "processing 1 image(s)\n",
      "time spent: running network 0.95s; flow+mask computation 0.03\n",
      "estimated masks for 1 image(s) in 0.99 sec\n",
      ">>>> TOTAL TIME 0.99 sec\n",
      "-- normalized foci intensity for ms2 is 1.2486268082400298\n",
      "-- tracking cell at timepoint 27.\n",
      "++++++++++++++++++++++++++++++++++++++++++++++++++++++++++++++++++++++++++++++++++\n",
      ">>>> using CPU"
     ]
    },
    {
     "name": "stderr",
     "output_type": "stream",
     "text": [
      "C:\\Users\\Shiwei\\AppData\\Roaming\\Python\\Python37\\site-packages\\ipykernel_launcher.py:183: UserWarning: D:\\Analyzed_CellBio\\Stam\\Lac_Ms_live\\210914_263_pos23\\mask_cell_2\\Pos11_DNA_t27.tif is a boolean image: setting True to 255 and False to 0. To silence this warning, please convert the image using img_as_ubyte.\n",
      "C:\\Users\\Shiwei\\AppData\\Roaming\\Python\\Python37\\site-packages\\ipykernel_launcher.py:183: UserWarning: D:\\Analyzed_CellBio\\Stam\\Lac_Ms_live\\210914_263_pos23\\mask_cell_2\\Pos11_Lac_t27.tif is a boolean image: setting True to 255 and False to 0. To silence this warning, please convert the image using img_as_ubyte.\n"
     ]
    },
    {
     "name": "stdout",
     "output_type": "stream",
     "text": [
      "\n",
      "Running test snippet to check if MKL-DNN working\n",
      "see https://pytorch.org/docs/stable/backends.html?highlight=mkl\n",
      "** MKL version working - CPU version is sped up. **\n",
      "processing 1 image(s)\n",
      "time spent: running network 0.98s; flow+mask computation 0.03\n",
      "estimated masks for 1 image(s) in 1.02 sec\n",
      ">>>> TOTAL TIME 1.02 sec\n",
      "-- normalized foci intensity for ms2 is 0.8927803465592826\n",
      "-- tracking cell at timepoint 28.\n",
      "++++++++++++++++++++++++++++++++++++++++++++++++++++++++++++++++++++++++++++++++++\n",
      ">>>> using CPU\n",
      "Running test snippet to check if MKL-DNN working\n",
      "see https://pytorch.org/docs/stable/backends.html?highlight=mkl\n",
      "** MKL version working - CPU version is sped up. **\n"
     ]
    },
    {
     "name": "stderr",
     "output_type": "stream",
     "text": [
      "C:\\Users\\Shiwei\\AppData\\Roaming\\Python\\Python37\\site-packages\\ipykernel_launcher.py:183: UserWarning: D:\\Analyzed_CellBio\\Stam\\Lac_Ms_live\\210914_263_pos23\\mask_cell_2\\Pos11_DNA_t28.tif is a boolean image: setting True to 255 and False to 0. To silence this warning, please convert the image using img_as_ubyte.\n",
      "C:\\Users\\Shiwei\\AppData\\Roaming\\Python\\Python37\\site-packages\\ipykernel_launcher.py:183: UserWarning: D:\\Analyzed_CellBio\\Stam\\Lac_Ms_live\\210914_263_pos23\\mask_cell_2\\Pos11_Lac_t28.tif is a boolean image: setting True to 255 and False to 0. To silence this warning, please convert the image using img_as_ubyte.\n"
     ]
    },
    {
     "name": "stdout",
     "output_type": "stream",
     "text": [
      "processing 1 image(s)\n",
      "time spent: running network 1.03s; flow+mask computation 0.04\n",
      "estimated masks for 1 image(s) in 1.08 sec\n",
      ">>>> TOTAL TIME 1.08 sec\n",
      "-- normalized foci intensity for ms2 is 0.9056700522855115\n",
      "-- tracking cell at timepoint 29.\n",
      "++++++++++++++++++++++++++++++++++++++++++++++++++++++++++++++++++++++++++++++++++\n",
      ">>>> using CPU\n",
      "Running test snippet to check if MKL-DNN working\n",
      "see https://pytorch.org/docs/stable/backends.html?highlight=mkl\n",
      "** MKL version working - CPU version is sped up. **\n",
      "processing 1 image(s)\n"
     ]
    },
    {
     "name": "stderr",
     "output_type": "stream",
     "text": [
      "C:\\Users\\Shiwei\\AppData\\Roaming\\Python\\Python37\\site-packages\\ipykernel_launcher.py:183: UserWarning: D:\\Analyzed_CellBio\\Stam\\Lac_Ms_live\\210914_263_pos23\\mask_cell_2\\Pos11_DNA_t29.tif is a boolean image: setting True to 255 and False to 0. To silence this warning, please convert the image using img_as_ubyte.\n",
      "C:\\Users\\Shiwei\\AppData\\Roaming\\Python\\Python37\\site-packages\\ipykernel_launcher.py:183: UserWarning: D:\\Analyzed_CellBio\\Stam\\Lac_Ms_live\\210914_263_pos23\\mask_cell_2\\Pos11_Lac_t29.tif is a boolean image: setting True to 255 and False to 0. To silence this warning, please convert the image using img_as_ubyte.\n"
     ]
    },
    {
     "name": "stdout",
     "output_type": "stream",
     "text": [
      "time spent: running network 1.03s; flow+mask computation 0.03\n",
      "estimated masks for 1 image(s) in 1.07 sec\n",
      ">>>> TOTAL TIME 1.07 sec\n",
      "-- normalized foci intensity for ms2 is 1.1570280774392299\n",
      "-- tracking cell at timepoint 30.\n",
      "++++++++++++++++++++++++++++++++++++++++++++++++++++++++++++++++++++++++++++++++++\n",
      ">>>> using CPU\n",
      "Running test snippet to check if MKL-DNN working\n",
      "see https://pytorch.org/docs/stable/backends.html?highlight=mkl\n",
      "** MKL version working - CPU version is sped up. **\n",
      "processing 1 image(s)\n"
     ]
    },
    {
     "name": "stderr",
     "output_type": "stream",
     "text": [
      "C:\\Users\\Shiwei\\AppData\\Roaming\\Python\\Python37\\site-packages\\ipykernel_launcher.py:183: UserWarning: D:\\Analyzed_CellBio\\Stam\\Lac_Ms_live\\210914_263_pos23\\mask_cell_2\\Pos11_DNA_t30.tif is a boolean image: setting True to 255 and False to 0. To silence this warning, please convert the image using img_as_ubyte.\n",
      "C:\\Users\\Shiwei\\AppData\\Roaming\\Python\\Python37\\site-packages\\ipykernel_launcher.py:183: UserWarning: D:\\Analyzed_CellBio\\Stam\\Lac_Ms_live\\210914_263_pos23\\mask_cell_2\\Pos11_Lac_t30.tif is a boolean image: setting True to 255 and False to 0. To silence this warning, please convert the image using img_as_ubyte.\n"
     ]
    },
    {
     "name": "stdout",
     "output_type": "stream",
     "text": [
      "time spent: running network 0.97s; flow+mask computation 0.03\n",
      "estimated masks for 1 image(s) in 1.01 sec\n",
      ">>>> TOTAL TIME 1.01 sec\n",
      "-- normalized foci intensity for ms2 is 0.8769980153309679\n",
      "-- tracking cell at timepoint 31.\n",
      "++++++++++++++++++++++++++++++++++++++++++++++++++++++++++++++++++++++++++++++++++\n",
      ">>>> using CPU\n",
      "Running test snippet to check if MKL-DNN working\n",
      "see https://pytorch.org/docs/stable/backends.html?highlight=mkl\n",
      "** MKL version working - CPU version is sped up. **\n"
     ]
    },
    {
     "name": "stderr",
     "output_type": "stream",
     "text": [
      "C:\\Users\\Shiwei\\AppData\\Roaming\\Python\\Python37\\site-packages\\ipykernel_launcher.py:183: UserWarning: D:\\Analyzed_CellBio\\Stam\\Lac_Ms_live\\210914_263_pos23\\mask_cell_2\\Pos11_DNA_t31.tif is a boolean image: setting True to 255 and False to 0. To silence this warning, please convert the image using img_as_ubyte.\n",
      "C:\\Users\\Shiwei\\AppData\\Roaming\\Python\\Python37\\site-packages\\ipykernel_launcher.py:183: UserWarning: D:\\Analyzed_CellBio\\Stam\\Lac_Ms_live\\210914_263_pos23\\mask_cell_2\\Pos11_Lac_t31.tif is a boolean image: setting True to 255 and False to 0. To silence this warning, please convert the image using img_as_ubyte.\n"
     ]
    },
    {
     "name": "stdout",
     "output_type": "stream",
     "text": [
      "processing 1 image(s)\n",
      "time spent: running network 0.93s; flow+mask computation 0.04\n",
      "estimated masks for 1 image(s) in 0.98 sec\n",
      ">>>> TOTAL TIME 0.98 sec\n",
      "-- normalized foci intensity for ms2 is 0.9998545462622811\n",
      "-- tracking cell at timepoint 32.\n",
      "++++++++++++++++++++++++++++++++++++++++++++++++++++++++++++++++++++++++++++++++++\n",
      ">>>> using CPU\n",
      "Running test snippet to check if MKL-DNN working\n",
      "see https://pytorch.org/docs/stable/backends.html?highlight=mkl\n",
      "** MKL version working - CPU version is sped up. **\n"
     ]
    },
    {
     "name": "stderr",
     "output_type": "stream",
     "text": [
      "C:\\Users\\Shiwei\\AppData\\Roaming\\Python\\Python37\\site-packages\\ipykernel_launcher.py:183: UserWarning: D:\\Analyzed_CellBio\\Stam\\Lac_Ms_live\\210914_263_pos23\\mask_cell_2\\Pos11_DNA_t32.tif is a boolean image: setting True to 255 and False to 0. To silence this warning, please convert the image using img_as_ubyte.\n",
      "C:\\Users\\Shiwei\\AppData\\Roaming\\Python\\Python37\\site-packages\\ipykernel_launcher.py:183: UserWarning: D:\\Analyzed_CellBio\\Stam\\Lac_Ms_live\\210914_263_pos23\\mask_cell_2\\Pos11_Lac_t32.tif is a boolean image: setting True to 255 and False to 0. To silence this warning, please convert the image using img_as_ubyte.\n"
     ]
    },
    {
     "name": "stdout",
     "output_type": "stream",
     "text": [
      "processing 1 image(s)\n",
      "time spent: running network 0.99s; flow+mask computation 0.04\n",
      "estimated masks for 1 image(s) in 1.04 sec\n",
      ">>>> TOTAL TIME 1.04 sec\n",
      "-- normalized foci intensity for ms2 is 1.0751326762273572\n",
      "-- tracking cell at timepoint 33.\n",
      "++++++++++++++++++++++++++++++++++++++++++++++++++++++++++++++++++++++++++++++++++\n",
      ">>>> using CPU\n",
      "Running test snippet to check if MKL-DNN working\n",
      "see https://pytorch.org/docs/stable/backends.html?highlight=mkl\n",
      "** MKL version working - CPU version is sped up. **\n",
      "processing 1 image(s)\n"
     ]
    },
    {
     "name": "stderr",
     "output_type": "stream",
     "text": [
      "C:\\Users\\Shiwei\\AppData\\Roaming\\Python\\Python37\\site-packages\\ipykernel_launcher.py:183: UserWarning: D:\\Analyzed_CellBio\\Stam\\Lac_Ms_live\\210914_263_pos23\\mask_cell_2\\Pos11_DNA_t33.tif is a boolean image: setting True to 255 and False to 0. To silence this warning, please convert the image using img_as_ubyte.\n",
      "C:\\Users\\Shiwei\\AppData\\Roaming\\Python\\Python37\\site-packages\\ipykernel_launcher.py:183: UserWarning: D:\\Analyzed_CellBio\\Stam\\Lac_Ms_live\\210914_263_pos23\\mask_cell_2\\Pos11_Lac_t33.tif is a boolean image: setting True to 255 and False to 0. To silence this warning, please convert the image using img_as_ubyte.\n"
     ]
    },
    {
     "name": "stdout",
     "output_type": "stream",
     "text": [
      "time spent: running network 0.97s; flow+mask computation 0.04\n",
      "estimated masks for 1 image(s) in 1.02 sec\n",
      ">>>> TOTAL TIME 1.02 sec\n",
      "-- normalized foci intensity for ms2 is 1.237386119047085\n",
      "-- tracking cell at timepoint 34.\n",
      "++++++++++++++++++++++++++++++++++++++++++++++++++++++++++++++++++++++++++++++++++\n",
      ">>>> using CPU\n",
      "Running test snippet to check if MKL-DNN working\n",
      "see https://pytorch.org/docs/stable/backends.html?highlight=mkl\n",
      "** MKL version working - CPU version is sped up. **\n"
     ]
    },
    {
     "name": "stderr",
     "output_type": "stream",
     "text": [
      "C:\\Users\\Shiwei\\AppData\\Roaming\\Python\\Python37\\site-packages\\ipykernel_launcher.py:183: UserWarning: D:\\Analyzed_CellBio\\Stam\\Lac_Ms_live\\210914_263_pos23\\mask_cell_2\\Pos11_DNA_t34.tif is a boolean image: setting True to 255 and False to 0. To silence this warning, please convert the image using img_as_ubyte.\n",
      "C:\\Users\\Shiwei\\AppData\\Roaming\\Python\\Python37\\site-packages\\ipykernel_launcher.py:183: UserWarning: D:\\Analyzed_CellBio\\Stam\\Lac_Ms_live\\210914_263_pos23\\mask_cell_2\\Pos11_Lac_t34.tif is a boolean image: setting True to 255 and False to 0. To silence this warning, please convert the image using img_as_ubyte.\n"
     ]
    },
    {
     "name": "stdout",
     "output_type": "stream",
     "text": [
      "processing 1 image(s)\n",
      "time spent: running network 0.95s; flow+mask computation 0.04\n",
      "estimated masks for 1 image(s) in 1.00 sec\n",
      ">>>> TOTAL TIME 1.00 sec\n",
      "-- normalized foci intensity for ms2 is 0.8412773674456052\n",
      "-- tracking cell at timepoint 35.\n",
      "++++++++++++++++++++++++++++++++++++++++++++++++++++++++++++++++++++++++++++++++++\n",
      ">>>> using CPU\n",
      "Running test snippet to check if MKL-DNN working\n",
      "see https://pytorch.org/docs/stable/backends.html?highlight=mkl\n",
      "** MKL version working - CPU version is sped up. **\n"
     ]
    },
    {
     "name": "stderr",
     "output_type": "stream",
     "text": [
      "C:\\Users\\Shiwei\\AppData\\Roaming\\Python\\Python37\\site-packages\\ipykernel_launcher.py:183: UserWarning: D:\\Analyzed_CellBio\\Stam\\Lac_Ms_live\\210914_263_pos23\\mask_cell_2\\Pos11_DNA_t35.tif is a boolean image: setting True to 255 and False to 0. To silence this warning, please convert the image using img_as_ubyte.\n",
      "C:\\Users\\Shiwei\\AppData\\Roaming\\Python\\Python37\\site-packages\\ipykernel_launcher.py:183: UserWarning: D:\\Analyzed_CellBio\\Stam\\Lac_Ms_live\\210914_263_pos23\\mask_cell_2\\Pos11_Lac_t35.tif is a boolean image: setting True to 255 and False to 0. To silence this warning, please convert the image using img_as_ubyte.\n"
     ]
    },
    {
     "name": "stdout",
     "output_type": "stream",
     "text": [
      "processing 1 image(s)\n",
      "time spent: running network 1.10s; flow+mask computation 0.04\n",
      "estimated masks for 1 image(s) in 1.14 sec\n",
      ">>>> TOTAL TIME 1.14 sec\n",
      "-- normalized foci intensity for ms2 is 0.9777828480496358\n",
      "-- tracking cell at timepoint 36.\n",
      "++++++++++++++++++++++++++++++++++++++++++++++++++++++++++++++++++++++++++++++++++\n",
      ">>>> using CPU\n",
      "Running test snippet to check if MKL-DNN working\n",
      "see https://pytorch.org/docs/stable/backends.html?highlight=mkl\n",
      "** MKL version working - CPU version is sped up. **\n",
      "processing 1 image(s)\n"
     ]
    },
    {
     "name": "stderr",
     "output_type": "stream",
     "text": [
      "C:\\Users\\Shiwei\\AppData\\Roaming\\Python\\Python37\\site-packages\\ipykernel_launcher.py:183: UserWarning: D:\\Analyzed_CellBio\\Stam\\Lac_Ms_live\\210914_263_pos23\\mask_cell_2\\Pos11_DNA_t36.tif is a boolean image: setting True to 255 and False to 0. To silence this warning, please convert the image using img_as_ubyte.\n",
      "C:\\Users\\Shiwei\\AppData\\Roaming\\Python\\Python37\\site-packages\\ipykernel_launcher.py:183: UserWarning: D:\\Analyzed_CellBio\\Stam\\Lac_Ms_live\\210914_263_pos23\\mask_cell_2\\Pos11_Lac_t36.tif is a boolean image: setting True to 255 and False to 0. To silence this warning, please convert the image using img_as_ubyte.\n"
     ]
    },
    {
     "name": "stdout",
     "output_type": "stream",
     "text": [
      "time spent: running network 0.94s; flow+mask computation 0.04\n",
      "estimated masks for 1 image(s) in 0.99 sec\n",
      ">>>> TOTAL TIME 0.99 sec\n",
      "-- normalized foci intensity for ms2 is 0.9273190646089161\n",
      "-- tracking cell at timepoint 37.\n",
      "++++++++++++++++++++++++++++++++++++++++++++++++++++++++++++++++++++++++++++++++++\n",
      ">>>> using CPU\n",
      "Running test snippet to check if MKL-DNN working\n",
      "see https://pytorch.org/docs/stable/backends.html?highlight=mkl\n",
      "** MKL version working - CPU version is sped up. **\n"
     ]
    },
    {
     "name": "stderr",
     "output_type": "stream",
     "text": [
      "C:\\Users\\Shiwei\\AppData\\Roaming\\Python\\Python37\\site-packages\\ipykernel_launcher.py:183: UserWarning: D:\\Analyzed_CellBio\\Stam\\Lac_Ms_live\\210914_263_pos23\\mask_cell_2\\Pos11_DNA_t37.tif is a boolean image: setting True to 255 and False to 0. To silence this warning, please convert the image using img_as_ubyte.\n",
      "C:\\Users\\Shiwei\\AppData\\Roaming\\Python\\Python37\\site-packages\\ipykernel_launcher.py:183: UserWarning: D:\\Analyzed_CellBio\\Stam\\Lac_Ms_live\\210914_263_pos23\\mask_cell_2\\Pos11_Lac_t37.tif is a boolean image: setting True to 255 and False to 0. To silence this warning, please convert the image using img_as_ubyte.\n"
     ]
    },
    {
     "name": "stdout",
     "output_type": "stream",
     "text": [
      "processing 1 image(s)\n",
      "time spent: running network 0.94s; flow+mask computation 0.04\n",
      "estimated masks for 1 image(s) in 0.99 sec\n",
      ">>>> TOTAL TIME 0.99 sec\n",
      "-- normalized foci intensity for ms2 is 0.8837504621698613\n",
      "-- tracking cell at timepoint 38.\n",
      "++++++++++++++++++++++++++++++++++++++++++++++++++++++++++++++++++++++++++++++++++\n",
      ">>>> using CPU\n",
      "Running test snippet to check if MKL-DNN working\n",
      "see https://pytorch.org/docs/stable/backends.html?highlight=mkl\n",
      "** MKL version working - CPU version is sped up. **\n",
      "processing 1 image(s)\n"
     ]
    },
    {
     "name": "stderr",
     "output_type": "stream",
     "text": [
      "C:\\Users\\Shiwei\\AppData\\Roaming\\Python\\Python37\\site-packages\\ipykernel_launcher.py:183: UserWarning: D:\\Analyzed_CellBio\\Stam\\Lac_Ms_live\\210914_263_pos23\\mask_cell_2\\Pos11_DNA_t38.tif is a boolean image: setting True to 255 and False to 0. To silence this warning, please convert the image using img_as_ubyte.\n",
      "C:\\Users\\Shiwei\\AppData\\Roaming\\Python\\Python37\\site-packages\\ipykernel_launcher.py:183: UserWarning: D:\\Analyzed_CellBio\\Stam\\Lac_Ms_live\\210914_263_pos23\\mask_cell_2\\Pos11_Lac_t38.tif is a boolean image: setting True to 255 and False to 0. To silence this warning, please convert the image using img_as_ubyte.\n"
     ]
    },
    {
     "name": "stdout",
     "output_type": "stream",
     "text": [
      "time spent: running network 0.93s; flow+mask computation 0.04\n",
      "estimated masks for 1 image(s) in 0.99 sec\n",
      ">>>> TOTAL TIME 0.99 sec\n",
      "-- normalized foci intensity for ms2 is 1.1166717497259133\n",
      "-- tracking cell at timepoint 39.\n",
      "++++++++++++++++++++++++++++++++++++++++++++++++++++++++++++++++++++++++++++++++++\n",
      ">>>> using CPU\n",
      "Running test snippet to check if MKL-DNN working\n",
      "see https://pytorch.org/docs/stable/backends.html?highlight=mkl\n",
      "** MKL version working - CPU version is sped up. **\n"
     ]
    },
    {
     "name": "stderr",
     "output_type": "stream",
     "text": [
      "C:\\Users\\Shiwei\\AppData\\Roaming\\Python\\Python37\\site-packages\\ipykernel_launcher.py:183: UserWarning: D:\\Analyzed_CellBio\\Stam\\Lac_Ms_live\\210914_263_pos23\\mask_cell_2\\Pos11_DNA_t39.tif is a boolean image: setting True to 255 and False to 0. To silence this warning, please convert the image using img_as_ubyte.\n",
      "C:\\Users\\Shiwei\\AppData\\Roaming\\Python\\Python37\\site-packages\\ipykernel_launcher.py:183: UserWarning: D:\\Analyzed_CellBio\\Stam\\Lac_Ms_live\\210914_263_pos23\\mask_cell_2\\Pos11_Lac_t39.tif is a boolean image: setting True to 255 and False to 0. To silence this warning, please convert the image using img_as_ubyte.\n"
     ]
    },
    {
     "name": "stdout",
     "output_type": "stream",
     "text": [
      "processing 1 image(s)\n",
      "time spent: running network 0.95s; flow+mask computation 0.04\n",
      "estimated masks for 1 image(s) in 1.00 sec\n",
      ">>>> TOTAL TIME 1.00 sec\n",
      "-- normalized foci intensity for ms2 is 1.308314563735247\n",
      "-- tracking cell at timepoint 40.\n",
      "++++++++++++++++++++++++++++++++++++++++++++++++++++++++++++++++++++++++++++++++++\n",
      ">>>> using CPU\n",
      "Running test snippet to check if MKL-DNN working\n",
      "see https://pytorch.org/docs/stable/backends.html?highlight=mkl\n",
      "** MKL version working - CPU version is sped up. **\n"
     ]
    },
    {
     "name": "stderr",
     "output_type": "stream",
     "text": [
      "C:\\Users\\Shiwei\\AppData\\Roaming\\Python\\Python37\\site-packages\\ipykernel_launcher.py:183: UserWarning: D:\\Analyzed_CellBio\\Stam\\Lac_Ms_live\\210914_263_pos23\\mask_cell_2\\Pos11_DNA_t40.tif is a boolean image: setting True to 255 and False to 0. To silence this warning, please convert the image using img_as_ubyte.\n",
      "C:\\Users\\Shiwei\\AppData\\Roaming\\Python\\Python37\\site-packages\\ipykernel_launcher.py:183: UserWarning: D:\\Analyzed_CellBio\\Stam\\Lac_Ms_live\\210914_263_pos23\\mask_cell_2\\Pos11_Lac_t40.tif is a boolean image: setting True to 255 and False to 0. To silence this warning, please convert the image using img_as_ubyte.\n"
     ]
    },
    {
     "name": "stdout",
     "output_type": "stream",
     "text": [
      "processing 1 image(s)\n",
      "time spent: running network 0.99s; flow+mask computation 0.03\n",
      "estimated masks for 1 image(s) in 1.02 sec\n",
      ">>>> TOTAL TIME 1.02 sec\n",
      "-- normalized foci intensity for ms2 is 1.2647295949266475\n",
      "-- tracking cell at timepoint 41.\n",
      "++++++++++++++++++++++++++++++++++++++++++++++++++++++++++++++++++++++++++++++++++\n",
      ">>>> using CPU\n",
      "Running test snippet to check if MKL-DNN working\n",
      "see https://pytorch.org/docs/stable/backends.html?highlight=mkl\n",
      "** MKL version working - CPU version is sped up. **\n"
     ]
    },
    {
     "name": "stderr",
     "output_type": "stream",
     "text": [
      "C:\\Users\\Shiwei\\AppData\\Roaming\\Python\\Python37\\site-packages\\ipykernel_launcher.py:183: UserWarning: D:\\Analyzed_CellBio\\Stam\\Lac_Ms_live\\210914_263_pos23\\mask_cell_2\\Pos11_DNA_t41.tif is a boolean image: setting True to 255 and False to 0. To silence this warning, please convert the image using img_as_ubyte.\n",
      "C:\\Users\\Shiwei\\AppData\\Roaming\\Python\\Python37\\site-packages\\ipykernel_launcher.py:183: UserWarning: D:\\Analyzed_CellBio\\Stam\\Lac_Ms_live\\210914_263_pos23\\mask_cell_2\\Pos11_Lac_t41.tif is a boolean image: setting True to 255 and False to 0. To silence this warning, please convert the image using img_as_ubyte.\n"
     ]
    },
    {
     "name": "stdout",
     "output_type": "stream",
     "text": [
      "processing 1 image(s)\n",
      "time spent: running network 1.09s; flow+mask computation 0.03\n",
      "estimated masks for 1 image(s) in 1.14 sec\n",
      ">>>> TOTAL TIME 1.14 sec\n",
      "-- normalized foci intensity for ms2 is 0.9172148483087418\n",
      "-- tracking cell at timepoint 42.\n",
      "++++++++++++++++++++++++++++++++++++++++++++++++++++++++++++++++++++++++++++++++++\n",
      ">>>> using CPU\n",
      "Running test snippet to check if MKL-DNN working\n",
      "see https://pytorch.org/docs/stable/backends.html?highlight=mkl\n",
      "** MKL version working - CPU version is sped up. **\n"
     ]
    },
    {
     "name": "stderr",
     "output_type": "stream",
     "text": [
      "C:\\Users\\Shiwei\\AppData\\Roaming\\Python\\Python37\\site-packages\\ipykernel_launcher.py:183: UserWarning: D:\\Analyzed_CellBio\\Stam\\Lac_Ms_live\\210914_263_pos23\\mask_cell_2\\Pos11_DNA_t42.tif is a boolean image: setting True to 255 and False to 0. To silence this warning, please convert the image using img_as_ubyte.\n",
      "C:\\Users\\Shiwei\\AppData\\Roaming\\Python\\Python37\\site-packages\\ipykernel_launcher.py:183: UserWarning: D:\\Analyzed_CellBio\\Stam\\Lac_Ms_live\\210914_263_pos23\\mask_cell_2\\Pos11_Lac_t42.tif is a boolean image: setting True to 255 and False to 0. To silence this warning, please convert the image using img_as_ubyte.\n"
     ]
    },
    {
     "name": "stdout",
     "output_type": "stream",
     "text": [
      "processing 1 image(s)\n",
      "time spent: running network 1.12s; flow+mask computation 0.04\n",
      "estimated masks for 1 image(s) in 1.16 sec\n",
      ">>>> TOTAL TIME 1.16 sec\n",
      "-- normalized foci intensity for ms2 is 1.1776263033559677\n",
      "-- tracking cell at timepoint 43.\n",
      "++++++++++++++++++++++++++++++++++++++++++++++++++++++++++++++++++++++++++++++++++\n",
      ">>>> using CPU\n",
      "Running test snippet to check if MKL-DNN working\n",
      "see https://pytorch.org/docs/stable/backends.html?highlight=mkl\n",
      "** MKL version working - CPU version is sped up. **\n"
     ]
    },
    {
     "name": "stderr",
     "output_type": "stream",
     "text": [
      "C:\\Users\\Shiwei\\AppData\\Roaming\\Python\\Python37\\site-packages\\ipykernel_launcher.py:183: UserWarning: D:\\Analyzed_CellBio\\Stam\\Lac_Ms_live\\210914_263_pos23\\mask_cell_2\\Pos11_DNA_t43.tif is a boolean image: setting True to 255 and False to 0. To silence this warning, please convert the image using img_as_ubyte.\n",
      "C:\\Users\\Shiwei\\AppData\\Roaming\\Python\\Python37\\site-packages\\ipykernel_launcher.py:183: UserWarning: D:\\Analyzed_CellBio\\Stam\\Lac_Ms_live\\210914_263_pos23\\mask_cell_2\\Pos11_Lac_t43.tif is a boolean image: setting True to 255 and False to 0. To silence this warning, please convert the image using img_as_ubyte.\n"
     ]
    },
    {
     "name": "stdout",
     "output_type": "stream",
     "text": [
      "processing 1 image(s)\n",
      "time spent: running network 1.01s; flow+mask computation 0.03\n",
      "estimated masks for 1 image(s) in 1.06 sec\n",
      ">>>> TOTAL TIME 1.06 sec\n",
      "-- normalized foci intensity for ms2 is 1.4615334527593153\n",
      "-- tracking cell at timepoint 44.\n",
      "++++++++++++++++++++++++++++++++++++++++++++++++++++++++++++++++++++++++++++++++++\n",
      ">>>> using CPU\n",
      "Running test snippet to check if MKL-DNN working\n",
      "see https://pytorch.org/docs/stable/backends.html?highlight=mkl\n",
      "** MKL version working - CPU version is sped up. **\n"
     ]
    },
    {
     "name": "stderr",
     "output_type": "stream",
     "text": [
      "C:\\Users\\Shiwei\\AppData\\Roaming\\Python\\Python37\\site-packages\\ipykernel_launcher.py:183: UserWarning: D:\\Analyzed_CellBio\\Stam\\Lac_Ms_live\\210914_263_pos23\\mask_cell_2\\Pos11_DNA_t44.tif is a boolean image: setting True to 255 and False to 0. To silence this warning, please convert the image using img_as_ubyte.\n",
      "C:\\Users\\Shiwei\\AppData\\Roaming\\Python\\Python37\\site-packages\\ipykernel_launcher.py:183: UserWarning: D:\\Analyzed_CellBio\\Stam\\Lac_Ms_live\\210914_263_pos23\\mask_cell_2\\Pos11_Lac_t44.tif is a boolean image: setting True to 255 and False to 0. To silence this warning, please convert the image using img_as_ubyte.\n"
     ]
    },
    {
     "name": "stdout",
     "output_type": "stream",
     "text": [
      "processing 1 image(s)\n",
      "time spent: running network 0.94s; flow+mask computation 0.04\n",
      "estimated masks for 1 image(s) in 0.98 sec\n",
      ">>>> TOTAL TIME 0.98 sec\n",
      "-- normalized foci intensity for ms2 is 1.3543292884758238\n",
      "-- tracking cell at timepoint 45.\n",
      "++++++++++++++++++++++++++++++++++++++++++++++++++++++++++++++++++++++++++++++++++\n",
      ">>>> using CPU\n",
      "Running test snippet to check if MKL-DNN working\n",
      "see https://pytorch.org/docs/stable/backends.html?highlight=mkl\n",
      "** MKL version working - CPU version is sped up. **\n"
     ]
    },
    {
     "name": "stderr",
     "output_type": "stream",
     "text": [
      "C:\\Users\\Shiwei\\AppData\\Roaming\\Python\\Python37\\site-packages\\ipykernel_launcher.py:183: UserWarning: D:\\Analyzed_CellBio\\Stam\\Lac_Ms_live\\210914_263_pos23\\mask_cell_2\\Pos11_DNA_t45.tif is a boolean image: setting True to 255 and False to 0. To silence this warning, please convert the image using img_as_ubyte.\n",
      "C:\\Users\\Shiwei\\AppData\\Roaming\\Python\\Python37\\site-packages\\ipykernel_launcher.py:183: UserWarning: D:\\Analyzed_CellBio\\Stam\\Lac_Ms_live\\210914_263_pos23\\mask_cell_2\\Pos11_Lac_t45.tif is a boolean image: setting True to 255 and False to 0. To silence this warning, please convert the image using img_as_ubyte.\n"
     ]
    },
    {
     "name": "stdout",
     "output_type": "stream",
     "text": [
      "processing 1 image(s)\n",
      "time spent: running network 1.01s; flow+mask computation 0.04\n",
      "estimated masks for 1 image(s) in 1.06 sec\n",
      ">>>> TOTAL TIME 1.06 sec\n",
      "-- normalized foci intensity for ms2 is 1.2086369692589976\n",
      "-- tracking cell at timepoint 46.\n",
      "++++++++++++++++++++++++++++++++++++++++++++++++++++++++++++++++++++++++++++++++++\n",
      ">>>> using CPU\n",
      "Running test snippet to check if MKL-DNN working\n",
      "see https://pytorch.org/docs/stable/backends.html?highlight=mkl\n",
      "** MKL version working - CPU version is sped up. **\n"
     ]
    },
    {
     "name": "stderr",
     "output_type": "stream",
     "text": [
      "C:\\Users\\Shiwei\\AppData\\Roaming\\Python\\Python37\\site-packages\\ipykernel_launcher.py:183: UserWarning: D:\\Analyzed_CellBio\\Stam\\Lac_Ms_live\\210914_263_pos23\\mask_cell_2\\Pos11_DNA_t46.tif is a boolean image: setting True to 255 and False to 0. To silence this warning, please convert the image using img_as_ubyte.\n",
      "C:\\Users\\Shiwei\\AppData\\Roaming\\Python\\Python37\\site-packages\\ipykernel_launcher.py:183: UserWarning: D:\\Analyzed_CellBio\\Stam\\Lac_Ms_live\\210914_263_pos23\\mask_cell_2\\Pos11_Lac_t46.tif is a boolean image: setting True to 255 and False to 0. To silence this warning, please convert the image using img_as_ubyte.\n"
     ]
    },
    {
     "name": "stdout",
     "output_type": "stream",
     "text": [
      "processing 1 image(s)\n",
      "time spent: running network 0.99s; flow+mask computation 0.04\n",
      "estimated masks for 1 image(s) in 1.03 sec\n",
      ">>>> TOTAL TIME 1.03 sec\n",
      "-- normalized foci intensity for ms2 is 1.0408847956324683\n",
      "-- tracking cell at timepoint 47.\n",
      "++++++++++++++++++++++++++++++++++++++++++++++++++++++++++++++++++++++++++++++++++\n",
      ">>>> using CPU\n",
      "Running test snippet to check if MKL-DNN working\n",
      "see https://pytorch.org/docs/stable/backends.html?highlight=mkl\n",
      "** MKL version working - CPU version is sped up. **\n"
     ]
    },
    {
     "name": "stderr",
     "output_type": "stream",
     "text": [
      "C:\\Users\\Shiwei\\AppData\\Roaming\\Python\\Python37\\site-packages\\ipykernel_launcher.py:183: UserWarning: D:\\Analyzed_CellBio\\Stam\\Lac_Ms_live\\210914_263_pos23\\mask_cell_2\\Pos11_DNA_t47.tif is a boolean image: setting True to 255 and False to 0. To silence this warning, please convert the image using img_as_ubyte.\n",
      "C:\\Users\\Shiwei\\AppData\\Roaming\\Python\\Python37\\site-packages\\ipykernel_launcher.py:183: UserWarning: D:\\Analyzed_CellBio\\Stam\\Lac_Ms_live\\210914_263_pos23\\mask_cell_2\\Pos11_Lac_t47.tif is a boolean image: setting True to 255 and False to 0. To silence this warning, please convert the image using img_as_ubyte.\n"
     ]
    },
    {
     "name": "stdout",
     "output_type": "stream",
     "text": [
      "processing 1 image(s)\n",
      "time spent: running network 1.24s; flow+mask computation 0.03\n",
      "estimated masks for 1 image(s) in 1.29 sec\n",
      ">>>> TOTAL TIME 1.29 sec\n",
      "-- normalized foci intensity for ms2 is 1.0543975927009286\n",
      "-- tracking cell at timepoint 48.\n",
      "++++++++++++++++++++++++++++++++++++++++++++++++++++++++++++++++++++++++++++++++++\n",
      ">>>> using CPU\n",
      "Running test snippet to check if MKL-DNN working\n",
      "see https://pytorch.org/docs/stable/backends.html?highlight=mkl\n",
      "** MKL version working - CPU version is sped up. **\n"
     ]
    },
    {
     "name": "stderr",
     "output_type": "stream",
     "text": [
      "C:\\Users\\Shiwei\\AppData\\Roaming\\Python\\Python37\\site-packages\\ipykernel_launcher.py:183: UserWarning: D:\\Analyzed_CellBio\\Stam\\Lac_Ms_live\\210914_263_pos23\\mask_cell_2\\Pos11_DNA_t48.tif is a boolean image: setting True to 255 and False to 0. To silence this warning, please convert the image using img_as_ubyte.\n",
      "C:\\Users\\Shiwei\\AppData\\Roaming\\Python\\Python37\\site-packages\\ipykernel_launcher.py:183: UserWarning: D:\\Analyzed_CellBio\\Stam\\Lac_Ms_live\\210914_263_pos23\\mask_cell_2\\Pos11_Lac_t48.tif is a boolean image: setting True to 255 and False to 0. To silence this warning, please convert the image using img_as_ubyte.\n"
     ]
    },
    {
     "name": "stdout",
     "output_type": "stream",
     "text": [
      "processing 1 image(s)\n",
      "time spent: running network 0.97s; flow+mask computation 0.03\n",
      "estimated masks for 1 image(s) in 1.02 sec\n",
      ">>>> TOTAL TIME 1.02 sec\n",
      "-- normalized foci intensity for ms2 is 1.2979906657029712\n",
      "-- tracking cell at timepoint 49.\n",
      "++++++++++++++++++++++++++++++++++++++++++++++++++++++++++++++++++++++++++++++++++\n",
      ">>>> using CPU\n",
      "Running test snippet to check if MKL-DNN working\n",
      "see https://pytorch.org/docs/stable/backends.html?highlight=mkl\n",
      "** MKL version working - CPU version is sped up. **\n"
     ]
    },
    {
     "name": "stderr",
     "output_type": "stream",
     "text": [
      "C:\\Users\\Shiwei\\AppData\\Roaming\\Python\\Python37\\site-packages\\ipykernel_launcher.py:183: UserWarning: D:\\Analyzed_CellBio\\Stam\\Lac_Ms_live\\210914_263_pos23\\mask_cell_2\\Pos11_DNA_t49.tif is a boolean image: setting True to 255 and False to 0. To silence this warning, please convert the image using img_as_ubyte.\n",
      "C:\\Users\\Shiwei\\AppData\\Roaming\\Python\\Python37\\site-packages\\ipykernel_launcher.py:183: UserWarning: D:\\Analyzed_CellBio\\Stam\\Lac_Ms_live\\210914_263_pos23\\mask_cell_2\\Pos11_Lac_t49.tif is a boolean image: setting True to 255 and False to 0. To silence this warning, please convert the image using img_as_ubyte.\n"
     ]
    },
    {
     "name": "stdout",
     "output_type": "stream",
     "text": [
      "processing 1 image(s)\n",
      "time spent: running network 0.97s; flow+mask computation 0.03\n",
      "estimated masks for 1 image(s) in 1.01 sec\n",
      ">>>> TOTAL TIME 1.01 sec\n",
      "-- normalized foci intensity for ms2 is 1.3010286294975724\n",
      "-- tracking cell at timepoint 50.\n",
      "++++++++++++++++++++++++++++++++++++++++++++++++++++++++++++++++++++++++++++++++++\n",
      ">>>> using CPU"
     ]
    },
    {
     "name": "stderr",
     "output_type": "stream",
     "text": [
      "C:\\Users\\Shiwei\\AppData\\Roaming\\Python\\Python37\\site-packages\\ipykernel_launcher.py:183: UserWarning: D:\\Analyzed_CellBio\\Stam\\Lac_Ms_live\\210914_263_pos23\\mask_cell_2\\Pos11_DNA_t50.tif is a boolean image: setting True to 255 and False to 0. To silence this warning, please convert the image using img_as_ubyte.\n",
      "C:\\Users\\Shiwei\\AppData\\Roaming\\Python\\Python37\\site-packages\\ipykernel_launcher.py:183: UserWarning: D:\\Analyzed_CellBio\\Stam\\Lac_Ms_live\\210914_263_pos23\\mask_cell_2\\Pos11_Lac_t50.tif is a boolean image: setting True to 255 and False to 0. To silence this warning, please convert the image using img_as_ubyte.\n"
     ]
    },
    {
     "name": "stdout",
     "output_type": "stream",
     "text": [
      "\n",
      "Running test snippet to check if MKL-DNN working\n",
      "see https://pytorch.org/docs/stable/backends.html?highlight=mkl\n",
      "** MKL version working - CPU version is sped up. **\n",
      "processing 1 image(s)\n",
      "time spent: running network 0.99s; flow+mask computation 0.03\n",
      "estimated masks for 1 image(s) in 1.03 sec\n",
      ">>>> TOTAL TIME 1.03 sec\n",
      "-- normalized foci intensity for ms2 is 1.302062031090428\n",
      "-- tracking cell at timepoint 51.\n",
      "++++++++++++++++++++++++++++++++++++++++++++++++++++++++++++++++++++++++++++++++++\n",
      ">>>> using CPU"
     ]
    },
    {
     "name": "stderr",
     "output_type": "stream",
     "text": [
      "C:\\Users\\Shiwei\\AppData\\Roaming\\Python\\Python37\\site-packages\\ipykernel_launcher.py:183: UserWarning: D:\\Analyzed_CellBio\\Stam\\Lac_Ms_live\\210914_263_pos23\\mask_cell_2\\Pos11_DNA_t51.tif is a boolean image: setting True to 255 and False to 0. To silence this warning, please convert the image using img_as_ubyte.\n",
      "C:\\Users\\Shiwei\\AppData\\Roaming\\Python\\Python37\\site-packages\\ipykernel_launcher.py:183: UserWarning: D:\\Analyzed_CellBio\\Stam\\Lac_Ms_live\\210914_263_pos23\\mask_cell_2\\Pos11_Lac_t51.tif is a boolean image: setting True to 255 and False to 0. To silence this warning, please convert the image using img_as_ubyte.\n"
     ]
    },
    {
     "name": "stdout",
     "output_type": "stream",
     "text": [
      "\n",
      "Running test snippet to check if MKL-DNN working\n",
      "see https://pytorch.org/docs/stable/backends.html?highlight=mkl\n",
      "** MKL version working - CPU version is sped up. **\n",
      "processing 1 image(s)\n",
      "time spent: running network 1.07s; flow+mask computation 0.03\n",
      "estimated masks for 1 image(s) in 1.11 sec\n",
      ">>>> TOTAL TIME 1.11 sec\n",
      "-- normalized foci intensity for ms2 is 1.212141224302171\n",
      "-- tracking cell at timepoint 52.\n",
      "++++++++++++++++++++++++++++++++++++++++++++++++++++++++++++++++++++++++++++++++++\n",
      ">>>> using CPU\n",
      "Running test snippet to check if MKL-DNN working\n",
      "see https://pytorch.org/docs/stable/backends.html?highlight=mkl"
     ]
    },
    {
     "name": "stderr",
     "output_type": "stream",
     "text": [
      "C:\\Users\\Shiwei\\AppData\\Roaming\\Python\\Python37\\site-packages\\ipykernel_launcher.py:183: UserWarning: D:\\Analyzed_CellBio\\Stam\\Lac_Ms_live\\210914_263_pos23\\mask_cell_2\\Pos11_DNA_t52.tif is a boolean image: setting True to 255 and False to 0. To silence this warning, please convert the image using img_as_ubyte.\n",
      "C:\\Users\\Shiwei\\AppData\\Roaming\\Python\\Python37\\site-packages\\ipykernel_launcher.py:183: UserWarning: D:\\Analyzed_CellBio\\Stam\\Lac_Ms_live\\210914_263_pos23\\mask_cell_2\\Pos11_Lac_t52.tif is a boolean image: setting True to 255 and False to 0. To silence this warning, please convert the image using img_as_ubyte.\n"
     ]
    },
    {
     "name": "stdout",
     "output_type": "stream",
     "text": [
      "\n",
      "** MKL version working - CPU version is sped up. **\n",
      "processing 1 image(s)\n",
      "time spent: running network 1.00s; flow+mask computation 0.03\n",
      "estimated masks for 1 image(s) in 1.04 sec\n",
      ">>>> TOTAL TIME 1.04 sec\n",
      "-- normalized foci intensity for ms2 is 0.7634731714608771\n",
      "-- tracking cell at timepoint 53.\n",
      "++++++++++++++++++++++++++++++++++++++++++++++++++++++++++++++++++++++++++++++++++\n",
      ">>>> using CPU\n",
      "Running test snippet to check if MKL-DNN working\n",
      "see https://pytorch.org/docs/stable/backends.html?highlight=mkl\n",
      "** MKL version working - CPU version is sped up. **\n"
     ]
    },
    {
     "name": "stderr",
     "output_type": "stream",
     "text": [
      "C:\\Users\\Shiwei\\AppData\\Roaming\\Python\\Python37\\site-packages\\ipykernel_launcher.py:183: UserWarning: D:\\Analyzed_CellBio\\Stam\\Lac_Ms_live\\210914_263_pos23\\mask_cell_2\\Pos11_DNA_t53.tif is a boolean image: setting True to 255 and False to 0. To silence this warning, please convert the image using img_as_ubyte.\n",
      "C:\\Users\\Shiwei\\AppData\\Roaming\\Python\\Python37\\site-packages\\ipykernel_launcher.py:183: UserWarning: D:\\Analyzed_CellBio\\Stam\\Lac_Ms_live\\210914_263_pos23\\mask_cell_2\\Pos11_Lac_t53.tif is a boolean image: setting True to 255 and False to 0. To silence this warning, please convert the image using img_as_ubyte.\n"
     ]
    },
    {
     "name": "stdout",
     "output_type": "stream",
     "text": [
      "processing 1 image(s)\n",
      "time spent: running network 1.04s; flow+mask computation 0.04\n",
      "estimated masks for 1 image(s) in 1.09 sec\n",
      ">>>> TOTAL TIME 1.09 sec\n",
      "-- normalized foci intensity for ms2 is 0.8903726099046824\n",
      "-- tracking cell at timepoint 54.\n",
      "++++++++++++++++++++++++++++++++++++++++++++++++++++++++++++++++++++++++++++++++++\n",
      ">>>> using CPU\n",
      "Running test snippet to check if MKL-DNN working\n",
      "see https://pytorch.org/docs/stable/backends.html?highlight=mkl\n",
      "** MKL version working - CPU version is sped up. **\n"
     ]
    },
    {
     "name": "stderr",
     "output_type": "stream",
     "text": [
      "C:\\Users\\Shiwei\\AppData\\Roaming\\Python\\Python37\\site-packages\\ipykernel_launcher.py:183: UserWarning: D:\\Analyzed_CellBio\\Stam\\Lac_Ms_live\\210914_263_pos23\\mask_cell_2\\Pos11_DNA_t54.tif is a boolean image: setting True to 255 and False to 0. To silence this warning, please convert the image using img_as_ubyte.\n",
      "C:\\Users\\Shiwei\\AppData\\Roaming\\Python\\Python37\\site-packages\\ipykernel_launcher.py:183: UserWarning: D:\\Analyzed_CellBio\\Stam\\Lac_Ms_live\\210914_263_pos23\\mask_cell_2\\Pos11_Lac_t54.tif is a boolean image: setting True to 255 and False to 0. To silence this warning, please convert the image using img_as_ubyte.\n"
     ]
    },
    {
     "name": "stdout",
     "output_type": "stream",
     "text": [
      "processing 1 image(s)\n",
      "time spent: running network 1.00s; flow+mask computation 0.03\n",
      "estimated masks for 1 image(s) in 1.04 sec\n",
      ">>>> TOTAL TIME 1.04 sec\n",
      "-- normalized foci intensity for ms2 is 0.9203484339826067\n",
      "-- tracking cell at timepoint 55.\n",
      "++++++++++++++++++++++++++++++++++++++++++++++++++++++++++++++++++++++++++++++++++\n",
      ">>>> using CPU\n",
      "Running test snippet to check if MKL-DNN working\n",
      "see https://pytorch.org/docs/stable/backends.html?highlight=mkl\n",
      "** MKL version working - CPU version is sped up. **\n"
     ]
    },
    {
     "name": "stderr",
     "output_type": "stream",
     "text": [
      "C:\\Users\\Shiwei\\AppData\\Roaming\\Python\\Python37\\site-packages\\ipykernel_launcher.py:183: UserWarning: D:\\Analyzed_CellBio\\Stam\\Lac_Ms_live\\210914_263_pos23\\mask_cell_2\\Pos11_DNA_t55.tif is a boolean image: setting True to 255 and False to 0. To silence this warning, please convert the image using img_as_ubyte.\n",
      "C:\\Users\\Shiwei\\AppData\\Roaming\\Python\\Python37\\site-packages\\ipykernel_launcher.py:183: UserWarning: D:\\Analyzed_CellBio\\Stam\\Lac_Ms_live\\210914_263_pos23\\mask_cell_2\\Pos11_Lac_t55.tif is a boolean image: setting True to 255 and False to 0. To silence this warning, please convert the image using img_as_ubyte.\n"
     ]
    },
    {
     "name": "stdout",
     "output_type": "stream",
     "text": [
      "processing 1 image(s)\n",
      "time spent: running network 0.93s; flow+mask computation 0.03\n",
      "estimated masks for 1 image(s) in 0.97 sec\n",
      ">>>> TOTAL TIME 0.97 sec\n",
      "-- normalized foci intensity for ms2 is 0.8073773769346313\n",
      "-- tracking cell at timepoint 56.\n",
      "++++++++++++++++++++++++++++++++++++++++++++++++++++++++++++++++++++++++++++++++++\n",
      ">>>> using CPU\n"
     ]
    },
    {
     "name": "stderr",
     "output_type": "stream",
     "text": [
      "C:\\Users\\Shiwei\\AppData\\Roaming\\Python\\Python37\\site-packages\\ipykernel_launcher.py:183: UserWarning: D:\\Analyzed_CellBio\\Stam\\Lac_Ms_live\\210914_263_pos23\\mask_cell_2\\Pos11_DNA_t56.tif is a boolean image: setting True to 255 and False to 0. To silence this warning, please convert the image using img_as_ubyte.\n",
      "C:\\Users\\Shiwei\\AppData\\Roaming\\Python\\Python37\\site-packages\\ipykernel_launcher.py:183: UserWarning: D:\\Analyzed_CellBio\\Stam\\Lac_Ms_live\\210914_263_pos23\\mask_cell_2\\Pos11_Lac_t56.tif is a boolean image: setting True to 255 and False to 0. To silence this warning, please convert the image using img_as_ubyte.\n"
     ]
    },
    {
     "name": "stdout",
     "output_type": "stream",
     "text": [
      "Running test snippet to check if MKL-DNN working\n",
      "see https://pytorch.org/docs/stable/backends.html?highlight=mkl\n",
      "** MKL version working - CPU version is sped up. **\n",
      "processing 1 image(s)\n",
      "time spent: running network 0.96s; flow+mask computation 0.04\n",
      "estimated masks for 1 image(s) in 1.00 sec\n",
      ">>>> TOTAL TIME 1.00 sec\n",
      "-- normalized foci intensity for ms2 is 0.7599352332378557\n",
      "-- tracking cell at timepoint 57.\n",
      "++++++++++++++++++++++++++++++++++++++++++++++++++++++++++++++++++++++++++++++++++\n",
      ">>>> using CPU\n",
      "Running test snippet to check if MKL-DNN working\n",
      "see https://pytorch.org/docs/stable/backends.html?highlight=mkl\n",
      "** MKL version working - CPU version is sped up. **\n"
     ]
    },
    {
     "name": "stderr",
     "output_type": "stream",
     "text": [
      "C:\\Users\\Shiwei\\AppData\\Roaming\\Python\\Python37\\site-packages\\ipykernel_launcher.py:183: UserWarning: D:\\Analyzed_CellBio\\Stam\\Lac_Ms_live\\210914_263_pos23\\mask_cell_2\\Pos11_DNA_t57.tif is a boolean image: setting True to 255 and False to 0. To silence this warning, please convert the image using img_as_ubyte.\n",
      "C:\\Users\\Shiwei\\AppData\\Roaming\\Python\\Python37\\site-packages\\ipykernel_launcher.py:183: UserWarning: D:\\Analyzed_CellBio\\Stam\\Lac_Ms_live\\210914_263_pos23\\mask_cell_2\\Pos11_Lac_t57.tif is a boolean image: setting True to 255 and False to 0. To silence this warning, please convert the image using img_as_ubyte.\n"
     ]
    },
    {
     "name": "stdout",
     "output_type": "stream",
     "text": [
      "processing 1 image(s)\n",
      "time spent: running network 1.02s; flow+mask computation 0.03\n",
      "estimated masks for 1 image(s) in 1.06 sec\n",
      ">>>> TOTAL TIME 1.06 sec\n",
      "-- normalized foci intensity for ms2 is 1.2874087396749128\n",
      "-- tracking cell at timepoint 58.\n",
      "++++++++++++++++++++++++++++++++++++++++++++++++++++++++++++++++++++++++++++++++++\n",
      ">>>> using CPU\n",
      "Running test snippet to check if MKL-DNN working\n",
      "see https://pytorch.org/docs/stable/backends.html?highlight=mkl\n",
      "** MKL version working - CPU version is sped up. **\n",
      "processing 1 image(s)\n"
     ]
    },
    {
     "name": "stderr",
     "output_type": "stream",
     "text": [
      "C:\\Users\\Shiwei\\AppData\\Roaming\\Python\\Python37\\site-packages\\ipykernel_launcher.py:183: UserWarning: D:\\Analyzed_CellBio\\Stam\\Lac_Ms_live\\210914_263_pos23\\mask_cell_2\\Pos11_DNA_t58.tif is a boolean image: setting True to 255 and False to 0. To silence this warning, please convert the image using img_as_ubyte.\n",
      "C:\\Users\\Shiwei\\AppData\\Roaming\\Python\\Python37\\site-packages\\ipykernel_launcher.py:183: UserWarning: D:\\Analyzed_CellBio\\Stam\\Lac_Ms_live\\210914_263_pos23\\mask_cell_2\\Pos11_Lac_t58.tif is a boolean image: setting True to 255 and False to 0. To silence this warning, please convert the image using img_as_ubyte.\n"
     ]
    },
    {
     "name": "stdout",
     "output_type": "stream",
     "text": [
      "time spent: running network 1.02s; flow+mask computation 0.04\n",
      "estimated masks for 1 image(s) in 1.06 sec\n",
      ">>>> TOTAL TIME 1.06 sec\n",
      "-- normalized foci intensity for ms2 is 1.0975487348103337\n",
      "-- tracking cell at timepoint 59.\n",
      "++++++++++++++++++++++++++++++++++++++++++++++++++++++++++++++++++++++++++++++++++\n",
      ">>>> using CPU\n",
      "Running test snippet to check if MKL-DNN working\n",
      "see https://pytorch.org/docs/stable/backends.html?highlight=mkl\n",
      "** MKL version working - CPU version is sped up. **\n"
     ]
    },
    {
     "name": "stderr",
     "output_type": "stream",
     "text": [
      "C:\\Users\\Shiwei\\AppData\\Roaming\\Python\\Python37\\site-packages\\ipykernel_launcher.py:183: UserWarning: D:\\Analyzed_CellBio\\Stam\\Lac_Ms_live\\210914_263_pos23\\mask_cell_2\\Pos11_DNA_t59.tif is a boolean image: setting True to 255 and False to 0. To silence this warning, please convert the image using img_as_ubyte.\n",
      "C:\\Users\\Shiwei\\AppData\\Roaming\\Python\\Python37\\site-packages\\ipykernel_launcher.py:183: UserWarning: D:\\Analyzed_CellBio\\Stam\\Lac_Ms_live\\210914_263_pos23\\mask_cell_2\\Pos11_Lac_t59.tif is a boolean image: setting True to 255 and False to 0. To silence this warning, please convert the image using img_as_ubyte.\n"
     ]
    },
    {
     "name": "stdout",
     "output_type": "stream",
     "text": [
      "processing 1 image(s)\n",
      "time spent: running network 1.07s; flow+mask computation 0.05\n",
      "estimated masks for 1 image(s) in 1.13 sec\n",
      ">>>> TOTAL TIME 1.13 sec\n",
      "-- normalized foci intensity for ms2 is 1.1774326284417782\n",
      "-- tracking cell at timepoint 60.\n",
      "++++++++++++++++++++++++++++++++++++++++++++++++++++++++++++++++++++++++++++++++++\n",
      ">>>> using CPU\n",
      "Running test snippet to check if MKL-DNN working\n",
      "see https://pytorch.org/docs/stable/backends.html?highlight=mkl\n",
      "** MKL version working - CPU version is sped up. **\n"
     ]
    },
    {
     "name": "stderr",
     "output_type": "stream",
     "text": [
      "C:\\Users\\Shiwei\\AppData\\Roaming\\Python\\Python37\\site-packages\\ipykernel_launcher.py:183: UserWarning: D:\\Analyzed_CellBio\\Stam\\Lac_Ms_live\\210914_263_pos23\\mask_cell_2\\Pos11_DNA_t60.tif is a boolean image: setting True to 255 and False to 0. To silence this warning, please convert the image using img_as_ubyte.\n",
      "C:\\Users\\Shiwei\\AppData\\Roaming\\Python\\Python37\\site-packages\\ipykernel_launcher.py:183: UserWarning: D:\\Analyzed_CellBio\\Stam\\Lac_Ms_live\\210914_263_pos23\\mask_cell_2\\Pos11_Lac_t60.tif is a boolean image: setting True to 255 and False to 0. To silence this warning, please convert the image using img_as_ubyte.\n"
     ]
    },
    {
     "name": "stdout",
     "output_type": "stream",
     "text": [
      "processing 1 image(s)\n",
      "time spent: running network 1.02s; flow+mask computation 0.02\n",
      "estimated masks for 1 image(s) in 1.05 sec\n",
      ">>>> TOTAL TIME 1.05 sec\n",
      "-- tracking cell at timepoint 61.\n",
      "++++++++++++++++++++++++++++++++++++++++++++++++++++++++++++++++++++++++++++++++++\n",
      ">>>> using CPU\n",
      "Running test snippet to check if MKL-DNN working\n",
      "see https://pytorch.org/docs/stable/backends.html?highlight=mkl\n",
      "** MKL version working - CPU version is sped up. **\n",
      "processing 1 image(s)\n",
      "time spent: running network 1.07s; flow+mask computation 0.02\n",
      "estimated masks for 1 image(s) in 1.10 sec\n",
      ">>>> TOTAL TIME 1.10 sec\n",
      "-- tracking cell at timepoint 62.\n",
      "++++++++++++++++++++++++++++++++++++++++++++++++++++++++++++++++++++++++++++++++++\n",
      ">>>> using CPU\n",
      "Running test snippet to check if MKL-DNN working\n",
      "see https://pytorch.org/docs/stable/backends.html?highlight=mkl\n",
      "** MKL version working - CPU version is sped up. **\n",
      "processing 1 image(s)\n",
      "time spent: running network 0.98s; flow+mask computation 0.02\n",
      "estimated masks for 1 image(s) in 1.01 sec\n",
      ">>>> TOTAL TIME 1.01 sec\n",
      "-- tracking cell at timepoint 63.\n",
      "++++++++++++++++++++++++++++++++++++++++++++++++++++++++++++++++++++++++++++++++++\n",
      ">>>> using CPU\n",
      "Running test snippet to check if MKL-DNN working\n",
      "see https://pytorch.org/docs/stable/backends.html?highlight=mkl\n",
      "** MKL version working - CPU version is sped up. **\n",
      "processing 1 image(s)\n",
      "time spent: running network 1.04s; flow+mask computation 0.04\n",
      "estimated masks for 1 image(s) in 1.08 sec\n",
      ">>>> TOTAL TIME 1.08 sec\n",
      "-- tracking cell at timepoint 64.\n",
      "++++++++++++++++++++++++++++++++++++++++++++++++++++++++++++++++++++++++++++++++++\n",
      ">>>> using CPU\n",
      "Running test snippet to check if MKL-DNN working\n",
      "see https://pytorch.org/docs/stable/backends.html?highlight=mkl\n",
      "** MKL version working - CPU version is sped up. **\n",
      "processing 1 image(s)\n",
      "time spent: running network 0.97s; flow+mask computation 0.04\n",
      "estimated masks for 1 image(s) in 1.02 sec\n",
      ">>>> TOTAL TIME 1.02 sec\n",
      "-- tracking cell at timepoint 65.\n",
      "++++++++++++++++++++++++++++++++++++++++++++++++++++++++++++++++++++++++++++++++++\n",
      ">>>> using CPU\n",
      "Running test snippet to check if MKL-DNN working\n",
      "see https://pytorch.org/docs/stable/backends.html?highlight=mkl\n",
      "** MKL version working - CPU version is sped up. **\n",
      "processing 1 image(s)\n",
      "time spent: running network 1.02s; flow+mask computation 0.04\n",
      "estimated masks for 1 image(s) in 1.07 sec\n",
      ">>>> TOTAL TIME 1.07 sec\n",
      "-- normalized foci intensity for ms2 is 1.5790439557743678\n",
      "-- tracking cell at timepoint 66.\n",
      "++++++++++++++++++++++++++++++++++++++++++++++++++++++++++++++++++++++++++++++++++\n",
      ">>>> using CPU\n",
      "Running test snippet to check if MKL-DNN working\n",
      "see https://pytorch.org/docs/stable/backends.html?highlight=mkl\n",
      "** MKL version working - CPU version is sped up. **\n"
     ]
    },
    {
     "name": "stderr",
     "output_type": "stream",
     "text": [
      "C:\\Users\\Shiwei\\AppData\\Roaming\\Python\\Python37\\site-packages\\ipykernel_launcher.py:183: UserWarning: D:\\Analyzed_CellBio\\Stam\\Lac_Ms_live\\210914_263_pos23\\mask_cell_2\\Pos11_DNA_t66.tif is a boolean image: setting True to 255 and False to 0. To silence this warning, please convert the image using img_as_ubyte.\n",
      "C:\\Users\\Shiwei\\AppData\\Roaming\\Python\\Python37\\site-packages\\ipykernel_launcher.py:183: UserWarning: D:\\Analyzed_CellBio\\Stam\\Lac_Ms_live\\210914_263_pos23\\mask_cell_2\\Pos11_Lac_t66.tif is a boolean image: setting True to 255 and False to 0. To silence this warning, please convert the image using img_as_ubyte.\n"
     ]
    },
    {
     "name": "stdout",
     "output_type": "stream",
     "text": [
      "processing 1 image(s)\n",
      "time spent: running network 0.98s; flow+mask computation 0.06\n",
      "estimated masks for 1 image(s) in 1.04 sec\n",
      ">>>> TOTAL TIME 1.04 sec\n",
      "-- normalized foci intensity for ms2 is 1.5112945798247608\n",
      "-- tracking cell at timepoint 67.\n",
      "++++++++++++++++++++++++++++++++++++++++++++++++++++++++++++++++++++++++++++++++++\n",
      ">>>> using CPU\n",
      "Running test snippet to check if MKL-DNN working\n",
      "see https://pytorch.org/docs/stable/backends.html?highlight=mkl\n",
      "** MKL version working - CPU version is sped up. **\n"
     ]
    },
    {
     "name": "stderr",
     "output_type": "stream",
     "text": [
      "C:\\Users\\Shiwei\\AppData\\Roaming\\Python\\Python37\\site-packages\\ipykernel_launcher.py:183: UserWarning: D:\\Analyzed_CellBio\\Stam\\Lac_Ms_live\\210914_263_pos23\\mask_cell_2\\Pos11_DNA_t67.tif is a boolean image: setting True to 255 and False to 0. To silence this warning, please convert the image using img_as_ubyte.\n",
      "C:\\Users\\Shiwei\\AppData\\Roaming\\Python\\Python37\\site-packages\\ipykernel_launcher.py:183: UserWarning: D:\\Analyzed_CellBio\\Stam\\Lac_Ms_live\\210914_263_pos23\\mask_cell_2\\Pos11_Lac_t67.tif is a boolean image: setting True to 255 and False to 0. To silence this warning, please convert the image using img_as_ubyte.\n"
     ]
    },
    {
     "name": "stdout",
     "output_type": "stream",
     "text": [
      "processing 1 image(s)\n",
      "time spent: running network 0.92s; flow+mask computation 0.05\n",
      "estimated masks for 1 image(s) in 0.98 sec\n",
      ">>>> TOTAL TIME 0.98 sec\n",
      "-- normalized foci intensity for ms2 is 2.502281048546583\n",
      "-- tracking cell at timepoint 68.\n",
      "++++++++++++++++++++++++++++++++++++++++++++++++++++++++++++++++++++++++++++++++++\n",
      ">>>> using CPU\n",
      "Running test snippet to check if MKL-DNN working\n",
      "see https://pytorch.org/docs/stable/backends.html?highlight=mkl\n",
      "** MKL version working - CPU version is sped up. **\n"
     ]
    },
    {
     "name": "stderr",
     "output_type": "stream",
     "text": [
      "C:\\Users\\Shiwei\\AppData\\Roaming\\Python\\Python37\\site-packages\\ipykernel_launcher.py:183: UserWarning: D:\\Analyzed_CellBio\\Stam\\Lac_Ms_live\\210914_263_pos23\\mask_cell_2\\Pos11_DNA_t68.tif is a boolean image: setting True to 255 and False to 0. To silence this warning, please convert the image using img_as_ubyte.\n",
      "C:\\Users\\Shiwei\\AppData\\Roaming\\Python\\Python37\\site-packages\\ipykernel_launcher.py:183: UserWarning: D:\\Analyzed_CellBio\\Stam\\Lac_Ms_live\\210914_263_pos23\\mask_cell_2\\Pos11_Lac_t68.tif is a boolean image: setting True to 255 and False to 0. To silence this warning, please convert the image using img_as_ubyte.\n"
     ]
    },
    {
     "name": "stdout",
     "output_type": "stream",
     "text": [
      "processing 1 image(s)\n",
      "time spent: running network 1.03s; flow+mask computation 0.04\n",
      "estimated masks for 1 image(s) in 1.08 sec\n",
      ">>>> TOTAL TIME 1.08 sec\n",
      "-- normalized foci intensity for ms2 is 1.6780035253009098\n",
      "-- tracking cell at timepoint 69.\n",
      "++++++++++++++++++++++++++++++++++++++++++++++++++++++++++++++++++++++++++++++++++\n",
      ">>>> using CPU\n",
      "Running test snippet to check if MKL-DNN working\n",
      "see https://pytorch.org/docs/stable/backends.html?highlight=mkl\n",
      "** MKL version working - CPU version is sped up. **\n"
     ]
    },
    {
     "name": "stderr",
     "output_type": "stream",
     "text": [
      "C:\\Users\\Shiwei\\AppData\\Roaming\\Python\\Python37\\site-packages\\ipykernel_launcher.py:183: UserWarning: D:\\Analyzed_CellBio\\Stam\\Lac_Ms_live\\210914_263_pos23\\mask_cell_2\\Pos11_DNA_t69.tif is a boolean image: setting True to 255 and False to 0. To silence this warning, please convert the image using img_as_ubyte.\n",
      "C:\\Users\\Shiwei\\AppData\\Roaming\\Python\\Python37\\site-packages\\ipykernel_launcher.py:183: UserWarning: D:\\Analyzed_CellBio\\Stam\\Lac_Ms_live\\210914_263_pos23\\mask_cell_2\\Pos11_Lac_t69.tif is a boolean image: setting True to 255 and False to 0. To silence this warning, please convert the image using img_as_ubyte.\n"
     ]
    },
    {
     "name": "stdout",
     "output_type": "stream",
     "text": [
      "processing 1 image(s)\n",
      "time spent: running network 1.03s; flow+mask computation 0.04\n",
      "estimated masks for 1 image(s) in 1.09 sec\n",
      ">>>> TOTAL TIME 1.09 sec\n",
      "-- normalized foci intensity for ms2 is 2.411785959019019\n",
      "-- tracking cell at timepoint 70.\n",
      "++++++++++++++++++++++++++++++++++++++++++++++++++++++++++++++++++++++++++++++++++\n",
      ">>>> using CPU\n",
      "Running test snippet to check if MKL-DNN working\n",
      "see https://pytorch.org/docs/stable/backends.html?highlight=mkl\n",
      "** MKL version working - CPU version is sped up. **\n"
     ]
    },
    {
     "name": "stderr",
     "output_type": "stream",
     "text": [
      "C:\\Users\\Shiwei\\AppData\\Roaming\\Python\\Python37\\site-packages\\ipykernel_launcher.py:183: UserWarning: D:\\Analyzed_CellBio\\Stam\\Lac_Ms_live\\210914_263_pos23\\mask_cell_2\\Pos11_DNA_t70.tif is a boolean image: setting True to 255 and False to 0. To silence this warning, please convert the image using img_as_ubyte.\n",
      "C:\\Users\\Shiwei\\AppData\\Roaming\\Python\\Python37\\site-packages\\ipykernel_launcher.py:183: UserWarning: D:\\Analyzed_CellBio\\Stam\\Lac_Ms_live\\210914_263_pos23\\mask_cell_2\\Pos11_Lac_t70.tif is a boolean image: setting True to 255 and False to 0. To silence this warning, please convert the image using img_as_ubyte.\n"
     ]
    },
    {
     "name": "stdout",
     "output_type": "stream",
     "text": [
      "processing 1 image(s)\n",
      "time spent: running network 0.93s; flow+mask computation 0.04\n",
      "estimated masks for 1 image(s) in 0.98 sec\n",
      ">>>> TOTAL TIME 0.98 sec\n",
      "-- normalized foci intensity for ms2 is 1.7805507775430935\n",
      "-- tracking cell at timepoint 71.\n",
      "++++++++++++++++++++++++++++++++++++++++++++++++++++++++++++++++++++++++++++++++++\n",
      ">>>> using CPU\n",
      "Running test snippet to check if MKL-DNN working\n",
      "see https://pytorch.org/docs/stable/backends.html?highlight=mkl\n",
      "** MKL version working - CPU version is sped up. **\n"
     ]
    },
    {
     "name": "stderr",
     "output_type": "stream",
     "text": [
      "C:\\Users\\Shiwei\\AppData\\Roaming\\Python\\Python37\\site-packages\\ipykernel_launcher.py:183: UserWarning: D:\\Analyzed_CellBio\\Stam\\Lac_Ms_live\\210914_263_pos23\\mask_cell_2\\Pos11_DNA_t71.tif is a boolean image: setting True to 255 and False to 0. To silence this warning, please convert the image using img_as_ubyte.\n",
      "C:\\Users\\Shiwei\\AppData\\Roaming\\Python\\Python37\\site-packages\\ipykernel_launcher.py:183: UserWarning: D:\\Analyzed_CellBio\\Stam\\Lac_Ms_live\\210914_263_pos23\\mask_cell_2\\Pos11_Lac_t71.tif is a boolean image: setting True to 255 and False to 0. To silence this warning, please convert the image using img_as_ubyte.\n"
     ]
    },
    {
     "name": "stdout",
     "output_type": "stream",
     "text": [
      "processing 1 image(s)\n",
      "time spent: running network 1.02s; flow+mask computation 0.04\n",
      "estimated masks for 1 image(s) in 1.08 sec\n",
      ">>>> TOTAL TIME 1.08 sec\n",
      "-- normalized foci intensity for ms2 is 2.0676673689224\n",
      "-- tracking cell at timepoint 72.\n",
      "++++++++++++++++++++++++++++++++++++++++++++++++++++++++++++++++++++++++++++++++++\n",
      ">>>> using CPU\n",
      "Running test snippet to check if MKL-DNN working\n",
      "see https://pytorch.org/docs/stable/backends.html?highlight=mkl\n",
      "** MKL version working - CPU version is sped up. **\n"
     ]
    },
    {
     "name": "stderr",
     "output_type": "stream",
     "text": [
      "C:\\Users\\Shiwei\\AppData\\Roaming\\Python\\Python37\\site-packages\\ipykernel_launcher.py:183: UserWarning: D:\\Analyzed_CellBio\\Stam\\Lac_Ms_live\\210914_263_pos23\\mask_cell_2\\Pos11_DNA_t72.tif is a boolean image: setting True to 255 and False to 0. To silence this warning, please convert the image using img_as_ubyte.\n",
      "C:\\Users\\Shiwei\\AppData\\Roaming\\Python\\Python37\\site-packages\\ipykernel_launcher.py:183: UserWarning: D:\\Analyzed_CellBio\\Stam\\Lac_Ms_live\\210914_263_pos23\\mask_cell_2\\Pos11_Lac_t72.tif is a boolean image: setting True to 255 and False to 0. To silence this warning, please convert the image using img_as_ubyte.\n"
     ]
    },
    {
     "name": "stdout",
     "output_type": "stream",
     "text": [
      "processing 1 image(s)\n",
      "time spent: running network 0.97s; flow+mask computation 0.05\n",
      "estimated masks for 1 image(s) in 1.02 sec\n",
      ">>>> TOTAL TIME 1.02 sec\n",
      "-- normalized foci intensity for ms2 is 1.8662780634139646\n",
      "-- tracking cell at timepoint 73.\n",
      "++++++++++++++++++++++++++++++++++++++++++++++++++++++++++++++++++++++++++++++++++\n",
      ">>>> using CPU"
     ]
    },
    {
     "name": "stderr",
     "output_type": "stream",
     "text": [
      "C:\\Users\\Shiwei\\AppData\\Roaming\\Python\\Python37\\site-packages\\ipykernel_launcher.py:183: UserWarning: D:\\Analyzed_CellBio\\Stam\\Lac_Ms_live\\210914_263_pos23\\mask_cell_2\\Pos11_DNA_t73.tif is a boolean image: setting True to 255 and False to 0. To silence this warning, please convert the image using img_as_ubyte.\n",
      "C:\\Users\\Shiwei\\AppData\\Roaming\\Python\\Python37\\site-packages\\ipykernel_launcher.py:183: UserWarning: D:\\Analyzed_CellBio\\Stam\\Lac_Ms_live\\210914_263_pos23\\mask_cell_2\\Pos11_Lac_t73.tif is a boolean image: setting True to 255 and False to 0. To silence this warning, please convert the image using img_as_ubyte.\n"
     ]
    },
    {
     "name": "stdout",
     "output_type": "stream",
     "text": [
      "\n",
      "Running test snippet to check if MKL-DNN working\n",
      "see https://pytorch.org/docs/stable/backends.html?highlight=mkl\n",
      "** MKL version working - CPU version is sped up. **\n",
      "processing 1 image(s)\n",
      "time spent: running network 1.03s; flow+mask computation 0.07\n",
      "estimated masks for 1 image(s) in 1.10 sec\n",
      ">>>> TOTAL TIME 1.10 sec\n",
      "-- normalized foci intensity for ms2 is 2.318365300772742\n",
      "-- tracking cell at timepoint 74.\n",
      "++++++++++++++++++++++++++++++++++++++++++++++++++++++++++++++++++++++++++++++++++\n",
      ">>>> using CPU\n",
      "Running test snippet to check if MKL-DNN working\n",
      "see https://pytorch.org/docs/stable/backends.html?highlight=mkl\n",
      "** MKL version working - CPU version is sped up. **\n",
      "processing 1 image(s)\n"
     ]
    },
    {
     "name": "stderr",
     "output_type": "stream",
     "text": [
      "C:\\Users\\Shiwei\\AppData\\Roaming\\Python\\Python37\\site-packages\\ipykernel_launcher.py:183: UserWarning: D:\\Analyzed_CellBio\\Stam\\Lac_Ms_live\\210914_263_pos23\\mask_cell_2\\Pos11_DNA_t74.tif is a boolean image: setting True to 255 and False to 0. To silence this warning, please convert the image using img_as_ubyte.\n",
      "C:\\Users\\Shiwei\\AppData\\Roaming\\Python\\Python37\\site-packages\\ipykernel_launcher.py:183: UserWarning: D:\\Analyzed_CellBio\\Stam\\Lac_Ms_live\\210914_263_pos23\\mask_cell_2\\Pos11_Lac_t74.tif is a boolean image: setting True to 255 and False to 0. To silence this warning, please convert the image using img_as_ubyte.\n"
     ]
    },
    {
     "name": "stdout",
     "output_type": "stream",
     "text": [
      "time spent: running network 1.09s; flow+mask computation 0.05\n",
      "estimated masks for 1 image(s) in 1.15 sec\n",
      ">>>> TOTAL TIME 1.15 sec\n",
      "-- normalized foci intensity for ms2 is 2.2918405237239146\n",
      "-- tracking cell at timepoint 75.\n",
      "++++++++++++++++++++++++++++++++++++++++++++++++++++++++++++++++++++++++++++++++++\n",
      ">>>> using CPU\n",
      "Running test snippet to check if MKL-DNN working\n",
      "see https://pytorch.org/docs/stable/backends.html?highlight=mkl\n",
      "** MKL version working - CPU version is sped up. **\n",
      "processing 1 image(s)\n"
     ]
    },
    {
     "name": "stderr",
     "output_type": "stream",
     "text": [
      "C:\\Users\\Shiwei\\AppData\\Roaming\\Python\\Python37\\site-packages\\ipykernel_launcher.py:183: UserWarning: D:\\Analyzed_CellBio\\Stam\\Lac_Ms_live\\210914_263_pos23\\mask_cell_2\\Pos11_DNA_t75.tif is a boolean image: setting True to 255 and False to 0. To silence this warning, please convert the image using img_as_ubyte.\n",
      "C:\\Users\\Shiwei\\AppData\\Roaming\\Python\\Python37\\site-packages\\ipykernel_launcher.py:183: UserWarning: D:\\Analyzed_CellBio\\Stam\\Lac_Ms_live\\210914_263_pos23\\mask_cell_2\\Pos11_Lac_t75.tif is a boolean image: setting True to 255 and False to 0. To silence this warning, please convert the image using img_as_ubyte.\n"
     ]
    },
    {
     "name": "stdout",
     "output_type": "stream",
     "text": [
      "time spent: running network 0.98s; flow+mask computation 0.06\n",
      "estimated masks for 1 image(s) in 1.04 sec\n",
      ">>>> TOTAL TIME 1.04 sec\n",
      "-- normalized foci intensity for ms2 is 2.7405438347628026\n",
      "-- tracking cell at timepoint 76.\n",
      "++++++++++++++++++++++++++++++++++++++++++++++++++++++++++++++++++++++++++++++++++\n",
      ">>>> using CPU\n",
      "Running test snippet to check if MKL-DNN working\n",
      "see https://pytorch.org/docs/stable/backends.html?highlight=mkl\n",
      "** MKL version working - CPU version is sped up. **\n",
      "processing 1 image(s)\n"
     ]
    },
    {
     "name": "stderr",
     "output_type": "stream",
     "text": [
      "C:\\Users\\Shiwei\\AppData\\Roaming\\Python\\Python37\\site-packages\\ipykernel_launcher.py:183: UserWarning: D:\\Analyzed_CellBio\\Stam\\Lac_Ms_live\\210914_263_pos23\\mask_cell_2\\Pos11_DNA_t76.tif is a boolean image: setting True to 255 and False to 0. To silence this warning, please convert the image using img_as_ubyte.\n",
      "C:\\Users\\Shiwei\\AppData\\Roaming\\Python\\Python37\\site-packages\\ipykernel_launcher.py:183: UserWarning: D:\\Analyzed_CellBio\\Stam\\Lac_Ms_live\\210914_263_pos23\\mask_cell_2\\Pos11_Lac_t76.tif is a boolean image: setting True to 255 and False to 0. To silence this warning, please convert the image using img_as_ubyte.\n"
     ]
    },
    {
     "name": "stdout",
     "output_type": "stream",
     "text": [
      "time spent: running network 0.99s; flow+mask computation 0.04\n",
      "estimated masks for 1 image(s) in 1.04 sec\n",
      ">>>> TOTAL TIME 1.04 sec\n",
      "-- normalized foci intensity for ms2 is 5.194289781016365\n",
      "-- tracking cell at timepoint 77.\n",
      "++++++++++++++++++++++++++++++++++++++++++++++++++++++++++++++++++++++++++++++++++\n",
      ">>>> using CPU\n",
      "Running test snippet to check if MKL-DNN working\n",
      "see https://pytorch.org/docs/stable/backends.html?highlight=mkl\n",
      "** MKL version working - CPU version is sped up. **\n"
     ]
    },
    {
     "name": "stderr",
     "output_type": "stream",
     "text": [
      "C:\\Users\\Shiwei\\AppData\\Roaming\\Python\\Python37\\site-packages\\ipykernel_launcher.py:183: UserWarning: D:\\Analyzed_CellBio\\Stam\\Lac_Ms_live\\210914_263_pos23\\mask_cell_2\\Pos11_DNA_t77.tif is a boolean image: setting True to 255 and False to 0. To silence this warning, please convert the image using img_as_ubyte.\n",
      "C:\\Users\\Shiwei\\AppData\\Roaming\\Python\\Python37\\site-packages\\ipykernel_launcher.py:183: UserWarning: D:\\Analyzed_CellBio\\Stam\\Lac_Ms_live\\210914_263_pos23\\mask_cell_2\\Pos11_Lac_t77.tif is a boolean image: setting True to 255 and False to 0. To silence this warning, please convert the image using img_as_ubyte.\n"
     ]
    },
    {
     "name": "stdout",
     "output_type": "stream",
     "text": [
      "processing 1 image(s)\n",
      "time spent: running network 0.95s; flow+mask computation 0.07\n",
      "estimated masks for 1 image(s) in 1.03 sec\n",
      ">>>> TOTAL TIME 1.03 sec\n",
      "-- normalized foci intensity for ms2 is 6.730282543085647\n",
      "-- tracking cell at timepoint 78.\n",
      "++++++++++++++++++++++++++++++++++++++++++++++++++++++++++++++++++++++++++++++++++\n",
      ">>>> using CPU\n",
      "Running test snippet to check if MKL-DNN working\n",
      "see https://pytorch.org/docs/stable/backends.html?highlight=mkl\n",
      "** MKL version working - CPU version is sped up. **\n"
     ]
    },
    {
     "name": "stderr",
     "output_type": "stream",
     "text": [
      "C:\\Users\\Shiwei\\AppData\\Roaming\\Python\\Python37\\site-packages\\ipykernel_launcher.py:183: UserWarning: D:\\Analyzed_CellBio\\Stam\\Lac_Ms_live\\210914_263_pos23\\mask_cell_2\\Pos11_DNA_t78.tif is a boolean image: setting True to 255 and False to 0. To silence this warning, please convert the image using img_as_ubyte.\n",
      "C:\\Users\\Shiwei\\AppData\\Roaming\\Python\\Python37\\site-packages\\ipykernel_launcher.py:183: UserWarning: D:\\Analyzed_CellBio\\Stam\\Lac_Ms_live\\210914_263_pos23\\mask_cell_2\\Pos11_Lac_t78.tif is a boolean image: setting True to 255 and False to 0. To silence this warning, please convert the image using img_as_ubyte.\n"
     ]
    },
    {
     "name": "stdout",
     "output_type": "stream",
     "text": [
      "processing 1 image(s)\n",
      "time spent: running network 1.05s; flow+mask computation 0.06\n",
      "estimated masks for 1 image(s) in 1.12 sec\n",
      ">>>> TOTAL TIME 1.12 sec\n",
      "-- normalized foci intensity for ms2 is 6.820715377638588\n",
      "-- tracking cell at timepoint 79.\n",
      "++++++++++++++++++++++++++++++++++++++++++++++++++++++++++++++++++++++++++++++++++\n",
      ">>>> using CPU\n",
      "Running test snippet to check if MKL-DNN working\n",
      "see https://pytorch.org/docs/stable/backends.html?highlight=mkl\n",
      "** MKL version working - CPU version is sped up. **\n"
     ]
    },
    {
     "name": "stderr",
     "output_type": "stream",
     "text": [
      "C:\\Users\\Shiwei\\AppData\\Roaming\\Python\\Python37\\site-packages\\ipykernel_launcher.py:183: UserWarning: D:\\Analyzed_CellBio\\Stam\\Lac_Ms_live\\210914_263_pos23\\mask_cell_2\\Pos11_DNA_t79.tif is a boolean image: setting True to 255 and False to 0. To silence this warning, please convert the image using img_as_ubyte.\n",
      "C:\\Users\\Shiwei\\AppData\\Roaming\\Python\\Python37\\site-packages\\ipykernel_launcher.py:183: UserWarning: D:\\Analyzed_CellBio\\Stam\\Lac_Ms_live\\210914_263_pos23\\mask_cell_2\\Pos11_Lac_t79.tif is a boolean image: setting True to 255 and False to 0. To silence this warning, please convert the image using img_as_ubyte.\n"
     ]
    },
    {
     "name": "stdout",
     "output_type": "stream",
     "text": [
      "processing 1 image(s)\n",
      "time spent: running network 0.99s; flow+mask computation 0.04\n",
      "estimated masks for 1 image(s) in 1.04 sec\n",
      ">>>> TOTAL TIME 1.04 sec\n",
      "-- normalized foci intensity for ms2 is 6.787194322889404\n",
      "-- tracking cell at timepoint 80.\n",
      "++++++++++++++++++++++++++++++++++++++++++++++++++++++++++++++++++++++++++++++++++\n",
      ">>>> using CPU\n",
      "Running test snippet to check if MKL-DNN working\n",
      "see https://pytorch.org/docs/stable/backends.html?highlight=mkl\n",
      "** MKL version working - CPU version is sped up. **\n",
      "processing 1 image(s)\n"
     ]
    },
    {
     "name": "stderr",
     "output_type": "stream",
     "text": [
      "C:\\Users\\Shiwei\\AppData\\Roaming\\Python\\Python37\\site-packages\\ipykernel_launcher.py:183: UserWarning: D:\\Analyzed_CellBio\\Stam\\Lac_Ms_live\\210914_263_pos23\\mask_cell_2\\Pos11_DNA_t80.tif is a boolean image: setting True to 255 and False to 0. To silence this warning, please convert the image using img_as_ubyte.\n",
      "C:\\Users\\Shiwei\\AppData\\Roaming\\Python\\Python37\\site-packages\\ipykernel_launcher.py:183: UserWarning: D:\\Analyzed_CellBio\\Stam\\Lac_Ms_live\\210914_263_pos23\\mask_cell_2\\Pos11_Lac_t80.tif is a boolean image: setting True to 255 and False to 0. To silence this warning, please convert the image using img_as_ubyte.\n"
     ]
    },
    {
     "name": "stdout",
     "output_type": "stream",
     "text": [
      "time spent: running network 1.14s; flow+mask computation 0.06\n",
      "estimated masks for 1 image(s) in 1.21 sec\n",
      ">>>> TOTAL TIME 1.21 sec\n",
      "-- normalized foci intensity for ms2 is 5.540301984893657\n",
      "-- tracking cell at timepoint 81.\n",
      "++++++++++++++++++++++++++++++++++++++++++++++++++++++++++++++++++++++++++++++++++\n",
      ">>>> using CPU\n",
      "Running test snippet to check if MKL-DNN working\n",
      "see https://pytorch.org/docs/stable/backends.html?highlight=mkl\n",
      "** MKL version working - CPU version is sped up. **\n"
     ]
    },
    {
     "name": "stderr",
     "output_type": "stream",
     "text": [
      "C:\\Users\\Shiwei\\AppData\\Roaming\\Python\\Python37\\site-packages\\ipykernel_launcher.py:183: UserWarning: D:\\Analyzed_CellBio\\Stam\\Lac_Ms_live\\210914_263_pos23\\mask_cell_2\\Pos11_DNA_t81.tif is a boolean image: setting True to 255 and False to 0. To silence this warning, please convert the image using img_as_ubyte.\n",
      "C:\\Users\\Shiwei\\AppData\\Roaming\\Python\\Python37\\site-packages\\ipykernel_launcher.py:183: UserWarning: D:\\Analyzed_CellBio\\Stam\\Lac_Ms_live\\210914_263_pos23\\mask_cell_2\\Pos11_Lac_t81.tif is a boolean image: setting True to 255 and False to 0. To silence this warning, please convert the image using img_as_ubyte.\n"
     ]
    },
    {
     "name": "stdout",
     "output_type": "stream",
     "text": [
      "processing 1 image(s)\n",
      "time spent: running network 0.94s; flow+mask computation 0.05\n",
      "estimated masks for 1 image(s) in 1.00 sec\n",
      ">>>> TOTAL TIME 1.00 sec\n",
      "-- normalized foci intensity for ms2 is 4.80088760227827\n",
      "-- tracking cell at timepoint 82.\n",
      "++++++++++++++++++++++++++++++++++++++++++++++++++++++++++++++++++++++++++++++++++\n"
     ]
    },
    {
     "name": "stderr",
     "output_type": "stream",
     "text": [
      "C:\\Users\\Shiwei\\AppData\\Roaming\\Python\\Python37\\site-packages\\ipykernel_launcher.py:183: UserWarning: D:\\Analyzed_CellBio\\Stam\\Lac_Ms_live\\210914_263_pos23\\mask_cell_2\\Pos11_DNA_t82.tif is a boolean image: setting True to 255 and False to 0. To silence this warning, please convert the image using img_as_ubyte.\n",
      "C:\\Users\\Shiwei\\AppData\\Roaming\\Python\\Python37\\site-packages\\ipykernel_launcher.py:183: UserWarning: D:\\Analyzed_CellBio\\Stam\\Lac_Ms_live\\210914_263_pos23\\mask_cell_2\\Pos11_Lac_t82.tif is a boolean image: setting True to 255 and False to 0. To silence this warning, please convert the image using img_as_ubyte.\n"
     ]
    },
    {
     "name": "stdout",
     "output_type": "stream",
     "text": [
      ">>>> using CPU\n",
      "Running test snippet to check if MKL-DNN working\n",
      "see https://pytorch.org/docs/stable/backends.html?highlight=mkl\n",
      "** MKL version working - CPU version is sped up. **\n",
      "processing 1 image(s)\n",
      "time spent: running network 0.97s; flow+mask computation 0.07\n",
      "estimated masks for 1 image(s) in 1.04 sec\n",
      ">>>> TOTAL TIME 1.04 sec\n",
      "-- normalized foci intensity for ms2 is 7.083128460485069\n",
      "-- tracking cell at timepoint 83.\n",
      "++++++++++++++++++++++++++++++++++++++++++++++++++++++++++++++++++++++++++++++++++\n",
      ">>>> using CPU\n",
      "Running test snippet to check if MKL-DNN working\n",
      "see https://pytorch.org/docs/stable/backends.html?highlight=mkl\n",
      "** MKL version working - CPU version is sped up. **\n"
     ]
    },
    {
     "name": "stderr",
     "output_type": "stream",
     "text": [
      "C:\\Users\\Shiwei\\AppData\\Roaming\\Python\\Python37\\site-packages\\ipykernel_launcher.py:183: UserWarning: D:\\Analyzed_CellBio\\Stam\\Lac_Ms_live\\210914_263_pos23\\mask_cell_2\\Pos11_DNA_t83.tif is a boolean image: setting True to 255 and False to 0. To silence this warning, please convert the image using img_as_ubyte.\n",
      "C:\\Users\\Shiwei\\AppData\\Roaming\\Python\\Python37\\site-packages\\ipykernel_launcher.py:183: UserWarning: D:\\Analyzed_CellBio\\Stam\\Lac_Ms_live\\210914_263_pos23\\mask_cell_2\\Pos11_Lac_t83.tif is a boolean image: setting True to 255 and False to 0. To silence this warning, please convert the image using img_as_ubyte.\n"
     ]
    },
    {
     "name": "stdout",
     "output_type": "stream",
     "text": [
      "processing 1 image(s)\n",
      "time spent: running network 0.91s; flow+mask computation 0.06\n",
      "estimated masks for 1 image(s) in 0.98 sec\n",
      ">>>> TOTAL TIME 0.98 sec\n",
      "-- normalized foci intensity for ms2 is 8.195608648356867\n",
      "-- tracking cell at timepoint 84.\n",
      "++++++++++++++++++++++++++++++++++++++++++++++++++++++++++++++++++++++++++++++++++\n",
      ">>>> using CPU\n",
      "Running test snippet to check if MKL-DNN working\n",
      "see https://pytorch.org/docs/stable/backends.html?highlight=mkl\n",
      "** MKL version working - CPU version is sped up. **\n",
      "processing 1 image(s)\n"
     ]
    },
    {
     "name": "stderr",
     "output_type": "stream",
     "text": [
      "C:\\Users\\Shiwei\\AppData\\Roaming\\Python\\Python37\\site-packages\\ipykernel_launcher.py:183: UserWarning: D:\\Analyzed_CellBio\\Stam\\Lac_Ms_live\\210914_263_pos23\\mask_cell_2\\Pos11_DNA_t84.tif is a boolean image: setting True to 255 and False to 0. To silence this warning, please convert the image using img_as_ubyte.\n",
      "C:\\Users\\Shiwei\\AppData\\Roaming\\Python\\Python37\\site-packages\\ipykernel_launcher.py:183: UserWarning: D:\\Analyzed_CellBio\\Stam\\Lac_Ms_live\\210914_263_pos23\\mask_cell_2\\Pos11_Lac_t84.tif is a boolean image: setting True to 255 and False to 0. To silence this warning, please convert the image using img_as_ubyte.\n"
     ]
    },
    {
     "name": "stdout",
     "output_type": "stream",
     "text": [
      "time spent: running network 0.92s; flow+mask computation 0.05\n",
      "estimated masks for 1 image(s) in 0.97 sec\n",
      ">>>> TOTAL TIME 0.97 sec\n",
      "-- normalized foci intensity for ms2 is 6.538228893018049\n",
      "-- tracking cell at timepoint 85.\n",
      "++++++++++++++++++++++++++++++++++++++++++++++++++++++++++++++++++++++++++++++++++\n"
     ]
    },
    {
     "name": "stderr",
     "output_type": "stream",
     "text": [
      "C:\\Users\\Shiwei\\AppData\\Roaming\\Python\\Python37\\site-packages\\ipykernel_launcher.py:183: UserWarning: D:\\Analyzed_CellBio\\Stam\\Lac_Ms_live\\210914_263_pos23\\mask_cell_2\\Pos11_DNA_t85.tif is a boolean image: setting True to 255 and False to 0. To silence this warning, please convert the image using img_as_ubyte.\n",
      "C:\\Users\\Shiwei\\AppData\\Roaming\\Python\\Python37\\site-packages\\ipykernel_launcher.py:183: UserWarning: D:\\Analyzed_CellBio\\Stam\\Lac_Ms_live\\210914_263_pos23\\mask_cell_2\\Pos11_Lac_t85.tif is a boolean image: setting True to 255 and False to 0. To silence this warning, please convert the image using img_as_ubyte.\n"
     ]
    },
    {
     "name": "stdout",
     "output_type": "stream",
     "text": [
      ">>>> using CPU\n",
      "Running test snippet to check if MKL-DNN working\n",
      "see https://pytorch.org/docs/stable/backends.html?highlight=mkl\n",
      "** MKL version working - CPU version is sped up. **\n",
      "processing 1 image(s)\n",
      "time spent: running network 0.98s; flow+mask computation 0.05\n",
      "estimated masks for 1 image(s) in 1.03 sec\n",
      ">>>> TOTAL TIME 1.03 sec\n",
      "-- normalized foci intensity for ms2 is 5.078290523694807\n",
      "-- tracking cell at timepoint 86.\n",
      "++++++++++++++++++++++++++++++++++++++++++++++++++++++++++++++++++++++++++++++++++\n",
      ">>>> using CPU\n",
      "Running test snippet to check if MKL-DNN working\n",
      "see https://pytorch.org/docs/stable/backends.html?highlight=mkl\n",
      "** MKL version working - CPU version is sped up. **\n",
      "processing 1 image(s)\n"
     ]
    },
    {
     "name": "stderr",
     "output_type": "stream",
     "text": [
      "C:\\Users\\Shiwei\\AppData\\Roaming\\Python\\Python37\\site-packages\\ipykernel_launcher.py:183: UserWarning: D:\\Analyzed_CellBio\\Stam\\Lac_Ms_live\\210914_263_pos23\\mask_cell_2\\Pos11_DNA_t86.tif is a boolean image: setting True to 255 and False to 0. To silence this warning, please convert the image using img_as_ubyte.\n",
      "C:\\Users\\Shiwei\\AppData\\Roaming\\Python\\Python37\\site-packages\\ipykernel_launcher.py:183: UserWarning: D:\\Analyzed_CellBio\\Stam\\Lac_Ms_live\\210914_263_pos23\\mask_cell_2\\Pos11_Lac_t86.tif is a boolean image: setting True to 255 and False to 0. To silence this warning, please convert the image using img_as_ubyte.\n"
     ]
    },
    {
     "name": "stdout",
     "output_type": "stream",
     "text": [
      "time spent: running network 1.04s; flow+mask computation 0.05\n",
      "estimated masks for 1 image(s) in 1.10 sec\n",
      ">>>> TOTAL TIME 1.10 sec\n",
      "-- normalized foci intensity for ms2 is 5.753086955195597\n",
      "-- tracking cell at timepoint 87.\n",
      "++++++++++++++++++++++++++++++++++++++++++++++++++++++++++++++++++++++++++++++++++\n",
      ">>>> using CPU\n",
      "Running test snippet to check if MKL-DNN working\n",
      "see https://pytorch.org/docs/stable/backends.html?highlight=mkl\n",
      "** MKL version working - CPU version is sped up. **\n"
     ]
    },
    {
     "name": "stderr",
     "output_type": "stream",
     "text": [
      "C:\\Users\\Shiwei\\AppData\\Roaming\\Python\\Python37\\site-packages\\ipykernel_launcher.py:183: UserWarning: D:\\Analyzed_CellBio\\Stam\\Lac_Ms_live\\210914_263_pos23\\mask_cell_2\\Pos11_DNA_t87.tif is a boolean image: setting True to 255 and False to 0. To silence this warning, please convert the image using img_as_ubyte.\n",
      "C:\\Users\\Shiwei\\AppData\\Roaming\\Python\\Python37\\site-packages\\ipykernel_launcher.py:183: UserWarning: D:\\Analyzed_CellBio\\Stam\\Lac_Ms_live\\210914_263_pos23\\mask_cell_2\\Pos11_Lac_t87.tif is a boolean image: setting True to 255 and False to 0. To silence this warning, please convert the image using img_as_ubyte.\n"
     ]
    },
    {
     "name": "stdout",
     "output_type": "stream",
     "text": [
      "processing 1 image(s)\n",
      "time spent: running network 0.92s; flow+mask computation 0.05\n",
      "estimated masks for 1 image(s) in 0.98 sec\n",
      ">>>> TOTAL TIME 0.98 sec\n",
      "-- normalized foci intensity for ms2 is 5.041436328265429\n",
      "-- tracking cell at timepoint 88.\n",
      "++++++++++++++++++++++++++++++++++++++++++++++++++++++++++++++++++++++++++++++++++\n",
      ">>>> using CPU\n",
      "Running test snippet to check if MKL-DNN working\n",
      "see https://pytorch.org/docs/stable/backends.html?highlight=mkl\n",
      "** MKL version working - CPU version is sped up. **\n"
     ]
    },
    {
     "name": "stderr",
     "output_type": "stream",
     "text": [
      "C:\\Users\\Shiwei\\AppData\\Roaming\\Python\\Python37\\site-packages\\ipykernel_launcher.py:183: UserWarning: D:\\Analyzed_CellBio\\Stam\\Lac_Ms_live\\210914_263_pos23\\mask_cell_2\\Pos11_DNA_t88.tif is a boolean image: setting True to 255 and False to 0. To silence this warning, please convert the image using img_as_ubyte.\n",
      "C:\\Users\\Shiwei\\AppData\\Roaming\\Python\\Python37\\site-packages\\ipykernel_launcher.py:183: UserWarning: D:\\Analyzed_CellBio\\Stam\\Lac_Ms_live\\210914_263_pos23\\mask_cell_2\\Pos11_Lac_t88.tif is a boolean image: setting True to 255 and False to 0. To silence this warning, please convert the image using img_as_ubyte.\n"
     ]
    },
    {
     "name": "stdout",
     "output_type": "stream",
     "text": [
      "processing 1 image(s)\n",
      "time spent: running network 0.94s; flow+mask computation 0.05\n",
      "estimated masks for 1 image(s) in 1.00 sec\n",
      ">>>> TOTAL TIME 1.00 sec\n",
      "-- normalized foci intensity for ms2 is 5.533762131460132\n",
      "-- tracking cell at timepoint 89.\n",
      "++++++++++++++++++++++++++++++++++++++++++++++++++++++++++++++++++++++++++++++++++\n",
      ">>>> using CPU\n",
      "Running test snippet to check if MKL-DNN working\n",
      "see https://pytorch.org/docs/stable/backends.html?highlight=mkl\n",
      "** MKL version working - CPU version is sped up. **\n"
     ]
    },
    {
     "name": "stderr",
     "output_type": "stream",
     "text": [
      "C:\\Users\\Shiwei\\AppData\\Roaming\\Python\\Python37\\site-packages\\ipykernel_launcher.py:183: UserWarning: D:\\Analyzed_CellBio\\Stam\\Lac_Ms_live\\210914_263_pos23\\mask_cell_2\\Pos11_DNA_t89.tif is a boolean image: setting True to 255 and False to 0. To silence this warning, please convert the image using img_as_ubyte.\n",
      "C:\\Users\\Shiwei\\AppData\\Roaming\\Python\\Python37\\site-packages\\ipykernel_launcher.py:183: UserWarning: D:\\Analyzed_CellBio\\Stam\\Lac_Ms_live\\210914_263_pos23\\mask_cell_2\\Pos11_Lac_t89.tif is a boolean image: setting True to 255 and False to 0. To silence this warning, please convert the image using img_as_ubyte.\n"
     ]
    },
    {
     "name": "stdout",
     "output_type": "stream",
     "text": [
      "processing 1 image(s)\n",
      "time spent: running network 1.02s; flow+mask computation 0.05\n",
      "estimated masks for 1 image(s) in 1.08 sec\n",
      ">>>> TOTAL TIME 1.08 sec\n",
      "-- normalized foci intensity for ms2 is 4.80523615094666\n"
     ]
    },
    {
     "name": "stderr",
     "output_type": "stream",
     "text": [
      "C:\\Users\\Shiwei\\AppData\\Roaming\\Python\\Python37\\site-packages\\ipykernel_launcher.py:183: UserWarning: D:\\Analyzed_CellBio\\Stam\\Lac_Ms_live\\210914_263_pos23\\mask_cell_2\\Pos11_DNA_t90.tif is a boolean image: setting True to 255 and False to 0. To silence this warning, please convert the image using img_as_ubyte.\n",
      "C:\\Users\\Shiwei\\AppData\\Roaming\\Python\\Python37\\site-packages\\ipykernel_launcher.py:183: UserWarning: D:\\Analyzed_CellBio\\Stam\\Lac_Ms_live\\210914_263_pos23\\mask_cell_2\\Pos11_Lac_t90.tif is a boolean image: setting True to 255 and False to 0. To silence this warning, please convert the image using img_as_ubyte.\n"
     ]
    }
   ],
   "source": [
    "\n",
    "# initiate measurement dict\n",
    "all_measurement_timed = {}\n",
    "\n",
    "# loop through all timepoints\n",
    "for timepoint in _all_time_points[:]:\n",
    "    \n",
    "    # if timepoints annotaed\n",
    "    if (timepoint +1) in annotated_timepoints.keys():\n",
    "        \n",
    "        # if cell centroid is not np.nan, use annotated cell centroid\n",
    "        if annotated_timepoints[(timepoint +1)]['cell_centroid'][0]>0:\n",
    "            cell_centroid = annotated_timepoints[(timepoint +1)]['cell_centroid']\n",
    "            cell_centroid = [int(_coord) for _coord in cell_centroid]\n",
    "        # or use prior timepoint info\n",
    "        else:\n",
    "            cell_centroid= cell_object_info[1]\n",
    "            \n",
    "        # if foci centroid is not np.nan, use annotated foci centroid\n",
    "        if annotated_timepoints[(timepoint +1)]['foci_centroid'][0]>0:\n",
    "            foci_centroid = annotated_timepoints[(timepoint +1)]['foci_centroid']\n",
    "            foci_centroid = [int(_coord) for _coord in foci_centroid]\n",
    "        # or use prior timepoint info\n",
    "        else:\n",
    "            foci_centroid = foci_object_info[1]\n",
    "            \n",
    "        \n",
    "        # if area is not np.nan, use annotated cell area\n",
    "        if annotated_timepoints[(timepoint +1)]['cell_area']>0:\n",
    "            cell_area = annotated_timepoints[(timepoint +1)]['cell_area']\n",
    "        # or use prior timepoint info\n",
    "        else:\n",
    "            cell_area =cell_object_info[2]\n",
    "            \n",
    "    # if timepoints NOT annotaed, use prior timepoint info\n",
    "    else:\n",
    "        cell_centroid= cell_object_info[1]\n",
    "        cell_area =cell_object_info[2]\n",
    "        foci_centroid = foci_object_info[1]\n",
    "            \n",
    "          \n",
    "    print (f'-- tracking cell at timepoint {timepoint}.') \n",
    "    print ('++++++++++++++++++++++++++++++++++++++++++++++++++++++++++++++++++++++++++++++++++')\n",
    "    \n",
    "    # track and locate cell of interest\n",
    "    cell_object_info = segment_and_track_object(images, 1,\n",
    "                                                time = timepoint, \n",
    "                                                object_centroid=cell_centroid,\n",
    "                                                object_area =cell_area, mode ='nuclei',\n",
    "                                                z_selected = z_selected,\n",
    "                                               crop_x1=crop_x1,crop_x2=crop_x2,crop_y1=crop_y1,crop_y2=crop_y2)\n",
    "    \n",
    "    \n",
    "    # if foci centorid is anntoated for THIS timepoint, just use the foci centroid for foci tracking\n",
    "    if (timepoint +1) in annotated_timepoints.keys() and annotated_timepoints[(timepoint +1)]['foci_centroid'][0]>0:\n",
    "        ref_centroid = []\n",
    "    # otherwise, use the found cell centroid as ref centroid to assist foci tracking;\n",
    "    # where both the found cell centroid and the prior foci centorid are considered\n",
    "    else:    \n",
    "        ref_centroid = cell_object_info[1]\n",
    "        \n",
    "        # DO NOT USE REF CELL SINCE THERE ARE TWO FOCI\n",
    "        ref_centroid = []\n",
    "    \n",
    "    \n",
    "    if np.sum(cell_object_info[0]) > 600 and use_STD_foci_segmentation:\n",
    "        foci_segmentation = 'STD'\n",
    "    else:\n",
    "        foci_segmentation = 'Yen'\n",
    "\n",
    "    # track and locate foci of interest\n",
    "    foci_object_info = segment_and_track_object(images, 2,\n",
    "                                                time = timepoint, \n",
    "                                                object_centroid=foci_centroid, ref_centroid = ref_centroid,\n",
    "                                                foci_segmentation = foci_segmentation, cell_mask = cell_object_info[0],\n",
    "                                                object_area =[], mode ='foci', foci_filter= foci_filter,\n",
    "                                                z_selected = z_selected,\n",
    "                                                crop_x1=crop_x1,crop_x2=crop_x2,crop_y1=crop_y1,crop_y2=crop_y2)\n",
    "    \n",
    "    # load raw image for each channel\n",
    "    im_dna = np.array(images.get_frame_2D (v=timepoint, c=0, z=z_selected))[crop_y1: crop_y2, crop_x1: crop_x2]\n",
    "    im_lac = np.array(images.get_frame_2D (v=timepoint, c=1, z=z_selected))[crop_y1: crop_y2, crop_x1: crop_x2]\n",
    "    im_ms = np.array(images.get_frame_2D (v=timepoint, c=2, z=z_selected))[crop_y1: crop_y2, crop_x1: crop_x2]\n",
    "    \n",
    "    # get noncell backgroud using Li\n",
    "    all_dna_mask = dilation(im_dna>threshold_li(im_dna), disk(10))\n",
    "    noncell_background = all_dna_mask == 0\n",
    "    #####################################\n",
    "    # measure average intensity, etc\n",
    "    \n",
    "    # initiate _save_mask\n",
    "    _save_mask = False\n",
    "    \n",
    "    # append 'mitosis' for timepoints relevant\n",
    "    if timepoint in _mitosis_duration:\n",
    "        all_measurement_timed[str(timepoint+1)] = 'mitosis'\n",
    "    \n",
    "    # if a valid foci can be found before or after, measure and save masks\n",
    "    elif (timepoint in _first_duration and np.sum(foci_object_info[0] ) > 0 or\n",
    "         timepoint in _second_duration and np.sum(cell_object_info[0] * foci_object_info[0]) > 0):\n",
    "        \n",
    "        foci_mask_to_measure = dilation (foci_object_info[0],disk(_foci_measure_size))\n",
    "        cell_mask_to_measure = cell_object_info[0] * (foci_mask_to_measure==0)\n",
    "    \n",
    "        ave_ms_noncell_background = np.mean((noncell_background * im_ms)[noncell_background!=0])\n",
    "    \n",
    "        ave_ms_foci = np.mean((foci_mask_to_measure * im_ms)[foci_mask_to_measure!=0])\n",
    "        ave_ms_foci= ave_ms_foci - ave_ms_noncell_background\n",
    "    \n",
    "        ave_ms_cell = np.mean((cell_mask_to_measure * im_ms)[cell_mask_to_measure!=0])\n",
    "        ave_ms_cell= ave_ms_cell - ave_ms_noncell_background\n",
    "    \n",
    "        norm_ave_ms_foci = ave_ms_foci/ave_ms_cell\n",
    "        print(f'-- normalized foci intensity for ms2 is {norm_ave_ms_foci}')\n",
    "    \n",
    "        all_measurement_timed[str(timepoint+1)] = norm_ave_ms_foci\n",
    "        \n",
    "        _save_mask = True\n",
    "    \n",
    "    # if no valid foci can be found (after incorporation), determine if there is ms2 foci qualitatively \n",
    "    else:\n",
    "        # if no lac foci, check if there is ms2 foci\n",
    "        ms_intensity = dilation(cell_object_info[0]) * im_ms\n",
    "        ms_intensity_filtered = ms_intensity[ms_intensity!=0]\n",
    "        ms_positive_th =np.mean(ms_intensity_filtered) + np.std(ms_intensity_filtered)*3\n",
    "\n",
    "        ms_mask = (im_ms > ms_positive_th)*cell_object_info[0]\n",
    "        ms_mask = dilation(ms_mask)\n",
    "        ms_mask = remove_small_objects(ms_mask, foci_filter+5)\n",
    "        \n",
    "        _save_mask = True\n",
    "        foci_object_info[0] =  ms_mask\n",
    "\n",
    "        if np.sum(ms_mask) >foci_filter:\n",
    "            \n",
    "            if np.sum(cell_object_info[0]) > nuclei_filter:\n",
    "                foci_mask_to_measure = ms_mask\n",
    "                cell_mask_to_measure = cell_object_info[0] * (foci_mask_to_measure==0)\n",
    "                \n",
    "                ave_ms_noncell_background = np.mean((noncell_background * im_ms)[noncell_background!=0])\n",
    "            \n",
    "                ave_ms_foci = np.mean((foci_mask_to_measure * im_ms)[foci_mask_to_measure!=0])\n",
    "                ave_ms_foci= ave_ms_foci - ave_ms_noncell_background\n",
    "                \n",
    "                ave_ms_cell = np.mean((cell_mask_to_measure * im_ms)[cell_mask_to_measure!=0])\n",
    "                ave_ms_cell= ave_ms_cell - ave_ms_noncell_background\n",
    "    \n",
    "                norm_ave_ms_foci = ave_ms_foci/ave_ms_cell\n",
    "        \n",
    "                print(f'-- normalized foci intensity for ms2 is {norm_ave_ms_foci}')\n",
    "                all_measurement_timed[str(timepoint+1)] = f'yes_{norm_ave_ms_foci}'\n",
    "                \n",
    "            else:\n",
    "                all_measurement_timed[str(timepoint+1)] = 'yes'\n",
    "\n",
    "        else:\n",
    "            all_measurement_timed[str(timepoint+1)] = 'no'\n",
    "        \n",
    "\n",
    "    #####################################\n",
    "    # save masks and cropped images for the timepoints where cell and lac foci can be found\n",
    "    data_cell_path = data_main_folder + os.sep + f'mask_{cell_name}'\n",
    "    if not os.path.exists(data_cell_path):\n",
    "        os.mkdir(data_cell_path)\n",
    "    \n",
    "    if _save_mask:\n",
    "        mask_savename_list = [data_cell_path + os.sep + f'Pos11_DNA_t{timepoint+1}.tif',\n",
    "                 #data_cell_path + os.sep + f'Pos11_DNA_raw_t{timepoint+1}.tif', \n",
    "                   data_cell_path + os.sep + f'Pos11_Lac_t{timepoint+1}.tif',\n",
    "                 #data_cell_path + os.sep + f'Pos11_Lac_raw_t{timepoint+1}.tif'\n",
    "                         ]\n",
    "    \n",
    "        im_to_save = [cell_object_info[0],\n",
    "                  #im_dna,\n",
    "                  foci_object_info[0],\n",
    "                  #im_lac\n",
    "                 ]\n",
    "                  \n",
    "        for _im, _name in zip(im_to_save, mask_savename_list):\n",
    "        #if not os.path.exists(_name):\n",
    "            #os.mkdirs()\n",
    "            if os.path.exists(_name):\n",
    "                os.remove(_name)\n",
    "            io.imsave(_name, _im, check_contrast=False)\n",
    "\n"
   ]
  },
  {
   "cell_type": "code",
   "execution_count": null,
   "metadata": {},
   "outputs": [],
   "source": []
  },
  {
   "cell_type": "code",
   "execution_count": 10,
   "metadata": {},
   "outputs": [
    {
     "data": {
      "text/plain": [
       "{'1': 1.1212109448273702,\n",
       " '2': 1.2830506308724863,\n",
       " '3': 1.2081600801506116,\n",
       " '4': 0.8638531105239291,\n",
       " '5': 1.0659930545495024,\n",
       " '6': 1.0853616578147383,\n",
       " '7': 1.4009987005382163,\n",
       " '8': 1.1772185013667027,\n",
       " '9': 1.3494106949595568,\n",
       " '10': 0.9301349384389482,\n",
       " '11': 1.0749439230024713,\n",
       " '12': 0.9340710147972268,\n",
       " '13': 0.9943391336293355,\n",
       " '14': 0.6803854454966461,\n",
       " '15': 1.1714309733469617,\n",
       " '16': 0.7602398283310264,\n",
       " '17': 1.0499361049053153,\n",
       " '18': 1.01624055985633,\n",
       " '19': 1.1302056307144273,\n",
       " '20': 1.0280901849079827,\n",
       " '21': 1.527650320305319,\n",
       " '22': 0.8407039975198701,\n",
       " '23': 1.1580820458603232,\n",
       " '24': 1.256221373664883,\n",
       " '25': 0.9101179373753849,\n",
       " '26': 1.1972820503576023,\n",
       " '27': 1.2486268082400298,\n",
       " '28': 0.8927803465592826,\n",
       " '29': 0.9056700522855115,\n",
       " '30': 1.1570280774392299,\n",
       " '31': 0.8769980153309679,\n",
       " '32': 0.9998545462622811,\n",
       " '33': 1.0751326762273572,\n",
       " '34': 1.237386119047085,\n",
       " '35': 0.8412773674456052,\n",
       " '36': 0.9777828480496358,\n",
       " '37': 0.9273190646089161,\n",
       " '38': 0.8837504621698613,\n",
       " '39': 1.1166717497259133,\n",
       " '40': 1.308314563735247,\n",
       " '41': 1.2647295949266475,\n",
       " '42': 0.9172148483087418,\n",
       " '43': 1.1776263033559677,\n",
       " '44': 1.4615334527593153,\n",
       " '45': 1.3543292884758238,\n",
       " '46': 1.2086369692589976,\n",
       " '47': 1.0408847956324683,\n",
       " '48': 1.0543975927009286,\n",
       " '49': 1.2979906657029712,\n",
       " '50': 1.3010286294975724,\n",
       " '51': 1.302062031090428,\n",
       " '52': 1.212141224302171,\n",
       " '53': 0.7634731714608771,\n",
       " '54': 0.8903726099046824,\n",
       " '55': 0.9203484339826067,\n",
       " '56': 0.8073773769346313,\n",
       " '57': 0.7599352332378557,\n",
       " '58': 1.2874087396749128,\n",
       " '59': 1.0975487348103337,\n",
       " '60': 1.1774326284417782,\n",
       " '61': 'mitosis',\n",
       " '62': 'mitosis',\n",
       " '63': 'mitosis',\n",
       " '64': 'mitosis',\n",
       " '65': 'mitosis',\n",
       " '66': 1.5790439557743678,\n",
       " '67': 1.5112945798247608,\n",
       " '68': 2.502281048546583,\n",
       " '69': 1.6780035253009098,\n",
       " '70': 2.411785959019019,\n",
       " '71': 1.7805507775430935,\n",
       " '72': 2.0676673689224,\n",
       " '73': 1.8662780634139646,\n",
       " '74': 2.318365300772742,\n",
       " '75': 2.2918405237239146,\n",
       " '76': 2.7405438347628026,\n",
       " '77': 'yes_5.194289781016365',\n",
       " '78': 'yes_6.730282543085647',\n",
       " '79': 'yes_6.820715377638588',\n",
       " '80': 'yes_6.787194322889404',\n",
       " '81': 'yes_5.540301984893657',\n",
       " '82': 'yes_4.80088760227827',\n",
       " '83': 'yes_7.083128460485069',\n",
       " '84': 'yes_8.195608648356867',\n",
       " '85': 'yes_6.538228893018049',\n",
       " '86': 'yes_5.078290523694807',\n",
       " '87': 'yes_5.753086955195597',\n",
       " '88': 'yes_5.041436328265429',\n",
       " '89': 'yes_5.533762131460132',\n",
       " '90': 'yes_4.80523615094666'}"
      ]
     },
     "execution_count": 10,
     "metadata": {},
     "output_type": "execute_result"
    }
   ],
   "source": [
    "all_measurement_timed"
   ]
  },
  {
   "cell_type": "code",
   "execution_count": 11,
   "metadata": {},
   "outputs": [],
   "source": [
    "# save measurements as simple excel\n",
    "\n",
    "df = pd.DataFrame(all_measurement_timed,index=[0])\n",
    "\n",
    "df.to_excel(data_main_folder + os.sep + f'{data_name}_analysis_{cell_name}.xlsx', index=False)"
   ]
  },
  {
   "cell_type": "code",
   "execution_count": null,
   "metadata": {},
   "outputs": [],
   "source": []
  }
 ],
 "metadata": {
  "kernelspec": {
   "display_name": "Python 3",
   "language": "python",
   "name": "python3"
  },
  "language_info": {
   "codemirror_mode": {
    "name": "ipython",
    "version": 3
   },
   "file_extension": ".py",
   "mimetype": "text/x-python",
   "name": "python",
   "nbconvert_exporter": "python",
   "pygments_lexer": "ipython3",
   "version": "3.7.6"
  }
 },
 "nbformat": 4,
 "nbformat_minor": 4
}

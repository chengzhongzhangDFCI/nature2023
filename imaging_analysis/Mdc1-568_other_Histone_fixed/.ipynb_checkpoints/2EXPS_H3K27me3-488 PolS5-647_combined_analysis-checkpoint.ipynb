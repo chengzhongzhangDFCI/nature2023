{
 "cells": [
  {
   "cell_type": "markdown",
   "metadata": {},
   "source": [
    "# 1. Import required modules"
   ]
  },
  {
   "cell_type": "code",
   "execution_count": 1,
   "metadata": {},
   "outputs": [
    {
     "name": "stderr",
     "output_type": "stream",
     "text": [
      "c:\\programdata\\anaconda3\\lib\\site-packages\\skimage\\io\\manage_plugins.py:23: UserWarning: Your installed pillow version is < 7.1.0. Several security issues (CVE-2020-11538, CVE-2020-10379, CVE-2020-10994, CVE-2020-10177) have been fixed in pillow 7.1.0 or higher. We recommend to upgrade this library.\n",
      "  from .collection import imread_collection_wrapper\n"
     ]
    }
   ],
   "source": [
    "import numpy as np\n",
    "import matplotlib.pyplot as plt\n",
    "from skimage import io\n",
    "from skimage import data\n",
    "import skimage\n",
    "from skimage.filters.thresholding import threshold_li,threshold_local,threshold_otsu\n",
    "from skimage.morphology import erosion, dilation, opening, closing, white_tophat, remove_small_objects, ball\n",
    "from skimage.morphology import disk\n",
    "from scipy import ndimage as ndi\n",
    "import sys,os, glob\n",
    "\n",
    "#import skimage.filters.median\n",
    "\n",
    "#import skimage.segmentation as seg\n",
    "#import skimage.filters as filters\n",
    "#import skimage.draw as draw\n",
    "#import skimage.color as color\n",
    "\n",
    "#from skimage.filters.thresholding import _cross_entropy\n",
    "#from skimage.morphology import black_tophat, skeletonize, convex_hull_image\n",
    "\n",
    "\n",
    "#pip install nd2reader_required for nd2 file reading\n",
    "from nd2reader import ND2Reader\n",
    "\n",
    "import pandas as pd"
   ]
  },
  {
   "cell_type": "markdown",
   "metadata": {},
   "source": [
    "# 2. Define common parameters for measurement loading here:"
   ]
  },
  {
   "cell_type": "code",
   "execution_count": 2,
   "metadata": {},
   "outputs": [],
   "source": [
    "# load experiment exp1\n",
    "\n",
    "analysis_fd = r'D:\\Analyzed_CellBio\\Stam\\211122IF_211101exp_Mdc1ab_45h\\cov3_Mdc1-568 H3K27me3-488 PolS5-647\\analysis_subset_controlled'\n",
    "\n",
    "exp1_df = pd.read_excel(analysis_fd + os.sep + 'measurement_for_all_fov_background_subtracted_2_100_crop.xlsx')"
   ]
  },
  {
   "cell_type": "code",
   "execution_count": 3,
   "metadata": {},
   "outputs": [],
   "source": [
    "# load experiment exp2\n",
    "\n",
    "analysis_fd = r'D:\\Analyzed_CellBio\\Stam\\211125IF_211121exp_Mdc1ab_45h\\cov2_Mdc1-568 H3K27me3-488 PolS5-647\\analysis_subset_controlled'\n",
    "\n",
    "exp2_df = pd.read_excel(analysis_fd + os.sep + 'measurement_for_all_fov_background_subtracted_2_100_crop.xlsx')"
   ]
  },
  {
   "cell_type": "code",
   "execution_count": 4,
   "metadata": {},
   "outputs": [],
   "source": [
    "combined_df = pd.concat([exp1_df,exp2_df])\n",
    "\n",
    "len(combined_df)\n",
    "\n",
    "\n",
    "measurement_for_all_fov_df = combined_df"
   ]
  },
  {
   "cell_type": "markdown",
   "metadata": {},
   "source": [
    "# 3. Post-hoc analysis examples"
   ]
  },
  {
   "cell_type": "code",
   "execution_count": 5,
   "metadata": {},
   "outputs": [],
   "source": [
    "#len(measurement_for_all_fov_df)\n",
    "\n",
    "\n",
    "analysis_save_path = r'D:\\Analyzed_CellBio\\Stam\\Mdc1_fixed_analysis'\n",
    "\n",
    "analysis_savename = 'mdc-568_h3k27me3_pol2_analyzed.xlsx'"
   ]
  },
  {
   "cell_type": "code",
   "execution_count": 7,
   "metadata": {},
   "outputs": [
    {
     "data": {
      "text/plain": [
       "564"
      ]
     },
     "execution_count": 7,
     "metadata": {},
     "output_type": "execute_result"
    }
   ],
   "source": [
    "# remove the bad cell that has no Pol2 signal\n",
    "analysis_df=measurement_for_all_fov_df[measurement_for_all_fov_df['ave_intensity_control_chr_Pol2S5']>0].copy()\n",
    "\n",
    "len(analysis_df)\n",
    "\n",
    "#analysis_df.to_excel(analysis_save_path+os.sep+analysis_savename, index=False)"
   ]
  },
  {
   "cell_type": "code",
   "execution_count": 32,
   "metadata": {},
   "outputs": [
    {
     "name": "stdout",
     "output_type": "stream",
     "text": [
      "0.8109665955370805\n",
      "1.023890653816528\n",
      "0.8444352028840004\n",
      "1.007597594554853\n",
      "4.786270750786219\n",
      "0.9925029793167174\n",
      "1.142070402771774\n",
      "1.0224241697123995\n"
     ]
    }
   ],
   "source": [
    "# remove the bad cell that has no Pol2 signal\n",
    "#analysis_df=measurement_for_all_fov_df[measurement_for_all_fov_df['ave_intensity_control_chr_Pol2S5']>0].copy()\n",
    "\n",
    "# for total incorporated chr\n",
    "analysis_df['normalized_inc_Pol2S5']=analysis_df['ave_intensity_incorporated_chr_Pol2S5']/analysis_df['ave_intensity_nucleo-excluded_control_chr_Pol2S5']\n",
    "print(analysis_df['normalized_inc_Pol2S5'].mean())\n",
    "\n",
    "\n",
    "# for subset control\n",
    "analysis_df['normalized_subset_control_Pol2S5']=analysis_df['ave_intensity_subset_control_chr_Pol2S5']/analysis_df['ave_intensity_nucleo-excluded_control_chr_Pol2S5']\n",
    "print(analysis_df['normalized_subset_control_Pol2S5'].mean())\n",
    "\n",
    "\n",
    "\n",
    "# get the h2ax-positive area vs h2ax-less (positive) area for the same cell\n",
    "analysis_df['normalized_inc_H3K27ac'] = analysis_df['ave_intensity_incorporated_chr_H3K27ac']/analysis_df['ave_intensity_nucleo-excluded_control_chr_H3K27ac']\n",
    "print(analysis_df['normalized_inc_H3K27ac'].mean())\n",
    "\n",
    "\n",
    "# for subset control\n",
    "analysis_df['normalized_subset_control_H3K27ac']=analysis_df['ave_intensity_subset_control_chr_H3K27ac']/analysis_df['ave_intensity_nucleo-excluded_control_chr_H3K27ac']\n",
    "print(analysis_df['normalized_subset_control_H3K27ac'].mean())\n",
    "\n",
    "\n",
    "\n",
    "\n",
    "\n",
    "\n",
    "# get the h2ax-positive area vs h2ax-less (positive) area for the same cell\n",
    "analysis_df['normalized_inc_Mdc1'] = analysis_df['ave_intensity_incorporated_chr_Mdc1']/analysis_df['ave_intensity_nucleo-excluded_control_chr_Mdc1']\n",
    "print(analysis_df['normalized_inc_Mdc1'].mean())\n",
    "\n",
    "\n",
    "# for subset control\n",
    "analysis_df['normalized_subset_control_Mdc1']=analysis_df['ave_intensity_subset_control_chr_Mdc1']/analysis_df['ave_intensity_nucleo-excluded_control_chr_Mdc1']\n",
    "print(analysis_df['normalized_subset_control_Mdc1'].mean())\n",
    "\n",
    "\n",
    "\n",
    "\n",
    "\n",
    "# get the h2ax-positive area vs h2ax-less (positive) area for the same cell\n",
    "analysis_df['normalized_inc_dna'] = analysis_df['ave_intensity_incorporated_chr_dna']/analysis_df['ave_intensity_nucleo-excluded_control_chr_dna']\n",
    "print(analysis_df['normalized_inc_dna'].mean())\n",
    "\n",
    "\n",
    "# for subset control\n",
    "analysis_df['normalized_subset_control_dna']=analysis_df['ave_intensity_subset_control_chr_dna']/analysis_df['ave_intensity_nucleo-excluded_control_chr_dna']\n",
    "print(analysis_df['normalized_subset_control_dna'].mean())"
   ]
  },
  {
   "cell_type": "code",
   "execution_count": 33,
   "metadata": {},
   "outputs": [
    {
     "data": {
      "text/html": [
       "<div>\n",
       "<style scoped>\n",
       "    .dataframe tbody tr th:only-of-type {\n",
       "        vertical-align: middle;\n",
       "    }\n",
       "\n",
       "    .dataframe tbody tr th {\n",
       "        vertical-align: top;\n",
       "    }\n",
       "\n",
       "    .dataframe thead th {\n",
       "        text-align: right;\n",
       "    }\n",
       "</style>\n",
       "<table border=\"1\" class=\"dataframe\">\n",
       "  <thead>\n",
       "    <tr style=\"text-align: right;\">\n",
       "      <th></th>\n",
       "      <th>Unnamed: 0</th>\n",
       "      <th>exp_name</th>\n",
       "      <th>position_id</th>\n",
       "      <th>cell_id</th>\n",
       "      <th>cell_xyz_coord</th>\n",
       "      <th>area_incorporated_chr</th>\n",
       "      <th>area_K27ac_within_incorporated_chr</th>\n",
       "      <th>area_less_K27ac_within_incorporated_chr</th>\n",
       "      <th>area_control_chr</th>\n",
       "      <th>area_nucleo-excluded_control_chr</th>\n",
       "      <th>...</th>\n",
       "      <th>ave_intensity_K27ac_pos_incorporated_chr_Pol2S5</th>\n",
       "      <th>ave_intensity_K27ac_less_incorporated_chr_Pol2S5</th>\n",
       "      <th>normalized_inc_Pol2S5</th>\n",
       "      <th>normalized_subset_control_Pol2S5</th>\n",
       "      <th>normalized_inc_H3K27ac</th>\n",
       "      <th>normalized_subset_control_H3K27ac</th>\n",
       "      <th>normalized_inc_Mdc1</th>\n",
       "      <th>normalized_subset_control_Mdc1</th>\n",
       "      <th>normalized_inc_dna</th>\n",
       "      <th>normalized_subset_control_dna</th>\n",
       "    </tr>\n",
       "  </thead>\n",
       "  <tbody>\n",
       "    <tr>\n",
       "      <th>0</th>\n",
       "      <td>0</td>\n",
       "      <td>Stam</td>\n",
       "      <td>cov3_Mdc1-488 H3K27ac-568 RNApol647_.nd2_Pos1</td>\n",
       "      <td>3</td>\n",
       "      <td>[[1319, 848], 6]</td>\n",
       "      <td>154</td>\n",
       "      <td>5</td>\n",
       "      <td>149</td>\n",
       "      <td>13683</td>\n",
       "      <td>3812</td>\n",
       "      <td>...</td>\n",
       "      <td>NaN</td>\n",
       "      <td>1294.764965</td>\n",
       "      <td>2.726215</td>\n",
       "      <td>0.774323</td>\n",
       "      <td>1.516563</td>\n",
       "      <td>0.864426</td>\n",
       "      <td>2.124869</td>\n",
       "      <td>1.289138</td>\n",
       "      <td>0.973579</td>\n",
       "      <td>1.304567</td>\n",
       "    </tr>\n",
       "    <tr>\n",
       "      <th>1</th>\n",
       "      <td>0</td>\n",
       "      <td>Stam</td>\n",
       "      <td>cov3_Mdc1-488 H3K27ac-568 RNApol647_.nd2_Pos1</td>\n",
       "      <td>4</td>\n",
       "      <td>[[1192, 1007], 6]</td>\n",
       "      <td>643</td>\n",
       "      <td>0</td>\n",
       "      <td>643</td>\n",
       "      <td>19693</td>\n",
       "      <td>5068</td>\n",
       "      <td>...</td>\n",
       "      <td>NaN</td>\n",
       "      <td>200.008826</td>\n",
       "      <td>0.535257</td>\n",
       "      <td>0.908936</td>\n",
       "      <td>0.693011</td>\n",
       "      <td>0.829669</td>\n",
       "      <td>9.411777</td>\n",
       "      <td>1.657308</td>\n",
       "      <td>0.997616</td>\n",
       "      <td>0.790139</td>\n",
       "    </tr>\n",
       "    <tr>\n",
       "      <th>2</th>\n",
       "      <td>0</td>\n",
       "      <td>Stam</td>\n",
       "      <td>cov3_Mdc1-488 H3K27ac-568 RNApol647_.nd2_Pos1</td>\n",
       "      <td>8</td>\n",
       "      <td>[[1100, 1326], 6]</td>\n",
       "      <td>113</td>\n",
       "      <td>0</td>\n",
       "      <td>113</td>\n",
       "      <td>23930</td>\n",
       "      <td>5357</td>\n",
       "      <td>...</td>\n",
       "      <td>NaN</td>\n",
       "      <td>232.959155</td>\n",
       "      <td>0.624672</td>\n",
       "      <td>1.010346</td>\n",
       "      <td>0.817854</td>\n",
       "      <td>1.288770</td>\n",
       "      <td>5.128845</td>\n",
       "      <td>0.724575</td>\n",
       "      <td>0.638584</td>\n",
       "      <td>0.979899</td>\n",
       "    </tr>\n",
       "    <tr>\n",
       "      <th>3</th>\n",
       "      <td>0</td>\n",
       "      <td>Stam</td>\n",
       "      <td>cov3_Mdc1-488 H3K27ac-568 RNApol647_.nd2_Pos1</td>\n",
       "      <td>9</td>\n",
       "      <td>[[383, 1336], 6]</td>\n",
       "      <td>136</td>\n",
       "      <td>0</td>\n",
       "      <td>136</td>\n",
       "      <td>25192</td>\n",
       "      <td>5732</td>\n",
       "      <td>...</td>\n",
       "      <td>NaN</td>\n",
       "      <td>210.744106</td>\n",
       "      <td>0.772287</td>\n",
       "      <td>0.769484</td>\n",
       "      <td>0.840653</td>\n",
       "      <td>0.924096</td>\n",
       "      <td>3.359175</td>\n",
       "      <td>1.180447</td>\n",
       "      <td>1.642245</td>\n",
       "      <td>1.150379</td>\n",
       "    </tr>\n",
       "    <tr>\n",
       "      <th>4</th>\n",
       "      <td>0</td>\n",
       "      <td>Stam</td>\n",
       "      <td>cov3_Mdc1-488 H3K27ac-568 RNApol647_.nd2_Pos2</td>\n",
       "      <td>1</td>\n",
       "      <td>[[1439, 378], 5]</td>\n",
       "      <td>151</td>\n",
       "      <td>0</td>\n",
       "      <td>151</td>\n",
       "      <td>14275</td>\n",
       "      <td>3333</td>\n",
       "      <td>...</td>\n",
       "      <td>NaN</td>\n",
       "      <td>465.948233</td>\n",
       "      <td>1.804557</td>\n",
       "      <td>1.608677</td>\n",
       "      <td>1.257394</td>\n",
       "      <td>1.641389</td>\n",
       "      <td>2.243746</td>\n",
       "      <td>1.568328</td>\n",
       "      <td>1.229097</td>\n",
       "      <td>1.314996</td>\n",
       "    </tr>\n",
       "    <tr>\n",
       "      <th>...</th>\n",
       "      <td>...</td>\n",
       "      <td>...</td>\n",
       "      <td>...</td>\n",
       "      <td>...</td>\n",
       "      <td>...</td>\n",
       "      <td>...</td>\n",
       "      <td>...</td>\n",
       "      <td>...</td>\n",
       "      <td>...</td>\n",
       "      <td>...</td>\n",
       "      <td>...</td>\n",
       "      <td>...</td>\n",
       "      <td>...</td>\n",
       "      <td>...</td>\n",
       "      <td>...</td>\n",
       "      <td>...</td>\n",
       "      <td>...</td>\n",
       "      <td>...</td>\n",
       "      <td>...</td>\n",
       "      <td>...</td>\n",
       "      <td>...</td>\n",
       "    </tr>\n",
       "    <tr>\n",
       "      <th>145</th>\n",
       "      <td>0</td>\n",
       "      <td>211101IF_211028exp_RPE1atcc</td>\n",
       "      <td>cov2_Mdc1-488 H3K27ac-568 RNApol647_001.nd2_Pos21</td>\n",
       "      <td>20</td>\n",
       "      <td>[[602, 1285], 5]</td>\n",
       "      <td>101</td>\n",
       "      <td>3</td>\n",
       "      <td>98</td>\n",
       "      <td>27189</td>\n",
       "      <td>7117</td>\n",
       "      <td>...</td>\n",
       "      <td>NaN</td>\n",
       "      <td>NaN</td>\n",
       "      <td>1.991209</td>\n",
       "      <td>0.918265</td>\n",
       "      <td>1.344975</td>\n",
       "      <td>0.844098</td>\n",
       "      <td>2.166272</td>\n",
       "      <td>1.379676</td>\n",
       "      <td>1.307471</td>\n",
       "      <td>1.512550</td>\n",
       "    </tr>\n",
       "    <tr>\n",
       "      <th>146</th>\n",
       "      <td>0</td>\n",
       "      <td>211101IF_211028exp_RPE1atcc</td>\n",
       "      <td>cov2_Mdc1-488 H3K27ac-568 RNApol647_001.nd2_Pos22</td>\n",
       "      <td>2</td>\n",
       "      <td>[[915, 367], 4]</td>\n",
       "      <td>211</td>\n",
       "      <td>0</td>\n",
       "      <td>211</td>\n",
       "      <td>15734</td>\n",
       "      <td>4369</td>\n",
       "      <td>...</td>\n",
       "      <td>NaN</td>\n",
       "      <td>1369.765112</td>\n",
       "      <td>0.890330</td>\n",
       "      <td>0.652369</td>\n",
       "      <td>0.772979</td>\n",
       "      <td>0.960992</td>\n",
       "      <td>2.365965</td>\n",
       "      <td>0.898186</td>\n",
       "      <td>0.756726</td>\n",
       "      <td>0.922343</td>\n",
       "    </tr>\n",
       "    <tr>\n",
       "      <th>147</th>\n",
       "      <td>0</td>\n",
       "      <td>211101IF_211028exp_RPE1atcc</td>\n",
       "      <td>cov2_Mdc1-488 H3K27ac-568 RNApol647_001.nd2_Pos22</td>\n",
       "      <td>5</td>\n",
       "      <td>[[1430, 576], 5]</td>\n",
       "      <td>134</td>\n",
       "      <td>0</td>\n",
       "      <td>134</td>\n",
       "      <td>17745</td>\n",
       "      <td>4693</td>\n",
       "      <td>...</td>\n",
       "      <td>NaN</td>\n",
       "      <td>1651.681536</td>\n",
       "      <td>1.147590</td>\n",
       "      <td>0.542122</td>\n",
       "      <td>0.687099</td>\n",
       "      <td>0.945220</td>\n",
       "      <td>2.208167</td>\n",
       "      <td>0.735887</td>\n",
       "      <td>0.825507</td>\n",
       "      <td>0.944517</td>\n",
       "    </tr>\n",
       "    <tr>\n",
       "      <th>148</th>\n",
       "      <td>0</td>\n",
       "      <td>211101IF_211028exp_RPE1atcc</td>\n",
       "      <td>cov2_Mdc1-488 H3K27ac-568 RNApol647_001.nd2_Pos22</td>\n",
       "      <td>8</td>\n",
       "      <td>[[1041, 908], 5]</td>\n",
       "      <td>1273</td>\n",
       "      <td>1</td>\n",
       "      <td>1272</td>\n",
       "      <td>38763</td>\n",
       "      <td>10393</td>\n",
       "      <td>...</td>\n",
       "      <td>NaN</td>\n",
       "      <td>945.751518</td>\n",
       "      <td>0.644754</td>\n",
       "      <td>0.746593</td>\n",
       "      <td>0.677016</td>\n",
       "      <td>0.807878</td>\n",
       "      <td>3.571962</td>\n",
       "      <td>0.752678</td>\n",
       "      <td>0.908100</td>\n",
       "      <td>0.774618</td>\n",
       "    </tr>\n",
       "    <tr>\n",
       "      <th>149</th>\n",
       "      <td>0</td>\n",
       "      <td>211101IF_211028exp_RPE1atcc</td>\n",
       "      <td>cov2_Mdc1-488 H3K27ac-568 RNApol647_001.nd2_Pos22</td>\n",
       "      <td>16</td>\n",
       "      <td>[[364, 1588], 5]</td>\n",
       "      <td>265</td>\n",
       "      <td>0</td>\n",
       "      <td>265</td>\n",
       "      <td>26886</td>\n",
       "      <td>6520</td>\n",
       "      <td>...</td>\n",
       "      <td>NaN</td>\n",
       "      <td>1256.136963</td>\n",
       "      <td>1.316003</td>\n",
       "      <td>1.110273</td>\n",
       "      <td>0.989241</td>\n",
       "      <td>0.895367</td>\n",
       "      <td>3.920441</td>\n",
       "      <td>0.961238</td>\n",
       "      <td>0.829798</td>\n",
       "      <td>0.932700</td>\n",
       "    </tr>\n",
       "  </tbody>\n",
       "</table>\n",
       "<p>700 rows × 48 columns</p>\n",
       "</div>"
      ],
      "text/plain": [
       "     Unnamed: 0                     exp_name  \\\n",
       "0             0                         Stam   \n",
       "1             0                         Stam   \n",
       "2             0                         Stam   \n",
       "3             0                         Stam   \n",
       "4             0                         Stam   \n",
       "..          ...                          ...   \n",
       "145           0  211101IF_211028exp_RPE1atcc   \n",
       "146           0  211101IF_211028exp_RPE1atcc   \n",
       "147           0  211101IF_211028exp_RPE1atcc   \n",
       "148           0  211101IF_211028exp_RPE1atcc   \n",
       "149           0  211101IF_211028exp_RPE1atcc   \n",
       "\n",
       "                                           position_id  cell_id  \\\n",
       "0        cov3_Mdc1-488 H3K27ac-568 RNApol647_.nd2_Pos1        3   \n",
       "1        cov3_Mdc1-488 H3K27ac-568 RNApol647_.nd2_Pos1        4   \n",
       "2        cov3_Mdc1-488 H3K27ac-568 RNApol647_.nd2_Pos1        8   \n",
       "3        cov3_Mdc1-488 H3K27ac-568 RNApol647_.nd2_Pos1        9   \n",
       "4        cov3_Mdc1-488 H3K27ac-568 RNApol647_.nd2_Pos2        1   \n",
       "..                                                 ...      ...   \n",
       "145  cov2_Mdc1-488 H3K27ac-568 RNApol647_001.nd2_Pos21       20   \n",
       "146  cov2_Mdc1-488 H3K27ac-568 RNApol647_001.nd2_Pos22        2   \n",
       "147  cov2_Mdc1-488 H3K27ac-568 RNApol647_001.nd2_Pos22        5   \n",
       "148  cov2_Mdc1-488 H3K27ac-568 RNApol647_001.nd2_Pos22        8   \n",
       "149  cov2_Mdc1-488 H3K27ac-568 RNApol647_001.nd2_Pos22       16   \n",
       "\n",
       "        cell_xyz_coord  area_incorporated_chr  \\\n",
       "0     [[1319, 848], 6]                    154   \n",
       "1    [[1192, 1007], 6]                    643   \n",
       "2    [[1100, 1326], 6]                    113   \n",
       "3     [[383, 1336], 6]                    136   \n",
       "4     [[1439, 378], 5]                    151   \n",
       "..                 ...                    ...   \n",
       "145   [[602, 1285], 5]                    101   \n",
       "146    [[915, 367], 4]                    211   \n",
       "147   [[1430, 576], 5]                    134   \n",
       "148   [[1041, 908], 5]                   1273   \n",
       "149   [[364, 1588], 5]                    265   \n",
       "\n",
       "     area_K27ac_within_incorporated_chr  \\\n",
       "0                                     5   \n",
       "1                                     0   \n",
       "2                                     0   \n",
       "3                                     0   \n",
       "4                                     0   \n",
       "..                                  ...   \n",
       "145                                   3   \n",
       "146                                   0   \n",
       "147                                   0   \n",
       "148                                   1   \n",
       "149                                   0   \n",
       "\n",
       "     area_less_K27ac_within_incorporated_chr  area_control_chr  \\\n",
       "0                                        149             13683   \n",
       "1                                        643             19693   \n",
       "2                                        113             23930   \n",
       "3                                        136             25192   \n",
       "4                                        151             14275   \n",
       "..                                       ...               ...   \n",
       "145                                       98             27189   \n",
       "146                                      211             15734   \n",
       "147                                      134             17745   \n",
       "148                                     1272             38763   \n",
       "149                                      265             26886   \n",
       "\n",
       "     area_nucleo-excluded_control_chr  ...  \\\n",
       "0                                3812  ...   \n",
       "1                                5068  ...   \n",
       "2                                5357  ...   \n",
       "3                                5732  ...   \n",
       "4                                3333  ...   \n",
       "..                                ...  ...   \n",
       "145                              7117  ...   \n",
       "146                              4369  ...   \n",
       "147                              4693  ...   \n",
       "148                             10393  ...   \n",
       "149                              6520  ...   \n",
       "\n",
       "     ave_intensity_K27ac_pos_incorporated_chr_Pol2S5  \\\n",
       "0                                                NaN   \n",
       "1                                                NaN   \n",
       "2                                                NaN   \n",
       "3                                                NaN   \n",
       "4                                                NaN   \n",
       "..                                               ...   \n",
       "145                                              NaN   \n",
       "146                                              NaN   \n",
       "147                                              NaN   \n",
       "148                                              NaN   \n",
       "149                                              NaN   \n",
       "\n",
       "     ave_intensity_K27ac_less_incorporated_chr_Pol2S5  normalized_inc_Pol2S5  \\\n",
       "0                                         1294.764965               2.726215   \n",
       "1                                          200.008826               0.535257   \n",
       "2                                          232.959155               0.624672   \n",
       "3                                          210.744106               0.772287   \n",
       "4                                          465.948233               1.804557   \n",
       "..                                                ...                    ...   \n",
       "145                                               NaN               1.991209   \n",
       "146                                       1369.765112               0.890330   \n",
       "147                                       1651.681536               1.147590   \n",
       "148                                        945.751518               0.644754   \n",
       "149                                       1256.136963               1.316003   \n",
       "\n",
       "     normalized_subset_control_Pol2S5  normalized_inc_H3K27ac  \\\n",
       "0                            0.774323                1.516563   \n",
       "1                            0.908936                0.693011   \n",
       "2                            1.010346                0.817854   \n",
       "3                            0.769484                0.840653   \n",
       "4                            1.608677                1.257394   \n",
       "..                                ...                     ...   \n",
       "145                          0.918265                1.344975   \n",
       "146                          0.652369                0.772979   \n",
       "147                          0.542122                0.687099   \n",
       "148                          0.746593                0.677016   \n",
       "149                          1.110273                0.989241   \n",
       "\n",
       "     normalized_subset_control_H3K27ac  normalized_inc_Mdc1  \\\n",
       "0                             0.864426             2.124869   \n",
       "1                             0.829669             9.411777   \n",
       "2                             1.288770             5.128845   \n",
       "3                             0.924096             3.359175   \n",
       "4                             1.641389             2.243746   \n",
       "..                                 ...                  ...   \n",
       "145                           0.844098             2.166272   \n",
       "146                           0.960992             2.365965   \n",
       "147                           0.945220             2.208167   \n",
       "148                           0.807878             3.571962   \n",
       "149                           0.895367             3.920441   \n",
       "\n",
       "     normalized_subset_control_Mdc1  normalized_inc_dna  \\\n",
       "0                          1.289138            0.973579   \n",
       "1                          1.657308            0.997616   \n",
       "2                          0.724575            0.638584   \n",
       "3                          1.180447            1.642245   \n",
       "4                          1.568328            1.229097   \n",
       "..                              ...                 ...   \n",
       "145                        1.379676            1.307471   \n",
       "146                        0.898186            0.756726   \n",
       "147                        0.735887            0.825507   \n",
       "148                        0.752678            0.908100   \n",
       "149                        0.961238            0.829798   \n",
       "\n",
       "     normalized_subset_control_dna  \n",
       "0                         1.304567  \n",
       "1                         0.790139  \n",
       "2                         0.979899  \n",
       "3                         1.150379  \n",
       "4                         1.314996  \n",
       "..                             ...  \n",
       "145                       1.512550  \n",
       "146                       0.922343  \n",
       "147                       0.944517  \n",
       "148                       0.774618  \n",
       "149                       0.932700  \n",
       "\n",
       "[700 rows x 48 columns]"
      ]
     },
     "execution_count": 33,
     "metadata": {},
     "output_type": "execute_result"
    }
   ],
   "source": [
    "analysis_df"
   ]
  },
  {
   "cell_type": "code",
   "execution_count": 34,
   "metadata": {},
   "outputs": [],
   "source": [
    "#analysis_savename = 'rpe1_h3k27_pol2_analyzed.xlsx'\n",
    "\n",
    "analysis_df.to_excel(analysis_save_path+os.sep+analysis_savename, index=False)"
   ]
  },
  {
   "cell_type": "code",
   "execution_count": 20,
   "metadata": {},
   "outputs": [
    {
     "name": "stdout",
     "output_type": "stream",
     "text": [
      "MW comparision: 3.266417838318147e-13\n"
     ]
    },
    {
     "data": {
      "image/png": "[encoded data removed]",
      "text/plain": [
       "<Figure size 432x288 with 1 Axes>"
      ]
     },
     "metadata": {
      "needs_background": "light"
     },
     "output_type": "display_data"
    }
   ],
   "source": [
    "# for dna\n",
    "\n",
    "# \n",
    "g1 = analysis_df['normalized_inc_dna']\n",
    "g2 = analysis_df['normalized_subset_control_dna']\n",
    "#g3 = no_damaged_chr_df['normalized_inc_Pol2S5']\n",
    "#g4 = analysis_df['normalized_subset_control_Pol2S5']\n",
    "\n",
    "#sp_low = min(len(g1),len(g2),len(g3))\n",
    "#sp_low = min(len(g1),len(g2), len(g3))\n",
    "\n",
    "#g1 = np.random.choice(g1, sp_low)\n",
    "#g2 = np.random.choice(g2, sp_low)\n",
    "#g3 = np.random.choice(g3, sp_low)\n",
    "#g4 = np.random.choice(g4, sp_low)\n",
    "\n",
    "boxplot_pol2= plt.boxplot([g1,g2], meanline = True)\n",
    "\n",
    "\n",
    "vals, xs = [], [] \n",
    "\n",
    "for i, subdf in enumerate([g1,g2]):\n",
    "    #names.append(name)\n",
    "    vals.append(subdf.tolist())\n",
    "    xs.append(np.random.normal(i+1, 0.04, subdf.shape[0]))\n",
    "\n",
    "for x, val in zip(xs, vals):\n",
    "    plt.scatter(x, val,  s = 1, alpha=0.3)\n",
    "\n",
    "from scipy.stats import mannwhitneyu\n",
    "from scipy.stats import kruskal\n",
    "#p4 = kruskal(g1,g2,g3,g4)\n",
    "\n",
    "U1, p1 = mannwhitneyu(g1,g2)\n",
    "\n",
    "print(f\"MW comparision: {p1}\")\n",
    "\n",
    "\n",
    "\n",
    "#print(f\"three samples comparision: {p4}\")"
   ]
  },
  {
   "cell_type": "code",
   "execution_count": 19,
   "metadata": {},
   "outputs": [
    {
     "name": "stdout",
     "output_type": "stream",
     "text": [
      "MW comparision: 7.485698342640083e-230\n"
     ]
    },
    {
     "data": {
      "image/png": "[encoded data removed]",
      "text/plain": [
       "<Figure size 432x288 with 1 Axes>"
      ]
     },
     "metadata": {
      "needs_background": "light"
     },
     "output_type": "display_data"
    }
   ],
   "source": [
    "# for mdc1\n",
    "\n",
    "# \n",
    "g1 = analysis_df['normalized_inc_Mdc1']\n",
    "g2 = analysis_df['normalized_subset_control_Mdc1']\n",
    "#g3 = no_damaged_chr_df['normalized_inc_Pol2S5']\n",
    "#g4 = analysis_df['normalized_subset_control_Pol2S5']\n",
    "\n",
    "#sp_low = min(len(g1),len(g2),len(g3))\n",
    "#sp_low = min(len(g1),len(g2), len(g3))\n",
    "\n",
    "#g1 = np.random.choice(g1, sp_low)\n",
    "#g2 = np.random.choice(g2, sp_low)\n",
    "#g3 = np.random.choice(g3, sp_low)\n",
    "#g4 = np.random.choice(g4, sp_low)\n",
    "\n",
    "boxplot_pol2= plt.boxplot([g1,g2], meanline = True)\n",
    "\n",
    "\n",
    "vals, xs = [], [] \n",
    "\n",
    "for i, subdf in enumerate([g1,g2]):\n",
    "    #names.append(name)\n",
    "    vals.append(subdf.tolist())\n",
    "    xs.append(np.random.normal(i+1, 0.04, subdf.shape[0]))\n",
    "\n",
    "for x, val in zip(xs, vals):\n",
    "    plt.scatter(x, val,  s = 1, alpha=0.3)\n",
    "\n",
    "from scipy.stats import mannwhitneyu\n",
    "from scipy.stats import kruskal\n",
    "#p4 = kruskal(g1,g2,g3,g4)\n",
    "\n",
    "U1, p1 = mannwhitneyu(g1,g2)\n",
    "\n",
    "print(f\"MW comparision: {p1}\")\n",
    "\n",
    "\n",
    "\n",
    "#print(f\"three samples comparision: {p4}\")"
   ]
  },
  {
   "cell_type": "code",
   "execution_count": 18,
   "metadata": {},
   "outputs": [
    {
     "name": "stdout",
     "output_type": "stream",
     "text": [
      "MW comparision: 4.149855090551647e-42\n"
     ]
    },
    {
     "data": {
      "image/png": "[encoded data removed]",
      "text/plain": [
       "<Figure size 432x288 with 1 Axes>"
      ]
     },
     "metadata": {
      "needs_background": "light"
     },
     "output_type": "display_data"
    }
   ],
   "source": [
    "# For Pol2S5\n",
    "g1 = analysis_df['normalized_inc_Pol2S5']\n",
    "g2 = analysis_df['normalized_subset_control_Pol2S5']\n",
    "#g3 = no_damaged_chr_df['normalized_inc_Pol2S5']\n",
    "#g4 = analysis_df['normalized_subset_control_Pol2S5']\n",
    "\n",
    "#sp_low = min(len(g1),len(g2),len(g3))\n",
    "#sp_low = min(len(g1),len(g2), len(g3))\n",
    "\n",
    "#g1 = np.random.choice(g1, sp_low)\n",
    "#g2 = np.random.choice(g2, sp_low)\n",
    "#g3 = np.random.choice(g3, sp_low)\n",
    "#g4 = np.random.choice(g4, sp_low)\n",
    "\n",
    "boxplot_pol2= plt.boxplot([g1,g2], meanline = True)\n",
    "\n",
    "\n",
    "vals, xs = [], [] \n",
    "\n",
    "for i, subdf in enumerate([g1,g2]):\n",
    "    #names.append(name)\n",
    "    vals.append(subdf.tolist())\n",
    "    xs.append(np.random.normal(i+1, 0.04, subdf.shape[0]))\n",
    "\n",
    "for x, val in zip(xs, vals):\n",
    "    plt.scatter(x, val,  s = 1, alpha=0.3)\n",
    "\n",
    "from scipy.stats import mannwhitneyu\n",
    "from scipy.stats import kruskal\n",
    "#p4 = kruskal(g1,g2,g3,g4)\n",
    "\n",
    "U1, p1 = mannwhitneyu(g1,g2)\n",
    "\n",
    "print(f\"MW comparision: {p1}\")\n",
    "\n",
    "\n",
    "\n",
    "#print(f\"three samples comparision: {p4}\")"
   ]
  },
  {
   "cell_type": "code",
   "execution_count": 21,
   "metadata": {},
   "outputs": [
    {
     "name": "stdout",
     "output_type": "stream",
     "text": [
      "MW comparision: 1.8591405686156587e-51\n"
     ]
    },
    {
     "data": {
      "image/png": "[encoded data removed]",
      "text/plain": [
       "<Figure size 432x288 with 1 Axes>"
      ]
     },
     "metadata": {
      "needs_background": "light"
     },
     "output_type": "display_data"
    }
   ],
   "source": [
    "# For Pol2S5 norm to dna\n",
    "g1 = analysis_df['normalized_inc_Pol2S5']/analysis_df['normalized_inc_dna']\n",
    "g2 = analysis_df['normalized_subset_control_Pol2S5']/analysis_df['normalized_subset_control_dna']\n",
    "#g3 = no_damaged_chr_df['normalized_inc_Pol2S5']\n",
    "#g4 = analysis_df['normalized_subset_control_Pol2S5']\n",
    "\n",
    "#sp_low = min(len(g1),len(g2),len(g3))\n",
    "#sp_low = min(len(g1),len(g2), len(g3))\n",
    "\n",
    "#g1 = np.random.choice(g1, sp_low)\n",
    "#g2 = np.random.choice(g2, sp_low)\n",
    "#g3 = np.random.choice(g3, sp_low)\n",
    "#g4 = np.random.choice(g4, sp_low)\n",
    "\n",
    "boxplot_pol2= plt.boxplot([g1,g2], meanline = True)\n",
    "\n",
    "\n",
    "vals, xs = [], [] \n",
    "\n",
    "for i, subdf in enumerate([g1,g2]):\n",
    "    #names.append(name)\n",
    "    vals.append(subdf.tolist())\n",
    "    xs.append(np.random.normal(i+1, 0.04, subdf.shape[0]))\n",
    "\n",
    "for x, val in zip(xs, vals):\n",
    "    plt.scatter(x, val,  s = 1, alpha=0.3)\n",
    "\n",
    "from scipy.stats import mannwhitneyu\n",
    "from scipy.stats import kruskal\n",
    "#p4 = kruskal(g1,g2,g3,g4)\n",
    "\n",
    "U1, p1 = mannwhitneyu(g1,g2)\n",
    "\n",
    "print(f\"MW comparision: {p1}\")\n",
    "\n",
    "\n",
    "\n",
    "#print(f\"three samples comparision: {p4}\")"
   ]
  },
  {
   "cell_type": "code",
   "execution_count": 22,
   "metadata": {},
   "outputs": [
    {
     "name": "stdout",
     "output_type": "stream",
     "text": [
      "MW comparision: 1.5391413256142678e-33\n"
     ]
    },
    {
     "data": {
      "image/png": "[encoded data removed]",
      "text/plain": [
       "<Figure size 432x288 with 1 Axes>"
      ]
     },
     "metadata": {
      "needs_background": "light"
     },
     "output_type": "display_data"
    }
   ],
   "source": [
    "# For H2ax\n",
    "g1 = analysis_df['normalized_inc_H3K27ac']\n",
    "g2 = analysis_df['normalized_subset_control_H3K27ac']\n",
    "#g3 = no_damaged_chr_df['normalized_inc_Pol2S5']\n",
    "#g4 = analysis_df['normalized_subset_control_Pol2S5']\n",
    "\n",
    "#sp_low = min(len(g1),len(g2),len(g3))\n",
    "#sp_low = min(len(g1),len(g2), len(g3))\n",
    "\n",
    "#g1 = np.random.choice(g1, sp_low)\n",
    "#g2 = np.random.choice(g2, sp_low)\n",
    "#g3 = np.random.choice(g3, sp_low)\n",
    "#g4 = np.random.choice(g4, sp_low)\n",
    "\n",
    "boxplot_pol2= plt.boxplot([g1,g2], meanline = True)\n",
    "\n",
    "\n",
    "vals, xs = [], [] \n",
    "\n",
    "for i, subdf in enumerate([g1,g2]):\n",
    "    #names.append(name)\n",
    "    vals.append(subdf.tolist())\n",
    "    xs.append(np.random.normal(i+1, 0.04, subdf.shape[0]))\n",
    "\n",
    "for x, val in zip(xs, vals):\n",
    "    plt.scatter(x, val,  s = 1, alpha=0.3)\n",
    "\n",
    "\n",
    "from scipy.stats import kruskal\n",
    "#p4 = kruskal(g1,g2,g3,g4)\n",
    "from scipy.stats import mannwhitneyu\n",
    "U1, p1 = mannwhitneyu(g1,g2)\n",
    "\n",
    "print(f\"MW comparision: {p1}\")\n",
    "\n",
    "\n",
    "\n",
    "#print(f\"three samples comparision: {p4}\")"
   ]
  },
  {
   "cell_type": "code",
   "execution_count": 23,
   "metadata": {},
   "outputs": [
    {
     "name": "stdout",
     "output_type": "stream",
     "text": [
      "MW comparision: 2.3815614559674105e-39\n"
     ]
    },
    {
     "data": {
      "image/png": "[encoded data removed]",
      "text/plain": [
       "<Figure size 432x288 with 1 Axes>"
      ]
     },
     "metadata": {
      "needs_background": "light"
     },
     "output_type": "display_data"
    }
   ],
   "source": [
    "# For H2ax\n",
    "g1 = analysis_df['normalized_inc_H3K27ac']/analysis_df['normalized_inc_dna']\n",
    "g2 = analysis_df['normalized_subset_control_H3K27ac']/analysis_df['normalized_subset_control_dna']\n",
    "#g3 = no_damaged_chr_df['normalized_inc_Pol2S5']\n",
    "#g4 = analysis_df['normalized_subset_control_Pol2S5']\n",
    "\n",
    "#sp_low = min(len(g1),len(g2),len(g3))\n",
    "#sp_low = min(len(g1),len(g2), len(g3))\n",
    "\n",
    "#g1 = np.random.choice(g1, sp_low)\n",
    "#g2 = np.random.choice(g2, sp_low)\n",
    "#g3 = np.random.choice(g3, sp_low)\n",
    "#g4 = np.random.choice(g4, sp_low)\n",
    "\n",
    "boxplot_pol2= plt.boxplot([g1,g2], meanline = True)\n",
    "\n",
    "\n",
    "vals, xs = [], [] \n",
    "\n",
    "for i, subdf in enumerate([g1,g2]):\n",
    "    #names.append(name)\n",
    "    vals.append(subdf.tolist())\n",
    "    xs.append(np.random.normal(i+1, 0.04, subdf.shape[0]))\n",
    "\n",
    "for x, val in zip(xs, vals):\n",
    "    plt.scatter(x, val,  s = 1, alpha=0.3)\n",
    "\n",
    "\n",
    "from scipy.stats import kruskal\n",
    "#p4 = kruskal(g1,g2,g3,g4)\n",
    "from scipy.stats import mannwhitneyu\n",
    "U1, p1 = mannwhitneyu(g1,g2)\n",
    "\n",
    "print(f\"MW comparision: {p1}\")\n",
    "\n",
    "\n",
    "\n",
    "#print(f\"three samples comparision: {p4}\")"
   ]
  },
  {
   "cell_type": "code",
   "execution_count": 24,
   "metadata": {},
   "outputs": [
    {
     "data": {
      "text/plain": [
       "SpearmanrResult(correlation=0.6986192100100495, pvalue=1.411938293309109e-103)"
      ]
     },
     "execution_count": 24,
     "metadata": {},
     "output_type": "execute_result"
    }
   ],
   "source": [
    "from scipy import stats\n",
    "stats.spearmanr(analysis_df['normalized_inc_Pol2S5'], analysis_df['normalized_inc_H3K27ac'])"
   ]
  },
  {
   "cell_type": "code",
   "execution_count": 35,
   "metadata": {},
   "outputs": [
    {
     "data": {
      "text/plain": [
       "SpearmanrResult(correlation=0.6986192100100495, pvalue=1.411938293309109e-103)"
      ]
     },
     "execution_count": 35,
     "metadata": {},
     "output_type": "execute_result"
    },
    {
     "data": {
      "image/png": "[encoded data removed]",
      "text/plain": [
       "<Figure size 432x288 with 1 Axes>"
      ]
     },
     "metadata": {
      "needs_background": "light"
     },
     "output_type": "display_data"
    }
   ],
   "source": [
    "plt.scatter(x= analysis_df['normalized_inc_Pol2S5'], y =analysis_df['normalized_inc_H3K27ac'])\n",
    "\n",
    "stats.spearmanr(analysis_df['normalized_inc_Pol2S5'], analysis_df['normalized_inc_H3K27ac'])"
   ]
  },
  {
   "cell_type": "code",
   "execution_count": 36,
   "metadata": {},
   "outputs": [
    {
     "data": {
      "text/plain": [
       "SpearmanrResult(correlation=0.6986192100100495, pvalue=1.411938293309109e-103)"
      ]
     },
     "execution_count": 36,
     "metadata": {},
     "output_type": "execute_result"
    },
    {
     "data": {
      "image/png": "[encoded data removed]",
      "text/plain": [
       "<Figure size 432x288 with 1 Axes>"
      ]
     },
     "metadata": {
      "needs_background": "light"
     },
     "output_type": "display_data"
    }
   ],
   "source": [
    "plt.scatter(x= analysis_df['normalized_subset_control_Pol2S5'], y =analysis_df['normalized_subset_control_H3K27ac'])\n",
    "\n",
    "stats.spearmanr(analysis_df['normalized_inc_Pol2S5'], analysis_df['normalized_inc_H3K27ac'])"
   ]
  },
  {
   "cell_type": "code",
   "execution_count": 27,
   "metadata": {},
   "outputs": [
    {
     "data": {
      "text/plain": [
       "SpearmanrResult(correlation=0.3678178935059051, pvalue=7.553399517608032e-24)"
      ]
     },
     "execution_count": 27,
     "metadata": {},
     "output_type": "execute_result"
    }
   ],
   "source": [
    "stats.spearmanr(analysis_df['normalized_subset_control_Pol2S5'], analysis_df['normalized_subset_control_H3K27ac'])"
   ]
  }
 ],
 "metadata": {
  "kernelspec": {
   "display_name": "Python 3",
   "language": "python",
   "name": "python3"
  },
  "language_info": {
   "codemirror_mode": {
    "name": "ipython",
    "version": 3
   },
   "file_extension": ".py",
   "mimetype": "text/x-python",
   "name": "python",
   "nbconvert_exporter": "python",
   "pygments_lexer": "ipython3",
   "version": "3.7.6"
  }
 },
 "nbformat": 4,
 "nbformat_minor": 4
}

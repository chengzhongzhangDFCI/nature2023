{
 "cells": [
  {
   "cell_type": "markdown",
   "metadata": {},
   "source": [
    "# 1. Import required modules"
   ]
  },
  {
   "cell_type": "code",
   "execution_count": 1,
   "metadata": {},
   "outputs": [
    {
     "name": "stderr",
     "output_type": "stream",
     "text": [
      "c:\\programdata\\anaconda3\\lib\\site-packages\\skimage\\io\\manage_plugins.py:23: UserWarning: Your installed pillow version is < 7.1.0. Several security issues (CVE-2020-11538, CVE-2020-10379, CVE-2020-10994, CVE-2020-10177) have been fixed in pillow 7.1.0 or higher. We recommend to upgrade this library.\n",
      "  from .collection import imread_collection_wrapper\n"
     ]
    }
   ],
   "source": [
    "import numpy as np\n",
    "import matplotlib.pyplot as plt\n",
    "from skimage import io\n",
    "from skimage import data\n",
    "import skimage\n",
    "from skimage.filters.thresholding import threshold_li,threshold_local,threshold_otsu\n",
    "from skimage.morphology import erosion, dilation, opening, closing, white_tophat, remove_small_objects, ball\n",
    "from skimage.morphology import disk\n",
    "from scipy import ndimage as ndi\n",
    "import sys,os, glob\n",
    "\n",
    "#import skimage.filters.median\n",
    "\n",
    "#import skimage.segmentation as seg\n",
    "#import skimage.filters as filters\n",
    "#import skimage.draw as draw\n",
    "#import skimage.color as color\n",
    "\n",
    "#from skimage.filters.thresholding import _cross_entropy\n",
    "#from skimage.morphology import black_tophat, skeletonize, convex_hull_image\n",
    "\n",
    "\n",
    "#pip install nd2reader_required for nd2 file reading\n",
    "from nd2reader import ND2Reader\n",
    "\n",
    "import pandas as pd"
   ]
  },
  {
   "cell_type": "markdown",
   "metadata": {},
   "source": [
    "# 2. Define common parameters for measurement loading here:"
   ]
  },
  {
   "cell_type": "code",
   "execution_count": 2,
   "metadata": {},
   "outputs": [],
   "source": [
    "# load experiment exp1\n",
    "\n",
    "analysis_fd = r'D:\\Analyzed_CellBio\\Stam\\211122IF_211101exp_Mdc1ab_45h\\cov3_Mdc1-568 H3K27me3-488 PolS5-647\\analysis_subset_controlled'\n",
    "\n",
    "exp1_df = pd.read_excel(analysis_fd + os.sep + 'measurement_for_all_fov_background_subtracted_2_100_crop.xlsx')"
   ]
  },
  {
   "cell_type": "code",
   "execution_count": 3,
   "metadata": {},
   "outputs": [],
   "source": [
    "# load experiment exp2\n",
    "\n",
    "analysis_fd = r'D:\\Analyzed_CellBio\\Stam\\211125IF_211121exp_Mdc1ab_45h\\cov2_Mdc1-568 H3K27me3-488 PolS5-647\\analysis_subset_controlled'\n",
    "\n",
    "exp2_df = pd.read_excel(analysis_fd + os.sep + 'measurement_for_all_fov_background_subtracted_2_100_crop.xlsx')"
   ]
  },
  {
   "cell_type": "code",
   "execution_count": 4,
   "metadata": {},
   "outputs": [],
   "source": [
    "combined_df = pd.concat([exp1_df,exp2_df])\n",
    "\n",
    "len(combined_df)\n",
    "\n",
    "\n",
    "measurement_for_all_fov_df = combined_df"
   ]
  },
  {
   "cell_type": "markdown",
   "metadata": {},
   "source": [
    "# 3. Post-hoc analysis examples"
   ]
  },
  {
   "cell_type": "code",
   "execution_count": 5,
   "metadata": {},
   "outputs": [],
   "source": [
    "#len(measurement_for_all_fov_df)\n",
    "\n",
    "\n",
    "analysis_save_path = r'D:\\Analyzed_CellBio\\Stam\\Mdc1_fixed_analysis'\n",
    "\n",
    "analysis_savename = 'mdc-568_h3k27me3_pol2_analyzed.xlsx'"
   ]
  },
  {
   "cell_type": "code",
   "execution_count": 7,
   "metadata": {},
   "outputs": [
    {
     "data": {
      "text/plain": [
       "564"
      ]
     },
     "execution_count": 7,
     "metadata": {},
     "output_type": "execute_result"
    }
   ],
   "source": [
    "# remove the bad cell that has no Pol2 signal\n",
    "analysis_df=measurement_for_all_fov_df[measurement_for_all_fov_df['ave_intensity_control_chr_Pol2S5']>0].copy()\n",
    "\n",
    "len(analysis_df)\n",
    "\n",
    "#analysis_df.to_excel(analysis_save_path+os.sep+analysis_savename, index=False)"
   ]
  },
  {
   "cell_type": "code",
   "execution_count": 8,
   "metadata": {},
   "outputs": [
    {
     "name": "stdout",
     "output_type": "stream",
     "text": [
      "0.7506099877137081\n",
      "1.0156007286873898\n",
      "1.0702446066205384\n",
      "0.992930081967619\n",
      "5.182352676791986\n",
      "0.9961781056970261\n",
      "1.1298723881884547\n",
      "1.0056843630295231\n"
     ]
    }
   ],
   "source": [
    "# remove the bad cell that has no Pol2 signal\n",
    "#analysis_df=measurement_for_all_fov_df[measurement_for_all_fov_df['ave_intensity_control_chr_Pol2S5']>0].copy()\n",
    "\n",
    "# for total incorporated chr\n",
    "analysis_df['normalized_inc_Pol2S5']=analysis_df['ave_intensity_incorporated_chr_Pol2S5']/analysis_df['ave_intensity_nucleo-excluded_control_chr_Pol2S5']\n",
    "print(analysis_df['normalized_inc_Pol2S5'].mean())\n",
    "\n",
    "\n",
    "# for subset control\n",
    "analysis_df['normalized_subset_control_Pol2S5']=analysis_df['ave_intensity_subset_control_chr_Pol2S5']/analysis_df['ave_intensity_nucleo-excluded_control_chr_Pol2S5']\n",
    "print(analysis_df['normalized_subset_control_Pol2S5'].mean())\n",
    "\n",
    "\n",
    "\n",
    "# get the h2ax-positive area vs h2ax-less (positive) area for the same cell\n",
    "analysis_df['normalized_inc_H3K27me3'] = analysis_df['ave_intensity_incorporated_chr_H3K27me3']/analysis_df['ave_intensity_nucleo-excluded_control_chr_H3K27me3']\n",
    "print(analysis_df['normalized_inc_H3K27me3'].mean())\n",
    "\n",
    "\n",
    "# for subset control\n",
    "analysis_df['normalized_subset_control_H3K27me3']=analysis_df['ave_intensity_subset_control_chr_H3K27me3']/analysis_df['ave_intensity_nucleo-excluded_control_chr_H3K27me3']\n",
    "print(analysis_df['normalized_subset_control_H3K27me3'].mean())\n",
    "\n",
    "\n",
    "\n",
    "\n",
    "\n",
    "\n",
    "# get the h2ax-positive area vs h2ax-less (positive) area for the same cell\n",
    "analysis_df['normalized_inc_Mdc1'] = analysis_df['ave_intensity_incorporated_chr_Mdc1']/analysis_df['ave_intensity_nucleo-excluded_control_chr_Mdc1']\n",
    "print(analysis_df['normalized_inc_Mdc1'].mean())\n",
    "\n",
    "\n",
    "# for subset control\n",
    "analysis_df['normalized_subset_control_Mdc1']=analysis_df['ave_intensity_subset_control_chr_Mdc1']/analysis_df['ave_intensity_nucleo-excluded_control_chr_Mdc1']\n",
    "print(analysis_df['normalized_subset_control_Mdc1'].mean())\n",
    "\n",
    "\n",
    "\n",
    "\n",
    "\n",
    "# get the h2ax-positive area vs h2ax-less (positive) area for the same cell\n",
    "analysis_df['normalized_inc_dna'] = analysis_df['ave_intensity_incorporated_chr_dna']/analysis_df['ave_intensity_nucleo-excluded_control_chr_dna']\n",
    "print(analysis_df['normalized_inc_dna'].mean())\n",
    "\n",
    "\n",
    "# for subset control\n",
    "analysis_df['normalized_subset_control_dna']=analysis_df['ave_intensity_subset_control_chr_dna']/analysis_df['ave_intensity_nucleo-excluded_control_chr_dna']\n",
    "print(analysis_df['normalized_subset_control_dna'].mean())"
   ]
  },
  {
   "cell_type": "code",
   "execution_count": 9,
   "metadata": {},
   "outputs": [
    {
     "data": {
      "text/html": [
       "<div>\n",
       "<style scoped>\n",
       "    .dataframe tbody tr th:only-of-type {\n",
       "        vertical-align: middle;\n",
       "    }\n",
       "\n",
       "    .dataframe tbody tr th {\n",
       "        vertical-align: top;\n",
       "    }\n",
       "\n",
       "    .dataframe thead th {\n",
       "        text-align: right;\n",
       "    }\n",
       "</style>\n",
       "<table border=\"1\" class=\"dataframe\">\n",
       "  <thead>\n",
       "    <tr style=\"text-align: right;\">\n",
       "      <th></th>\n",
       "      <th>Unnamed: 0</th>\n",
       "      <th>exp_name</th>\n",
       "      <th>position_id</th>\n",
       "      <th>cell_id</th>\n",
       "      <th>cell_xyz_coord</th>\n",
       "      <th>area_incorporated_chr</th>\n",
       "      <th>area_h2ax_within_incorporated_chr</th>\n",
       "      <th>area_less_h2ax_within_incorporated_chr</th>\n",
       "      <th>area_control_chr</th>\n",
       "      <th>area_nucleo-excluded_control_chr</th>\n",
       "      <th>...</th>\n",
       "      <th>ave_intensity_h2ax_pos_incorporated_chr_Pol2S5</th>\n",
       "      <th>ave_intensity_h2ax_less_incorporated_chr_Pol2S5</th>\n",
       "      <th>normalized_inc_Pol2S5</th>\n",
       "      <th>normalized_subset_control_Pol2S5</th>\n",
       "      <th>normalized_inc_H3K27me3</th>\n",
       "      <th>normalized_subset_control_H3K27me3</th>\n",
       "      <th>normalized_inc_Mdc1</th>\n",
       "      <th>normalized_subset_control_Mdc1</th>\n",
       "      <th>normalized_inc_dna</th>\n",
       "      <th>normalized_subset_control_dna</th>\n",
       "    </tr>\n",
       "  </thead>\n",
       "  <tbody>\n",
       "    <tr>\n",
       "      <th>0</th>\n",
       "      <td>0</td>\n",
       "      <td>cov3_Mdc1-568 H3K27me3-488 PolS5-647</td>\n",
       "      <td>RPE1 atcc noco45h Mdc1-568 H3K27me3-488 RNApol...</td>\n",
       "      <td>6</td>\n",
       "      <td>[[1072, 1049], 4]</td>\n",
       "      <td>1100</td>\n",
       "      <td>44</td>\n",
       "      <td>1056</td>\n",
       "      <td>21804</td>\n",
       "      <td>5311</td>\n",
       "      <td>...</td>\n",
       "      <td>NaN</td>\n",
       "      <td>715.105937</td>\n",
       "      <td>0.674154</td>\n",
       "      <td>0.980039</td>\n",
       "      <td>1.290331</td>\n",
       "      <td>1.119074</td>\n",
       "      <td>4.734387</td>\n",
       "      <td>0.874302</td>\n",
       "      <td>0.920664</td>\n",
       "      <td>0.819612</td>\n",
       "    </tr>\n",
       "    <tr>\n",
       "      <th>1</th>\n",
       "      <td>0</td>\n",
       "      <td>cov3_Mdc1-568 H3K27me3-488 PolS5-647</td>\n",
       "      <td>RPE1 atcc noco45h Mdc1-568 H3K27me3-488 RNApol...</td>\n",
       "      <td>16</td>\n",
       "      <td>[[1488, 1692], 6]</td>\n",
       "      <td>469</td>\n",
       "      <td>0</td>\n",
       "      <td>469</td>\n",
       "      <td>37446</td>\n",
       "      <td>8779</td>\n",
       "      <td>...</td>\n",
       "      <td>NaN</td>\n",
       "      <td>1942.521652</td>\n",
       "      <td>2.276958</td>\n",
       "      <td>0.824895</td>\n",
       "      <td>0.869638</td>\n",
       "      <td>1.058275</td>\n",
       "      <td>4.095347</td>\n",
       "      <td>1.267839</td>\n",
       "      <td>1.239617</td>\n",
       "      <td>1.154156</td>\n",
       "    </tr>\n",
       "    <tr>\n",
       "      <th>2</th>\n",
       "      <td>0</td>\n",
       "      <td>cov3_Mdc1-568 H3K27me3-488 PolS5-647</td>\n",
       "      <td>RPE1 atcc noco45h Mdc1-568 H3K27me3-488 RNApol...</td>\n",
       "      <td>3</td>\n",
       "      <td>[[1038, 996], 4]</td>\n",
       "      <td>554</td>\n",
       "      <td>42</td>\n",
       "      <td>512</td>\n",
       "      <td>11939</td>\n",
       "      <td>3522</td>\n",
       "      <td>...</td>\n",
       "      <td>NaN</td>\n",
       "      <td>779.533734</td>\n",
       "      <td>0.687205</td>\n",
       "      <td>1.147893</td>\n",
       "      <td>1.424646</td>\n",
       "      <td>1.319359</td>\n",
       "      <td>8.423556</td>\n",
       "      <td>1.015870</td>\n",
       "      <td>1.016765</td>\n",
       "      <td>0.925646</td>\n",
       "    </tr>\n",
       "    <tr>\n",
       "      <th>3</th>\n",
       "      <td>0</td>\n",
       "      <td>cov3_Mdc1-568 H3K27me3-488 PolS5-647</td>\n",
       "      <td>RPE1 atcc noco45h Mdc1-568 H3K27me3-488 RNApol...</td>\n",
       "      <td>18</td>\n",
       "      <td>[[819, 1405], 4]</td>\n",
       "      <td>448</td>\n",
       "      <td>35</td>\n",
       "      <td>413</td>\n",
       "      <td>13074</td>\n",
       "      <td>3502</td>\n",
       "      <td>...</td>\n",
       "      <td>NaN</td>\n",
       "      <td>404.501343</td>\n",
       "      <td>0.339175</td>\n",
       "      <td>1.446917</td>\n",
       "      <td>1.615610</td>\n",
       "      <td>1.330499</td>\n",
       "      <td>13.680087</td>\n",
       "      <td>1.484732</td>\n",
       "      <td>0.993938</td>\n",
       "      <td>0.783361</td>\n",
       "    </tr>\n",
       "    <tr>\n",
       "      <th>4</th>\n",
       "      <td>0</td>\n",
       "      <td>cov3_Mdc1-568 H3K27me3-488 PolS5-647</td>\n",
       "      <td>RPE1 atcc noco45h Mdc1-568 H3K27me3-488 RNApol...</td>\n",
       "      <td>6</td>\n",
       "      <td>[[1129, 951], 4]</td>\n",
       "      <td>681</td>\n",
       "      <td>95</td>\n",
       "      <td>586</td>\n",
       "      <td>11134</td>\n",
       "      <td>3266</td>\n",
       "      <td>...</td>\n",
       "      <td>NaN</td>\n",
       "      <td>666.628807</td>\n",
       "      <td>0.617157</td>\n",
       "      <td>1.088743</td>\n",
       "      <td>1.691066</td>\n",
       "      <td>1.138696</td>\n",
       "      <td>8.920842</td>\n",
       "      <td>0.800343</td>\n",
       "      <td>0.936407</td>\n",
       "      <td>0.849092</td>\n",
       "    </tr>\n",
       "    <tr>\n",
       "      <th>...</th>\n",
       "      <td>...</td>\n",
       "      <td>...</td>\n",
       "      <td>...</td>\n",
       "      <td>...</td>\n",
       "      <td>...</td>\n",
       "      <td>...</td>\n",
       "      <td>...</td>\n",
       "      <td>...</td>\n",
       "      <td>...</td>\n",
       "      <td>...</td>\n",
       "      <td>...</td>\n",
       "      <td>...</td>\n",
       "      <td>...</td>\n",
       "      <td>...</td>\n",
       "      <td>...</td>\n",
       "      <td>...</td>\n",
       "      <td>...</td>\n",
       "      <td>...</td>\n",
       "      <td>...</td>\n",
       "      <td>...</td>\n",
       "      <td>...</td>\n",
       "    </tr>\n",
       "    <tr>\n",
       "      <th>312</th>\n",
       "      <td>0</td>\n",
       "      <td>cov2_Mdc1-568 H3K27me3-488 PolS5-647</td>\n",
       "      <td>RPE1 atcc noco45h Mdc1-568 H3K27me3-488 RNApol...</td>\n",
       "      <td>17</td>\n",
       "      <td>[[967, 302], 4]</td>\n",
       "      <td>119</td>\n",
       "      <td>0</td>\n",
       "      <td>119</td>\n",
       "      <td>15251</td>\n",
       "      <td>4174</td>\n",
       "      <td>...</td>\n",
       "      <td>NaN</td>\n",
       "      <td>551.756837</td>\n",
       "      <td>0.710480</td>\n",
       "      <td>1.175018</td>\n",
       "      <td>0.484914</td>\n",
       "      <td>1.056653</td>\n",
       "      <td>2.844211</td>\n",
       "      <td>1.239252</td>\n",
       "      <td>0.789375</td>\n",
       "      <td>1.170297</td>\n",
       "    </tr>\n",
       "    <tr>\n",
       "      <th>313</th>\n",
       "      <td>0</td>\n",
       "      <td>cov2_Mdc1-568 H3K27me3-488 PolS5-647</td>\n",
       "      <td>RPE1 atcc noco45h Mdc1-568 H3K27me3-488 RNApol...</td>\n",
       "      <td>1</td>\n",
       "      <td>[[1300, 534], 4]</td>\n",
       "      <td>176</td>\n",
       "      <td>6</td>\n",
       "      <td>170</td>\n",
       "      <td>21324</td>\n",
       "      <td>5545</td>\n",
       "      <td>...</td>\n",
       "      <td>NaN</td>\n",
       "      <td>130.927272</td>\n",
       "      <td>0.173972</td>\n",
       "      <td>0.729147</td>\n",
       "      <td>0.999929</td>\n",
       "      <td>0.714037</td>\n",
       "      <td>2.581779</td>\n",
       "      <td>1.242338</td>\n",
       "      <td>1.494290</td>\n",
       "      <td>1.087873</td>\n",
       "    </tr>\n",
       "    <tr>\n",
       "      <th>314</th>\n",
       "      <td>0</td>\n",
       "      <td>cov2_Mdc1-568 H3K27me3-488 PolS5-647</td>\n",
       "      <td>RPE1 atcc noco45h Mdc1-568 H3K27me3-488 RNApol...</td>\n",
       "      <td>3</td>\n",
       "      <td>[[798, 517], 4]</td>\n",
       "      <td>114</td>\n",
       "      <td>0</td>\n",
       "      <td>114</td>\n",
       "      <td>17301</td>\n",
       "      <td>4457</td>\n",
       "      <td>...</td>\n",
       "      <td>NaN</td>\n",
       "      <td>539.762393</td>\n",
       "      <td>0.632998</td>\n",
       "      <td>0.777218</td>\n",
       "      <td>0.682172</td>\n",
       "      <td>1.238075</td>\n",
       "      <td>3.296538</td>\n",
       "      <td>0.738792</td>\n",
       "      <td>1.189925</td>\n",
       "      <td>0.884489</td>\n",
       "    </tr>\n",
       "    <tr>\n",
       "      <th>315</th>\n",
       "      <td>0</td>\n",
       "      <td>cov2_Mdc1-568 H3K27me3-488 PolS5-647</td>\n",
       "      <td>RPE1 atcc noco45h Mdc1-568 H3K27me3-488 RNApol...</td>\n",
       "      <td>7</td>\n",
       "      <td>[[1671, 1173], 3]</td>\n",
       "      <td>100</td>\n",
       "      <td>0</td>\n",
       "      <td>100</td>\n",
       "      <td>18643</td>\n",
       "      <td>5309</td>\n",
       "      <td>...</td>\n",
       "      <td>NaN</td>\n",
       "      <td>182.262648</td>\n",
       "      <td>0.229379</td>\n",
       "      <td>1.276282</td>\n",
       "      <td>0.858756</td>\n",
       "      <td>1.401723</td>\n",
       "      <td>3.000744</td>\n",
       "      <td>0.736676</td>\n",
       "      <td>1.685789</td>\n",
       "      <td>0.754598</td>\n",
       "    </tr>\n",
       "    <tr>\n",
       "      <th>316</th>\n",
       "      <td>0</td>\n",
       "      <td>cov2_Mdc1-568 H3K27me3-488 PolS5-647</td>\n",
       "      <td>RPE1 atcc noco45h Mdc1-568 H3K27me3-488 RNApol...</td>\n",
       "      <td>13</td>\n",
       "      <td>[[1117, 1063], 4]</td>\n",
       "      <td>605</td>\n",
       "      <td>25</td>\n",
       "      <td>580</td>\n",
       "      <td>17786</td>\n",
       "      <td>5169</td>\n",
       "      <td>...</td>\n",
       "      <td>NaN</td>\n",
       "      <td>358.936957</td>\n",
       "      <td>0.777656</td>\n",
       "      <td>1.208318</td>\n",
       "      <td>1.176140</td>\n",
       "      <td>1.105570</td>\n",
       "      <td>6.178597</td>\n",
       "      <td>1.056602</td>\n",
       "      <td>1.154080</td>\n",
       "      <td>1.100019</td>\n",
       "    </tr>\n",
       "  </tbody>\n",
       "</table>\n",
       "<p>564 rows × 48 columns</p>\n",
       "</div>"
      ],
      "text/plain": [
       "     Unnamed: 0                              exp_name  \\\n",
       "0             0  cov3_Mdc1-568 H3K27me3-488 PolS5-647   \n",
       "1             0  cov3_Mdc1-568 H3K27me3-488 PolS5-647   \n",
       "2             0  cov3_Mdc1-568 H3K27me3-488 PolS5-647   \n",
       "3             0  cov3_Mdc1-568 H3K27me3-488 PolS5-647   \n",
       "4             0  cov3_Mdc1-568 H3K27me3-488 PolS5-647   \n",
       "..          ...                                   ...   \n",
       "312           0  cov2_Mdc1-568 H3K27me3-488 PolS5-647   \n",
       "313           0  cov2_Mdc1-568 H3K27me3-488 PolS5-647   \n",
       "314           0  cov2_Mdc1-568 H3K27me3-488 PolS5-647   \n",
       "315           0  cov2_Mdc1-568 H3K27me3-488 PolS5-647   \n",
       "316           0  cov2_Mdc1-568 H3K27me3-488 PolS5-647   \n",
       "\n",
       "                                           position_id  cell_id  \\\n",
       "0    RPE1 atcc noco45h Mdc1-568 H3K27me3-488 RNApol...        6   \n",
       "1    RPE1 atcc noco45h Mdc1-568 H3K27me3-488 RNApol...       16   \n",
       "2    RPE1 atcc noco45h Mdc1-568 H3K27me3-488 RNApol...        3   \n",
       "3    RPE1 atcc noco45h Mdc1-568 H3K27me3-488 RNApol...       18   \n",
       "4    RPE1 atcc noco45h Mdc1-568 H3K27me3-488 RNApol...        6   \n",
       "..                                                 ...      ...   \n",
       "312  RPE1 atcc noco45h Mdc1-568 H3K27me3-488 RNApol...       17   \n",
       "313  RPE1 atcc noco45h Mdc1-568 H3K27me3-488 RNApol...        1   \n",
       "314  RPE1 atcc noco45h Mdc1-568 H3K27me3-488 RNApol...        3   \n",
       "315  RPE1 atcc noco45h Mdc1-568 H3K27me3-488 RNApol...        7   \n",
       "316  RPE1 atcc noco45h Mdc1-568 H3K27me3-488 RNApol...       13   \n",
       "\n",
       "        cell_xyz_coord  area_incorporated_chr  \\\n",
       "0    [[1072, 1049], 4]                   1100   \n",
       "1    [[1488, 1692], 6]                    469   \n",
       "2     [[1038, 996], 4]                    554   \n",
       "3     [[819, 1405], 4]                    448   \n",
       "4     [[1129, 951], 4]                    681   \n",
       "..                 ...                    ...   \n",
       "312    [[967, 302], 4]                    119   \n",
       "313   [[1300, 534], 4]                    176   \n",
       "314    [[798, 517], 4]                    114   \n",
       "315  [[1671, 1173], 3]                    100   \n",
       "316  [[1117, 1063], 4]                    605   \n",
       "\n",
       "     area_h2ax_within_incorporated_chr  \\\n",
       "0                                   44   \n",
       "1                                    0   \n",
       "2                                   42   \n",
       "3                                   35   \n",
       "4                                   95   \n",
       "..                                 ...   \n",
       "312                                  0   \n",
       "313                                  6   \n",
       "314                                  0   \n",
       "315                                  0   \n",
       "316                                 25   \n",
       "\n",
       "     area_less_h2ax_within_incorporated_chr  area_control_chr  \\\n",
       "0                                      1056             21804   \n",
       "1                                       469             37446   \n",
       "2                                       512             11939   \n",
       "3                                       413             13074   \n",
       "4                                       586             11134   \n",
       "..                                      ...               ...   \n",
       "312                                     119             15251   \n",
       "313                                     170             21324   \n",
       "314                                     114             17301   \n",
       "315                                     100             18643   \n",
       "316                                     580             17786   \n",
       "\n",
       "     area_nucleo-excluded_control_chr  ...  \\\n",
       "0                                5311  ...   \n",
       "1                                8779  ...   \n",
       "2                                3522  ...   \n",
       "3                                3502  ...   \n",
       "4                                3266  ...   \n",
       "..                                ...  ...   \n",
       "312                              4174  ...   \n",
       "313                              5545  ...   \n",
       "314                              4457  ...   \n",
       "315                              5309  ...   \n",
       "316                              5169  ...   \n",
       "\n",
       "     ave_intensity_h2ax_pos_incorporated_chr_Pol2S5  \\\n",
       "0                                               NaN   \n",
       "1                                               NaN   \n",
       "2                                               NaN   \n",
       "3                                               NaN   \n",
       "4                                               NaN   \n",
       "..                                              ...   \n",
       "312                                             NaN   \n",
       "313                                             NaN   \n",
       "314                                             NaN   \n",
       "315                                             NaN   \n",
       "316                                             NaN   \n",
       "\n",
       "     ave_intensity_h2ax_less_incorporated_chr_Pol2S5  normalized_inc_Pol2S5  \\\n",
       "0                                         715.105937               0.674154   \n",
       "1                                        1942.521652               2.276958   \n",
       "2                                         779.533734               0.687205   \n",
       "3                                         404.501343               0.339175   \n",
       "4                                         666.628807               0.617157   \n",
       "..                                               ...                    ...   \n",
       "312                                       551.756837               0.710480   \n",
       "313                                       130.927272               0.173972   \n",
       "314                                       539.762393               0.632998   \n",
       "315                                       182.262648               0.229379   \n",
       "316                                       358.936957               0.777656   \n",
       "\n",
       "     normalized_subset_control_Pol2S5  normalized_inc_H3K27me3  \\\n",
       "0                            0.980039                 1.290331   \n",
       "1                            0.824895                 0.869638   \n",
       "2                            1.147893                 1.424646   \n",
       "3                            1.446917                 1.615610   \n",
       "4                            1.088743                 1.691066   \n",
       "..                                ...                      ...   \n",
       "312                          1.175018                 0.484914   \n",
       "313                          0.729147                 0.999929   \n",
       "314                          0.777218                 0.682172   \n",
       "315                          1.276282                 0.858756   \n",
       "316                          1.208318                 1.176140   \n",
       "\n",
       "     normalized_subset_control_H3K27me3  normalized_inc_Mdc1  \\\n",
       "0                              1.119074             4.734387   \n",
       "1                              1.058275             4.095347   \n",
       "2                              1.319359             8.423556   \n",
       "3                              1.330499            13.680087   \n",
       "4                              1.138696             8.920842   \n",
       "..                                  ...                  ...   \n",
       "312                            1.056653             2.844211   \n",
       "313                            0.714037             2.581779   \n",
       "314                            1.238075             3.296538   \n",
       "315                            1.401723             3.000744   \n",
       "316                            1.105570             6.178597   \n",
       "\n",
       "     normalized_subset_control_Mdc1  normalized_inc_dna  \\\n",
       "0                          0.874302            0.920664   \n",
       "1                          1.267839            1.239617   \n",
       "2                          1.015870            1.016765   \n",
       "3                          1.484732            0.993938   \n",
       "4                          0.800343            0.936407   \n",
       "..                              ...                 ...   \n",
       "312                        1.239252            0.789375   \n",
       "313                        1.242338            1.494290   \n",
       "314                        0.738792            1.189925   \n",
       "315                        0.736676            1.685789   \n",
       "316                        1.056602            1.154080   \n",
       "\n",
       "     normalized_subset_control_dna  \n",
       "0                         0.819612  \n",
       "1                         1.154156  \n",
       "2                         0.925646  \n",
       "3                         0.783361  \n",
       "4                         0.849092  \n",
       "..                             ...  \n",
       "312                       1.170297  \n",
       "313                       1.087873  \n",
       "314                       0.884489  \n",
       "315                       0.754598  \n",
       "316                       1.100019  \n",
       "\n",
       "[564 rows x 48 columns]"
      ]
     },
     "execution_count": 9,
     "metadata": {},
     "output_type": "execute_result"
    }
   ],
   "source": [
    "analysis_df"
   ]
  },
  {
   "cell_type": "code",
   "execution_count": 10,
   "metadata": {},
   "outputs": [],
   "source": [
    "#analysis_savename = 'rpe1_h3k27_pol2_analyzed.xlsx'\n",
    "\n",
    "analysis_df.to_excel(analysis_save_path+os.sep+analysis_savename, index=False)"
   ]
  },
  {
   "cell_type": "code",
   "execution_count": 11,
   "metadata": {},
   "outputs": [
    {
     "name": "stdout",
     "output_type": "stream",
     "text": [
      "MW comparision: 2.0210292605988525e-12\n"
     ]
    },
    {
     "data": {
      "image/png": "[encoded data removed]",
      "text/plain": [
       "<Figure size 432x288 with 1 Axes>"
      ]
     },
     "metadata": {
      "needs_background": "light"
     },
     "output_type": "display_data"
    }
   ],
   "source": [
    "# for dna\n",
    "\n",
    "# \n",
    "g1 = analysis_df['normalized_inc_dna']\n",
    "g2 = analysis_df['normalized_subset_control_dna']\n",
    "#g3 = no_damaged_chr_df['normalized_inc_Pol2S5']\n",
    "#g4 = analysis_df['normalized_subset_control_Pol2S5']\n",
    "\n",
    "#sp_low = min(len(g1),len(g2),len(g3))\n",
    "#sp_low = min(len(g1),len(g2), len(g3))\n",
    "\n",
    "#g1 = np.random.choice(g1, sp_low)\n",
    "#g2 = np.random.choice(g2, sp_low)\n",
    "#g3 = np.random.choice(g3, sp_low)\n",
    "#g4 = np.random.choice(g4, sp_low)\n",
    "\n",
    "boxplot_pol2= plt.boxplot([g1,g2], meanline = True)\n",
    "\n",
    "\n",
    "vals, xs = [], [] \n",
    "\n",
    "for i, subdf in enumerate([g1,g2]):\n",
    "    #names.append(name)\n",
    "    vals.append(subdf.tolist())\n",
    "    xs.append(np.random.normal(i+1, 0.04, subdf.shape[0]))\n",
    "\n",
    "for x, val in zip(xs, vals):\n",
    "    plt.scatter(x, val,  s = 1, alpha=0.3)\n",
    "\n",
    "from scipy.stats import mannwhitneyu\n",
    "from scipy.stats import kruskal\n",
    "#p4 = kruskal(g1,g2,g3,g4)\n",
    "\n",
    "U1, p1 = mannwhitneyu(g1,g2)\n",
    "\n",
    "print(f\"MW comparision: {p1}\")\n",
    "\n",
    "\n",
    "\n",
    "#print(f\"three samples comparision: {p4}\")"
   ]
  },
  {
   "cell_type": "code",
   "execution_count": 12,
   "metadata": {},
   "outputs": [
    {
     "name": "stdout",
     "output_type": "stream",
     "text": [
      "MW comparision: 3.154352526633029e-185\n"
     ]
    },
    {
     "data": {
      "image/png": "[encoded data removed]",
      "text/plain": [
       "<Figure size 432x288 with 1 Axes>"
      ]
     },
     "metadata": {
      "needs_background": "light"
     },
     "output_type": "display_data"
    }
   ],
   "source": [
    "# for mdc1\n",
    "\n",
    "# \n",
    "g1 = analysis_df['normalized_inc_Mdc1']\n",
    "g2 = analysis_df['normalized_subset_control_Mdc1']\n",
    "#g3 = no_damaged_chr_df['normalized_inc_Pol2S5']\n",
    "#g4 = analysis_df['normalized_subset_control_Pol2S5']\n",
    "\n",
    "#sp_low = min(len(g1),len(g2),len(g3))\n",
    "#sp_low = min(len(g1),len(g2), len(g3))\n",
    "\n",
    "#g1 = np.random.choice(g1, sp_low)\n",
    "#g2 = np.random.choice(g2, sp_low)\n",
    "#g3 = np.random.choice(g3, sp_low)\n",
    "#g4 = np.random.choice(g4, sp_low)\n",
    "\n",
    "boxplot_pol2= plt.boxplot([g1,g2], meanline = True)\n",
    "\n",
    "\n",
    "vals, xs = [], [] \n",
    "\n",
    "for i, subdf in enumerate([g1,g2]):\n",
    "    #names.append(name)\n",
    "    vals.append(subdf.tolist())\n",
    "    xs.append(np.random.normal(i+1, 0.04, subdf.shape[0]))\n",
    "\n",
    "for x, val in zip(xs, vals):\n",
    "    plt.scatter(x, val,  s = 1, alpha=0.3)\n",
    "\n",
    "from scipy.stats import mannwhitneyu\n",
    "from scipy.stats import kruskal\n",
    "#p4 = kruskal(g1,g2,g3,g4)\n",
    "\n",
    "U1, p1 = mannwhitneyu(g1,g2)\n",
    "\n",
    "print(f\"MW comparision: {p1}\")\n",
    "\n",
    "\n",
    "\n",
    "#print(f\"three samples comparision: {p4}\")"
   ]
  },
  {
   "cell_type": "code",
   "execution_count": 13,
   "metadata": {},
   "outputs": [
    {
     "name": "stdout",
     "output_type": "stream",
     "text": [
      "MW comparision: 1.1287450941607487e-53\n"
     ]
    },
    {
     "data": {
      "image/png": "[encoded data removed]",
      "text/plain": [
       "<Figure size 432x288 with 1 Axes>"
      ]
     },
     "metadata": {
      "needs_background": "light"
     },
     "output_type": "display_data"
    }
   ],
   "source": [
    "# For Pol2S5\n",
    "g1 = analysis_df['normalized_inc_Pol2S5']\n",
    "g2 = analysis_df['normalized_subset_control_Pol2S5']\n",
    "#g3 = no_damaged_chr_df['normalized_inc_Pol2S5']\n",
    "#g4 = analysis_df['normalized_subset_control_Pol2S5']\n",
    "\n",
    "#sp_low = min(len(g1),len(g2),len(g3))\n",
    "#sp_low = min(len(g1),len(g2), len(g3))\n",
    "\n",
    "#g1 = np.random.choice(g1, sp_low)\n",
    "#g2 = np.random.choice(g2, sp_low)\n",
    "#g3 = np.random.choice(g3, sp_low)\n",
    "#g4 = np.random.choice(g4, sp_low)\n",
    "\n",
    "boxplot_pol2= plt.boxplot([g1,g2], meanline = True)\n",
    "\n",
    "\n",
    "vals, xs = [], [] \n",
    "\n",
    "for i, subdf in enumerate([g1,g2]):\n",
    "    #names.append(name)\n",
    "    vals.append(subdf.tolist())\n",
    "    xs.append(np.random.normal(i+1, 0.04, subdf.shape[0]))\n",
    "\n",
    "for x, val in zip(xs, vals):\n",
    "    plt.scatter(x, val,  s = 1, alpha=0.3)\n",
    "\n",
    "from scipy.stats import mannwhitneyu\n",
    "from scipy.stats import kruskal\n",
    "#p4 = kruskal(g1,g2,g3,g4)\n",
    "\n",
    "U1, p1 = mannwhitneyu(g1,g2)\n",
    "\n",
    "print(f\"MW comparision: {p1}\")\n",
    "\n",
    "\n",
    "\n",
    "#print(f\"three samples comparision: {p4}\")"
   ]
  },
  {
   "cell_type": "code",
   "execution_count": 14,
   "metadata": {},
   "outputs": [
    {
     "name": "stdout",
     "output_type": "stream",
     "text": [
      "MW comparision: 6.147160897023245e-59\n"
     ]
    },
    {
     "data": {
      "image/png": "[encoded data removed]",
      "text/plain": [
       "<Figure size 432x288 with 1 Axes>"
      ]
     },
     "metadata": {
      "needs_background": "light"
     },
     "output_type": "display_data"
    }
   ],
   "source": [
    "# For Pol2S5 norm to dna\n",
    "g1 = analysis_df['normalized_inc_Pol2S5']/analysis_df['normalized_inc_dna']\n",
    "g2 = analysis_df['normalized_subset_control_Pol2S5']/analysis_df['normalized_subset_control_dna']\n",
    "#g3 = no_damaged_chr_df['normalized_inc_Pol2S5']\n",
    "#g4 = analysis_df['normalized_subset_control_Pol2S5']\n",
    "\n",
    "#sp_low = min(len(g1),len(g2),len(g3))\n",
    "#sp_low = min(len(g1),len(g2), len(g3))\n",
    "\n",
    "#g1 = np.random.choice(g1, sp_low)\n",
    "#g2 = np.random.choice(g2, sp_low)\n",
    "#g3 = np.random.choice(g3, sp_low)\n",
    "#g4 = np.random.choice(g4, sp_low)\n",
    "\n",
    "boxplot_pol2= plt.boxplot([g1,g2], meanline = True)\n",
    "\n",
    "\n",
    "vals, xs = [], [] \n",
    "\n",
    "for i, subdf in enumerate([g1,g2]):\n",
    "    #names.append(name)\n",
    "    vals.append(subdf.tolist())\n",
    "    xs.append(np.random.normal(i+1, 0.04, subdf.shape[0]))\n",
    "\n",
    "for x, val in zip(xs, vals):\n",
    "    plt.scatter(x, val,  s = 1, alpha=0.3)\n",
    "\n",
    "from scipy.stats import mannwhitneyu\n",
    "from scipy.stats import kruskal\n",
    "#p4 = kruskal(g1,g2,g3,g4)\n",
    "\n",
    "U1, p1 = mannwhitneyu(g1,g2)\n",
    "\n",
    "print(f\"MW comparision: {p1}\")\n",
    "\n",
    "\n",
    "\n",
    "#print(f\"three samples comparision: {p4}\")"
   ]
  },
  {
   "cell_type": "code",
   "execution_count": 16,
   "metadata": {},
   "outputs": [
    {
     "name": "stdout",
     "output_type": "stream",
     "text": [
      "MW comparision: 0.003722980349079832\n"
     ]
    },
    {
     "data": {
      "image/png": "[encoded data removed]",
      "text/plain": [
       "<Figure size 432x288 with 1 Axes>"
      ]
     },
     "metadata": {
      "needs_background": "light"
     },
     "output_type": "display_data"
    }
   ],
   "source": [
    "# For H2ax\n",
    "g1 = analysis_df['normalized_inc_H3K27me3']\n",
    "g2 = analysis_df['normalized_subset_control_H3K27me3']\n",
    "#g3 = no_damaged_chr_df['normalized_inc_Pol2S5']\n",
    "#g4 = analysis_df['normalized_subset_control_Pol2S5']\n",
    "\n",
    "#sp_low = min(len(g1),len(g2),len(g3))\n",
    "#sp_low = min(len(g1),len(g2), len(g3))\n",
    "\n",
    "#g1 = np.random.choice(g1, sp_low)\n",
    "#g2 = np.random.choice(g2, sp_low)\n",
    "#g3 = np.random.choice(g3, sp_low)\n",
    "#g4 = np.random.choice(g4, sp_low)\n",
    "\n",
    "boxplot_pol2= plt.boxplot([g1,g2], meanline = True)\n",
    "\n",
    "\n",
    "vals, xs = [], [] \n",
    "\n",
    "for i, subdf in enumerate([g1,g2]):\n",
    "    #names.append(name)\n",
    "    vals.append(subdf.tolist())\n",
    "    xs.append(np.random.normal(i+1, 0.04, subdf.shape[0]))\n",
    "\n",
    "for x, val in zip(xs, vals):\n",
    "    plt.scatter(x, val,  s = 1, alpha=0.3)\n",
    "\n",
    "\n",
    "from scipy.stats import kruskal\n",
    "#p4 = kruskal(g1,g2,g3,g4)\n",
    "from scipy.stats import mannwhitneyu\n",
    "U1, p1 = mannwhitneyu(g1,g2)\n",
    "\n",
    "print(f\"MW comparision: {p1}\")\n",
    "\n",
    "\n",
    "\n",
    "#print(f\"three samples comparision: {p4}\")"
   ]
  },
  {
   "cell_type": "code",
   "execution_count": 17,
   "metadata": {},
   "outputs": [
    {
     "name": "stdout",
     "output_type": "stream",
     "text": [
      "MW comparision: 0.046020238231933845\n"
     ]
    },
    {
     "data": {
      "image/png": "[encoded data removed]",
      "text/plain": [
       "<Figure size 432x288 with 1 Axes>"
      ]
     },
     "metadata": {
      "needs_background": "light"
     },
     "output_type": "display_data"
    }
   ],
   "source": [
    "# For H2ax\n",
    "g1 = analysis_df['normalized_inc_H3K27me3']/analysis_df['normalized_inc_dna']\n",
    "g2 = analysis_df['normalized_subset_control_H3K27me3']/analysis_df['normalized_subset_control_dna']\n",
    "#g3 = no_damaged_chr_df['normalized_inc_Pol2S5']\n",
    "#g4 = analysis_df['normalized_subset_control_Pol2S5']\n",
    "\n",
    "#sp_low = min(len(g1),len(g2),len(g3))\n",
    "#sp_low = min(len(g1),len(g2), len(g3))\n",
    "\n",
    "#g1 = np.random.choice(g1, sp_low)\n",
    "#g2 = np.random.choice(g2, sp_low)\n",
    "#g3 = np.random.choice(g3, sp_low)\n",
    "#g4 = np.random.choice(g4, sp_low)\n",
    "\n",
    "boxplot_pol2= plt.boxplot([g1,g2], meanline = True)\n",
    "\n",
    "\n",
    "vals, xs = [], [] \n",
    "\n",
    "for i, subdf in enumerate([g1,g2]):\n",
    "    #names.append(name)\n",
    "    vals.append(subdf.tolist())\n",
    "    xs.append(np.random.normal(i+1, 0.04, subdf.shape[0]))\n",
    "\n",
    "for x, val in zip(xs, vals):\n",
    "    plt.scatter(x, val,  s = 1, alpha=0.3)\n",
    "\n",
    "\n",
    "from scipy.stats import kruskal\n",
    "#p4 = kruskal(g1,g2,g3,g4)\n",
    "from scipy.stats import mannwhitneyu\n",
    "U1, p1 = mannwhitneyu(g1,g2)\n",
    "\n",
    "print(f\"MW comparision: {p1}\")\n",
    "\n",
    "\n",
    "\n",
    "#print(f\"three samples comparision: {p4}\")"
   ]
  },
  {
   "cell_type": "code",
   "execution_count": 18,
   "metadata": {},
   "outputs": [
    {
     "data": {
      "text/plain": [
       "SpearmanrResult(correlation=0.156245307420204, pvalue=0.00019508956136794688)"
      ]
     },
     "execution_count": 18,
     "metadata": {},
     "output_type": "execute_result"
    }
   ],
   "source": [
    "from scipy import stats\n",
    "stats.spearmanr(analysis_df['normalized_inc_Pol2S5'], analysis_df['normalized_inc_H3K27me3'])"
   ]
  },
  {
   "cell_type": "code",
   "execution_count": 20,
   "metadata": {},
   "outputs": [
    {
     "data": {
      "text/plain": [
       "SpearmanrResult(correlation=0.156245307420204, pvalue=0.00019508956136794688)"
      ]
     },
     "execution_count": 20,
     "metadata": {},
     "output_type": "execute_result"
    },
    {
     "data": {
      "image/png": "[encoded data removed]",
      "text/plain": [
       "<Figure size 432x288 with 1 Axes>"
      ]
     },
     "metadata": {
      "needs_background": "light"
     },
     "output_type": "display_data"
    }
   ],
   "source": [
    "plt.scatter(x= analysis_df['normalized_inc_Pol2S5'], y =analysis_df['normalized_inc_H3K27me3'])\n",
    "\n",
    "stats.spearmanr(analysis_df['normalized_inc_Pol2S5'], analysis_df['normalized_inc_H3K27me3'])"
   ]
  },
  {
   "cell_type": "code",
   "execution_count": 21,
   "metadata": {},
   "outputs": [
    {
     "data": {
      "text/plain": [
       "SpearmanrResult(correlation=0.156245307420204, pvalue=0.00019508956136794688)"
      ]
     },
     "execution_count": 21,
     "metadata": {},
     "output_type": "execute_result"
    },
    {
     "data": {
      "image/png": "[encoded data removed]",
      "text/plain": [
       "<Figure size 432x288 with 1 Axes>"
      ]
     },
     "metadata": {
      "needs_background": "light"
     },
     "output_type": "display_data"
    }
   ],
   "source": [
    "plt.scatter(x= analysis_df['normalized_subset_control_Pol2S5'], y =analysis_df['normalized_subset_control_H3K27me3'])\n",
    "\n",
    "stats.spearmanr(analysis_df['normalized_inc_Pol2S5'], analysis_df['normalized_inc_H3K27me3'])"
   ]
  },
  {
   "cell_type": "code",
   "execution_count": 22,
   "metadata": {},
   "outputs": [
    {
     "data": {
      "text/plain": [
       "SpearmanrResult(correlation=0.10751946511362691, pvalue=0.010612931742866687)"
      ]
     },
     "execution_count": 22,
     "metadata": {},
     "output_type": "execute_result"
    }
   ],
   "source": [
    "stats.spearmanr(analysis_df['normalized_subset_control_Pol2S5'], analysis_df['normalized_subset_control_H3K27me3'])"
   ]
  }
 ],
 "metadata": {
  "kernelspec": {
   "display_name": "Python 3",
   "language": "python",
   "name": "python3"
  },
  "language_info": {
   "codemirror_mode": {
    "name": "ipython",
    "version": 3
   },
   "file_extension": ".py",
   "mimetype": "text/x-python",
   "name": "python",
   "nbconvert_exporter": "python",
   "pygments_lexer": "ipython3",
   "version": "3.7.6"
  }
 },
 "nbformat": 4,
 "nbformat_minor": 4
}

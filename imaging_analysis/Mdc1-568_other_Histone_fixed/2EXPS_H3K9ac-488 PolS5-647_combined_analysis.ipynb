{
 "cells": [
  {
   "cell_type": "markdown",
   "metadata": {},
   "source": [
    "# 1. Import required modules"
   ]
  },
  {
   "cell_type": "code",
   "execution_count": 1,
   "metadata": {},
   "outputs": [
    {
     "name": "stderr",
     "output_type": "stream",
     "text": [
      "c:\\programdata\\anaconda3\\lib\\site-packages\\skimage\\io\\manage_plugins.py:23: UserWarning: Your installed pillow version is < 7.1.0. Several security issues (CVE-2020-11538, CVE-2020-10379, CVE-2020-10994, CVE-2020-10177) have been fixed in pillow 7.1.0 or higher. We recommend to upgrade this library.\n",
      "  from .collection import imread_collection_wrapper\n"
     ]
    }
   ],
   "source": [
    "import numpy as np\n",
    "import matplotlib.pyplot as plt\n",
    "from skimage import io\n",
    "from skimage import data\n",
    "import skimage\n",
    "from skimage.filters.thresholding import threshold_li,threshold_local,threshold_otsu\n",
    "from skimage.morphology import erosion, dilation, opening, closing, white_tophat, remove_small_objects, ball\n",
    "from skimage.morphology import disk\n",
    "from scipy import ndimage as ndi\n",
    "import sys,os, glob\n",
    "\n",
    "#import skimage.filters.median\n",
    "\n",
    "#import skimage.segmentation as seg\n",
    "#import skimage.filters as filters\n",
    "#import skimage.draw as draw\n",
    "#import skimage.color as color\n",
    "\n",
    "#from skimage.filters.thresholding import _cross_entropy\n",
    "#from skimage.morphology import black_tophat, skeletonize, convex_hull_image\n",
    "\n",
    "\n",
    "#pip install nd2reader_required for nd2 file reading\n",
    "from nd2reader import ND2Reader\n",
    "\n",
    "import pandas as pd"
   ]
  },
  {
   "cell_type": "markdown",
   "metadata": {},
   "source": [
    "# 2. Define common parameters for measurement loading here:"
   ]
  },
  {
   "cell_type": "code",
   "execution_count": 2,
   "metadata": {},
   "outputs": [],
   "source": [
    "# load experiment exp1\n",
    "\n",
    "analysis_fd = r'D:\\Analyzed_CellBio\\Stam\\211122IF_211101exp_Mdc1ab_45h\\cov2_Mdc1-568 H3K9ac-488 PolS5-647\\analysis_subset_controlled'\n",
    "\n",
    "exp1_df = pd.read_excel(analysis_fd + os.sep + 'measurement_for_all_fov_background_subtracted_2_100_crop.xlsx')"
   ]
  },
  {
   "cell_type": "code",
   "execution_count": 3,
   "metadata": {},
   "outputs": [],
   "source": [
    "# load experiment exp2\n",
    "\n",
    "analysis_fd = r'D:\\Analyzed_CellBio\\Stam\\211125IF_211121exp_Mdc1ab_45h\\cov1_Mdc1-568 H3K9ac-488 PolS5-647\\analysis_subset_controlled'\n",
    "\n",
    "exp2_df = pd.read_excel(analysis_fd + os.sep + 'measurement_for_all_fov_background_subtracted_2_100_crop.xlsx')"
   ]
  },
  {
   "cell_type": "code",
   "execution_count": 4,
   "metadata": {},
   "outputs": [
    {
     "name": "stdout",
     "output_type": "stream",
     "text": [
      "198\n",
      "304\n",
      "502\n"
     ]
    }
   ],
   "source": [
    "combined_df = pd.concat([exp1_df,exp2_df])\n",
    "\n",
    "\n",
    "print(len(exp1_df))\n",
    "\n",
    "print(len(exp2_df))\n",
    "\n",
    "\n",
    "print(len(combined_df))\n",
    "\n",
    "\n",
    "measurement_for_all_fov_df = combined_df"
   ]
  },
  {
   "cell_type": "markdown",
   "metadata": {},
   "source": [
    "# 3. Post-hoc analysis examples"
   ]
  },
  {
   "cell_type": "code",
   "execution_count": 5,
   "metadata": {},
   "outputs": [],
   "source": [
    "#len(measurement_for_all_fov_df)\n",
    "\n",
    "\n",
    "analysis_save_path = r'D:\\Analyzed_CellBio\\Stam\\Mdc1_fixed_analysis'\n",
    "\n",
    "analysis_savename = 'mdc-568_h3k9ac_pol2_analyzed.xlsx'"
   ]
  },
  {
   "cell_type": "code",
   "execution_count": 6,
   "metadata": {},
   "outputs": [
    {
     "name": "stdout",
     "output_type": "stream",
     "text": [
      "502\n"
     ]
    }
   ],
   "source": [
    "# remove the bad cell that has no Pol2 signal\n",
    "analysis_df=measurement_for_all_fov_df[measurement_for_all_fov_df['ave_intensity_control_chr_Pol2S5']>0].copy()\n",
    "\n",
    "print(len(analysis_df))\n",
    "\n",
    "#analysis_df.to_excel(analysis_save_path+os.sep+analysis_savename, index=False)"
   ]
  },
  {
   "cell_type": "code",
   "execution_count": 7,
   "metadata": {},
   "outputs": [
    {
     "name": "stdout",
     "output_type": "stream",
     "text": [
      "0.7592152648537023\n",
      "1.0205115336344646\n",
      "0.7761426815957787\n",
      "1.0029185757077945\n",
      "5.082186164976385\n",
      "1.0203693224002441\n",
      "1.1121924965661698\n",
      "1.0041091323525537\n"
     ]
    }
   ],
   "source": [
    "# remove the bad cell that has no Pol2 signal\n",
    "#analysis_df=measurement_for_all_fov_df[measurement_for_all_fov_df['ave_intensity_control_chr_Pol2S5']>0].copy()\n",
    "\n",
    "# for total incorporated chr\n",
    "analysis_df['normalized_inc_Pol2S5']=analysis_df['ave_intensity_incorporated_chr_Pol2S5']/analysis_df['ave_intensity_nucleo-excluded_control_chr_Pol2S5']\n",
    "print(analysis_df['normalized_inc_Pol2S5'].mean())\n",
    "\n",
    "\n",
    "# for subset control\n",
    "analysis_df['normalized_subset_control_Pol2S5']=analysis_df['ave_intensity_subset_control_chr_Pol2S5']/analysis_df['ave_intensity_nucleo-excluded_control_chr_Pol2S5']\n",
    "print(analysis_df['normalized_subset_control_Pol2S5'].mean())\n",
    "\n",
    "\n",
    "\n",
    "# get the h2ax-positive area vs h2ax-less (positive) area for the same cell\n",
    "analysis_df['normalized_inc_H3K9ac'] = analysis_df['ave_intensity_incorporated_chr_H3K9ac']/analysis_df['ave_intensity_nucleo-excluded_control_chr_H3K9ac']\n",
    "print(analysis_df['normalized_inc_H3K9ac'].mean())\n",
    "\n",
    "\n",
    "# for subset control\n",
    "analysis_df['normalized_subset_control_H3K9ac']=analysis_df['ave_intensity_subset_control_chr_H3K9ac']/analysis_df['ave_intensity_nucleo-excluded_control_chr_H3K9ac']\n",
    "print(analysis_df['normalized_subset_control_H3K9ac'].mean())\n",
    "\n",
    "\n",
    "\n",
    "# get the h2ax-positive area vs h2ax-less (positive) area for the same cell\n",
    "analysis_df['normalized_inc_Mdc1'] = analysis_df['ave_intensity_incorporated_chr_Mdc1']/analysis_df['ave_intensity_nucleo-excluded_control_chr_Mdc1']\n",
    "print(analysis_df['normalized_inc_Mdc1'].mean())\n",
    "\n",
    "\n",
    "# for subset control\n",
    "analysis_df['normalized_subset_control_Mdc1']=analysis_df['ave_intensity_subset_control_chr_Mdc1']/analysis_df['ave_intensity_nucleo-excluded_control_chr_Mdc1']\n",
    "print(analysis_df['normalized_subset_control_Mdc1'].mean())\n",
    "\n",
    "\n",
    "\n",
    "\n",
    "\n",
    "# get the h2ax-positive area vs h2ax-less (positive) area for the same cell\n",
    "analysis_df['normalized_inc_dna'] = analysis_df['ave_intensity_incorporated_chr_dna']/analysis_df['ave_intensity_nucleo-excluded_control_chr_dna']\n",
    "print(analysis_df['normalized_inc_dna'].mean())\n",
    "\n",
    "\n",
    "# for subset control\n",
    "analysis_df['normalized_subset_control_dna']=analysis_df['ave_intensity_subset_control_chr_dna']/analysis_df['ave_intensity_nucleo-excluded_control_chr_dna']\n",
    "print(analysis_df['normalized_subset_control_dna'].mean())"
   ]
  },
  {
   "cell_type": "code",
   "execution_count": 8,
   "metadata": {},
   "outputs": [
    {
     "data": {
      "text/html": [
       "<div>\n",
       "<style scoped>\n",
       "    .dataframe tbody tr th:only-of-type {\n",
       "        vertical-align: middle;\n",
       "    }\n",
       "\n",
       "    .dataframe tbody tr th {\n",
       "        vertical-align: top;\n",
       "    }\n",
       "\n",
       "    .dataframe thead th {\n",
       "        text-align: right;\n",
       "    }\n",
       "</style>\n",
       "<table border=\"1\" class=\"dataframe\">\n",
       "  <thead>\n",
       "    <tr style=\"text-align: right;\">\n",
       "      <th></th>\n",
       "      <th>Unnamed: 0</th>\n",
       "      <th>exp_name</th>\n",
       "      <th>position_id</th>\n",
       "      <th>cell_id</th>\n",
       "      <th>cell_xyz_coord</th>\n",
       "      <th>area_incorporated_chr</th>\n",
       "      <th>area_h2ax_within_incorporated_chr</th>\n",
       "      <th>area_less_h2ax_within_incorporated_chr</th>\n",
       "      <th>area_control_chr</th>\n",
       "      <th>area_nucleo-excluded_control_chr</th>\n",
       "      <th>...</th>\n",
       "      <th>ave_intensity_h2ax_pos_incorporated_chr_Pol2S5</th>\n",
       "      <th>ave_intensity_h2ax_less_incorporated_chr_Pol2S5</th>\n",
       "      <th>normalized_inc_Pol2S5</th>\n",
       "      <th>normalized_subset_control_Pol2S5</th>\n",
       "      <th>normalized_inc_H3K9ac</th>\n",
       "      <th>normalized_subset_control_H3K9ac</th>\n",
       "      <th>normalized_inc_Mdc1</th>\n",
       "      <th>normalized_subset_control_Mdc1</th>\n",
       "      <th>normalized_inc_dna</th>\n",
       "      <th>normalized_subset_control_dna</th>\n",
       "    </tr>\n",
       "  </thead>\n",
       "  <tbody>\n",
       "    <tr>\n",
       "      <th>0</th>\n",
       "      <td>0</td>\n",
       "      <td>cov2_Mdc1-568 H3K9ac-488 PolS5-647</td>\n",
       "      <td>RPE1 atcc noco45h Mdc1-568 H3K9ac-488 RNApol64...</td>\n",
       "      <td>4</td>\n",
       "      <td>[[1009, 753], 4]</td>\n",
       "      <td>342</td>\n",
       "      <td>0</td>\n",
       "      <td>342</td>\n",
       "      <td>18339</td>\n",
       "      <td>5157</td>\n",
       "      <td>...</td>\n",
       "      <td>NaN</td>\n",
       "      <td>1275.064437</td>\n",
       "      <td>0.665977</td>\n",
       "      <td>0.977054</td>\n",
       "      <td>0.798147</td>\n",
       "      <td>1.034100</td>\n",
       "      <td>4.101546</td>\n",
       "      <td>0.846629</td>\n",
       "      <td>1.048396</td>\n",
       "      <td>1.002282</td>\n",
       "    </tr>\n",
       "    <tr>\n",
       "      <th>1</th>\n",
       "      <td>0</td>\n",
       "      <td>cov2_Mdc1-568 H3K9ac-488 PolS5-647</td>\n",
       "      <td>RPE1 atcc noco45h Mdc1-568 H3K9ac-488 RNApol64...</td>\n",
       "      <td>7</td>\n",
       "      <td>[[955, 318], 4]</td>\n",
       "      <td>161</td>\n",
       "      <td>0</td>\n",
       "      <td>161</td>\n",
       "      <td>12014</td>\n",
       "      <td>3731</td>\n",
       "      <td>...</td>\n",
       "      <td>NaN</td>\n",
       "      <td>517.650995</td>\n",
       "      <td>0.531182</td>\n",
       "      <td>1.043187</td>\n",
       "      <td>0.852813</td>\n",
       "      <td>1.033086</td>\n",
       "      <td>4.158451</td>\n",
       "      <td>0.901480</td>\n",
       "      <td>0.725400</td>\n",
       "      <td>0.927833</td>\n",
       "    </tr>\n",
       "    <tr>\n",
       "      <th>2</th>\n",
       "      <td>0</td>\n",
       "      <td>cov2_Mdc1-568 H3K9ac-488 PolS5-647</td>\n",
       "      <td>RPE1 atcc noco45h Mdc1-568 H3K9ac-488 RNApol64...</td>\n",
       "      <td>9</td>\n",
       "      <td>[[563, 512], 5]</td>\n",
       "      <td>116</td>\n",
       "      <td>0</td>\n",
       "      <td>116</td>\n",
       "      <td>11410</td>\n",
       "      <td>3367</td>\n",
       "      <td>...</td>\n",
       "      <td>NaN</td>\n",
       "      <td>1360.482407</td>\n",
       "      <td>1.495851</td>\n",
       "      <td>0.923852</td>\n",
       "      <td>1.067169</td>\n",
       "      <td>1.027633</td>\n",
       "      <td>19.433452</td>\n",
       "      <td>0.630781</td>\n",
       "      <td>0.816240</td>\n",
       "      <td>0.969515</td>\n",
       "    </tr>\n",
       "    <tr>\n",
       "      <th>3</th>\n",
       "      <td>0</td>\n",
       "      <td>cov2_Mdc1-568 H3K9ac-488 PolS5-647</td>\n",
       "      <td>RPE1 atcc noco45h Mdc1-568 H3K9ac-488 RNApol64...</td>\n",
       "      <td>11</td>\n",
       "      <td>[[1094, 885], 4]</td>\n",
       "      <td>747</td>\n",
       "      <td>0</td>\n",
       "      <td>747</td>\n",
       "      <td>12083</td>\n",
       "      <td>3603</td>\n",
       "      <td>...</td>\n",
       "      <td>NaN</td>\n",
       "      <td>898.833195</td>\n",
       "      <td>0.587073</td>\n",
       "      <td>0.926983</td>\n",
       "      <td>0.997998</td>\n",
       "      <td>1.049734</td>\n",
       "      <td>9.709731</td>\n",
       "      <td>1.896187</td>\n",
       "      <td>1.127177</td>\n",
       "      <td>0.883526</td>\n",
       "    </tr>\n",
       "    <tr>\n",
       "      <th>4</th>\n",
       "      <td>0</td>\n",
       "      <td>cov2_Mdc1-568 H3K9ac-488 PolS5-647</td>\n",
       "      <td>RPE1 atcc noco45h Mdc1-568 H3K9ac-488 RNApol64...</td>\n",
       "      <td>19</td>\n",
       "      <td>[[576, 1220], 5]</td>\n",
       "      <td>125</td>\n",
       "      <td>0</td>\n",
       "      <td>125</td>\n",
       "      <td>15719</td>\n",
       "      <td>4069</td>\n",
       "      <td>...</td>\n",
       "      <td>NaN</td>\n",
       "      <td>701.095310</td>\n",
       "      <td>0.655391</td>\n",
       "      <td>0.708817</td>\n",
       "      <td>0.892186</td>\n",
       "      <td>0.994393</td>\n",
       "      <td>14.772285</td>\n",
       "      <td>0.566470</td>\n",
       "      <td>0.784293</td>\n",
       "      <td>0.736730</td>\n",
       "    </tr>\n",
       "    <tr>\n",
       "      <th>...</th>\n",
       "      <td>...</td>\n",
       "      <td>...</td>\n",
       "      <td>...</td>\n",
       "      <td>...</td>\n",
       "      <td>...</td>\n",
       "      <td>...</td>\n",
       "      <td>...</td>\n",
       "      <td>...</td>\n",
       "      <td>...</td>\n",
       "      <td>...</td>\n",
       "      <td>...</td>\n",
       "      <td>...</td>\n",
       "      <td>...</td>\n",
       "      <td>...</td>\n",
       "      <td>...</td>\n",
       "      <td>...</td>\n",
       "      <td>...</td>\n",
       "      <td>...</td>\n",
       "      <td>...</td>\n",
       "      <td>...</td>\n",
       "      <td>...</td>\n",
       "    </tr>\n",
       "    <tr>\n",
       "      <th>299</th>\n",
       "      <td>0</td>\n",
       "      <td>cov1_Mdc1-568 H3K9ac-488 PolS5-647</td>\n",
       "      <td>RPE1 atcc noco45h Mdc1-568 H3K9ac-488 RNApol64...</td>\n",
       "      <td>9</td>\n",
       "      <td>[[1386, 675], 5]</td>\n",
       "      <td>194</td>\n",
       "      <td>0</td>\n",
       "      <td>194</td>\n",
       "      <td>14321</td>\n",
       "      <td>3470</td>\n",
       "      <td>...</td>\n",
       "      <td>NaN</td>\n",
       "      <td>193.948300</td>\n",
       "      <td>1.105043</td>\n",
       "      <td>1.311921</td>\n",
       "      <td>0.856547</td>\n",
       "      <td>1.114543</td>\n",
       "      <td>3.397596</td>\n",
       "      <td>1.122793</td>\n",
       "      <td>0.962591</td>\n",
       "      <td>0.866710</td>\n",
       "    </tr>\n",
       "    <tr>\n",
       "      <th>300</th>\n",
       "      <td>0</td>\n",
       "      <td>cov1_Mdc1-568 H3K9ac-488 PolS5-647</td>\n",
       "      <td>RPE1 atcc noco45h Mdc1-568 H3K9ac-488 RNApol64...</td>\n",
       "      <td>13</td>\n",
       "      <td>[[1074, 1026], 4]</td>\n",
       "      <td>680</td>\n",
       "      <td>0</td>\n",
       "      <td>680</td>\n",
       "      <td>16310</td>\n",
       "      <td>3892</td>\n",
       "      <td>...</td>\n",
       "      <td>NaN</td>\n",
       "      <td>179.475137</td>\n",
       "      <td>0.704969</td>\n",
       "      <td>0.816049</td>\n",
       "      <td>0.876881</td>\n",
       "      <td>0.917232</td>\n",
       "      <td>9.044680</td>\n",
       "      <td>1.109901</td>\n",
       "      <td>0.966439</td>\n",
       "      <td>0.945513</td>\n",
       "    </tr>\n",
       "    <tr>\n",
       "      <th>301</th>\n",
       "      <td>0</td>\n",
       "      <td>cov1_Mdc1-568 H3K9ac-488 PolS5-647</td>\n",
       "      <td>RPE1 atcc noco45h Mdc1-568 H3K9ac-488 RNApol64...</td>\n",
       "      <td>15</td>\n",
       "      <td>[[1002, 1182], 4]</td>\n",
       "      <td>326</td>\n",
       "      <td>0</td>\n",
       "      <td>326</td>\n",
       "      <td>22360</td>\n",
       "      <td>5816</td>\n",
       "      <td>...</td>\n",
       "      <td>NaN</td>\n",
       "      <td>358.699219</td>\n",
       "      <td>1.015796</td>\n",
       "      <td>1.116434</td>\n",
       "      <td>0.935992</td>\n",
       "      <td>0.997094</td>\n",
       "      <td>4.073513</td>\n",
       "      <td>0.942500</td>\n",
       "      <td>1.011988</td>\n",
       "      <td>1.127846</td>\n",
       "    </tr>\n",
       "    <tr>\n",
       "      <th>302</th>\n",
       "      <td>0</td>\n",
       "      <td>cov1_Mdc1-568 H3K9ac-488 PolS5-647</td>\n",
       "      <td>RPE1 atcc noco45h Mdc1-568 H3K9ac-488 RNApol64...</td>\n",
       "      <td>21</td>\n",
       "      <td>[[1124, 1628], 4]</td>\n",
       "      <td>195</td>\n",
       "      <td>1</td>\n",
       "      <td>194</td>\n",
       "      <td>16262</td>\n",
       "      <td>2687</td>\n",
       "      <td>...</td>\n",
       "      <td>NaN</td>\n",
       "      <td>146.579907</td>\n",
       "      <td>0.698975</td>\n",
       "      <td>0.798516</td>\n",
       "      <td>0.509995</td>\n",
       "      <td>1.094241</td>\n",
       "      <td>4.780053</td>\n",
       "      <td>0.743685</td>\n",
       "      <td>0.789611</td>\n",
       "      <td>0.935878</td>\n",
       "    </tr>\n",
       "    <tr>\n",
       "      <th>303</th>\n",
       "      <td>0</td>\n",
       "      <td>cov1_Mdc1-568 H3K9ac-488 PolS5-647</td>\n",
       "      <td>RPE1 atcc noco45h Mdc1-568 H3K9ac-488 RNApol64...</td>\n",
       "      <td>22</td>\n",
       "      <td>[[777, 1696], 5]</td>\n",
       "      <td>197</td>\n",
       "      <td>0</td>\n",
       "      <td>197</td>\n",
       "      <td>12896</td>\n",
       "      <td>2840</td>\n",
       "      <td>...</td>\n",
       "      <td>NaN</td>\n",
       "      <td>300.085406</td>\n",
       "      <td>1.093870</td>\n",
       "      <td>1.343378</td>\n",
       "      <td>0.813951</td>\n",
       "      <td>0.675106</td>\n",
       "      <td>3.133717</td>\n",
       "      <td>1.027045</td>\n",
       "      <td>1.015941</td>\n",
       "      <td>1.156528</td>\n",
       "    </tr>\n",
       "  </tbody>\n",
       "</table>\n",
       "<p>502 rows × 48 columns</p>\n",
       "</div>"
      ],
      "text/plain": [
       "     Unnamed: 0                            exp_name  \\\n",
       "0             0  cov2_Mdc1-568 H3K9ac-488 PolS5-647   \n",
       "1             0  cov2_Mdc1-568 H3K9ac-488 PolS5-647   \n",
       "2             0  cov2_Mdc1-568 H3K9ac-488 PolS5-647   \n",
       "3             0  cov2_Mdc1-568 H3K9ac-488 PolS5-647   \n",
       "4             0  cov2_Mdc1-568 H3K9ac-488 PolS5-647   \n",
       "..          ...                                 ...   \n",
       "299           0  cov1_Mdc1-568 H3K9ac-488 PolS5-647   \n",
       "300           0  cov1_Mdc1-568 H3K9ac-488 PolS5-647   \n",
       "301           0  cov1_Mdc1-568 H3K9ac-488 PolS5-647   \n",
       "302           0  cov1_Mdc1-568 H3K9ac-488 PolS5-647   \n",
       "303           0  cov1_Mdc1-568 H3K9ac-488 PolS5-647   \n",
       "\n",
       "                                           position_id  cell_id  \\\n",
       "0    RPE1 atcc noco45h Mdc1-568 H3K9ac-488 RNApol64...        4   \n",
       "1    RPE1 atcc noco45h Mdc1-568 H3K9ac-488 RNApol64...        7   \n",
       "2    RPE1 atcc noco45h Mdc1-568 H3K9ac-488 RNApol64...        9   \n",
       "3    RPE1 atcc noco45h Mdc1-568 H3K9ac-488 RNApol64...       11   \n",
       "4    RPE1 atcc noco45h Mdc1-568 H3K9ac-488 RNApol64...       19   \n",
       "..                                                 ...      ...   \n",
       "299  RPE1 atcc noco45h Mdc1-568 H3K9ac-488 RNApol64...        9   \n",
       "300  RPE1 atcc noco45h Mdc1-568 H3K9ac-488 RNApol64...       13   \n",
       "301  RPE1 atcc noco45h Mdc1-568 H3K9ac-488 RNApol64...       15   \n",
       "302  RPE1 atcc noco45h Mdc1-568 H3K9ac-488 RNApol64...       21   \n",
       "303  RPE1 atcc noco45h Mdc1-568 H3K9ac-488 RNApol64...       22   \n",
       "\n",
       "        cell_xyz_coord  area_incorporated_chr  \\\n",
       "0     [[1009, 753], 4]                    342   \n",
       "1      [[955, 318], 4]                    161   \n",
       "2      [[563, 512], 5]                    116   \n",
       "3     [[1094, 885], 4]                    747   \n",
       "4     [[576, 1220], 5]                    125   \n",
       "..                 ...                    ...   \n",
       "299   [[1386, 675], 5]                    194   \n",
       "300  [[1074, 1026], 4]                    680   \n",
       "301  [[1002, 1182], 4]                    326   \n",
       "302  [[1124, 1628], 4]                    195   \n",
       "303   [[777, 1696], 5]                    197   \n",
       "\n",
       "     area_h2ax_within_incorporated_chr  \\\n",
       "0                                    0   \n",
       "1                                    0   \n",
       "2                                    0   \n",
       "3                                    0   \n",
       "4                                    0   \n",
       "..                                 ...   \n",
       "299                                  0   \n",
       "300                                  0   \n",
       "301                                  0   \n",
       "302                                  1   \n",
       "303                                  0   \n",
       "\n",
       "     area_less_h2ax_within_incorporated_chr  area_control_chr  \\\n",
       "0                                       342             18339   \n",
       "1                                       161             12014   \n",
       "2                                       116             11410   \n",
       "3                                       747             12083   \n",
       "4                                       125             15719   \n",
       "..                                      ...               ...   \n",
       "299                                     194             14321   \n",
       "300                                     680             16310   \n",
       "301                                     326             22360   \n",
       "302                                     194             16262   \n",
       "303                                     197             12896   \n",
       "\n",
       "     area_nucleo-excluded_control_chr  ...  \\\n",
       "0                                5157  ...   \n",
       "1                                3731  ...   \n",
       "2                                3367  ...   \n",
       "3                                3603  ...   \n",
       "4                                4069  ...   \n",
       "..                                ...  ...   \n",
       "299                              3470  ...   \n",
       "300                              3892  ...   \n",
       "301                              5816  ...   \n",
       "302                              2687  ...   \n",
       "303                              2840  ...   \n",
       "\n",
       "     ave_intensity_h2ax_pos_incorporated_chr_Pol2S5  \\\n",
       "0                                               NaN   \n",
       "1                                               NaN   \n",
       "2                                               NaN   \n",
       "3                                               NaN   \n",
       "4                                               NaN   \n",
       "..                                              ...   \n",
       "299                                             NaN   \n",
       "300                                             NaN   \n",
       "301                                             NaN   \n",
       "302                                             NaN   \n",
       "303                                             NaN   \n",
       "\n",
       "     ave_intensity_h2ax_less_incorporated_chr_Pol2S5  normalized_inc_Pol2S5  \\\n",
       "0                                        1275.064437               0.665977   \n",
       "1                                         517.650995               0.531182   \n",
       "2                                        1360.482407               1.495851   \n",
       "3                                         898.833195               0.587073   \n",
       "4                                         701.095310               0.655391   \n",
       "..                                               ...                    ...   \n",
       "299                                       193.948300               1.105043   \n",
       "300                                       179.475137               0.704969   \n",
       "301                                       358.699219               1.015796   \n",
       "302                                       146.579907               0.698975   \n",
       "303                                       300.085406               1.093870   \n",
       "\n",
       "     normalized_subset_control_Pol2S5  normalized_inc_H3K9ac  \\\n",
       "0                            0.977054               0.798147   \n",
       "1                            1.043187               0.852813   \n",
       "2                            0.923852               1.067169   \n",
       "3                            0.926983               0.997998   \n",
       "4                            0.708817               0.892186   \n",
       "..                                ...                    ...   \n",
       "299                          1.311921               0.856547   \n",
       "300                          0.816049               0.876881   \n",
       "301                          1.116434               0.935992   \n",
       "302                          0.798516               0.509995   \n",
       "303                          1.343378               0.813951   \n",
       "\n",
       "     normalized_subset_control_H3K9ac  normalized_inc_Mdc1  \\\n",
       "0                            1.034100             4.101546   \n",
       "1                            1.033086             4.158451   \n",
       "2                            1.027633            19.433452   \n",
       "3                            1.049734             9.709731   \n",
       "4                            0.994393            14.772285   \n",
       "..                                ...                  ...   \n",
       "299                          1.114543             3.397596   \n",
       "300                          0.917232             9.044680   \n",
       "301                          0.997094             4.073513   \n",
       "302                          1.094241             4.780053   \n",
       "303                          0.675106             3.133717   \n",
       "\n",
       "     normalized_subset_control_Mdc1  normalized_inc_dna  \\\n",
       "0                          0.846629            1.048396   \n",
       "1                          0.901480            0.725400   \n",
       "2                          0.630781            0.816240   \n",
       "3                          1.896187            1.127177   \n",
       "4                          0.566470            0.784293   \n",
       "..                              ...                 ...   \n",
       "299                        1.122793            0.962591   \n",
       "300                        1.109901            0.966439   \n",
       "301                        0.942500            1.011988   \n",
       "302                        0.743685            0.789611   \n",
       "303                        1.027045            1.015941   \n",
       "\n",
       "     normalized_subset_control_dna  \n",
       "0                         1.002282  \n",
       "1                         0.927833  \n",
       "2                         0.969515  \n",
       "3                         0.883526  \n",
       "4                         0.736730  \n",
       "..                             ...  \n",
       "299                       0.866710  \n",
       "300                       0.945513  \n",
       "301                       1.127846  \n",
       "302                       0.935878  \n",
       "303                       1.156528  \n",
       "\n",
       "[502 rows x 48 columns]"
      ]
     },
     "execution_count": 8,
     "metadata": {},
     "output_type": "execute_result"
    }
   ],
   "source": [
    "analysis_df"
   ]
  },
  {
   "cell_type": "code",
   "execution_count": 10,
   "metadata": {},
   "outputs": [],
   "source": [
    "#analysis_savename = 'rpe1_h3k27_pol2_analyzed.xlsx'\n",
    "\n",
    "analysis_df.to_excel(analysis_save_path+os.sep+analysis_savename, index=False)"
   ]
  },
  {
   "cell_type": "code",
   "execution_count": 9,
   "metadata": {},
   "outputs": [
    {
     "name": "stdout",
     "output_type": "stream",
     "text": [
      "MW comparision: 9.228637810920632e-08\n"
     ]
    },
    {
     "data": {
      "image/png": "[encoded data removed]",
      "text/plain": [
       "<Figure size 432x288 with 1 Axes>"
      ]
     },
     "metadata": {
      "needs_background": "light"
     },
     "output_type": "display_data"
    }
   ],
   "source": [
    "# for dna\n",
    "\n",
    "# \n",
    "g1 = analysis_df['normalized_inc_dna']\n",
    "g2 = analysis_df['normalized_subset_control_dna']\n",
    "#g3 = no_damaged_chr_df['normalized_inc_Pol2S5']\n",
    "#g4 = analysis_df['normalized_subset_control_Pol2S5']\n",
    "\n",
    "#sp_low = min(len(g1),len(g2),len(g3))\n",
    "#sp_low = min(len(g1),len(g2), len(g3))\n",
    "\n",
    "#g1 = np.random.choice(g1, sp_low)\n",
    "#g2 = np.random.choice(g2, sp_low)\n",
    "#g3 = np.random.choice(g3, sp_low)\n",
    "#g4 = np.random.choice(g4, sp_low)\n",
    "\n",
    "boxplot_pol2= plt.boxplot([g1,g2], meanline = True)\n",
    "\n",
    "\n",
    "vals, xs = [], [] \n",
    "\n",
    "for i, subdf in enumerate([g1,g2]):\n",
    "    #names.append(name)\n",
    "    vals.append(subdf.tolist())\n",
    "    xs.append(np.random.normal(i+1, 0.04, subdf.shape[0]))\n",
    "\n",
    "for x, val in zip(xs, vals):\n",
    "    plt.scatter(x, val,  s = 1, alpha=0.3)\n",
    "\n",
    "from scipy.stats import mannwhitneyu\n",
    "from scipy.stats import kruskal\n",
    "#p4 = kruskal(g1,g2,g3,g4)\n",
    "\n",
    "U1, p1 = mannwhitneyu(g1,g2)\n",
    "\n",
    "print(f\"MW comparision: {p1}\")\n",
    "\n",
    "\n",
    "\n",
    "#print(f\"three samples comparision: {p4}\")"
   ]
  },
  {
   "cell_type": "code",
   "execution_count": 11,
   "metadata": {},
   "outputs": [
    {
     "name": "stdout",
     "output_type": "stream",
     "text": [
      "MW comparision: 5.053304868713952e-165\n"
     ]
    },
    {
     "data": {
      "image/png": "[encoded data removed]",
      "text/plain": [
       "<Figure size 432x288 with 1 Axes>"
      ]
     },
     "metadata": {
      "needs_background": "light"
     },
     "output_type": "display_data"
    }
   ],
   "source": [
    "# for mdc1\n",
    "\n",
    "# \n",
    "g1 = analysis_df['normalized_inc_Mdc1']\n",
    "g2 = analysis_df['normalized_subset_control_Mdc1']\n",
    "#g3 = no_damaged_chr_df['normalized_inc_Pol2S5']\n",
    "#g4 = analysis_df['normalized_subset_control_Pol2S5']\n",
    "\n",
    "#sp_low = min(len(g1),len(g2),len(g3))\n",
    "#sp_low = min(len(g1),len(g2), len(g3))\n",
    "\n",
    "#g1 = np.random.choice(g1, sp_low)\n",
    "#g2 = np.random.choice(g2, sp_low)\n",
    "#g3 = np.random.choice(g3, sp_low)\n",
    "#g4 = np.random.choice(g4, sp_low)\n",
    "\n",
    "boxplot_pol2= plt.boxplot([g1,g2], meanline = True)\n",
    "\n",
    "\n",
    "vals, xs = [], [] \n",
    "\n",
    "for i, subdf in enumerate([g1,g2]):\n",
    "    #names.append(name)\n",
    "    vals.append(subdf.tolist())\n",
    "    xs.append(np.random.normal(i+1, 0.04, subdf.shape[0]))\n",
    "\n",
    "for x, val in zip(xs, vals):\n",
    "    plt.scatter(x, val,  s = 1, alpha=0.3)\n",
    "\n",
    "from scipy.stats import mannwhitneyu\n",
    "from scipy.stats import kruskal\n",
    "#p4 = kruskal(g1,g2,g3,g4)\n",
    "\n",
    "U1, p1 = mannwhitneyu(g1,g2)\n",
    "\n",
    "print(f\"MW comparision: {p1}\")\n",
    "\n",
    "\n",
    "\n",
    "#print(f\"three samples comparision: {p4}\")"
   ]
  },
  {
   "cell_type": "code",
   "execution_count": 12,
   "metadata": {},
   "outputs": [
    {
     "name": "stdout",
     "output_type": "stream",
     "text": [
      "MW comparision: 1.3258868978687765e-46\n"
     ]
    },
    {
     "data": {
      "image/png": "[encoded data removed]",
      "text/plain": [
       "<Figure size 432x288 with 1 Axes>"
      ]
     },
     "metadata": {
      "needs_background": "light"
     },
     "output_type": "display_data"
    }
   ],
   "source": [
    "# For Pol2S5\n",
    "g1 = analysis_df['normalized_inc_Pol2S5']\n",
    "g2 = analysis_df['normalized_subset_control_Pol2S5']\n",
    "#g3 = no_damaged_chr_df['normalized_inc_Pol2S5']\n",
    "#g4 = analysis_df['normalized_subset_control_Pol2S5']\n",
    "\n",
    "#sp_low = min(len(g1),len(g2),len(g3))\n",
    "#sp_low = min(len(g1),len(g2), len(g3))\n",
    "\n",
    "#g1 = np.random.choice(g1, sp_low)\n",
    "#g2 = np.random.choice(g2, sp_low)\n",
    "#g3 = np.random.choice(g3, sp_low)\n",
    "#g4 = np.random.choice(g4, sp_low)\n",
    "\n",
    "boxplot_pol2= plt.boxplot([g1,g2], meanline = True)\n",
    "\n",
    "\n",
    "vals, xs = [], [] \n",
    "\n",
    "for i, subdf in enumerate([g1,g2]):\n",
    "    #names.append(name)\n",
    "    vals.append(subdf.tolist())\n",
    "    xs.append(np.random.normal(i+1, 0.04, subdf.shape[0]))\n",
    "\n",
    "for x, val in zip(xs, vals):\n",
    "    plt.scatter(x, val,  s = 1, alpha=0.3)\n",
    "\n",
    "from scipy.stats import mannwhitneyu\n",
    "from scipy.stats import kruskal\n",
    "#p4 = kruskal(g1,g2,g3,g4)\n",
    "\n",
    "U1, p1 = mannwhitneyu(g1,g2)\n",
    "\n",
    "print(f\"MW comparision: {p1}\")\n",
    "\n",
    "\n",
    "\n",
    "#print(f\"three samples comparision: {p4}\")"
   ]
  },
  {
   "cell_type": "code",
   "execution_count": 13,
   "metadata": {},
   "outputs": [
    {
     "name": "stdout",
     "output_type": "stream",
     "text": [
      "MW comparision: 9.142738980762545e-54\n"
     ]
    },
    {
     "data": {
      "image/png": "[encoded data removed]",
      "text/plain": [
       "<Figure size 432x288 with 1 Axes>"
      ]
     },
     "metadata": {
      "needs_background": "light"
     },
     "output_type": "display_data"
    }
   ],
   "source": [
    "# For Pol2S5 norm to dna\n",
    "g1 = analysis_df['normalized_inc_Pol2S5']/analysis_df['normalized_inc_dna']\n",
    "g2 = analysis_df['normalized_subset_control_Pol2S5']/analysis_df['normalized_subset_control_dna']\n",
    "#g3 = no_damaged_chr_df['normalized_inc_Pol2S5']\n",
    "#g4 = analysis_df['normalized_subset_control_Pol2S5']\n",
    "\n",
    "#sp_low = min(len(g1),len(g2),len(g3))\n",
    "#sp_low = min(len(g1),len(g2), len(g3))\n",
    "\n",
    "#g1 = np.random.choice(g1, sp_low)\n",
    "#g2 = np.random.choice(g2, sp_low)\n",
    "#g3 = np.random.choice(g3, sp_low)\n",
    "#g4 = np.random.choice(g4, sp_low)\n",
    "\n",
    "boxplot_pol2= plt.boxplot([g1,g2], meanline = True)\n",
    "\n",
    "\n",
    "vals, xs = [], [] \n",
    "\n",
    "for i, subdf in enumerate([g1,g2]):\n",
    "    #names.append(name)\n",
    "    vals.append(subdf.tolist())\n",
    "    xs.append(np.random.normal(i+1, 0.04, subdf.shape[0]))\n",
    "\n",
    "for x, val in zip(xs, vals):\n",
    "    plt.scatter(x, val,  s = 1, alpha=0.3)\n",
    "\n",
    "from scipy.stats import mannwhitneyu\n",
    "from scipy.stats import kruskal\n",
    "#p4 = kruskal(g1,g2,g3,g4)\n",
    "\n",
    "U1, p1 = mannwhitneyu(g1,g2)\n",
    "\n",
    "print(f\"MW comparision: {p1}\")\n",
    "\n",
    "\n",
    "\n",
    "#print(f\"three samples comparision: {p4}\")"
   ]
  },
  {
   "cell_type": "code",
   "execution_count": 14,
   "metadata": {},
   "outputs": [
    {
     "name": "stdout",
     "output_type": "stream",
     "text": [
      "MW comparision: 1.3948767658242105e-55\n"
     ]
    },
    {
     "data": {
      "image/png": "[encoded data removed]",
      "text/plain": [
       "<Figure size 432x288 with 1 Axes>"
      ]
     },
     "metadata": {
      "needs_background": "light"
     },
     "output_type": "display_data"
    }
   ],
   "source": [
    "# For H2ax\n",
    "g1 = analysis_df['normalized_inc_H3K9ac']\n",
    "g2 = analysis_df['normalized_subset_control_H3K9ac']\n",
    "#g3 = no_damaged_chr_df['normalized_inc_Pol2S5']\n",
    "#g4 = analysis_df['normalized_subset_control_Pol2S5']\n",
    "\n",
    "#sp_low = min(len(g1),len(g2),len(g3))\n",
    "#sp_low = min(len(g1),len(g2), len(g3))\n",
    "\n",
    "#g1 = np.random.choice(g1, sp_low)\n",
    "#g2 = np.random.choice(g2, sp_low)\n",
    "#g3 = np.random.choice(g3, sp_low)\n",
    "#g4 = np.random.choice(g4, sp_low)\n",
    "\n",
    "boxplot_pol2= plt.boxplot([g1,g2], meanline = True)\n",
    "\n",
    "\n",
    "vals, xs = [], [] \n",
    "\n",
    "for i, subdf in enumerate([g1,g2]):\n",
    "    #names.append(name)\n",
    "    vals.append(subdf.tolist())\n",
    "    xs.append(np.random.normal(i+1, 0.04, subdf.shape[0]))\n",
    "\n",
    "for x, val in zip(xs, vals):\n",
    "    plt.scatter(x, val,  s = 1, alpha=0.3)\n",
    "\n",
    "\n",
    "from scipy.stats import kruskal\n",
    "#p4 = kruskal(g1,g2,g3,g4)\n",
    "from scipy.stats import mannwhitneyu\n",
    "U1, p1 = mannwhitneyu(g1,g2)\n",
    "\n",
    "print(f\"MW comparision: {p1}\")\n",
    "\n",
    "\n",
    "\n",
    "#print(f\"three samples comparision: {p4}\")"
   ]
  },
  {
   "cell_type": "code",
   "execution_count": 15,
   "metadata": {},
   "outputs": [
    {
     "name": "stdout",
     "output_type": "stream",
     "text": [
      "MW comparision: 3.396823454164864e-55\n"
     ]
    },
    {
     "data": {
      "image/png": "[encoded data removed]",
      "text/plain": [
       "<Figure size 432x288 with 1 Axes>"
      ]
     },
     "metadata": {
      "needs_background": "light"
     },
     "output_type": "display_data"
    }
   ],
   "source": [
    "# For H2ax\n",
    "g1 = analysis_df['normalized_inc_H3K9ac']/analysis_df['normalized_inc_dna']\n",
    "g2 = analysis_df['normalized_subset_control_H3K9ac']/analysis_df['normalized_subset_control_dna']\n",
    "#g3 = no_damaged_chr_df['normalized_inc_Pol2S5']\n",
    "#g4 = analysis_df['normalized_subset_control_Pol2S5']\n",
    "\n",
    "#sp_low = min(len(g1),len(g2),len(g3))\n",
    "#sp_low = min(len(g1),len(g2), len(g3))\n",
    "\n",
    "#g1 = np.random.choice(g1, sp_low)\n",
    "#g2 = np.random.choice(g2, sp_low)\n",
    "#g3 = np.random.choice(g3, sp_low)\n",
    "#g4 = np.random.choice(g4, sp_low)\n",
    "\n",
    "boxplot_pol2= plt.boxplot([g1,g2], meanline = True)\n",
    "\n",
    "\n",
    "vals, xs = [], [] \n",
    "\n",
    "for i, subdf in enumerate([g1,g2]):\n",
    "    #names.append(name)\n",
    "    vals.append(subdf.tolist())\n",
    "    xs.append(np.random.normal(i+1, 0.04, subdf.shape[0]))\n",
    "\n",
    "for x, val in zip(xs, vals):\n",
    "    plt.scatter(x, val,  s = 1, alpha=0.3)\n",
    "\n",
    "\n",
    "from scipy.stats import kruskal\n",
    "#p4 = kruskal(g1,g2,g3,g4)\n",
    "from scipy.stats import mannwhitneyu\n",
    "U1, p1 = mannwhitneyu(g1,g2)\n",
    "\n",
    "print(f\"MW comparision: {p1}\")\n",
    "\n",
    "\n",
    "\n",
    "#print(f\"three samples comparision: {p4}\")"
   ]
  },
  {
   "cell_type": "code",
   "execution_count": 16,
   "metadata": {},
   "outputs": [
    {
     "data": {
      "text/plain": [
       "SpearmanrResult(correlation=0.7506201192539399, pvalue=4.891949864549301e-92)"
      ]
     },
     "execution_count": 16,
     "metadata": {},
     "output_type": "execute_result"
    }
   ],
   "source": [
    "from scipy import stats\n",
    "stats.spearmanr(analysis_df['normalized_inc_Pol2S5'], analysis_df['normalized_inc_H3K9ac'])"
   ]
  },
  {
   "cell_type": "code",
   "execution_count": 17,
   "metadata": {},
   "outputs": [
    {
     "data": {
      "text/plain": [
       "SpearmanrResult(correlation=0.7506201192539399, pvalue=4.891949864549301e-92)"
      ]
     },
     "execution_count": 17,
     "metadata": {},
     "output_type": "execute_result"
    },
    {
     "data": {
      "image/png": "[encoded data removed]",
      "text/plain": [
       "<Figure size 432x288 with 1 Axes>"
      ]
     },
     "metadata": {
      "needs_background": "light"
     },
     "output_type": "display_data"
    }
   ],
   "source": [
    "plt.scatter(x= analysis_df['normalized_inc_Pol2S5'], y =analysis_df['normalized_inc_H3K9ac'])\n",
    "\n",
    "stats.spearmanr(analysis_df['normalized_inc_Pol2S5'], analysis_df['normalized_inc_H3K9ac'])"
   ]
  },
  {
   "cell_type": "code",
   "execution_count": 18,
   "metadata": {},
   "outputs": [
    {
     "data": {
      "text/plain": [
       "SpearmanrResult(correlation=0.7506201192539399, pvalue=4.891949864549301e-92)"
      ]
     },
     "execution_count": 18,
     "metadata": {},
     "output_type": "execute_result"
    },
    {
     "data": {
      "image/png": "[encoded data removed]",
      "text/plain": [
       "<Figure size 432x288 with 1 Axes>"
      ]
     },
     "metadata": {
      "needs_background": "light"
     },
     "output_type": "display_data"
    }
   ],
   "source": [
    "plt.scatter(x= analysis_df['normalized_subset_control_Pol2S5'], y =analysis_df['normalized_subset_control_H3K9ac'])\n",
    "\n",
    "stats.spearmanr(analysis_df['normalized_inc_Pol2S5'], analysis_df['normalized_inc_H3K9ac'])"
   ]
  },
  {
   "cell_type": "code",
   "execution_count": 19,
   "metadata": {},
   "outputs": [
    {
     "data": {
      "text/plain": [
       "SpearmanrResult(correlation=0.3485546154805309, pvalue=8.720851290120551e-16)"
      ]
     },
     "execution_count": 19,
     "metadata": {},
     "output_type": "execute_result"
    }
   ],
   "source": [
    "stats.spearmanr(analysis_df['normalized_subset_control_Pol2S5'], analysis_df['normalized_subset_control_H3K9ac'])"
   ]
  }
 ],
 "metadata": {
  "kernelspec": {
   "display_name": "Python 3",
   "language": "python",
   "name": "python3"
  },
  "language_info": {
   "codemirror_mode": {
    "name": "ipython",
    "version": 3
   },
   "file_extension": ".py",
   "mimetype": "text/x-python",
   "name": "python",
   "nbconvert_exporter": "python",
   "pygments_lexer": "ipython3",
   "version": "3.7.6"
  }
 },
 "nbformat": 4,
 "nbformat_minor": 4
}

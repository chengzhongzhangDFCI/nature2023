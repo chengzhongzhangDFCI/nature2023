{
 "cells": [
  {
   "cell_type": "markdown",
   "metadata": {},
   "source": [
    "# 1. Import required modules"
   ]
  },
  {
   "cell_type": "code",
   "execution_count": 1,
   "metadata": {},
   "outputs": [
    {
     "name": "stderr",
     "output_type": "stream",
     "text": [
      "c:\\programdata\\anaconda3\\lib\\site-packages\\skimage\\io\\manage_plugins.py:23: UserWarning: Your installed pillow version is < 7.1.0. Several security issues (CVE-2020-11538, CVE-2020-10379, CVE-2020-10994, CVE-2020-10177) have been fixed in pillow 7.1.0 or higher. We recommend to upgrade this library.\n",
      "  from .collection import imread_collection_wrapper\n"
     ]
    }
   ],
   "source": [
    "import numpy as np\n",
    "import matplotlib.pyplot as plt\n",
    "from skimage import io\n",
    "from skimage import data\n",
    "import skimage\n",
    "from skimage.filters.thresholding import threshold_li,threshold_local,threshold_otsu\n",
    "from skimage.morphology import erosion, dilation, opening, closing, white_tophat, remove_small_objects, ball\n",
    "from skimage.morphology import disk\n",
    "from scipy import ndimage as ndi\n",
    "import sys,os, glob\n",
    "\n",
    "#import skimage.filters.median\n",
    "\n",
    "#import skimage.segmentation as seg\n",
    "#import skimage.filters as filters\n",
    "#import skimage.draw as draw\n",
    "#import skimage.color as color\n",
    "\n",
    "#from skimage.filters.thresholding import _cross_entropy\n",
    "#from skimage.morphology import black_tophat, skeletonize, convex_hull_image\n",
    "\n",
    "\n",
    "#pip install nd2reader_required for nd2 file reading\n",
    "from nd2reader import ND2Reader\n",
    "\n",
    "import pandas as pd"
   ]
  },
  {
   "cell_type": "markdown",
   "metadata": {},
   "source": [
    "# 2. Define common parameters for measurement loading here:"
   ]
  },
  {
   "cell_type": "code",
   "execution_count": 2,
   "metadata": {},
   "outputs": [],
   "source": [
    "# load experiment exp1\n",
    "\n",
    "analysis_fd = r'D:\\Analyzed_CellBio\\Stam\\211122IF_211101exp_Mdc1ab_45h\\cov1_Mdc1-568 H3K9me2-488 PolS5-647\\analysis_subset_controlled'\n",
    "\n",
    "exp1_df = pd.read_excel(analysis_fd + os.sep + 'measurement_for_all_fov_background_subtracted_2_100_crop.xlsx')"
   ]
  },
  {
   "cell_type": "code",
   "execution_count": 3,
   "metadata": {},
   "outputs": [],
   "source": [
    "# load experiment exp2\n",
    "\n",
    "analysis_fd = r'D:\\Analyzed_CellBio\\Stam\\211122IF_210922exp_Mdc1ab_45h\\Mdc1-568 H3K9me2-488 PolS5-647\\analysis_subset_controlled'\n",
    "\n",
    "exp2_df = pd.read_excel(analysis_fd + os.sep + 'measurement_for_all_fov_background_subtracted_2_100_crop.xlsx')"
   ]
  },
  {
   "cell_type": "code",
   "execution_count": 5,
   "metadata": {},
   "outputs": [
    {
     "name": "stdout",
     "output_type": "stream",
     "text": [
      "571\n"
     ]
    }
   ],
   "source": [
    "combined_df = pd.concat([exp1_df,exp2_df])\n",
    "\n",
    "print(len(combined_df))\n",
    "\n",
    "\n",
    "measurement_for_all_fov_df = combined_df"
   ]
  },
  {
   "cell_type": "markdown",
   "metadata": {},
   "source": [
    "# 3. Post-hoc analysis examples"
   ]
  },
  {
   "cell_type": "code",
   "execution_count": 6,
   "metadata": {},
   "outputs": [],
   "source": [
    "#len(measurement_for_all_fov_df)\n",
    "\n",
    "\n",
    "analysis_save_path = r'D:\\Analyzed_CellBio\\Stam\\Mdc1_fixed_analysis'\n",
    "\n",
    "analysis_savename = 'mdc-568_h3k9me2_pol2_analyzed.xlsx'"
   ]
  },
  {
   "cell_type": "code",
   "execution_count": 7,
   "metadata": {},
   "outputs": [
    {
     "name": "stdout",
     "output_type": "stream",
     "text": [
      "571\n"
     ]
    }
   ],
   "source": [
    "# remove the bad cell that has no Pol2 signal\n",
    "analysis_df=measurement_for_all_fov_df[measurement_for_all_fov_df['ave_intensity_control_chr_Pol2S5']>0].copy()\n",
    "\n",
    "print(len(analysis_df))\n",
    "\n",
    "#analysis_df.to_excel(analysis_save_path+os.sep+analysis_savename, index=False)"
   ]
  },
  {
   "cell_type": "code",
   "execution_count": 8,
   "metadata": {},
   "outputs": [
    {
     "name": "stdout",
     "output_type": "stream",
     "text": [
      "0.7603966083675944\n",
      "1.015588521693435\n",
      "1.1084695552784072\n",
      "1.0198741761356558\n",
      "5.699261239759492\n",
      "1.0449259845211945\n",
      "1.088380157571813\n",
      "1.0098560357358763\n"
     ]
    }
   ],
   "source": [
    "# remove the bad cell that has no Pol2 signal\n",
    "#analysis_df=measurement_for_all_fov_df[measurement_for_all_fov_df['ave_intensity_control_chr_Pol2S5']>0].copy()\n",
    "\n",
    "# for total incorporated chr\n",
    "analysis_df['normalized_inc_Pol2S5']=analysis_df['ave_intensity_incorporated_chr_Pol2S5']/analysis_df['ave_intensity_nucleo-excluded_control_chr_Pol2S5']\n",
    "print(analysis_df['normalized_inc_Pol2S5'].mean())\n",
    "\n",
    "\n",
    "# for subset control\n",
    "analysis_df['normalized_subset_control_Pol2S5']=analysis_df['ave_intensity_subset_control_chr_Pol2S5']/analysis_df['ave_intensity_nucleo-excluded_control_chr_Pol2S5']\n",
    "print(analysis_df['normalized_subset_control_Pol2S5'].mean())\n",
    "\n",
    "\n",
    "\n",
    "# get the h2ax-positive area vs h2ax-less (positive) area for the same cell\n",
    "analysis_df['normalized_inc_H3K9me2'] = analysis_df['ave_intensity_incorporated_chr_H3K9me2']/analysis_df['ave_intensity_nucleo-excluded_control_chr_H3K9me2']\n",
    "print(analysis_df['normalized_inc_H3K9me2'].mean())\n",
    "\n",
    "\n",
    "# for subset control\n",
    "analysis_df['normalized_subset_control_H3K9me2']=analysis_df['ave_intensity_subset_control_chr_H3K9me2']/analysis_df['ave_intensity_nucleo-excluded_control_chr_H3K9me2']\n",
    "print(analysis_df['normalized_subset_control_H3K9me2'].mean())\n",
    "\n",
    "\n",
    "\n",
    "\n",
    "\n",
    "\n",
    "\n",
    "\n",
    "# get the h2ax-positive area vs h2ax-less (positive) area for the same cell\n",
    "analysis_df['normalized_inc_Mdc1'] = analysis_df['ave_intensity_incorporated_chr_Mdc1']/analysis_df['ave_intensity_nucleo-excluded_control_chr_Mdc1']\n",
    "print(analysis_df['normalized_inc_Mdc1'].mean())\n",
    "\n",
    "\n",
    "# for subset control\n",
    "analysis_df['normalized_subset_control_Mdc1']=analysis_df['ave_intensity_subset_control_chr_Mdc1']/analysis_df['ave_intensity_nucleo-excluded_control_chr_Mdc1']\n",
    "print(analysis_df['normalized_subset_control_Mdc1'].mean())\n",
    "\n",
    "\n",
    "\n",
    "\n",
    "\n",
    "# get the h2ax-positive area vs h2ax-less (positive) area for the same cell\n",
    "analysis_df['normalized_inc_dna'] = analysis_df['ave_intensity_incorporated_chr_dna']/analysis_df['ave_intensity_nucleo-excluded_control_chr_dna']\n",
    "print(analysis_df['normalized_inc_dna'].mean())\n",
    "\n",
    "\n",
    "# for subset control\n",
    "analysis_df['normalized_subset_control_dna']=analysis_df['ave_intensity_subset_control_chr_dna']/analysis_df['ave_intensity_nucleo-excluded_control_chr_dna']\n",
    "print(analysis_df['normalized_subset_control_dna'].mean())"
   ]
  },
  {
   "cell_type": "code",
   "execution_count": 9,
   "metadata": {},
   "outputs": [
    {
     "data": {
      "text/html": [
       "<div>\n",
       "<style scoped>\n",
       "    .dataframe tbody tr th:only-of-type {\n",
       "        vertical-align: middle;\n",
       "    }\n",
       "\n",
       "    .dataframe tbody tr th {\n",
       "        vertical-align: top;\n",
       "    }\n",
       "\n",
       "    .dataframe thead th {\n",
       "        text-align: right;\n",
       "    }\n",
       "</style>\n",
       "<table border=\"1\" class=\"dataframe\">\n",
       "  <thead>\n",
       "    <tr style=\"text-align: right;\">\n",
       "      <th></th>\n",
       "      <th>Unnamed: 0</th>\n",
       "      <th>exp_name</th>\n",
       "      <th>position_id</th>\n",
       "      <th>cell_id</th>\n",
       "      <th>cell_xyz_coord</th>\n",
       "      <th>area_incorporated_chr</th>\n",
       "      <th>area_h2ax_within_incorporated_chr</th>\n",
       "      <th>area_less_h2ax_within_incorporated_chr</th>\n",
       "      <th>area_control_chr</th>\n",
       "      <th>area_nucleo-excluded_control_chr</th>\n",
       "      <th>...</th>\n",
       "      <th>ave_intensity_h2ax_pos_incorporated_chr_Pol2S5</th>\n",
       "      <th>ave_intensity_h2ax_less_incorporated_chr_Pol2S5</th>\n",
       "      <th>normalized_inc_Pol2S5</th>\n",
       "      <th>normalized_subset_control_Pol2S5</th>\n",
       "      <th>normalized_inc_H3K9me2</th>\n",
       "      <th>normalized_subset_control_H3K9me2</th>\n",
       "      <th>normalized_inc_Mdc1</th>\n",
       "      <th>normalized_subset_control_Mdc1</th>\n",
       "      <th>normalized_inc_dna</th>\n",
       "      <th>normalized_subset_control_dna</th>\n",
       "    </tr>\n",
       "  </thead>\n",
       "  <tbody>\n",
       "    <tr>\n",
       "      <th>0</th>\n",
       "      <td>0</td>\n",
       "      <td>cov1_Mdc1-568 H3K9me2-488 PolS5-647</td>\n",
       "      <td>RPE1 atcc noco45h Mdc1-568 H3K9me2-488 RNApol6...</td>\n",
       "      <td>3</td>\n",
       "      <td>[[1469, 432], 1]</td>\n",
       "      <td>220</td>\n",
       "      <td>4</td>\n",
       "      <td>216</td>\n",
       "      <td>30425</td>\n",
       "      <td>6143</td>\n",
       "      <td>...</td>\n",
       "      <td>NaN</td>\n",
       "      <td>130.940114</td>\n",
       "      <td>1.481037</td>\n",
       "      <td>0.596640</td>\n",
       "      <td>1.180130</td>\n",
       "      <td>0.830896</td>\n",
       "      <td>2.911626</td>\n",
       "      <td>0.672948</td>\n",
       "      <td>1.305735</td>\n",
       "      <td>0.898057</td>\n",
       "    </tr>\n",
       "    <tr>\n",
       "      <th>1</th>\n",
       "      <td>0</td>\n",
       "      <td>cov1_Mdc1-568 H3K9me2-488 PolS5-647</td>\n",
       "      <td>RPE1 atcc noco45h Mdc1-568 H3K9me2-488 RNApol6...</td>\n",
       "      <td>10</td>\n",
       "      <td>[[1461, 716], 1]</td>\n",
       "      <td>231</td>\n",
       "      <td>33</td>\n",
       "      <td>198</td>\n",
       "      <td>43898</td>\n",
       "      <td>9715</td>\n",
       "      <td>...</td>\n",
       "      <td>NaN</td>\n",
       "      <td>158.437816</td>\n",
       "      <td>1.344412</td>\n",
       "      <td>0.711213</td>\n",
       "      <td>1.727468</td>\n",
       "      <td>0.967089</td>\n",
       "      <td>2.834067</td>\n",
       "      <td>0.888289</td>\n",
       "      <td>1.221630</td>\n",
       "      <td>0.880430</td>\n",
       "    </tr>\n",
       "    <tr>\n",
       "      <th>2</th>\n",
       "      <td>0</td>\n",
       "      <td>cov1_Mdc1-568 H3K9me2-488 PolS5-647</td>\n",
       "      <td>RPE1 atcc noco45h Mdc1-568 H3K9me2-488 RNApol6...</td>\n",
       "      <td>14</td>\n",
       "      <td>[[794, 934], 1]</td>\n",
       "      <td>100</td>\n",
       "      <td>1</td>\n",
       "      <td>99</td>\n",
       "      <td>11010</td>\n",
       "      <td>2317</td>\n",
       "      <td>...</td>\n",
       "      <td>NaN</td>\n",
       "      <td>234.358184</td>\n",
       "      <td>1.780509</td>\n",
       "      <td>0.630523</td>\n",
       "      <td>1.098563</td>\n",
       "      <td>0.806263</td>\n",
       "      <td>2.944654</td>\n",
       "      <td>0.836207</td>\n",
       "      <td>1.166521</td>\n",
       "      <td>0.599655</td>\n",
       "    </tr>\n",
       "    <tr>\n",
       "      <th>3</th>\n",
       "      <td>0</td>\n",
       "      <td>cov1_Mdc1-568 H3K9me2-488 PolS5-647</td>\n",
       "      <td>RPE1 atcc noco45h Mdc1-568 H3K9me2-488 RNApol6...</td>\n",
       "      <td>17</td>\n",
       "      <td>[[416, 1045], 1]</td>\n",
       "      <td>489</td>\n",
       "      <td>4</td>\n",
       "      <td>485</td>\n",
       "      <td>27074</td>\n",
       "      <td>6391</td>\n",
       "      <td>...</td>\n",
       "      <td>NaN</td>\n",
       "      <td>90.800649</td>\n",
       "      <td>0.438660</td>\n",
       "      <td>1.143767</td>\n",
       "      <td>0.671685</td>\n",
       "      <td>1.595191</td>\n",
       "      <td>5.195608</td>\n",
       "      <td>1.402380</td>\n",
       "      <td>1.030910</td>\n",
       "      <td>1.225802</td>\n",
       "    </tr>\n",
       "    <tr>\n",
       "      <th>4</th>\n",
       "      <td>0</td>\n",
       "      <td>cov1_Mdc1-568 H3K9me2-488 PolS5-647</td>\n",
       "      <td>RPE1 atcc noco45h Mdc1-568 H3K9me2-488 RNApol6...</td>\n",
       "      <td>18</td>\n",
       "      <td>[[1051, 1033], 1]</td>\n",
       "      <td>453</td>\n",
       "      <td>0</td>\n",
       "      <td>453</td>\n",
       "      <td>13732</td>\n",
       "      <td>3296</td>\n",
       "      <td>...</td>\n",
       "      <td>NaN</td>\n",
       "      <td>76.995828</td>\n",
       "      <td>0.603771</td>\n",
       "      <td>0.862700</td>\n",
       "      <td>0.967218</td>\n",
       "      <td>0.798196</td>\n",
       "      <td>3.341654</td>\n",
       "      <td>0.628958</td>\n",
       "      <td>0.870758</td>\n",
       "      <td>0.708119</td>\n",
       "    </tr>\n",
       "    <tr>\n",
       "      <th>...</th>\n",
       "      <td>...</td>\n",
       "      <td>...</td>\n",
       "      <td>...</td>\n",
       "      <td>...</td>\n",
       "      <td>...</td>\n",
       "      <td>...</td>\n",
       "      <td>...</td>\n",
       "      <td>...</td>\n",
       "      <td>...</td>\n",
       "      <td>...</td>\n",
       "      <td>...</td>\n",
       "      <td>...</td>\n",
       "      <td>...</td>\n",
       "      <td>...</td>\n",
       "      <td>...</td>\n",
       "      <td>...</td>\n",
       "      <td>...</td>\n",
       "      <td>...</td>\n",
       "      <td>...</td>\n",
       "      <td>...</td>\n",
       "      <td>...</td>\n",
       "    </tr>\n",
       "    <tr>\n",
       "      <th>249</th>\n",
       "      <td>0</td>\n",
       "      <td>Mdc1-568 H3K9me2-488 PolS5-647</td>\n",
       "      <td>RPE1 atcc noco45h Mdc1-568 H3K9me2-488 RNApol6...</td>\n",
       "      <td>28</td>\n",
       "      <td>[[317, 1650], 7]</td>\n",
       "      <td>317</td>\n",
       "      <td>0</td>\n",
       "      <td>317</td>\n",
       "      <td>22145</td>\n",
       "      <td>5043</td>\n",
       "      <td>...</td>\n",
       "      <td>NaN</td>\n",
       "      <td>286.676171</td>\n",
       "      <td>0.718497</td>\n",
       "      <td>1.496423</td>\n",
       "      <td>0.867578</td>\n",
       "      <td>1.068940</td>\n",
       "      <td>4.577453</td>\n",
       "      <td>0.854425</td>\n",
       "      <td>1.099030</td>\n",
       "      <td>0.781801</td>\n",
       "    </tr>\n",
       "    <tr>\n",
       "      <th>250</th>\n",
       "      <td>0</td>\n",
       "      <td>Mdc1-568 H3K9me2-488 PolS5-647</td>\n",
       "      <td>RPE1 atcc noco45h Mdc1-568 H3K9me2-488 RNApol6...</td>\n",
       "      <td>2</td>\n",
       "      <td>[[1462, 853], 7]</td>\n",
       "      <td>129</td>\n",
       "      <td>0</td>\n",
       "      <td>129</td>\n",
       "      <td>12542</td>\n",
       "      <td>3295</td>\n",
       "      <td>...</td>\n",
       "      <td>NaN</td>\n",
       "      <td>413.628538</td>\n",
       "      <td>0.735072</td>\n",
       "      <td>1.148195</td>\n",
       "      <td>1.102242</td>\n",
       "      <td>0.987751</td>\n",
       "      <td>3.293417</td>\n",
       "      <td>1.202871</td>\n",
       "      <td>0.947809</td>\n",
       "      <td>1.002712</td>\n",
       "    </tr>\n",
       "    <tr>\n",
       "      <th>251</th>\n",
       "      <td>0</td>\n",
       "      <td>Mdc1-568 H3K9me2-488 PolS5-647</td>\n",
       "      <td>RPE1 atcc noco45h Mdc1-568 H3K9me2-488 RNApol6...</td>\n",
       "      <td>13</td>\n",
       "      <td>[[1082, 1084], 7]</td>\n",
       "      <td>888</td>\n",
       "      <td>11</td>\n",
       "      <td>877</td>\n",
       "      <td>17927</td>\n",
       "      <td>5207</td>\n",
       "      <td>...</td>\n",
       "      <td>NaN</td>\n",
       "      <td>592.965424</td>\n",
       "      <td>0.722428</td>\n",
       "      <td>0.741913</td>\n",
       "      <td>1.234379</td>\n",
       "      <td>0.759615</td>\n",
       "      <td>7.644727</td>\n",
       "      <td>0.423184</td>\n",
       "      <td>1.002385</td>\n",
       "      <td>0.871282</td>\n",
       "    </tr>\n",
       "    <tr>\n",
       "      <th>252</th>\n",
       "      <td>0</td>\n",
       "      <td>Mdc1-568 H3K9me2-488 PolS5-647</td>\n",
       "      <td>RPE1 atcc noco45h Mdc1-568 H3K9me2-488 RNApol6...</td>\n",
       "      <td>14</td>\n",
       "      <td>[[1697, 1122], 7]</td>\n",
       "      <td>170</td>\n",
       "      <td>0</td>\n",
       "      <td>170</td>\n",
       "      <td>22153</td>\n",
       "      <td>6172</td>\n",
       "      <td>...</td>\n",
       "      <td>NaN</td>\n",
       "      <td>603.954007</td>\n",
       "      <td>1.007627</td>\n",
       "      <td>0.666224</td>\n",
       "      <td>0.711536</td>\n",
       "      <td>1.175747</td>\n",
       "      <td>7.198438</td>\n",
       "      <td>2.130375</td>\n",
       "      <td>0.666271</td>\n",
       "      <td>1.145197</td>\n",
       "    </tr>\n",
       "    <tr>\n",
       "      <th>253</th>\n",
       "      <td>0</td>\n",
       "      <td>Mdc1-568 H3K9me2-488 PolS5-647</td>\n",
       "      <td>RPE1 atcc noco45h Mdc1-568 H3K9me2-488 RNApol6...</td>\n",
       "      <td>23</td>\n",
       "      <td>[[652, 1687], 6]</td>\n",
       "      <td>115</td>\n",
       "      <td>0</td>\n",
       "      <td>115</td>\n",
       "      <td>11476</td>\n",
       "      <td>3092</td>\n",
       "      <td>...</td>\n",
       "      <td>NaN</td>\n",
       "      <td>1067.641509</td>\n",
       "      <td>1.139153</td>\n",
       "      <td>1.072867</td>\n",
       "      <td>1.093820</td>\n",
       "      <td>1.130973</td>\n",
       "      <td>4.775076</td>\n",
       "      <td>1.283413</td>\n",
       "      <td>1.100794</td>\n",
       "      <td>1.396955</td>\n",
       "    </tr>\n",
       "  </tbody>\n",
       "</table>\n",
       "<p>571 rows × 48 columns</p>\n",
       "</div>"
      ],
      "text/plain": [
       "     Unnamed: 0                             exp_name  \\\n",
       "0             0  cov1_Mdc1-568 H3K9me2-488 PolS5-647   \n",
       "1             0  cov1_Mdc1-568 H3K9me2-488 PolS5-647   \n",
       "2             0  cov1_Mdc1-568 H3K9me2-488 PolS5-647   \n",
       "3             0  cov1_Mdc1-568 H3K9me2-488 PolS5-647   \n",
       "4             0  cov1_Mdc1-568 H3K9me2-488 PolS5-647   \n",
       "..          ...                                  ...   \n",
       "249           0       Mdc1-568 H3K9me2-488 PolS5-647   \n",
       "250           0       Mdc1-568 H3K9me2-488 PolS5-647   \n",
       "251           0       Mdc1-568 H3K9me2-488 PolS5-647   \n",
       "252           0       Mdc1-568 H3K9me2-488 PolS5-647   \n",
       "253           0       Mdc1-568 H3K9me2-488 PolS5-647   \n",
       "\n",
       "                                           position_id  cell_id  \\\n",
       "0    RPE1 atcc noco45h Mdc1-568 H3K9me2-488 RNApol6...        3   \n",
       "1    RPE1 atcc noco45h Mdc1-568 H3K9me2-488 RNApol6...       10   \n",
       "2    RPE1 atcc noco45h Mdc1-568 H3K9me2-488 RNApol6...       14   \n",
       "3    RPE1 atcc noco45h Mdc1-568 H3K9me2-488 RNApol6...       17   \n",
       "4    RPE1 atcc noco45h Mdc1-568 H3K9me2-488 RNApol6...       18   \n",
       "..                                                 ...      ...   \n",
       "249  RPE1 atcc noco45h Mdc1-568 H3K9me2-488 RNApol6...       28   \n",
       "250  RPE1 atcc noco45h Mdc1-568 H3K9me2-488 RNApol6...        2   \n",
       "251  RPE1 atcc noco45h Mdc1-568 H3K9me2-488 RNApol6...       13   \n",
       "252  RPE1 atcc noco45h Mdc1-568 H3K9me2-488 RNApol6...       14   \n",
       "253  RPE1 atcc noco45h Mdc1-568 H3K9me2-488 RNApol6...       23   \n",
       "\n",
       "        cell_xyz_coord  area_incorporated_chr  \\\n",
       "0     [[1469, 432], 1]                    220   \n",
       "1     [[1461, 716], 1]                    231   \n",
       "2      [[794, 934], 1]                    100   \n",
       "3     [[416, 1045], 1]                    489   \n",
       "4    [[1051, 1033], 1]                    453   \n",
       "..                 ...                    ...   \n",
       "249   [[317, 1650], 7]                    317   \n",
       "250   [[1462, 853], 7]                    129   \n",
       "251  [[1082, 1084], 7]                    888   \n",
       "252  [[1697, 1122], 7]                    170   \n",
       "253   [[652, 1687], 6]                    115   \n",
       "\n",
       "     area_h2ax_within_incorporated_chr  \\\n",
       "0                                    4   \n",
       "1                                   33   \n",
       "2                                    1   \n",
       "3                                    4   \n",
       "4                                    0   \n",
       "..                                 ...   \n",
       "249                                  0   \n",
       "250                                  0   \n",
       "251                                 11   \n",
       "252                                  0   \n",
       "253                                  0   \n",
       "\n",
       "     area_less_h2ax_within_incorporated_chr  area_control_chr  \\\n",
       "0                                       216             30425   \n",
       "1                                       198             43898   \n",
       "2                                        99             11010   \n",
       "3                                       485             27074   \n",
       "4                                       453             13732   \n",
       "..                                      ...               ...   \n",
       "249                                     317             22145   \n",
       "250                                     129             12542   \n",
       "251                                     877             17927   \n",
       "252                                     170             22153   \n",
       "253                                     115             11476   \n",
       "\n",
       "     area_nucleo-excluded_control_chr  ...  \\\n",
       "0                                6143  ...   \n",
       "1                                9715  ...   \n",
       "2                                2317  ...   \n",
       "3                                6391  ...   \n",
       "4                                3296  ...   \n",
       "..                                ...  ...   \n",
       "249                              5043  ...   \n",
       "250                              3295  ...   \n",
       "251                              5207  ...   \n",
       "252                              6172  ...   \n",
       "253                              3092  ...   \n",
       "\n",
       "     ave_intensity_h2ax_pos_incorporated_chr_Pol2S5  \\\n",
       "0                                               NaN   \n",
       "1                                               NaN   \n",
       "2                                               NaN   \n",
       "3                                               NaN   \n",
       "4                                               NaN   \n",
       "..                                              ...   \n",
       "249                                             NaN   \n",
       "250                                             NaN   \n",
       "251                                             NaN   \n",
       "252                                             NaN   \n",
       "253                                             NaN   \n",
       "\n",
       "     ave_intensity_h2ax_less_incorporated_chr_Pol2S5  normalized_inc_Pol2S5  \\\n",
       "0                                         130.940114               1.481037   \n",
       "1                                         158.437816               1.344412   \n",
       "2                                         234.358184               1.780509   \n",
       "3                                          90.800649               0.438660   \n",
       "4                                          76.995828               0.603771   \n",
       "..                                               ...                    ...   \n",
       "249                                       286.676171               0.718497   \n",
       "250                                       413.628538               0.735072   \n",
       "251                                       592.965424               0.722428   \n",
       "252                                       603.954007               1.007627   \n",
       "253                                      1067.641509               1.139153   \n",
       "\n",
       "     normalized_subset_control_Pol2S5  normalized_inc_H3K9me2  \\\n",
       "0                            0.596640                1.180130   \n",
       "1                            0.711213                1.727468   \n",
       "2                            0.630523                1.098563   \n",
       "3                            1.143767                0.671685   \n",
       "4                            0.862700                0.967218   \n",
       "..                                ...                     ...   \n",
       "249                          1.496423                0.867578   \n",
       "250                          1.148195                1.102242   \n",
       "251                          0.741913                1.234379   \n",
       "252                          0.666224                0.711536   \n",
       "253                          1.072867                1.093820   \n",
       "\n",
       "     normalized_subset_control_H3K9me2  normalized_inc_Mdc1  \\\n",
       "0                             0.830896             2.911626   \n",
       "1                             0.967089             2.834067   \n",
       "2                             0.806263             2.944654   \n",
       "3                             1.595191             5.195608   \n",
       "4                             0.798196             3.341654   \n",
       "..                                 ...                  ...   \n",
       "249                           1.068940             4.577453   \n",
       "250                           0.987751             3.293417   \n",
       "251                           0.759615             7.644727   \n",
       "252                           1.175747             7.198438   \n",
       "253                           1.130973             4.775076   \n",
       "\n",
       "     normalized_subset_control_Mdc1  normalized_inc_dna  \\\n",
       "0                          0.672948            1.305735   \n",
       "1                          0.888289            1.221630   \n",
       "2                          0.836207            1.166521   \n",
       "3                          1.402380            1.030910   \n",
       "4                          0.628958            0.870758   \n",
       "..                              ...                 ...   \n",
       "249                        0.854425            1.099030   \n",
       "250                        1.202871            0.947809   \n",
       "251                        0.423184            1.002385   \n",
       "252                        2.130375            0.666271   \n",
       "253                        1.283413            1.100794   \n",
       "\n",
       "     normalized_subset_control_dna  \n",
       "0                         0.898057  \n",
       "1                         0.880430  \n",
       "2                         0.599655  \n",
       "3                         1.225802  \n",
       "4                         0.708119  \n",
       "..                             ...  \n",
       "249                       0.781801  \n",
       "250                       1.002712  \n",
       "251                       0.871282  \n",
       "252                       1.145197  \n",
       "253                       1.396955  \n",
       "\n",
       "[571 rows x 48 columns]"
      ]
     },
     "execution_count": 9,
     "metadata": {},
     "output_type": "execute_result"
    }
   ],
   "source": [
    "analysis_df"
   ]
  },
  {
   "cell_type": "code",
   "execution_count": 10,
   "metadata": {},
   "outputs": [],
   "source": [
    "#analysis_savename = 'rpe1_h3k27_pol2_analyzed.xlsx'\n",
    "\n",
    "analysis_df.to_excel(analysis_save_path+os.sep+analysis_savename, index=False)"
   ]
  },
  {
   "cell_type": "code",
   "execution_count": 11,
   "metadata": {},
   "outputs": [
    {
     "name": "stdout",
     "output_type": "stream",
     "text": [
      "MW comparision: 0.0001335680480584022\n"
     ]
    },
    {
     "data": {
      "image/png": "[encoded data removed]",
      "text/plain": [
       "<Figure size 432x288 with 1 Axes>"
      ]
     },
     "metadata": {
      "needs_background": "light"
     },
     "output_type": "display_data"
    }
   ],
   "source": [
    "# for dna\n",
    "\n",
    "# \n",
    "g1 = analysis_df['normalized_inc_dna']\n",
    "g2 = analysis_df['normalized_subset_control_dna']\n",
    "#g3 = no_damaged_chr_df['normalized_inc_Pol2S5']\n",
    "#g4 = analysis_df['normalized_subset_control_Pol2S5']\n",
    "\n",
    "#sp_low = min(len(g1),len(g2),len(g3))\n",
    "#sp_low = min(len(g1),len(g2), len(g3))\n",
    "\n",
    "#g1 = np.random.choice(g1, sp_low)\n",
    "#g2 = np.random.choice(g2, sp_low)\n",
    "#g3 = np.random.choice(g3, sp_low)\n",
    "#g4 = np.random.choice(g4, sp_low)\n",
    "\n",
    "boxplot_pol2= plt.boxplot([g1,g2], meanline = True)\n",
    "\n",
    "\n",
    "vals, xs = [], [] \n",
    "\n",
    "for i, subdf in enumerate([g1,g2]):\n",
    "    #names.append(name)\n",
    "    vals.append(subdf.tolist())\n",
    "    xs.append(np.random.normal(i+1, 0.04, subdf.shape[0]))\n",
    "\n",
    "for x, val in zip(xs, vals):\n",
    "    plt.scatter(x, val,  s = 1, alpha=0.3)\n",
    "\n",
    "from scipy.stats import mannwhitneyu\n",
    "from scipy.stats import kruskal\n",
    "#p4 = kruskal(g1,g2,g3,g4)\n",
    "\n",
    "U1, p1 = mannwhitneyu(g1,g2)\n",
    "\n",
    "print(f\"MW comparision: {p1}\")\n",
    "\n",
    "\n",
    "\n",
    "#print(f\"three samples comparision: {p4}\")"
   ]
  },
  {
   "cell_type": "code",
   "execution_count": 12,
   "metadata": {},
   "outputs": [
    {
     "name": "stdout",
     "output_type": "stream",
     "text": [
      "MW comparision: 4.0755230944836326e-187\n"
     ]
    },
    {
     "data": {
      "image/png": "[encoded data removed]",
      "text/plain": [
       "<Figure size 432x288 with 1 Axes>"
      ]
     },
     "metadata": {
      "needs_background": "light"
     },
     "output_type": "display_data"
    }
   ],
   "source": [
    "# for mdc1\n",
    "\n",
    "# \n",
    "g1 = analysis_df['normalized_inc_Mdc1']\n",
    "g2 = analysis_df['normalized_subset_control_Mdc1']\n",
    "#g3 = no_damaged_chr_df['normalized_inc_Pol2S5']\n",
    "#g4 = analysis_df['normalized_subset_control_Pol2S5']\n",
    "\n",
    "#sp_low = min(len(g1),len(g2),len(g3))\n",
    "#sp_low = min(len(g1),len(g2), len(g3))\n",
    "\n",
    "#g1 = np.random.choice(g1, sp_low)\n",
    "#g2 = np.random.choice(g2, sp_low)\n",
    "#g3 = np.random.choice(g3, sp_low)\n",
    "#g4 = np.random.choice(g4, sp_low)\n",
    "\n",
    "boxplot_pol2= plt.boxplot([g1,g2], meanline = True)\n",
    "\n",
    "\n",
    "vals, xs = [], [] \n",
    "\n",
    "for i, subdf in enumerate([g1,g2]):\n",
    "    #names.append(name)\n",
    "    vals.append(subdf.tolist())\n",
    "    xs.append(np.random.normal(i+1, 0.04, subdf.shape[0]))\n",
    "\n",
    "for x, val in zip(xs, vals):\n",
    "    plt.scatter(x, val,  s = 1, alpha=0.3)\n",
    "\n",
    "from scipy.stats import mannwhitneyu\n",
    "from scipy.stats import kruskal\n",
    "#p4 = kruskal(g1,g2,g3,g4)\n",
    "\n",
    "U1, p1 = mannwhitneyu(g1,g2)\n",
    "\n",
    "print(f\"MW comparision: {p1}\")\n",
    "\n",
    "\n",
    "\n",
    "#print(f\"three samples comparision: {p4}\")"
   ]
  },
  {
   "cell_type": "code",
   "execution_count": 13,
   "metadata": {},
   "outputs": [
    {
     "name": "stdout",
     "output_type": "stream",
     "text": [
      "MW comparision: 1.5804207767657188e-55\n"
     ]
    },
    {
     "data": {
      "image/png": "[encoded data removed]",
      "text/plain": [
       "<Figure size 432x288 with 1 Axes>"
      ]
     },
     "metadata": {
      "needs_background": "light"
     },
     "output_type": "display_data"
    }
   ],
   "source": [
    "# For Pol2S5\n",
    "g1 = analysis_df['normalized_inc_Pol2S5']\n",
    "g2 = analysis_df['normalized_subset_control_Pol2S5']\n",
    "#g3 = no_damaged_chr_df['normalized_inc_Pol2S5']\n",
    "#g4 = analysis_df['normalized_subset_control_Pol2S5']\n",
    "\n",
    "#sp_low = min(len(g1),len(g2),len(g3))\n",
    "#sp_low = min(len(g1),len(g2), len(g3))\n",
    "\n",
    "#g1 = np.random.choice(g1, sp_low)\n",
    "#g2 = np.random.choice(g2, sp_low)\n",
    "#g3 = np.random.choice(g3, sp_low)\n",
    "#g4 = np.random.choice(g4, sp_low)\n",
    "\n",
    "boxplot_pol2= plt.boxplot([g1,g2], meanline = True)\n",
    "\n",
    "\n",
    "vals, xs = [], [] \n",
    "\n",
    "for i, subdf in enumerate([g1,g2]):\n",
    "    #names.append(name)\n",
    "    vals.append(subdf.tolist())\n",
    "    xs.append(np.random.normal(i+1, 0.04, subdf.shape[0]))\n",
    "\n",
    "for x, val in zip(xs, vals):\n",
    "    plt.scatter(x, val,  s = 1, alpha=0.3)\n",
    "\n",
    "from scipy.stats import mannwhitneyu\n",
    "from scipy.stats import kruskal\n",
    "#p4 = kruskal(g1,g2,g3,g4)\n",
    "\n",
    "U1, p1 = mannwhitneyu(g1,g2)\n",
    "\n",
    "print(f\"MW comparision: {p1}\")\n",
    "\n",
    "\n",
    "\n",
    "#print(f\"three samples comparision: {p4}\")"
   ]
  },
  {
   "cell_type": "code",
   "execution_count": 14,
   "metadata": {},
   "outputs": [
    {
     "name": "stdout",
     "output_type": "stream",
     "text": [
      "MW comparision: 6.553565984432586e-52\n"
     ]
    },
    {
     "data": {
      "image/png": "[encoded data removed]",
      "text/plain": [
       "<Figure size 432x288 with 1 Axes>"
      ]
     },
     "metadata": {
      "needs_background": "light"
     },
     "output_type": "display_data"
    }
   ],
   "source": [
    "# For Pol2S5 norm to dna\n",
    "g1 = analysis_df['normalized_inc_Pol2S5']/analysis_df['normalized_inc_dna']\n",
    "g2 = analysis_df['normalized_subset_control_Pol2S5']/analysis_df['normalized_subset_control_dna']\n",
    "#g3 = no_damaged_chr_df['normalized_inc_Pol2S5']\n",
    "#g4 = analysis_df['normalized_subset_control_Pol2S5']\n",
    "\n",
    "#sp_low = min(len(g1),len(g2),len(g3))\n",
    "#sp_low = min(len(g1),len(g2), len(g3))\n",
    "\n",
    "#g1 = np.random.choice(g1, sp_low)\n",
    "#g2 = np.random.choice(g2, sp_low)\n",
    "#g3 = np.random.choice(g3, sp_low)\n",
    "#g4 = np.random.choice(g4, sp_low)\n",
    "\n",
    "boxplot_pol2= plt.boxplot([g1,g2], meanline = True)\n",
    "\n",
    "\n",
    "vals, xs = [], [] \n",
    "\n",
    "for i, subdf in enumerate([g1,g2]):\n",
    "    #names.append(name)\n",
    "    vals.append(subdf.tolist())\n",
    "    xs.append(np.random.normal(i+1, 0.04, subdf.shape[0]))\n",
    "\n",
    "for x, val in zip(xs, vals):\n",
    "    plt.scatter(x, val,  s = 1, alpha=0.3)\n",
    "\n",
    "from scipy.stats import mannwhitneyu\n",
    "from scipy.stats import kruskal\n",
    "#p4 = kruskal(g1,g2,g3,g4)\n",
    "\n",
    "U1, p1 = mannwhitneyu(g1,g2)\n",
    "\n",
    "print(f\"MW comparision: {p1}\")\n",
    "\n",
    "\n",
    "\n",
    "#print(f\"three samples comparision: {p4}\")"
   ]
  },
  {
   "cell_type": "code",
   "execution_count": 15,
   "metadata": {},
   "outputs": [
    {
     "name": "stdout",
     "output_type": "stream",
     "text": [
      "MW comparision: 0.0009058769313237341\n"
     ]
    },
    {
     "data": {
      "image/png": "[encoded data removed]",
      "text/plain": [
       "<Figure size 432x288 with 1 Axes>"
      ]
     },
     "metadata": {
      "needs_background": "light"
     },
     "output_type": "display_data"
    }
   ],
   "source": [
    "# For H2ax\n",
    "g1 = analysis_df['normalized_inc_H3K9me2']\n",
    "g2 = analysis_df['normalized_subset_control_H3K9me2']\n",
    "#g3 = no_damaged_chr_df['normalized_inc_Pol2S5']\n",
    "#g4 = analysis_df['normalized_subset_control_Pol2S5']\n",
    "\n",
    "#sp_low = min(len(g1),len(g2),len(g3))\n",
    "#sp_low = min(len(g1),len(g2), len(g3))\n",
    "\n",
    "#g1 = np.random.choice(g1, sp_low)\n",
    "#g2 = np.random.choice(g2, sp_low)\n",
    "#g3 = np.random.choice(g3, sp_low)\n",
    "#g4 = np.random.choice(g4, sp_low)\n",
    "\n",
    "boxplot_pol2= plt.boxplot([g1,g2], meanline = True)\n",
    "\n",
    "\n",
    "vals, xs = [], [] \n",
    "\n",
    "for i, subdf in enumerate([g1,g2]):\n",
    "    #names.append(name)\n",
    "    vals.append(subdf.tolist())\n",
    "    xs.append(np.random.normal(i+1, 0.04, subdf.shape[0]))\n",
    "\n",
    "for x, val in zip(xs, vals):\n",
    "    plt.scatter(x, val,  s = 1, alpha=0.3)\n",
    "\n",
    "\n",
    "from scipy.stats import kruskal\n",
    "#p4 = kruskal(g1,g2,g3,g4)\n",
    "from scipy.stats import mannwhitneyu\n",
    "U1, p1 = mannwhitneyu(g1,g2)\n",
    "\n",
    "print(f\"MW comparision: {p1}\")\n",
    "\n",
    "\n",
    "\n",
    "#print(f\"three samples comparision: {p4}\")"
   ]
  },
  {
   "cell_type": "code",
   "execution_count": 16,
   "metadata": {},
   "outputs": [
    {
     "name": "stdout",
     "output_type": "stream",
     "text": [
      "MW comparision: 0.024867783859553842\n"
     ]
    },
    {
     "data": {
      "image/png": "[encoded data removed]",
      "text/plain": [
       "<Figure size 432x288 with 1 Axes>"
      ]
     },
     "metadata": {
      "needs_background": "light"
     },
     "output_type": "display_data"
    }
   ],
   "source": [
    "# For H2ax\n",
    "g1 = analysis_df['normalized_inc_H3K9me2']/analysis_df['normalized_inc_dna']\n",
    "g2 = analysis_df['normalized_subset_control_H3K9me2']/analysis_df['normalized_subset_control_dna']\n",
    "#g3 = no_damaged_chr_df['normalized_inc_Pol2S5']\n",
    "#g4 = analysis_df['normalized_subset_control_Pol2S5']\n",
    "\n",
    "#sp_low = min(len(g1),len(g2),len(g3))\n",
    "#sp_low = min(len(g1),len(g2), len(g3))\n",
    "\n",
    "#g1 = np.random.choice(g1, sp_low)\n",
    "#g2 = np.random.choice(g2, sp_low)\n",
    "#g3 = np.random.choice(g3, sp_low)\n",
    "#g4 = np.random.choice(g4, sp_low)\n",
    "\n",
    "boxplot_pol2= plt.boxplot([g1,g2], meanline = True)\n",
    "\n",
    "\n",
    "vals, xs = [], [] \n",
    "\n",
    "for i, subdf in enumerate([g1,g2]):\n",
    "    #names.append(name)\n",
    "    vals.append(subdf.tolist())\n",
    "    xs.append(np.random.normal(i+1, 0.04, subdf.shape[0]))\n",
    "\n",
    "for x, val in zip(xs, vals):\n",
    "    plt.scatter(x, val,  s = 1, alpha=0.3)\n",
    "\n",
    "\n",
    "from scipy.stats import kruskal\n",
    "#p4 = kruskal(g1,g2,g3,g4)\n",
    "from scipy.stats import mannwhitneyu\n",
    "U1, p1 = mannwhitneyu(g1,g2)\n",
    "\n",
    "print(f\"MW comparision: {p1}\")\n",
    "\n",
    "\n",
    "\n",
    "#print(f\"three samples comparision: {p4}\")"
   ]
  },
  {
   "cell_type": "code",
   "execution_count": 17,
   "metadata": {},
   "outputs": [
    {
     "data": {
      "text/plain": [
       "SpearmanrResult(correlation=0.2398095406298927, pvalue=6.524760989824306e-09)"
      ]
     },
     "execution_count": 17,
     "metadata": {},
     "output_type": "execute_result"
    }
   ],
   "source": [
    "from scipy import stats\n",
    "stats.spearmanr(analysis_df['normalized_inc_Pol2S5'], analysis_df['normalized_inc_H3K9me2'])"
   ]
  },
  {
   "cell_type": "code",
   "execution_count": 18,
   "metadata": {},
   "outputs": [
    {
     "data": {
      "text/plain": [
       "SpearmanrResult(correlation=0.2398095406298927, pvalue=6.524760989824306e-09)"
      ]
     },
     "execution_count": 18,
     "metadata": {},
     "output_type": "execute_result"
    },
    {
     "data": {
      "image/png": "[encoded data removed]",
      "text/plain": [
       "<Figure size 432x288 with 1 Axes>"
      ]
     },
     "metadata": {
      "needs_background": "light"
     },
     "output_type": "display_data"
    }
   ],
   "source": [
    "plt.scatter(x= analysis_df['normalized_inc_Pol2S5'], y =analysis_df['normalized_inc_H3K9me2'])\n",
    "\n",
    "stats.spearmanr(analysis_df['normalized_inc_Pol2S5'], analysis_df['normalized_inc_H3K9me2'])"
   ]
  },
  {
   "cell_type": "code",
   "execution_count": 19,
   "metadata": {},
   "outputs": [
    {
     "data": {
      "text/plain": [
       "SpearmanrResult(correlation=0.2398095406298927, pvalue=6.524760989824306e-09)"
      ]
     },
     "execution_count": 19,
     "metadata": {},
     "output_type": "execute_result"
    },
    {
     "data": {
      "image/png": "[encoded data removed]",
      "text/plain": [
       "<Figure size 432x288 with 1 Axes>"
      ]
     },
     "metadata": {
      "needs_background": "light"
     },
     "output_type": "display_data"
    }
   ],
   "source": [
    "plt.scatter(x= analysis_df['normalized_subset_control_Pol2S5'], y =analysis_df['normalized_subset_control_H3K9me2'])\n",
    "\n",
    "stats.spearmanr(analysis_df['normalized_inc_Pol2S5'], analysis_df['normalized_inc_H3K9me2'])"
   ]
  },
  {
   "cell_type": "code",
   "execution_count": 20,
   "metadata": {},
   "outputs": [
    {
     "data": {
      "text/plain": [
       "SpearmanrResult(correlation=0.08980286926641427, pvalue=0.031910644070711446)"
      ]
     },
     "execution_count": 20,
     "metadata": {},
     "output_type": "execute_result"
    }
   ],
   "source": [
    "stats.spearmanr(analysis_df['normalized_subset_control_Pol2S5'], analysis_df['normalized_subset_control_H3K9me2'])"
   ]
  }
 ],
 "metadata": {
  "kernelspec": {
   "display_name": "Python 3",
   "language": "python",
   "name": "python3"
  },
  "language_info": {
   "codemirror_mode": {
    "name": "ipython",
    "version": 3
   },
   "file_extension": ".py",
   "mimetype": "text/x-python",
   "name": "python",
   "nbconvert_exporter": "python",
   "pygments_lexer": "ipython3",
   "version": "3.7.6"
  }
 },
 "nbformat": 4,
 "nbformat_minor": 4
}

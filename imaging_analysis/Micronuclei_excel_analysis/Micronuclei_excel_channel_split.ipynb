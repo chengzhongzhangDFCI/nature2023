{
 "cells": [
  {
   "cell_type": "code",
   "execution_count": 235,
   "metadata": {},
   "outputs": [],
   "source": [
    "import pandas as pd\n",
    "\n",
    "import os, glob, sys"
   ]
  },
  {
   "cell_type": "code",
   "execution_count": 205,
   "metadata": {},
   "outputs": [],
   "source": [
    "data_folder = r'D:\\Analyzed_CellBio\\Stam\\MN_RO_MPS1'\n"
   ]
  },
  {
   "cell_type": "code",
   "execution_count": 222,
   "metadata": {},
   "outputs": [],
   "source": [
    "\n",
    "excel_savename = r'exp3 raw measurements.xlsx'\n",
    "\n",
    "#excel_savename = r'23h_H3K27me3_PolS5_St-2.xlsx'\n",
    "\n",
    "#excel_savename = r'23h_H3K9me2_PolS5_St-2.xlsx'\n",
    "\n",
    "h3k9_df = pd.read_excel(data_folder + os.sep + excel_savename, index_col =None)"
   ]
  },
  {
   "cell_type": "code",
   "execution_count": 223,
   "metadata": {},
   "outputs": [
    {
     "data": {
      "text/plain": [
       "Index([' Count', 'Label', 'Area', 'Mean', 'ratio'], dtype='object')"
      ]
     },
     "execution_count": 223,
     "metadata": {},
     "output_type": "execute_result"
    }
   ],
   "source": [
    "h3k9_df.columns"
   ]
  },
  {
   "cell_type": "code",
   "execution_count": 224,
   "metadata": {},
   "outputs": [],
   "source": [
    "for i in range(len(h3k9_df)):\n",
    "    \n",
    "    if i%3 == 0:\n",
    "        \n",
    "        h3k9_df.loc[i,'MN/PN'] = ((h3k9_df.iloc[i]['Mean']-h3k9_df.iloc[i+2]['Mean'])/\n",
    "                                    (h3k9_df.iloc[i+1]['Mean']-h3k9_df.iloc[i+2]['Mean']))"
   ]
  },
  {
   "cell_type": "code",
   "execution_count": 225,
   "metadata": {},
   "outputs": [
    {
     "data": {
      "text/plain": [
       "0.5853800682920792"
      ]
     },
     "execution_count": 225,
     "metadata": {},
     "output_type": "execute_result"
    }
   ],
   "source": [
    "h3k9_df['MN/PN'].mean()"
   ]
  },
  {
   "cell_type": "code",
   "execution_count": 226,
   "metadata": {},
   "outputs": [],
   "source": [
    "channel_list = ['blue','green','red','purple']\n",
    "\n",
    "ch1_index = '_C_1'\n",
    "ch1_index = 'w1405'\n",
    "ch1_df = h3k9_df[h3k9_df['Label'].str.contains(ch1_index)]\n",
    "\n",
    "\n",
    "\n",
    "len(ch1_df)\n",
    "\n",
    "ch2_index = '_C_2'\n",
    "ch2_index = 'w2488'\n",
    "ch2_df = h3k9_df[h3k9_df['Label'].str.contains(ch2_index)]\n",
    "\n",
    "len(ch1_df)\n",
    "\n",
    "ch3_index = '_C_3'\n",
    "ch3_index = 'w3561'\n",
    "#ch3_index = 'w3642'\n",
    "ch3_df = h3k9_df[h3k9_df['Label'].str.contains(ch3_index)]\n",
    "\n",
    "len(ch1_df)\n",
    "\n",
    "ch4_index = '_C_4'\n",
    "ch4_index = 'w4642'\n",
    "#ch4_index = 'w3642'\n",
    "ch4_df = h3k9_df[h3k9_df['Label'].str.contains(ch4_index)]\n",
    "\n",
    "len(ch1_df)\n",
    "\n",
    "\n",
    "for channel_name, ch_df in zip (channel_list, [ch1_df,ch2_df,ch3_df,ch4_df]):\n",
    "    \n",
    "    ch_df.to_excel(data_folder + os.sep + excel_savename.split('.xlsx')[0] + f'_{channel_name}_analyzed.xlsx', index =False)"
   ]
  },
  {
   "cell_type": "code",
   "execution_count": 227,
   "metadata": {},
   "outputs": [
    {
     "name": "stdout",
     "output_type": "stream",
     "text": [
      "1.4502101707153543\n",
      "0.11483127422029125\n",
      "0.29530166345100894\n",
      "0.3235782632244087\n"
     ]
    }
   ],
   "source": [
    "print(ch1_df['MN/PN'].median())  # dna\n",
    "\n",
    "print(ch2_df['MN/PN'].median())  # histone mod\n",
    "\n",
    "print(ch3_df['MN/PN'].median())  # nls\n",
    "\n",
    "print(ch4_df['MN/PN'].median())   # Pol2"
   ]
  },
  {
   "cell_type": "code",
   "execution_count": 236,
   "metadata": {},
   "outputs": [],
   "source": [
    "df_combined = pd.read_excel(data_folder+os.sep+\"combined_Pom121_Pol2.xlsx\", index_col=None)"
   ]
  },
  {
   "cell_type": "code",
   "execution_count": 237,
   "metadata": {},
   "outputs": [
    {
     "data": {
      "text/plain": [
       "SpearmanrResult(correlation=0.8327373851571739, pvalue=1.9628151400532991e-59)"
      ]
     },
     "execution_count": 237,
     "metadata": {},
     "output_type": "execute_result"
    },
    {
     "data": {
      "image/png": "[encoded data removed]",
      "text/plain": [
       "<Figure size 432x288 with 1 Axes>"
      ]
     },
     "metadata": {
      "needs_background": "light"
     },
     "output_type": "display_data"
    }
   ],
   "source": [
    "import matplotlib.pyplot as plt\n",
    "\n",
    "plt.scatter(x=df_combined['Pol2'],  y=df_combined['Pom121'], s=0.5)\n",
    "\n",
    "from scipy import stats\n",
    "stats.spearmanr(df_combined['Pol2'],df_combined['Pom121'])"
   ]
  },
  {
   "cell_type": "code",
   "execution_count": 238,
   "metadata": {},
   "outputs": [
    {
     "data": {
      "text/plain": [
       "SpearmanrResult(correlation=0.8327373851571739, pvalue=1.9628151400532991e-59)"
      ]
     },
     "execution_count": 238,
     "metadata": {},
     "output_type": "execute_result"
    },
    {
     "data": {
      "image/png": "[encoded data removed]",
      "text/plain": [
       "<Figure size 432x288 with 1 Axes>"
      ]
     },
     "metadata": {
      "needs_background": "light"
     },
     "output_type": "display_data"
    }
   ],
   "source": [
    "import matplotlib.pyplot as plt\n",
    "\n",
    "plt.scatter(x=df_combined['Pom121'],  y=df_combined['Pol2'], s=0.5)\n",
    "\n",
    "from scipy import stats\n",
    "stats.spearmanr(df_combined['Pol2'],df_combined['Pom121'])"
   ]
  }
 ],
 "metadata": {
  "kernelspec": {
   "display_name": "Python 3",
   "language": "python",
   "name": "python3"
  },
  "language_info": {
   "codemirror_mode": {
    "name": "ipython",
    "version": 3
   },
   "file_extension": ".py",
   "mimetype": "text/x-python",
   "name": "python",
   "nbconvert_exporter": "python",
   "pygments_lexer": "ipython3",
   "version": "3.7.6"
  }
 },
 "nbformat": 4,
 "nbformat_minor": 4
}

{
 "cells": [
  {
   "cell_type": "markdown",
   "metadata": {},
   "source": [
    "# 1. Import required modules and define function"
   ]
  },
  {
   "cell_type": "code",
   "execution_count": 1,
   "metadata": {},
   "outputs": [],
   "source": [
    "import pandas as pd\n",
    "\n",
    "import os, glob, sys\n",
    "\n",
    "# define function for splitting excel\n",
    "def split_channles_for_excel (data_df_fname, \n",
    "                              data_folder,\n",
    "                              #num_of_channel=4, \n",
    "                              info_col_index=0, \n",
    "                              label_col_index=2, \n",
    "                              calculate_ratio=False,\n",
    "                              ratio_col_name=None,\n",
    "                              labelmark = 'channel_index', \n",
    "                              save_excel=True):\n",
    "    \n",
    "    # make subfolder\n",
    "    sub_fdname = os.path.join(data_folder, 'Split_files')\n",
    "    if not os.path.exists(sub_fdname):\n",
    "        os.mkdir(sub_fdname)\n",
    "    \n",
    "    # load df with sheet index non-specified\n",
    "    data_df = pd.read_excel(data_df_fname, None)\n",
    "    # process each sheet\n",
    "    for sheet_name, sheet_df in data_df.items():\n",
    "        print (f'-- Split sheet {sheet_name} for the excel containing ', end='')\n",
    "        \n",
    "        # get channel info: channel must be annotated as format similar to \"1_blue\", \"2_red\", etc\n",
    "        info_col = sheet_df[sheet_df.columns[info_col_index]].to_list()\n",
    "        channel_list = []\n",
    "        for _info in info_col[:10]:\n",
    "            _info = str(_info)\n",
    "            if len(_info.split('_'))==2 and _info.split('_')[0].isnumeric():\n",
    "                channel_list.append(_info.split('_')[1]) \n",
    "        print (f'{len(channel_list)}-channels data.')\n",
    "        \n",
    "        # calculate 'MN/PN ratio [(i1-i3)/(i2-i3)]' if necessary \n",
    "        if calculate_ratio and not isinstance(ratio_col_name,type(None)):\n",
    "            for i in range(len(sheet_df)):\n",
    "                if i%3 == 0 and ratio_col_name in sheet_df.columns:\n",
    "                    sheet_df.loc[i,'MN/PN'] = ((sheet_df.iloc[i][ratio_col_name]-sheet_df.iloc[i+2][ratio_col_name])/\n",
    "                                    (sheet_df.iloc[i+1][ratio_col_name]-sheet_df.iloc[i+2][ratio_col_name]))\n",
    "                else:\n",
    "                    print ('-- data format is not correct; skip MN/PN ratio calculation.')\n",
    "                 \n",
    "                    \n",
    "        # get label column to split by the channel 'landmark'\n",
    "        #ch_index_list = []\n",
    "        if len(channel_list)>0:\n",
    "            for _i, _ch_name in enumerate(channel_list):\n",
    "                if labelmark == 'channel_index':\n",
    "                    ch_index = '_C_' + f'{_i+1}'\n",
    "                    #ch_index_list.append('ch_index)\n",
    "                elif labelmark == 'laser_index':\n",
    "                    ch_index = 'w' + f'{_i+1}'\n",
    "                    #ch_index_list.append('ch_index)\n",
    "                else:\n",
    "                    print ('-- Channel annotation incorrect; skip the excel.')\n",
    "                    return None\n",
    "            \n",
    "                ch_df_index = sheet_df[sheet_df.columns[label_col_index]].str.contains(ch_index)\n",
    "                ch_df = sheet_df[ch_df_index]\n",
    "                ch_df_measure = ch_df[ch_df.columns[1:]]\n",
    "            \n",
    "                if save_excel:\n",
    "                    ch_fname = data_df_fname.split('.xlsx')[0] + f'_{sheet_name}_{_ch_name}_analyzed.xlsx'\n",
    "                    ch_fname_new = ch_fname.replace(data_folder,sub_fdname)\n",
    "                    ch_df_measure.to_excel(ch_fname_new, index =False)\n",
    "                    \n",
    "        else:\n",
    "            print ('-- Channel annotation incorrect; skip the excel.')\n",
    "                \n",
    "    return None"
   ]
  },
  {
   "cell_type": "markdown",
   "metadata": {},
   "source": [
    "## 2. Process all excels  "
   ]
  },
  {
   "cell_type": "code",
   "execution_count": 2,
   "metadata": {},
   "outputs": [
    {
     "name": "stdout",
     "output_type": "stream",
     "text": [
      "-- Found 4 excel files in the folder.\n"
     ]
    }
   ],
   "source": [
    "# replace the path (contating the excels) inside the \"     \" for different analysis\n",
    "data_folder = r\"D:\\Analyzed_CellBio\\Stam\\Revision_exps_p2\\MN_20220803\"\n",
    "\n",
    "data_excel_f_list = [_f for _f in glob.glob(os.path.join(data_folder,\"*\")) if 'xlsx' in _f and 'analyzed' not in _f]\n",
    "print (f'-- Found {len(data_excel_f_list)} excel files in the folder.')"
   ]
  },
  {
   "cell_type": "code",
   "execution_count": 3,
   "metadata": {},
   "outputs": [
    {
     "name": "stdout",
     "output_type": "stream",
     "text": [
      "-- Process D:\\Analyzed_CellBio\\Stam\\Revision_exps_p2\\MN_20220803\\220623IF_220617exp_U2OS_control.xlsx.\n",
      "-- Split sheet Sheet1 for the excel containing 4-channels data.\n",
      "-----------------------------------------------------\n",
      "-----------------------------------------------------\n",
      "-- Process D:\\Analyzed_CellBio\\Stam\\Revision_exps_p2\\MN_20220803\\220623IF_220620exp_U2OS_control.xlsx.\n",
      "-- Split sheet Sheet1 for the excel containing 4-channels data.\n",
      "-----------------------------------------------------\n",
      "-----------------------------------------------------\n",
      "-- Process D:\\Analyzed_CellBio\\Stam\\Revision_exps_p2\\MN_20220803\\220623IF_220621exp_control_asynchr.xlsx.\n",
      "-- Split sheet Sheet1 for the excel containing 4-channels data.\n",
      "-----------------------------------------------------\n",
      "-----------------------------------------------------\n",
      "-- Process D:\\Analyzed_CellBio\\Stam\\Revision_exps_p2\\MN_20220803\\220623IF_220622exp_control_asynchr.xlsx.\n",
      "-- Split sheet Sheet1 for the excel containing 4-channels data.\n",
      "-----------------------------------------------------\n",
      "-----------------------------------------------------\n"
     ]
    }
   ],
   "source": [
    "# run function below\n",
    "\n",
    "for _f in data_excel_f_list[:]:\n",
    "    print (f'-- Process {_f}.')\n",
    "    split_excel = split_channles_for_excel (_f, data_folder,calculate_ratio=True)\n",
    "    print (f'-----------------------------------------------------')\n",
    "    print (f'-----------------------------------------------------')"
   ]
  }
 ],
 "metadata": {
  "kernelspec": {
   "display_name": "Python 3",
   "language": "python",
   "name": "python3"
  },
  "language_info": {
   "codemirror_mode": {
    "name": "ipython",
    "version": 3
   },
   "file_extension": ".py",
   "mimetype": "text/x-python",
   "name": "python",
   "nbconvert_exporter": "python",
   "pygments_lexer": "ipython3",
   "version": "3.7.6"
  },
  "toc": {
   "base_numbering": 1,
   "nav_menu": {},
   "number_sections": false,
   "sideBar": true,
   "skip_h1_title": false,
   "title_cell": "Table of Contents",
   "title_sidebar": "Contents",
   "toc_cell": false,
   "toc_position": {},
   "toc_section_display": true,
   "toc_window_display": true
  },
  "varInspector": {
   "cols": {
    "lenName": 16,
    "lenType": 16,
    "lenVar": 40
   },
   "kernels_config": {
    "python": {
     "delete_cmd_postfix": "",
     "delete_cmd_prefix": "del ",
     "library": "var_list.py",
     "varRefreshCmd": "print(var_dic_list())"
    },
    "r": {
     "delete_cmd_postfix": ") ",
     "delete_cmd_prefix": "rm(",
     "library": "var_list.r",
     "varRefreshCmd": "cat(var_dic_list()) "
    }
   },
   "types_to_exclude": [
    "module",
    "function",
    "builtin_function_or_method",
    "instance",
    "_Feature"
   ],
   "window_display": false
  }
 },
 "nbformat": 4,
 "nbformat_minor": 4
}
